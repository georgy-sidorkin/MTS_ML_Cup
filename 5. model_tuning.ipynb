{
 "cells": [
  {
   "cell_type": "markdown",
   "metadata": {
    "id": "KUPoA3QDglyA"
   },
   "source": [
    "# Импорт библиотек"
   ]
  },
  {
   "cell_type": "code",
   "execution_count": null,
   "metadata": {
    "colab": {
     "base_uri": "https://localhost:8080/"
    },
    "executionInfo": {
     "elapsed": 18327,
     "status": "ok",
     "timestamp": 1680950997075,
     "user": {
      "displayName": "Гоша Сидоркин",
      "userId": "09429149278087224251"
     },
     "user_tz": -240
    },
    "id": "PWAUwg5yILXX",
    "outputId": "3b1b8d4b-2b15-49e5-ac38-c90c452086b8"
   },
   "outputs": [
    {
     "name": "stdout",
     "output_type": "stream",
     "text": [
      "Mounted at /content/drive\n"
     ]
    }
   ],
   "source": [
    "from google.colab import drive\n",
    "drive.mount('/content/drive')"
   ]
  },
  {
   "cell_type": "code",
   "execution_count": null,
   "metadata": {
    "colab": {
     "base_uri": "https://localhost:8080/"
    },
    "executionInfo": {
     "elapsed": 518,
     "status": "ok",
     "timestamp": 1680950998676,
     "user": {
      "displayName": "Гоша Сидоркин",
      "userId": "09429149278087224251"
     },
     "user_tz": -240
    },
    "id": "sDz_Womfg-dq",
    "outputId": "db150827-8698-411e-fd72-e1c83e2734d8"
   },
   "outputs": [
    {
     "name": "stdout",
     "output_type": "stream",
     "text": [
      "/content/drive/MyDrive/MTS ML Cup\n"
     ]
    }
   ],
   "source": [
    "%cd /content/drive/MyDrive/MTS ML Cup"
   ]
  },
  {
   "cell_type": "code",
   "execution_count": null,
   "metadata": {
    "id": "AQILWh_AhAzX"
   },
   "outputs": [],
   "source": [
    "import warnings\n",
    "import os\n",
    "import sys\n",
    "\n",
    "sys.path.insert(0, '/content/drive/MyDrive/MTS ML Cup/src')\n",
    "\n",
    "\n",
    "os.environ['OPENBLAS_NUM_THREADS'] = '1'\n",
    "warnings.filterwarnings('ignore')"
   ]
  },
  {
   "cell_type": "code",
   "execution_count": null,
   "metadata": {
    "id": "IQMNNg1qi9RB"
   },
   "outputs": [],
   "source": [
    "!pip install catboost"
   ]
  },
  {
   "cell_type": "code",
   "execution_count": null,
   "metadata": {
    "id": "zQKsbCRRi9Jk"
   },
   "outputs": [],
   "source": [
    "!pip install lightgbm"
   ]
  },
  {
   "cell_type": "code",
   "execution_count": null,
   "metadata": {
    "id": "eX_QLsxjhc68"
   },
   "outputs": [],
   "source": [
    "import pandas as pd\n",
    "import numpy as np\n",
    "import bisect\n",
    "\n",
    "from catboost import CatBoostClassifier\n",
    "from lightgbm import LGBMClassifier\n",
    "\n",
    "import sklearn.metrics as m\n",
    "from sklearn.model_selection import train_test_split, StratifiedKFold\n",
    "from sklearn.preprocessing import label_binarize\n",
    "from scipy import stats"
   ]
  },
  {
   "cell_type": "code",
   "execution_count": null,
   "metadata": {
    "id": "BYpOJuA6JIhO"
   },
   "outputs": [],
   "source": [
    "from metric_functions import get_metrics_classification, get_metrics_multiclass, check_overfitting_classification, check_overfitting_multiclass"
   ]
  },
  {
   "cell_type": "code",
   "execution_count": null,
   "metadata": {
    "id": "5RRycQYBJQQ-"
   },
   "outputs": [],
   "source": [
    "import seaborn as sns\n",
    "import matplotlib.pyplot as plt\n",
    "\n",
    "%matplotlib inline\n",
    "sns.set_style('darkgrid')"
   ]
  },
  {
   "cell_type": "code",
   "execution_count": null,
   "metadata": {
    "id": "h0S1yPr0gjmh"
   },
   "outputs": [],
   "source": [
    "!pip install optuna"
   ]
  },
  {
   "cell_type": "code",
   "execution_count": null,
   "metadata": {
    "id": "2HQ4xzD_a_uy"
   },
   "outputs": [],
   "source": [
    "import optuna"
   ]
  },
  {
   "cell_type": "code",
   "execution_count": null,
   "metadata": {
    "id": "iq_v6v6Hhc9S"
   },
   "outputs": [],
   "source": [
    "RAND = 42\n",
    "N_FOLDS = 5\n",
    "\n",
    "final_types = {\n",
    "    'user_id': 'int32',\n",
    "    'part_of_day_day': 'int16',\n",
    "    'part_of_day_night': 'int16',\n",
    "    'day_pct': 'float32',\n",
    "    'evening_pct': 'float32',\n",
    "    'morning_pct': 'float32',\n",
    "    'night_pct': 'float32',\n",
    "    'act_days': 'int16',\n",
    "    'avg_req_per_day': 'float32',\n",
    "    'requests_std': 'float32',\n",
    "    'act_days_pct': 'float32',\n",
    "    'cpe_type_cd': 'category',\n",
    "    'cpe_model_os_type': 'category',\n",
    "    'cpe_manufacturer_name': 'category',\n",
    "    'price': 'float32',\n",
    "    'region_cnt': 'int8',\n",
    "    'city_cnt': 'int8',\n",
    "    'url_host_cnt': 'int16',\n",
    "}"
   ]
  },
  {
   "cell_type": "markdown",
   "metadata": {
    "id": "fv6oAU3JgrUH"
   },
   "source": [
    "# Описание задачи"
   ]
  },
  {
   "cell_type": "markdown",
   "metadata": {
    "id": "WgEitoI7g6uD"
   },
   "source": [
    "**В данном jupyter-ноутбуке мы подберем параметры для наиболее перспективных моделей машинного обучения с помощью Optuna**"
   ]
  },
  {
   "cell_type": "markdown",
   "metadata": {
    "id": "N287qy6NhIDw"
   },
   "source": [
    "## О соревновании и данных"
   ]
  },
  {
   "cell_type": "markdown",
   "metadata": {
    "id": "jBiufSoNhNv6"
   },
   "source": [
    "https://ods.ai/competitions/mtsmlcup\n",
    "\n",
    "Задача соревнования\n",
    "- Определение пола и возраста владельца HTTP cookie по истории активности пользователя в интернете на основе синтетических данных.\n",
    "\n",
    "Метрики соревнования:\n",
    "* ROC-AUC – для определения пола, f1 weighted – для определения возраста.\n",
    "* Все решения рассчитываются по формуле -  2 * f1_weighted(по 6 возрастным бакетам) + gini по полу.\n",
    "* Возрастные бакеты (Класс 1 — 19-25, Класс 2 — 26-35, Класс 3 — 36-45, Класс 4 — 46-55, Класс 5 — 56-65, Класс 6 — 66+).\n",
    "\n",
    "Предобработка, аггрегация и создание новых фич произведена в 0.Data_preparing.ipng.\n",
    "Описание колонок аггрегированного файла с данными:\n",
    "* 'part_of_day_day' – кол-во визитов пользователя днем\n",
    "* 'part_of_day_evening' – кол-во визитов пользователя вечером\n",
    "* 'part_of_day_morning' – кол-во визитов пользователя утром\n",
    "* 'part_of_day_night' – кол-во визитов пользователя ночью\n",
    "* 'sum_visits' – кол-во визитов пользователя\n",
    "* 'day_pct' – доля визитов пользователя днем\n",
    "* 'evening_pct' – доля визитов пользователя вечером\n",
    "* 'morning_pct' – доля визитов пользователя утром\n",
    "* 'night_pct' – доля визитов пользователя ночью\n",
    "* 'act_days' – кол-во дней, в которые пользователь совершил визит пользователя\n",
    "* 'request_cnt' - кол-во запросов пользователя\n",
    "* 'avg_req_per_day' - среднее кол-во запросов пользователя\n",
    "* 'period_days' - кол-во дней между первым и последним визитом пользователя\n",
    "* 'request_std' - стандартное отклонение по количеству запросов\n",
    "* 'act_days_pct' - доля дней, когда пользователь совершал визит\n",
    "* 'cpe_type_cd - тип устройства\n",
    "* 'cpe_model_os_type' - операционная система устройства\n",
    "* 'cpe_manufacturer_name' -производитель устройства\n",
    "* 'price' - цена устройства пользователя\n",
    "* 'region_cnt' - кол-во уникальных регионов, из которых был совершен визит\n",
    "* 'city_cnt' - кол-во уникальных городов, из которых был совершен визит\n",
    "* 'url_host_cnt' - кол-во уникальных ссылок, с которых был совершен визит\n",
    "* 'user_id' – ID пользователя\n",
    "\n",
    "* также сгенерированы 300 признаков - эмбеддингов на основании региона, города, url и модели телефона\n",
    "\n",
    "Описание колонок файла с таргетами:\n",
    "\n",
    "* 'age' – Возраст пользователя\n",
    "* 'is_male' – Признак пользователя : мужчина (1-Да, 0-Нет)\n",
    "* 'user_id' – ID пользователя"
   ]
  },
  {
   "cell_type": "markdown",
   "metadata": {
    "id": "Yl8kskuphR91"
   },
   "source": [
    "## Структура проекта"
   ]
  },
  {
   "cell_type": "markdown",
   "metadata": {
    "id": "gTeE8MubhVkj"
   },
   "source": [
    "Данная работа была разделена на несколько jupyter ноутбуков:\n",
    "\n",
    "0. Data_preparing.ipnb - аггрегация отдельных файлов по user_id и склейка в финальный датасет\n",
    "1. EDA.ipynb - исследовательская часть\n",
    "2. baseline.ipynb - бейзлайн модели\n",
    "3. create_embeddings.ipynb - создание эмбеддингов для дальнейшего их использования в качестве фич\n",
    "4. baseline_embeddings.ipynb - бейзлан модели с эмбеддингами\n",
    "5. model_tuning.ipynb - тюнинг наиболее перспективных моделей\n",
    "6. gender_prediction_stacking.ipynb - стекинг моделей для предсказания пола\n"
   ]
  },
  {
   "cell_type": "markdown",
   "metadata": {
    "id": "tdr8MrX0htFn"
   },
   "source": [
    "# Сбор всех данных"
   ]
  },
  {
   "cell_type": "code",
   "execution_count": null,
   "metadata": {
    "id": "Ilbwdkh6hfZb"
   },
   "outputs": [],
   "source": [
    "# id пользователей, которым нужно предсказать пол и возраст\n",
    "id_to_submit = pd.read_parquet('submit.pqt')\n",
    "\n",
    "# таргеты для обучения моделей\n",
    "targets = pd.read_parquet('public_train.pqt')\n",
    "\n",
    "# предобработанные нами данные\n",
    "df = pd.read_csv('data_agg/df_final.csv')"
   ]
  },
  {
   "cell_type": "code",
   "execution_count": null,
   "metadata": {
    "colab": {
     "base_uri": "https://localhost:8080/",
     "height": 206
    },
    "executionInfo": {
     "elapsed": 319,
     "status": "ok",
     "timestamp": 1680884962606,
     "user": {
      "displayName": "Гоша Сидоркин",
      "userId": "09429149278087224251"
     },
     "user_tz": -240
    },
    "id": "GMBlxniqhx1w",
    "outputId": "4103b7cc-a930-4148-8a2f-f6a37ff8b441"
   },
   "outputs": [
    {
     "data": {
      "text/html": [
       "\n",
       "  <div id=\"df-59a52511-1092-462c-bcbf-5be68060c2fc\">\n",
       "    <div class=\"colab-df-container\">\n",
       "      <div>\n",
       "<style scoped>\n",
       "    .dataframe tbody tr th:only-of-type {\n",
       "        vertical-align: middle;\n",
       "    }\n",
       "\n",
       "    .dataframe tbody tr th {\n",
       "        vertical-align: top;\n",
       "    }\n",
       "\n",
       "    .dataframe thead th {\n",
       "        text-align: right;\n",
       "    }\n",
       "</style>\n",
       "<table border=\"1\" class=\"dataframe\">\n",
       "  <thead>\n",
       "    <tr style=\"text-align: right;\">\n",
       "      <th></th>\n",
       "      <th>user_id</th>\n",
       "      <th>part_of_day_day</th>\n",
       "      <th>part_of_day_night</th>\n",
       "      <th>day_pct</th>\n",
       "      <th>evening_pct</th>\n",
       "      <th>morning_pct</th>\n",
       "      <th>night_pct</th>\n",
       "      <th>act_days</th>\n",
       "      <th>avg_req_per_day</th>\n",
       "      <th>requests_std</th>\n",
       "      <th>act_days_pct</th>\n",
       "      <th>cpe_type_cd</th>\n",
       "      <th>cpe_model_os_type</th>\n",
       "      <th>cpe_manufacturer_name</th>\n",
       "      <th>price</th>\n",
       "      <th>region_cnt</th>\n",
       "      <th>city_cnt</th>\n",
       "      <th>url_host_cnt</th>\n",
       "    </tr>\n",
       "  </thead>\n",
       "  <tbody>\n",
       "    <tr>\n",
       "      <th>0</th>\n",
       "      <td>4</td>\n",
       "      <td>199</td>\n",
       "      <td>10</td>\n",
       "      <td>0.336717</td>\n",
       "      <td>0.287648</td>\n",
       "      <td>0.358714</td>\n",
       "      <td>0.016920</td>\n",
       "      <td>20</td>\n",
       "      <td>38.850000</td>\n",
       "      <td>0.647632</td>\n",
       "      <td>0.4650</td>\n",
       "      <td>smartphone</td>\n",
       "      <td>Android</td>\n",
       "      <td>Huawei</td>\n",
       "      <td>12990.0</td>\n",
       "      <td>5</td>\n",
       "      <td>9</td>\n",
       "      <td>108</td>\n",
       "    </tr>\n",
       "    <tr>\n",
       "      <th>1</th>\n",
       "      <td>16</td>\n",
       "      <td>443</td>\n",
       "      <td>137</td>\n",
       "      <td>0.359870</td>\n",
       "      <td>0.260764</td>\n",
       "      <td>0.268075</td>\n",
       "      <td>0.111292</td>\n",
       "      <td>64</td>\n",
       "      <td>39.515625</td>\n",
       "      <td>1.397836</td>\n",
       "      <td>0.8647</td>\n",
       "      <td>smartphone</td>\n",
       "      <td>Android</td>\n",
       "      <td>Samsung</td>\n",
       "      <td>9583.0</td>\n",
       "      <td>1</td>\n",
       "      <td>1</td>\n",
       "      <td>50</td>\n",
       "    </tr>\n",
       "    <tr>\n",
       "      <th>2</th>\n",
       "      <td>18</td>\n",
       "      <td>566</td>\n",
       "      <td>34</td>\n",
       "      <td>0.503111</td>\n",
       "      <td>0.101333</td>\n",
       "      <td>0.365333</td>\n",
       "      <td>0.030222</td>\n",
       "      <td>32</td>\n",
       "      <td>60.937500</td>\n",
       "      <td>1.204972</td>\n",
       "      <td>0.8423</td>\n",
       "      <td>smartphone</td>\n",
       "      <td>Android</td>\n",
       "      <td>Samsung</td>\n",
       "      <td>22887.0</td>\n",
       "      <td>1</td>\n",
       "      <td>2</td>\n",
       "      <td>141</td>\n",
       "    </tr>\n",
       "  </tbody>\n",
       "</table>\n",
       "</div>\n",
       "      <button class=\"colab-df-convert\" onclick=\"convertToInteractive('df-59a52511-1092-462c-bcbf-5be68060c2fc')\"\n",
       "              title=\"Convert this dataframe to an interactive table.\"\n",
       "              style=\"display:none;\">\n",
       "        \n",
       "  <svg xmlns=\"http://www.w3.org/2000/svg\" height=\"24px\"viewBox=\"0 0 24 24\"\n",
       "       width=\"24px\">\n",
       "    <path d=\"M0 0h24v24H0V0z\" fill=\"none\"/>\n",
       "    <path d=\"M18.56 5.44l.94 2.06.94-2.06 2.06-.94-2.06-.94-.94-2.06-.94 2.06-2.06.94zm-11 1L8.5 8.5l.94-2.06 2.06-.94-2.06-.94L8.5 2.5l-.94 2.06-2.06.94zm10 10l.94 2.06.94-2.06 2.06-.94-2.06-.94-.94-2.06-.94 2.06-2.06.94z\"/><path d=\"M17.41 7.96l-1.37-1.37c-.4-.4-.92-.59-1.43-.59-.52 0-1.04.2-1.43.59L10.3 9.45l-7.72 7.72c-.78.78-.78 2.05 0 2.83L4 21.41c.39.39.9.59 1.41.59.51 0 1.02-.2 1.41-.59l7.78-7.78 2.81-2.81c.8-.78.8-2.07 0-2.86zM5.41 20L4 18.59l7.72-7.72 1.47 1.35L5.41 20z\"/>\n",
       "  </svg>\n",
       "      </button>\n",
       "      \n",
       "  <style>\n",
       "    .colab-df-container {\n",
       "      display:flex;\n",
       "      flex-wrap:wrap;\n",
       "      gap: 12px;\n",
       "    }\n",
       "\n",
       "    .colab-df-convert {\n",
       "      background-color: #E8F0FE;\n",
       "      border: none;\n",
       "      border-radius: 50%;\n",
       "      cursor: pointer;\n",
       "      display: none;\n",
       "      fill: #1967D2;\n",
       "      height: 32px;\n",
       "      padding: 0 0 0 0;\n",
       "      width: 32px;\n",
       "    }\n",
       "\n",
       "    .colab-df-convert:hover {\n",
       "      background-color: #E2EBFA;\n",
       "      box-shadow: 0px 1px 2px rgba(60, 64, 67, 0.3), 0px 1px 3px 1px rgba(60, 64, 67, 0.15);\n",
       "      fill: #174EA6;\n",
       "    }\n",
       "\n",
       "    [theme=dark] .colab-df-convert {\n",
       "      background-color: #3B4455;\n",
       "      fill: #D2E3FC;\n",
       "    }\n",
       "\n",
       "    [theme=dark] .colab-df-convert:hover {\n",
       "      background-color: #434B5C;\n",
       "      box-shadow: 0px 1px 3px 1px rgba(0, 0, 0, 0.15);\n",
       "      filter: drop-shadow(0px 1px 2px rgba(0, 0, 0, 0.3));\n",
       "      fill: #FFFFFF;\n",
       "    }\n",
       "  </style>\n",
       "\n",
       "      <script>\n",
       "        const buttonEl =\n",
       "          document.querySelector('#df-59a52511-1092-462c-bcbf-5be68060c2fc button.colab-df-convert');\n",
       "        buttonEl.style.display =\n",
       "          google.colab.kernel.accessAllowed ? 'block' : 'none';\n",
       "\n",
       "        async function convertToInteractive(key) {\n",
       "          const element = document.querySelector('#df-59a52511-1092-462c-bcbf-5be68060c2fc');\n",
       "          const dataTable =\n",
       "            await google.colab.kernel.invokeFunction('convertToInteractive',\n",
       "                                                     [key], {});\n",
       "          if (!dataTable) return;\n",
       "\n",
       "          const docLinkHtml = 'Like what you see? Visit the ' +\n",
       "            '<a target=\"_blank\" href=https://colab.research.google.com/notebooks/data_table.ipynb>data table notebook</a>'\n",
       "            + ' to learn more about interactive tables.';\n",
       "          element.innerHTML = '';\n",
       "          dataTable['output_type'] = 'display_data';\n",
       "          await google.colab.output.renderOutput(dataTable, element);\n",
       "          const docLink = document.createElement('div');\n",
       "          docLink.innerHTML = docLinkHtml;\n",
       "          element.appendChild(docLink);\n",
       "        }\n",
       "      </script>\n",
       "    </div>\n",
       "  </div>\n",
       "  "
      ],
      "text/plain": [
       "   user_id  part_of_day_day  part_of_day_night   day_pct  evening_pct  \\\n",
       "0        4              199                 10  0.336717     0.287648   \n",
       "1       16              443                137  0.359870     0.260764   \n",
       "2       18              566                 34  0.503111     0.101333   \n",
       "\n",
       "   morning_pct  night_pct  act_days  avg_req_per_day  requests_std  \\\n",
       "0     0.358714   0.016920        20        38.850000      0.647632   \n",
       "1     0.268075   0.111292        64        39.515625      1.397836   \n",
       "2     0.365333   0.030222        32        60.937500      1.204972   \n",
       "\n",
       "   act_days_pct cpe_type_cd cpe_model_os_type cpe_manufacturer_name    price  \\\n",
       "0        0.4650  smartphone           Android                Huawei  12990.0   \n",
       "1        0.8647  smartphone           Android               Samsung   9583.0   \n",
       "2        0.8423  smartphone           Android               Samsung  22887.0   \n",
       "\n",
       "   region_cnt  city_cnt  url_host_cnt  \n",
       "0           5         9           108  \n",
       "1           1         1            50  \n",
       "2           1         2           141  "
      ]
     },
     "execution_count": 14,
     "metadata": {},
     "output_type": "execute_result"
    }
   ],
   "source": [
    "df.head(3)"
   ]
  },
  {
   "cell_type": "code",
   "execution_count": null,
   "metadata": {
    "colab": {
     "base_uri": "https://localhost:8080/"
    },
    "executionInfo": {
     "elapsed": 416,
     "status": "ok",
     "timestamp": 1680951036543,
     "user": {
      "displayName": "Гоша Сидоркин",
      "userId": "09429149278087224251"
     },
     "user_tz": -240
    },
    "id": "haYGs5aLhx32",
    "outputId": "2b935a80-2e68-42f6-d15a-e02f9fd8f432"
   },
   "outputs": [
    {
     "data": {
      "text/plain": [
       "user_id                     int32\n",
       "part_of_day_day             int16\n",
       "part_of_day_night           int16\n",
       "day_pct                   float32\n",
       "evening_pct               float32\n",
       "morning_pct               float32\n",
       "night_pct                 float32\n",
       "act_days                    int16\n",
       "avg_req_per_day           float32\n",
       "requests_std              float32\n",
       "act_days_pct              float32\n",
       "cpe_type_cd              category\n",
       "cpe_model_os_type        category\n",
       "cpe_manufacturer_name    category\n",
       "price                     float32\n",
       "region_cnt                   int8\n",
       "city_cnt                     int8\n",
       "url_host_cnt                int16\n",
       "dtype: object"
      ]
     },
     "execution_count": 13,
     "metadata": {},
     "output_type": "execute_result"
    }
   ],
   "source": [
    "# поменяем типы данных, чтобы оптимизировать расход памяти\n",
    "df = df.astype(final_types)\n",
    "df.dtypes"
   ]
  },
  {
   "cell_type": "code",
   "execution_count": null,
   "metadata": {
    "colab": {
     "base_uri": "https://localhost:8080/"
    },
    "executionInfo": {
     "elapsed": 7,
     "status": "ok",
     "timestamp": 1680884975672,
     "user": {
      "displayName": "Гоша Сидоркин",
      "userId": "09429149278087224251"
     },
     "user_tz": -240
    },
    "id": "vjMfws8gimqm",
    "outputId": "bde49879-0437-4953-977c-b472834536d3"
   },
   "outputs": [
    {
     "data": {
      "text/plain": [
       "(415317, 18)"
      ]
     },
     "execution_count": 16,
     "metadata": {},
     "output_type": "execute_result"
    }
   ],
   "source": [
    "df.shape"
   ]
  },
  {
   "cell_type": "code",
   "execution_count": null,
   "metadata": {
    "id": "_hrOKD-xiz6A"
   },
   "outputs": [],
   "source": [
    "# загружаем созданные по url эмбеддинги\n",
    "url_emb = pd.read_csv('embeddings/url_emb.csv')\n",
    "url_emb = url_emb.add_suffix('_url').rename(columns={'user_id_url': 'user_id'})"
   ]
  },
  {
   "cell_type": "code",
   "execution_count": null,
   "metadata": {
    "id": "RuYYxThDjMun"
   },
   "outputs": [],
   "source": [
    "# загружаем созданные по регионам эмбеддинги\n",
    "reg_emb = pd.read_csv('embeddings/reg_emb.csv')\n",
    "reg_emb = reg_emb.add_suffix('_reg').rename(columns={'user_id_reg': 'user_id'})"
   ]
  },
  {
   "cell_type": "code",
   "execution_count": null,
   "metadata": {
    "id": "sigoNRMMjV93"
   },
   "outputs": [],
   "source": [
    "# загружаем созданные по городам эмбеддинги\n",
    "city_emb = pd.read_csv('embeddings/city_emb.csv')\n",
    "city_emb = city_emb.add_suffix('_city').rename(columns={'user_id_city': 'user_id'})"
   ]
  },
  {
   "cell_type": "code",
   "execution_count": null,
   "metadata": {
    "id": "Y0RikZKOjn1v"
   },
   "outputs": [],
   "source": [
    "# загружаем созданные по девайсам эмбеддинги\n",
    "model_emb = pd.read_csv('embeddings/model_emb.csv')\n",
    "model_emb = model_emb.add_suffix('_model').rename(\n",
    "    columns={'user_id_model': 'user_id'})"
   ]
  },
  {
   "cell_type": "code",
   "execution_count": null,
   "metadata": {
    "id": "_waT1Dk6Lqna"
   },
   "outputs": [],
   "source": [
    "# загружаем метрики бейзлайном без эмбеддингов\n",
    "metrics_gender = pd.read_csv('metrics/metrics_gender_embeddings.csv')\n",
    "metrics_age = pd.read_csv('metrics/metrics_age_embeddings.csv')"
   ]
  },
  {
   "cell_type": "markdown",
   "metadata": {
    "id": "7HcNCawoku_3"
   },
   "source": [
    "# Tuning gender prediction"
   ]
  },
  {
   "cell_type": "code",
   "execution_count": null,
   "metadata": {
    "colab": {
     "base_uri": "https://localhost:8080/"
    },
    "executionInfo": {
     "elapsed": 4086,
     "status": "ok",
     "timestamp": 1680885065433,
     "user": {
      "displayName": "Гоша Сидоркин",
      "userId": "09429149278087224251"
     },
     "user_tz": -240
    },
    "id": "PCa5J7SLkm-l",
    "outputId": "14f7ff7d-0c8a-4b41-b7f5-29efd505fffa"
   },
   "outputs": [
    {
     "data": {
      "text/plain": [
       "1    135331\n",
       "0    128994\n",
       "Name: is_male, dtype: int64"
      ]
     },
     "execution_count": 22,
     "metadata": {},
     "output_type": "execute_result"
    }
   ],
   "source": [
    "# создаем датасет для обучения модели\n",
    "df_train = targets.merge(df, how='inner', on=['user_id']) \\\n",
    "                  .merge(url_emb, how='inner', on='user_id') \\\n",
    "                  .merge(city_emb, how='inner', on=['user_id']) \\\n",
    "                  .merge(reg_emb, how='inner', on=['user_id']) \\\n",
    "                  .merge(model_emb, how='inner', on=['user_id'])\n",
    "\n",
    "# удаляем пропуски\n",
    "df_train = df_train[df_train['is_male'] != 'NA']\n",
    "df_train = df_train.dropna()\n",
    "\n",
    "df_train['is_male'] = df_train['is_male'].map(int)\n",
    "df_train['is_male'].value_counts()"
   ]
  },
  {
   "cell_type": "code",
   "execution_count": null,
   "metadata": {
    "colab": {
     "base_uri": "https://localhost:8080/"
    },
    "executionInfo": {
     "elapsed": 1981,
     "status": "ok",
     "timestamp": 1680885075948,
     "user": {
      "displayName": "Гоша Сидоркин",
      "userId": "09429149278087224251"
     },
     "user_tz": -240
    },
    "id": "VrPeCYI2n9vh",
    "outputId": "9a6399fd-ef1e-4e65-f91e-cbf8d0ce824b"
   },
   "outputs": [
    {
     "name": "stdout",
     "output_type": "stream",
     "text": [
      "CPU times: user 1.45 s, sys: 409 ms, total: 1.85 s\n",
      "Wall time: 1.89 s\n"
     ]
    }
   ],
   "source": [
    "# сплит данных на train/validation/test\n",
    "%%time\n",
    "X = df_train.drop(['user_id', 'age', 'is_male'], axis=1)\n",
    "y = df_train['is_male']\n",
    "\n",
    "X_train, X_test, y_train, y_test = train_test_split(X,\n",
    "                                                    y,\n",
    "                                                    test_size=0.2,\n",
    "                                                    shuffle=True,\n",
    "                                                    stratify=y,\n",
    "                                                    random_state=RAND)\n",
    "\n",
    "X_train_, X_val, y_train_, y_val = train_test_split(X_train,\n",
    "                                                    y_train,\n",
    "                                                    test_size=0.16,\n",
    "                                                    shuffle=True,\n",
    "                                                    stratify=y_train,\n",
    "                                                    random_state=RAND)\n",
    "\n",
    "# значение для scale_pos_weight\n",
    "ratio = float(np.sum(y == 0)) / np.sum(y == 1)"
   ]
  },
  {
   "cell_type": "markdown",
   "metadata": {
    "id": "4Mp7q1t-qejH"
   },
   "source": [
    "## LGBM Optuna"
   ]
  },
  {
   "cell_type": "code",
   "execution_count": null,
   "metadata": {
    "id": "oCVklHeFeVO8"
   },
   "outputs": [],
   "source": [
    "# параметры, подобранные с помощью Optuna\n",
    "# будем использовать эти модели в стекинге\n",
    "lgbm_gender_best1 = {\n",
    "    'n_estimators': 1600,\n",
    "    'learning_rate': 0.04323025519185361,\n",
    "    'num_leaves': 900,\n",
    "    'max_depth': 7,\n",
    "    'min_child_samples': 1200,\n",
    "    'reg_alpha': 0,\n",
    "    'reg_lambda': 9,\n",
    "    'min_split_gain': 3,\n",
    "    'subsample': 0.6909275901887844,\n",
    "    'subsample_freq': 1,\n",
    "    'colsample_bytree': 0.34716278523119637,\n",
    "    'scale_pos_weight': 0.9531740695036613,\n",
    "    'random_state': 42\n",
    "}\n",
    "\n",
    "lgbm_gender_params_2 = {\n",
    "    'n_estimators': 2200,\n",
    "    'learning_rate': 0.04667738692602193,\n",
    "    'scale_pos_weight': 0.9531740695036613,\n",
    "    'random_state': 42\n",
    "}\n",
    "\n",
    "lgbm_gender_params_3 = {\n",
    "    'n_estimators': 2600,\n",
    "    'learning_rate': 0.03825929958722602,\n",
    "    'scale_pos_weight': 0.9531740695036613,\n",
    "    'random_state': 42\n",
    "}"
   ]
  },
  {
   "cell_type": "code",
   "execution_count": null,
   "metadata": {
    "id": "b-SLWzx2_1Ny"
   },
   "outputs": [],
   "source": [
    "# функция для поиска оптимальных параметров с помощью Optuna\n",
    "def objective_lgbm(trial, X, y, N_FOLDS, random_state):\n",
    "\n",
    "    lgbm_params = {\n",
    "        # \"n_estimators\": trial.suggest_categorical(\"n_estimators\", [i for i in range(1200, 3501, 100)]),\n",
    "        # \"learning_rate\": trial.suggest_float(\"learning_rate\",\n",
    "        #                                      0.001,\n",
    "        #                                      0.3,\n",
    "        #                                      log=True),\n",
    "        \"n_estimators\":\n",
    "        trial.suggest_categorical(\"n_estimators\", [1600]),\n",
    "        \"learning_rate\":\n",
    "        trial.suggest_categorical(\"learning_rate\", [0.04323025519185361]),\n",
    "        'num_leaves':\n",
    "        trial.suggest_categorical(\"num_leaves\", [900]),\n",
    "        'max_depth':\n",
    "        trial.suggest_categorical(\"max_depth\", [7]),\n",
    "        'min_child_samples':\n",
    "        trial.suggest_categorical(\"min_child_samples\", [1200]),\n",
    "        'reg_alpha':\n",
    "        trial.suggest_categorical(\"reg_alpha\", [0]),\n",
    "        'reg_lambda':\n",
    "        trial.suggest_categorical(\"reg_lambda\", [9]),\n",
    "        'min_split_gain':\n",
    "        trial.suggest_categorical(\"min_split_gain\", [3]),\n",
    "        'subsample':\n",
    "        trial.suggest_categorical(\"subsample\", [0.6909275901887844]),\n",
    "        'subsample_freq':\n",
    "        trial.suggest_categorical(\"subsample_freq\", [1]),\n",
    "        'colsample_bytree':\n",
    "        trial.suggest_categorical(\"colsample_bytree\", [0.34716278523119637]),\n",
    "\n",
    "        # \"num_leaves\": trial.suggest_int(\"num_leaves\", 20, 3000, step=20),\n",
    "        # \"max_depth\": trial.suggest_int(\"max_depth\", 3, 12),\n",
    "        # \"min_child_samples\": trial.suggest_int(\"min_child_samples\",\n",
    "        #                                       100, 50000, step=100),\n",
    "        # \"reg_alpha\": trial.suggest_int(\"reg_alpha\", 0, 100),\n",
    "        # \"reg_lambda\": trial.suggest_int(\"reg_lambda\", 0, 100),\n",
    "        # \"min_split_gain\": trial.suggest_int(\"min_split_gain\", 0, 20),\n",
    "        # \"subsample\": trial.suggest_float(\"subsample\", 0.2, 1.0),\n",
    "        # \"subsample_freq\": trial.suggest_categorical(\"subsample_freq\", [1]),\n",
    "        # \"colsample_bytree\": trial.suggest_float(\"colsample_bytree\", 0.2, 1.0),\n",
    "        \"scale_pos_weight\":\n",
    "        trial.suggest_categorical(\"scale_pos_weight\", [ratio]),\n",
    "        \"random_state\":\n",
    "        trial.suggest_categorical(\"random_state\", [random_state])\n",
    "    }\n",
    "\n",
    "    cv = StratifiedKFold(n_splits=N_FOLDS,\n",
    "                         shuffle=True,\n",
    "                         random_state=random_state)\n",
    "\n",
    "    cv_predicts = np.empty(N_FOLDS)\n",
    "\n",
    "    for idx, (train_idx, test_idx) in enumerate(cv.split(X, y)):\n",
    "        X_train, X_test = X.iloc[train_idx], X.iloc[test_idx]\n",
    "        y_train, y_test = y.iloc[train_idx], y.iloc[test_idx]\n",
    "\n",
    "        pruning_callback = optuna.integration.LightGBMPruningCallback(\n",
    "            trial, \"auc\")\n",
    "\n",
    "        model = LGBMClassifier(**lgbm_params)\n",
    "        model.fit(X_train,\n",
    "                  y_train,\n",
    "                  eval_set=[(X_test, y_test)],\n",
    "                  eval_metric=\"auc\",\n",
    "                  early_stopping_rounds=100,\n",
    "                  callbacks=[pruning_callback],\n",
    "                  verbose=0)\n",
    "\n",
    "        preds_proba = model.predict_proba(X_test)[:, 1]\n",
    "        cv_predicts[idx] = m.roc_auc_score(y_test, preds_proba)\n",
    "\n",
    "        return np.mean(cv_predicts)"
   ]
  },
  {
   "cell_type": "code",
   "execution_count": null,
   "metadata": {
    "colab": {
     "base_uri": "https://localhost:8080/",
     "height": 66,
     "referenced_widgets": [
      "2f7c3ff0db96485cabd679eb91f85f84",
      "23146eb7ee9b489aa585720428cae166",
      "c00dc102ae6c4916bc05c03028e9274b",
      "3f0744873c6146a7b467e523554bda4e",
      "204d9bc758bc448991b7f37556d3d51d",
      "8374f9554c36473dae4df577f95355fb",
      "3916362f17904a8888299e7cd46b28a3",
      "11c6e3b9796c4e71b8e8f4aae5812c5d",
      "2f5a8b0ebc1448d685011676ed55a1ff",
      "e6fad5db2f2b4ca5b318ac16fe7b39c2",
      "fd2eb35590f64f0397bd406463c6b542"
     ]
    },
    "executionInfo": {
     "elapsed": 96131,
     "status": "ok",
     "timestamp": 1680885202545,
     "user": {
      "displayName": "Гоша Сидоркин",
      "userId": "09429149278087224251"
     },
     "user_tz": -240
    },
    "id": "6h10Kko1G6Sv",
    "outputId": "5d2e04b5-633a-480a-8b62-cbb4b7cbf94f"
   },
   "outputs": [
    {
     "name": "stderr",
     "output_type": "stream",
     "text": [
      "\u001b[32m[I 2023-04-07 16:31:46,328]\u001b[0m A new study created in memory with name: LGBM_01\u001b[0m\n"
     ]
    },
    {
     "data": {
      "application/vnd.jupyter.widget-view+json": {
       "model_id": "2f7c3ff0db96485cabd679eb91f85f84",
       "version_major": 2,
       "version_minor": 0
      },
      "text/plain": [
       "  0%|          | 0/1 [00:00<?, ?it/s]"
      ]
     },
     "metadata": {},
     "output_type": "display_data"
    }
   ],
   "source": [
    "# поиск оптимальных параметров\n",
    "study_lgbm = optuna.create_study(direction='maximize', study_name='LGBM_01')\n",
    "\n",
    "\n",
    "def func(trial):\n",
    "    return objective_lgbm(trial,\n",
    "                          X_train,\n",
    "                          y_train,\n",
    "                          N_FOLDS=N_FOLDS,\n",
    "                          random_state=RAND)\n",
    "\n",
    "\n",
    "optuna.logging.set_verbosity(optuna.logging.WARNING)\n",
    "study_lgbm.optimize(func, n_trials=1, show_progress_bar=True)"
   ]
  },
  {
   "cell_type": "code",
   "execution_count": null,
   "metadata": {
    "colab": {
     "base_uri": "https://localhost:8080/"
    },
    "executionInfo": {
     "elapsed": 395,
     "status": "ok",
     "timestamp": 1680885206533,
     "user": {
      "displayName": "Гоша Сидоркин",
      "userId": "09429149278087224251"
     },
     "user_tz": -240
    },
    "id": "xYdHA4aCtvaF",
    "outputId": "4d08e098-0f67-4ba9-928a-2ad2825e8d0c"
   },
   "outputs": [
    {
     "data": {
      "text/plain": [
       "0.47117194903829673"
      ]
     },
     "execution_count": 27,
     "metadata": {},
     "output_type": "execute_result"
    }
   ],
   "source": [
    "study_lgbm.best_value"
   ]
  },
  {
   "cell_type": "code",
   "execution_count": null,
   "metadata": {
    "colab": {
     "base_uri": "https://localhost:8080/"
    },
    "executionInfo": {
     "elapsed": 9,
     "status": "ok",
     "timestamp": 1680885209332,
     "user": {
      "displayName": "Гоша Сидоркин",
      "userId": "09429149278087224251"
     },
     "user_tz": -240
    },
    "id": "947Q0Q6Utv2O",
    "outputId": "ecfb6be7-0893-4826-ce76-f4f9f99c2cc2"
   },
   "outputs": [
    {
     "data": {
      "text/plain": [
       "{'n_estimators': 1600,\n",
       " 'learning_rate': 0.04323025519185361,\n",
       " 'num_leaves': 900,\n",
       " 'max_depth': 7,\n",
       " 'min_child_samples': 1200,\n",
       " 'reg_alpha': 0,\n",
       " 'reg_lambda': 9,\n",
       " 'min_split_gain': 3,\n",
       " 'subsample': 0.6909275901887844,\n",
       " 'subsample_freq': 1,\n",
       " 'colsample_bytree': 0.34716278523119637,\n",
       " 'scale_pos_weight': 0.9531740695036613,\n",
       " 'random_state': 42}"
      ]
     },
     "execution_count": 28,
     "metadata": {},
     "output_type": "execute_result"
    }
   ],
   "source": [
    "study_lgbm.best_params"
   ]
  },
  {
   "cell_type": "code",
   "execution_count": null,
   "metadata": {
    "colab": {
     "base_uri": "https://localhost:8080/",
     "height": 193
    },
    "executionInfo": {
     "elapsed": 172602,
     "status": "ok",
     "timestamp": 1680885386459,
     "user": {
      "displayName": "Гоша Сидоркин",
      "userId": "09429149278087224251"
     },
     "user_tz": -240
    },
    "id": "Nuu4EcpWtv50",
    "outputId": "4430c566-56a3-4338-e302-6cd755bb2a07"
   },
   "outputs": [
    {
     "name": "stdout",
     "output_type": "stream",
     "text": [
      "CPU times: user 9min 43s, sys: 1.76 s, total: 9min 45s\n",
      "Wall time: 2min 52s\n"
     ]
    },
    {
     "data": {
      "text/html": [
       "<style>#sk-container-id-1 {color: black;background-color: white;}#sk-container-id-1 pre{padding: 0;}#sk-container-id-1 div.sk-toggleable {background-color: white;}#sk-container-id-1 label.sk-toggleable__label {cursor: pointer;display: block;width: 100%;margin-bottom: 0;padding: 0.3em;box-sizing: border-box;text-align: center;}#sk-container-id-1 label.sk-toggleable__label-arrow:before {content: \"▸\";float: left;margin-right: 0.25em;color: #696969;}#sk-container-id-1 label.sk-toggleable__label-arrow:hover:before {color: black;}#sk-container-id-1 div.sk-estimator:hover label.sk-toggleable__label-arrow:before {color: black;}#sk-container-id-1 div.sk-toggleable__content {max-height: 0;max-width: 0;overflow: hidden;text-align: left;background-color: #f0f8ff;}#sk-container-id-1 div.sk-toggleable__content pre {margin: 0.2em;color: black;border-radius: 0.25em;background-color: #f0f8ff;}#sk-container-id-1 input.sk-toggleable__control:checked~div.sk-toggleable__content {max-height: 200px;max-width: 100%;overflow: auto;}#sk-container-id-1 input.sk-toggleable__control:checked~label.sk-toggleable__label-arrow:before {content: \"▾\";}#sk-container-id-1 div.sk-estimator input.sk-toggleable__control:checked~label.sk-toggleable__label {background-color: #d4ebff;}#sk-container-id-1 div.sk-label input.sk-toggleable__control:checked~label.sk-toggleable__label {background-color: #d4ebff;}#sk-container-id-1 input.sk-hidden--visually {border: 0;clip: rect(1px 1px 1px 1px);clip: rect(1px, 1px, 1px, 1px);height: 1px;margin: -1px;overflow: hidden;padding: 0;position: absolute;width: 1px;}#sk-container-id-1 div.sk-estimator {font-family: monospace;background-color: #f0f8ff;border: 1px dotted black;border-radius: 0.25em;box-sizing: border-box;margin-bottom: 0.5em;}#sk-container-id-1 div.sk-estimator:hover {background-color: #d4ebff;}#sk-container-id-1 div.sk-parallel-item::after {content: \"\";width: 100%;border-bottom: 1px solid gray;flex-grow: 1;}#sk-container-id-1 div.sk-label:hover label.sk-toggleable__label {background-color: #d4ebff;}#sk-container-id-1 div.sk-serial::before {content: \"\";position: absolute;border-left: 1px solid gray;box-sizing: border-box;top: 0;bottom: 0;left: 50%;z-index: 0;}#sk-container-id-1 div.sk-serial {display: flex;flex-direction: column;align-items: center;background-color: white;padding-right: 0.2em;padding-left: 0.2em;position: relative;}#sk-container-id-1 div.sk-item {position: relative;z-index: 1;}#sk-container-id-1 div.sk-parallel {display: flex;align-items: stretch;justify-content: center;background-color: white;position: relative;}#sk-container-id-1 div.sk-item::before, #sk-container-id-1 div.sk-parallel-item::before {content: \"\";position: absolute;border-left: 1px solid gray;box-sizing: border-box;top: 0;bottom: 0;left: 50%;z-index: -1;}#sk-container-id-1 div.sk-parallel-item {display: flex;flex-direction: column;z-index: 1;position: relative;background-color: white;}#sk-container-id-1 div.sk-parallel-item:first-child::after {align-self: flex-end;width: 50%;}#sk-container-id-1 div.sk-parallel-item:last-child::after {align-self: flex-start;width: 50%;}#sk-container-id-1 div.sk-parallel-item:only-child::after {width: 0;}#sk-container-id-1 div.sk-dashed-wrapped {border: 1px dashed gray;margin: 0 0.4em 0.5em 0.4em;box-sizing: border-box;padding-bottom: 0.4em;background-color: white;}#sk-container-id-1 div.sk-label label {font-family: monospace;font-weight: bold;display: inline-block;line-height: 1.2em;}#sk-container-id-1 div.sk-label-container {text-align: center;}#sk-container-id-1 div.sk-container {/* jupyter's `normalize.less` sets `[hidden] { display: none; }` but bootstrap.min.css set `[hidden] { display: none !important; }` so we also need the `!important` here to be able to override the default hidden behavior on the sphinx rendered scikit-learn.org. See: https://github.com/scikit-learn/scikit-learn/issues/21755 */display: inline-block !important;position: relative;}#sk-container-id-1 div.sk-text-repr-fallback {display: none;}</style><div id=\"sk-container-id-1\" class=\"sk-top-container\"><div class=\"sk-text-repr-fallback\"><pre>LGBMClassifier(colsample_bytree=0.34716278523119637,\n",
       "               learning_rate=0.04323025519185361, max_depth=7,\n",
       "               min_child_samples=1200, min_split_gain=3, n_estimators=1600,\n",
       "               num_leaves=900, random_state=42, reg_alpha=0, reg_lambda=9,\n",
       "               scale_pos_weight=0.9531740695036613,\n",
       "               subsample=0.6909275901887844, subsample_freq=1)</pre><b>In a Jupyter environment, please rerun this cell to show the HTML representation or trust the notebook. <br />On GitHub, the HTML representation is unable to render, please try loading this page with nbviewer.org.</b></div><div class=\"sk-container\" hidden><div class=\"sk-item\"><div class=\"sk-estimator sk-toggleable\"><input class=\"sk-toggleable__control sk-hidden--visually\" id=\"sk-estimator-id-1\" type=\"checkbox\" checked><label for=\"sk-estimator-id-1\" class=\"sk-toggleable__label sk-toggleable__label-arrow\">LGBMClassifier</label><div class=\"sk-toggleable__content\"><pre>LGBMClassifier(colsample_bytree=0.34716278523119637,\n",
       "               learning_rate=0.04323025519185361, max_depth=7,\n",
       "               min_child_samples=1200, min_split_gain=3, n_estimators=1600,\n",
       "               num_leaves=900, random_state=42, reg_alpha=0, reg_lambda=9,\n",
       "               scale_pos_weight=0.9531740695036613,\n",
       "               subsample=0.6909275901887844, subsample_freq=1)</pre></div></div></div></div></div>"
      ],
      "text/plain": [
       "LGBMClassifier(colsample_bytree=0.34716278523119637,\n",
       "               learning_rate=0.04323025519185361, max_depth=7,\n",
       "               min_child_samples=1200, min_split_gain=3, n_estimators=1600,\n",
       "               num_leaves=900, random_state=42, reg_alpha=0, reg_lambda=9,\n",
       "               scale_pos_weight=0.9531740695036613,\n",
       "               subsample=0.6909275901887844, subsample_freq=1)"
      ]
     },
     "execution_count": 29,
     "metadata": {},
     "output_type": "execute_result"
    }
   ],
   "source": [
    "# обучаем LGBM на лучших найденных параметрах\n",
    "%%time\n",
    "lgbm_gender = LGBMClassifier(**study_lgbm.best_params)\n",
    "eval_set = [(X_val, y_val)]\n",
    "\n",
    "lgbm_gender.fit(X_train_,\n",
    "                y_train_,\n",
    "                eval_metric='auc',\n",
    "                eval_set=eval_set,\n",
    "                early_stopping_rounds=100,\n",
    "                verbose=0)"
   ]
  },
  {
   "cell_type": "code",
   "execution_count": null,
   "metadata": {
    "colab": {
     "base_uri": "https://localhost:8080/"
    },
    "executionInfo": {
     "elapsed": 5886,
     "status": "ok",
     "timestamp": 1680885417044,
     "user": {
      "displayName": "Гоша Сидоркин",
      "userId": "09429149278087224251"
     },
     "user_tz": -240
    },
    "id": "9iM3H67Gtv-X",
    "outputId": "79df576b-89ea-4fc6-d8f0-f50b6bf7f9be"
   },
   "outputs": [
    {
     "name": "stdout",
     "output_type": "stream",
     "text": [
      "GINI по полу 0.694\n"
     ]
    }
   ],
   "source": [
    "# итоговый балл соревнования считается по GINI по полу\n",
    "# проверим какой GINI мы получили\n",
    "print(\n",
    "    f'GINI по полу {2 * m.roc_auc_score(y_test, lgbm_gender.predict_proba(X_test)[:,1]) - 1:2.3f}'\n",
    ")"
   ]
  },
  {
   "cell_type": "code",
   "execution_count": null,
   "metadata": {
    "colab": {
     "base_uri": "https://localhost:8080/"
    },
    "executionInfo": {
     "elapsed": 24278,
     "status": "ok",
     "timestamp": 1680885471370,
     "user": {
      "displayName": "Гоша Сидоркин",
      "userId": "09429149278087224251"
     },
     "user_tz": -240
    },
    "id": "M-r7YxlWtwA-",
    "outputId": "44db9f4a-a351-4c2e-8c42-acdce1868971"
   },
   "outputs": [
    {
     "name": "stdout",
     "output_type": "stream",
     "text": [
      "ROC-AUC train = 0.898\n",
      "ROC-AUC test = 0.847\n",
      "delta = 6.03%\n"
     ]
    }
   ],
   "source": [
    "# проверим не переобучилась ли наша модель\n",
    "check_overfitting_classification(lgbm_gender, X_train, y_train, X_test, y_test)"
   ]
  },
  {
   "cell_type": "code",
   "execution_count": null,
   "metadata": {
    "colab": {
     "base_uri": "https://localhost:8080/",
     "height": 297
    },
    "executionInfo": {
     "elapsed": 9282,
     "status": "ok",
     "timestamp": 1680885486693,
     "user": {
      "displayName": "Гоша Сидоркин",
      "userId": "09429149278087224251"
     },
     "user_tz": -240
    },
    "id": "Xp7UDsaatwDd",
    "outputId": "ecd8ab01-e1c3-4a45-e712-373974a4b6b3"
   },
   "outputs": [
    {
     "data": {
      "text/html": [
       "\n",
       "  <div id=\"df-e33c1ac0-792d-4e03-bb1e-61ba8fa07071\">\n",
       "    <div class=\"colab-df-container\">\n",
       "      <div>\n",
       "<style scoped>\n",
       "    .dataframe tbody tr th:only-of-type {\n",
       "        vertical-align: middle;\n",
       "    }\n",
       "\n",
       "    .dataframe tbody tr th {\n",
       "        vertical-align: top;\n",
       "    }\n",
       "\n",
       "    .dataframe thead th {\n",
       "        text-align: right;\n",
       "    }\n",
       "</style>\n",
       "<table border=\"1\" class=\"dataframe\">\n",
       "  <thead>\n",
       "    <tr style=\"text-align: right;\">\n",
       "      <th></th>\n",
       "      <th>model</th>\n",
       "      <th>Precision</th>\n",
       "      <th>Recall</th>\n",
       "      <th>f1</th>\n",
       "      <th>ROC_AUC</th>\n",
       "      <th>GINI</th>\n",
       "    </tr>\n",
       "  </thead>\n",
       "  <tbody>\n",
       "    <tr>\n",
       "      <th>0</th>\n",
       "      <td>LGBMBaseline</td>\n",
       "      <td>0.607814</td>\n",
       "      <td>0.564989</td>\n",
       "      <td>0.585620</td>\n",
       "      <td>0.628592</td>\n",
       "      <td>0.257185</td>\n",
       "    </tr>\n",
       "    <tr>\n",
       "      <th>1</th>\n",
       "      <td>CatBoostBaseline</td>\n",
       "      <td>0.611604</td>\n",
       "      <td>0.565913</td>\n",
       "      <td>0.587872</td>\n",
       "      <td>0.630034</td>\n",
       "      <td>0.260068</td>\n",
       "    </tr>\n",
       "    <tr>\n",
       "      <th>2</th>\n",
       "      <td>XGBoostBaseline</td>\n",
       "      <td>0.606800</td>\n",
       "      <td>0.555863</td>\n",
       "      <td>0.580216</td>\n",
       "      <td>0.623342</td>\n",
       "      <td>0.246683</td>\n",
       "    </tr>\n",
       "    <tr>\n",
       "      <th>3</th>\n",
       "      <td>RandomForestBaseline</td>\n",
       "      <td>0.584381</td>\n",
       "      <td>0.585569</td>\n",
       "      <td>0.584974</td>\n",
       "      <td>0.600485</td>\n",
       "      <td>0.200970</td>\n",
       "    </tr>\n",
       "    <tr>\n",
       "      <th>4</th>\n",
       "      <td>LGBMBaseline_embeddings</td>\n",
       "      <td>0.740106</td>\n",
       "      <td>0.719981</td>\n",
       "      <td>0.729905</td>\n",
       "      <td>0.811624</td>\n",
       "      <td>0.623249</td>\n",
       "    </tr>\n",
       "    <tr>\n",
       "      <th>5</th>\n",
       "      <td>CatBoostBaseline_embeddings</td>\n",
       "      <td>0.770574</td>\n",
       "      <td>0.748282</td>\n",
       "      <td>0.759264</td>\n",
       "      <td>0.843999</td>\n",
       "      <td>0.687998</td>\n",
       "    </tr>\n",
       "    <tr>\n",
       "      <th>6</th>\n",
       "      <td>XGBoostBaseline_embeddings</td>\n",
       "      <td>0.745593</td>\n",
       "      <td>0.728294</td>\n",
       "      <td>0.736842</td>\n",
       "      <td>0.820728</td>\n",
       "      <td>0.641457</td>\n",
       "    </tr>\n",
       "    <tr>\n",
       "      <th>0</th>\n",
       "      <td>LGBM_Optuna_best_params</td>\n",
       "      <td>0.773434</td>\n",
       "      <td>0.752087</td>\n",
       "      <td>0.762611</td>\n",
       "      <td>0.847151</td>\n",
       "      <td>0.694301</td>\n",
       "    </tr>\n",
       "  </tbody>\n",
       "</table>\n",
       "</div>\n",
       "      <button class=\"colab-df-convert\" onclick=\"convertToInteractive('df-e33c1ac0-792d-4e03-bb1e-61ba8fa07071')\"\n",
       "              title=\"Convert this dataframe to an interactive table.\"\n",
       "              style=\"display:none;\">\n",
       "        \n",
       "  <svg xmlns=\"http://www.w3.org/2000/svg\" height=\"24px\"viewBox=\"0 0 24 24\"\n",
       "       width=\"24px\">\n",
       "    <path d=\"M0 0h24v24H0V0z\" fill=\"none\"/>\n",
       "    <path d=\"M18.56 5.44l.94 2.06.94-2.06 2.06-.94-2.06-.94-.94-2.06-.94 2.06-2.06.94zm-11 1L8.5 8.5l.94-2.06 2.06-.94-2.06-.94L8.5 2.5l-.94 2.06-2.06.94zm10 10l.94 2.06.94-2.06 2.06-.94-2.06-.94-.94-2.06-.94 2.06-2.06.94z\"/><path d=\"M17.41 7.96l-1.37-1.37c-.4-.4-.92-.59-1.43-.59-.52 0-1.04.2-1.43.59L10.3 9.45l-7.72 7.72c-.78.78-.78 2.05 0 2.83L4 21.41c.39.39.9.59 1.41.59.51 0 1.02-.2 1.41-.59l7.78-7.78 2.81-2.81c.8-.78.8-2.07 0-2.86zM5.41 20L4 18.59l7.72-7.72 1.47 1.35L5.41 20z\"/>\n",
       "  </svg>\n",
       "      </button>\n",
       "      \n",
       "  <style>\n",
       "    .colab-df-container {\n",
       "      display:flex;\n",
       "      flex-wrap:wrap;\n",
       "      gap: 12px;\n",
       "    }\n",
       "\n",
       "    .colab-df-convert {\n",
       "      background-color: #E8F0FE;\n",
       "      border: none;\n",
       "      border-radius: 50%;\n",
       "      cursor: pointer;\n",
       "      display: none;\n",
       "      fill: #1967D2;\n",
       "      height: 32px;\n",
       "      padding: 0 0 0 0;\n",
       "      width: 32px;\n",
       "    }\n",
       "\n",
       "    .colab-df-convert:hover {\n",
       "      background-color: #E2EBFA;\n",
       "      box-shadow: 0px 1px 2px rgba(60, 64, 67, 0.3), 0px 1px 3px 1px rgba(60, 64, 67, 0.15);\n",
       "      fill: #174EA6;\n",
       "    }\n",
       "\n",
       "    [theme=dark] .colab-df-convert {\n",
       "      background-color: #3B4455;\n",
       "      fill: #D2E3FC;\n",
       "    }\n",
       "\n",
       "    [theme=dark] .colab-df-convert:hover {\n",
       "      background-color: #434B5C;\n",
       "      box-shadow: 0px 1px 3px 1px rgba(0, 0, 0, 0.15);\n",
       "      filter: drop-shadow(0px 1px 2px rgba(0, 0, 0, 0.3));\n",
       "      fill: #FFFFFF;\n",
       "    }\n",
       "  </style>\n",
       "\n",
       "      <script>\n",
       "        const buttonEl =\n",
       "          document.querySelector('#df-e33c1ac0-792d-4e03-bb1e-61ba8fa07071 button.colab-df-convert');\n",
       "        buttonEl.style.display =\n",
       "          google.colab.kernel.accessAllowed ? 'block' : 'none';\n",
       "\n",
       "        async function convertToInteractive(key) {\n",
       "          const element = document.querySelector('#df-e33c1ac0-792d-4e03-bb1e-61ba8fa07071');\n",
       "          const dataTable =\n",
       "            await google.colab.kernel.invokeFunction('convertToInteractive',\n",
       "                                                     [key], {});\n",
       "          if (!dataTable) return;\n",
       "\n",
       "          const docLinkHtml = 'Like what you see? Visit the ' +\n",
       "            '<a target=\"_blank\" href=https://colab.research.google.com/notebooks/data_table.ipynb>data table notebook</a>'\n",
       "            + ' to learn more about interactive tables.';\n",
       "          element.innerHTML = '';\n",
       "          dataTable['output_type'] = 'display_data';\n",
       "          await google.colab.output.renderOutput(dataTable, element);\n",
       "          const docLink = document.createElement('div');\n",
       "          docLink.innerHTML = docLinkHtml;\n",
       "          element.appendChild(docLink);\n",
       "        }\n",
       "      </script>\n",
       "    </div>\n",
       "  </div>\n",
       "  "
      ],
      "text/plain": [
       "                         model  Precision    Recall        f1   ROC_AUC  \\\n",
       "0                 LGBMBaseline   0.607814  0.564989  0.585620  0.628592   \n",
       "1             CatBoostBaseline   0.611604  0.565913  0.587872  0.630034   \n",
       "2              XGBoostBaseline   0.606800  0.555863  0.580216  0.623342   \n",
       "3         RandomForestBaseline   0.584381  0.585569  0.584974  0.600485   \n",
       "4      LGBMBaseline_embeddings   0.740106  0.719981  0.729905  0.811624   \n",
       "5  CatBoostBaseline_embeddings   0.770574  0.748282  0.759264  0.843999   \n",
       "6   XGBoostBaseline_embeddings   0.745593  0.728294  0.736842  0.820728   \n",
       "0      LGBM_Optuna_best_params   0.773434  0.752087  0.762611  0.847151   \n",
       "\n",
       "       GINI  \n",
       "0  0.257185  \n",
       "1  0.260068  \n",
       "2  0.246683  \n",
       "3  0.200970  \n",
       "4  0.623249  \n",
       "5  0.687998  \n",
       "6  0.641457  \n",
       "0  0.694301  "
      ]
     },
     "execution_count": 32,
     "metadata": {},
     "output_type": "execute_result"
    }
   ],
   "source": [
    "# получим итоговые метрики на тестовых данных\n",
    "y_pred_test = lgbm_gender.predict(X_test)\n",
    "y_score_test = lgbm_gender.predict_proba(X_test)\n",
    "\n",
    "metrics_gender = metrics_gender.append(\n",
    "    get_metrics_classification(y_test,\n",
    "                               y_pred_test,\n",
    "                               y_score_test,\n",
    "                               name='LGBM_Optuna_best_params'))\n",
    "metrics_gender"
   ]
  },
  {
   "cell_type": "markdown",
   "metadata": {
    "id": "y_X_aku2-Eob"
   },
   "source": [
    "### Holdout"
   ]
  },
  {
   "cell_type": "code",
   "execution_count": null,
   "metadata": {
    "colab": {
     "base_uri": "https://localhost:8080/"
    },
    "executionInfo": {
     "elapsed": 563843,
     "status": "ok",
     "timestamp": 1680886124681,
     "user": {
      "displayName": "Гоша Сидоркин",
      "userId": "09429149278087224251"
     },
     "user_tz": -240
    },
    "id": "3rXDCjeTtwGN",
    "outputId": "1f5791a7-0a1f-496c-c59b-961899765957"
   },
   "outputs": [
    {
     "name": "stdout",
     "output_type": "stream",
     "text": [
      "id = 0 0.8472792859556377 \n",
      "\n",
      "id = 1 0.8444936618814942 \n",
      "\n",
      "id = 2 0.8466383049917041 \n",
      "\n",
      "id = 3 0.8459967433561042 \n",
      "\n",
      "id = 4 0.8465454982196126 \n",
      "\n",
      "0.8461906988809105\n"
     ]
    }
   ],
   "source": [
    "# используем кросс-валидацию для лучшей модели LightGBM\n",
    "finish_test_preds = []\n",
    "finish_test_preds_proba = []\n",
    "\n",
    "cv = StratifiedKFold(n_splits=N_FOLDS, shuffle=True, random_state=RAND)\n",
    "cv_predicts_val = np.empty(N_FOLDS)\n",
    "\n",
    "for idx, (train_idx, test_idx) in enumerate(cv.split(X_train, y_train)):\n",
    "    X_train_, X_val_ = X_train.iloc[train_idx], X_train.iloc[test_idx]\n",
    "    y_train_, y_val_ = y_train.iloc[train_idx], y_train.iloc[test_idx]\n",
    "\n",
    "    model = LGBMClassifier(**study_lgbm.best_params)\n",
    "    model.fit(X_train_, y_train_)\n",
    "\n",
    "    # OOF\n",
    "    preds_val_proba = model.predict_proba(X_val_)[:, 1]\n",
    "    cv_predicts_val[idx] = m.roc_auc_score(y_val_, preds_val_proba)\n",
    "\n",
    "    # holdout\n",
    "    preds_test = model.predict(X_test)\n",
    "    preds_test_proba = model.predict_proba(X_test)\n",
    "\n",
    "    finish_test_preds.append(preds_test)\n",
    "    finish_test_preds_proba.append(preds_test_proba)\n",
    "\n",
    "    print(f\"id = {idx}\", cv_predicts_val[idx], '\\n')\n",
    "\n",
    "print(np.mean(cv_predicts_val))"
   ]
  },
  {
   "cell_type": "code",
   "execution_count": null,
   "metadata": {
    "id": "4WSW49hQtwI9"
   },
   "outputs": [],
   "source": [
    "# находим моду по классам\n",
    "test_pred = stats.mode(np.column_stack(finish_test_preds), axis=1)[0]\n",
    "# находим среднее по вероятностям\n",
    "test_pred_proba = np.mean(finish_test_preds_proba, axis=0)"
   ]
  },
  {
   "cell_type": "code",
   "execution_count": null,
   "metadata": {
    "colab": {
     "base_uri": "https://localhost:8080/"
    },
    "executionInfo": {
     "elapsed": 493,
     "status": "ok",
     "timestamp": 1680886126146,
     "user": {
      "displayName": "Гоша Сидоркин",
      "userId": "09429149278087224251"
     },
     "user_tz": -240
    },
    "id": "-r1ZrwIDtwLJ",
    "outputId": "b33a85e0-d1d9-4f59-cbf1-87d91332c053"
   },
   "outputs": [
    {
     "name": "stdout",
     "output_type": "stream",
     "text": [
      "ROC-AUC mean OOF: 0.846, std: 0.001\n",
      "ROC-AUC HOLDOUT: 0.851\n"
     ]
    }
   ],
   "source": [
    "print('ROC-AUC mean OOF: %.3f, std: %.3f' %\n",
    "      (np.mean(cv_predicts_val), np.std(cv_predicts_val)))\n",
    "print('ROC-AUC HOLDOUT: %.3f' % m.roc_auc_score(y_test, test_pred_proba[:, 1]))"
   ]
  },
  {
   "cell_type": "code",
   "execution_count": null,
   "metadata": {
    "colab": {
     "base_uri": "https://localhost:8080/",
     "height": 328
    },
    "executionInfo": {
     "elapsed": 18,
     "status": "ok",
     "timestamp": 1680886126147,
     "user": {
      "displayName": "Гоша Сидоркин",
      "userId": "09429149278087224251"
     },
     "user_tz": -240
    },
    "id": "as29N_T9twOF",
    "outputId": "049e1314-b9ca-4e22-e626-fa0a73ce3d4b"
   },
   "outputs": [
    {
     "data": {
      "text/html": [
       "\n",
       "  <div id=\"df-cacde51a-4c74-4cb5-899f-47d691173f34\">\n",
       "    <div class=\"colab-df-container\">\n",
       "      <div>\n",
       "<style scoped>\n",
       "    .dataframe tbody tr th:only-of-type {\n",
       "        vertical-align: middle;\n",
       "    }\n",
       "\n",
       "    .dataframe tbody tr th {\n",
       "        vertical-align: top;\n",
       "    }\n",
       "\n",
       "    .dataframe thead th {\n",
       "        text-align: right;\n",
       "    }\n",
       "</style>\n",
       "<table border=\"1\" class=\"dataframe\">\n",
       "  <thead>\n",
       "    <tr style=\"text-align: right;\">\n",
       "      <th></th>\n",
       "      <th>model</th>\n",
       "      <th>Precision</th>\n",
       "      <th>Recall</th>\n",
       "      <th>f1</th>\n",
       "      <th>ROC_AUC</th>\n",
       "      <th>GINI</th>\n",
       "    </tr>\n",
       "  </thead>\n",
       "  <tbody>\n",
       "    <tr>\n",
       "      <th>0</th>\n",
       "      <td>LGBMBaseline</td>\n",
       "      <td>0.607814</td>\n",
       "      <td>0.564989</td>\n",
       "      <td>0.585620</td>\n",
       "      <td>0.628592</td>\n",
       "      <td>0.257185</td>\n",
       "    </tr>\n",
       "    <tr>\n",
       "      <th>1</th>\n",
       "      <td>CatBoostBaseline</td>\n",
       "      <td>0.611604</td>\n",
       "      <td>0.565913</td>\n",
       "      <td>0.587872</td>\n",
       "      <td>0.630034</td>\n",
       "      <td>0.260068</td>\n",
       "    </tr>\n",
       "    <tr>\n",
       "      <th>2</th>\n",
       "      <td>XGBoostBaseline</td>\n",
       "      <td>0.606800</td>\n",
       "      <td>0.555863</td>\n",
       "      <td>0.580216</td>\n",
       "      <td>0.623342</td>\n",
       "      <td>0.246683</td>\n",
       "    </tr>\n",
       "    <tr>\n",
       "      <th>3</th>\n",
       "      <td>RandomForestBaseline</td>\n",
       "      <td>0.584381</td>\n",
       "      <td>0.585569</td>\n",
       "      <td>0.584974</td>\n",
       "      <td>0.600485</td>\n",
       "      <td>0.200970</td>\n",
       "    </tr>\n",
       "    <tr>\n",
       "      <th>4</th>\n",
       "      <td>LGBMBaseline_embeddings</td>\n",
       "      <td>0.740106</td>\n",
       "      <td>0.719981</td>\n",
       "      <td>0.729905</td>\n",
       "      <td>0.811624</td>\n",
       "      <td>0.623249</td>\n",
       "    </tr>\n",
       "    <tr>\n",
       "      <th>5</th>\n",
       "      <td>CatBoostBaseline_embeddings</td>\n",
       "      <td>0.770574</td>\n",
       "      <td>0.748282</td>\n",
       "      <td>0.759264</td>\n",
       "      <td>0.843999</td>\n",
       "      <td>0.687998</td>\n",
       "    </tr>\n",
       "    <tr>\n",
       "      <th>6</th>\n",
       "      <td>XGBoostBaseline_embeddings</td>\n",
       "      <td>0.745593</td>\n",
       "      <td>0.728294</td>\n",
       "      <td>0.736842</td>\n",
       "      <td>0.820728</td>\n",
       "      <td>0.641457</td>\n",
       "    </tr>\n",
       "    <tr>\n",
       "      <th>0</th>\n",
       "      <td>LGBM_Optuna_best_params</td>\n",
       "      <td>0.773434</td>\n",
       "      <td>0.752087</td>\n",
       "      <td>0.762611</td>\n",
       "      <td>0.847151</td>\n",
       "      <td>0.694301</td>\n",
       "    </tr>\n",
       "    <tr>\n",
       "      <th>0</th>\n",
       "      <td>LGBM_Optuna_Holdout_best_params</td>\n",
       "      <td>0.776647</td>\n",
       "      <td>0.755671</td>\n",
       "      <td>0.766016</td>\n",
       "      <td>0.850550</td>\n",
       "      <td>0.701099</td>\n",
       "    </tr>\n",
       "  </tbody>\n",
       "</table>\n",
       "</div>\n",
       "      <button class=\"colab-df-convert\" onclick=\"convertToInteractive('df-cacde51a-4c74-4cb5-899f-47d691173f34')\"\n",
       "              title=\"Convert this dataframe to an interactive table.\"\n",
       "              style=\"display:none;\">\n",
       "        \n",
       "  <svg xmlns=\"http://www.w3.org/2000/svg\" height=\"24px\"viewBox=\"0 0 24 24\"\n",
       "       width=\"24px\">\n",
       "    <path d=\"M0 0h24v24H0V0z\" fill=\"none\"/>\n",
       "    <path d=\"M18.56 5.44l.94 2.06.94-2.06 2.06-.94-2.06-.94-.94-2.06-.94 2.06-2.06.94zm-11 1L8.5 8.5l.94-2.06 2.06-.94-2.06-.94L8.5 2.5l-.94 2.06-2.06.94zm10 10l.94 2.06.94-2.06 2.06-.94-2.06-.94-.94-2.06-.94 2.06-2.06.94z\"/><path d=\"M17.41 7.96l-1.37-1.37c-.4-.4-.92-.59-1.43-.59-.52 0-1.04.2-1.43.59L10.3 9.45l-7.72 7.72c-.78.78-.78 2.05 0 2.83L4 21.41c.39.39.9.59 1.41.59.51 0 1.02-.2 1.41-.59l7.78-7.78 2.81-2.81c.8-.78.8-2.07 0-2.86zM5.41 20L4 18.59l7.72-7.72 1.47 1.35L5.41 20z\"/>\n",
       "  </svg>\n",
       "      </button>\n",
       "      \n",
       "  <style>\n",
       "    .colab-df-container {\n",
       "      display:flex;\n",
       "      flex-wrap:wrap;\n",
       "      gap: 12px;\n",
       "    }\n",
       "\n",
       "    .colab-df-convert {\n",
       "      background-color: #E8F0FE;\n",
       "      border: none;\n",
       "      border-radius: 50%;\n",
       "      cursor: pointer;\n",
       "      display: none;\n",
       "      fill: #1967D2;\n",
       "      height: 32px;\n",
       "      padding: 0 0 0 0;\n",
       "      width: 32px;\n",
       "    }\n",
       "\n",
       "    .colab-df-convert:hover {\n",
       "      background-color: #E2EBFA;\n",
       "      box-shadow: 0px 1px 2px rgba(60, 64, 67, 0.3), 0px 1px 3px 1px rgba(60, 64, 67, 0.15);\n",
       "      fill: #174EA6;\n",
       "    }\n",
       "\n",
       "    [theme=dark] .colab-df-convert {\n",
       "      background-color: #3B4455;\n",
       "      fill: #D2E3FC;\n",
       "    }\n",
       "\n",
       "    [theme=dark] .colab-df-convert:hover {\n",
       "      background-color: #434B5C;\n",
       "      box-shadow: 0px 1px 3px 1px rgba(0, 0, 0, 0.15);\n",
       "      filter: drop-shadow(0px 1px 2px rgba(0, 0, 0, 0.3));\n",
       "      fill: #FFFFFF;\n",
       "    }\n",
       "  </style>\n",
       "\n",
       "      <script>\n",
       "        const buttonEl =\n",
       "          document.querySelector('#df-cacde51a-4c74-4cb5-899f-47d691173f34 button.colab-df-convert');\n",
       "        buttonEl.style.display =\n",
       "          google.colab.kernel.accessAllowed ? 'block' : 'none';\n",
       "\n",
       "        async function convertToInteractive(key) {\n",
       "          const element = document.querySelector('#df-cacde51a-4c74-4cb5-899f-47d691173f34');\n",
       "          const dataTable =\n",
       "            await google.colab.kernel.invokeFunction('convertToInteractive',\n",
       "                                                     [key], {});\n",
       "          if (!dataTable) return;\n",
       "\n",
       "          const docLinkHtml = 'Like what you see? Visit the ' +\n",
       "            '<a target=\"_blank\" href=https://colab.research.google.com/notebooks/data_table.ipynb>data table notebook</a>'\n",
       "            + ' to learn more about interactive tables.';\n",
       "          element.innerHTML = '';\n",
       "          dataTable['output_type'] = 'display_data';\n",
       "          await google.colab.output.renderOutput(dataTable, element);\n",
       "          const docLink = document.createElement('div');\n",
       "          docLink.innerHTML = docLinkHtml;\n",
       "          element.appendChild(docLink);\n",
       "        }\n",
       "      </script>\n",
       "    </div>\n",
       "  </div>\n",
       "  "
      ],
      "text/plain": [
       "                             model  Precision    Recall        f1   ROC_AUC  \\\n",
       "0                     LGBMBaseline   0.607814  0.564989  0.585620  0.628592   \n",
       "1                 CatBoostBaseline   0.611604  0.565913  0.587872  0.630034   \n",
       "2                  XGBoostBaseline   0.606800  0.555863  0.580216  0.623342   \n",
       "3             RandomForestBaseline   0.584381  0.585569  0.584974  0.600485   \n",
       "4          LGBMBaseline_embeddings   0.740106  0.719981  0.729905  0.811624   \n",
       "5      CatBoostBaseline_embeddings   0.770574  0.748282  0.759264  0.843999   \n",
       "6       XGBoostBaseline_embeddings   0.745593  0.728294  0.736842  0.820728   \n",
       "0          LGBM_Optuna_best_params   0.773434  0.752087  0.762611  0.847151   \n",
       "0  LGBM_Optuna_Holdout_best_params   0.776647  0.755671  0.766016  0.850550   \n",
       "\n",
       "       GINI  \n",
       "0  0.257185  \n",
       "1  0.260068  \n",
       "2  0.246683  \n",
       "3  0.200970  \n",
       "4  0.623249  \n",
       "5  0.687998  \n",
       "6  0.641457  \n",
       "0  0.694301  \n",
       "0  0.701099  "
      ]
     },
     "execution_count": 36,
     "metadata": {},
     "output_type": "execute_result"
    }
   ],
   "source": [
    "# получим итоговые метрики на тестовых данных\n",
    "metrics_gender = metrics_gender.append(\n",
    "    get_metrics_classification(y_test,\n",
    "                               test_pred,\n",
    "                               test_pred_proba,\n",
    "                               name='LGBM_Optuna_Holdout_best_params'))\n",
    "metrics_gender"
   ]
  },
  {
   "cell_type": "markdown",
   "metadata": {
    "id": "c1QPXa7SFgUV"
   },
   "source": [
    "С помощью Optuna и кросс-валидации удалось улучшить метрики, в дальнейшем будем использовать эту модель для стейкинга"
   ]
  },
  {
   "cell_type": "markdown",
   "metadata": {
    "id": "U_wKEQ_ctxbg"
   },
   "source": [
    "## CatBoost Optuna"
   ]
  },
  {
   "cell_type": "code",
   "execution_count": null,
   "metadata": {
    "id": "wFZ1yfqXDur3"
   },
   "outputs": [],
   "source": [
    "# лучшие параметры, подобранные с помощью Optuna\n",
    "# будем использовать эту модель в стекинге\n",
    "cat_gender_best = {\n",
    "    'iterations': 3000,\n",
    "    'learning_rate': 0.051418504137325544,\n",
    "    'max_depth': 4,\n",
    "    'colsample_bylevel': 0.7594434568905333,\n",
    "    'l2_leaf_reg': 57.13098420673366,\n",
    "    'random_strength': 30.89358906898957,\n",
    "    'bootstrap_type': 'No',\n",
    "    'border_count': 128,\n",
    "    'grow_policy': 'Lossguide',\n",
    "    'od_wait': 1886,\n",
    "    'leaf_estimation_iterations': 15,\n",
    "    'eval_metric': 'AUC',\n",
    "    'scale_pos_weight': 0.9531740695036613,\n",
    "    'random_state': 42\n",
    "}"
   ]
  },
  {
   "cell_type": "code",
   "execution_count": null,
   "metadata": {
    "id": "n-ab-0PCRbKx"
   },
   "outputs": [],
   "source": [
    "from catboost import Pool\n",
    "\n",
    "# функция для поиска оптимальных параметров с помощью Optuna\n",
    "def objective_cat(trial, X, y, N_FOLDS, random_state):\n",
    "\n",
    "    cat_params = {\n",
    "        \"iterations\":\n",
    "        trial.suggest_categorical(\"iterations\", [3000]),\n",
    "        # \"learning_rate\": trial.suggest_float(\"learning_rate\",\n",
    "        #                                      0.001,\n",
    "        #                                      0.3,\n",
    "        #                                      log=True),\n",
    "        \"learning_rate\":\n",
    "        trial.suggest_categorical(\"learning_rate\", [0.051418504137325544]),\n",
    "        \"max_depth\":\n",
    "        trial.suggest_int(\"max_depth\", 4, 10),\n",
    "        \"colsample_bylevel\":\n",
    "        trial.suggest_float(\"colsample_bylevel\", 0.5, 1.0),\n",
    "        \"l2_leaf_reg\":\n",
    "        trial.suggest_uniform(\"l2_leaf_reg\", 1e-5, 1e2),\n",
    "        \"random_strength\":\n",
    "        trial.suggest_uniform('random_strength', 10, 50),\n",
    "        \"bootstrap_type\":\n",
    "        trial.suggest_categorical(\"bootstrap_type\",\n",
    "                                  [\"Bayesian\", \"Bernoulli\", \"MVS\", \"No\"]),\n",
    "        \"border_count\":\n",
    "        trial.suggest_categorical('border_count', [128, 254]),\n",
    "        \"grow_policy\":\n",
    "        trial.suggest_categorical('grow_policy',\n",
    "                                  [\"SymmetricTree\", \"Depthwise\", \"Lossguide\"]),\n",
    "        \"od_wait\":\n",
    "        trial.suggest_int('od_wait', 500, 2000),\n",
    "        \"leaf_estimation_iterations\":\n",
    "        trial.suggest_int('leaf_estimation_iterations', 1, 15),\n",
    "        \"use_best_model\":\n",
    "        trial.suggest_categorical(\"use_best_model\", [True]),\n",
    "        \"eval_metric\":\n",
    "        trial.suggest_categorical(\"eval_metric\", ['AUC']),\n",
    "        \"scale_pos_weight\":\n",
    "        trial.suggest_categorical(\"scale_pos_weight\", [ratio]),\n",
    "        \"random_state\":\n",
    "        trial.suggest_categorical(\"random_state\", [random_state])\n",
    "    }\n",
    "\n",
    "    if cat_params[\"bootstrap_type\"] == \"Bayesian\":\n",
    "        cat_params[\"bagging_temperature\"] = trial.suggest_float(\n",
    "            \"bagging_temperature\", 0, 100)\n",
    "    elif cat_params[\"bootstrap_type\"] == \"Bernoulli\":\n",
    "        cat_params[\"subsample\"] = trial.suggest_float(\"subsample\",\n",
    "                                                      0.1,\n",
    "                                                      1,\n",
    "                                                      log=True)\n",
    "\n",
    "    cv = StratifiedKFold(n_splits=N_FOLDS,\n",
    "                         shuffle=True,\n",
    "                         random_state=random_state)\n",
    "\n",
    "    cv_predicts = np.empty(N_FOLDS)\n",
    "\n",
    "    for idx, (train_idx, test_idx) in enumerate(cv.split(X, y)):\n",
    "        X_train, X_test = X.iloc[train_idx], X.iloc[test_idx]\n",
    "        y_train, y_test = y.iloc[train_idx], y.iloc[test_idx]\n",
    "\n",
    "        train_data = Pool(data=X_train, label=y_train)\n",
    "        eval_data = Pool(data=X_test, label=y_test)\n",
    "\n",
    "        model = CatBoostClassifier(**cat_params)\n",
    "        model.fit(train_data,\n",
    "                  eval_set=eval_data,\n",
    "                  early_stopping_rounds=100,\n",
    "                  verbose=0)\n",
    "\n",
    "        preds_proba = model.predict_proba(X_test)[:, 1]\n",
    "        cv_predicts[idx] = m.roc_auc_score(y_test, preds_proba)\n",
    "\n",
    "        return np.mean(cv_predicts)"
   ]
  },
  {
   "cell_type": "code",
   "execution_count": null,
   "metadata": {
    "id": "QTJOIt7nRbHc"
   },
   "outputs": [],
   "source": [
    "# поиск оптимальных параметров\n",
    "%%time\n",
    "study_cat = optuna.create_study(\n",
    "    direction=\"maximize\",\n",
    "    pruner=optuna.pruners.SuccessiveHalvingPruner(),\n",
    "    study_name=\"Cat_01\")\n",
    "\n",
    "\n",
    "def func(trial):\n",
    "    return objective_cat(trial,\n",
    "                         X_train,\n",
    "                         y_train,\n",
    "                         N_FOLDS=N_FOLDS,\n",
    "                         random_state=RAND)\n",
    "\n",
    "\n",
    "study_cat.optimize(func, n_trials=10, show_progress_bar=True)"
   ]
  },
  {
   "cell_type": "code",
   "execution_count": null,
   "metadata": {
    "colab": {
     "base_uri": "https://localhost:8080/"
    },
    "executionInfo": {
     "elapsed": 685,
     "status": "ok",
     "timestamp": 1679259383160,
     "user": {
      "displayName": "Гоша Сидоркин",
      "userId": "09429149278087224251"
     },
     "user_tz": -240
    },
    "id": "mBdl-R3HRbEH",
    "outputId": "3428fe54-e20d-4d5e-cfc2-ac8e611604ea"
   },
   "outputs": [
    {
     "data": {
      "text/plain": [
       "0.696486982417721"
      ]
     },
     "execution_count": 30,
     "metadata": {},
     "output_type": "execute_result"
    }
   ],
   "source": [
    "study_cat.best_value"
   ]
  },
  {
   "cell_type": "code",
   "execution_count": null,
   "metadata": {
    "colab": {
     "base_uri": "https://localhost:8080/"
    },
    "executionInfo": {
     "elapsed": 8,
     "status": "ok",
     "timestamp": 1679259385222,
     "user": {
      "displayName": "Гоша Сидоркин",
      "userId": "09429149278087224251"
     },
     "user_tz": -240
    },
    "id": "4HkOKSOsRbAo",
    "outputId": "94fe5398-adfd-4a10-a877-cc04c2d66515"
   },
   "outputs": [
    {
     "data": {
      "text/plain": [
       "{'iterations': 3000,\n",
       " 'learning_rate': 0.051418504137325544,\n",
       " 'max_depth': 4,\n",
       " 'colsample_bylevel': 0.7594434568905333,\n",
       " 'l2_leaf_reg': 57.13098420673366,\n",
       " 'random_strength': 30.89358906898957,\n",
       " 'bootstrap_type': 'No',\n",
       " 'border_count': 128,\n",
       " 'grow_policy': 'Lossguide',\n",
       " 'od_wait': 1886,\n",
       " 'leaf_estimation_iterations': 15,\n",
       " 'use_best_model': True,\n",
       " 'eval_metric': 'AUC',\n",
       " 'scale_pos_weight': 0.9531740695036613,\n",
       " 'random_state': 42}"
      ]
     },
     "execution_count": 31,
     "metadata": {},
     "output_type": "execute_result"
    }
   ],
   "source": [
    "study_cat.best_params"
   ]
  },
  {
   "cell_type": "code",
   "execution_count": null,
   "metadata": {
    "colab": {
     "base_uri": "https://localhost:8080/"
    },
    "executionInfo": {
     "elapsed": 1188109,
     "status": "ok",
     "timestamp": 1680887530096,
     "user": {
      "displayName": "Гоша Сидоркин",
      "userId": "09429149278087224251"
     },
     "user_tz": -240
    },
    "id": "GYYxRH6uRa-C",
    "outputId": "d7ea0c7c-6e5f-4733-dc7e-3c8b6fcf06d6"
   },
   "outputs": [
    {
     "name": "stdout",
     "output_type": "stream",
     "text": [
      "CPU times: user 1h 7min 17s, sys: 48 s, total: 1h 8min 5s\n",
      "Wall time: 19min 47s\n"
     ]
    },
    {
     "data": {
      "text/plain": [
       "<catboost.core.CatBoostClassifier at 0x7f8b7a7c4fd0>"
      ]
     },
     "execution_count": 38,
     "metadata": {},
     "output_type": "execute_result"
    }
   ],
   "source": [
    "# обучаем CatBoost на лучших найденных параметрах\n",
    "%%time\n",
    "cat_features = X.select_dtypes('category').columns.tolist()\n",
    "cat_gender = CatBoostClassifier(cat_features=cat_features, **cat_gender_best)\n",
    "eval_set = [(X_val, y_val)]\n",
    "\n",
    "cat_gender.fit(X_train_,\n",
    "               y_train_,\n",
    "               eval_set=eval_set,\n",
    "               verbose=False,\n",
    "               early_stopping_rounds=100)"
   ]
  },
  {
   "cell_type": "code",
   "execution_count": null,
   "metadata": {
    "colab": {
     "base_uri": "https://localhost:8080/"
    },
    "executionInfo": {
     "elapsed": 2540,
     "status": "ok",
     "timestamp": 1680887533630,
     "user": {
      "displayName": "Гоша Сидоркин",
      "userId": "09429149278087224251"
     },
     "user_tz": -240
    },
    "id": "PZ3cPx3mRa78",
    "outputId": "e7e891e4-088a-40d6-c826-d5983b3e49ac"
   },
   "outputs": [
    {
     "name": "stdout",
     "output_type": "stream",
     "text": [
      "GINI по полу 0.694\n"
     ]
    }
   ],
   "source": [
    "print(\n",
    "    f'GINI по полу {2 * m.roc_auc_score(y_test, cat_gender.predict_proba(X_test)[:,1]) - 1:2.3f}'\n",
    ")"
   ]
  },
  {
   "cell_type": "code",
   "execution_count": null,
   "metadata": {
    "colab": {
     "base_uri": "https://localhost:8080/"
    },
    "executionInfo": {
     "elapsed": 6940,
     "status": "ok",
     "timestamp": 1680887540560,
     "user": {
      "displayName": "Гоша Сидоркин",
      "userId": "09429149278087224251"
     },
     "user_tz": -240
    },
    "id": "Q6LHuAWoRa5V",
    "outputId": "ef38ba3d-6953-4066-ec28-1a2c83696260"
   },
   "outputs": [
    {
     "name": "stdout",
     "output_type": "stream",
     "text": [
      "ROC-AUC train = 0.907\n",
      "ROC-AUC test = 0.847\n",
      "delta = 7.12%\n"
     ]
    }
   ],
   "source": [
    "# проверим не переобучилась ли наша модель\n",
    "check_overfitting_classification(cat_gender, X_train, y_train, X_test, y_test)"
   ]
  },
  {
   "cell_type": "code",
   "execution_count": null,
   "metadata": {
    "colab": {
     "base_uri": "https://localhost:8080/",
     "height": 359
    },
    "executionInfo": {
     "elapsed": 3227,
     "status": "ok",
     "timestamp": 1680887543779,
     "user": {
      "displayName": "Гоша Сидоркин",
      "userId": "09429149278087224251"
     },
     "user_tz": -240
    },
    "id": "OnkR6H6gRa2u",
    "outputId": "6bd51659-b8aa-47d5-adac-bc6d47e925c0"
   },
   "outputs": [
    {
     "data": {
      "text/html": [
       "\n",
       "  <div id=\"df-0a6a3893-84d1-4087-94cf-8109e2e08485\">\n",
       "    <div class=\"colab-df-container\">\n",
       "      <div>\n",
       "<style scoped>\n",
       "    .dataframe tbody tr th:only-of-type {\n",
       "        vertical-align: middle;\n",
       "    }\n",
       "\n",
       "    .dataframe tbody tr th {\n",
       "        vertical-align: top;\n",
       "    }\n",
       "\n",
       "    .dataframe thead th {\n",
       "        text-align: right;\n",
       "    }\n",
       "</style>\n",
       "<table border=\"1\" class=\"dataframe\">\n",
       "  <thead>\n",
       "    <tr style=\"text-align: right;\">\n",
       "      <th></th>\n",
       "      <th>model</th>\n",
       "      <th>Precision</th>\n",
       "      <th>Recall</th>\n",
       "      <th>f1</th>\n",
       "      <th>ROC_AUC</th>\n",
       "      <th>GINI</th>\n",
       "    </tr>\n",
       "  </thead>\n",
       "  <tbody>\n",
       "    <tr>\n",
       "      <th>0</th>\n",
       "      <td>LGBMBaseline</td>\n",
       "      <td>0.607814</td>\n",
       "      <td>0.564989</td>\n",
       "      <td>0.585620</td>\n",
       "      <td>0.628592</td>\n",
       "      <td>0.257185</td>\n",
       "    </tr>\n",
       "    <tr>\n",
       "      <th>1</th>\n",
       "      <td>CatBoostBaseline</td>\n",
       "      <td>0.611604</td>\n",
       "      <td>0.565913</td>\n",
       "      <td>0.587872</td>\n",
       "      <td>0.630034</td>\n",
       "      <td>0.260068</td>\n",
       "    </tr>\n",
       "    <tr>\n",
       "      <th>2</th>\n",
       "      <td>XGBoostBaseline</td>\n",
       "      <td>0.606800</td>\n",
       "      <td>0.555863</td>\n",
       "      <td>0.580216</td>\n",
       "      <td>0.623342</td>\n",
       "      <td>0.246683</td>\n",
       "    </tr>\n",
       "    <tr>\n",
       "      <th>3</th>\n",
       "      <td>RandomForestBaseline</td>\n",
       "      <td>0.584381</td>\n",
       "      <td>0.585569</td>\n",
       "      <td>0.584974</td>\n",
       "      <td>0.600485</td>\n",
       "      <td>0.200970</td>\n",
       "    </tr>\n",
       "    <tr>\n",
       "      <th>4</th>\n",
       "      <td>LGBMBaseline_embeddings</td>\n",
       "      <td>0.740106</td>\n",
       "      <td>0.719981</td>\n",
       "      <td>0.729905</td>\n",
       "      <td>0.811624</td>\n",
       "      <td>0.623249</td>\n",
       "    </tr>\n",
       "    <tr>\n",
       "      <th>5</th>\n",
       "      <td>CatBoostBaseline_embeddings</td>\n",
       "      <td>0.770574</td>\n",
       "      <td>0.748282</td>\n",
       "      <td>0.759264</td>\n",
       "      <td>0.843999</td>\n",
       "      <td>0.687998</td>\n",
       "    </tr>\n",
       "    <tr>\n",
       "      <th>6</th>\n",
       "      <td>XGBoostBaseline_embeddings</td>\n",
       "      <td>0.745593</td>\n",
       "      <td>0.728294</td>\n",
       "      <td>0.736842</td>\n",
       "      <td>0.820728</td>\n",
       "      <td>0.641457</td>\n",
       "    </tr>\n",
       "    <tr>\n",
       "      <th>0</th>\n",
       "      <td>LGBM_Optuna_best_params</td>\n",
       "      <td>0.773434</td>\n",
       "      <td>0.752087</td>\n",
       "      <td>0.762611</td>\n",
       "      <td>0.847151</td>\n",
       "      <td>0.694301</td>\n",
       "    </tr>\n",
       "    <tr>\n",
       "      <th>0</th>\n",
       "      <td>LGBM_Optuna_Holdout_best_params</td>\n",
       "      <td>0.776647</td>\n",
       "      <td>0.755671</td>\n",
       "      <td>0.766016</td>\n",
       "      <td>0.850550</td>\n",
       "      <td>0.701099</td>\n",
       "    </tr>\n",
       "    <tr>\n",
       "      <th>0</th>\n",
       "      <td>CatBoost_Optuna_best_params</td>\n",
       "      <td>0.771992</td>\n",
       "      <td>0.752568</td>\n",
       "      <td>0.762156</td>\n",
       "      <td>0.847111</td>\n",
       "      <td>0.694222</td>\n",
       "    </tr>\n",
       "  </tbody>\n",
       "</table>\n",
       "</div>\n",
       "      <button class=\"colab-df-convert\" onclick=\"convertToInteractive('df-0a6a3893-84d1-4087-94cf-8109e2e08485')\"\n",
       "              title=\"Convert this dataframe to an interactive table.\"\n",
       "              style=\"display:none;\">\n",
       "        \n",
       "  <svg xmlns=\"http://www.w3.org/2000/svg\" height=\"24px\"viewBox=\"0 0 24 24\"\n",
       "       width=\"24px\">\n",
       "    <path d=\"M0 0h24v24H0V0z\" fill=\"none\"/>\n",
       "    <path d=\"M18.56 5.44l.94 2.06.94-2.06 2.06-.94-2.06-.94-.94-2.06-.94 2.06-2.06.94zm-11 1L8.5 8.5l.94-2.06 2.06-.94-2.06-.94L8.5 2.5l-.94 2.06-2.06.94zm10 10l.94 2.06.94-2.06 2.06-.94-2.06-.94-.94-2.06-.94 2.06-2.06.94z\"/><path d=\"M17.41 7.96l-1.37-1.37c-.4-.4-.92-.59-1.43-.59-.52 0-1.04.2-1.43.59L10.3 9.45l-7.72 7.72c-.78.78-.78 2.05 0 2.83L4 21.41c.39.39.9.59 1.41.59.51 0 1.02-.2 1.41-.59l7.78-7.78 2.81-2.81c.8-.78.8-2.07 0-2.86zM5.41 20L4 18.59l7.72-7.72 1.47 1.35L5.41 20z\"/>\n",
       "  </svg>\n",
       "      </button>\n",
       "      \n",
       "  <style>\n",
       "    .colab-df-container {\n",
       "      display:flex;\n",
       "      flex-wrap:wrap;\n",
       "      gap: 12px;\n",
       "    }\n",
       "\n",
       "    .colab-df-convert {\n",
       "      background-color: #E8F0FE;\n",
       "      border: none;\n",
       "      border-radius: 50%;\n",
       "      cursor: pointer;\n",
       "      display: none;\n",
       "      fill: #1967D2;\n",
       "      height: 32px;\n",
       "      padding: 0 0 0 0;\n",
       "      width: 32px;\n",
       "    }\n",
       "\n",
       "    .colab-df-convert:hover {\n",
       "      background-color: #E2EBFA;\n",
       "      box-shadow: 0px 1px 2px rgba(60, 64, 67, 0.3), 0px 1px 3px 1px rgba(60, 64, 67, 0.15);\n",
       "      fill: #174EA6;\n",
       "    }\n",
       "\n",
       "    [theme=dark] .colab-df-convert {\n",
       "      background-color: #3B4455;\n",
       "      fill: #D2E3FC;\n",
       "    }\n",
       "\n",
       "    [theme=dark] .colab-df-convert:hover {\n",
       "      background-color: #434B5C;\n",
       "      box-shadow: 0px 1px 3px 1px rgba(0, 0, 0, 0.15);\n",
       "      filter: drop-shadow(0px 1px 2px rgba(0, 0, 0, 0.3));\n",
       "      fill: #FFFFFF;\n",
       "    }\n",
       "  </style>\n",
       "\n",
       "      <script>\n",
       "        const buttonEl =\n",
       "          document.querySelector('#df-0a6a3893-84d1-4087-94cf-8109e2e08485 button.colab-df-convert');\n",
       "        buttonEl.style.display =\n",
       "          google.colab.kernel.accessAllowed ? 'block' : 'none';\n",
       "\n",
       "        async function convertToInteractive(key) {\n",
       "          const element = document.querySelector('#df-0a6a3893-84d1-4087-94cf-8109e2e08485');\n",
       "          const dataTable =\n",
       "            await google.colab.kernel.invokeFunction('convertToInteractive',\n",
       "                                                     [key], {});\n",
       "          if (!dataTable) return;\n",
       "\n",
       "          const docLinkHtml = 'Like what you see? Visit the ' +\n",
       "            '<a target=\"_blank\" href=https://colab.research.google.com/notebooks/data_table.ipynb>data table notebook</a>'\n",
       "            + ' to learn more about interactive tables.';\n",
       "          element.innerHTML = '';\n",
       "          dataTable['output_type'] = 'display_data';\n",
       "          await google.colab.output.renderOutput(dataTable, element);\n",
       "          const docLink = document.createElement('div');\n",
       "          docLink.innerHTML = docLinkHtml;\n",
       "          element.appendChild(docLink);\n",
       "        }\n",
       "      </script>\n",
       "    </div>\n",
       "  </div>\n",
       "  "
      ],
      "text/plain": [
       "                             model  Precision    Recall        f1   ROC_AUC  \\\n",
       "0                     LGBMBaseline   0.607814  0.564989  0.585620  0.628592   \n",
       "1                 CatBoostBaseline   0.611604  0.565913  0.587872  0.630034   \n",
       "2                  XGBoostBaseline   0.606800  0.555863  0.580216  0.623342   \n",
       "3             RandomForestBaseline   0.584381  0.585569  0.584974  0.600485   \n",
       "4          LGBMBaseline_embeddings   0.740106  0.719981  0.729905  0.811624   \n",
       "5      CatBoostBaseline_embeddings   0.770574  0.748282  0.759264  0.843999   \n",
       "6       XGBoostBaseline_embeddings   0.745593  0.728294  0.736842  0.820728   \n",
       "0          LGBM_Optuna_best_params   0.773434  0.752087  0.762611  0.847151   \n",
       "0  LGBM_Optuna_Holdout_best_params   0.776647  0.755671  0.766016  0.850550   \n",
       "0      CatBoost_Optuna_best_params   0.771992  0.752568  0.762156  0.847111   \n",
       "\n",
       "       GINI  \n",
       "0  0.257185  \n",
       "1  0.260068  \n",
       "2  0.246683  \n",
       "3  0.200970  \n",
       "4  0.623249  \n",
       "5  0.687998  \n",
       "6  0.641457  \n",
       "0  0.694301  \n",
       "0  0.701099  \n",
       "0  0.694222  "
      ]
     },
     "execution_count": 41,
     "metadata": {},
     "output_type": "execute_result"
    }
   ],
   "source": [
    "# получим итоговые метрики на тестовых данных\n",
    "y_pred_test = cat_gender.predict(X_test)\n",
    "y_score_test = cat_gender.predict_proba(X_test)\n",
    "\n",
    "metrics_gender = metrics_gender.append(\n",
    "    get_metrics_classification(y_test,\n",
    "                               y_pred_test,\n",
    "                               y_score_test,\n",
    "                               name='CatBoost_Optuna_best_params'))\n",
    "metrics_gender"
   ]
  },
  {
   "cell_type": "markdown",
   "metadata": {
    "id": "ka2GwX-MGyri"
   },
   "source": [
    "### Holdout"
   ]
  },
  {
   "cell_type": "code",
   "execution_count": null,
   "metadata": {
    "colab": {
     "base_uri": "https://localhost:8080/"
    },
    "executionInfo": {
     "elapsed": 2521792,
     "status": "ok",
     "timestamp": 1680893396116,
     "user": {
      "displayName": "Гоша Сидоркин",
      "userId": "09429149278087224251"
     },
     "user_tz": -240
    },
    "id": "LYt8m5K1HJ88",
    "outputId": "5b52e49c-68bd-4fd1-8c1f-b414917b7d54"
   },
   "outputs": [
    {
     "name": "stdout",
     "output_type": "stream",
     "text": [
      "id = 0 0.8459721593512438 \n",
      "\n",
      "id = 1 0.8434803193377314 \n",
      "\n",
      "id = 2 0.8461102629886144 \n",
      "\n",
      "id = 3 0.8453000268628335 \n",
      "\n",
      "id = 4 0.8455863628863115 \n",
      "\n",
      "0.8452898262853468\n"
     ]
    }
   ],
   "source": [
    "# используем кросс-валидацию для лучшей модели CatBoost\n",
    "finish_test_preds = []\n",
    "finish_test_preds_proba = []\n",
    "\n",
    "cv = StratifiedKFold(n_splits=N_FOLDS, shuffle=True, random_state=RAND)\n",
    "cv_predicts_val = np.empty(N_FOLDS)\n",
    "\n",
    "for idx, (train_idx, test_idx) in enumerate(cv.split(X_train, y_train)):\n",
    "    X_train_, X_val_ = X_train.iloc[train_idx], X_train.iloc[test_idx]\n",
    "    y_train_, y_val_ = y_train.iloc[train_idx], y_train.iloc[test_idx]\n",
    "\n",
    "    model = CatBoostClassifier(cat_features=cat_features, **cat_gender_best)\n",
    "\n",
    "    model.fit(X_train_, y_train_, verbose=False)\n",
    "\n",
    "    # OOF\n",
    "    preds_val_proba = model.predict_proba(X_val_)[:, 1]\n",
    "    cv_predicts_val[idx] = m.roc_auc_score(y_val_, preds_val_proba)\n",
    "\n",
    "    # holdout\n",
    "    preds_test = model.predict(X_test)\n",
    "    preds_test_proba = model.predict_proba(X_test)\n",
    "\n",
    "    finish_test_preds.append(preds_test)\n",
    "    finish_test_preds_proba.append(preds_test_proba)\n",
    "\n",
    "    print(f\"id = {idx}\", cv_predicts_val[idx], '\\n')\n",
    "\n",
    "print(np.mean(cv_predicts_val))"
   ]
  },
  {
   "cell_type": "code",
   "execution_count": null,
   "metadata": {
    "id": "BiQUzwriKXj8"
   },
   "outputs": [],
   "source": [
    "# находим моду по классам\n",
    "test_pred = stats.mode(np.column_stack(finish_test_preds), axis=1)[0]\n",
    "# находим среднее по вероятностям\n",
    "test_pred_proba = np.mean(finish_test_preds_proba, axis=0)"
   ]
  },
  {
   "cell_type": "code",
   "execution_count": null,
   "metadata": {
    "colab": {
     "base_uri": "https://localhost:8080/"
    },
    "executionInfo": {
     "elapsed": 13,
     "status": "ok",
     "timestamp": 1680893397336,
     "user": {
      "displayName": "Гоша Сидоркин",
      "userId": "09429149278087224251"
     },
     "user_tz": -240
    },
    "id": "XYs4bwpDKXgy",
    "outputId": "082e7acb-4027-4b36-eec9-29df47dc3c92"
   },
   "outputs": [
    {
     "name": "stdout",
     "output_type": "stream",
     "text": [
      "ROC-AUC mean OOF: 0.845, std: 0.001\n",
      "ROC-AUC HOLDOUT: 0.851\n"
     ]
    }
   ],
   "source": [
    "print('ROC-AUC mean OOF: %.3f, std: %.3f' %\n",
    "      (np.mean(cv_predicts_val), np.std(cv_predicts_val)))\n",
    "print('ROC-AUC HOLDOUT: %.3f' % m.roc_auc_score(y_test, test_pred_proba[:, 1]))"
   ]
  },
  {
   "cell_type": "code",
   "execution_count": null,
   "metadata": {
    "colab": {
     "base_uri": "https://localhost:8080/",
     "height": 390
    },
    "executionInfo": {
     "elapsed": 5,
     "status": "ok",
     "timestamp": 1680893397338,
     "user": {
      "displayName": "Гоша Сидоркин",
      "userId": "09429149278087224251"
     },
     "user_tz": -240
    },
    "id": "o-2q7gOfKXd-",
    "outputId": "22c5ddb6-2f8a-4b7f-dd26-6b209ed16fad"
   },
   "outputs": [
    {
     "data": {
      "text/html": [
       "\n",
       "  <div id=\"df-b146d02b-3efe-40fc-a02b-fbf53e03d38c\">\n",
       "    <div class=\"colab-df-container\">\n",
       "      <div>\n",
       "<style scoped>\n",
       "    .dataframe tbody tr th:only-of-type {\n",
       "        vertical-align: middle;\n",
       "    }\n",
       "\n",
       "    .dataframe tbody tr th {\n",
       "        vertical-align: top;\n",
       "    }\n",
       "\n",
       "    .dataframe thead th {\n",
       "        text-align: right;\n",
       "    }\n",
       "</style>\n",
       "<table border=\"1\" class=\"dataframe\">\n",
       "  <thead>\n",
       "    <tr style=\"text-align: right;\">\n",
       "      <th></th>\n",
       "      <th>model</th>\n",
       "      <th>Precision</th>\n",
       "      <th>Recall</th>\n",
       "      <th>f1</th>\n",
       "      <th>ROC_AUC</th>\n",
       "      <th>GINI</th>\n",
       "    </tr>\n",
       "  </thead>\n",
       "  <tbody>\n",
       "    <tr>\n",
       "      <th>0</th>\n",
       "      <td>LGBMBaseline</td>\n",
       "      <td>0.607814</td>\n",
       "      <td>0.564989</td>\n",
       "      <td>0.585620</td>\n",
       "      <td>0.628592</td>\n",
       "      <td>0.257185</td>\n",
       "    </tr>\n",
       "    <tr>\n",
       "      <th>1</th>\n",
       "      <td>CatBoostBaseline</td>\n",
       "      <td>0.611604</td>\n",
       "      <td>0.565913</td>\n",
       "      <td>0.587872</td>\n",
       "      <td>0.630034</td>\n",
       "      <td>0.260068</td>\n",
       "    </tr>\n",
       "    <tr>\n",
       "      <th>2</th>\n",
       "      <td>XGBoostBaseline</td>\n",
       "      <td>0.606800</td>\n",
       "      <td>0.555863</td>\n",
       "      <td>0.580216</td>\n",
       "      <td>0.623342</td>\n",
       "      <td>0.246683</td>\n",
       "    </tr>\n",
       "    <tr>\n",
       "      <th>3</th>\n",
       "      <td>RandomForestBaseline</td>\n",
       "      <td>0.584381</td>\n",
       "      <td>0.585569</td>\n",
       "      <td>0.584974</td>\n",
       "      <td>0.600485</td>\n",
       "      <td>0.200970</td>\n",
       "    </tr>\n",
       "    <tr>\n",
       "      <th>4</th>\n",
       "      <td>LGBMBaseline_embeddings</td>\n",
       "      <td>0.740106</td>\n",
       "      <td>0.719981</td>\n",
       "      <td>0.729905</td>\n",
       "      <td>0.811624</td>\n",
       "      <td>0.623249</td>\n",
       "    </tr>\n",
       "    <tr>\n",
       "      <th>5</th>\n",
       "      <td>CatBoostBaseline_embeddings</td>\n",
       "      <td>0.770574</td>\n",
       "      <td>0.748282</td>\n",
       "      <td>0.759264</td>\n",
       "      <td>0.843999</td>\n",
       "      <td>0.687998</td>\n",
       "    </tr>\n",
       "    <tr>\n",
       "      <th>6</th>\n",
       "      <td>XGBoostBaseline_embeddings</td>\n",
       "      <td>0.745593</td>\n",
       "      <td>0.728294</td>\n",
       "      <td>0.736842</td>\n",
       "      <td>0.820728</td>\n",
       "      <td>0.641457</td>\n",
       "    </tr>\n",
       "    <tr>\n",
       "      <th>0</th>\n",
       "      <td>LGBM_Optuna_best_params</td>\n",
       "      <td>0.773434</td>\n",
       "      <td>0.752087</td>\n",
       "      <td>0.762611</td>\n",
       "      <td>0.847151</td>\n",
       "      <td>0.694301</td>\n",
       "    </tr>\n",
       "    <tr>\n",
       "      <th>0</th>\n",
       "      <td>LGBM_Optuna_Holdout_best_params</td>\n",
       "      <td>0.776647</td>\n",
       "      <td>0.755671</td>\n",
       "      <td>0.766016</td>\n",
       "      <td>0.850550</td>\n",
       "      <td>0.701099</td>\n",
       "    </tr>\n",
       "    <tr>\n",
       "      <th>0</th>\n",
       "      <td>CatBoost_Optuna_best_params</td>\n",
       "      <td>0.771992</td>\n",
       "      <td>0.752568</td>\n",
       "      <td>0.762156</td>\n",
       "      <td>0.847111</td>\n",
       "      <td>0.694222</td>\n",
       "    </tr>\n",
       "    <tr>\n",
       "      <th>0</th>\n",
       "      <td>CatBoost_Optuna_Holdout_best_params</td>\n",
       "      <td>0.776662</td>\n",
       "      <td>0.754193</td>\n",
       "      <td>0.765263</td>\n",
       "      <td>0.850956</td>\n",
       "      <td>0.701911</td>\n",
       "    </tr>\n",
       "  </tbody>\n",
       "</table>\n",
       "</div>\n",
       "      <button class=\"colab-df-convert\" onclick=\"convertToInteractive('df-b146d02b-3efe-40fc-a02b-fbf53e03d38c')\"\n",
       "              title=\"Convert this dataframe to an interactive table.\"\n",
       "              style=\"display:none;\">\n",
       "        \n",
       "  <svg xmlns=\"http://www.w3.org/2000/svg\" height=\"24px\"viewBox=\"0 0 24 24\"\n",
       "       width=\"24px\">\n",
       "    <path d=\"M0 0h24v24H0V0z\" fill=\"none\"/>\n",
       "    <path d=\"M18.56 5.44l.94 2.06.94-2.06 2.06-.94-2.06-.94-.94-2.06-.94 2.06-2.06.94zm-11 1L8.5 8.5l.94-2.06 2.06-.94-2.06-.94L8.5 2.5l-.94 2.06-2.06.94zm10 10l.94 2.06.94-2.06 2.06-.94-2.06-.94-.94-2.06-.94 2.06-2.06.94z\"/><path d=\"M17.41 7.96l-1.37-1.37c-.4-.4-.92-.59-1.43-.59-.52 0-1.04.2-1.43.59L10.3 9.45l-7.72 7.72c-.78.78-.78 2.05 0 2.83L4 21.41c.39.39.9.59 1.41.59.51 0 1.02-.2 1.41-.59l7.78-7.78 2.81-2.81c.8-.78.8-2.07 0-2.86zM5.41 20L4 18.59l7.72-7.72 1.47 1.35L5.41 20z\"/>\n",
       "  </svg>\n",
       "      </button>\n",
       "      \n",
       "  <style>\n",
       "    .colab-df-container {\n",
       "      display:flex;\n",
       "      flex-wrap:wrap;\n",
       "      gap: 12px;\n",
       "    }\n",
       "\n",
       "    .colab-df-convert {\n",
       "      background-color: #E8F0FE;\n",
       "      border: none;\n",
       "      border-radius: 50%;\n",
       "      cursor: pointer;\n",
       "      display: none;\n",
       "      fill: #1967D2;\n",
       "      height: 32px;\n",
       "      padding: 0 0 0 0;\n",
       "      width: 32px;\n",
       "    }\n",
       "\n",
       "    .colab-df-convert:hover {\n",
       "      background-color: #E2EBFA;\n",
       "      box-shadow: 0px 1px 2px rgba(60, 64, 67, 0.3), 0px 1px 3px 1px rgba(60, 64, 67, 0.15);\n",
       "      fill: #174EA6;\n",
       "    }\n",
       "\n",
       "    [theme=dark] .colab-df-convert {\n",
       "      background-color: #3B4455;\n",
       "      fill: #D2E3FC;\n",
       "    }\n",
       "\n",
       "    [theme=dark] .colab-df-convert:hover {\n",
       "      background-color: #434B5C;\n",
       "      box-shadow: 0px 1px 3px 1px rgba(0, 0, 0, 0.15);\n",
       "      filter: drop-shadow(0px 1px 2px rgba(0, 0, 0, 0.3));\n",
       "      fill: #FFFFFF;\n",
       "    }\n",
       "  </style>\n",
       "\n",
       "      <script>\n",
       "        const buttonEl =\n",
       "          document.querySelector('#df-b146d02b-3efe-40fc-a02b-fbf53e03d38c button.colab-df-convert');\n",
       "        buttonEl.style.display =\n",
       "          google.colab.kernel.accessAllowed ? 'block' : 'none';\n",
       "\n",
       "        async function convertToInteractive(key) {\n",
       "          const element = document.querySelector('#df-b146d02b-3efe-40fc-a02b-fbf53e03d38c');\n",
       "          const dataTable =\n",
       "            await google.colab.kernel.invokeFunction('convertToInteractive',\n",
       "                                                     [key], {});\n",
       "          if (!dataTable) return;\n",
       "\n",
       "          const docLinkHtml = 'Like what you see? Visit the ' +\n",
       "            '<a target=\"_blank\" href=https://colab.research.google.com/notebooks/data_table.ipynb>data table notebook</a>'\n",
       "            + ' to learn more about interactive tables.';\n",
       "          element.innerHTML = '';\n",
       "          dataTable['output_type'] = 'display_data';\n",
       "          await google.colab.output.renderOutput(dataTable, element);\n",
       "          const docLink = document.createElement('div');\n",
       "          docLink.innerHTML = docLinkHtml;\n",
       "          element.appendChild(docLink);\n",
       "        }\n",
       "      </script>\n",
       "    </div>\n",
       "  </div>\n",
       "  "
      ],
      "text/plain": [
       "                                 model  Precision    Recall        f1  \\\n",
       "0                         LGBMBaseline   0.607814  0.564989  0.585620   \n",
       "1                     CatBoostBaseline   0.611604  0.565913  0.587872   \n",
       "2                      XGBoostBaseline   0.606800  0.555863  0.580216   \n",
       "3                 RandomForestBaseline   0.584381  0.585569  0.584974   \n",
       "4              LGBMBaseline_embeddings   0.740106  0.719981  0.729905   \n",
       "5          CatBoostBaseline_embeddings   0.770574  0.748282  0.759264   \n",
       "6           XGBoostBaseline_embeddings   0.745593  0.728294  0.736842   \n",
       "0              LGBM_Optuna_best_params   0.773434  0.752087  0.762611   \n",
       "0      LGBM_Optuna_Holdout_best_params   0.776647  0.755671  0.766016   \n",
       "0          CatBoost_Optuna_best_params   0.771992  0.752568  0.762156   \n",
       "0  CatBoost_Optuna_Holdout_best_params   0.776662  0.754193  0.765263   \n",
       "\n",
       "    ROC_AUC      GINI  \n",
       "0  0.628592  0.257185  \n",
       "1  0.630034  0.260068  \n",
       "2  0.623342  0.246683  \n",
       "3  0.600485  0.200970  \n",
       "4  0.811624  0.623249  \n",
       "5  0.843999  0.687998  \n",
       "6  0.820728  0.641457  \n",
       "0  0.847151  0.694301  \n",
       "0  0.850550  0.701099  \n",
       "0  0.847111  0.694222  \n",
       "0  0.850956  0.701911  "
      ]
     },
     "execution_count": 45,
     "metadata": {},
     "output_type": "execute_result"
    }
   ],
   "source": [
    "# получим итоговые метрики на тестовых данных\n",
    "metrics_gender = metrics_gender.append(\n",
    "    get_metrics_classification(y_test,\n",
    "                               test_pred,\n",
    "                               test_pred_proba,\n",
    "                               name='CatBoost_Optuna_Holdout_best_params'))\n",
    "metrics_gender"
   ]
  },
  {
   "cell_type": "code",
   "execution_count": null,
   "metadata": {
    "id": "oeP7OaXNKSAy"
   },
   "outputs": [],
   "source": [
    "metrics_gender.to_csv('metrics/metrics_gender_tuned.csv', index=False)"
   ]
  },
  {
   "cell_type": "markdown",
   "metadata": {
    "id": "9EyfqMjJN66o"
   },
   "source": [
    "# Tuning age prediction"
   ]
  },
  {
   "cell_type": "code",
   "execution_count": null,
   "metadata": {
    "id": "AmMaax-0Oaha"
   },
   "outputs": [],
   "source": [
    "def age_bucket(x):\n",
    "    \"\"\"Функция для создания бакетов по возрасту\"\"\"\n",
    "    return bisect.bisect_left([18, 25, 35, 45, 55, 65], x)"
   ]
  },
  {
   "cell_type": "code",
   "execution_count": null,
   "metadata": {
    "colab": {
     "base_uri": "https://localhost:8080/",
     "height": 449
    },
    "executionInfo": {
     "elapsed": 5501,
     "status": "ok",
     "timestamp": 1680951103112,
     "user": {
      "displayName": "Гоша Сидоркин",
      "userId": "09429149278087224251"
     },
     "user_tz": -240
    },
    "id": "6khH6xszOiDU",
    "outputId": "bf8e2821-4665-4e3b-e6f8-b5ae2d6f1597"
   },
   "outputs": [
    {
     "data": {
      "image/png": "[encoded data removed]",
      "text/plain": [
       "<Figure size 640x480 with 1 Axes>"
      ]
     },
     "metadata": {},
     "output_type": "display_data"
    }
   ],
   "source": [
    "df_trn = targets.merge(df, how='inner', on=['user_id']) \\\n",
    "    .merge(url_emb, how='inner', on='user_id') \\\n",
    "    .merge(model_emb, how='inner', on=['user_id']) \\\n",
    "    .merge(reg_emb, how='inner', on=['user_id']) \\\n",
    "    .merge(city_emb, how='inner', on=['user_id'])\n",
    "\n",
    "# удаляем пропущенные значения\n",
    "df_trn = df_trn[df_trn['age'] != 'NA']\n",
    "df_trn = df_trn.dropna()\n",
    "\n",
    "# создаем бакеты по возрасту\n",
    "df_trn['age'] = df_trn['age'].map(age_bucket)\n",
    "sns.histplot(df_trn['age'], bins=7);"
   ]
  },
  {
   "cell_type": "code",
   "execution_count": null,
   "metadata": {
    "id": "oEKiBbQaJBdc"
   },
   "outputs": [],
   "source": [
    "# по условиям соревнования в тестовых данных нет людей младше 19 лет\n",
    "# поэтому можем удалить бакет 0\n",
    "df_trn = df_trn.query('age > 0')"
   ]
  },
  {
   "cell_type": "code",
   "execution_count": null,
   "metadata": {
    "id": "8e98kO2GPmbm"
   },
   "outputs": [],
   "source": [
    "# разбивка данных на train/validation/test\n",
    "X = df_trn.drop(['age', 'is_male', 'user_id'], axis=1)\n",
    "y = df_trn['age']\n",
    "\n",
    "X_train, X_test, y_train, y_test = train_test_split(X,\n",
    "                                                    y,\n",
    "                                                    test_size=0.2,\n",
    "                                                    shuffle=True,\n",
    "                                                    stratify=y,\n",
    "                                                    random_state=RAND)\n",
    "\n",
    "X_train_, X_val, y_train_, y_val = train_test_split(X_train,\n",
    "                                                    y_train,\n",
    "                                                    test_size=0.16,\n",
    "                                                    shuffle=True,\n",
    "                                                    stratify=y_train,\n",
    "                                                    random_state=RAND)\n",
    "\n",
    "n_classes = len(set(y))\n",
    "y_train_bin = label_binarize(y_train, classes=list(set(y)))\n",
    "y_test_bin = label_binarize(y_test, classes=list(set(y)))"
   ]
  },
  {
   "cell_type": "markdown",
   "metadata": {
    "id": "s5_LU2MTSAdf"
   },
   "source": [
    "## LGBM"
   ]
  },
  {
   "cell_type": "code",
   "execution_count": null,
   "metadata": {
    "id": "8BTAQ9OLOgVY"
   },
   "outputs": [],
   "source": [
    "# функция для поиска оптимальных параметров с помощью Optuna\n",
    "def objective_lgbm(trial, X, y, N_FOLDS, random_state):\n",
    "\n",
    "    lgbm_params = {\n",
    "        \"n_estimators\":\n",
    "        trial.suggest_categorical(\"n_estimators\", [2500]),\n",
    "        # \"learning_rate\": trial.suggest_float(\"learning_rate\",\n",
    "        #                                      0.001,\n",
    "        #                                      0.3,\n",
    "        #                                      log=True),\n",
    "        \"learning_rate\":\n",
    "        trial.suggest_categorical(\"learning_rate\", [0.035275015373286644]),\n",
    "        # 'num_leaves': trial.suggest_categorical(\"num_leaves\", [1280]),\n",
    "        # 'max_depth': trial.suggest_categorical(\"max_depth\", [3]),\n",
    "        # 'min_child_samples': trial.suggest_categorical(\"min_child_samples\", [3200]),\n",
    "        # 'reg_alpha': trial.suggest_categorical(\"reg_alpha\", [11]),\n",
    "        # 'reg_lambda': trial.suggest_categorical(\"reg_lambda\", [77]),\n",
    "        # 'min_split_gain': trial.suggest_categorical(\"min_split_gain\", [15]),\n",
    "        # 'subsample': trial.suggest_categorical(\"subsample\", [0.5293493678270612]),\n",
    "        # 'subsample_freq': trial.suggest_categorical(\"subsample_freq\", [1]),\n",
    "        # 'colsample_bytree': trial.suggest_categorical(\"colsample_bytree\", [0.4521381101269853]),\n",
    "        \"num_leaves\":\n",
    "        trial.suggest_int(\"num_leaves\", 20, 3000, step=20),\n",
    "        \"max_depth\":\n",
    "        trial.suggest_int(\"max_depth\", 3, 12),\n",
    "        \"min_child_samples\":\n",
    "        trial.suggest_int(\"min_child_samples\", 100, 50000, step=100),\n",
    "        \"reg_alpha\":\n",
    "        trial.suggest_int(\"reg_alpha\", 0, 100),\n",
    "        \"reg_lambda\":\n",
    "        trial.suggest_int(\"reg_lambda\", 0, 100),\n",
    "        \"min_split_gain\":\n",
    "        trial.suggest_int(\"min_split_gain\", 0, 20),\n",
    "        \"subsample\":\n",
    "        trial.suggest_float(\"subsample\", 0.2, 1.0),\n",
    "        \"subsample_freq\":\n",
    "        trial.suggest_categorical(\"subsample_freq\", [1]),\n",
    "        \"colsample_bytree\":\n",
    "        trial.suggest_float(\"colsample_bytree\", 0.2, 1.0),\n",
    "        \"num_classes\":\n",
    "        trial.suggest_categorical(\"num_classes\", [6]),\n",
    "        \"objective\":\n",
    "        trial.suggest_categorical(\"objective\", [\"multiclass\"]),\n",
    "        \"class_weight\":\n",
    "        trial.suggest_categorical(\"class_weight\", [\"balanced\"]),\n",
    "        \"random_state\":\n",
    "        trial.suggest_categorical(\"random_state\", [random_state])\n",
    "    }\n",
    "\n",
    "    cv = StratifiedKFold(n_splits=N_FOLDS,\n",
    "                         shuffle=True,\n",
    "                         random_state=random_state)\n",
    "\n",
    "    cv_predicts = np.empty(N_FOLDS)\n",
    "\n",
    "    for idx, (train_idx, test_idx) in enumerate(cv.split(X, y)):\n",
    "        X_train, X_test = X.iloc[train_idx], X.iloc[test_idx]\n",
    "        y_train, y_test = y.iloc[train_idx], y.iloc[test_idx]\n",
    "\n",
    "        pruning_callback = optuna.integration.LightGBMPruningCallback(\n",
    "            trial, \"auc_mu\")\n",
    "\n",
    "        model = LGBMClassifier(**lgbm_params)\n",
    "        model.fit(X_train,\n",
    "                  y_train,\n",
    "                  eval_set=[(X_test, y_test)],\n",
    "                  eval_metric=\"auc_mu\",\n",
    "                  early_stopping_rounds=100,\n",
    "                  callbacks=[pruning_callback],\n",
    "                  verbose=0)\n",
    "\n",
    "        preds_proba = model.predict_proba(X_test)\n",
    "        cv_predicts[idx] = m.roc_auc_score(y_test,\n",
    "                                           preds_proba,\n",
    "                                           multi_class='ovo')\n",
    "\n",
    "        return np.mean(cv_predicts)"
   ]
  },
  {
   "cell_type": "code",
   "execution_count": null,
   "metadata": {
    "colab": {
     "base_uri": "https://localhost:8080/",
     "height": 66,
     "referenced_widgets": [
      "dd58de2b5d354e6685d0994ad82f6719",
      "f09cf0febf7c4ee0b8c8850059708d48",
      "6a18df42674b4c3ebed579f10b1777ca",
      "683d63fee7cd47c29ffd6e427b4f2e4a",
      "ad990087606b411a965a19f3279a48ff",
      "5e196a25778d42709c19a88844dd8e29",
      "500abdb9efdb4788a6d14d5e1a7d83dd",
      "7aa2b482264c42968d6c7aafaa21ba6f",
      "d366fc2dfad94060823bfa33ce5f219e",
      "ee696fc6c9214d4b854d0bb65ead7485",
      "05865d4d7d5c42ec8ad63e903061c01c"
     ]
    },
    "executionInfo": {
     "elapsed": 4277872,
     "status": "ok",
     "timestamp": 1680948632308,
     "user": {
      "displayName": "Гоша Сидоркин",
      "userId": "09429149278087224251"
     },
     "user_tz": -240
    },
    "id": "UaOT7w8RuVjT",
    "outputId": "8cb9905c-b52c-4ace-ec27-1a13e19916d9"
   },
   "outputs": [
    {
     "name": "stderr",
     "output_type": "stream",
     "text": [
      "\u001b[32m[I 2023-04-08 08:59:14,439]\u001b[0m A new study created in memory with name: LGBM_01\u001b[0m\n"
     ]
    },
    {
     "data": {
      "application/vnd.jupyter.widget-view+json": {
       "model_id": "dd58de2b5d354e6685d0994ad82f6719",
       "version_major": 2,
       "version_minor": 0
      },
      "text/plain": [
       "  0%|          | 0/20 [00:00<?, ?it/s]"
      ]
     },
     "metadata": {},
     "output_type": "display_data"
    }
   ],
   "source": [
    "# поиск оптимальных параметров\n",
    "study_lgbm = optuna.create_study(direction='maximize', study_name='LGBM_01')\n",
    "\n",
    "\n",
    "def func(trial):\n",
    "    return objective_lgbm(trial,\n",
    "                          X_train,\n",
    "                          y_train,\n",
    "                          N_FOLDS=N_FOLDS,\n",
    "                          random_state=RAND)\n",
    "\n",
    "\n",
    "optuna.logging.set_verbosity(optuna.logging.WARNING)\n",
    "study_lgbm.optimize(func, n_trials=20, show_progress_bar=True)"
   ]
  },
  {
   "cell_type": "code",
   "execution_count": null,
   "metadata": {
    "colab": {
     "base_uri": "https://localhost:8080/"
    },
    "executionInfo": {
     "elapsed": 296,
     "status": "ok",
     "timestamp": 1680948744871,
     "user": {
      "displayName": "Гоша Сидоркин",
      "userId": "09429149278087224251"
     },
     "user_tz": -240
    },
    "id": "X7D0LksZTwfW",
    "outputId": "a1888db6-0671-4f9e-a03d-923e670e15cd"
   },
   "outputs": [
    {
     "data": {
      "text/plain": [
       "{'n_estimators': 2500,\n",
       " 'learning_rate': 0.035275015373286644,\n",
       " 'num_leaves': 2380,\n",
       " 'max_depth': 6,\n",
       " 'min_child_samples': 4900,\n",
       " 'reg_alpha': 21,\n",
       " 'reg_lambda': 44,\n",
       " 'min_split_gain': 2,\n",
       " 'subsample': 0.9376162941244078,\n",
       " 'subsample_freq': 1,\n",
       " 'colsample_bytree': 0.6874978844785493,\n",
       " 'num_classes': 6,\n",
       " 'objective': 'multiclass',\n",
       " 'class_weight': 'balanced',\n",
       " 'random_state': 42}"
      ]
     },
     "execution_count": 25,
     "metadata": {},
     "output_type": "execute_result"
    }
   ],
   "source": [
    "study_lgbm.best_params"
   ]
  },
  {
   "cell_type": "code",
   "execution_count": null,
   "metadata": {
    "id": "HBkIuSJ6Ftza"
   },
   "outputs": [],
   "source": [
    "lgbm_params_age = {'n_estimators': 2500,\n",
    " 'learning_rate': 0.035275015373286644,\n",
    " 'num_leaves': 2380,\n",
    " 'max_depth': 6,\n",
    " 'min_child_samples': 4900,\n",
    " 'reg_alpha': 21,\n",
    " 'reg_lambda': 44,\n",
    " 'min_split_gain': 2,\n",
    " 'subsample': 0.9376162941244078,\n",
    " 'subsample_freq': 1,\n",
    " 'colsample_bytree': 0.6874978844785493,\n",
    " 'num_classes': 6,\n",
    " 'objective': 'multiclass',\n",
    " 'class_weight': 'balanced',\n",
    " 'random_state': 42}"
   ]
  },
  {
   "cell_type": "code",
   "execution_count": null,
   "metadata": {
    "colab": {
     "base_uri": "https://localhost:8080/",
     "height": 193
    },
    "executionInfo": {
     "elapsed": 1004070,
     "status": "ok",
     "timestamp": 1680952209382,
     "user": {
      "displayName": "Гоша Сидоркин",
      "userId": "09429149278087224251"
     },
     "user_tz": -240
    },
    "id": "ukmjLewnRZtV",
    "outputId": "60391f7c-7dfe-4a55-caf7-23ff429a7302"
   },
   "outputs": [
    {
     "name": "stdout",
     "output_type": "stream",
     "text": [
      "CPU times: user 1h 1min 33s, sys: 5.54 s, total: 1h 1min 39s\n",
      "Wall time: 16min 43s\n"
     ]
    },
    {
     "data": {
      "text/html": [
       "<style>#sk-container-id-1 {color: black;background-color: white;}#sk-container-id-1 pre{padding: 0;}#sk-container-id-1 div.sk-toggleable {background-color: white;}#sk-container-id-1 label.sk-toggleable__label {cursor: pointer;display: block;width: 100%;margin-bottom: 0;padding: 0.3em;box-sizing: border-box;text-align: center;}#sk-container-id-1 label.sk-toggleable__label-arrow:before {content: \"▸\";float: left;margin-right: 0.25em;color: #696969;}#sk-container-id-1 label.sk-toggleable__label-arrow:hover:before {color: black;}#sk-container-id-1 div.sk-estimator:hover label.sk-toggleable__label-arrow:before {color: black;}#sk-container-id-1 div.sk-toggleable__content {max-height: 0;max-width: 0;overflow: hidden;text-align: left;background-color: #f0f8ff;}#sk-container-id-1 div.sk-toggleable__content pre {margin: 0.2em;color: black;border-radius: 0.25em;background-color: #f0f8ff;}#sk-container-id-1 input.sk-toggleable__control:checked~div.sk-toggleable__content {max-height: 200px;max-width: 100%;overflow: auto;}#sk-container-id-1 input.sk-toggleable__control:checked~label.sk-toggleable__label-arrow:before {content: \"▾\";}#sk-container-id-1 div.sk-estimator input.sk-toggleable__control:checked~label.sk-toggleable__label {background-color: #d4ebff;}#sk-container-id-1 div.sk-label input.sk-toggleable__control:checked~label.sk-toggleable__label {background-color: #d4ebff;}#sk-container-id-1 input.sk-hidden--visually {border: 0;clip: rect(1px 1px 1px 1px);clip: rect(1px, 1px, 1px, 1px);height: 1px;margin: -1px;overflow: hidden;padding: 0;position: absolute;width: 1px;}#sk-container-id-1 div.sk-estimator {font-family: monospace;background-color: #f0f8ff;border: 1px dotted black;border-radius: 0.25em;box-sizing: border-box;margin-bottom: 0.5em;}#sk-container-id-1 div.sk-estimator:hover {background-color: #d4ebff;}#sk-container-id-1 div.sk-parallel-item::after {content: \"\";width: 100%;border-bottom: 1px solid gray;flex-grow: 1;}#sk-container-id-1 div.sk-label:hover label.sk-toggleable__label {background-color: #d4ebff;}#sk-container-id-1 div.sk-serial::before {content: \"\";position: absolute;border-left: 1px solid gray;box-sizing: border-box;top: 0;bottom: 0;left: 50%;z-index: 0;}#sk-container-id-1 div.sk-serial {display: flex;flex-direction: column;align-items: center;background-color: white;padding-right: 0.2em;padding-left: 0.2em;position: relative;}#sk-container-id-1 div.sk-item {position: relative;z-index: 1;}#sk-container-id-1 div.sk-parallel {display: flex;align-items: stretch;justify-content: center;background-color: white;position: relative;}#sk-container-id-1 div.sk-item::before, #sk-container-id-1 div.sk-parallel-item::before {content: \"\";position: absolute;border-left: 1px solid gray;box-sizing: border-box;top: 0;bottom: 0;left: 50%;z-index: -1;}#sk-container-id-1 div.sk-parallel-item {display: flex;flex-direction: column;z-index: 1;position: relative;background-color: white;}#sk-container-id-1 div.sk-parallel-item:first-child::after {align-self: flex-end;width: 50%;}#sk-container-id-1 div.sk-parallel-item:last-child::after {align-self: flex-start;width: 50%;}#sk-container-id-1 div.sk-parallel-item:only-child::after {width: 0;}#sk-container-id-1 div.sk-dashed-wrapped {border: 1px dashed gray;margin: 0 0.4em 0.5em 0.4em;box-sizing: border-box;padding-bottom: 0.4em;background-color: white;}#sk-container-id-1 div.sk-label label {font-family: monospace;font-weight: bold;display: inline-block;line-height: 1.2em;}#sk-container-id-1 div.sk-label-container {text-align: center;}#sk-container-id-1 div.sk-container {/* jupyter's `normalize.less` sets `[hidden] { display: none; }` but bootstrap.min.css set `[hidden] { display: none !important; }` so we also need the `!important` here to be able to override the default hidden behavior on the sphinx rendered scikit-learn.org. See: https://github.com/scikit-learn/scikit-learn/issues/21755 */display: inline-block !important;position: relative;}#sk-container-id-1 div.sk-text-repr-fallback {display: none;}</style><div id=\"sk-container-id-1\" class=\"sk-top-container\"><div class=\"sk-text-repr-fallback\"><pre>LGBMClassifier(class_weight=&#x27;balanced&#x27;, colsample_bytree=0.6874978844785493,\n",
       "               learning_rate=0.035275015373286644, max_depth=6,\n",
       "               min_child_samples=4900, min_split_gain=2, n_estimators=2500,\n",
       "               num_classes=6, num_leaves=2380, objective=&#x27;multiclass&#x27;,\n",
       "               random_state=42, reg_alpha=21, reg_lambda=44,\n",
       "               subsample=0.9376162941244078, subsample_freq=1)</pre><b>In a Jupyter environment, please rerun this cell to show the HTML representation or trust the notebook. <br />On GitHub, the HTML representation is unable to render, please try loading this page with nbviewer.org.</b></div><div class=\"sk-container\" hidden><div class=\"sk-item\"><div class=\"sk-estimator sk-toggleable\"><input class=\"sk-toggleable__control sk-hidden--visually\" id=\"sk-estimator-id-1\" type=\"checkbox\" checked><label for=\"sk-estimator-id-1\" class=\"sk-toggleable__label sk-toggleable__label-arrow\">LGBMClassifier</label><div class=\"sk-toggleable__content\"><pre>LGBMClassifier(class_weight=&#x27;balanced&#x27;, colsample_bytree=0.6874978844785493,\n",
       "               learning_rate=0.035275015373286644, max_depth=6,\n",
       "               min_child_samples=4900, min_split_gain=2, n_estimators=2500,\n",
       "               num_classes=6, num_leaves=2380, objective=&#x27;multiclass&#x27;,\n",
       "               random_state=42, reg_alpha=21, reg_lambda=44,\n",
       "               subsample=0.9376162941244078, subsample_freq=1)</pre></div></div></div></div></div>"
      ],
      "text/plain": [
       "LGBMClassifier(class_weight='balanced', colsample_bytree=0.6874978844785493,\n",
       "               learning_rate=0.035275015373286644, max_depth=6,\n",
       "               min_child_samples=4900, min_split_gain=2, n_estimators=2500,\n",
       "               num_classes=6, num_leaves=2380, objective='multiclass',\n",
       "               random_state=42, reg_alpha=21, reg_lambda=44,\n",
       "               subsample=0.9376162941244078, subsample_freq=1)"
      ]
     },
     "execution_count": 25,
     "metadata": {},
     "output_type": "execute_result"
    }
   ],
   "source": [
    "# обучаем LGBM на лучших найденных параметрах\n",
    "%%time\n",
    "lgbm_age = LGBMClassifier(**study_lgbm.best_params)\n",
    "eval_set = [(X_val, y_val)]\n",
    "\n",
    "lgbm_age.fit(X_train_,\n",
    "             y_train_,\n",
    "             eval_set=eval_set,\n",
    "             early_stopping_rounds=100,\n",
    "             verbose=False)"
   ]
  },
  {
   "cell_type": "code",
   "execution_count": null,
   "metadata": {
    "colab": {
     "base_uri": "https://localhost:8080/"
    },
    "executionInfo": {
     "elapsed": 188722,
     "status": "ok",
     "timestamp": 1680952398090,
     "user": {
      "displayName": "Гоша Сидоркин",
      "userId": "09429149278087224251"
     },
     "user_tz": -240
    },
    "id": "mHLblBKWRZwf",
    "outputId": "2951216d-07a7-4e92-bfe2-74adf89a5011"
   },
   "outputs": [
    {
     "name": "stdout",
     "output_type": "stream",
     "text": [
      "f1-weighted train = 0.463\n",
      "f1-weighted test = 0.378\n",
      "delta = 22.76%\n"
     ]
    }
   ],
   "source": [
    "# проверим не переобучилась ли наша модель\n",
    "check_overfitting_multiclass(lgbm_age, X_train, y_train, X_test,\n",
    "                             y_test)"
   ]
  },
  {
   "cell_type": "code",
   "execution_count": null,
   "metadata": {
    "colab": {
     "base_uri": "https://localhost:8080/"
    },
    "executionInfo": {
     "elapsed": 35065,
     "status": "ok",
     "timestamp": 1680953547102,
     "user": {
      "displayName": "Гоша Сидоркин",
      "userId": "09429149278087224251"
     },
     "user_tz": -240
    },
    "id": "4dOnqoBgRZ13",
    "outputId": "eaa87012-fd2a-4e99-f3d4-3aa5b30bf8a7"
   },
   "outputs": [
    {
     "name": "stdout",
     "output_type": "stream",
     "text": [
      "              precision    recall  f1-score   support\n",
      "\n",
      "       19-25       0.38      0.67      0.48      6528\n",
      "       26-35       0.52      0.37      0.43     17454\n",
      "       36-45       0.44      0.29      0.35     15497\n",
      "       46-55       0.30      0.29      0.29      8489\n",
      "       56-65       0.24      0.43      0.31      4716\n",
      "         66+       0.11      0.29      0.16      1101\n",
      "\n",
      "    accuracy                           0.38     53785\n",
      "   macro avg       0.33      0.39      0.34     53785\n",
      "weighted avg       0.41      0.38      0.38     53785\n",
      "\n"
     ]
    }
   ],
   "source": [
    "print(\n",
    "    m.classification_report(\n",
    "        y_test,\n",
    "        lgbm_age.predict(X_test),\n",
    "        target_names=['19-25', '26-35', '36-45', '46-55', '56-65', '66+']))"
   ]
  },
  {
   "cell_type": "code",
   "execution_count": null,
   "metadata": {
    "colab": {
     "base_uri": "https://localhost:8080/",
     "height": 299
    },
    "executionInfo": {
     "elapsed": 72889,
     "status": "ok",
     "timestamp": 1680953631415,
     "user": {
      "displayName": "Гоша Сидоркин",
      "userId": "09429149278087224251"
     },
     "user_tz": -240
    },
    "id": "Qc8g6KVDRZx-",
    "outputId": "3f7f8422-5ea8-45a3-c1f3-be4001af2fb4"
   },
   "outputs": [
    {
     "data": {
      "text/html": [
       "\n",
       "  <div id=\"df-a5561ea8-84c9-4c8b-afc0-db5f172e3ebd\">\n",
       "    <div class=\"colab-df-container\">\n",
       "      <div>\n",
       "<style scoped>\n",
       "    .dataframe tbody tr th:only-of-type {\n",
       "        vertical-align: middle;\n",
       "    }\n",
       "\n",
       "    .dataframe tbody tr th {\n",
       "        vertical-align: top;\n",
       "    }\n",
       "\n",
       "    .dataframe thead th {\n",
       "        text-align: right;\n",
       "    }\n",
       "</style>\n",
       "<table border=\"1\" class=\"dataframe\">\n",
       "  <thead>\n",
       "    <tr style=\"text-align: right;\">\n",
       "      <th></th>\n",
       "      <th>model</th>\n",
       "      <th>ROC_AUC</th>\n",
       "      <th>Precision_micro</th>\n",
       "      <th>Precision_macro</th>\n",
       "      <th>Recall_micro</th>\n",
       "      <th>Recall_macro</th>\n",
       "      <th>F1_micro</th>\n",
       "      <th>F1_macro</th>\n",
       "      <th>F1_weighted</th>\n",
       "      <th>Logloss</th>\n",
       "    </tr>\n",
       "  </thead>\n",
       "  <tbody>\n",
       "    <tr>\n",
       "      <th>0</th>\n",
       "      <td>LGBM_Baseline</td>\n",
       "      <td>0.663449</td>\n",
       "      <td>0.239119</td>\n",
       "      <td>0.237250</td>\n",
       "      <td>0.239119</td>\n",
       "      <td>0.292757</td>\n",
       "      <td>0.239119</td>\n",
       "      <td>0.218909</td>\n",
       "      <td>0.246096</td>\n",
       "      <td>1.660580</td>\n",
       "    </tr>\n",
       "    <tr>\n",
       "      <th>1</th>\n",
       "      <td>CatBoost_Baseline</td>\n",
       "      <td>0.675669</td>\n",
       "      <td>0.365381</td>\n",
       "      <td>0.320267</td>\n",
       "      <td>0.365381</td>\n",
       "      <td>0.224303</td>\n",
       "      <td>0.365381</td>\n",
       "      <td>0.216226</td>\n",
       "      <td>0.321252</td>\n",
       "      <td>1.463261</td>\n",
       "    </tr>\n",
       "    <tr>\n",
       "      <th>2</th>\n",
       "      <td>RandomForest_Baseline</td>\n",
       "      <td>0.634683</td>\n",
       "      <td>0.347439</td>\n",
       "      <td>0.262835</td>\n",
       "      <td>0.347439</td>\n",
       "      <td>0.211312</td>\n",
       "      <td>0.347439</td>\n",
       "      <td>0.201186</td>\n",
       "      <td>0.303809</td>\n",
       "      <td>1.712283</td>\n",
       "    </tr>\n",
       "    <tr>\n",
       "      <th>3</th>\n",
       "      <td>LGBM_Baseline_embeddings</td>\n",
       "      <td>0.754989</td>\n",
       "      <td>0.350395</td>\n",
       "      <td>0.315773</td>\n",
       "      <td>0.350395</td>\n",
       "      <td>0.379041</td>\n",
       "      <td>0.350395</td>\n",
       "      <td>0.314327</td>\n",
       "      <td>0.355704</td>\n",
       "      <td>1.466697</td>\n",
       "    </tr>\n",
       "    <tr>\n",
       "      <th>4</th>\n",
       "      <td>CatBoost_Baseline_embeddings</td>\n",
       "      <td>0.779631</td>\n",
       "      <td>0.445366</td>\n",
       "      <td>0.437807</td>\n",
       "      <td>0.445366</td>\n",
       "      <td>0.318597</td>\n",
       "      <td>0.445366</td>\n",
       "      <td>0.332238</td>\n",
       "      <td>0.425856</td>\n",
       "      <td>1.282605</td>\n",
       "    </tr>\n",
       "    <tr>\n",
       "      <th>0</th>\n",
       "      <td>LGBM_Optuna</td>\n",
       "      <td>0.767458</td>\n",
       "      <td>0.375123</td>\n",
       "      <td>0.332053</td>\n",
       "      <td>0.375123</td>\n",
       "      <td>0.390934</td>\n",
       "      <td>0.375123</td>\n",
       "      <td>0.338180</td>\n",
       "      <td>0.377554</td>\n",
       "      <td>1.405721</td>\n",
       "    </tr>\n",
       "  </tbody>\n",
       "</table>\n",
       "</div>\n",
       "      <button class=\"colab-df-convert\" onclick=\"convertToInteractive('df-a5561ea8-84c9-4c8b-afc0-db5f172e3ebd')\"\n",
       "              title=\"Convert this dataframe to an interactive table.\"\n",
       "              style=\"display:none;\">\n",
       "        \n",
       "  <svg xmlns=\"http://www.w3.org/2000/svg\" height=\"24px\"viewBox=\"0 0 24 24\"\n",
       "       width=\"24px\">\n",
       "    <path d=\"M0 0h24v24H0V0z\" fill=\"none\"/>\n",
       "    <path d=\"M18.56 5.44l.94 2.06.94-2.06 2.06-.94-2.06-.94-.94-2.06-.94 2.06-2.06.94zm-11 1L8.5 8.5l.94-2.06 2.06-.94-2.06-.94L8.5 2.5l-.94 2.06-2.06.94zm10 10l.94 2.06.94-2.06 2.06-.94-2.06-.94-.94-2.06-.94 2.06-2.06.94z\"/><path d=\"M17.41 7.96l-1.37-1.37c-.4-.4-.92-.59-1.43-.59-.52 0-1.04.2-1.43.59L10.3 9.45l-7.72 7.72c-.78.78-.78 2.05 0 2.83L4 21.41c.39.39.9.59 1.41.59.51 0 1.02-.2 1.41-.59l7.78-7.78 2.81-2.81c.8-.78.8-2.07 0-2.86zM5.41 20L4 18.59l7.72-7.72 1.47 1.35L5.41 20z\"/>\n",
       "  </svg>\n",
       "      </button>\n",
       "      \n",
       "  <style>\n",
       "    .colab-df-container {\n",
       "      display:flex;\n",
       "      flex-wrap:wrap;\n",
       "      gap: 12px;\n",
       "    }\n",
       "\n",
       "    .colab-df-convert {\n",
       "      background-color: #E8F0FE;\n",
       "      border: none;\n",
       "      border-radius: 50%;\n",
       "      cursor: pointer;\n",
       "      display: none;\n",
       "      fill: #1967D2;\n",
       "      height: 32px;\n",
       "      padding: 0 0 0 0;\n",
       "      width: 32px;\n",
       "    }\n",
       "\n",
       "    .colab-df-convert:hover {\n",
       "      background-color: #E2EBFA;\n",
       "      box-shadow: 0px 1px 2px rgba(60, 64, 67, 0.3), 0px 1px 3px 1px rgba(60, 64, 67, 0.15);\n",
       "      fill: #174EA6;\n",
       "    }\n",
       "\n",
       "    [theme=dark] .colab-df-convert {\n",
       "      background-color: #3B4455;\n",
       "      fill: #D2E3FC;\n",
       "    }\n",
       "\n",
       "    [theme=dark] .colab-df-convert:hover {\n",
       "      background-color: #434B5C;\n",
       "      box-shadow: 0px 1px 3px 1px rgba(0, 0, 0, 0.15);\n",
       "      filter: drop-shadow(0px 1px 2px rgba(0, 0, 0, 0.3));\n",
       "      fill: #FFFFFF;\n",
       "    }\n",
       "  </style>\n",
       "\n",
       "      <script>\n",
       "        const buttonEl =\n",
       "          document.querySelector('#df-a5561ea8-84c9-4c8b-afc0-db5f172e3ebd button.colab-df-convert');\n",
       "        buttonEl.style.display =\n",
       "          google.colab.kernel.accessAllowed ? 'block' : 'none';\n",
       "\n",
       "        async function convertToInteractive(key) {\n",
       "          const element = document.querySelector('#df-a5561ea8-84c9-4c8b-afc0-db5f172e3ebd');\n",
       "          const dataTable =\n",
       "            await google.colab.kernel.invokeFunction('convertToInteractive',\n",
       "                                                     [key], {});\n",
       "          if (!dataTable) return;\n",
       "\n",
       "          const docLinkHtml = 'Like what you see? Visit the ' +\n",
       "            '<a target=\"_blank\" href=https://colab.research.google.com/notebooks/data_table.ipynb>data table notebook</a>'\n",
       "            + ' to learn more about interactive tables.';\n",
       "          element.innerHTML = '';\n",
       "          dataTable['output_type'] = 'display_data';\n",
       "          await google.colab.output.renderOutput(dataTable, element);\n",
       "          const docLink = document.createElement('div');\n",
       "          docLink.innerHTML = docLinkHtml;\n",
       "          element.appendChild(docLink);\n",
       "        }\n",
       "      </script>\n",
       "    </div>\n",
       "  </div>\n",
       "  "
      ],
      "text/plain": [
       "                          model   ROC_AUC  Precision_micro  Precision_macro  \\\n",
       "0                 LGBM_Baseline  0.663449         0.239119         0.237250   \n",
       "1             CatBoost_Baseline  0.675669         0.365381         0.320267   \n",
       "2         RandomForest_Baseline  0.634683         0.347439         0.262835   \n",
       "3      LGBM_Baseline_embeddings  0.754989         0.350395         0.315773   \n",
       "4  CatBoost_Baseline_embeddings  0.779631         0.445366         0.437807   \n",
       "0                   LGBM_Optuna  0.767458         0.375123         0.332053   \n",
       "\n",
       "   Recall_micro  Recall_macro  F1_micro  F1_macro  F1_weighted   Logloss  \n",
       "0      0.239119      0.292757  0.239119  0.218909     0.246096  1.660580  \n",
       "1      0.365381      0.224303  0.365381  0.216226     0.321252  1.463261  \n",
       "2      0.347439      0.211312  0.347439  0.201186     0.303809  1.712283  \n",
       "3      0.350395      0.379041  0.350395  0.314327     0.355704  1.466697  \n",
       "4      0.445366      0.318597  0.445366  0.332238     0.425856  1.282605  \n",
       "0      0.375123      0.390934  0.375123  0.338180     0.377554  1.405721  "
      ]
     },
     "execution_count": 28,
     "metadata": {},
     "output_type": "execute_result"
    }
   ],
   "source": [
    "# получим итоговые метрики на тестовых данных\n",
    "y_pred = lgbm_age.predict(X_test)\n",
    "y_score = lgbm_age.predict_proba(X_test)\n",
    "\n",
    "metrics_age = metrics_age.append(\n",
    "    get_metrics_multiclass(y_test_bin=y_test_bin,\n",
    "                           y_test=y_test,\n",
    "                           y_pred=y_pred,\n",
    "                           y_prob=y_score,\n",
    "                           name='LGBM_Optuna',\n",
    "                           type_multi='ovo'))\n",
    "metrics_age"
   ]
  },
  {
   "cell_type": "markdown",
   "metadata": {
    "id": "JJuJt6IUVQYM"
   },
   "source": [
    "## Catboost"
   ]
  },
  {
   "cell_type": "code",
   "execution_count": null,
   "metadata": {
    "id": "rt-nWthPWFVe"
   },
   "outputs": [],
   "source": [
    "from catboost import Pool\n",
    "\n",
    "# функция для поиска оптимальных параметров с помощью Optuna\n",
    "def objective_cat(trial, X, y, N_FOLDS, random_state):\n",
    "\n",
    "    cat_params = {\n",
    "        # \"iterations\": trial.suggest_categorical(\"iterations\", [i for i in range(500, 3101, 100)]),\n",
    "        # \"learning_rate\": trial.suggest_float(\"learning_rate\",\n",
    "        #                                      0.001,\n",
    "        #                                      0.3,\n",
    "        #                                      log=True),\n",
    "        \"iterations\":\n",
    "        trial.suggest_categorical(\"iterations\", [2600]),\n",
    "        \"learning_rate\":\n",
    "        trial.suggest_categorical(\"learning_rate\", [0.04580986967296549]),\n",
    "        \"max_depth\":\n",
    "        trial.suggest_int(\"max_depth\", 4, 10),\n",
    "        \"colsample_bylevel\":\n",
    "        trial.suggest_float(\"colsample_bylevel\", 0.5, 1.0),\n",
    "        \"l2_leaf_reg\":\n",
    "        trial.suggest_uniform(\"l2_leaf_reg\", 1e-5, 1e2),\n",
    "        \"random_strength\":\n",
    "        trial.suggest_uniform('random_strength', 10, 50),\n",
    "        \"bootstrap_type\":\n",
    "        trial.suggest_categorical(\"bootstrap_type\",\n",
    "                                  [\"Bayesian\", \"Bernoulli\", \"MVS\", \"No\"]),\n",
    "        \"border_count\":\n",
    "        trial.suggest_categorical('border_count', [128, 254]),\n",
    "        \"grow_policy\":\n",
    "        trial.suggest_categorical('grow_policy',\n",
    "                                  [\"SymmetricTree\", \"Depthwise\", \"Lossguide\"]),\n",
    "        \"od_wait\":\n",
    "        trial.suggest_int('od_wait', 500, 2000),\n",
    "        \"leaf_estimation_iterations\":\n",
    "        trial.suggest_int('leaf_estimation_iterations', 1, 15),\n",
    "        \"random_state\":\n",
    "        trial.suggest_categorical(\"random_state\", [random_state])\n",
    "    }\n",
    "\n",
    "    if cat_params[\"bootstrap_type\"] == \"Bayesian\":\n",
    "        cat_params[\"bagging_temperature\"] = trial.suggest_float(\n",
    "            \"bagging_temperature\", 0, 100)\n",
    "    elif cat_params[\"bootstrap_type\"] == \"Bernoulli\":\n",
    "        cat_params[\"subsample\"] = trial.suggest_float(\"subsample\",\n",
    "                                                      0.1,\n",
    "                                                      1,\n",
    "                                                      log=True)\n",
    "\n",
    "    cv = StratifiedKFold(n_splits=N_FOLDS,\n",
    "                         shuffle=True,\n",
    "                         random_state=random_state)\n",
    "\n",
    "    cv_predicts = np.empty(N_FOLDS)\n",
    "\n",
    "    for idx, (train_idx, test_idx) in enumerate(cv.split(X, y)):\n",
    "        X_train, X_test = X.iloc[train_idx], X.iloc[test_idx]\n",
    "        y_train, y_test = y.iloc[train_idx], y.iloc[test_idx]\n",
    "\n",
    "        train_data = Pool(data=X_train, label=y_train)\n",
    "        eval_data = Pool(data=X_test, label=y_test)\n",
    "\n",
    "        model = CatBoostClassifier(**cat_params)\n",
    "        model.fit(train_data,\n",
    "                  eval_set=eval_data,\n",
    "                  early_stopping_rounds=100,\n",
    "                  verbose=0)\n",
    "\n",
    "        preds_proba = model.predict_proba(X_test)\n",
    "        cv_predicts[idx] = m.roc_auc_score(y_test,\n",
    "                                           preds_proba,\n",
    "                                           multi_class='ovo')\n",
    "\n",
    "        return np.mean(cv_predicts)"
   ]
  },
  {
   "cell_type": "code",
   "execution_count": null,
   "metadata": {
    "colab": {
     "base_uri": "https://localhost:8080/",
     "height": 290,
     "referenced_widgets": [
      "776c1a27d24a4130ad4a09bdca474552",
      "212fc570cc55460e92a0a8d2de764796",
      "9356fe47ba2c433fa69ab2bdcf9d916e",
      "175cb0f7b6cd4e92806273888fc60dbb",
      "b7a6c995b6644083b4851ca8a439e9f7",
      "998bc029972a4ba4b496c0754c455b26",
      "518676df6429460ba95a5d1cfb489bea",
      "11df036df43e49fa87426a3224c490b4",
      "0f0d33ab0fd548e180418288a1bdb5c4",
      "8e644f5707e74ec6a42c4d1fcdd6e012",
      "76cbac05b3a1404ea83fb041bb764f77"
     ]
    },
    "collapsed": true,
    "executionInfo": {
     "elapsed": 20307161,
     "status": "ok",
     "timestamp": 1679920370156,
     "user": {
      "displayName": "Гоша Сидоркин",
      "userId": "09429149278087224251"
     },
     "user_tz": -240
    },
    "id": "B12fhDU0WSBA",
    "outputId": "cbe1dd9a-9c78-4abe-9836-46ff64c1f7fe"
   },
   "outputs": [
    {
     "name": "stderr",
     "output_type": "stream",
     "text": [
      "\u001b[32m[I 2023-03-27 06:52:45,011]\u001b[0m A new study created in memory with name: Cat_01\u001b[0m\n"
     ]
    },
    {
     "data": {
      "application/vnd.jupyter.widget-view+json": {
       "model_id": "776c1a27d24a4130ad4a09bdca474552",
       "version_major": 2,
       "version_minor": 0
      },
      "text/plain": [
       "  0%|          | 0/10 [00:00<?, ?it/s]"
      ]
     },
     "metadata": {},
     "output_type": "display_data"
    },
    {
     "name": "stdout",
     "output_type": "stream",
     "text": [
      "\u001b[32m[I 2023-03-27 07:45:01,762]\u001b[0m Trial 0 finished with value: 0.15248433893291924 and parameters: {'iterations': 2600, 'learning_rate': 0.04580986967296549, 'max_depth': 8, 'colsample_bylevel': 0.9203709920711644, 'l2_leaf_reg': 55.01141456996415, 'random_strength': 30.219239919339135, 'bootstrap_type': 'No', 'border_count': 128, 'grow_policy': 'Depthwise', 'od_wait': 741, 'leaf_estimation_iterations': 11, 'random_state': 42}. Best is trial 0 with value: 0.15248433893291924.\u001b[0m\n",
      "\u001b[32m[I 2023-03-27 07:46:52,364]\u001b[0m Trial 1 finished with value: 0.1 and parameters: {'iterations': 2600, 'learning_rate': 0.04580986967296549, 'max_depth': 6, 'colsample_bylevel': 0.6925156750752623, 'l2_leaf_reg': 83.95289455446628, 'random_strength': 20.004398809770827, 'bootstrap_type': 'Bayesian', 'border_count': 254, 'grow_policy': 'Lossguide', 'od_wait': 551, 'leaf_estimation_iterations': 10, 'random_state': 42, 'bagging_temperature': 96.8113103460146}. Best is trial 0 with value: 0.15248433893291924.\u001b[0m\n",
      "\u001b[32m[I 2023-03-27 09:24:19,065]\u001b[0m Trial 2 finished with value: 4.051943072665513 and parameters: {'iterations': 2600, 'learning_rate': 0.04580986967296549, 'max_depth': 8, 'colsample_bylevel': 0.7750413638015461, 'l2_leaf_reg': 81.92321277996199, 'random_strength': 43.59437915177847, 'bootstrap_type': 'Bayesian', 'border_count': 254, 'grow_policy': 'Depthwise', 'od_wait': 1267, 'leaf_estimation_iterations': 5, 'random_state': 42, 'bagging_temperature': 13.023080087230444}. Best is trial 2 with value: 4.051943072665513.\u001b[0m\n",
      "\u001b[32m[I 2023-03-27 10:04:14,143]\u001b[0m Trial 3 finished with value: 4.053327441431945 and parameters: {'iterations': 2600, 'learning_rate': 0.04580986967296549, 'max_depth': 4, 'colsample_bylevel': 0.7311138162952089, 'l2_leaf_reg': 77.48428326875229, 'random_strength': 15.01031680041331, 'bootstrap_type': 'No', 'border_count': 128, 'grow_policy': 'Lossguide', 'od_wait': 1321, 'leaf_estimation_iterations': 12, 'random_state': 42}. Best is trial 3 with value: 4.053327441431945.\u001b[0m\n",
      "\u001b[32m[I 2023-03-27 10:42:51,773]\u001b[0m Trial 4 finished with value: 4.053177775421734 and parameters: {'iterations': 2600, 'learning_rate': 0.04580986967296549, 'max_depth': 4, 'colsample_bylevel': 0.8725707675575127, 'l2_leaf_reg': 29.387136600960773, 'random_strength': 25.552655481320024, 'bootstrap_type': 'MVS', 'border_count': 128, 'grow_policy': 'Lossguide', 'od_wait': 1839, 'leaf_estimation_iterations': 11, 'random_state': 42}. Best is trial 3 with value: 4.053327441431945.\u001b[0m\n",
      "\u001b[32m[I 2023-03-27 11:09:31,119]\u001b[0m Trial 5 finished with value: 4.053471864763472 and parameters: {'iterations': 2600, 'learning_rate': 0.04580986967296549, 'max_depth': 5, 'colsample_bylevel': 0.6024387630892876, 'l2_leaf_reg': 29.231571953428205, 'random_strength': 39.27590572124013, 'bootstrap_type': 'MVS', 'border_count': 128, 'grow_policy': 'SymmetricTree', 'od_wait': 1092, 'leaf_estimation_iterations': 15, 'random_state': 42}. Best is trial 5 with value: 4.053471864763472.\u001b[0m\n",
      "\u001b[32m[I 2023-03-27 11:11:21,512]\u001b[0m Trial 6 finished with value: 4.0 and parameters: {'iterations': 2600, 'learning_rate': 0.04580986967296549, 'max_depth': 6, 'colsample_bylevel': 0.5912782080398301, 'l2_leaf_reg': 52.92815882907898, 'random_strength': 46.03817222408668, 'bootstrap_type': 'Bayesian', 'border_count': 254, 'grow_policy': 'Lossguide', 'od_wait': 1101, 'leaf_estimation_iterations': 11, 'random_state': 42, 'bagging_temperature': 86.94764855584265}. Best is trial 5 with value: 4.053471864763472.\u001b[0m\n",
      "\u001b[32m[I 2023-03-27 11:31:06,769]\u001b[0m Trial 7 finished with value: 4.053388258573428 and parameters: {'iterations': 2600, 'learning_rate': 0.04580986967296549, 'max_depth': 5, 'colsample_bylevel': 0.5120278248468104, 'l2_leaf_reg': 79.74262019144983, 'random_strength': 22.77837492830036, 'bootstrap_type': 'MVS', 'border_count': 254, 'grow_policy': 'SymmetricTree', 'od_wait': 1544, 'leaf_estimation_iterations': 3, 'random_state': 42}. Best is trial 5 with value: 4.053471864763472.\u001b[0m\n",
      "\u001b[32m[I 2023-03-27 11:51:36,958]\u001b[0m Trial 8 finished with value: 4.05329943878657 and parameters: {'iterations': 2600, 'learning_rate': 0.04580986967296549, 'max_depth': 4, 'colsample_bylevel': 0.5473792196659132, 'l2_leaf_reg': 51.12453708510782, 'random_strength': 10.392118287183427, 'bootstrap_type': 'No', 'border_count': 128, 'grow_policy': 'SymmetricTree', 'od_wait': 1607, 'leaf_estimation_iterations': 10, 'random_state': 42}. Best is trial 5 with value: 4.053471864763472.\u001b[0m\n",
      "\u001b[32m[I 2023-03-27 12:32:49,375]\u001b[0m Trial 9 finished with value: 4.053527910723579 and parameters: {'iterations': 2600, 'learning_rate': 0.04580986967296549, 'max_depth': 7, 'colsample_bylevel': 0.6502841606511838, 'l2_leaf_reg': 93.87518619376878, 'random_strength': 38.67772771530471, 'bootstrap_type': 'Bernoulli', 'border_count': 128, 'grow_policy': 'SymmetricTree', 'od_wait': 846, 'leaf_estimation_iterations': 4, 'random_state': 42, 'subsample': 0.7265555309408829}. Best is trial 9 with value: 4.053527910723579.\u001b[0m\n",
      "CPU times: user 20h 14min 21s, sys: 14min 42s, total: 20h 29min 3s\n",
      "Wall time: 5h 40min 4s\n"
     ]
    }
   ],
   "source": [
    "# поиск оптимальных параметров\n",
    "%%time\n",
    "study_cat = optuna.create_study(\n",
    "    direction=\"maximize\",\n",
    "    pruner=optuna.pruners.SuccessiveHalvingPruner(),\n",
    "    study_name=\"Cat_01\")\n",
    "\n",
    "\n",
    "def func(trial):\n",
    "    return objective_cat(trial,\n",
    "                         X_train,\n",
    "                         y_train,\n",
    "                         N_FOLDS=N_FOLDS,\n",
    "                         random_state=RAND)\n",
    "\n",
    "\n",
    "study_cat.optimize(func, n_trials=10, show_progress_bar=True)"
   ]
  },
  {
   "cell_type": "code",
   "execution_count": null,
   "metadata": {
    "colab": {
     "base_uri": "https://localhost:8080/"
    },
    "executionInfo": {
     "elapsed": 79,
     "status": "ok",
     "timestamp": 1679920370167,
     "user": {
      "displayName": "Гоша Сидоркин",
      "userId": "09429149278087224251"
     },
     "user_tz": -240
    },
    "id": "LA1jaVx0pvDJ",
    "outputId": "61c3eab1-0f18-465a-daf6-eaf7511a31f8"
   },
   "outputs": [
    {
     "data": {
      "text/plain": [
       "{'iterations': 2600,\n",
       " 'learning_rate': 0.04580986967296549,\n",
       " 'max_depth': 7,\n",
       " 'colsample_bylevel': 0.6502841606511838,\n",
       " 'l2_leaf_reg': 93.87518619376878,\n",
       " 'random_strength': 38.67772771530471,\n",
       " 'bootstrap_type': 'Bernoulli',\n",
       " 'border_count': 128,\n",
       " 'grow_policy': 'SymmetricTree',\n",
       " 'od_wait': 846,\n",
       " 'leaf_estimation_iterations': 4,\n",
       " 'random_state': 42,\n",
       " 'subsample': 0.7265555309408829}"
      ]
     },
     "execution_count": 41,
     "metadata": {},
     "output_type": "execute_result"
    }
   ],
   "source": [
    "study_cat.best_params"
   ]
  },
  {
   "cell_type": "code",
   "execution_count": null,
   "metadata": {
    "colab": {
     "background_save": true
    },
    "id": "5W9MDrXeC-iv",
    "outputId": "01aa43f1-40fa-4189-e86e-47553e05134d"
   },
   "outputs": [
    {
     "name": "stdout",
     "output_type": "stream",
     "text": [
      "CPU times: user 4h 13min 11s, sys: 6min 39s, total: 4h 19min 50s\n",
      "Wall time: 1h 12min 44s\n"
     ]
    },
    {
     "data": {
      "text/plain": [
       "<catboost.core.CatBoostClassifier at 0x7f8932784820>"
      ]
     },
     "execution_count": 39,
     "metadata": {},
     "output_type": "execute_result"
    }
   ],
   "source": [
    "# обучаем CatBoost на лучших найденных параметрах\n",
    "%%time\n",
    "cat_features = X_train.select_dtypes('category').columns.tolist()\n",
    "cat_age = CatBoostClassifier(**study_cat.best_params, cat_features=cat_features)\n",
    "eval_set = [(X_val, y_val)]\n",
    "\n",
    "cat_age.fit(X_train,\n",
    "            y_train,\n",
    "            eval_set=eval_set,\n",
    "            early_stopping_rounds=100,\n",
    "            verbose=False)"
   ]
  },
  {
   "cell_type": "code",
   "execution_count": null,
   "metadata": {
    "colab": {
     "background_save": true
    },
    "id": "vs9yJ3EeDE38",
    "outputId": "1ecde7ff-de83-4ae4-8b50-90ba4091da1b"
   },
   "outputs": [
    {
     "name": "stdout",
     "output_type": "stream",
     "text": [
      "f1-weighted train = 0.530\n",
      "f1-weighted test = 0.429\n",
      "delta = 23.67%\n"
     ]
    }
   ],
   "source": [
    "# проверим модель на переобучение\n",
    "check_overfitting_multiclass(cat_age, X_train, y_train, X_test, y_test)"
   ]
  },
  {
   "cell_type": "code",
   "execution_count": 43,
   "metadata": {
    "colab": {
     "base_uri": "https://localhost:8080/"
    },
    "executionInfo": {
     "elapsed": 1083,
     "status": "ok",
     "timestamp": 1680969549365,
     "user": {
      "displayName": "Гоша Сидоркин",
      "userId": "09429149278087224251"
     },
     "user_tz": -240
    },
    "id": "04ViWeWxVSpd",
    "outputId": "8f5cbf19-dd5c-4c75-a01c-88ab41320a2d"
   },
   "outputs": [
    {
     "name": "stdout",
     "output_type": "stream",
     "text": [
      "              precision    recall  f1-score   support\n",
      "\n",
      "       19-25       0.54      0.32      0.40      6528\n",
      "       26-35       0.49      0.64      0.55     17454\n",
      "       36-45       0.40      0.53      0.46     15497\n",
      "       46-55       0.39      0.22      0.28      8489\n",
      "       56-65       0.41      0.20      0.27      4716\n",
      "         66+       0.43      0.02      0.04      1101\n",
      "\n",
      "    accuracy                           0.45     53785\n",
      "   macro avg       0.44      0.32      0.33     53785\n",
      "weighted avg       0.45      0.45      0.43     53785\n",
      "\n"
     ]
    }
   ],
   "source": [
    "print(\n",
    "    m.classification_report(\n",
    "        y_test,\n",
    "        cat_age.predict(X_test),\n",
    "        target_names=['19-25', '26-35', '36-45', '46-55', '56-65', '66+']))"
   ]
  },
  {
   "cell_type": "code",
   "execution_count": 42,
   "metadata": {
    "colab": {
     "base_uri": "https://localhost:8080/",
     "height": 330
    },
    "executionInfo": {
     "elapsed": 2073,
     "status": "ok",
     "timestamp": 1680969457835,
     "user": {
      "displayName": "Гоша Сидоркин",
      "userId": "09429149278087224251"
     },
     "user_tz": -240
    },
    "id": "Vz49ssYzVSrj",
    "outputId": "feab2588-598f-4f8c-c066-785a354162f1"
   },
   "outputs": [
    {
     "data": {
      "text/html": [
       "\n",
       "  <div id=\"df-6b407d62-6eb5-4db2-8edf-80c2d646a760\">\n",
       "    <div class=\"colab-df-container\">\n",
       "      <div>\n",
       "<style scoped>\n",
       "    .dataframe tbody tr th:only-of-type {\n",
       "        vertical-align: middle;\n",
       "    }\n",
       "\n",
       "    .dataframe tbody tr th {\n",
       "        vertical-align: top;\n",
       "    }\n",
       "\n",
       "    .dataframe thead th {\n",
       "        text-align: right;\n",
       "    }\n",
       "</style>\n",
       "<table border=\"1\" class=\"dataframe\">\n",
       "  <thead>\n",
       "    <tr style=\"text-align: right;\">\n",
       "      <th></th>\n",
       "      <th>model</th>\n",
       "      <th>ROC_AUC</th>\n",
       "      <th>Precision_micro</th>\n",
       "      <th>Precision_macro</th>\n",
       "      <th>Recall_micro</th>\n",
       "      <th>Recall_macro</th>\n",
       "      <th>F1_micro</th>\n",
       "      <th>F1_macro</th>\n",
       "      <th>F1_weighted</th>\n",
       "      <th>Logloss</th>\n",
       "    </tr>\n",
       "  </thead>\n",
       "  <tbody>\n",
       "    <tr>\n",
       "      <th>0</th>\n",
       "      <td>LGBM_Baseline</td>\n",
       "      <td>0.663449</td>\n",
       "      <td>0.239119</td>\n",
       "      <td>0.237250</td>\n",
       "      <td>0.239119</td>\n",
       "      <td>0.292757</td>\n",
       "      <td>0.239119</td>\n",
       "      <td>0.218909</td>\n",
       "      <td>0.246096</td>\n",
       "      <td>1.660580</td>\n",
       "    </tr>\n",
       "    <tr>\n",
       "      <th>1</th>\n",
       "      <td>CatBoost_Baseline</td>\n",
       "      <td>0.675669</td>\n",
       "      <td>0.365381</td>\n",
       "      <td>0.320267</td>\n",
       "      <td>0.365381</td>\n",
       "      <td>0.224303</td>\n",
       "      <td>0.365381</td>\n",
       "      <td>0.216226</td>\n",
       "      <td>0.321252</td>\n",
       "      <td>1.463261</td>\n",
       "    </tr>\n",
       "    <tr>\n",
       "      <th>2</th>\n",
       "      <td>RandomForest_Baseline</td>\n",
       "      <td>0.634683</td>\n",
       "      <td>0.347439</td>\n",
       "      <td>0.262835</td>\n",
       "      <td>0.347439</td>\n",
       "      <td>0.211312</td>\n",
       "      <td>0.347439</td>\n",
       "      <td>0.201186</td>\n",
       "      <td>0.303809</td>\n",
       "      <td>1.712283</td>\n",
       "    </tr>\n",
       "    <tr>\n",
       "      <th>3</th>\n",
       "      <td>LGBM_Baseline_embeddings</td>\n",
       "      <td>0.754989</td>\n",
       "      <td>0.350395</td>\n",
       "      <td>0.315773</td>\n",
       "      <td>0.350395</td>\n",
       "      <td>0.379041</td>\n",
       "      <td>0.350395</td>\n",
       "      <td>0.314327</td>\n",
       "      <td>0.355704</td>\n",
       "      <td>1.466697</td>\n",
       "    </tr>\n",
       "    <tr>\n",
       "      <th>4</th>\n",
       "      <td>CatBoost_Baseline_embeddings</td>\n",
       "      <td>0.779631</td>\n",
       "      <td>0.445366</td>\n",
       "      <td>0.437807</td>\n",
       "      <td>0.445366</td>\n",
       "      <td>0.318597</td>\n",
       "      <td>0.445366</td>\n",
       "      <td>0.332238</td>\n",
       "      <td>0.425856</td>\n",
       "      <td>1.282605</td>\n",
       "    </tr>\n",
       "    <tr>\n",
       "      <th>0</th>\n",
       "      <td>LGBM_Optuna</td>\n",
       "      <td>0.767458</td>\n",
       "      <td>0.375123</td>\n",
       "      <td>0.332053</td>\n",
       "      <td>0.375123</td>\n",
       "      <td>0.390934</td>\n",
       "      <td>0.375123</td>\n",
       "      <td>0.338180</td>\n",
       "      <td>0.377554</td>\n",
       "      <td>1.405721</td>\n",
       "    </tr>\n",
       "    <tr>\n",
       "      <th>0</th>\n",
       "      <td>CatBoost_Optuna</td>\n",
       "      <td>0.782471</td>\n",
       "      <td>0.449047</td>\n",
       "      <td>0.443242</td>\n",
       "      <td>0.449047</td>\n",
       "      <td>0.319530</td>\n",
       "      <td>0.449047</td>\n",
       "      <td>0.332890</td>\n",
       "      <td>0.428523</td>\n",
       "      <td>1.277642</td>\n",
       "    </tr>\n",
       "  </tbody>\n",
       "</table>\n",
       "</div>\n",
       "      <button class=\"colab-df-convert\" onclick=\"convertToInteractive('df-6b407d62-6eb5-4db2-8edf-80c2d646a760')\"\n",
       "              title=\"Convert this dataframe to an interactive table.\"\n",
       "              style=\"display:none;\">\n",
       "        \n",
       "  <svg xmlns=\"http://www.w3.org/2000/svg\" height=\"24px\"viewBox=\"0 0 24 24\"\n",
       "       width=\"24px\">\n",
       "    <path d=\"M0 0h24v24H0V0z\" fill=\"none\"/>\n",
       "    <path d=\"M18.56 5.44l.94 2.06.94-2.06 2.06-.94-2.06-.94-.94-2.06-.94 2.06-2.06.94zm-11 1L8.5 8.5l.94-2.06 2.06-.94-2.06-.94L8.5 2.5l-.94 2.06-2.06.94zm10 10l.94 2.06.94-2.06 2.06-.94-2.06-.94-.94-2.06-.94 2.06-2.06.94z\"/><path d=\"M17.41 7.96l-1.37-1.37c-.4-.4-.92-.59-1.43-.59-.52 0-1.04.2-1.43.59L10.3 9.45l-7.72 7.72c-.78.78-.78 2.05 0 2.83L4 21.41c.39.39.9.59 1.41.59.51 0 1.02-.2 1.41-.59l7.78-7.78 2.81-2.81c.8-.78.8-2.07 0-2.86zM5.41 20L4 18.59l7.72-7.72 1.47 1.35L5.41 20z\"/>\n",
       "  </svg>\n",
       "      </button>\n",
       "      \n",
       "  <style>\n",
       "    .colab-df-container {\n",
       "      display:flex;\n",
       "      flex-wrap:wrap;\n",
       "      gap: 12px;\n",
       "    }\n",
       "\n",
       "    .colab-df-convert {\n",
       "      background-color: #E8F0FE;\n",
       "      border: none;\n",
       "      border-radius: 50%;\n",
       "      cursor: pointer;\n",
       "      display: none;\n",
       "      fill: #1967D2;\n",
       "      height: 32px;\n",
       "      padding: 0 0 0 0;\n",
       "      width: 32px;\n",
       "    }\n",
       "\n",
       "    .colab-df-convert:hover {\n",
       "      background-color: #E2EBFA;\n",
       "      box-shadow: 0px 1px 2px rgba(60, 64, 67, 0.3), 0px 1px 3px 1px rgba(60, 64, 67, 0.15);\n",
       "      fill: #174EA6;\n",
       "    }\n",
       "\n",
       "    [theme=dark] .colab-df-convert {\n",
       "      background-color: #3B4455;\n",
       "      fill: #D2E3FC;\n",
       "    }\n",
       "\n",
       "    [theme=dark] .colab-df-convert:hover {\n",
       "      background-color: #434B5C;\n",
       "      box-shadow: 0px 1px 3px 1px rgba(0, 0, 0, 0.15);\n",
       "      filter: drop-shadow(0px 1px 2px rgba(0, 0, 0, 0.3));\n",
       "      fill: #FFFFFF;\n",
       "    }\n",
       "  </style>\n",
       "\n",
       "      <script>\n",
       "        const buttonEl =\n",
       "          document.querySelector('#df-6b407d62-6eb5-4db2-8edf-80c2d646a760 button.colab-df-convert');\n",
       "        buttonEl.style.display =\n",
       "          google.colab.kernel.accessAllowed ? 'block' : 'none';\n",
       "\n",
       "        async function convertToInteractive(key) {\n",
       "          const element = document.querySelector('#df-6b407d62-6eb5-4db2-8edf-80c2d646a760');\n",
       "          const dataTable =\n",
       "            await google.colab.kernel.invokeFunction('convertToInteractive',\n",
       "                                                     [key], {});\n",
       "          if (!dataTable) return;\n",
       "\n",
       "          const docLinkHtml = 'Like what you see? Visit the ' +\n",
       "            '<a target=\"_blank\" href=https://colab.research.google.com/notebooks/data_table.ipynb>data table notebook</a>'\n",
       "            + ' to learn more about interactive tables.';\n",
       "          element.innerHTML = '';\n",
       "          dataTable['output_type'] = 'display_data';\n",
       "          await google.colab.output.renderOutput(dataTable, element);\n",
       "          const docLink = document.createElement('div');\n",
       "          docLink.innerHTML = docLinkHtml;\n",
       "          element.appendChild(docLink);\n",
       "        }\n",
       "      </script>\n",
       "    </div>\n",
       "  </div>\n",
       "  "
      ],
      "text/plain": [
       "                          model   ROC_AUC  Precision_micro  Precision_macro  \\\n",
       "0                 LGBM_Baseline  0.663449         0.239119         0.237250   \n",
       "1             CatBoost_Baseline  0.675669         0.365381         0.320267   \n",
       "2         RandomForest_Baseline  0.634683         0.347439         0.262835   \n",
       "3      LGBM_Baseline_embeddings  0.754989         0.350395         0.315773   \n",
       "4  CatBoost_Baseline_embeddings  0.779631         0.445366         0.437807   \n",
       "0                   LGBM_Optuna  0.767458         0.375123         0.332053   \n",
       "0               CatBoost_Optuna  0.782471         0.449047         0.443242   \n",
       "\n",
       "   Recall_micro  Recall_macro  F1_micro  F1_macro  F1_weighted   Logloss  \n",
       "0      0.239119      0.292757  0.239119  0.218909     0.246096  1.660580  \n",
       "1      0.365381      0.224303  0.365381  0.216226     0.321252  1.463261  \n",
       "2      0.347439      0.211312  0.347439  0.201186     0.303809  1.712283  \n",
       "3      0.350395      0.379041  0.350395  0.314327     0.355704  1.466697  \n",
       "4      0.445366      0.318597  0.445366  0.332238     0.425856  1.282605  \n",
       "0      0.375123      0.390934  0.375123  0.338180     0.377554  1.405721  \n",
       "0      0.449047      0.319530  0.449047  0.332890     0.428523  1.277642  "
      ]
     },
     "execution_count": 42,
     "metadata": {},
     "output_type": "execute_result"
    }
   ],
   "source": [
    "# получим итоговые метрики на тестовых данных\n",
    "y_pred = cat_age.predict(X_test)\n",
    "y_score = cat_age.predict_proba(X_test)\n",
    "\n",
    "metrics_age = metrics_age.append(\n",
    "    get_metrics_multiclass(y_test_bin=y_test_bin,\n",
    "                           y_test=y_test,\n",
    "                           y_pred=y_pred,\n",
    "                           y_prob=y_score,\n",
    "                           name='CatBoost_Optuna',\n",
    "                           type_multi='ovo'))\n",
    "metrics_age"
   ]
  },
  {
   "cell_type": "markdown",
   "metadata": {
    "id": "DQXHdNflY-7k"
   },
   "source": [
    "Вывод: самые высокие метрики у catboost с эмбеддингами"
   ]
  },
  {
   "cell_type": "code",
   "execution_count": null,
   "metadata": {
    "id": "gFTTR9-FZQQ-"
   },
   "outputs": [],
   "source": [
    "metrics_age.to_csv('metrics/metrics_age_tuned.csv', index=False)"
   ]
  },
  {
   "cell_type": "markdown",
   "metadata": {
    "id": "GPH39WdkZEXM"
   },
   "source": [
    "# Submission"
   ]
  },
  {
   "cell_type": "markdown",
   "metadata": {
    "id": "UDSa-F1mU3YA"
   },
   "source": [
    "## Gender"
   ]
  },
  {
   "cell_type": "markdown",
   "metadata": {
    "id": "-P0ONFSpayV3"
   },
   "source": [
    "Для итогового предсказания по полу будем использовать CatBoost с кросс-валидацией со следующими параметрами"
   ]
  },
  {
   "cell_type": "code",
   "execution_count": null,
   "metadata": {
    "id": "5wRrsiuS_o-R"
   },
   "outputs": [],
   "source": [
    "cat_gender_best = {\n",
    "    'iterations': 3000,\n",
    "    'learning_rate': 0.051418504137325544,\n",
    "    'max_depth': 4,\n",
    "    'colsample_bylevel': 0.7594434568905333,\n",
    "    'l2_leaf_reg': 57.13098420673366,\n",
    "    'random_strength': 30.89358906898957,\n",
    "    'bootstrap_type': 'No',\n",
    "    'border_count': 128,\n",
    "    'grow_policy': 'Lossguide',\n",
    "    'od_wait': 1886,\n",
    "    'leaf_estimation_iterations': 15,\n",
    "    'eval_metric': 'AUC',\n",
    "    'scale_pos_weight': 0.9531740695036613,\n",
    "    'random_state': 42\n",
    "}"
   ]
  },
  {
   "cell_type": "code",
   "execution_count": null,
   "metadata": {
    "colab": {
     "base_uri": "https://localhost:8080/"
    },
    "executionInfo": {
     "elapsed": 4357,
     "status": "ok",
     "timestamp": 1679984538021,
     "user": {
      "displayName": "Гоша Сидоркин",
      "userId": "09429149278087224251"
     },
     "user_tz": -240
    },
    "id": "b4JLyl8kAGyu",
    "outputId": "d3a201cb-0204-43fc-e764-5a63d2393cef"
   },
   "outputs": [
    {
     "data": {
      "text/plain": [
       "1    135331\n",
       "0    128994\n",
       "Name: is_male, dtype: int64"
      ]
     },
     "execution_count": 30,
     "metadata": {},
     "output_type": "execute_result"
    }
   ],
   "source": [
    "# итоговый датафрейм для обучения\n",
    "df_train_cat = targets.merge(df, how='inner', on=['user_id']) \\\n",
    "                      .merge(url_emb, how='inner', on='user_id') \\\n",
    "                      .merge(city_emb, how='inner', on=['user_id']) \\\n",
    "                      .merge(reg_emb, how='inner', on=['user_id']) \\\n",
    "                      .merge(model_emb, how='inner', on=['user_id'])\n",
    "\n",
    "df_train_cat = df_train_cat[df_train_cat['is_male'] != 'NA']\n",
    "df_train_cat = df_train_cat.dropna()\n",
    "df_train_cat['is_male'] = df_train_cat['is_male'].map(int)\n",
    "df_train_cat['is_male'].value_counts()"
   ]
  },
  {
   "cell_type": "code",
   "execution_count": null,
   "metadata": {
    "id": "p86CT5WOPSOv"
   },
   "outputs": [],
   "source": [
    "# датафрейм, для которого будем делать предсказания\n",
    "id_to_sub_data = id_to_submit.merge(df, how='inner', on=['user_id']) \\\n",
    "    .merge(url_emb, how='inner', on='user_id') \\\n",
    "    .merge(city_emb, how='inner', on=['user_id']) \\\n",
    "    .merge(reg_emb, how='inner', on=['user_id']) \\\n",
    "    .merge(model_emb, how='inner', on=['user_id']) \\\n",
    "    .drop('user_id', axis=1)"
   ]
  },
  {
   "cell_type": "code",
   "execution_count": null,
   "metadata": {
    "colab": {
     "base_uri": "https://localhost:8080/"
    },
    "executionInfo": {
     "elapsed": 605,
     "status": "ok",
     "timestamp": 1679984541405,
     "user": {
      "displayName": "Гоша Сидоркин",
      "userId": "09429149278087224251"
     },
     "user_tz": -240
    },
    "id": "9DElXAsfAKqD",
    "outputId": "c8617310-00ec-4ec8-fa36-4b02dd408a8a"
   },
   "outputs": [
    {
     "name": "stdout",
     "output_type": "stream",
     "text": [
      "CPU times: user 87.4 ms, sys: 123 ms, total: 210 ms\n",
      "Wall time: 210 ms\n"
     ]
    }
   ],
   "source": [
    "# train/test split\n",
    "%%time\n",
    "X_train = df_train_cat.drop(['user_id', 'age', 'is_male'], axis=1)\n",
    "y_train = df_train_cat['is_male']\n",
    "\n",
    "X_test = id_to_sub_data\n",
    "\n",
    "# значение для scale_pos_weight\n",
    "ratio = float(np.sum(y_train == 0)) / np.sum(y_train == 1)"
   ]
  },
  {
   "cell_type": "code",
   "execution_count": null,
   "metadata": {
    "colab": {
     "base_uri": "https://localhost:8080/"
    },
    "executionInfo": {
     "elapsed": 7421554,
     "status": "ok",
     "timestamp": 1679991962955,
     "user": {
      "displayName": "Гоша Сидоркин",
      "userId": "09429149278087224251"
     },
     "user_tz": -240
    },
    "id": "bA8tL79l_psZ",
    "outputId": "2356f480-2d4d-40b5-c060-e562035223c7"
   },
   "outputs": [
    {
     "name": "stdout",
     "output_type": "stream",
     "text": [
      "id = 0 0.8473140732028428 \n",
      "\n",
      "id = 1 0.8489847350187312 \n",
      "\n",
      "id = 2 0.8430018692300713 \n",
      "\n",
      "id = 3 0.8493735341517681 \n",
      "\n",
      "id = 4 0.8462049992990305 \n",
      "\n",
      "0.8469758421804888\n"
     ]
    }
   ],
   "source": [
    "# кросс-валидация с предсказанием на тестовых данных\n",
    "finish_test_preds = []\n",
    "finish_test_preds_proba = []\n",
    "\n",
    "cv = StratifiedKFold(n_splits=N_FOLDS, shuffle=True, random_state=RAND)\n",
    "cv_predicts_val = np.empty(N_FOLDS)\n",
    "\n",
    "cat_features = X_train.select_dtypes('category').columns.tolist()\n",
    "\n",
    "for idx, (train_idx, test_idx) in enumerate(cv.split(X_train, y_train)):\n",
    "    X_train_, X_val_ = X_train.iloc[train_idx], X_train.iloc[test_idx]\n",
    "    y_train_, y_val_ = y_train.iloc[train_idx], y_train.iloc[test_idx]\n",
    "\n",
    "    model = CatBoostClassifier(cat_features=cat_features, **cat_gender_best)\n",
    "\n",
    "    model.fit(X_train_, y_train_, verbose=False)\n",
    "\n",
    "    # OOF\n",
    "    preds_val_proba = model.predict_proba(X_val_)[:, 1]\n",
    "    cv_predicts_val[idx] = m.roc_auc_score(y_val_, preds_val_proba)\n",
    "\n",
    "    # holdout\n",
    "    preds_test = model.predict(X_test)\n",
    "    preds_test_proba = model.predict_proba(X_test)\n",
    "\n",
    "    finish_test_preds.append(preds_test)\n",
    "    finish_test_preds_proba.append(preds_test_proba)\n",
    "\n",
    "    print(f\"id = {idx}\", cv_predicts_val[idx], '\\n')\n",
    "\n",
    "print(np.mean(cv_predicts_val))"
   ]
  },
  {
   "cell_type": "code",
   "execution_count": null,
   "metadata": {
    "id": "_WbL5D_f_tUe"
   },
   "outputs": [],
   "source": [
    "# находим среднее по вероятностям\n",
    "test_pred_proba = np.mean(finish_test_preds_proba, axis=0)"
   ]
  },
  {
   "cell_type": "code",
   "execution_count": null,
   "metadata": {
    "colab": {
     "base_uri": "https://localhost:8080/",
     "height": 419
    },
    "executionInfo": {
     "elapsed": 21,
     "status": "ok",
     "timestamp": 1679991962957,
     "user": {
      "displayName": "Гоша Сидоркин",
      "userId": "09429149278087224251"
     },
     "user_tz": -240
    },
    "id": "8rNPmHGmeCHR",
    "outputId": "59c9c667-3013-4b7f-cd2f-ba3106bb8bce"
   },
   "outputs": [
    {
     "data": {
      "text/html": [
       "\n",
       "  <div id=\"df-eae93f36-1f55-4c07-9af3-4d75794c6672\">\n",
       "    <div class=\"colab-df-container\">\n",
       "      <div>\n",
       "<style scoped>\n",
       "    .dataframe tbody tr th:only-of-type {\n",
       "        vertical-align: middle;\n",
       "    }\n",
       "\n",
       "    .dataframe tbody tr th {\n",
       "        vertical-align: top;\n",
       "    }\n",
       "\n",
       "    .dataframe thead th {\n",
       "        text-align: right;\n",
       "    }\n",
       "</style>\n",
       "<table border=\"1\" class=\"dataframe\">\n",
       "  <thead>\n",
       "    <tr style=\"text-align: right;\">\n",
       "      <th></th>\n",
       "      <th>user_id</th>\n",
       "      <th>is_male</th>\n",
       "    </tr>\n",
       "  </thead>\n",
       "  <tbody>\n",
       "    <tr>\n",
       "      <th>221301</th>\n",
       "      <td>221301</td>\n",
       "      <td>0.969222</td>\n",
       "    </tr>\n",
       "    <tr>\n",
       "      <th>31271</th>\n",
       "      <td>31271</td>\n",
       "      <td>0.531237</td>\n",
       "    </tr>\n",
       "    <tr>\n",
       "      <th>211594</th>\n",
       "      <td>211594</td>\n",
       "      <td>0.564567</td>\n",
       "    </tr>\n",
       "    <tr>\n",
       "      <th>253119</th>\n",
       "      <td>253119</td>\n",
       "      <td>0.516738</td>\n",
       "    </tr>\n",
       "    <tr>\n",
       "      <th>192578</th>\n",
       "      <td>192578</td>\n",
       "      <td>0.802211</td>\n",
       "    </tr>\n",
       "    <tr>\n",
       "      <th>...</th>\n",
       "      <td>...</td>\n",
       "      <td>...</td>\n",
       "    </tr>\n",
       "    <tr>\n",
       "      <th>145307</th>\n",
       "      <td>415284</td>\n",
       "      <td>0.541976</td>\n",
       "    </tr>\n",
       "    <tr>\n",
       "      <th>145308</th>\n",
       "      <td>415285</td>\n",
       "      <td>0.652584</td>\n",
       "    </tr>\n",
       "    <tr>\n",
       "      <th>145309</th>\n",
       "      <td>415286</td>\n",
       "      <td>0.603176</td>\n",
       "    </tr>\n",
       "    <tr>\n",
       "      <th>145312</th>\n",
       "      <td>415306</td>\n",
       "      <td>0.649970</td>\n",
       "    </tr>\n",
       "    <tr>\n",
       "      <th>145315</th>\n",
       "      <td>415315</td>\n",
       "      <td>0.543699</td>\n",
       "    </tr>\n",
       "  </tbody>\n",
       "</table>\n",
       "<p>144724 rows × 2 columns</p>\n",
       "</div>\n",
       "      <button class=\"colab-df-convert\" onclick=\"convertToInteractive('df-eae93f36-1f55-4c07-9af3-4d75794c6672')\"\n",
       "              title=\"Convert this dataframe to an interactive table.\"\n",
       "              style=\"display:none;\">\n",
       "        \n",
       "  <svg xmlns=\"http://www.w3.org/2000/svg\" height=\"24px\"viewBox=\"0 0 24 24\"\n",
       "       width=\"24px\">\n",
       "    <path d=\"M0 0h24v24H0V0z\" fill=\"none\"/>\n",
       "    <path d=\"M18.56 5.44l.94 2.06.94-2.06 2.06-.94-2.06-.94-.94-2.06-.94 2.06-2.06.94zm-11 1L8.5 8.5l.94-2.06 2.06-.94-2.06-.94L8.5 2.5l-.94 2.06-2.06.94zm10 10l.94 2.06.94-2.06 2.06-.94-2.06-.94-.94-2.06-.94 2.06-2.06.94z\"/><path d=\"M17.41 7.96l-1.37-1.37c-.4-.4-.92-.59-1.43-.59-.52 0-1.04.2-1.43.59L10.3 9.45l-7.72 7.72c-.78.78-.78 2.05 0 2.83L4 21.41c.39.39.9.59 1.41.59.51 0 1.02-.2 1.41-.59l7.78-7.78 2.81-2.81c.8-.78.8-2.07 0-2.86zM5.41 20L4 18.59l7.72-7.72 1.47 1.35L5.41 20z\"/>\n",
       "  </svg>\n",
       "      </button>\n",
       "      \n",
       "  <style>\n",
       "    .colab-df-container {\n",
       "      display:flex;\n",
       "      flex-wrap:wrap;\n",
       "      gap: 12px;\n",
       "    }\n",
       "\n",
       "    .colab-df-convert {\n",
       "      background-color: #E8F0FE;\n",
       "      border: none;\n",
       "      border-radius: 50%;\n",
       "      cursor: pointer;\n",
       "      display: none;\n",
       "      fill: #1967D2;\n",
       "      height: 32px;\n",
       "      padding: 0 0 0 0;\n",
       "      width: 32px;\n",
       "    }\n",
       "\n",
       "    .colab-df-convert:hover {\n",
       "      background-color: #E2EBFA;\n",
       "      box-shadow: 0px 1px 2px rgba(60, 64, 67, 0.3), 0px 1px 3px 1px rgba(60, 64, 67, 0.15);\n",
       "      fill: #174EA6;\n",
       "    }\n",
       "\n",
       "    [theme=dark] .colab-df-convert {\n",
       "      background-color: #3B4455;\n",
       "      fill: #D2E3FC;\n",
       "    }\n",
       "\n",
       "    [theme=dark] .colab-df-convert:hover {\n",
       "      background-color: #434B5C;\n",
       "      box-shadow: 0px 1px 3px 1px rgba(0, 0, 0, 0.15);\n",
       "      filter: drop-shadow(0px 1px 2px rgba(0, 0, 0, 0.3));\n",
       "      fill: #FFFFFF;\n",
       "    }\n",
       "  </style>\n",
       "\n",
       "      <script>\n",
       "        const buttonEl =\n",
       "          document.querySelector('#df-eae93f36-1f55-4c07-9af3-4d75794c6672 button.colab-df-convert');\n",
       "        buttonEl.style.display =\n",
       "          google.colab.kernel.accessAllowed ? 'block' : 'none';\n",
       "\n",
       "        async function convertToInteractive(key) {\n",
       "          const element = document.querySelector('#df-eae93f36-1f55-4c07-9af3-4d75794c6672');\n",
       "          const dataTable =\n",
       "            await google.colab.kernel.invokeFunction('convertToInteractive',\n",
       "                                                     [key], {});\n",
       "          if (!dataTable) return;\n",
       "\n",
       "          const docLinkHtml = 'Like what you see? Visit the ' +\n",
       "            '<a target=\"_blank\" href=https://colab.research.google.com/notebooks/data_table.ipynb>data table notebook</a>'\n",
       "            + ' to learn more about interactive tables.';\n",
       "          element.innerHTML = '';\n",
       "          dataTable['output_type'] = 'display_data';\n",
       "          await google.colab.output.renderOutput(dataTable, element);\n",
       "          const docLink = document.createElement('div');\n",
       "          docLink.innerHTML = docLinkHtml;\n",
       "          element.appendChild(docLink);\n",
       "        }\n",
       "      </script>\n",
       "    </div>\n",
       "  </div>\n",
       "  "
      ],
      "text/plain": [
       "        user_id   is_male\n",
       "221301   221301  0.969222\n",
       "31271     31271  0.531237\n",
       "211594   211594  0.564567\n",
       "253119   253119  0.516738\n",
       "192578   192578  0.802211\n",
       "...         ...       ...\n",
       "145307   415284  0.541976\n",
       "145308   415285  0.652584\n",
       "145309   415286  0.603176\n",
       "145312   415306  0.649970\n",
       "145315   415315  0.543699\n",
       "\n",
       "[144724 rows x 2 columns]"
      ]
     },
     "execution_count": 35,
     "metadata": {},
     "output_type": "execute_result"
    }
   ],
   "source": [
    "# сохраним предсказания в итоговое решение\n",
    "id_to_submit['is_male'] = test_pred_proba[:, 1]\n",
    "id_to_submit"
   ]
  },
  {
   "cell_type": "markdown",
   "metadata": {
    "id": "aSpkwSHb-E9b"
   },
   "source": [
    "## Age"
   ]
  },
  {
   "cell_type": "markdown",
   "metadata": {
    "id": "82GWdIN_b8q5"
   },
   "source": [
    "Для итогового предсказания бакета по возрасту будем использовать CastBoost с кросс-валидацией со следующими параметрами"
   ]
  },
  {
   "cell_type": "code",
   "execution_count": null,
   "metadata": {
    "id": "te-LDFoB-GiR"
   },
   "outputs": [],
   "source": [
    "cat_age_params = {\n",
    "    'iterations': 2600,\n",
    "    'learning_rate': 0.04580986967296549,\n",
    "    'max_depth': 7,\n",
    "    'colsample_bylevel': 0.6502841606511838,\n",
    "    'l2_leaf_reg': 93.87518619376878,\n",
    "    'random_strength': 38.67772771530471,\n",
    "    'bootstrap_type': 'Bernoulli',\n",
    "    'border_count': 128,\n",
    "    'grow_policy': 'SymmetricTree',\n",
    "    'od_wait': 846,\n",
    "    'leaf_estimation_iterations': 4,\n",
    "    'random_state': 42,\n",
    "    'subsample': 0.7265555309408829\n",
    "}"
   ]
  },
  {
   "cell_type": "code",
   "execution_count": null,
   "metadata": {
    "id": "KV4FTcSxVQDr"
   },
   "outputs": [],
   "source": [
    "def age_bucket(x):\n",
    "    \"\"\"Функция для создания бакетов по возрасту\"\"\"\n",
    "    return bisect.bisect_left([18, 25, 35, 45, 55, 65], x)"
   ]
  },
  {
   "cell_type": "code",
   "execution_count": null,
   "metadata": {
    "colab": {
     "base_uri": "https://localhost:8080/",
     "height": 279
    },
    "executionInfo": {
     "elapsed": 6559,
     "status": "ok",
     "timestamp": 1680008882629,
     "user": {
      "displayName": "Гоша Сидоркин",
      "userId": "09429149278087224251"
     },
     "user_tz": -240
    },
    "id": "6aMJXqLY-Gqc",
    "outputId": "7ab5eb08-3779-4316-a21b-25943c7d63a2"
   },
   "outputs": [
    {
     "data": {
      "image/png": "[encoded data removed]",
      "text/plain": [
       "<Figure size 432x288 with 1 Axes>"
      ]
     },
     "metadata": {},
     "output_type": "display_data"
    }
   ],
   "source": [
    "df_trn = targets.merge(df, how='inner', on=['user_id']) \\\n",
    "    .merge(url_emb, how='inner', on='user_id') \\\n",
    "    .merge(model_emb, how='inner', on=['user_id']) \\\n",
    "    .merge(reg_emb, how='inner', on=['user_id']) \\\n",
    "    .merge(city_emb, how='inner', on=['user_id'])\n",
    "\n",
    "# удаляем пропущенные значения\n",
    "df_trn = df_trn[df_trn['age'] != 'NA']\n",
    "df_trn = df_trn.dropna()\n",
    "\n",
    "# создаем бакеты по возрасту\n",
    "df_trn['age'] = df_trn['age'].map(age_bucket)\n",
    "sns.histplot(df_trn['age'], bins=7);"
   ]
  },
  {
   "cell_type": "code",
   "execution_count": null,
   "metadata": {
    "id": "XnB9nTn3-GmS"
   },
   "outputs": [],
   "source": [
    "# по условиям соревнования в тестовых данных нет людей младше 19 лет\n",
    "# поэтому можем удалить бакет 0\n",
    "df_trn = df_trn.query('age > 0')"
   ]
  },
  {
   "cell_type": "code",
   "execution_count": null,
   "metadata": {
    "id": "8Y3_o1WdVMYQ"
   },
   "outputs": [],
   "source": [
    "# датафрейм, для которого будем делать предсказание\n",
    "id_to_sub_data = id_to_submit.merge(df, how='inner', on=['user_id']) \\\n",
    "    .merge(url_emb, how='inner', on='user_id') \\\n",
    "    .merge(city_emb, how='inner', on=['user_id']) \\\n",
    "    .merge(reg_emb, how='inner', on=['user_id']) \\\n",
    "    .merge(model_emb, how='inner', on=['user_id']) \\\n",
    "    .drop('user_id', axis=1)"
   ]
  },
  {
   "cell_type": "code",
   "execution_count": null,
   "metadata": {
    "colab": {
     "base_uri": "https://localhost:8080/"
    },
    "executionInfo": {
     "elapsed": 5,
     "status": "ok",
     "timestamp": 1680008943936,
     "user": {
      "displayName": "Гоша Сидоркин",
      "userId": "09429149278087224251"
     },
     "user_tz": -240
    },
    "id": "XWVGxONc_VCO",
    "outputId": "78664f11-b777-4176-89f1-ce5c95d8fd76"
   },
   "outputs": [
    {
     "name": "stdout",
     "output_type": "stream",
     "text": [
      "CPU times: user 134 ms, sys: 129 ms, total: 264 ms\n",
      "Wall time: 265 ms\n"
     ]
    }
   ],
   "source": [
    "# train/test split\n",
    "%%time\n",
    "X_train = df_trn.drop(['user_id', 'age', 'is_male'], axis=1)\n",
    "y_train = df_trn['age']\n",
    "\n",
    "X_test = id_to_sub_data"
   ]
  },
  {
   "cell_type": "code",
   "execution_count": null,
   "metadata": {
    "colab": {
     "base_uri": "https://localhost:8080/"
    },
    "executionInfo": {
     "elapsed": 18409426,
     "status": "ok",
     "timestamp": 1680040677134,
     "user": {
      "displayName": "Гоша Сидоркин",
      "userId": "09429149278087224251"
     },
     "user_tz": -240
    },
    "id": "rasJTyPR-GeY",
    "outputId": "57fe0df5-7243-49e9-f4f2-66323fc913f8"
   },
   "outputs": [
    {
     "name": "stdout",
     "output_type": "stream",
     "text": [
      "id = 0 0.7700369031021982 \n",
      "\n",
      "id = 1 0.7700856722776952 \n",
      "\n",
      "id = 2 0.7695656046299223 \n",
      "\n",
      "id = 3 0.7695729190339798 \n",
      "\n",
      "id = 4 0.7688620634266969 \n",
      "\n",
      "0.7696246324940985\n"
     ]
    }
   ],
   "source": [
    "# кросс-валидация с предсказанием на тестовых данных\n",
    "finish_test_preds = []\n",
    "finish_test_preds_proba = []\n",
    "\n",
    "cv = StratifiedKFold(n_splits=N_FOLDS, shuffle=True, random_state=RAND)\n",
    "cv_predicts_val = np.empty(N_FOLDS)\n",
    "\n",
    "cat_features = X_train.select_dtypes('category').columns.tolist()\n",
    "\n",
    "for idx, (train_idx, test_idx) in enumerate(cv.split(X_train, y_train)):\n",
    "    X_train_, X_val_ = X_train.iloc[train_idx], X_train.iloc[test_idx]\n",
    "    y_train_, y_val_ = y_train.iloc[train_idx], y_train.iloc[test_idx]\n",
    "\n",
    "    model = CatBoostClassifier(cat_features=cat_features, **cat_age_params)\n",
    "\n",
    "    model.fit(X_train_,\n",
    "              y_train_,\n",
    "              eval_set=[(X_val_, y_val_)],\n",
    "              early_stopping_rounds=100,\n",
    "              verbose=0)\n",
    "\n",
    "    # OOF\n",
    "    preds_val_proba = model.predict_proba(X_val_)\n",
    "    cv_predicts_val[idx] = m.roc_auc_score(y_val_,\n",
    "                                           preds_val_proba,\n",
    "                                           multi_class='ovo')\n",
    "\n",
    "    # holdout\n",
    "    preds_test = model.predict(X_test)\n",
    "    preds_test_proba = model.predict_proba(X_test)\n",
    "\n",
    "    finish_test_preds.append(preds_test)\n",
    "    finish_test_preds_proba.append(preds_test_proba)\n",
    "\n",
    "    print(f\"id = {idx}\", cv_predicts_val[idx], '\\n')\n",
    "\n",
    "print(np.mean(cv_predicts_val))"
   ]
  },
  {
   "cell_type": "code",
   "execution_count": null,
   "metadata": {
    "id": "aIbEN8Jxgjmy"
   },
   "outputs": [],
   "source": [
    "# находим моду по классам\n",
    "test_pred = stats.mode(np.column_stack(finish_test_preds), axis=1)[0]"
   ]
  },
  {
   "cell_type": "code",
   "execution_count": null,
   "metadata": {
    "colab": {
     "base_uri": "https://localhost:8080/",
     "height": 419
    },
    "executionInfo": {
     "elapsed": 61,
     "status": "ok",
     "timestamp": 1680040682508,
     "user": {
      "displayName": "Гоша Сидоркин",
      "userId": "09429149278087224251"
     },
     "user_tz": -240
    },
    "id": "Is0nILgqPR92",
    "outputId": "c7983492-cec2-4724-a493-1d837359c39e"
   },
   "outputs": [
    {
     "data": {
      "text/html": [
       "\n",
       "  <div id=\"df-06029962-d974-4392-adbf-4a8db3ec1298\">\n",
       "    <div class=\"colab-df-container\">\n",
       "      <div>\n",
       "<style scoped>\n",
       "    .dataframe tbody tr th:only-of-type {\n",
       "        vertical-align: middle;\n",
       "    }\n",
       "\n",
       "    .dataframe tbody tr th {\n",
       "        vertical-align: top;\n",
       "    }\n",
       "\n",
       "    .dataframe thead th {\n",
       "        text-align: right;\n",
       "    }\n",
       "</style>\n",
       "<table border=\"1\" class=\"dataframe\">\n",
       "  <thead>\n",
       "    <tr style=\"text-align: right;\">\n",
       "      <th></th>\n",
       "      <th>user_id</th>\n",
       "      <th>is_male</th>\n",
       "      <th>age</th>\n",
       "    </tr>\n",
       "  </thead>\n",
       "  <tbody>\n",
       "    <tr>\n",
       "      <th>0</th>\n",
       "      <td>221301</td>\n",
       "      <td>0.969222</td>\n",
       "      <td>2</td>\n",
       "    </tr>\n",
       "    <tr>\n",
       "      <th>1</th>\n",
       "      <td>31271</td>\n",
       "      <td>0.531237</td>\n",
       "      <td>3</td>\n",
       "    </tr>\n",
       "    <tr>\n",
       "      <th>2</th>\n",
       "      <td>211594</td>\n",
       "      <td>0.564567</td>\n",
       "      <td>2</td>\n",
       "    </tr>\n",
       "    <tr>\n",
       "      <th>3</th>\n",
       "      <td>253119</td>\n",
       "      <td>0.516738</td>\n",
       "      <td>2</td>\n",
       "    </tr>\n",
       "    <tr>\n",
       "      <th>4</th>\n",
       "      <td>192578</td>\n",
       "      <td>0.802211</td>\n",
       "      <td>2</td>\n",
       "    </tr>\n",
       "    <tr>\n",
       "      <th>...</th>\n",
       "      <td>...</td>\n",
       "      <td>...</td>\n",
       "      <td>...</td>\n",
       "    </tr>\n",
       "    <tr>\n",
       "      <th>144719</th>\n",
       "      <td>415284</td>\n",
       "      <td>0.541976</td>\n",
       "      <td>2</td>\n",
       "    </tr>\n",
       "    <tr>\n",
       "      <th>144720</th>\n",
       "      <td>415285</td>\n",
       "      <td>0.652584</td>\n",
       "      <td>2</td>\n",
       "    </tr>\n",
       "    <tr>\n",
       "      <th>144721</th>\n",
       "      <td>415286</td>\n",
       "      <td>0.603176</td>\n",
       "      <td>3</td>\n",
       "    </tr>\n",
       "    <tr>\n",
       "      <th>144722</th>\n",
       "      <td>415306</td>\n",
       "      <td>0.649970</td>\n",
       "      <td>2</td>\n",
       "    </tr>\n",
       "    <tr>\n",
       "      <th>144723</th>\n",
       "      <td>415315</td>\n",
       "      <td>0.543699</td>\n",
       "      <td>3</td>\n",
       "    </tr>\n",
       "  </tbody>\n",
       "</table>\n",
       "<p>144724 rows × 3 columns</p>\n",
       "</div>\n",
       "      <button class=\"colab-df-convert\" onclick=\"convertToInteractive('df-06029962-d974-4392-adbf-4a8db3ec1298')\"\n",
       "              title=\"Convert this dataframe to an interactive table.\"\n",
       "              style=\"display:none;\">\n",
       "        \n",
       "  <svg xmlns=\"http://www.w3.org/2000/svg\" height=\"24px\"viewBox=\"0 0 24 24\"\n",
       "       width=\"24px\">\n",
       "    <path d=\"M0 0h24v24H0V0z\" fill=\"none\"/>\n",
       "    <path d=\"M18.56 5.44l.94 2.06.94-2.06 2.06-.94-2.06-.94-.94-2.06-.94 2.06-2.06.94zm-11 1L8.5 8.5l.94-2.06 2.06-.94-2.06-.94L8.5 2.5l-.94 2.06-2.06.94zm10 10l.94 2.06.94-2.06 2.06-.94-2.06-.94-.94-2.06-.94 2.06-2.06.94z\"/><path d=\"M17.41 7.96l-1.37-1.37c-.4-.4-.92-.59-1.43-.59-.52 0-1.04.2-1.43.59L10.3 9.45l-7.72 7.72c-.78.78-.78 2.05 0 2.83L4 21.41c.39.39.9.59 1.41.59.51 0 1.02-.2 1.41-.59l7.78-7.78 2.81-2.81c.8-.78.8-2.07 0-2.86zM5.41 20L4 18.59l7.72-7.72 1.47 1.35L5.41 20z\"/>\n",
       "  </svg>\n",
       "      </button>\n",
       "      \n",
       "  <style>\n",
       "    .colab-df-container {\n",
       "      display:flex;\n",
       "      flex-wrap:wrap;\n",
       "      gap: 12px;\n",
       "    }\n",
       "\n",
       "    .colab-df-convert {\n",
       "      background-color: #E8F0FE;\n",
       "      border: none;\n",
       "      border-radius: 50%;\n",
       "      cursor: pointer;\n",
       "      display: none;\n",
       "      fill: #1967D2;\n",
       "      height: 32px;\n",
       "      padding: 0 0 0 0;\n",
       "      width: 32px;\n",
       "    }\n",
       "\n",
       "    .colab-df-convert:hover {\n",
       "      background-color: #E2EBFA;\n",
       "      box-shadow: 0px 1px 2px rgba(60, 64, 67, 0.3), 0px 1px 3px 1px rgba(60, 64, 67, 0.15);\n",
       "      fill: #174EA6;\n",
       "    }\n",
       "\n",
       "    [theme=dark] .colab-df-convert {\n",
       "      background-color: #3B4455;\n",
       "      fill: #D2E3FC;\n",
       "    }\n",
       "\n",
       "    [theme=dark] .colab-df-convert:hover {\n",
       "      background-color: #434B5C;\n",
       "      box-shadow: 0px 1px 3px 1px rgba(0, 0, 0, 0.15);\n",
       "      filter: drop-shadow(0px 1px 2px rgba(0, 0, 0, 0.3));\n",
       "      fill: #FFFFFF;\n",
       "    }\n",
       "  </style>\n",
       "\n",
       "      <script>\n",
       "        const buttonEl =\n",
       "          document.querySelector('#df-06029962-d974-4392-adbf-4a8db3ec1298 button.colab-df-convert');\n",
       "        buttonEl.style.display =\n",
       "          google.colab.kernel.accessAllowed ? 'block' : 'none';\n",
       "\n",
       "        async function convertToInteractive(key) {\n",
       "          const element = document.querySelector('#df-06029962-d974-4392-adbf-4a8db3ec1298');\n",
       "          const dataTable =\n",
       "            await google.colab.kernel.invokeFunction('convertToInteractive',\n",
       "                                                     [key], {});\n",
       "          if (!dataTable) return;\n",
       "\n",
       "          const docLinkHtml = 'Like what you see? Visit the ' +\n",
       "            '<a target=\"_blank\" href=https://colab.research.google.com/notebooks/data_table.ipynb>data table notebook</a>'\n",
       "            + ' to learn more about interactive tables.';\n",
       "          element.innerHTML = '';\n",
       "          dataTable['output_type'] = 'display_data';\n",
       "          await google.colab.output.renderOutput(dataTable, element);\n",
       "          const docLink = document.createElement('div');\n",
       "          docLink.innerHTML = docLinkHtml;\n",
       "          element.appendChild(docLink);\n",
       "        }\n",
       "      </script>\n",
       "    </div>\n",
       "  </div>\n",
       "  "
      ],
      "text/plain": [
       "        user_id   is_male  age\n",
       "0        221301  0.969222    2\n",
       "1         31271  0.531237    3\n",
       "2        211594  0.564567    2\n",
       "3        253119  0.516738    2\n",
       "4        192578  0.802211    2\n",
       "...         ...       ...  ...\n",
       "144719   415284  0.541976    2\n",
       "144720   415285  0.652584    2\n",
       "144721   415286  0.603176    3\n",
       "144722   415306  0.649970    2\n",
       "144723   415315  0.543699    3\n",
       "\n",
       "[144724 rows x 3 columns]"
      ]
     },
     "execution_count": 44,
     "metadata": {},
     "output_type": "execute_result"
    }
   ],
   "source": [
    "# сохраним предсказания в итоговое решение\n",
    "id_to_submit['age'] = test_pred\n",
    "id_to_submit"
   ]
  },
  {
   "cell_type": "code",
   "execution_count": null,
   "metadata": {
    "id": "eNSO6xGCpyFO"
   },
   "outputs": [],
   "source": [
    "# сохраним итоговое решение\n",
    "import datetime\n",
    "\n",
    "cur_time = str(datetime.datetime.now()).replace(' ', '_')[:16]\n",
    "sub_name = 'submissions/submission_' + cur_time + '.csv'\n",
    "id_to_submit.to_csv(sub_name, index=False)"
   ]
  },
  {
   "cell_type": "markdown",
   "metadata": {
    "id": "2QAMwrmAYnlI"
   },
   "source": [
    "Leaderboard score: 1,5629284013\n",
    "\n",
    "Итоговое место: 210 из 510"
   ]
  }
 ],
 "metadata": {
  "colab": {
   "machine_shape": "hm",
   "provenance": [],
   "toc_visible": true
  },
  "gpuClass": "standard",
  "kernelspec": {
   "display_name": "Python 3 (ipykernel)",
   "language": "python",
   "name": "python3"
  },
  "language_info": {
   "codemirror_mode": {
    "name": "ipython",
    "version": 3
   },
   "file_extension": ".py",
   "mimetype": "text/x-python",
   "name": "python",
   "nbconvert_exporter": "python",
   "pygments_lexer": "ipython3",
   "version": "3.9.10"
  },
  "toc": {
   "base_numbering": 1,
   "nav_menu": {},
   "number_sections": true,
   "sideBar": true,
   "skip_h1_title": false,
   "title_cell": "Table of Contents",
   "title_sidebar": "Contents",
   "toc_cell": false,
   "toc_position": {
    "height": "calc(100% - 180px)",
    "left": "10px",
    "top": "150px",
    "width": "231px"
   },
   "toc_section_display": true,
   "toc_window_display": true
  },
  "widgets": {
   "application/vnd.jupyter.widget-state+json": {
    "05865d4d7d5c42ec8ad63e903061c01c": {
     "model_module": "@jupyter-widgets/controls",
     "model_module_version": "1.5.0",
     "model_name": "DescriptionStyleModel",
     "state": {
      "_model_module": "@jupyter-widgets/controls",
      "_model_module_version": "1.5.0",
      "_model_name": "DescriptionStyleModel",
      "_view_count": null,
      "_view_module": "@jupyter-widgets/base",
      "_view_module_version": "1.2.0",
      "_view_name": "StyleView",
      "description_width": ""
     }
    },
    "0f0d33ab0fd548e180418288a1bdb5c4": {
     "model_module": "@jupyter-widgets/controls",
     "model_module_version": "1.5.0",
     "model_name": "ProgressStyleModel",
     "state": {
      "_model_module": "@jupyter-widgets/controls",
      "_model_module_version": "1.5.0",
      "_model_name": "ProgressStyleModel",
      "_view_count": null,
      "_view_module": "@jupyter-widgets/base",
      "_view_module_version": "1.2.0",
      "_view_name": "StyleView",
      "bar_color": null,
      "description_width": ""
     }
    },
    "11c6e3b9796c4e71b8e8f4aae5812c5d": {
     "model_module": "@jupyter-widgets/base",
     "model_module_version": "1.2.0",
     "model_name": "LayoutModel",
     "state": {
      "_model_module": "@jupyter-widgets/base",
      "_model_module_version": "1.2.0",
      "_model_name": "LayoutModel",
      "_view_count": null,
      "_view_module": "@jupyter-widgets/base",
      "_view_module_version": "1.2.0",
      "_view_name": "LayoutView",
      "align_content": null,
      "align_items": null,
      "align_self": null,
      "border": null,
      "bottom": null,
      "display": null,
      "flex": null,
      "flex_flow": null,
      "grid_area": null,
      "grid_auto_columns": null,
      "grid_auto_flow": null,
      "grid_auto_rows": null,
      "grid_column": null,
      "grid_gap": null,
      "grid_row": null,
      "grid_template_areas": null,
      "grid_template_columns": null,
      "grid_template_rows": null,
      "height": null,
      "justify_content": null,
      "justify_items": null,
      "left": null,
      "margin": null,
      "max_height": null,
      "max_width": null,
      "min_height": null,
      "min_width": null,
      "object_fit": null,
      "object_position": null,
      "order": null,
      "overflow": null,
      "overflow_x": null,
      "overflow_y": null,
      "padding": null,
      "right": null,
      "top": null,
      "visibility": null,
      "width": null
     }
    },
    "11df036df43e49fa87426a3224c490b4": {
     "model_module": "@jupyter-widgets/base",
     "model_module_version": "1.2.0",
     "model_name": "LayoutModel",
     "state": {
      "_model_module": "@jupyter-widgets/base",
      "_model_module_version": "1.2.0",
      "_model_name": "LayoutModel",
      "_view_count": null,
      "_view_module": "@jupyter-widgets/base",
      "_view_module_version": "1.2.0",
      "_view_name": "LayoutView",
      "align_content": null,
      "align_items": null,
      "align_self": null,
      "border": null,
      "bottom": null,
      "display": null,
      "flex": null,
      "flex_flow": null,
      "grid_area": null,
      "grid_auto_columns": null,
      "grid_auto_flow": null,
      "grid_auto_rows": null,
      "grid_column": null,
      "grid_gap": null,
      "grid_row": null,
      "grid_template_areas": null,
      "grid_template_columns": null,
      "grid_template_rows": null,
      "height": null,
      "justify_content": null,
      "justify_items": null,
      "left": null,
      "margin": null,
      "max_height": null,
      "max_width": null,
      "min_height": null,
      "min_width": null,
      "object_fit": null,
      "object_position": null,
      "order": null,
      "overflow": null,
      "overflow_x": null,
      "overflow_y": null,
      "padding": null,
      "right": null,
      "top": null,
      "visibility": null,
      "width": null
     }
    },
    "175cb0f7b6cd4e92806273888fc60dbb": {
     "model_module": "@jupyter-widgets/controls",
     "model_module_version": "1.5.0",
     "model_name": "HTMLModel",
     "state": {
      "_dom_classes": [],
      "_model_module": "@jupyter-widgets/controls",
      "_model_module_version": "1.5.0",
      "_model_name": "HTMLModel",
      "_view_count": null,
      "_view_module": "@jupyter-widgets/controls",
      "_view_module_version": "1.5.0",
      "_view_name": "HTMLView",
      "description": "",
      "description_tooltip": null,
      "layout": "IPY_MODEL_8e644f5707e74ec6a42c4d1fcdd6e012",
      "placeholder": "​",
      "style": "IPY_MODEL_76cbac05b3a1404ea83fb041bb764f77",
      "value": " 10/10 [5:40:04&lt;00:00, 1735.61s/it]"
     }
    },
    "204d9bc758bc448991b7f37556d3d51d": {
     "model_module": "@jupyter-widgets/base",
     "model_module_version": "1.2.0",
     "model_name": "LayoutModel",
     "state": {
      "_model_module": "@jupyter-widgets/base",
      "_model_module_version": "1.2.0",
      "_model_name": "LayoutModel",
      "_view_count": null,
      "_view_module": "@jupyter-widgets/base",
      "_view_module_version": "1.2.0",
      "_view_name": "LayoutView",
      "align_content": null,
      "align_items": null,
      "align_self": null,
      "border": null,
      "bottom": null,
      "display": null,
      "flex": null,
      "flex_flow": null,
      "grid_area": null,
      "grid_auto_columns": null,
      "grid_auto_flow": null,
      "grid_auto_rows": null,
      "grid_column": null,
      "grid_gap": null,
      "grid_row": null,
      "grid_template_areas": null,
      "grid_template_columns": null,
      "grid_template_rows": null,
      "height": null,
      "justify_content": null,
      "justify_items": null,
      "left": null,
      "margin": null,
      "max_height": null,
      "max_width": null,
      "min_height": null,
      "min_width": null,
      "object_fit": null,
      "object_position": null,
      "order": null,
      "overflow": null,
      "overflow_x": null,
      "overflow_y": null,
      "padding": null,
      "right": null,
      "top": null,
      "visibility": null,
      "width": null
     }
    },
    "212fc570cc55460e92a0a8d2de764796": {
     "model_module": "@jupyter-widgets/controls",
     "model_module_version": "1.5.0",
     "model_name": "HTMLModel",
     "state": {
      "_dom_classes": [],
      "_model_module": "@jupyter-widgets/controls",
      "_model_module_version": "1.5.0",
      "_model_name": "HTMLModel",
      "_view_count": null,
      "_view_module": "@jupyter-widgets/controls",
      "_view_module_version": "1.5.0",
      "_view_name": "HTMLView",
      "description": "",
      "description_tooltip": null,
      "layout": "IPY_MODEL_998bc029972a4ba4b496c0754c455b26",
      "placeholder": "​",
      "style": "IPY_MODEL_518676df6429460ba95a5d1cfb489bea",
      "value": "Best trial: 9. Best value: 4.05353: 100%"
     }
    },
    "23146eb7ee9b489aa585720428cae166": {
     "model_module": "@jupyter-widgets/controls",
     "model_module_version": "1.5.0",
     "model_name": "HTMLModel",
     "state": {
      "_dom_classes": [],
      "_model_module": "@jupyter-widgets/controls",
      "_model_module_version": "1.5.0",
      "_model_name": "HTMLModel",
      "_view_count": null,
      "_view_module": "@jupyter-widgets/controls",
      "_view_module_version": "1.5.0",
      "_view_name": "HTMLView",
      "description": "",
      "description_tooltip": null,
      "layout": "IPY_MODEL_8374f9554c36473dae4df577f95355fb",
      "placeholder": "​",
      "style": "IPY_MODEL_3916362f17904a8888299e7cd46b28a3",
      "value": "Best trial: 0. Best value: 0.471172: 100%"
     }
    },
    "2f5a8b0ebc1448d685011676ed55a1ff": {
     "model_module": "@jupyter-widgets/controls",
     "model_module_version": "1.5.0",
     "model_name": "ProgressStyleModel",
     "state": {
      "_model_module": "@jupyter-widgets/controls",
      "_model_module_version": "1.5.0",
      "_model_name": "ProgressStyleModel",
      "_view_count": null,
      "_view_module": "@jupyter-widgets/base",
      "_view_module_version": "1.2.0",
      "_view_name": "StyleView",
      "bar_color": null,
      "description_width": ""
     }
    },
    "2f7c3ff0db96485cabd679eb91f85f84": {
     "model_module": "@jupyter-widgets/controls",
     "model_module_version": "1.5.0",
     "model_name": "HBoxModel",
     "state": {
      "_dom_classes": [],
      "_model_module": "@jupyter-widgets/controls",
      "_model_module_version": "1.5.0",
      "_model_name": "HBoxModel",
      "_view_count": null,
      "_view_module": "@jupyter-widgets/controls",
      "_view_module_version": "1.5.0",
      "_view_name": "HBoxView",
      "box_style": "",
      "children": [
       "IPY_MODEL_23146eb7ee9b489aa585720428cae166",
       "IPY_MODEL_c00dc102ae6c4916bc05c03028e9274b",
       "IPY_MODEL_3f0744873c6146a7b467e523554bda4e"
      ],
      "layout": "IPY_MODEL_204d9bc758bc448991b7f37556d3d51d"
     }
    },
    "3916362f17904a8888299e7cd46b28a3": {
     "model_module": "@jupyter-widgets/controls",
     "model_module_version": "1.5.0",
     "model_name": "DescriptionStyleModel",
     "state": {
      "_model_module": "@jupyter-widgets/controls",
      "_model_module_version": "1.5.0",
      "_model_name": "DescriptionStyleModel",
      "_view_count": null,
      "_view_module": "@jupyter-widgets/base",
      "_view_module_version": "1.2.0",
      "_view_name": "StyleView",
      "description_width": ""
     }
    },
    "3f0744873c6146a7b467e523554bda4e": {
     "model_module": "@jupyter-widgets/controls",
     "model_module_version": "1.5.0",
     "model_name": "HTMLModel",
     "state": {
      "_dom_classes": [],
      "_model_module": "@jupyter-widgets/controls",
      "_model_module_version": "1.5.0",
      "_model_name": "HTMLModel",
      "_view_count": null,
      "_view_module": "@jupyter-widgets/controls",
      "_view_module_version": "1.5.0",
      "_view_name": "HTMLView",
      "description": "",
      "description_tooltip": null,
      "layout": "IPY_MODEL_e6fad5db2f2b4ca5b318ac16fe7b39c2",
      "placeholder": "​",
      "style": "IPY_MODEL_fd2eb35590f64f0397bd406463c6b542",
      "value": " 1/1 [01:34&lt;00:00, 94.98s/it]"
     }
    },
    "500abdb9efdb4788a6d14d5e1a7d83dd": {
     "model_module": "@jupyter-widgets/controls",
     "model_module_version": "1.5.0",
     "model_name": "DescriptionStyleModel",
     "state": {
      "_model_module": "@jupyter-widgets/controls",
      "_model_module_version": "1.5.0",
      "_model_name": "DescriptionStyleModel",
      "_view_count": null,
      "_view_module": "@jupyter-widgets/base",
      "_view_module_version": "1.2.0",
      "_view_name": "StyleView",
      "description_width": ""
     }
    },
    "518676df6429460ba95a5d1cfb489bea": {
     "model_module": "@jupyter-widgets/controls",
     "model_module_version": "1.5.0",
     "model_name": "DescriptionStyleModel",
     "state": {
      "_model_module": "@jupyter-widgets/controls",
      "_model_module_version": "1.5.0",
      "_model_name": "DescriptionStyleModel",
      "_view_count": null,
      "_view_module": "@jupyter-widgets/base",
      "_view_module_version": "1.2.0",
      "_view_name": "StyleView",
      "description_width": ""
     }
    },
    "5e196a25778d42709c19a88844dd8e29": {
     "model_module": "@jupyter-widgets/base",
     "model_module_version": "1.2.0",
     "model_name": "LayoutModel",
     "state": {
      "_model_module": "@jupyter-widgets/base",
      "_model_module_version": "1.2.0",
      "_model_name": "LayoutModel",
      "_view_count": null,
      "_view_module": "@jupyter-widgets/base",
      "_view_module_version": "1.2.0",
      "_view_name": "LayoutView",
      "align_content": null,
      "align_items": null,
      "align_self": null,
      "border": null,
      "bottom": null,
      "display": null,
      "flex": null,
      "flex_flow": null,
      "grid_area": null,
      "grid_auto_columns": null,
      "grid_auto_flow": null,
      "grid_auto_rows": null,
      "grid_column": null,
      "grid_gap": null,
      "grid_row": null,
      "grid_template_areas": null,
      "grid_template_columns": null,
      "grid_template_rows": null,
      "height": null,
      "justify_content": null,
      "justify_items": null,
      "left": null,
      "margin": null,
      "max_height": null,
      "max_width": null,
      "min_height": null,
      "min_width": null,
      "object_fit": null,
      "object_position": null,
      "order": null,
      "overflow": null,
      "overflow_x": null,
      "overflow_y": null,
      "padding": null,
      "right": null,
      "top": null,
      "visibility": null,
      "width": null
     }
    },
    "683d63fee7cd47c29ffd6e427b4f2e4a": {
     "model_module": "@jupyter-widgets/controls",
     "model_module_version": "1.5.0",
     "model_name": "HTMLModel",
     "state": {
      "_dom_classes": [],
      "_model_module": "@jupyter-widgets/controls",
      "_model_module_version": "1.5.0",
      "_model_name": "HTMLModel",
      "_view_count": null,
      "_view_module": "@jupyter-widgets/controls",
      "_view_module_version": "1.5.0",
      "_view_name": "HTMLView",
      "description": "",
      "description_tooltip": null,
      "layout": "IPY_MODEL_ee696fc6c9214d4b854d0bb65ead7485",
      "placeholder": "​",
      "style": "IPY_MODEL_05865d4d7d5c42ec8ad63e903061c01c",
      "value": " 20/20 [1:11:17&lt;00:00, 168.74s/it]"
     }
    },
    "6a18df42674b4c3ebed579f10b1777ca": {
     "model_module": "@jupyter-widgets/controls",
     "model_module_version": "1.5.0",
     "model_name": "FloatProgressModel",
     "state": {
      "_dom_classes": [],
      "_model_module": "@jupyter-widgets/controls",
      "_model_module_version": "1.5.0",
      "_model_name": "FloatProgressModel",
      "_view_count": null,
      "_view_module": "@jupyter-widgets/controls",
      "_view_module_version": "1.5.0",
      "_view_name": "ProgressView",
      "bar_style": "success",
      "description": "",
      "description_tooltip": null,
      "layout": "IPY_MODEL_7aa2b482264c42968d6c7aafaa21ba6f",
      "max": 20,
      "min": 0,
      "orientation": "horizontal",
      "style": "IPY_MODEL_d366fc2dfad94060823bfa33ce5f219e",
      "value": 20
     }
    },
    "76cbac05b3a1404ea83fb041bb764f77": {
     "model_module": "@jupyter-widgets/controls",
     "model_module_version": "1.5.0",
     "model_name": "DescriptionStyleModel",
     "state": {
      "_model_module": "@jupyter-widgets/controls",
      "_model_module_version": "1.5.0",
      "_model_name": "DescriptionStyleModel",
      "_view_count": null,
      "_view_module": "@jupyter-widgets/base",
      "_view_module_version": "1.2.0",
      "_view_name": "StyleView",
      "description_width": ""
     }
    },
    "776c1a27d24a4130ad4a09bdca474552": {
     "model_module": "@jupyter-widgets/controls",
     "model_module_version": "1.5.0",
     "model_name": "HBoxModel",
     "state": {
      "_dom_classes": [],
      "_model_module": "@jupyter-widgets/controls",
      "_model_module_version": "1.5.0",
      "_model_name": "HBoxModel",
      "_view_count": null,
      "_view_module": "@jupyter-widgets/controls",
      "_view_module_version": "1.5.0",
      "_view_name": "HBoxView",
      "box_style": "",
      "children": [
       "IPY_MODEL_212fc570cc55460e92a0a8d2de764796",
       "IPY_MODEL_9356fe47ba2c433fa69ab2bdcf9d916e",
       "IPY_MODEL_175cb0f7b6cd4e92806273888fc60dbb"
      ],
      "layout": "IPY_MODEL_b7a6c995b6644083b4851ca8a439e9f7"
     }
    },
    "7aa2b482264c42968d6c7aafaa21ba6f": {
     "model_module": "@jupyter-widgets/base",
     "model_module_version": "1.2.0",
     "model_name": "LayoutModel",
     "state": {
      "_model_module": "@jupyter-widgets/base",
      "_model_module_version": "1.2.0",
      "_model_name": "LayoutModel",
      "_view_count": null,
      "_view_module": "@jupyter-widgets/base",
      "_view_module_version": "1.2.0",
      "_view_name": "LayoutView",
      "align_content": null,
      "align_items": null,
      "align_self": null,
      "border": null,
      "bottom": null,
      "display": null,
      "flex": null,
      "flex_flow": null,
      "grid_area": null,
      "grid_auto_columns": null,
      "grid_auto_flow": null,
      "grid_auto_rows": null,
      "grid_column": null,
      "grid_gap": null,
      "grid_row": null,
      "grid_template_areas": null,
      "grid_template_columns": null,
      "grid_template_rows": null,
      "height": null,
      "justify_content": null,
      "justify_items": null,
      "left": null,
      "margin": null,
      "max_height": null,
      "max_width": null,
      "min_height": null,
      "min_width": null,
      "object_fit": null,
      "object_position": null,
      "order": null,
      "overflow": null,
      "overflow_x": null,
      "overflow_y": null,
      "padding": null,
      "right": null,
      "top": null,
      "visibility": null,
      "width": null
     }
    },
    "8374f9554c36473dae4df577f95355fb": {
     "model_module": "@jupyter-widgets/base",
     "model_module_version": "1.2.0",
     "model_name": "LayoutModel",
     "state": {
      "_model_module": "@jupyter-widgets/base",
      "_model_module_version": "1.2.0",
      "_model_name": "LayoutModel",
      "_view_count": null,
      "_view_module": "@jupyter-widgets/base",
      "_view_module_version": "1.2.0",
      "_view_name": "LayoutView",
      "align_content": null,
      "align_items": null,
      "align_self": null,
      "border": null,
      "bottom": null,
      "display": null,
      "flex": null,
      "flex_flow": null,
      "grid_area": null,
      "grid_auto_columns": null,
      "grid_auto_flow": null,
      "grid_auto_rows": null,
      "grid_column": null,
      "grid_gap": null,
      "grid_row": null,
      "grid_template_areas": null,
      "grid_template_columns": null,
      "grid_template_rows": null,
      "height": null,
      "justify_content": null,
      "justify_items": null,
      "left": null,
      "margin": null,
      "max_height": null,
      "max_width": null,
      "min_height": null,
      "min_width": null,
      "object_fit": null,
      "object_position": null,
      "order": null,
      "overflow": null,
      "overflow_x": null,
      "overflow_y": null,
      "padding": null,
      "right": null,
      "top": null,
      "visibility": null,
      "width": null
     }
    },
    "8e644f5707e74ec6a42c4d1fcdd6e012": {
     "model_module": "@jupyter-widgets/base",
     "model_module_version": "1.2.0",
     "model_name": "LayoutModel",
     "state": {
      "_model_module": "@jupyter-widgets/base",
      "_model_module_version": "1.2.0",
      "_model_name": "LayoutModel",
      "_view_count": null,
      "_view_module": "@jupyter-widgets/base",
      "_view_module_version": "1.2.0",
      "_view_name": "LayoutView",
      "align_content": null,
      "align_items": null,
      "align_self": null,
      "border": null,
      "bottom": null,
      "display": null,
      "flex": null,
      "flex_flow": null,
      "grid_area": null,
      "grid_auto_columns": null,
      "grid_auto_flow": null,
      "grid_auto_rows": null,
      "grid_column": null,
      "grid_gap": null,
      "grid_row": null,
      "grid_template_areas": null,
      "grid_template_columns": null,
      "grid_template_rows": null,
      "height": null,
      "justify_content": null,
      "justify_items": null,
      "left": null,
      "margin": null,
      "max_height": null,
      "max_width": null,
      "min_height": null,
      "min_width": null,
      "object_fit": null,
      "object_position": null,
      "order": null,
      "overflow": null,
      "overflow_x": null,
      "overflow_y": null,
      "padding": null,
      "right": null,
      "top": null,
      "visibility": null,
      "width": null
     }
    },
    "9356fe47ba2c433fa69ab2bdcf9d916e": {
     "model_module": "@jupyter-widgets/controls",
     "model_module_version": "1.5.0",
     "model_name": "FloatProgressModel",
     "state": {
      "_dom_classes": [],
      "_model_module": "@jupyter-widgets/controls",
      "_model_module_version": "1.5.0",
      "_model_name": "FloatProgressModel",
      "_view_count": null,
      "_view_module": "@jupyter-widgets/controls",
      "_view_module_version": "1.5.0",
      "_view_name": "ProgressView",
      "bar_style": "success",
      "description": "",
      "description_tooltip": null,
      "layout": "IPY_MODEL_11df036df43e49fa87426a3224c490b4",
      "max": 10,
      "min": 0,
      "orientation": "horizontal",
      "style": "IPY_MODEL_0f0d33ab0fd548e180418288a1bdb5c4",
      "value": 10
     }
    },
    "998bc029972a4ba4b496c0754c455b26": {
     "model_module": "@jupyter-widgets/base",
     "model_module_version": "1.2.0",
     "model_name": "LayoutModel",
     "state": {
      "_model_module": "@jupyter-widgets/base",
      "_model_module_version": "1.2.0",
      "_model_name": "LayoutModel",
      "_view_count": null,
      "_view_module": "@jupyter-widgets/base",
      "_view_module_version": "1.2.0",
      "_view_name": "LayoutView",
      "align_content": null,
      "align_items": null,
      "align_self": null,
      "border": null,
      "bottom": null,
      "display": null,
      "flex": null,
      "flex_flow": null,
      "grid_area": null,
      "grid_auto_columns": null,
      "grid_auto_flow": null,
      "grid_auto_rows": null,
      "grid_column": null,
      "grid_gap": null,
      "grid_row": null,
      "grid_template_areas": null,
      "grid_template_columns": null,
      "grid_template_rows": null,
      "height": null,
      "justify_content": null,
      "justify_items": null,
      "left": null,
      "margin": null,
      "max_height": null,
      "max_width": null,
      "min_height": null,
      "min_width": null,
      "object_fit": null,
      "object_position": null,
      "order": null,
      "overflow": null,
      "overflow_x": null,
      "overflow_y": null,
      "padding": null,
      "right": null,
      "top": null,
      "visibility": null,
      "width": null
     }
    },
    "ad990087606b411a965a19f3279a48ff": {
     "model_module": "@jupyter-widgets/base",
     "model_module_version": "1.2.0",
     "model_name": "LayoutModel",
     "state": {
      "_model_module": "@jupyter-widgets/base",
      "_model_module_version": "1.2.0",
      "_model_name": "LayoutModel",
      "_view_count": null,
      "_view_module": "@jupyter-widgets/base",
      "_view_module_version": "1.2.0",
      "_view_name": "LayoutView",
      "align_content": null,
      "align_items": null,
      "align_self": null,
      "border": null,
      "bottom": null,
      "display": null,
      "flex": null,
      "flex_flow": null,
      "grid_area": null,
      "grid_auto_columns": null,
      "grid_auto_flow": null,
      "grid_auto_rows": null,
      "grid_column": null,
      "grid_gap": null,
      "grid_row": null,
      "grid_template_areas": null,
      "grid_template_columns": null,
      "grid_template_rows": null,
      "height": null,
      "justify_content": null,
      "justify_items": null,
      "left": null,
      "margin": null,
      "max_height": null,
      "max_width": null,
      "min_height": null,
      "min_width": null,
      "object_fit": null,
      "object_position": null,
      "order": null,
      "overflow": null,
      "overflow_x": null,
      "overflow_y": null,
      "padding": null,
      "right": null,
      "top": null,
      "visibility": null,
      "width": null
     }
    },
    "b7a6c995b6644083b4851ca8a439e9f7": {
     "model_module": "@jupyter-widgets/base",
     "model_module_version": "1.2.0",
     "model_name": "LayoutModel",
     "state": {
      "_model_module": "@jupyter-widgets/base",
      "_model_module_version": "1.2.0",
      "_model_name": "LayoutModel",
      "_view_count": null,
      "_view_module": "@jupyter-widgets/base",
      "_view_module_version": "1.2.0",
      "_view_name": "LayoutView",
      "align_content": null,
      "align_items": null,
      "align_self": null,
      "border": null,
      "bottom": null,
      "display": null,
      "flex": null,
      "flex_flow": null,
      "grid_area": null,
      "grid_auto_columns": null,
      "grid_auto_flow": null,
      "grid_auto_rows": null,
      "grid_column": null,
      "grid_gap": null,
      "grid_row": null,
      "grid_template_areas": null,
      "grid_template_columns": null,
      "grid_template_rows": null,
      "height": null,
      "justify_content": null,
      "justify_items": null,
      "left": null,
      "margin": null,
      "max_height": null,
      "max_width": null,
      "min_height": null,
      "min_width": null,
      "object_fit": null,
      "object_position": null,
      "order": null,
      "overflow": null,
      "overflow_x": null,
      "overflow_y": null,
      "padding": null,
      "right": null,
      "top": null,
      "visibility": null,
      "width": null
     }
    },
    "c00dc102ae6c4916bc05c03028e9274b": {
     "model_module": "@jupyter-widgets/controls",
     "model_module_version": "1.5.0",
     "model_name": "FloatProgressModel",
     "state": {
      "_dom_classes": [],
      "_model_module": "@jupyter-widgets/controls",
      "_model_module_version": "1.5.0",
      "_model_name": "FloatProgressModel",
      "_view_count": null,
      "_view_module": "@jupyter-widgets/controls",
      "_view_module_version": "1.5.0",
      "_view_name": "ProgressView",
      "bar_style": "success",
      "description": "",
      "description_tooltip": null,
      "layout": "IPY_MODEL_11c6e3b9796c4e71b8e8f4aae5812c5d",
      "max": 1,
      "min": 0,
      "orientation": "horizontal",
      "style": "IPY_MODEL_2f5a8b0ebc1448d685011676ed55a1ff",
      "value": 1
     }
    },
    "d366fc2dfad94060823bfa33ce5f219e": {
     "model_module": "@jupyter-widgets/controls",
     "model_module_version": "1.5.0",
     "model_name": "ProgressStyleModel",
     "state": {
      "_model_module": "@jupyter-widgets/controls",
      "_model_module_version": "1.5.0",
      "_model_name": "ProgressStyleModel",
      "_view_count": null,
      "_view_module": "@jupyter-widgets/base",
      "_view_module_version": "1.2.0",
      "_view_name": "StyleView",
      "bar_color": null,
      "description_width": ""
     }
    },
    "dd58de2b5d354e6685d0994ad82f6719": {
     "model_module": "@jupyter-widgets/controls",
     "model_module_version": "1.5.0",
     "model_name": "HBoxModel",
     "state": {
      "_dom_classes": [],
      "_model_module": "@jupyter-widgets/controls",
      "_model_module_version": "1.5.0",
      "_model_name": "HBoxModel",
      "_view_count": null,
      "_view_module": "@jupyter-widgets/controls",
      "_view_module_version": "1.5.0",
      "_view_name": "HBoxView",
      "box_style": "",
      "children": [
       "IPY_MODEL_f09cf0febf7c4ee0b8c8850059708d48",
       "IPY_MODEL_6a18df42674b4c3ebed579f10b1777ca",
       "IPY_MODEL_683d63fee7cd47c29ffd6e427b4f2e4a"
      ],
      "layout": "IPY_MODEL_ad990087606b411a965a19f3279a48ff"
     }
    },
    "e6fad5db2f2b4ca5b318ac16fe7b39c2": {
     "model_module": "@jupyter-widgets/base",
     "model_module_version": "1.2.0",
     "model_name": "LayoutModel",
     "state": {
      "_model_module": "@jupyter-widgets/base",
      "_model_module_version": "1.2.0",
      "_model_name": "LayoutModel",
      "_view_count": null,
      "_view_module": "@jupyter-widgets/base",
      "_view_module_version": "1.2.0",
      "_view_name": "LayoutView",
      "align_content": null,
      "align_items": null,
      "align_self": null,
      "border": null,
      "bottom": null,
      "display": null,
      "flex": null,
      "flex_flow": null,
      "grid_area": null,
      "grid_auto_columns": null,
      "grid_auto_flow": null,
      "grid_auto_rows": null,
      "grid_column": null,
      "grid_gap": null,
      "grid_row": null,
      "grid_template_areas": null,
      "grid_template_columns": null,
      "grid_template_rows": null,
      "height": null,
      "justify_content": null,
      "justify_items": null,
      "left": null,
      "margin": null,
      "max_height": null,
      "max_width": null,
      "min_height": null,
      "min_width": null,
      "object_fit": null,
      "object_position": null,
      "order": null,
      "overflow": null,
      "overflow_x": null,
      "overflow_y": null,
      "padding": null,
      "right": null,
      "top": null,
      "visibility": null,
      "width": null
     }
    },
    "ee696fc6c9214d4b854d0bb65ead7485": {
     "model_module": "@jupyter-widgets/base",
     "model_module_version": "1.2.0",
     "model_name": "LayoutModel",
     "state": {
      "_model_module": "@jupyter-widgets/base",
      "_model_module_version": "1.2.0",
      "_model_name": "LayoutModel",
      "_view_count": null,
      "_view_module": "@jupyter-widgets/base",
      "_view_module_version": "1.2.0",
      "_view_name": "LayoutView",
      "align_content": null,
      "align_items": null,
      "align_self": null,
      "border": null,
      "bottom": null,
      "display": null,
      "flex": null,
      "flex_flow": null,
      "grid_area": null,
      "grid_auto_columns": null,
      "grid_auto_flow": null,
      "grid_auto_rows": null,
      "grid_column": null,
      "grid_gap": null,
      "grid_row": null,
      "grid_template_areas": null,
      "grid_template_columns": null,
      "grid_template_rows": null,
      "height": null,
      "justify_content": null,
      "justify_items": null,
      "left": null,
      "margin": null,
      "max_height": null,
      "max_width": null,
      "min_height": null,
      "min_width": null,
      "object_fit": null,
      "object_position": null,
      "order": null,
      "overflow": null,
      "overflow_x": null,
      "overflow_y": null,
      "padding": null,
      "right": null,
      "top": null,
      "visibility": null,
      "width": null
     }
    },
    "f09cf0febf7c4ee0b8c8850059708d48": {
     "model_module": "@jupyter-widgets/controls",
     "model_module_version": "1.5.0",
     "model_name": "HTMLModel",
     "state": {
      "_dom_classes": [],
      "_model_module": "@jupyter-widgets/controls",
      "_model_module_version": "1.5.0",
      "_model_name": "HTMLModel",
      "_view_count": null,
      "_view_module": "@jupyter-widgets/controls",
      "_view_module_version": "1.5.0",
      "_view_name": "HTMLView",
      "description": "",
      "description_tooltip": null,
      "layout": "IPY_MODEL_5e196a25778d42709c19a88844dd8e29",
      "placeholder": "​",
      "style": "IPY_MODEL_500abdb9efdb4788a6d14d5e1a7d83dd",
      "value": "Best trial: 18. Best value: 0.708974: 100%"
     }
    },
    "fd2eb35590f64f0397bd406463c6b542": {
     "model_module": "@jupyter-widgets/controls",
     "model_module_version": "1.5.0",
     "model_name": "DescriptionStyleModel",
     "state": {
      "_model_module": "@jupyter-widgets/controls",
      "_model_module_version": "1.5.0",
      "_model_name": "DescriptionStyleModel",
      "_view_count": null,
      "_view_module": "@jupyter-widgets/base",
      "_view_module_version": "1.2.0",
      "_view_name": "StyleView",
      "description_width": ""
     }
    }
   }
  }
 },
 "nbformat": 4,
 "nbformat_minor": 1
}
