{
 "cells": [
  {
   "cell_type": "code",
   "execution_count": 1,
   "metadata": {
    "colab": {
     "base_uri": "https://localhost:8080/"
    },
    "executionInfo": {
     "elapsed": 32997,
     "status": "ok",
     "timestamp": 1680371459096,
     "user": {
      "displayName": "Гоша Сидоркин",
      "userId": "09429149278087224251"
     },
     "user_tz": -240
    },
    "id": "PWAUwg5yILXX",
    "outputId": "c9d137c5-97ef-4d60-bdc2-e6844410661e"
   },
   "outputs": [
    {
     "name": "stdout",
     "output_type": "stream",
     "text": [
      "Mounted at /content/drive\n"
     ]
    }
   ],
   "source": [
    "from google.colab import drive\n",
    "drive.mount('/content/drive')"
   ]
  },
  {
   "cell_type": "code",
   "execution_count": 2,
   "metadata": {
    "colab": {
     "base_uri": "https://localhost:8080/"
    },
    "executionInfo": {
     "elapsed": 256,
     "status": "ok",
     "timestamp": 1680371467797,
     "user": {
      "displayName": "Гоша Сидоркин",
      "userId": "09429149278087224251"
     },
     "user_tz": -240
    },
    "id": "sDz_Womfg-dq",
    "outputId": "5648b00c-c254-49ea-aaa5-28d3fa58c0f3"
   },
   "outputs": [
    {
     "name": "stdout",
     "output_type": "stream",
     "text": [
      "/content/drive/MyDrive/MTS ML Cup\n"
     ]
    }
   ],
   "source": [
    "%cd /content/drive/MyDrive/MTS ML Cup"
   ]
  },
  {
   "cell_type": "code",
   "execution_count": 3,
   "metadata": {
    "executionInfo": {
     "elapsed": 255,
     "status": "ok",
     "timestamp": 1680371470556,
     "user": {
      "displayName": "Гоша Сидоркин",
      "userId": "09429149278087224251"
     },
     "user_tz": -240
    },
    "id": "AQILWh_AhAzX"
   },
   "outputs": [],
   "source": [
    "import warnings\n",
    "import os\n",
    "import sys\n",
    "\n",
    "sys.path.insert(0, '/content/drive/MyDrive/MTS ML Cup/src')\n",
    "\n",
    "\n",
    "os.environ['OPENBLAS_NUM_THREADS'] = '1'\n",
    "warnings.filterwarnings('ignore')"
   ]
  },
  {
   "cell_type": "code",
   "execution_count": null,
   "outputs": [],
   "source": [
    "!pip install catboost"
   ],
   "metadata": {
    "collapsed": false,
    "pycharm": {
     "name": "#%%\n"
    }
   }
  },
  {
   "cell_type": "code",
   "execution_count": null,
   "outputs": [],
   "source": [
    "!pip install lightgbm"
   ],
   "metadata": {
    "collapsed": false,
    "pycharm": {
     "name": "#%%\n"
    }
   }
  },
  {
   "cell_type": "code",
   "execution_count": 8,
   "metadata": {
    "executionInfo": {
     "elapsed": 3242,
     "status": "ok",
     "timestamp": 1680371502962,
     "user": {
      "displayName": "Гоша Сидоркин",
      "userId": "09429149278087224251"
     },
     "user_tz": -240
    },
    "id": "eX_QLsxjhc68"
   },
   "outputs": [],
   "source": [
    "import pandas as pd\n",
    "import numpy as np\n",
    "import bisect\n",
    "\n",
    "from catboost import CatBoostClassifier\n",
    "from lightgbm import LGBMClassifier\n",
    "\n",
    "import sklearn.metrics as m\n",
    "from sklearn.model_selection import train_test_split, StratifiedKFold\n",
    "from sklearn.preprocessing import label_binarize\n",
    "from scipy import stats"
   ]
  },
  {
   "cell_type": "code",
   "execution_count": 9,
   "metadata": {
    "executionInfo": {
     "elapsed": 395,
     "status": "ok",
     "timestamp": 1680371503355,
     "user": {
      "displayName": "Гоша Сидоркин",
      "userId": "09429149278087224251"
     },
     "user_tz": -240
    },
    "id": "BYpOJuA6JIhO"
   },
   "outputs": [],
   "source": [
    "from metric_functions import get_metrics_classification, get_metrics_multiclass, \n",
    "check_overfitting_classification, check_overfitting_multiclass"
   ]
  },
  {
   "cell_type": "code",
   "execution_count": 10,
   "metadata": {
    "executionInfo": {
     "elapsed": 409,
     "status": "ok",
     "timestamp": 1680371503762,
     "user": {
      "displayName": "Гоша Сидоркин",
      "userId": "09429149278087224251"
     },
     "user_tz": -240
    },
    "id": "5RRycQYBJQQ-"
   },
   "outputs": [],
   "source": [
    "import seaborn as sns\n",
    "import matplotlib.pyplot as plt\n",
    "\n",
    "%matplotlib inline\n",
    "sns.set_style('darkgrid')"
   ]
  },
  {
   "cell_type": "code",
   "execution_count": null,
   "outputs": [],
   "source": [
    "!pip install optuna"
   ],
   "metadata": {
    "collapsed": false,
    "pycharm": {
     "name": "#%%\n"
    }
   }
  },
  {
   "cell_type": "code",
   "execution_count": 12,
   "metadata": {
    "executionInfo": {
     "elapsed": 367,
     "status": "ok",
     "timestamp": 1680371510382,
     "user": {
      "displayName": "Гоша Сидоркин",
      "userId": "09429149278087224251"
     },
     "user_tz": -240
    },
    "id": "2HQ4xzD_a_uy"
   },
   "outputs": [],
   "source": [
    "import optuna"
   ]
  },
  {
   "cell_type": "code",
   "execution_count": 13,
   "metadata": {
    "executionInfo": {
     "elapsed": 5,
     "status": "ok",
     "timestamp": 1680371510382,
     "user": {
      "displayName": "Гоша Сидоркин",
      "userId": "09429149278087224251"
     },
     "user_tz": -240
    },
    "id": "iq_v6v6Hhc9S"
   },
   "outputs": [],
   "source": [
    "RAND = 42\n",
    "N_FOLDS = 5\n",
    "\n",
    "final_types = {\n",
    "    'user_id': 'int32',\n",
    "    'part_of_day_day': 'int16',\n",
    "    'part_of_day_night': 'int16',\n",
    "    'day_pct': 'float32',\n",
    "    'evening_pct': 'float32',\n",
    "    'morning_pct': 'float32',\n",
    "    'night_pct': 'float32',\n",
    "    'act_days': 'int16',\n",
    "    'avg_req_per_day': 'float32',\n",
    "    'requests_std': 'float32',\n",
    "    'act_days_pct': 'float32',\n",
    "    'cpe_type_cd': 'category',\n",
    "    'cpe_model_os_type': 'category',\n",
    "    'cpe_manufacturer_name': 'category',\n",
    "    'price': 'float32',\n",
    "    'region_cnt': 'int8',\n",
    "    'city_cnt': 'int8',\n",
    "    'url_host_cnt': 'int16',\n",
    "}"
   ]
  },
  {
   "cell_type": "markdown",
   "metadata": {
    "id": "tdr8MrX0htFn"
   },
   "source": [
    "# Сбор всех данных"
   ]
  },
  {
   "cell_type": "code",
   "execution_count": 14,
   "metadata": {
    "executionInfo": {
     "elapsed": 1439,
     "status": "ok",
     "timestamp": 1680371511817,
     "user": {
      "displayName": "Гоша Сидоркин",
      "userId": "09429149278087224251"
     },
     "user_tz": -240
    },
    "id": "jyw72yiLhc_Z"
   },
   "outputs": [],
   "source": [
    "id_to_submit = pd.read_parquet('submit.pqt')"
   ]
  },
  {
   "cell_type": "code",
   "execution_count": 15,
   "metadata": {
    "executionInfo": {
     "elapsed": 413,
     "status": "ok",
     "timestamp": 1680371512227,
     "user": {
      "displayName": "Гоша Сидоркин",
      "userId": "09429149278087224251"
     },
     "user_tz": -240
    },
    "id": "mkKCa7ZxhdBe"
   },
   "outputs": [],
   "source": [
    "targets = pd.read_parquet('public_train.pqt')"
   ]
  },
  {
   "cell_type": "code",
   "execution_count": 16,
   "metadata": {
    "executionInfo": {
     "elapsed": 1933,
     "status": "ok",
     "timestamp": 1680371514157,
     "user": {
      "displayName": "Гоша Сидоркин",
      "userId": "09429149278087224251"
     },
     "user_tz": -240
    },
    "id": "kiGApfnsTEnB"
   },
   "outputs": [],
   "source": [
    "df = pd.read_csv('data_agg/df_final.csv')"
   ]
  },
  {
   "cell_type": "code",
   "execution_count": 17,
   "metadata": {
    "colab": {
     "base_uri": "https://localhost:8080/",
     "height": 268
    },
    "executionInfo": {
     "elapsed": 19,
     "status": "ok",
     "timestamp": 1680371514158,
     "user": {
      "displayName": "Гоша Сидоркин",
      "userId": "09429149278087224251"
     },
     "user_tz": -240
    },
    "id": "GMBlxniqhx1w",
    "outputId": "ca696bef-3970-4ac8-8d08-c18a1dcf3863"
   },
   "outputs": [
    {
     "data": {
      "text/html": [
       "\n",
       "  <div id=\"df-f45ce08f-9abd-42e7-af03-c5bdb702953b\">\n",
       "    <div class=\"colab-df-container\">\n",
       "      <div>\n",
       "<style scoped>\n",
       "    .dataframe tbody tr th:only-of-type {\n",
       "        vertical-align: middle;\n",
       "    }\n",
       "\n",
       "    .dataframe tbody tr th {\n",
       "        vertical-align: top;\n",
       "    }\n",
       "\n",
       "    .dataframe thead th {\n",
       "        text-align: right;\n",
       "    }\n",
       "</style>\n",
       "<table border=\"1\" class=\"dataframe\">\n",
       "  <thead>\n",
       "    <tr style=\"text-align: right;\">\n",
       "      <th></th>\n",
       "      <th>user_id</th>\n",
       "      <th>part_of_day_day</th>\n",
       "      <th>part_of_day_night</th>\n",
       "      <th>day_pct</th>\n",
       "      <th>evening_pct</th>\n",
       "      <th>morning_pct</th>\n",
       "      <th>night_pct</th>\n",
       "      <th>act_days</th>\n",
       "      <th>avg_req_per_day</th>\n",
       "      <th>requests_std</th>\n",
       "      <th>act_days_pct</th>\n",
       "      <th>cpe_type_cd</th>\n",
       "      <th>cpe_model_os_type</th>\n",
       "      <th>cpe_manufacturer_name</th>\n",
       "      <th>price</th>\n",
       "      <th>region_cnt</th>\n",
       "      <th>city_cnt</th>\n",
       "      <th>url_host_cnt</th>\n",
       "    </tr>\n",
       "  </thead>\n",
       "  <tbody>\n",
       "    <tr>\n",
       "      <th>0</th>\n",
       "      <td>4</td>\n",
       "      <td>199</td>\n",
       "      <td>10</td>\n",
       "      <td>0.336717</td>\n",
       "      <td>0.287648</td>\n",
       "      <td>0.358714</td>\n",
       "      <td>0.016920</td>\n",
       "      <td>20</td>\n",
       "      <td>38.850000</td>\n",
       "      <td>0.647632</td>\n",
       "      <td>0.4650</td>\n",
       "      <td>smartphone</td>\n",
       "      <td>Android</td>\n",
       "      <td>Huawei</td>\n",
       "      <td>12990.0</td>\n",
       "      <td>5</td>\n",
       "      <td>9</td>\n",
       "      <td>108</td>\n",
       "    </tr>\n",
       "    <tr>\n",
       "      <th>1</th>\n",
       "      <td>16</td>\n",
       "      <td>443</td>\n",
       "      <td>137</td>\n",
       "      <td>0.359870</td>\n",
       "      <td>0.260764</td>\n",
       "      <td>0.268075</td>\n",
       "      <td>0.111292</td>\n",
       "      <td>64</td>\n",
       "      <td>39.515625</td>\n",
       "      <td>1.397836</td>\n",
       "      <td>0.8647</td>\n",
       "      <td>smartphone</td>\n",
       "      <td>Android</td>\n",
       "      <td>Samsung</td>\n",
       "      <td>9583.0</td>\n",
       "      <td>1</td>\n",
       "      <td>1</td>\n",
       "      <td>50</td>\n",
       "    </tr>\n",
       "    <tr>\n",
       "      <th>2</th>\n",
       "      <td>18</td>\n",
       "      <td>566</td>\n",
       "      <td>34</td>\n",
       "      <td>0.503111</td>\n",
       "      <td>0.101333</td>\n",
       "      <td>0.365333</td>\n",
       "      <td>0.030222</td>\n",
       "      <td>32</td>\n",
       "      <td>60.937500</td>\n",
       "      <td>1.204972</td>\n",
       "      <td>0.8423</td>\n",
       "      <td>smartphone</td>\n",
       "      <td>Android</td>\n",
       "      <td>Samsung</td>\n",
       "      <td>22887.0</td>\n",
       "      <td>1</td>\n",
       "      <td>2</td>\n",
       "      <td>141</td>\n",
       "    </tr>\n",
       "    <tr>\n",
       "      <th>3</th>\n",
       "      <td>26</td>\n",
       "      <td>180</td>\n",
       "      <td>126</td>\n",
       "      <td>0.176817</td>\n",
       "      <td>0.400786</td>\n",
       "      <td>0.298625</td>\n",
       "      <td>0.123772</td>\n",
       "      <td>20</td>\n",
       "      <td>71.800000</td>\n",
       "      <td>0.688696</td>\n",
       "      <td>0.9090</td>\n",
       "      <td>smartphone</td>\n",
       "      <td>Android</td>\n",
       "      <td>Samsung</td>\n",
       "      <td>4990.0</td>\n",
       "      <td>1</td>\n",
       "      <td>1</td>\n",
       "      <td>126</td>\n",
       "    </tr>\n",
       "    <tr>\n",
       "      <th>4</th>\n",
       "      <td>27</td>\n",
       "      <td>808</td>\n",
       "      <td>342</td>\n",
       "      <td>0.302622</td>\n",
       "      <td>0.331461</td>\n",
       "      <td>0.237828</td>\n",
       "      <td>0.128090</td>\n",
       "      <td>67</td>\n",
       "      <td>66.074620</td>\n",
       "      <td>1.088583</td>\n",
       "      <td>0.9307</td>\n",
       "      <td>smartphone</td>\n",
       "      <td>Android</td>\n",
       "      <td>Xiaomi</td>\n",
       "      <td>12990.0</td>\n",
       "      <td>1</td>\n",
       "      <td>2</td>\n",
       "      <td>209</td>\n",
       "    </tr>\n",
       "  </tbody>\n",
       "</table>\n",
       "</div>\n",
       "      <button class=\"colab-df-convert\" onclick=\"convertToInteractive('df-f45ce08f-9abd-42e7-af03-c5bdb702953b')\"\n",
       "              title=\"Convert this dataframe to an interactive table.\"\n",
       "              style=\"display:none;\">\n",
       "        \n",
       "  <svg xmlns=\"http://www.w3.org/2000/svg\" height=\"24px\"viewBox=\"0 0 24 24\"\n",
       "       width=\"24px\">\n",
       "    <path d=\"M0 0h24v24H0V0z\" fill=\"none\"/>\n",
       "    <path d=\"M18.56 5.44l.94 2.06.94-2.06 2.06-.94-2.06-.94-.94-2.06-.94 2.06-2.06.94zm-11 1L8.5 8.5l.94-2.06 2.06-.94-2.06-.94L8.5 2.5l-.94 2.06-2.06.94zm10 10l.94 2.06.94-2.06 2.06-.94-2.06-.94-.94-2.06-.94 2.06-2.06.94z\"/><path d=\"M17.41 7.96l-1.37-1.37c-.4-.4-.92-.59-1.43-.59-.52 0-1.04.2-1.43.59L10.3 9.45l-7.72 7.72c-.78.78-.78 2.05 0 2.83L4 21.41c.39.39.9.59 1.41.59.51 0 1.02-.2 1.41-.59l7.78-7.78 2.81-2.81c.8-.78.8-2.07 0-2.86zM5.41 20L4 18.59l7.72-7.72 1.47 1.35L5.41 20z\"/>\n",
       "  </svg>\n",
       "      </button>\n",
       "      \n",
       "  <style>\n",
       "    .colab-df-container {\n",
       "      display:flex;\n",
       "      flex-wrap:wrap;\n",
       "      gap: 12px;\n",
       "    }\n",
       "\n",
       "    .colab-df-convert {\n",
       "      background-color: #E8F0FE;\n",
       "      border: none;\n",
       "      border-radius: 50%;\n",
       "      cursor: pointer;\n",
       "      display: none;\n",
       "      fill: #1967D2;\n",
       "      height: 32px;\n",
       "      padding: 0 0 0 0;\n",
       "      width: 32px;\n",
       "    }\n",
       "\n",
       "    .colab-df-convert:hover {\n",
       "      background-color: #E2EBFA;\n",
       "      box-shadow: 0px 1px 2px rgba(60, 64, 67, 0.3), 0px 1px 3px 1px rgba(60, 64, 67, 0.15);\n",
       "      fill: #174EA6;\n",
       "    }\n",
       "\n",
       "    [theme=dark] .colab-df-convert {\n",
       "      background-color: #3B4455;\n",
       "      fill: #D2E3FC;\n",
       "    }\n",
       "\n",
       "    [theme=dark] .colab-df-convert:hover {\n",
       "      background-color: #434B5C;\n",
       "      box-shadow: 0px 1px 3px 1px rgba(0, 0, 0, 0.15);\n",
       "      filter: drop-shadow(0px 1px 2px rgba(0, 0, 0, 0.3));\n",
       "      fill: #FFFFFF;\n",
       "    }\n",
       "  </style>\n",
       "\n",
       "      <script>\n",
       "        const buttonEl =\n",
       "          document.querySelector('#df-f45ce08f-9abd-42e7-af03-c5bdb702953b button.colab-df-convert');\n",
       "        buttonEl.style.display =\n",
       "          google.colab.kernel.accessAllowed ? 'block' : 'none';\n",
       "\n",
       "        async function convertToInteractive(key) {\n",
       "          const element = document.querySelector('#df-f45ce08f-9abd-42e7-af03-c5bdb702953b');\n",
       "          const dataTable =\n",
       "            await google.colab.kernel.invokeFunction('convertToInteractive',\n",
       "                                                     [key], {});\n",
       "          if (!dataTable) return;\n",
       "\n",
       "          const docLinkHtml = 'Like what you see? Visit the ' +\n",
       "            '<a target=\"_blank\" href=https://colab.research.google.com/notebooks/data_table.ipynb>data table notebook</a>'\n",
       "            + ' to learn more about interactive tables.';\n",
       "          element.innerHTML = '';\n",
       "          dataTable['output_type'] = 'display_data';\n",
       "          await google.colab.output.renderOutput(dataTable, element);\n",
       "          const docLink = document.createElement('div');\n",
       "          docLink.innerHTML = docLinkHtml;\n",
       "          element.appendChild(docLink);\n",
       "        }\n",
       "      </script>\n",
       "    </div>\n",
       "  </div>\n",
       "  "
      ],
      "text/plain": [
       "   user_id  part_of_day_day  part_of_day_night   day_pct  evening_pct  \\\n",
       "0        4              199                 10  0.336717     0.287648   \n",
       "1       16              443                137  0.359870     0.260764   \n",
       "2       18              566                 34  0.503111     0.101333   \n",
       "3       26              180                126  0.176817     0.400786   \n",
       "4       27              808                342  0.302622     0.331461   \n",
       "\n",
       "   morning_pct  night_pct  act_days  avg_req_per_day  requests_std  \\\n",
       "0     0.358714   0.016920        20        38.850000      0.647632   \n",
       "1     0.268075   0.111292        64        39.515625      1.397836   \n",
       "2     0.365333   0.030222        32        60.937500      1.204972   \n",
       "3     0.298625   0.123772        20        71.800000      0.688696   \n",
       "4     0.237828   0.128090        67        66.074620      1.088583   \n",
       "\n",
       "   act_days_pct cpe_type_cd cpe_model_os_type cpe_manufacturer_name    price  \\\n",
       "0        0.4650  smartphone           Android                Huawei  12990.0   \n",
       "1        0.8647  smartphone           Android               Samsung   9583.0   \n",
       "2        0.8423  smartphone           Android               Samsung  22887.0   \n",
       "3        0.9090  smartphone           Android               Samsung   4990.0   \n",
       "4        0.9307  smartphone           Android                Xiaomi  12990.0   \n",
       "\n",
       "   region_cnt  city_cnt  url_host_cnt  \n",
       "0           5         9           108  \n",
       "1           1         1            50  \n",
       "2           1         2           141  \n",
       "3           1         1           126  \n",
       "4           1         2           209  "
      ]
     },
     "execution_count": 17,
     "metadata": {},
     "output_type": "execute_result"
    }
   ],
   "source": [
    "df.head()"
   ]
  },
  {
   "cell_type": "code",
   "execution_count": 18,
   "metadata": {
    "colab": {
     "base_uri": "https://localhost:8080/"
    },
    "executionInfo": {
     "elapsed": 16,
     "status": "ok",
     "timestamp": 1680371514158,
     "user": {
      "displayName": "Гоша Сидоркин",
      "userId": "09429149278087224251"
     },
     "user_tz": -240
    },
    "id": "haYGs5aLhx32",
    "outputId": "7277fa63-c121-49bb-e518-b09947998c3b"
   },
   "outputs": [
    {
     "data": {
      "text/plain": [
       "user_id                     int32\n",
       "part_of_day_day             int16\n",
       "part_of_day_night           int16\n",
       "day_pct                   float32\n",
       "evening_pct               float32\n",
       "morning_pct               float32\n",
       "night_pct                 float32\n",
       "act_days                    int16\n",
       "avg_req_per_day           float32\n",
       "requests_std              float32\n",
       "act_days_pct              float32\n",
       "cpe_type_cd              category\n",
       "cpe_model_os_type        category\n",
       "cpe_manufacturer_name    category\n",
       "price                     float32\n",
       "region_cnt                   int8\n",
       "city_cnt                     int8\n",
       "url_host_cnt                int16\n",
       "dtype: object"
      ]
     },
     "execution_count": 18,
     "metadata": {},
     "output_type": "execute_result"
    }
   ],
   "source": [
    "df = df.astype(final_types)\n",
    "df.dtypes"
   ]
  },
  {
   "cell_type": "code",
   "execution_count": 19,
   "metadata": {
    "colab": {
     "base_uri": "https://localhost:8080/"
    },
    "executionInfo": {
     "elapsed": 9,
     "status": "ok",
     "timestamp": 1680371514158,
     "user": {
      "displayName": "Гоша Сидоркин",
      "userId": "09429149278087224251"
     },
     "user_tz": -240
    },
    "id": "vjMfws8gimqm",
    "outputId": "3cba8126-a9ab-4216-8b84-26e09b6bf8fa"
   },
   "outputs": [
    {
     "data": {
      "text/plain": [
       "(415317, 18)"
      ]
     },
     "execution_count": 19,
     "metadata": {},
     "output_type": "execute_result"
    }
   ],
   "source": [
    "df.shape"
   ]
  },
  {
   "cell_type": "code",
   "execution_count": 21,
   "metadata": {
    "executionInfo": {
     "elapsed": 21161,
     "status": "ok",
     "timestamp": 1680371535315,
     "user": {
      "displayName": "Гоша Сидоркин",
      "userId": "09429149278087224251"
     },
     "user_tz": -240
    },
    "id": "_hrOKD-xiz6A"
   },
   "outputs": [],
   "source": [
    "url_emb = pd.read_csv('embeddings/url_emb.csv')\n",
    "url_emb = url_emb.add_suffix('_url').rename(columns={'user_id_url': 'user_id'})"
   ]
  },
  {
   "cell_type": "code",
   "execution_count": 22,
   "metadata": {
    "executionInfo": {
     "elapsed": 4354,
     "status": "ok",
     "timestamp": 1680371539667,
     "user": {
      "displayName": "Гоша Сидоркин",
      "userId": "09429149278087224251"
     },
     "user_tz": -240
    },
    "id": "RuYYxThDjMun"
   },
   "outputs": [],
   "source": [
    "reg_emb = pd.read_csv('embeddings/reg_emb.csv')\n",
    "reg_emb = reg_emb.add_suffix('_reg').rename(columns={'user_id_reg': 'user_id'})"
   ]
  },
  {
   "cell_type": "code",
   "execution_count": 23,
   "metadata": {
    "executionInfo": {
     "elapsed": 8669,
     "status": "ok",
     "timestamp": 1680371548334,
     "user": {
      "displayName": "Гоша Сидоркин",
      "userId": "09429149278087224251"
     },
     "user_tz": -240
    },
    "id": "sigoNRMMjV93"
   },
   "outputs": [],
   "source": [
    "city_emb = pd.read_csv('embeddings/city_emb.csv')\n",
    "city_emb = city_emb.add_suffix('_city').rename(\n",
    "    columns={'user_id_city': 'user_id'})"
   ]
  },
  {
   "cell_type": "code",
   "execution_count": 24,
   "metadata": {
    "executionInfo": {
     "elapsed": 8226,
     "status": "ok",
     "timestamp": 1680371556556,
     "user": {
      "displayName": "Гоша Сидоркин",
      "userId": "09429149278087224251"
     },
     "user_tz": -240
    },
    "id": "Y0RikZKOjn1v"
   },
   "outputs": [],
   "source": [
    "model_emb = pd.read_csv('embeddings/model_emb.csv')\n",
    "model_emb = model_emb.add_suffix('_model').rename(\n",
    "    columns={'user_id_model': 'user_id'})"
   ]
  },
  {
   "cell_type": "code",
   "execution_count": 25,
   "metadata": {
    "executionInfo": {
     "elapsed": 383,
     "status": "ok",
     "timestamp": 1680371556933,
     "user": {
      "displayName": "Гоша Сидоркин",
      "userId": "09429149278087224251"
     },
     "user_tz": -240
    },
    "id": "_waT1Dk6Lqna"
   },
   "outputs": [],
   "source": [
    "metrics_gender = pd.read_csv('metrics/metrics_gender_embeddings.csv')\n",
    "metrics_age = pd.read_csv('metrics/metrics_age_embeddings.csv')"
   ]
  },
  {
   "cell_type": "markdown",
   "metadata": {
    "id": "7HcNCawoku_3"
   },
   "source": [
    "# Baseline gender prediction"
   ]
  },
  {
   "cell_type": "code",
   "execution_count": 26,
   "metadata": {
    "colab": {
     "base_uri": "https://localhost:8080/"
    },
    "executionInfo": {
     "elapsed": 5026,
     "status": "ok",
     "timestamp": 1680371561955,
     "user": {
      "displayName": "Гоша Сидоркин",
      "userId": "09429149278087224251"
     },
     "user_tz": -240
    },
    "id": "PCa5J7SLkm-l",
    "outputId": "01c602aa-12b6-418f-af2b-8a1fc741e48f"
   },
   "outputs": [
    {
     "data": {
      "text/plain": [
       "1    135331\n",
       "0    128994\n",
       "Name: is_male, dtype: int64"
      ]
     },
     "execution_count": 26,
     "metadata": {},
     "output_type": "execute_result"
    }
   ],
   "source": [
    "df_train = targets.merge(df, how='inner', on=['user_id']) \\\n",
    "                  .merge(url_emb, how='inner', on='user_id') \\\n",
    "                  .merge(city_emb, how='inner', on=['user_id']) \\\n",
    "                  .merge(reg_emb, how='inner', on=['user_id']) \\\n",
    "                  .merge(model_emb, how='inner', on=['user_id'])\n",
    "\n",
    "df_train = df_train[df_train['is_male'] != 'NA']\n",
    "df_train = df_train.dropna()\n",
    "df_train['is_male'] = df_train['is_male'].map(int)\n",
    "df_train['is_male'].value_counts()"
   ]
  },
  {
   "cell_type": "code",
   "execution_count": 27,
   "metadata": {
    "colab": {
     "base_uri": "https://localhost:8080/"
    },
    "executionInfo": {
     "elapsed": 1822,
     "status": "ok",
     "timestamp": 1680371564023,
     "user": {
      "displayName": "Гоша Сидоркин",
      "userId": "09429149278087224251"
     },
     "user_tz": -240
    },
    "id": "VrPeCYI2n9vh",
    "outputId": "fdd870a4-ed94-4d85-dc5e-3b0d020361a8"
   },
   "outputs": [
    {
     "name": "stdout",
     "output_type": "stream",
     "text": [
      "CPU times: user 1.52 s, sys: 438 ms, total: 1.96 s\n",
      "Wall time: 1.96 s\n"
     ]
    }
   ],
   "source": [
    "%%time\n",
    "X = df_train.drop(['user_id', 'age', 'is_male'], axis=1)\n",
    "y = df_train['is_male']\n",
    "\n",
    "X_train, X_test, y_train, y_test = train_test_split(X,\n",
    "                                                    y,\n",
    "                                                    test_size=0.2,\n",
    "                                                    shuffle=True,\n",
    "                                                    stratify=y,\n",
    "                                                    random_state=RAND)\n",
    "\n",
    "X_train_, X_val, y_train_, y_val = train_test_split(X_train,\n",
    "                                                    y_train,\n",
    "                                                    test_size=0.16,\n",
    "                                                    shuffle=True,\n",
    "                                                    stratify=y_train,\n",
    "                                                    random_state=RAND)\n",
    "\n",
    "# значение для scale_pos_weight\n",
    "ratio = float(np.sum(y == 0)) / np.sum(y == 1)"
   ]
  },
  {
   "cell_type": "markdown",
   "metadata": {
    "id": "4Mp7q1t-qejH"
   },
   "source": [
    "## LGBM Optuna"
   ]
  },
  {
   "cell_type": "code",
   "execution_count": 28,
   "metadata": {
    "executionInfo": {
     "elapsed": 4,
     "status": "ok",
     "timestamp": 1680371564023,
     "user": {
      "displayName": "Гоша Сидоркин",
      "userId": "09429149278087224251"
     },
     "user_tz": -240
    },
    "id": "oCVklHeFeVO8"
   },
   "outputs": [],
   "source": [
    "# параметры, подобранные с помощью Optuna\n",
    "# будем использовать эти модели в стекинге\n",
    "lgbm_gender_best1 = {\n",
    "    'n_estimators': 1600,\n",
    "    'learning_rate': 0.04323025519185361,\n",
    "    'num_leaves': 900,\n",
    "    'max_depth': 7,\n",
    "    'min_child_samples': 1200,\n",
    "    'reg_alpha': 0,\n",
    "    'reg_lambda': 9,\n",
    "    'min_split_gain': 3,\n",
    "    'subsample': 0.6909275901887844,\n",
    "    'subsample_freq': 1,\n",
    "    'colsample_bytree': 0.34716278523119637,\n",
    "    'scale_pos_weight': 0.9531740695036613,\n",
    "    'random_state': 42\n",
    "}\n",
    "\n",
    "lgbm_gender_params_2 = {\n",
    "    'n_estimators': 2200,\n",
    "    'learning_rate': 0.04667738692602193,\n",
    "    'scale_pos_weight': 0.9531740695036613,\n",
    "    'random_state': 42\n",
    "}\n",
    "\n",
    "lgbm_gender_params_3 = {\n",
    "    'n_estimators': 2600,\n",
    "    'learning_rate': 0.03825929958722602,\n",
    "    'scale_pos_weight': 0.9531740695036613,\n",
    "    'random_state': 42\n",
    "}"
   ]
  },
  {
   "cell_type": "code",
   "execution_count": 29,
   "metadata": {
    "executionInfo": {
     "elapsed": 3,
     "status": "ok",
     "timestamp": 1680371564024,
     "user": {
      "displayName": "Гоша Сидоркин",
      "userId": "09429149278087224251"
     },
     "user_tz": -240
    },
    "id": "b-SLWzx2_1Ny"
   },
   "outputs": [],
   "source": [
    "def objective_lgbm(trial, X, y, N_FOLDS, random_state):\n",
    "\n",
    "    lgbm_params = {\n",
    "        # \"n_estimators\": trial.suggest_categorical(\"n_estimators\", [i for i in range(1200, 3501, 100)]),\n",
    "        # \"learning_rate\": trial.suggest_float(\"learning_rate\",\n",
    "        #                                      0.001,\n",
    "        #                                      0.3,\n",
    "        #                                      log=True),\n",
    "        \"n_estimators\":\n",
    "        trial.suggest_categorical(\"n_estimators\", [1600]),\n",
    "        \"learning_rate\":\n",
    "        trial.suggest_categorical(\"learning_rate\", [0.04323025519185361]),\n",
    "        'num_leaves':\n",
    "        trial.suggest_categorical(\"num_leaves\", [900]),\n",
    "        'max_depth':\n",
    "        trial.suggest_categorical(\"max_depth\", [7]),\n",
    "        'min_child_samples':\n",
    "        trial.suggest_categorical(\"min_child_samples\", [1200]),\n",
    "        'reg_alpha':\n",
    "        trial.suggest_categorical(\"reg_alpha\", [0]),\n",
    "        'reg_lambda':\n",
    "        trial.suggest_categorical(\"reg_lambda\", [9]),\n",
    "        'min_split_gain':\n",
    "        trial.suggest_categorical(\"min_split_gain\", [3]),\n",
    "        'subsample':\n",
    "        trial.suggest_categorical(\"subsample\", [0.6909275901887844]),\n",
    "        'subsample_freq':\n",
    "        trial.suggest_categorical(\"subsample_freq\", [1]),\n",
    "        'colsample_bytree':\n",
    "        trial.suggest_categorical(\"colsample_bytree\", [0.34716278523119637]),\n",
    "\n",
    "        # \"num_leaves\": trial.suggest_int(\"num_leaves\", 20, 3000, step=20),\n",
    "        # \"max_depth\": trial.suggest_int(\"max_depth\", 3, 12),\n",
    "        # \"min_child_samples\": trial.suggest_int(\"min_child_samples\",\n",
    "        #                                       100, 50000, step=100),\n",
    "        # \"reg_alpha\": trial.suggest_int(\"reg_alpha\", 0, 100),\n",
    "        # \"reg_lambda\": trial.suggest_int(\"reg_lambda\", 0, 100),\n",
    "        # \"min_split_gain\": trial.suggest_int(\"min_split_gain\", 0, 20),\n",
    "        # \"subsample\": trial.suggest_float(\"subsample\", 0.2, 1.0),\n",
    "        # \"subsample_freq\": trial.suggest_categorical(\"subsample_freq\", [1]),\n",
    "        # \"colsample_bytree\": trial.suggest_float(\"colsample_bytree\", 0.2, 1.0),\n",
    "        \"scale_pos_weight\":\n",
    "        trial.suggest_categorical(\"scale_pos_weight\", [ratio]),\n",
    "        \"random_state\":\n",
    "        trial.suggest_categorical(\"random_state\", [random_state])\n",
    "    }\n",
    "\n",
    "    cv = StratifiedKFold(n_splits=N_FOLDS,\n",
    "                         shuffle=True,\n",
    "                         random_state=random_state)\n",
    "\n",
    "    cv_predicts = np.empty(N_FOLDS)\n",
    "\n",
    "    for idx, (train_idx, test_idx) in enumerate(cv.split(X, y)):\n",
    "        X_train, X_test = X.iloc[train_idx], X.iloc[test_idx]\n",
    "        y_train, y_test = y.iloc[train_idx], y.iloc[test_idx]\n",
    "\n",
    "        pruning_callback = optuna.integration.LightGBMPruningCallback(\n",
    "            trial, \"auc\")\n",
    "\n",
    "        model = LGBMClassifier(**lgbm_params)\n",
    "        model.fit(X_train,\n",
    "                  y_train,\n",
    "                  eval_set=[(X_test, y_test)],\n",
    "                  eval_metric=\"auc\",\n",
    "                  early_stopping_rounds=100,\n",
    "                  callbacks=[pruning_callback],\n",
    "                  verbose=0)\n",
    "\n",
    "        preds_proba = model.predict_proba(X_test)[:, 1]\n",
    "        cv_predicts[idx] = m.roc_auc_score(y_test, preds_proba)\n",
    "\n",
    "        return np.mean(cv_predicts)"
   ]
  },
  {
   "cell_type": "code",
   "execution_count": 30,
   "metadata": {
    "colab": {
     "base_uri": "https://localhost:8080/",
     "height": 66,
     "referenced_widgets": [
      "63884eb0a34c4d279a613050d8a3fb13",
      "25fb6f0360d5431894498f8b210402e8",
      "9282ae6b55ec4646a7c62a73c7530577",
      "42687c341e424f629c33f9993a646fb7",
      "70431f2fb26a4ec28e1857343459012e",
      "1544fe279cfb4c86a0c6b89148979ea6",
      "f8dd59e9a52d4901932ffc637ad040d3",
      "13f43c9a1ed545f39da11609930165d3",
      "3c837085f26849afba2ce0ef3feda3c6",
      "5c461674897146cea8d8f5f0fcebd9d2",
      "0ca5f1f9840c46d6b5712f1c64834f62"
     ]
    },
    "executionInfo": {
     "elapsed": 97448,
     "status": "ok",
     "timestamp": 1680371678246,
     "user": {
      "displayName": "Гоша Сидоркин",
      "userId": "09429149278087224251"
     },
     "user_tz": -240
    },
    "id": "6h10Kko1G6Sv",
    "outputId": "071ce3e3-bb24-46bc-a6b7-290a56c3c937"
   },
   "outputs": [
    {
     "name": "stderr",
     "output_type": "stream",
     "text": [
      "\u001B[32m[I 2023-04-01 17:53:00,797]\u001B[0m A new study created in memory with name: LGBM_01\u001B[0m\n"
     ]
    },
    {
     "data": {
      "application/vnd.jupyter.widget-view+json": {
       "model_id": "63884eb0a34c4d279a613050d8a3fb13",
       "version_major": 2,
       "version_minor": 0
      },
      "text/plain": [
       "  0%|          | 0/1 [00:00<?, ?it/s]"
      ]
     },
     "metadata": {},
     "output_type": "display_data"
    }
   ],
   "source": [
    "study_lgbm = optuna.create_study(direction='maximize', study_name='LGBM_01')\n",
    "\n",
    "\n",
    "def func(trial):\n",
    "    return objective_lgbm(trial,\n",
    "                          X_train,\n",
    "                          y_train,\n",
    "                          N_FOLDS=N_FOLDS,\n",
    "                          random_state=RAND)\n",
    "\n",
    "\n",
    "optuna.logging.set_verbosity(optuna.logging.WARNING)\n",
    "study_lgbm.optimize(func, n_trials=1, show_progress_bar=True)"
   ]
  },
  {
   "cell_type": "code",
   "execution_count": 31,
   "metadata": {
    "colab": {
     "base_uri": "https://localhost:8080/"
    },
    "executionInfo": {
     "elapsed": 239,
     "status": "ok",
     "timestamp": 1680371682786,
     "user": {
      "displayName": "Гоша Сидоркин",
      "userId": "09429149278087224251"
     },
     "user_tz": -240
    },
    "id": "xYdHA4aCtvaF",
    "outputId": "dfe6743f-6ef2-4e78-d64b-499d92faac63"
   },
   "outputs": [
    {
     "data": {
      "text/plain": [
       "0.4692076722748436"
      ]
     },
     "execution_count": 31,
     "metadata": {},
     "output_type": "execute_result"
    }
   ],
   "source": [
    "study_lgbm.best_value"
   ]
  },
  {
   "cell_type": "code",
   "execution_count": 32,
   "metadata": {
    "colab": {
     "base_uri": "https://localhost:8080/"
    },
    "executionInfo": {
     "elapsed": 4,
     "status": "ok",
     "timestamp": 1680371684503,
     "user": {
      "displayName": "Гоша Сидоркин",
      "userId": "09429149278087224251"
     },
     "user_tz": -240
    },
    "id": "947Q0Q6Utv2O",
    "outputId": "1b3753e9-a08d-4695-de8a-acf779d8f08a"
   },
   "outputs": [
    {
     "data": {
      "text/plain": [
       "{'n_estimators': 1600,\n",
       " 'learning_rate': 0.04323025519185361,\n",
       " 'num_leaves': 900,\n",
       " 'max_depth': 7,\n",
       " 'min_child_samples': 1200,\n",
       " 'reg_alpha': 0,\n",
       " 'reg_lambda': 9,\n",
       " 'min_split_gain': 3,\n",
       " 'subsample': 0.6909275901887844,\n",
       " 'subsample_freq': 1,\n",
       " 'colsample_bytree': 0.34716278523119637,\n",
       " 'scale_pos_weight': 0.9531740695036613,\n",
       " 'random_state': 42}"
      ]
     },
     "execution_count": 32,
     "metadata": {},
     "output_type": "execute_result"
    }
   ],
   "source": [
    "study_lgbm.best_params"
   ]
  },
  {
   "cell_type": "code",
   "execution_count": 33,
   "metadata": {
    "colab": {
     "base_uri": "https://localhost:8080/",
     "height": 193
    },
    "executionInfo": {
     "elapsed": 85891,
     "status": "ok",
     "timestamp": 1680371774016,
     "user": {
      "displayName": "Гоша Сидоркин",
      "userId": "09429149278087224251"
     },
     "user_tz": -240
    },
    "id": "Nuu4EcpWtv50",
    "outputId": "22b9549d-2054-4856-ec86-5ff7e88e7594"
   },
   "outputs": [
    {
     "name": "stdout",
     "output_type": "stream",
     "text": [
      "CPU times: user 4min 58s, sys: 1.76 s, total: 4min 59s\n",
      "Wall time: 1min 25s\n"
     ]
    },
    {
     "data": {
      "text/html": [
       "<style>#sk-container-id-1 {color: black;background-color: white;}#sk-container-id-1 pre{padding: 0;}#sk-container-id-1 div.sk-toggleable {background-color: white;}#sk-container-id-1 label.sk-toggleable__label {cursor: pointer;display: block;width: 100%;margin-bottom: 0;padding: 0.3em;box-sizing: border-box;text-align: center;}#sk-container-id-1 label.sk-toggleable__label-arrow:before {content: \"▸\";float: left;margin-right: 0.25em;color: #696969;}#sk-container-id-1 label.sk-toggleable__label-arrow:hover:before {color: black;}#sk-container-id-1 div.sk-estimator:hover label.sk-toggleable__label-arrow:before {color: black;}#sk-container-id-1 div.sk-toggleable__content {max-height: 0;max-width: 0;overflow: hidden;text-align: left;background-color: #f0f8ff;}#sk-container-id-1 div.sk-toggleable__content pre {margin: 0.2em;color: black;border-radius: 0.25em;background-color: #f0f8ff;}#sk-container-id-1 input.sk-toggleable__control:checked~div.sk-toggleable__content {max-height: 200px;max-width: 100%;overflow: auto;}#sk-container-id-1 input.sk-toggleable__control:checked~label.sk-toggleable__label-arrow:before {content: \"▾\";}#sk-container-id-1 div.sk-estimator input.sk-toggleable__control:checked~label.sk-toggleable__label {background-color: #d4ebff;}#sk-container-id-1 div.sk-label input.sk-toggleable__control:checked~label.sk-toggleable__label {background-color: #d4ebff;}#sk-container-id-1 input.sk-hidden--visually {border: 0;clip: rect(1px 1px 1px 1px);clip: rect(1px, 1px, 1px, 1px);height: 1px;margin: -1px;overflow: hidden;padding: 0;position: absolute;width: 1px;}#sk-container-id-1 div.sk-estimator {font-family: monospace;background-color: #f0f8ff;border: 1px dotted black;border-radius: 0.25em;box-sizing: border-box;margin-bottom: 0.5em;}#sk-container-id-1 div.sk-estimator:hover {background-color: #d4ebff;}#sk-container-id-1 div.sk-parallel-item::after {content: \"\";width: 100%;border-bottom: 1px solid gray;flex-grow: 1;}#sk-container-id-1 div.sk-label:hover label.sk-toggleable__label {background-color: #d4ebff;}#sk-container-id-1 div.sk-serial::before {content: \"\";position: absolute;border-left: 1px solid gray;box-sizing: border-box;top: 0;bottom: 0;left: 50%;z-index: 0;}#sk-container-id-1 div.sk-serial {display: flex;flex-direction: column;align-items: center;background-color: white;padding-right: 0.2em;padding-left: 0.2em;position: relative;}#sk-container-id-1 div.sk-item {position: relative;z-index: 1;}#sk-container-id-1 div.sk-parallel {display: flex;align-items: stretch;justify-content: center;background-color: white;position: relative;}#sk-container-id-1 div.sk-item::before, #sk-container-id-1 div.sk-parallel-item::before {content: \"\";position: absolute;border-left: 1px solid gray;box-sizing: border-box;top: 0;bottom: 0;left: 50%;z-index: -1;}#sk-container-id-1 div.sk-parallel-item {display: flex;flex-direction: column;z-index: 1;position: relative;background-color: white;}#sk-container-id-1 div.sk-parallel-item:first-child::after {align-self: flex-end;width: 50%;}#sk-container-id-1 div.sk-parallel-item:last-child::after {align-self: flex-start;width: 50%;}#sk-container-id-1 div.sk-parallel-item:only-child::after {width: 0;}#sk-container-id-1 div.sk-dashed-wrapped {border: 1px dashed gray;margin: 0 0.4em 0.5em 0.4em;box-sizing: border-box;padding-bottom: 0.4em;background-color: white;}#sk-container-id-1 div.sk-label label {font-family: monospace;font-weight: bold;display: inline-block;line-height: 1.2em;}#sk-container-id-1 div.sk-label-container {text-align: center;}#sk-container-id-1 div.sk-container {/* jupyter's `normalize.less` sets `[hidden] { display: none; }` but bootstrap.min.css set `[hidden] { display: none !important; }` so we also need the `!important` here to be able to override the default hidden behavior on the sphinx rendered scikit-learn.org. See: https://github.com/scikit-learn/scikit-learn/issues/21755 */display: inline-block !important;position: relative;}#sk-container-id-1 div.sk-text-repr-fallback {display: none;}</style><div id=\"sk-container-id-1\" class=\"sk-top-container\"><div class=\"sk-text-repr-fallback\"><pre>LGBMClassifier(colsample_bytree=0.34716278523119637,\n",
       "               learning_rate=0.04323025519185361, max_depth=7,\n",
       "               min_child_samples=1200, min_split_gain=3, n_estimators=1600,\n",
       "               num_leaves=900, random_state=42, reg_alpha=0, reg_lambda=9,\n",
       "               scale_pos_weight=0.9531740695036613,\n",
       "               subsample=0.6909275901887844, subsample_freq=1)</pre><b>In a Jupyter environment, please rerun this cell to show the HTML representation or trust the notebook. <br />On GitHub, the HTML representation is unable to render, please try loading this page with nbviewer.org.</b></div><div class=\"sk-container\" hidden><div class=\"sk-item\"><div class=\"sk-estimator sk-toggleable\"><input class=\"sk-toggleable__control sk-hidden--visually\" id=\"sk-estimator-id-1\" type=\"checkbox\" checked><label for=\"sk-estimator-id-1\" class=\"sk-toggleable__label sk-toggleable__label-arrow\">LGBMClassifier</label><div class=\"sk-toggleable__content\"><pre>LGBMClassifier(colsample_bytree=0.34716278523119637,\n",
       "               learning_rate=0.04323025519185361, max_depth=7,\n",
       "               min_child_samples=1200, min_split_gain=3, n_estimators=1600,\n",
       "               num_leaves=900, random_state=42, reg_alpha=0, reg_lambda=9,\n",
       "               scale_pos_weight=0.9531740695036613,\n",
       "               subsample=0.6909275901887844, subsample_freq=1)</pre></div></div></div></div></div>"
      ],
      "text/plain": [
       "LGBMClassifier(colsample_bytree=0.34716278523119637,\n",
       "               learning_rate=0.04323025519185361, max_depth=7,\n",
       "               min_child_samples=1200, min_split_gain=3, n_estimators=1600,\n",
       "               num_leaves=900, random_state=42, reg_alpha=0, reg_lambda=9,\n",
       "               scale_pos_weight=0.9531740695036613,\n",
       "               subsample=0.6909275901887844, subsample_freq=1)"
      ]
     },
     "execution_count": 33,
     "metadata": {},
     "output_type": "execute_result"
    }
   ],
   "source": [
    "%%time\n",
    "lgbm_gender = LGBMClassifier(**study_lgbm.best_params)\n",
    "eval_set = [(X_val, y_val)]\n",
    "\n",
    "lgbm_gender.fit(X_train_,\n",
    "                y_train_,\n",
    "                eval_metric='auc',\n",
    "                eval_set=eval_set,\n",
    "                early_stopping_rounds=100,\n",
    "                verbose=0)"
   ]
  },
  {
   "cell_type": "code",
   "execution_count": 34,
   "metadata": {
    "colab": {
     "base_uri": "https://localhost:8080/"
    },
    "executionInfo": {
     "elapsed": 4514,
     "status": "ok",
     "timestamp": 1680371797625,
     "user": {
      "displayName": "Гоша Сидоркин",
      "userId": "09429149278087224251"
     },
     "user_tz": -240
    },
    "id": "9iM3H67Gtv-X",
    "outputId": "e6d5f3cf-acba-4379-93e4-3984763d51f4"
   },
   "outputs": [
    {
     "name": "stdout",
     "output_type": "stream",
     "text": [
      "GINI по полу 0.694\n"
     ]
    }
   ],
   "source": [
    "print(\n",
    "    f'GINI по полу {2 * m.roc_auc_score(y_test, lgbm_gender.predict_proba(X_test)[:,1]) - 1:2.3f}'\n",
    ")"
   ]
  },
  {
   "cell_type": "code",
   "execution_count": 35,
   "metadata": {
    "colab": {
     "base_uri": "https://localhost:8080/"
    },
    "executionInfo": {
     "elapsed": 23940,
     "status": "ok",
     "timestamp": 1680371823688,
     "user": {
      "displayName": "Гоша Сидоркин",
      "userId": "09429149278087224251"
     },
     "user_tz": -240
    },
    "id": "M-r7YxlWtwA-",
    "outputId": "00a10e97-8f7d-47e4-bc33-86ff7dc33fdf"
   },
   "outputs": [
    {
     "name": "stdout",
     "output_type": "stream",
     "text": [
      "ROC-AUC train = 0.898\n",
      "ROC-AUC test = 0.847\n",
      "delta = 6.03%\n"
     ]
    }
   ],
   "source": [
    "check_overfitting_classification(lgbm_gender, X_train, y_train, X_test, y_test)"
   ]
  },
  {
   "cell_type": "code",
   "execution_count": null,
   "metadata": {
    "colab": {
     "base_uri": "https://localhost:8080/",
     "height": 297
    },
    "executionInfo": {
     "elapsed": 9226,
     "status": "ok",
     "timestamp": 1679817878338,
     "user": {
      "displayName": "Гоша Сидоркин",
      "userId": "09429149278087224251"
     },
     "user_tz": -240
    },
    "id": "Xp7UDsaatwDd",
    "outputId": "6ec67831-9e24-426e-9898-0808da470433"
   },
   "outputs": [
    {
     "data": {
      "text/html": [
       "\n",
       "  <div id=\"df-7fbd6dc7-8216-4b26-8b5e-efdeef9360e4\">\n",
       "    <div class=\"colab-df-container\">\n",
       "      <div>\n",
       "<style scoped>\n",
       "    .dataframe tbody tr th:only-of-type {\n",
       "        vertical-align: middle;\n",
       "    }\n",
       "\n",
       "    .dataframe tbody tr th {\n",
       "        vertical-align: top;\n",
       "    }\n",
       "\n",
       "    .dataframe thead th {\n",
       "        text-align: right;\n",
       "    }\n",
       "</style>\n",
       "<table border=\"1\" class=\"dataframe\">\n",
       "  <thead>\n",
       "    <tr style=\"text-align: right;\">\n",
       "      <th></th>\n",
       "      <th>model</th>\n",
       "      <th>Precision</th>\n",
       "      <th>Recall</th>\n",
       "      <th>f1</th>\n",
       "      <th>ROC_AUC</th>\n",
       "      <th>GINI</th>\n",
       "    </tr>\n",
       "  </thead>\n",
       "  <tbody>\n",
       "    <tr>\n",
       "      <th>0</th>\n",
       "      <td>LGBMBaseline</td>\n",
       "      <td>0.607814</td>\n",
       "      <td>0.564989</td>\n",
       "      <td>0.585620</td>\n",
       "      <td>0.628592</td>\n",
       "      <td>0.257185</td>\n",
       "    </tr>\n",
       "    <tr>\n",
       "      <th>1</th>\n",
       "      <td>CatBoostBaseline</td>\n",
       "      <td>0.611604</td>\n",
       "      <td>0.565913</td>\n",
       "      <td>0.587872</td>\n",
       "      <td>0.630034</td>\n",
       "      <td>0.260068</td>\n",
       "    </tr>\n",
       "    <tr>\n",
       "      <th>2</th>\n",
       "      <td>XGBoostBaseline</td>\n",
       "      <td>0.606800</td>\n",
       "      <td>0.555863</td>\n",
       "      <td>0.580216</td>\n",
       "      <td>0.623342</td>\n",
       "      <td>0.246683</td>\n",
       "    </tr>\n",
       "    <tr>\n",
       "      <th>3</th>\n",
       "      <td>RandomForestBaseline</td>\n",
       "      <td>0.584381</td>\n",
       "      <td>0.585569</td>\n",
       "      <td>0.584974</td>\n",
       "      <td>0.600485</td>\n",
       "      <td>0.200970</td>\n",
       "    </tr>\n",
       "    <tr>\n",
       "      <th>4</th>\n",
       "      <td>LGBMBaseline_embeddings</td>\n",
       "      <td>0.742578</td>\n",
       "      <td>0.720794</td>\n",
       "      <td>0.731523</td>\n",
       "      <td>0.812632</td>\n",
       "      <td>0.625265</td>\n",
       "    </tr>\n",
       "    <tr>\n",
       "      <th>5</th>\n",
       "      <td>CatBoostBaseline_embeddings</td>\n",
       "      <td>0.770574</td>\n",
       "      <td>0.748282</td>\n",
       "      <td>0.759264</td>\n",
       "      <td>0.843999</td>\n",
       "      <td>0.687998</td>\n",
       "    </tr>\n",
       "    <tr>\n",
       "      <th>6</th>\n",
       "      <td>XGBoostBaseline_embeddings</td>\n",
       "      <td>0.745593</td>\n",
       "      <td>0.728294</td>\n",
       "      <td>0.736842</td>\n",
       "      <td>0.820728</td>\n",
       "      <td>0.641457</td>\n",
       "    </tr>\n",
       "    <tr>\n",
       "      <th>0</th>\n",
       "      <td>LGBM_Optuna_1</td>\n",
       "      <td>0.773999</td>\n",
       "      <td>0.754267</td>\n",
       "      <td>0.764006</td>\n",
       "      <td>0.847433</td>\n",
       "      <td>0.694865</td>\n",
       "    </tr>\n",
       "  </tbody>\n",
       "</table>\n",
       "</div>\n",
       "      <button class=\"colab-df-convert\" onclick=\"convertToInteractive('df-7fbd6dc7-8216-4b26-8b5e-efdeef9360e4')\"\n",
       "              title=\"Convert this dataframe to an interactive table.\"\n",
       "              style=\"display:none;\">\n",
       "        \n",
       "  <svg xmlns=\"http://www.w3.org/2000/svg\" height=\"24px\"viewBox=\"0 0 24 24\"\n",
       "       width=\"24px\">\n",
       "    <path d=\"M0 0h24v24H0V0z\" fill=\"none\"/>\n",
       "    <path d=\"M18.56 5.44l.94 2.06.94-2.06 2.06-.94-2.06-.94-.94-2.06-.94 2.06-2.06.94zm-11 1L8.5 8.5l.94-2.06 2.06-.94-2.06-.94L8.5 2.5l-.94 2.06-2.06.94zm10 10l.94 2.06.94-2.06 2.06-.94-2.06-.94-.94-2.06-.94 2.06-2.06.94z\"/><path d=\"M17.41 7.96l-1.37-1.37c-.4-.4-.92-.59-1.43-.59-.52 0-1.04.2-1.43.59L10.3 9.45l-7.72 7.72c-.78.78-.78 2.05 0 2.83L4 21.41c.39.39.9.59 1.41.59.51 0 1.02-.2 1.41-.59l7.78-7.78 2.81-2.81c.8-.78.8-2.07 0-2.86zM5.41 20L4 18.59l7.72-7.72 1.47 1.35L5.41 20z\"/>\n",
       "  </svg>\n",
       "      </button>\n",
       "      \n",
       "  <style>\n",
       "    .colab-df-container {\n",
       "      display:flex;\n",
       "      flex-wrap:wrap;\n",
       "      gap: 12px;\n",
       "    }\n",
       "\n",
       "    .colab-df-convert {\n",
       "      background-color: #E8F0FE;\n",
       "      border: none;\n",
       "      border-radius: 50%;\n",
       "      cursor: pointer;\n",
       "      display: none;\n",
       "      fill: #1967D2;\n",
       "      height: 32px;\n",
       "      padding: 0 0 0 0;\n",
       "      width: 32px;\n",
       "    }\n",
       "\n",
       "    .colab-df-convert:hover {\n",
       "      background-color: #E2EBFA;\n",
       "      box-shadow: 0px 1px 2px rgba(60, 64, 67, 0.3), 0px 1px 3px 1px rgba(60, 64, 67, 0.15);\n",
       "      fill: #174EA6;\n",
       "    }\n",
       "\n",
       "    [theme=dark] .colab-df-convert {\n",
       "      background-color: #3B4455;\n",
       "      fill: #D2E3FC;\n",
       "    }\n",
       "\n",
       "    [theme=dark] .colab-df-convert:hover {\n",
       "      background-color: #434B5C;\n",
       "      box-shadow: 0px 1px 3px 1px rgba(0, 0, 0, 0.15);\n",
       "      filter: drop-shadow(0px 1px 2px rgba(0, 0, 0, 0.3));\n",
       "      fill: #FFFFFF;\n",
       "    }\n",
       "  </style>\n",
       "\n",
       "      <script>\n",
       "        const buttonEl =\n",
       "          document.querySelector('#df-7fbd6dc7-8216-4b26-8b5e-efdeef9360e4 button.colab-df-convert');\n",
       "        buttonEl.style.display =\n",
       "          google.colab.kernel.accessAllowed ? 'block' : 'none';\n",
       "\n",
       "        async function convertToInteractive(key) {\n",
       "          const element = document.querySelector('#df-7fbd6dc7-8216-4b26-8b5e-efdeef9360e4');\n",
       "          const dataTable =\n",
       "            await google.colab.kernel.invokeFunction('convertToInteractive',\n",
       "                                                     [key], {});\n",
       "          if (!dataTable) return;\n",
       "\n",
       "          const docLinkHtml = 'Like what you see? Visit the ' +\n",
       "            '<a target=\"_blank\" href=https://colab.research.google.com/notebooks/data_table.ipynb>data table notebook</a>'\n",
       "            + ' to learn more about interactive tables.';\n",
       "          element.innerHTML = '';\n",
       "          dataTable['output_type'] = 'display_data';\n",
       "          await google.colab.output.renderOutput(dataTable, element);\n",
       "          const docLink = document.createElement('div');\n",
       "          docLink.innerHTML = docLinkHtml;\n",
       "          element.appendChild(docLink);\n",
       "        }\n",
       "      </script>\n",
       "    </div>\n",
       "  </div>\n",
       "  "
      ],
      "text/plain": [
       "                         model  Precision    Recall        f1   ROC_AUC  \\\n",
       "0                 LGBMBaseline   0.607814  0.564989  0.585620  0.628592   \n",
       "1             CatBoostBaseline   0.611604  0.565913  0.587872  0.630034   \n",
       "2              XGBoostBaseline   0.606800  0.555863  0.580216  0.623342   \n",
       "3         RandomForestBaseline   0.584381  0.585569  0.584974  0.600485   \n",
       "4      LGBMBaseline_embeddings   0.742578  0.720794  0.731523  0.812632   \n",
       "5  CatBoostBaseline_embeddings   0.770574  0.748282  0.759264  0.843999   \n",
       "6   XGBoostBaseline_embeddings   0.745593  0.728294  0.736842  0.820728   \n",
       "0                LGBM_Optuna_1   0.773999  0.754267  0.764006  0.847433   \n",
       "\n",
       "       GINI  \n",
       "0  0.257185  \n",
       "1  0.260068  \n",
       "2  0.246683  \n",
       "3  0.200970  \n",
       "4  0.625265  \n",
       "5  0.687998  \n",
       "6  0.641457  \n",
       "0  0.694865  "
      ]
     },
     "execution_count": 37,
     "metadata": {},
     "output_type": "execute_result"
    }
   ],
   "source": [
    "y_pred_test = lgbm_gender.predict(X_test)\n",
    "y_score_test = lgbm_gender.predict_proba(X_test)\n",
    "metrics_gender = metrics_gender[:9]\n",
    "\n",
    "metrics_gender = metrics_gender.append(\n",
    "    get_metrics_classification(y_test,\n",
    "                               y_pred_test,\n",
    "                               y_score_test,\n",
    "                               name='LGBM_Optuna_1'))\n",
    "metrics_gender"
   ]
  },
  {
   "cell_type": "markdown",
   "metadata": {
    "id": "y_X_aku2-Eob"
   },
   "source": [
    "### Holdout"
   ]
  },
  {
   "cell_type": "code",
   "execution_count": 46,
   "metadata": {
    "colab": {
     "base_uri": "https://localhost:8080/"
    },
    "executionInfo": {
     "elapsed": 606452,
     "status": "ok",
     "timestamp": 1680374318047,
     "user": {
      "displayName": "Гоша Сидоркин",
      "userId": "09429149278087224251"
     },
     "user_tz": -240
    },
    "id": "3rXDCjeTtwGN",
    "outputId": "4ae1d2ec-204b-4927-dd4f-850417a18e46"
   },
   "outputs": [
    {
     "name": "stdout",
     "output_type": "stream",
     "text": [
      "id = 0 0.8472792859556377 \n",
      "\n",
      "id = 1 0.8444936618814942 \n",
      "\n",
      "id = 2 0.8466383049917041 \n",
      "\n",
      "id = 3 0.8459967433561042 \n",
      "\n",
      "id = 4 0.8465454982196126 \n",
      "\n",
      "0.8461906988809105\n"
     ]
    }
   ],
   "source": [
    "finish_test_preds = []\n",
    "finish_test_preds_proba = []\n",
    "\n",
    "cv = StratifiedKFold(n_splits=N_FOLDS, shuffle=True, random_state=RAND)\n",
    "cv_predicts_val = np.empty(N_FOLDS)\n",
    "\n",
    "for idx, (train_idx, test_idx) in enumerate(cv.split(X_train, y_train)):\n",
    "    X_train_, X_val_ = X_train.iloc[train_idx], X_train.iloc[test_idx]\n",
    "    y_train_, y_val_ = y_train.iloc[train_idx], y_train.iloc[test_idx]\n",
    "\n",
    "    model = LGBMClassifier(**lgbm_gender_best1)\n",
    "    model.fit(X_train_, y_train_)\n",
    "\n",
    "    # OOF\n",
    "    preds_val_proba = model.predict_proba(X_val_)[:, 1]\n",
    "    cv_predicts_val[idx] = m.roc_auc_score(y_val_, preds_val_proba)\n",
    "\n",
    "    # holdout\n",
    "    preds_test = model.predict(X_test)\n",
    "    preds_test_proba = model.predict_proba(X_test)\n",
    "\n",
    "    finish_test_preds.append(preds_test)\n",
    "    finish_test_preds_proba.append(preds_test_proba)\n",
    "\n",
    "    print(f\"id = {idx}\", cv_predicts_val[idx], '\\n')\n",
    "\n",
    "print(np.mean(cv_predicts_val))"
   ]
  },
  {
   "cell_type": "code",
   "execution_count": 43,
   "metadata": {
    "executionInfo": {
     "elapsed": 2050,
     "status": "ok",
     "timestamp": 1680372839678,
     "user": {
      "displayName": "Гоша Сидоркин",
      "userId": "09429149278087224251"
     },
     "user_tz": -240
    },
    "id": "4WSW49hQtwI9"
   },
   "outputs": [],
   "source": [
    "# находим моду по классам\n",
    "test_pred = stats.mode(np.column_stack(finish_test_preds), axis=1)[0]\n",
    "# находим среднее по вероятностям\n",
    "test_pred_proba = np.mean(finish_test_preds_proba, axis=0)"
   ]
  },
  {
   "cell_type": "code",
   "execution_count": 44,
   "metadata": {
    "colab": {
     "base_uri": "https://localhost:8080/"
    },
    "executionInfo": {
     "elapsed": 3,
     "status": "ok",
     "timestamp": 1680372840982,
     "user": {
      "displayName": "Гоша Сидоркин",
      "userId": "09429149278087224251"
     },
     "user_tz": -240
    },
    "id": "-r1ZrwIDtwLJ",
    "outputId": "94083c5e-48c7-40de-d0c1-4258ceca1e42"
   },
   "outputs": [
    {
     "name": "stdout",
     "output_type": "stream",
     "text": [
      "ROC-AUC mean OOF: 0.846, std: 0.001\n",
      "ROC-AUC HOLDOUT: 0.851\n"
     ]
    }
   ],
   "source": [
    "print('ROC-AUC mean OOF: %.3f, std: %.3f' %\n",
    "      (np.mean(cv_predicts_val), np.std(cv_predicts_val)))\n",
    "print('ROC-AUC HOLDOUT: %.3f' % m.roc_auc_score(y_test, test_pred_proba[:, 1]))"
   ]
  },
  {
   "cell_type": "code",
   "execution_count": null,
   "metadata": {
    "colab": {
     "base_uri": "https://localhost:8080/",
     "height": 328
    },
    "executionInfo": {
     "elapsed": 295,
     "status": "ok",
     "timestamp": 1679818361104,
     "user": {
      "displayName": "Гоша Сидоркин",
      "userId": "09429149278087224251"
     },
     "user_tz": -240
    },
    "id": "as29N_T9twOF",
    "outputId": "d2a42000-c365-4867-a945-9da598b5b52c"
   },
   "outputs": [
    {
     "data": {
      "text/html": [
       "\n",
       "  <div id=\"df-adfec779-8ef6-415d-bfd6-78eb63525c72\">\n",
       "    <div class=\"colab-df-container\">\n",
       "      <div>\n",
       "<style scoped>\n",
       "    .dataframe tbody tr th:only-of-type {\n",
       "        vertical-align: middle;\n",
       "    }\n",
       "\n",
       "    .dataframe tbody tr th {\n",
       "        vertical-align: top;\n",
       "    }\n",
       "\n",
       "    .dataframe thead th {\n",
       "        text-align: right;\n",
       "    }\n",
       "</style>\n",
       "<table border=\"1\" class=\"dataframe\">\n",
       "  <thead>\n",
       "    <tr style=\"text-align: right;\">\n",
       "      <th></th>\n",
       "      <th>model</th>\n",
       "      <th>Precision</th>\n",
       "      <th>Recall</th>\n",
       "      <th>f1</th>\n",
       "      <th>ROC_AUC</th>\n",
       "      <th>GINI</th>\n",
       "    </tr>\n",
       "  </thead>\n",
       "  <tbody>\n",
       "    <tr>\n",
       "      <th>0</th>\n",
       "      <td>LGBMBaseline</td>\n",
       "      <td>0.607814</td>\n",
       "      <td>0.564989</td>\n",
       "      <td>0.585620</td>\n",
       "      <td>0.628592</td>\n",
       "      <td>0.257185</td>\n",
       "    </tr>\n",
       "    <tr>\n",
       "      <th>1</th>\n",
       "      <td>CatBoostBaseline</td>\n",
       "      <td>0.611604</td>\n",
       "      <td>0.565913</td>\n",
       "      <td>0.587872</td>\n",
       "      <td>0.630034</td>\n",
       "      <td>0.260068</td>\n",
       "    </tr>\n",
       "    <tr>\n",
       "      <th>2</th>\n",
       "      <td>XGBoostBaseline</td>\n",
       "      <td>0.606800</td>\n",
       "      <td>0.555863</td>\n",
       "      <td>0.580216</td>\n",
       "      <td>0.623342</td>\n",
       "      <td>0.246683</td>\n",
       "    </tr>\n",
       "    <tr>\n",
       "      <th>3</th>\n",
       "      <td>RandomForestBaseline</td>\n",
       "      <td>0.584381</td>\n",
       "      <td>0.585569</td>\n",
       "      <td>0.584974</td>\n",
       "      <td>0.600485</td>\n",
       "      <td>0.200970</td>\n",
       "    </tr>\n",
       "    <tr>\n",
       "      <th>4</th>\n",
       "      <td>LGBMBaseline_embeddings</td>\n",
       "      <td>0.742578</td>\n",
       "      <td>0.720794</td>\n",
       "      <td>0.731523</td>\n",
       "      <td>0.812632</td>\n",
       "      <td>0.625265</td>\n",
       "    </tr>\n",
       "    <tr>\n",
       "      <th>5</th>\n",
       "      <td>CatBoostBaseline_embeddings</td>\n",
       "      <td>0.770574</td>\n",
       "      <td>0.748282</td>\n",
       "      <td>0.759264</td>\n",
       "      <td>0.843999</td>\n",
       "      <td>0.687998</td>\n",
       "    </tr>\n",
       "    <tr>\n",
       "      <th>6</th>\n",
       "      <td>XGBoostBaseline_embeddings</td>\n",
       "      <td>0.745593</td>\n",
       "      <td>0.728294</td>\n",
       "      <td>0.736842</td>\n",
       "      <td>0.820728</td>\n",
       "      <td>0.641457</td>\n",
       "    </tr>\n",
       "    <tr>\n",
       "      <th>0</th>\n",
       "      <td>LGBM_Optuna_1</td>\n",
       "      <td>0.773999</td>\n",
       "      <td>0.754267</td>\n",
       "      <td>0.764006</td>\n",
       "      <td>0.847433</td>\n",
       "      <td>0.694865</td>\n",
       "    </tr>\n",
       "    <tr>\n",
       "      <th>0</th>\n",
       "      <td>LGBM_Optuna_Holdout_1</td>\n",
       "      <td>0.776396</td>\n",
       "      <td>0.754193</td>\n",
       "      <td>0.765134</td>\n",
       "      <td>0.850502</td>\n",
       "      <td>0.701003</td>\n",
       "    </tr>\n",
       "  </tbody>\n",
       "</table>\n",
       "</div>\n",
       "      <button class=\"colab-df-convert\" onclick=\"convertToInteractive('df-adfec779-8ef6-415d-bfd6-78eb63525c72')\"\n",
       "              title=\"Convert this dataframe to an interactive table.\"\n",
       "              style=\"display:none;\">\n",
       "        \n",
       "  <svg xmlns=\"http://www.w3.org/2000/svg\" height=\"24px\"viewBox=\"0 0 24 24\"\n",
       "       width=\"24px\">\n",
       "    <path d=\"M0 0h24v24H0V0z\" fill=\"none\"/>\n",
       "    <path d=\"M18.56 5.44l.94 2.06.94-2.06 2.06-.94-2.06-.94-.94-2.06-.94 2.06-2.06.94zm-11 1L8.5 8.5l.94-2.06 2.06-.94-2.06-.94L8.5 2.5l-.94 2.06-2.06.94zm10 10l.94 2.06.94-2.06 2.06-.94-2.06-.94-.94-2.06-.94 2.06-2.06.94z\"/><path d=\"M17.41 7.96l-1.37-1.37c-.4-.4-.92-.59-1.43-.59-.52 0-1.04.2-1.43.59L10.3 9.45l-7.72 7.72c-.78.78-.78 2.05 0 2.83L4 21.41c.39.39.9.59 1.41.59.51 0 1.02-.2 1.41-.59l7.78-7.78 2.81-2.81c.8-.78.8-2.07 0-2.86zM5.41 20L4 18.59l7.72-7.72 1.47 1.35L5.41 20z\"/>\n",
       "  </svg>\n",
       "      </button>\n",
       "      \n",
       "  <style>\n",
       "    .colab-df-container {\n",
       "      display:flex;\n",
       "      flex-wrap:wrap;\n",
       "      gap: 12px;\n",
       "    }\n",
       "\n",
       "    .colab-df-convert {\n",
       "      background-color: #E8F0FE;\n",
       "      border: none;\n",
       "      border-radius: 50%;\n",
       "      cursor: pointer;\n",
       "      display: none;\n",
       "      fill: #1967D2;\n",
       "      height: 32px;\n",
       "      padding: 0 0 0 0;\n",
       "      width: 32px;\n",
       "    }\n",
       "\n",
       "    .colab-df-convert:hover {\n",
       "      background-color: #E2EBFA;\n",
       "      box-shadow: 0px 1px 2px rgba(60, 64, 67, 0.3), 0px 1px 3px 1px rgba(60, 64, 67, 0.15);\n",
       "      fill: #174EA6;\n",
       "    }\n",
       "\n",
       "    [theme=dark] .colab-df-convert {\n",
       "      background-color: #3B4455;\n",
       "      fill: #D2E3FC;\n",
       "    }\n",
       "\n",
       "    [theme=dark] .colab-df-convert:hover {\n",
       "      background-color: #434B5C;\n",
       "      box-shadow: 0px 1px 3px 1px rgba(0, 0, 0, 0.15);\n",
       "      filter: drop-shadow(0px 1px 2px rgba(0, 0, 0, 0.3));\n",
       "      fill: #FFFFFF;\n",
       "    }\n",
       "  </style>\n",
       "\n",
       "      <script>\n",
       "        const buttonEl =\n",
       "          document.querySelector('#df-adfec779-8ef6-415d-bfd6-78eb63525c72 button.colab-df-convert');\n",
       "        buttonEl.style.display =\n",
       "          google.colab.kernel.accessAllowed ? 'block' : 'none';\n",
       "\n",
       "        async function convertToInteractive(key) {\n",
       "          const element = document.querySelector('#df-adfec779-8ef6-415d-bfd6-78eb63525c72');\n",
       "          const dataTable =\n",
       "            await google.colab.kernel.invokeFunction('convertToInteractive',\n",
       "                                                     [key], {});\n",
       "          if (!dataTable) return;\n",
       "\n",
       "          const docLinkHtml = 'Like what you see? Visit the ' +\n",
       "            '<a target=\"_blank\" href=https://colab.research.google.com/notebooks/data_table.ipynb>data table notebook</a>'\n",
       "            + ' to learn more about interactive tables.';\n",
       "          element.innerHTML = '';\n",
       "          dataTable['output_type'] = 'display_data';\n",
       "          await google.colab.output.renderOutput(dataTable, element);\n",
       "          const docLink = document.createElement('div');\n",
       "          docLink.innerHTML = docLinkHtml;\n",
       "          element.appendChild(docLink);\n",
       "        }\n",
       "      </script>\n",
       "    </div>\n",
       "  </div>\n",
       "  "
      ],
      "text/plain": [
       "                         model  Precision    Recall        f1   ROC_AUC  \\\n",
       "0                 LGBMBaseline   0.607814  0.564989  0.585620  0.628592   \n",
       "1             CatBoostBaseline   0.611604  0.565913  0.587872  0.630034   \n",
       "2              XGBoostBaseline   0.606800  0.555863  0.580216  0.623342   \n",
       "3         RandomForestBaseline   0.584381  0.585569  0.584974  0.600485   \n",
       "4      LGBMBaseline_embeddings   0.742578  0.720794  0.731523  0.812632   \n",
       "5  CatBoostBaseline_embeddings   0.770574  0.748282  0.759264  0.843999   \n",
       "6   XGBoostBaseline_embeddings   0.745593  0.728294  0.736842  0.820728   \n",
       "0                LGBM_Optuna_1   0.773999  0.754267  0.764006  0.847433   \n",
       "0        LGBM_Optuna_Holdout_1   0.776396  0.754193  0.765134  0.850502   \n",
       "\n",
       "       GINI  \n",
       "0  0.257185  \n",
       "1  0.260068  \n",
       "2  0.246683  \n",
       "3  0.200970  \n",
       "4  0.625265  \n",
       "5  0.687998  \n",
       "6  0.641457  \n",
       "0  0.694865  \n",
       "0  0.701003  "
      ]
     },
     "execution_count": 41,
     "metadata": {},
     "output_type": "execute_result"
    }
   ],
   "source": [
    "metrics_gender = metrics_gender[:10]\n",
    "\n",
    "metrics_gender = metrics_gender.append(\n",
    "    get_metrics_classification(y_test,\n",
    "                               test_pred,\n",
    "                               test_pred_proba,\n",
    "                               name='LGBM_Optuna_Holdout_1'))\n",
    "metrics_gender"
   ]
  },
  {
   "cell_type": "markdown",
   "metadata": {
    "id": "c1QPXa7SFgUV"
   },
   "source": [
    "С помощью Optuna и кросс-валидации удалось улучшить метрики, в дальнейшем будем использовать эту модель для стейкинга"
   ]
  },
  {
   "cell_type": "markdown",
   "metadata": {
    "id": "U_wKEQ_ctxbg"
   },
   "source": [
    "## CatBoost Optuna"
   ]
  },
  {
   "cell_type": "code",
   "execution_count": 45,
   "metadata": {
    "executionInfo": {
     "elapsed": 254,
     "status": "ok",
     "timestamp": 1680373232892,
     "user": {
      "displayName": "Гоша Сидоркин",
      "userId": "09429149278087224251"
     },
     "user_tz": -240
    },
    "id": "wFZ1yfqXDur3"
   },
   "outputs": [],
   "source": [
    "cat_gender_best = {\n",
    "    'iterations': 3000,\n",
    "    'learning_rate': 0.051418504137325544,\n",
    "    'max_depth': 4,\n",
    "    'colsample_bylevel': 0.7594434568905333,\n",
    "    'l2_leaf_reg': 57.13098420673366,\n",
    "    'random_strength': 30.89358906898957,\n",
    "    'bootstrap_type': 'No',\n",
    "    'border_count': 128,\n",
    "    'grow_policy': 'Lossguide',\n",
    "    'od_wait': 1886,\n",
    "    'leaf_estimation_iterations': 15,\n",
    "    'eval_metric': 'AUC',\n",
    "    'scale_pos_weight': 0.9531740695036613,\n",
    "    'random_state': 42\n",
    "}"
   ]
  },
  {
   "cell_type": "code",
   "execution_count": null,
   "metadata": {
    "id": "n-ab-0PCRbKx"
   },
   "outputs": [],
   "source": [
    "from catboost import Pool\n",
    "\n",
    "\n",
    "def objective_cat(trial, X, y, N_FOLDS, random_state):\n",
    "\n",
    "    cat_params = {\n",
    "        \"iterations\":\n",
    "        trial.suggest_categorical(\"iterations\", [3000]),\n",
    "        # \"learning_rate\": trial.suggest_float(\"learning_rate\",\n",
    "        #                                      0.001,\n",
    "        #                                      0.3,\n",
    "        #                                      log=True),\n",
    "        \"learning_rate\":\n",
    "        trial.suggest_categorical(\"learning_rate\", [0.051418504137325544]),\n",
    "        \"max_depth\":\n",
    "        trial.suggest_int(\"max_depth\", 4, 10),\n",
    "        \"colsample_bylevel\":\n",
    "        trial.suggest_float(\"colsample_bylevel\", 0.5, 1.0),\n",
    "        \"l2_leaf_reg\":\n",
    "        trial.suggest_uniform(\"l2_leaf_reg\", 1e-5, 1e2),\n",
    "        \"random_strength\":\n",
    "        trial.suggest_uniform('random_strength', 10, 50),\n",
    "        \"bootstrap_type\":\n",
    "        trial.suggest_categorical(\"bootstrap_type\",\n",
    "                                  [\"Bayesian\", \"Bernoulli\", \"MVS\", \"No\"]),\n",
    "        \"border_count\":\n",
    "        trial.suggest_categorical('border_count', [128, 254]),\n",
    "        \"grow_policy\":\n",
    "        trial.suggest_categorical('grow_policy',\n",
    "                                  [\"SymmetricTree\", \"Depthwise\", \"Lossguide\"]),\n",
    "        \"od_wait\":\n",
    "        trial.suggest_int('od_wait', 500, 2000),\n",
    "        \"leaf_estimation_iterations\":\n",
    "        trial.suggest_int('leaf_estimation_iterations', 1, 15),\n",
    "        \"use_best_model\":\n",
    "        trial.suggest_categorical(\"use_best_model\", [True]),\n",
    "        \"eval_metric\":\n",
    "        trial.suggest_categorical(\"eval_metric\", ['AUC']),\n",
    "        \"scale_pos_weight\":\n",
    "        trial.suggest_categorical(\"scale_pos_weight\", [ratio]),\n",
    "        \"random_state\":\n",
    "        trial.suggest_categorical(\"random_state\", [random_state])\n",
    "    }\n",
    "\n",
    "    if cat_params[\"bootstrap_type\"] == \"Bayesian\":\n",
    "        cat_params[\"bagging_temperature\"] = trial.suggest_float(\n",
    "            \"bagging_temperature\", 0, 100)\n",
    "    elif cat_params[\"bootstrap_type\"] == \"Bernoulli\":\n",
    "        cat_params[\"subsample\"] = trial.suggest_float(\"subsample\",\n",
    "                                                      0.1,\n",
    "                                                      1,\n",
    "                                                      log=True)\n",
    "\n",
    "    cv = StratifiedKFold(n_splits=N_FOLDS,\n",
    "                         shuffle=True,\n",
    "                         random_state=random_state)\n",
    "\n",
    "    cv_predicts = np.empty(N_FOLDS)\n",
    "\n",
    "    for idx, (train_idx, test_idx) in enumerate(cv.split(X, y)):\n",
    "        X_train, X_test = X.iloc[train_idx], X.iloc[test_idx]\n",
    "        y_train, y_test = y.iloc[train_idx], y.iloc[test_idx]\n",
    "\n",
    "        train_data = Pool(data=X_train, label=y_train)\n",
    "        eval_data = Pool(data=X_test, label=y_test)\n",
    "\n",
    "        model = CatBoostClassifier(**cat_params)\n",
    "        model.fit(train_data,\n",
    "                  eval_set=eval_data,\n",
    "                  early_stopping_rounds=100,\n",
    "                  verbose=0)\n",
    "\n",
    "        preds_proba = model.predict_proba(X_test)[:, 1]\n",
    "        cv_predicts[idx] = m.roc_auc_score(y_test, preds_proba)\n",
    "\n",
    "        return np.mean(cv_predicts)"
   ]
  },
  {
   "cell_type": "code",
   "execution_count": null,
   "metadata": {
    "id": "QTJOIt7nRbHc"
   },
   "outputs": [],
   "source": [
    "%%time\n",
    "study_cat = optuna.create_study(\n",
    "    direction=\"maximize\",\n",
    "    pruner=optuna.pruners.SuccessiveHalvingPruner(),\n",
    "    study_name=\"Cat_01\")\n",
    "\n",
    "\n",
    "def func(trial):\n",
    "    return objective_cat(trial,\n",
    "                         X_train,\n",
    "                         y_train,\n",
    "                         N_FOLDS=N_FOLDS,\n",
    "                         random_state=RAND)\n",
    "\n",
    "\n",
    "study_cat.optimize(func, n_trials=10, show_progress_bar=True)"
   ]
  },
  {
   "cell_type": "code",
   "execution_count": null,
   "metadata": {
    "colab": {
     "base_uri": "https://localhost:8080/"
    },
    "executionInfo": {
     "elapsed": 685,
     "status": "ok",
     "timestamp": 1679259383160,
     "user": {
      "displayName": "Гоша Сидоркин",
      "userId": "09429149278087224251"
     },
     "user_tz": -240
    },
    "id": "mBdl-R3HRbEH",
    "outputId": "3428fe54-e20d-4d5e-cfc2-ac8e611604ea"
   },
   "outputs": [
    {
     "data": {
      "text/plain": [
       "0.696486982417721"
      ]
     },
     "execution_count": 30,
     "metadata": {},
     "output_type": "execute_result"
    }
   ],
   "source": [
    "study_cat.best_value"
   ]
  },
  {
   "cell_type": "code",
   "execution_count": null,
   "metadata": {
    "colab": {
     "base_uri": "https://localhost:8080/"
    },
    "executionInfo": {
     "elapsed": 8,
     "status": "ok",
     "timestamp": 1679259385222,
     "user": {
      "displayName": "Гоша Сидоркин",
      "userId": "09429149278087224251"
     },
     "user_tz": -240
    },
    "id": "4HkOKSOsRbAo",
    "outputId": "94fe5398-adfd-4a10-a877-cc04c2d66515"
   },
   "outputs": [
    {
     "data": {
      "text/plain": [
       "{'iterations': 3000,\n",
       " 'learning_rate': 0.051418504137325544,\n",
       " 'max_depth': 4,\n",
       " 'colsample_bylevel': 0.7594434568905333,\n",
       " 'l2_leaf_reg': 57.13098420673366,\n",
       " 'random_strength': 30.89358906898957,\n",
       " 'bootstrap_type': 'No',\n",
       " 'border_count': 128,\n",
       " 'grow_policy': 'Lossguide',\n",
       " 'od_wait': 1886,\n",
       " 'leaf_estimation_iterations': 15,\n",
       " 'use_best_model': True,\n",
       " 'eval_metric': 'AUC',\n",
       " 'scale_pos_weight': 0.9531740695036613,\n",
       " 'random_state': 42}"
      ]
     },
     "execution_count": 31,
     "metadata": {},
     "output_type": "execute_result"
    }
   ],
   "source": [
    "study_cat.best_params"
   ]
  },
  {
   "cell_type": "code",
   "execution_count": null,
   "metadata": {
    "colab": {
     "base_uri": "https://localhost:8080/"
    },
    "executionInfo": {
     "elapsed": 1230958,
     "status": "ok",
     "timestamp": 1679819732799,
     "user": {
      "displayName": "Гоша Сидоркин",
      "userId": "09429149278087224251"
     },
     "user_tz": -240
    },
    "id": "GYYxRH6uRa-C",
    "outputId": "c8d9ebae-18b5-430d-843c-6083dfff70f5"
   },
   "outputs": [
    {
     "name": "stdout",
     "output_type": "stream",
     "text": [
      "CPU times: user 1h 10min 17s, sys: 50.8 s, total: 1h 11min 8s\n",
      "Wall time: 20min 30s\n"
     ]
    },
    {
     "data": {
      "text/plain": [
       "<catboost.core.CatBoostClassifier at 0x7fef98dd58b0>"
      ]
     },
     "execution_count": 47,
     "metadata": {},
     "output_type": "execute_result"
    }
   ],
   "source": [
    "%%time\n",
    "cat_features = X.select_dtypes('category').columns.tolist()\n",
    "cat_gender = CatBoostClassifier(cat_features=cat_features, **cat_gender_best)\n",
    "eval_set = [(X_val, y_val)]\n",
    "\n",
    "cat_gender.fit(X_train_,\n",
    "               y_train_,\n",
    "               eval_set=eval_set,\n",
    "               verbose=False,\n",
    "               early_stopping_rounds=100)"
   ]
  },
  {
   "cell_type": "code",
   "execution_count": null,
   "metadata": {
    "colab": {
     "base_uri": "https://localhost:8080/"
    },
    "executionInfo": {
     "elapsed": 1461,
     "status": "ok",
     "timestamp": 1679819734246,
     "user": {
      "displayName": "Гоша Сидоркин",
      "userId": "09429149278087224251"
     },
     "user_tz": -240
    },
    "id": "PZ3cPx3mRa78",
    "outputId": "bda5683b-e905-4f72-fcdd-a152f20b2283"
   },
   "outputs": [
    {
     "name": "stdout",
     "output_type": "stream",
     "text": [
      "GINI по полу 0.695\n"
     ]
    }
   ],
   "source": [
    "print(\n",
    "    f'GINI по полу {2 * m.roc_auc_score(y_test, cat_gender.predict_proba(X_test)[:,1]) - 1:2.3f}'\n",
    ")"
   ]
  },
  {
   "cell_type": "code",
   "execution_count": null,
   "metadata": {
    "colab": {
     "base_uri": "https://localhost:8080/"
    },
    "executionInfo": {
     "elapsed": 7338,
     "status": "ok",
     "timestamp": 1679819741578,
     "user": {
      "displayName": "Гоша Сидоркин",
      "userId": "09429149278087224251"
     },
     "user_tz": -240
    },
    "id": "Q6LHuAWoRa5V",
    "outputId": "c598d14f-6670-44f0-f909-6a3be2561b9e"
   },
   "outputs": [
    {
     "name": "stdout",
     "output_type": "stream",
     "text": [
      "ROC-AUC train = 0.907\n",
      "ROC-AUC test = 0.848\n",
      "delta = 7.07%\n"
     ]
    }
   ],
   "source": [
    "check_overfitting_classification(cat_gender, X_train, y_train, X_test, y_test)"
   ]
  },
  {
   "cell_type": "code",
   "execution_count": null,
   "metadata": {
    "colab": {
     "base_uri": "https://localhost:8080/",
     "height": 359
    },
    "executionInfo": {
     "elapsed": 3546,
     "status": "ok",
     "timestamp": 1679819745103,
     "user": {
      "displayName": "Гоша Сидоркин",
      "userId": "09429149278087224251"
     },
     "user_tz": -240
    },
    "id": "OnkR6H6gRa2u",
    "outputId": "67e1ab9e-dd7a-4c80-d176-4776e870b8d8"
   },
   "outputs": [
    {
     "data": {
      "text/html": [
       "\n",
       "  <div id=\"df-7426bf65-b603-4e31-bfd2-69feb4bc283e\">\n",
       "    <div class=\"colab-df-container\">\n",
       "      <div>\n",
       "<style scoped>\n",
       "    .dataframe tbody tr th:only-of-type {\n",
       "        vertical-align: middle;\n",
       "    }\n",
       "\n",
       "    .dataframe tbody tr th {\n",
       "        vertical-align: top;\n",
       "    }\n",
       "\n",
       "    .dataframe thead th {\n",
       "        text-align: right;\n",
       "    }\n",
       "</style>\n",
       "<table border=\"1\" class=\"dataframe\">\n",
       "  <thead>\n",
       "    <tr style=\"text-align: right;\">\n",
       "      <th></th>\n",
       "      <th>model</th>\n",
       "      <th>Precision</th>\n",
       "      <th>Recall</th>\n",
       "      <th>f1</th>\n",
       "      <th>ROC_AUC</th>\n",
       "      <th>GINI</th>\n",
       "    </tr>\n",
       "  </thead>\n",
       "  <tbody>\n",
       "    <tr>\n",
       "      <th>0</th>\n",
       "      <td>LGBMBaseline</td>\n",
       "      <td>0.607814</td>\n",
       "      <td>0.564989</td>\n",
       "      <td>0.585620</td>\n",
       "      <td>0.628592</td>\n",
       "      <td>0.257185</td>\n",
       "    </tr>\n",
       "    <tr>\n",
       "      <th>1</th>\n",
       "      <td>CatBoostBaseline</td>\n",
       "      <td>0.611604</td>\n",
       "      <td>0.565913</td>\n",
       "      <td>0.587872</td>\n",
       "      <td>0.630034</td>\n",
       "      <td>0.260068</td>\n",
       "    </tr>\n",
       "    <tr>\n",
       "      <th>2</th>\n",
       "      <td>XGBoostBaseline</td>\n",
       "      <td>0.606800</td>\n",
       "      <td>0.555863</td>\n",
       "      <td>0.580216</td>\n",
       "      <td>0.623342</td>\n",
       "      <td>0.246683</td>\n",
       "    </tr>\n",
       "    <tr>\n",
       "      <th>3</th>\n",
       "      <td>RandomForestBaseline</td>\n",
       "      <td>0.584381</td>\n",
       "      <td>0.585569</td>\n",
       "      <td>0.584974</td>\n",
       "      <td>0.600485</td>\n",
       "      <td>0.200970</td>\n",
       "    </tr>\n",
       "    <tr>\n",
       "      <th>4</th>\n",
       "      <td>LGBMBaseline_embeddings</td>\n",
       "      <td>0.742578</td>\n",
       "      <td>0.720794</td>\n",
       "      <td>0.731523</td>\n",
       "      <td>0.812632</td>\n",
       "      <td>0.625265</td>\n",
       "    </tr>\n",
       "    <tr>\n",
       "      <th>5</th>\n",
       "      <td>CatBoostBaseline_embeddings</td>\n",
       "      <td>0.770574</td>\n",
       "      <td>0.748282</td>\n",
       "      <td>0.759264</td>\n",
       "      <td>0.843999</td>\n",
       "      <td>0.687998</td>\n",
       "    </tr>\n",
       "    <tr>\n",
       "      <th>6</th>\n",
       "      <td>XGBoostBaseline_embeddings</td>\n",
       "      <td>0.745593</td>\n",
       "      <td>0.728294</td>\n",
       "      <td>0.736842</td>\n",
       "      <td>0.820728</td>\n",
       "      <td>0.641457</td>\n",
       "    </tr>\n",
       "    <tr>\n",
       "      <th>0</th>\n",
       "      <td>LGBM_Optuna_1</td>\n",
       "      <td>0.773999</td>\n",
       "      <td>0.754267</td>\n",
       "      <td>0.764006</td>\n",
       "      <td>0.847433</td>\n",
       "      <td>0.694865</td>\n",
       "    </tr>\n",
       "    <tr>\n",
       "      <th>0</th>\n",
       "      <td>LGBM_Optuna_Holdout_1</td>\n",
       "      <td>0.776396</td>\n",
       "      <td>0.754193</td>\n",
       "      <td>0.765134</td>\n",
       "      <td>0.850502</td>\n",
       "      <td>0.701003</td>\n",
       "    </tr>\n",
       "    <tr>\n",
       "      <th>0</th>\n",
       "      <td>CatBoost_Optuna</td>\n",
       "      <td>0.772843</td>\n",
       "      <td>0.752826</td>\n",
       "      <td>0.762703</td>\n",
       "      <td>0.847530</td>\n",
       "      <td>0.695060</td>\n",
       "    </tr>\n",
       "  </tbody>\n",
       "</table>\n",
       "</div>\n",
       "      <button class=\"colab-df-convert\" onclick=\"convertToInteractive('df-7426bf65-b603-4e31-bfd2-69feb4bc283e')\"\n",
       "              title=\"Convert this dataframe to an interactive table.\"\n",
       "              style=\"display:none;\">\n",
       "        \n",
       "  <svg xmlns=\"http://www.w3.org/2000/svg\" height=\"24px\"viewBox=\"0 0 24 24\"\n",
       "       width=\"24px\">\n",
       "    <path d=\"M0 0h24v24H0V0z\" fill=\"none\"/>\n",
       "    <path d=\"M18.56 5.44l.94 2.06.94-2.06 2.06-.94-2.06-.94-.94-2.06-.94 2.06-2.06.94zm-11 1L8.5 8.5l.94-2.06 2.06-.94-2.06-.94L8.5 2.5l-.94 2.06-2.06.94zm10 10l.94 2.06.94-2.06 2.06-.94-2.06-.94-.94-2.06-.94 2.06-2.06.94z\"/><path d=\"M17.41 7.96l-1.37-1.37c-.4-.4-.92-.59-1.43-.59-.52 0-1.04.2-1.43.59L10.3 9.45l-7.72 7.72c-.78.78-.78 2.05 0 2.83L4 21.41c.39.39.9.59 1.41.59.51 0 1.02-.2 1.41-.59l7.78-7.78 2.81-2.81c.8-.78.8-2.07 0-2.86zM5.41 20L4 18.59l7.72-7.72 1.47 1.35L5.41 20z\"/>\n",
       "  </svg>\n",
       "      </button>\n",
       "      \n",
       "  <style>\n",
       "    .colab-df-container {\n",
       "      display:flex;\n",
       "      flex-wrap:wrap;\n",
       "      gap: 12px;\n",
       "    }\n",
       "\n",
       "    .colab-df-convert {\n",
       "      background-color: #E8F0FE;\n",
       "      border: none;\n",
       "      border-radius: 50%;\n",
       "      cursor: pointer;\n",
       "      display: none;\n",
       "      fill: #1967D2;\n",
       "      height: 32px;\n",
       "      padding: 0 0 0 0;\n",
       "      width: 32px;\n",
       "    }\n",
       "\n",
       "    .colab-df-convert:hover {\n",
       "      background-color: #E2EBFA;\n",
       "      box-shadow: 0px 1px 2px rgba(60, 64, 67, 0.3), 0px 1px 3px 1px rgba(60, 64, 67, 0.15);\n",
       "      fill: #174EA6;\n",
       "    }\n",
       "\n",
       "    [theme=dark] .colab-df-convert {\n",
       "      background-color: #3B4455;\n",
       "      fill: #D2E3FC;\n",
       "    }\n",
       "\n",
       "    [theme=dark] .colab-df-convert:hover {\n",
       "      background-color: #434B5C;\n",
       "      box-shadow: 0px 1px 3px 1px rgba(0, 0, 0, 0.15);\n",
       "      filter: drop-shadow(0px 1px 2px rgba(0, 0, 0, 0.3));\n",
       "      fill: #FFFFFF;\n",
       "    }\n",
       "  </style>\n",
       "\n",
       "      <script>\n",
       "        const buttonEl =\n",
       "          document.querySelector('#df-7426bf65-b603-4e31-bfd2-69feb4bc283e button.colab-df-convert');\n",
       "        buttonEl.style.display =\n",
       "          google.colab.kernel.accessAllowed ? 'block' : 'none';\n",
       "\n",
       "        async function convertToInteractive(key) {\n",
       "          const element = document.querySelector('#df-7426bf65-b603-4e31-bfd2-69feb4bc283e');\n",
       "          const dataTable =\n",
       "            await google.colab.kernel.invokeFunction('convertToInteractive',\n",
       "                                                     [key], {});\n",
       "          if (!dataTable) return;\n",
       "\n",
       "          const docLinkHtml = 'Like what you see? Visit the ' +\n",
       "            '<a target=\"_blank\" href=https://colab.research.google.com/notebooks/data_table.ipynb>data table notebook</a>'\n",
       "            + ' to learn more about interactive tables.';\n",
       "          element.innerHTML = '';\n",
       "          dataTable['output_type'] = 'display_data';\n",
       "          await google.colab.output.renderOutput(dataTable, element);\n",
       "          const docLink = document.createElement('div');\n",
       "          docLink.innerHTML = docLinkHtml;\n",
       "          element.appendChild(docLink);\n",
       "        }\n",
       "      </script>\n",
       "    </div>\n",
       "  </div>\n",
       "  "
      ],
      "text/plain": [
       "                         model  Precision    Recall        f1   ROC_AUC  \\\n",
       "0                 LGBMBaseline   0.607814  0.564989  0.585620  0.628592   \n",
       "1             CatBoostBaseline   0.611604  0.565913  0.587872  0.630034   \n",
       "2              XGBoostBaseline   0.606800  0.555863  0.580216  0.623342   \n",
       "3         RandomForestBaseline   0.584381  0.585569  0.584974  0.600485   \n",
       "4      LGBMBaseline_embeddings   0.742578  0.720794  0.731523  0.812632   \n",
       "5  CatBoostBaseline_embeddings   0.770574  0.748282  0.759264  0.843999   \n",
       "6   XGBoostBaseline_embeddings   0.745593  0.728294  0.736842  0.820728   \n",
       "0                LGBM_Optuna_1   0.773999  0.754267  0.764006  0.847433   \n",
       "0        LGBM_Optuna_Holdout_1   0.776396  0.754193  0.765134  0.850502   \n",
       "0              CatBoost_Optuna   0.772843  0.752826  0.762703  0.847530   \n",
       "\n",
       "       GINI  \n",
       "0  0.257185  \n",
       "1  0.260068  \n",
       "2  0.246683  \n",
       "3  0.200970  \n",
       "4  0.625265  \n",
       "5  0.687998  \n",
       "6  0.641457  \n",
       "0  0.694865  \n",
       "0  0.701003  \n",
       "0  0.695060  "
      ]
     },
     "execution_count": 50,
     "metadata": {},
     "output_type": "execute_result"
    }
   ],
   "source": [
    "y_pred_test = cat_gender.predict(X_test)\n",
    "y_score_test = cat_gender.predict_proba(X_test)\n",
    "metrics_gender = metrics_gender[:9]\n",
    "\n",
    "metrics_gender = metrics_gender.append(\n",
    "    get_metrics_classification(y_test,\n",
    "                               y_pred_test,\n",
    "                               y_score_test,\n",
    "                               name='CatBoost_Optuna'))\n",
    "metrics_gender"
   ]
  },
  {
   "cell_type": "markdown",
   "metadata": {
    "id": "ka2GwX-MGyri"
   },
   "source": [
    "### Holdout"
   ]
  },
  {
   "cell_type": "code",
   "execution_count": null,
   "metadata": {
    "colab": {
     "base_uri": "https://localhost:8080/"
    },
    "executionInfo": {
     "elapsed": 4264966,
     "status": "ok",
     "timestamp": 1679825707068,
     "user": {
      "displayName": "Гоша Сидоркин",
      "userId": "09429149278087224251"
     },
     "user_tz": -240
    },
    "id": "LYt8m5K1HJ88",
    "outputId": "d35660fe-6889-4900-db9f-8104b963ea6b"
   },
   "outputs": [
    {
     "name": "stdout",
     "output_type": "stream",
     "text": [
      "id = 0 0.8459721593512438 \n",
      "\n",
      "id = 1 0.8434803193377314 \n",
      "\n",
      "id = 2 0.8461102629886144 \n",
      "\n",
      "id = 3 0.8453000268628335 \n",
      "\n",
      "id = 4 0.8455863628863115 \n",
      "\n",
      "0.8452898262853468\n"
     ]
    }
   ],
   "source": [
    "finish_test_preds = []\n",
    "finish_test_preds_proba = []\n",
    "\n",
    "cv = StratifiedKFold(n_splits=N_FOLDS, shuffle=True, random_state=RAND)\n",
    "cv_predicts_val = np.empty(N_FOLDS)\n",
    "\n",
    "for idx, (train_idx, test_idx) in enumerate(cv.split(X_train, y_train)):\n",
    "    X_train_, X_val_ = X_train.iloc[train_idx], X_train.iloc[test_idx]\n",
    "    y_train_, y_val_ = y_train.iloc[train_idx], y_train.iloc[test_idx]\n",
    "\n",
    "    model = CatBoostClassifier(cat_features=cat_features, **cat_gender_best)\n",
    "\n",
    "    model.fit(X_train_, y_train_, verbose=False)\n",
    "\n",
    "    # OOF\n",
    "    preds_val_proba = model.predict_proba(X_val_)[:, 1]\n",
    "    cv_predicts_val[idx] = m.roc_auc_score(y_val_, preds_val_proba)\n",
    "\n",
    "    # holdout\n",
    "    preds_test = model.predict(X_test)\n",
    "    preds_test_proba = model.predict_proba(X_test)\n",
    "\n",
    "    finish_test_preds.append(preds_test)\n",
    "    finish_test_preds_proba.append(preds_test_proba)\n",
    "\n",
    "    print(f\"id = {idx}\", cv_predicts_val[idx], '\\n')\n",
    "\n",
    "print(np.mean(cv_predicts_val))"
   ]
  },
  {
   "cell_type": "code",
   "execution_count": null,
   "metadata": {
    "id": "BiQUzwriKXj8"
   },
   "outputs": [],
   "source": [
    "# находим моду по классам\n",
    "test_pred = stats.mode(np.column_stack(finish_test_preds), axis=1)[0]\n",
    "# находим среднее по вероятностям\n",
    "test_pred_proba = np.mean(finish_test_preds_proba, axis=0)"
   ]
  },
  {
   "cell_type": "code",
   "execution_count": null,
   "metadata": {
    "colab": {
     "base_uri": "https://localhost:8080/"
    },
    "executionInfo": {
     "elapsed": 20,
     "status": "ok",
     "timestamp": 1679825711682,
     "user": {
      "displayName": "Гоша Сидоркин",
      "userId": "09429149278087224251"
     },
     "user_tz": -240
    },
    "id": "XYs4bwpDKXgy",
    "outputId": "dad8fa0e-a783-405c-dbf8-58b25941f9fa"
   },
   "outputs": [
    {
     "name": "stdout",
     "output_type": "stream",
     "text": [
      "ROC-AUC mean OOF: 0.845, std: 0.001\n",
      "ROC-AUC HOLDOUT: 0.851\n"
     ]
    }
   ],
   "source": [
    "print('ROC-AUC mean OOF: %.3f, std: %.3f' %\n",
    "      (np.mean(cv_predicts_val), np.std(cv_predicts_val)))\n",
    "print('ROC-AUC HOLDOUT: %.3f' % m.roc_auc_score(y_test, test_pred_proba[:, 1]))"
   ]
  },
  {
   "cell_type": "code",
   "execution_count": null,
   "metadata": {
    "colab": {
     "base_uri": "https://localhost:8080/",
     "height": 390
    },
    "executionInfo": {
     "elapsed": 12,
     "status": "ok",
     "timestamp": 1679825711683,
     "user": {
      "displayName": "Гоша Сидоркин",
      "userId": "09429149278087224251"
     },
     "user_tz": -240
    },
    "id": "o-2q7gOfKXd-",
    "outputId": "afb0633f-abc9-4c41-f2e6-06849d8c60ba"
   },
   "outputs": [
    {
     "data": {
      "text/html": [
       "\n",
       "  <div id=\"df-d9acc762-99f3-4b01-a276-8a19f5875e15\">\n",
       "    <div class=\"colab-df-container\">\n",
       "      <div>\n",
       "<style scoped>\n",
       "    .dataframe tbody tr th:only-of-type {\n",
       "        vertical-align: middle;\n",
       "    }\n",
       "\n",
       "    .dataframe tbody tr th {\n",
       "        vertical-align: top;\n",
       "    }\n",
       "\n",
       "    .dataframe thead th {\n",
       "        text-align: right;\n",
       "    }\n",
       "</style>\n",
       "<table border=\"1\" class=\"dataframe\">\n",
       "  <thead>\n",
       "    <tr style=\"text-align: right;\">\n",
       "      <th></th>\n",
       "      <th>model</th>\n",
       "      <th>Precision</th>\n",
       "      <th>Recall</th>\n",
       "      <th>f1</th>\n",
       "      <th>ROC_AUC</th>\n",
       "      <th>GINI</th>\n",
       "    </tr>\n",
       "  </thead>\n",
       "  <tbody>\n",
       "    <tr>\n",
       "      <th>0</th>\n",
       "      <td>LGBMBaseline</td>\n",
       "      <td>0.607814</td>\n",
       "      <td>0.564989</td>\n",
       "      <td>0.585620</td>\n",
       "      <td>0.628592</td>\n",
       "      <td>0.257185</td>\n",
       "    </tr>\n",
       "    <tr>\n",
       "      <th>1</th>\n",
       "      <td>CatBoostBaseline</td>\n",
       "      <td>0.611604</td>\n",
       "      <td>0.565913</td>\n",
       "      <td>0.587872</td>\n",
       "      <td>0.630034</td>\n",
       "      <td>0.260068</td>\n",
       "    </tr>\n",
       "    <tr>\n",
       "      <th>2</th>\n",
       "      <td>XGBoostBaseline</td>\n",
       "      <td>0.606800</td>\n",
       "      <td>0.555863</td>\n",
       "      <td>0.580216</td>\n",
       "      <td>0.623342</td>\n",
       "      <td>0.246683</td>\n",
       "    </tr>\n",
       "    <tr>\n",
       "      <th>3</th>\n",
       "      <td>RandomForestBaseline</td>\n",
       "      <td>0.584381</td>\n",
       "      <td>0.585569</td>\n",
       "      <td>0.584974</td>\n",
       "      <td>0.600485</td>\n",
       "      <td>0.200970</td>\n",
       "    </tr>\n",
       "    <tr>\n",
       "      <th>4</th>\n",
       "      <td>LGBMBaseline_embeddings</td>\n",
       "      <td>0.742578</td>\n",
       "      <td>0.720794</td>\n",
       "      <td>0.731523</td>\n",
       "      <td>0.812632</td>\n",
       "      <td>0.625265</td>\n",
       "    </tr>\n",
       "    <tr>\n",
       "      <th>5</th>\n",
       "      <td>CatBoostBaseline_embeddings</td>\n",
       "      <td>0.770574</td>\n",
       "      <td>0.748282</td>\n",
       "      <td>0.759264</td>\n",
       "      <td>0.843999</td>\n",
       "      <td>0.687998</td>\n",
       "    </tr>\n",
       "    <tr>\n",
       "      <th>6</th>\n",
       "      <td>XGBoostBaseline_embeddings</td>\n",
       "      <td>0.745593</td>\n",
       "      <td>0.728294</td>\n",
       "      <td>0.736842</td>\n",
       "      <td>0.820728</td>\n",
       "      <td>0.641457</td>\n",
       "    </tr>\n",
       "    <tr>\n",
       "      <th>0</th>\n",
       "      <td>LGBM_Optuna_1</td>\n",
       "      <td>0.773999</td>\n",
       "      <td>0.754267</td>\n",
       "      <td>0.764006</td>\n",
       "      <td>0.847433</td>\n",
       "      <td>0.694865</td>\n",
       "    </tr>\n",
       "    <tr>\n",
       "      <th>0</th>\n",
       "      <td>LGBM_Optuna_Holdout_1</td>\n",
       "      <td>0.776396</td>\n",
       "      <td>0.754193</td>\n",
       "      <td>0.765134</td>\n",
       "      <td>0.850502</td>\n",
       "      <td>0.701003</td>\n",
       "    </tr>\n",
       "    <tr>\n",
       "      <th>0</th>\n",
       "      <td>CatBoost_Optuna</td>\n",
       "      <td>0.772843</td>\n",
       "      <td>0.752826</td>\n",
       "      <td>0.762703</td>\n",
       "      <td>0.847530</td>\n",
       "      <td>0.695060</td>\n",
       "    </tr>\n",
       "    <tr>\n",
       "      <th>0</th>\n",
       "      <td>CatBoost_Optuna_Holdout</td>\n",
       "      <td>0.776662</td>\n",
       "      <td>0.754193</td>\n",
       "      <td>0.765263</td>\n",
       "      <td>0.850956</td>\n",
       "      <td>0.701911</td>\n",
       "    </tr>\n",
       "  </tbody>\n",
       "</table>\n",
       "</div>\n",
       "      <button class=\"colab-df-convert\" onclick=\"convertToInteractive('df-d9acc762-99f3-4b01-a276-8a19f5875e15')\"\n",
       "              title=\"Convert this dataframe to an interactive table.\"\n",
       "              style=\"display:none;\">\n",
       "        \n",
       "  <svg xmlns=\"http://www.w3.org/2000/svg\" height=\"24px\"viewBox=\"0 0 24 24\"\n",
       "       width=\"24px\">\n",
       "    <path d=\"M0 0h24v24H0V0z\" fill=\"none\"/>\n",
       "    <path d=\"M18.56 5.44l.94 2.06.94-2.06 2.06-.94-2.06-.94-.94-2.06-.94 2.06-2.06.94zm-11 1L8.5 8.5l.94-2.06 2.06-.94-2.06-.94L8.5 2.5l-.94 2.06-2.06.94zm10 10l.94 2.06.94-2.06 2.06-.94-2.06-.94-.94-2.06-.94 2.06-2.06.94z\"/><path d=\"M17.41 7.96l-1.37-1.37c-.4-.4-.92-.59-1.43-.59-.52 0-1.04.2-1.43.59L10.3 9.45l-7.72 7.72c-.78.78-.78 2.05 0 2.83L4 21.41c.39.39.9.59 1.41.59.51 0 1.02-.2 1.41-.59l7.78-7.78 2.81-2.81c.8-.78.8-2.07 0-2.86zM5.41 20L4 18.59l7.72-7.72 1.47 1.35L5.41 20z\"/>\n",
       "  </svg>\n",
       "      </button>\n",
       "      \n",
       "  <style>\n",
       "    .colab-df-container {\n",
       "      display:flex;\n",
       "      flex-wrap:wrap;\n",
       "      gap: 12px;\n",
       "    }\n",
       "\n",
       "    .colab-df-convert {\n",
       "      background-color: #E8F0FE;\n",
       "      border: none;\n",
       "      border-radius: 50%;\n",
       "      cursor: pointer;\n",
       "      display: none;\n",
       "      fill: #1967D2;\n",
       "      height: 32px;\n",
       "      padding: 0 0 0 0;\n",
       "      width: 32px;\n",
       "    }\n",
       "\n",
       "    .colab-df-convert:hover {\n",
       "      background-color: #E2EBFA;\n",
       "      box-shadow: 0px 1px 2px rgba(60, 64, 67, 0.3), 0px 1px 3px 1px rgba(60, 64, 67, 0.15);\n",
       "      fill: #174EA6;\n",
       "    }\n",
       "\n",
       "    [theme=dark] .colab-df-convert {\n",
       "      background-color: #3B4455;\n",
       "      fill: #D2E3FC;\n",
       "    }\n",
       "\n",
       "    [theme=dark] .colab-df-convert:hover {\n",
       "      background-color: #434B5C;\n",
       "      box-shadow: 0px 1px 3px 1px rgba(0, 0, 0, 0.15);\n",
       "      filter: drop-shadow(0px 1px 2px rgba(0, 0, 0, 0.3));\n",
       "      fill: #FFFFFF;\n",
       "    }\n",
       "  </style>\n",
       "\n",
       "      <script>\n",
       "        const buttonEl =\n",
       "          document.querySelector('#df-d9acc762-99f3-4b01-a276-8a19f5875e15 button.colab-df-convert');\n",
       "        buttonEl.style.display =\n",
       "          google.colab.kernel.accessAllowed ? 'block' : 'none';\n",
       "\n",
       "        async function convertToInteractive(key) {\n",
       "          const element = document.querySelector('#df-d9acc762-99f3-4b01-a276-8a19f5875e15');\n",
       "          const dataTable =\n",
       "            await google.colab.kernel.invokeFunction('convertToInteractive',\n",
       "                                                     [key], {});\n",
       "          if (!dataTable) return;\n",
       "\n",
       "          const docLinkHtml = 'Like what you see? Visit the ' +\n",
       "            '<a target=\"_blank\" href=https://colab.research.google.com/notebooks/data_table.ipynb>data table notebook</a>'\n",
       "            + ' to learn more about interactive tables.';\n",
       "          element.innerHTML = '';\n",
       "          dataTable['output_type'] = 'display_data';\n",
       "          await google.colab.output.renderOutput(dataTable, element);\n",
       "          const docLink = document.createElement('div');\n",
       "          docLink.innerHTML = docLinkHtml;\n",
       "          element.appendChild(docLink);\n",
       "        }\n",
       "      </script>\n",
       "    </div>\n",
       "  </div>\n",
       "  "
      ],
      "text/plain": [
       "                         model  Precision    Recall        f1   ROC_AUC  \\\n",
       "0                 LGBMBaseline   0.607814  0.564989  0.585620  0.628592   \n",
       "1             CatBoostBaseline   0.611604  0.565913  0.587872  0.630034   \n",
       "2              XGBoostBaseline   0.606800  0.555863  0.580216  0.623342   \n",
       "3         RandomForestBaseline   0.584381  0.585569  0.584974  0.600485   \n",
       "4      LGBMBaseline_embeddings   0.742578  0.720794  0.731523  0.812632   \n",
       "5  CatBoostBaseline_embeddings   0.770574  0.748282  0.759264  0.843999   \n",
       "6   XGBoostBaseline_embeddings   0.745593  0.728294  0.736842  0.820728   \n",
       "0                LGBM_Optuna_1   0.773999  0.754267  0.764006  0.847433   \n",
       "0        LGBM_Optuna_Holdout_1   0.776396  0.754193  0.765134  0.850502   \n",
       "0              CatBoost_Optuna   0.772843  0.752826  0.762703  0.847530   \n",
       "0      CatBoost_Optuna_Holdout   0.776662  0.754193  0.765263  0.850956   \n",
       "\n",
       "       GINI  \n",
       "0  0.257185  \n",
       "1  0.260068  \n",
       "2  0.246683  \n",
       "3  0.200970  \n",
       "4  0.625265  \n",
       "5  0.687998  \n",
       "6  0.641457  \n",
       "0  0.694865  \n",
       "0  0.701003  \n",
       "0  0.695060  \n",
       "0  0.701911  "
      ]
     },
     "execution_count": 55,
     "metadata": {},
     "output_type": "execute_result"
    }
   ],
   "source": [
    "metrics_gender = metrics_gender[:10]\n",
    "\n",
    "metrics_gender = metrics_gender.append(\n",
    "    get_metrics_classification(y_test,\n",
    "                               test_pred,\n",
    "                               test_pred_proba,\n",
    "                               name='CatBoost_Optuna_Holdout'))\n",
    "metrics_gender"
   ]
  },
  {
   "cell_type": "code",
   "execution_count": null,
   "metadata": {
    "id": "oeP7OaXNKSAy"
   },
   "outputs": [],
   "source": [
    "metrics_gender.to_csv('metrics/metrics_gender_tuned.csv', index=False)"
   ]
  },
  {
   "cell_type": "markdown",
   "metadata": {
    "id": "9EyfqMjJN66o"
   },
   "source": [
    "# Baseline age prediction"
   ]
  },
  {
   "cell_type": "code",
   "execution_count": null,
   "metadata": {
    "id": "AmMaax-0Oaha"
   },
   "outputs": [],
   "source": [
    "def age_bucket(x):\n",
    "    return bisect.bisect_left([18, 25, 35, 45, 55, 65], x)"
   ]
  },
  {
   "cell_type": "code",
   "execution_count": null,
   "metadata": {
    "colab": {
     "base_uri": "https://localhost:8080/",
     "height": 279
    },
    "executionInfo": {
     "elapsed": 3726,
     "status": "ok",
     "timestamp": 1679896962023,
     "user": {
      "displayName": "Гоша Сидоркин",
      "userId": "09429149278087224251"
     },
     "user_tz": -240
    },
    "id": "6khH6xszOiDU",
    "outputId": "1245a3da-5d15-4b46-b9d0-0d1310b83756"
   },
   "outputs": [
    {
     "data": {
      "image/png": "[encoded data removed]",
      "text/plain": [
       "<Figure size 432x288 with 1 Axes>"
      ]
     },
     "metadata": {},
     "output_type": "display_data"
    }
   ],
   "source": [
    "df_trn = targets.merge(df, how='inner', on=['user_id']) \\\n",
    "    .merge(url_emb, how='inner', on='user_id') \\\n",
    "    .merge(model_emb, how='inner', on=['user_id']) \\\n",
    "    .merge(reg_emb, how='inner', on=['user_id']) \\\n",
    "    .merge(city_emb, how='inner', on=['user_id'])\n",
    "\n",
    "df_trn = df_trn[df_trn['age'] != 'NA']\n",
    "df_trn = df_trn.dropna()\n",
    "df_trn['age'] = df_trn['age'].map(age_bucket)\n",
    "sns.histplot(df_trn['age'], bins=7)"
   ]
  },
  {
   "cell_type": "code",
   "execution_count": null,
   "metadata": {
    "id": "oEKiBbQaJBdc"
   },
   "outputs": [],
   "source": [
    "df_trn = df_trn.query('age > 0')"
   ]
  },
  {
   "cell_type": "code",
   "execution_count": null,
   "metadata": {
    "id": "8e98kO2GPmbm"
   },
   "outputs": [],
   "source": [
    "# разбивка данных на train и test\n",
    "X = df_trn.drop(['age', 'is_male', 'user_id'], axis=1)\n",
    "y = df_trn['age']\n",
    "\n",
    "X_train, X_test, y_train, y_test = train_test_split(X,\n",
    "                                                    y,\n",
    "                                                    test_size=0.2,\n",
    "                                                    shuffle=True,\n",
    "                                                    stratify=y,\n",
    "                                                    random_state=RAND)\n",
    "\n",
    "X_train_, X_val, y_train_, y_val = train_test_split(X_train,\n",
    "                                                    y_train,\n",
    "                                                    test_size=0.16,\n",
    "                                                    shuffle=True,\n",
    "                                                    stratify=y_train,\n",
    "                                                    random_state=RAND)\n",
    "\n",
    "n_classes = len(set(y))\n",
    "y_train_bin = label_binarize(y_train, classes=list(set(y)))\n",
    "y_test_bin = label_binarize(y_test, classes=list(set(y)))"
   ]
  },
  {
   "cell_type": "markdown",
   "metadata": {
    "id": "s5_LU2MTSAdf"
   },
   "source": [
    "## LGBM"
   ]
  },
  {
   "cell_type": "code",
   "execution_count": null,
   "metadata": {
    "id": "8BTAQ9OLOgVY"
   },
   "outputs": [],
   "source": [
    "def objective_lgbm(trial, X, y, N_FOLDS, random_state):\n",
    "\n",
    "    lgbm_params = {\n",
    "        \"n_estimators\":\n",
    "        trial.suggest_categorical(\"n_estimators\", [2500]),\n",
    "        # \"learning_rate\": trial.suggest_float(\"learning_rate\",\n",
    "        #                                      0.001,\n",
    "        #                                      0.3,\n",
    "        #                                      log=True),\n",
    "        \"learning_rate\":\n",
    "        trial.suggest_categorical(\"learning_rate\", [0.035275015373286644]),\n",
    "        # 'num_leaves': trial.suggest_categorical(\"num_leaves\", [900]),\n",
    "        # 'max_depth': trial.suggest_categorical(\"max_depth\", [7]),\n",
    "        # 'min_data_in_leaf': trial.suggest_categorical(\"min_data_in_leaf\", [1200]),\n",
    "        # 'lambda_l1': trial.suggest_categorical(\"lambda_l1\", [0]),\n",
    "        # 'lambda_l2': trial.suggest_categorical(\"lambda_l2\", [9]),\n",
    "        # 'min_split_gain': trial.suggest_categorical(\"min_split_gain\", [3]),\n",
    "        # 'bagging_fraction': trial.suggest_categorical(\"bagging_fraction\", [0.6909275901887844]),\n",
    "        # 'bagging_freq': trial.suggest_categorical(\"bagging_freq\", [1]),\n",
    "        # 'feature_fraction': trial.suggest_categorical(\"feature_fraction\", [0.34716278523119637]),\n",
    "        \"num_leaves\":\n",
    "        trial.suggest_int(\"num_leaves\", 20, 3000, step=20),\n",
    "        \"max_depth\":\n",
    "        trial.suggest_int(\"max_depth\", 3, 12),\n",
    "        \"min_child_samples\":\n",
    "        trial.suggest_int(\"min_child_samples\", 100, 50000, step=100),\n",
    "        \"reg_alpha\":\n",
    "        trial.suggest_int(\"reg_alpha\", 0, 100),\n",
    "        \"reg_lambda\":\n",
    "        trial.suggest_int(\"reg_lambda\", 0, 100),\n",
    "        \"min_split_gain\":\n",
    "        trial.suggest_int(\"min_split_gain\", 0, 20),\n",
    "        \"subsample\":\n",
    "        trial.suggest_float(\"subsample\", 0.2, 1.0),\n",
    "        \"subsample_freq\":\n",
    "        trial.suggest_categorical(\"subsample_freq\", [1]),\n",
    "        \"colsample_bytree\":\n",
    "        trial.suggest_float(\"colsample_bytree\", 0.2, 1.0),\n",
    "        \"num_classes\":\n",
    "        trial.suggest_categorical(\"num_classes\", [6]),\n",
    "        \"objective\":\n",
    "        trial.suggest_categorical(\"objective\", [\"multiclass\"]),\n",
    "        \"class_weight\":\n",
    "        trial.suggest_categorical(\"class_weight\", [\"balanced\"]),\n",
    "        \"random_state\":\n",
    "        trial.suggest_categorical(\"random_state\", [random_state])\n",
    "    }\n",
    "\n",
    "    cv = StratifiedKFold(n_splits=N_FOLDS,\n",
    "                         shuffle=True,\n",
    "                         random_state=random_state)\n",
    "\n",
    "    cv_predicts = np.empty(N_FOLDS)\n",
    "\n",
    "    for idx, (train_idx, test_idx) in enumerate(cv.split(X, y)):\n",
    "        X_train, X_test = X.iloc[train_idx], X.iloc[test_idx]\n",
    "        y_train, y_test = y.iloc[train_idx], y.iloc[test_idx]\n",
    "\n",
    "        pruning_callback = optuna.integration.LightGBMPruningCallback(\n",
    "            trial, \"auc_mu\")\n",
    "\n",
    "        model = LGBMClassifier(**lgbm_params)\n",
    "        model.fit(X_train,\n",
    "                  y_train,\n",
    "                  eval_set=[(X_test, y_test)],\n",
    "                  eval_metric=\"auc_mu\",\n",
    "                  early_stopping_rounds=100,\n",
    "                  callbacks=[pruning_callback],\n",
    "                  verbose=0)\n",
    "\n",
    "        preds_proba = model.predict_proba(X_test)\n",
    "        cv_predicts[idx] = m.roc_auc_score(y_test,\n",
    "                                           preds_proba,\n",
    "                                           multi_class='ovo')\n",
    "\n",
    "        return np.mean(cv_predicts)"
   ]
  },
  {
   "cell_type": "code",
   "execution_count": null,
   "metadata": {
    "colab": {
     "base_uri": "https://localhost:8080/",
     "height": 477,
     "referenced_widgets": [
      "e35e41ca0e074a43a721aab87d3ec405",
      "a0ffaedc428c4e91a0a9a24ef4ddeadb",
      "4f85a514337442e9b3690dec94b7f020",
      "70b38b66bd934c2b8df14edd957ee786",
      "ed3a6f1a24d049cdb3f2cada234b5006",
      "21951c6578a548ccaae2e7bf88ed78fc",
      "bf6b4055433d43318e4a6e2b6c7f154c",
      "b43d0475c8d24deaa1f87a97e34d722e",
      "53794050e475472594fdee3bc9981967",
      "77c224b9b3074b92a347936e23f7ddff",
      "8cdcb15c1c304502b1af970f858548b5"
     ]
    },
    "id": "UaOT7w8RuVjT",
    "outputId": "6d0c1217-539e-4594-e34c-d75b2afc97a8"
   },
   "outputs": [
    {
     "data": {
      "application/vnd.jupyter.widget-view+json": {
       "model_id": "e35e41ca0e074a43a721aab87d3ec405",
       "version_major": 2,
       "version_minor": 0
      },
      "text/plain": [
       "  0%|          | 0/10 [00:00<?, ?it/s]"
      ]
     },
     "metadata": {},
     "output_type": "display_data"
    },
    {
     "name": "stdout",
     "output_type": "stream",
     "text": [
      "[LightGBM] [Warning] lambda_l1 is set=73, reg_alpha=0.0 will be ignored. Current value: lambda_l1=73\n",
      "[LightGBM] [Warning] bagging_fraction is set=0.24644454301930213, subsample=1.0 will be ignored. Current value: bagging_fraction=0.24644454301930213\n",
      "[LightGBM] [Warning] feature_fraction is set=0.2520408823309632, colsample_bytree=1.0 will be ignored. Current value: feature_fraction=0.2520408823309632\n",
      "[LightGBM] [Warning] min_data_in_leaf is set=3800, min_child_samples=20 will be ignored. Current value: min_data_in_leaf=3800\n",
      "[LightGBM] [Warning] bagging_freq is set=1, subsample_freq=0 will be ignored. Current value: bagging_freq=1\n",
      "[LightGBM] [Warning] lambda_l2 is set=15, reg_lambda=0.0 will be ignored. Current value: lambda_l2=15\n",
      "[LightGBM] [Warning] lambda_l1 is set=28, reg_alpha=0.0 will be ignored. Current value: lambda_l1=28\n",
      "[LightGBM] [Warning] bagging_fraction is set=0.21281491315948664, subsample=1.0 will be ignored. Current value: bagging_fraction=0.21281491315948664\n",
      "[LightGBM] [Warning] feature_fraction is set=0.6332478338179263, colsample_bytree=1.0 will be ignored. Current value: feature_fraction=0.6332478338179263\n",
      "[LightGBM] [Warning] min_data_in_leaf is set=12300, min_child_samples=20 will be ignored. Current value: min_data_in_leaf=12300\n",
      "[LightGBM] [Warning] bagging_freq is set=1, subsample_freq=0 will be ignored. Current value: bagging_freq=1\n",
      "[LightGBM] [Warning] lambda_l2 is set=14, reg_lambda=0.0 will be ignored. Current value: lambda_l2=14\n",
      "[LightGBM] [Warning] lambda_l1 is set=12, reg_alpha=0.0 will be ignored. Current value: lambda_l1=12\n",
      "[LightGBM] [Warning] bagging_fraction is set=0.7024024371203095, subsample=1.0 will be ignored. Current value: bagging_fraction=0.7024024371203095\n",
      "[LightGBM] [Warning] feature_fraction is set=0.6333660574366712, colsample_bytree=1.0 will be ignored. Current value: feature_fraction=0.6333660574366712\n",
      "[LightGBM] [Warning] min_data_in_leaf is set=14500, min_child_samples=20 will be ignored. Current value: min_data_in_leaf=14500\n",
      "[LightGBM] [Warning] bagging_freq is set=1, subsample_freq=0 will be ignored. Current value: bagging_freq=1\n",
      "[LightGBM] [Warning] lambda_l2 is set=23, reg_lambda=0.0 will be ignored. Current value: lambda_l2=23\n",
      "[LightGBM] [Warning] lambda_l1 is set=88, reg_alpha=0.0 will be ignored. Current value: lambda_l1=88\n",
      "[LightGBM] [Warning] bagging_fraction is set=0.8533301722288655, subsample=1.0 will be ignored. Current value: bagging_fraction=0.8533301722288655\n",
      "[LightGBM] [Warning] feature_fraction is set=0.8072977207100622, colsample_bytree=1.0 will be ignored. Current value: feature_fraction=0.8072977207100622\n",
      "[LightGBM] [Warning] min_data_in_leaf is set=14100, min_child_samples=20 will be ignored. Current value: min_data_in_leaf=14100\n",
      "[LightGBM] [Warning] bagging_freq is set=1, subsample_freq=0 will be ignored. Current value: bagging_freq=1\n",
      "[LightGBM] [Warning] lambda_l2 is set=60, reg_lambda=0.0 will be ignored. Current value: lambda_l2=60\n"
     ]
    }
   ],
   "source": [
    "study_lgbm = optuna.create_study(direction='maximize', study_name='LGBM_01')\n",
    "\n",
    "\n",
    "def func(trial):\n",
    "    return objective_lgbm(trial,\n",
    "                          X_train,\n",
    "                          y_train,\n",
    "                          N_FOLDS=N_FOLDS,\n",
    "                          random_state=RAND)\n",
    "\n",
    "\n",
    "optuna.logging.set_verbosity(optuna.logging.WARNING)\n",
    "study_lgbm.optimize(func, n_trials=10, show_progress_bar=True)"
   ]
  },
  {
   "cell_type": "code",
   "execution_count": null,
   "metadata": {
    "colab": {
     "base_uri": "https://localhost:8080/"
    },
    "executionInfo": {
     "elapsed": 408,
     "status": "ok",
     "timestamp": 1679841015767,
     "user": {
      "displayName": "Гоша Сидоркин",
      "userId": "09429149278087224251"
     },
     "user_tz": -240
    },
    "id": "X7D0LksZTwfW",
    "outputId": "493cac6c-9247-412d-fd88-9080888bf0c2"
   },
   "outputs": [
    {
     "data": {
      "text/plain": [
       "{'n_estimators': 2500,\n",
       " 'learning_rate': 0.035275015373286644,\n",
       " 'num_leaves': 1280,\n",
       " 'max_depth': 3,\n",
       " 'min_data_in_leaf': 3200,\n",
       " 'lambda_l1': 11,\n",
       " 'lambda_l2': 77,\n",
       " 'min_split_gain': 15,\n",
       " 'bagging_fraction': 0.5293493678270612,\n",
       " 'bagging_freq': 1,\n",
       " 'feature_fraction': 0.4521381101269853,\n",
       " 'num_classes': 6,\n",
       " 'objective': 'multiclass',\n",
       " 'class_weight': 'balanced',\n",
       " 'random_state': 42}"
      ]
     },
     "execution_count": 73,
     "metadata": {},
     "output_type": "execute_result"
    }
   ],
   "source": [
    "study_lgbm.best_params"
   ]
  },
  {
   "cell_type": "code",
   "execution_count": null,
   "metadata": {
    "id": "ukmjLewnRZtV"
   },
   "outputs": [],
   "source": [
    "%%time\n",
    "lgbm_age = LGBMClassifier(**study_lgbm.best_params)\n",
    "eval_set = [(X_val, y_val)]\n",
    "\n",
    "lgbm_age.fit(X_train_,\n",
    "             y_train_,\n",
    "             eval_set=eval_set,\n",
    "             early_stopping_rounds=100,\n",
    "             verbose=False)"
   ]
  },
  {
   "cell_type": "code",
   "execution_count": null,
   "metadata": {
    "colab": {
     "base_uri": "https://localhost:8080/"
    },
    "executionInfo": {
     "elapsed": 75897,
     "status": "ok",
     "timestamp": 1679841102004,
     "user": {
      "displayName": "Гоша Сидоркин",
      "userId": "09429149278087224251"
     },
     "user_tz": -240
    },
    "id": "mHLblBKWRZwf",
    "outputId": "c823e353-bc4c-40d4-f6af-baba40dbc5aa"
   },
   "outputs": [
    {
     "name": "stdout",
     "output_type": "stream",
     "text": [
      "ROC-AUC train = 0.779\n",
      "ROC-AUC test = 0.755\n",
      "delta = 3.18%\n"
     ]
    }
   ],
   "source": [
    "check_overfitting_multiclass(lgbm_age, X_train, y_train_bin, X_test,\n",
    "                             y_test_bin)"
   ]
  },
  {
   "cell_type": "code",
   "execution_count": null,
   "metadata": {
    "colab": {
     "base_uri": "https://localhost:8080/"
    },
    "executionInfo": {
     "elapsed": 15432,
     "status": "ok",
     "timestamp": 1679841153690,
     "user": {
      "displayName": "Гоша Сидоркин",
      "userId": "09429149278087224251"
     },
     "user_tz": -240
    },
    "id": "4dOnqoBgRZ13",
    "outputId": "eeee5d1a-b286-474a-8890-07dd2522636b"
   },
   "outputs": [
    {
     "name": "stdout",
     "output_type": "stream",
     "text": [
      "              precision    recall  f1-score   support\n",
      "\n",
      "       18-25       0.36      0.70      0.47      6528\n",
      "       25-34       0.50      0.33      0.39     17454\n",
      "       35-44       0.44      0.24      0.31     15497\n",
      "       45-54       0.28      0.24      0.26      8489\n",
      "       55-65       0.22      0.36      0.27      4716\n",
      "         65+       0.08      0.45      0.14      1101\n",
      "\n",
      "    accuracy                           0.34     53785\n",
      "   macro avg       0.31      0.39      0.31     53785\n",
      "weighted avg       0.40      0.34      0.34     53785\n",
      "\n"
     ]
    }
   ],
   "source": [
    "print(\n",
    "    m.classification_report(\n",
    "        y_test,\n",
    "        lgbm_age.predict(X_test),\n",
    "        target_names=['18-25', '25-34', '35-44', '45-54', '55-65', '65+']))"
   ]
  },
  {
   "cell_type": "code",
   "execution_count": null,
   "metadata": {
    "colab": {
     "base_uri": "https://localhost:8080/",
     "height": 299
    },
    "executionInfo": {
     "elapsed": 26474,
     "status": "ok",
     "timestamp": 1679841208045,
     "user": {
      "displayName": "Гоша Сидоркин",
      "userId": "09429149278087224251"
     },
     "user_tz": -240
    },
    "id": "Qc8g6KVDRZx-",
    "outputId": "4d7d6a1e-f061-4c31-b6d3-ae40e808ecbb"
   },
   "outputs": [
    {
     "data": {
      "text/html": [
       "\n",
       "  <div id=\"df-aedbcd2c-f80c-4cf8-9c39-29d317790493\">\n",
       "    <div class=\"colab-df-container\">\n",
       "      <div>\n",
       "<style scoped>\n",
       "    .dataframe tbody tr th:only-of-type {\n",
       "        vertical-align: middle;\n",
       "    }\n",
       "\n",
       "    .dataframe tbody tr th {\n",
       "        vertical-align: top;\n",
       "    }\n",
       "\n",
       "    .dataframe thead th {\n",
       "        text-align: right;\n",
       "    }\n",
       "</style>\n",
       "<table border=\"1\" class=\"dataframe\">\n",
       "  <thead>\n",
       "    <tr style=\"text-align: right;\">\n",
       "      <th></th>\n",
       "      <th>model</th>\n",
       "      <th>ROC_AUC</th>\n",
       "      <th>Precision_micro</th>\n",
       "      <th>Precision_macro</th>\n",
       "      <th>Recall_micro</th>\n",
       "      <th>Recall_macro</th>\n",
       "      <th>F1_micro</th>\n",
       "      <th>F1_macro</th>\n",
       "      <th>Logloss</th>\n",
       "    </tr>\n",
       "  </thead>\n",
       "  <tbody>\n",
       "    <tr>\n",
       "      <th>0</th>\n",
       "      <td>LGBM_Baseline</td>\n",
       "      <td>0.665440</td>\n",
       "      <td>0.223941</td>\n",
       "      <td>0.206321</td>\n",
       "      <td>0.223941</td>\n",
       "      <td>0.257902</td>\n",
       "      <td>0.223941</td>\n",
       "      <td>0.186803</td>\n",
       "      <td>1.756957</td>\n",
       "    </tr>\n",
       "    <tr>\n",
       "      <th>1</th>\n",
       "      <td>CatBoost_Baseline</td>\n",
       "      <td>0.678626</td>\n",
       "      <td>0.363721</td>\n",
       "      <td>0.260785</td>\n",
       "      <td>0.363721</td>\n",
       "      <td>0.191032</td>\n",
       "      <td>0.363721</td>\n",
       "      <td>0.182633</td>\n",
       "      <td>1.483299</td>\n",
       "    </tr>\n",
       "    <tr>\n",
       "      <th>2</th>\n",
       "      <td>RandomForest_Baseline</td>\n",
       "      <td>0.630193</td>\n",
       "      <td>0.345829</td>\n",
       "      <td>0.219442</td>\n",
       "      <td>0.345829</td>\n",
       "      <td>0.180165</td>\n",
       "      <td>0.345829</td>\n",
       "      <td>0.170520</td>\n",
       "      <td>1.794659</td>\n",
       "    </tr>\n",
       "    <tr>\n",
       "      <th>3</th>\n",
       "      <td>LGBM_Baseline_embeddings</td>\n",
       "      <td>0.764762</td>\n",
       "      <td>0.344662</td>\n",
       "      <td>0.274598</td>\n",
       "      <td>0.344662</td>\n",
       "      <td>0.339979</td>\n",
       "      <td>0.344662</td>\n",
       "      <td>0.275853</td>\n",
       "      <td>1.508385</td>\n",
       "    </tr>\n",
       "    <tr>\n",
       "      <th>4</th>\n",
       "      <td>CatBoost_Baseline_embeddings</td>\n",
       "      <td>0.789473</td>\n",
       "      <td>0.444547</td>\n",
       "      <td>0.351707</td>\n",
       "      <td>0.444547</td>\n",
       "      <td>0.272629</td>\n",
       "      <td>0.444547</td>\n",
       "      <td>0.282677</td>\n",
       "      <td>1.300392</td>\n",
       "    </tr>\n",
       "    <tr>\n",
       "      <th>0</th>\n",
       "      <td>LGBM_Baseline_Optuna</td>\n",
       "      <td>0.755059</td>\n",
       "      <td>0.338291</td>\n",
       "      <td>0.311993</td>\n",
       "      <td>0.338291</td>\n",
       "      <td>0.386388</td>\n",
       "      <td>0.338291</td>\n",
       "      <td>0.307785</td>\n",
       "      <td>1.472128</td>\n",
       "    </tr>\n",
       "  </tbody>\n",
       "</table>\n",
       "</div>\n",
       "      <button class=\"colab-df-convert\" onclick=\"convertToInteractive('df-aedbcd2c-f80c-4cf8-9c39-29d317790493')\"\n",
       "              title=\"Convert this dataframe to an interactive table.\"\n",
       "              style=\"display:none;\">\n",
       "        \n",
       "  <svg xmlns=\"http://www.w3.org/2000/svg\" height=\"24px\"viewBox=\"0 0 24 24\"\n",
       "       width=\"24px\">\n",
       "    <path d=\"M0 0h24v24H0V0z\" fill=\"none\"/>\n",
       "    <path d=\"M18.56 5.44l.94 2.06.94-2.06 2.06-.94-2.06-.94-.94-2.06-.94 2.06-2.06.94zm-11 1L8.5 8.5l.94-2.06 2.06-.94-2.06-.94L8.5 2.5l-.94 2.06-2.06.94zm10 10l.94 2.06.94-2.06 2.06-.94-2.06-.94-.94-2.06-.94 2.06-2.06.94z\"/><path d=\"M17.41 7.96l-1.37-1.37c-.4-.4-.92-.59-1.43-.59-.52 0-1.04.2-1.43.59L10.3 9.45l-7.72 7.72c-.78.78-.78 2.05 0 2.83L4 21.41c.39.39.9.59 1.41.59.51 0 1.02-.2 1.41-.59l7.78-7.78 2.81-2.81c.8-.78.8-2.07 0-2.86zM5.41 20L4 18.59l7.72-7.72 1.47 1.35L5.41 20z\"/>\n",
       "  </svg>\n",
       "      </button>\n",
       "      \n",
       "  <style>\n",
       "    .colab-df-container {\n",
       "      display:flex;\n",
       "      flex-wrap:wrap;\n",
       "      gap: 12px;\n",
       "    }\n",
       "\n",
       "    .colab-df-convert {\n",
       "      background-color: #E8F0FE;\n",
       "      border: none;\n",
       "      border-radius: 50%;\n",
       "      cursor: pointer;\n",
       "      display: none;\n",
       "      fill: #1967D2;\n",
       "      height: 32px;\n",
       "      padding: 0 0 0 0;\n",
       "      width: 32px;\n",
       "    }\n",
       "\n",
       "    .colab-df-convert:hover {\n",
       "      background-color: #E2EBFA;\n",
       "      box-shadow: 0px 1px 2px rgba(60, 64, 67, 0.3), 0px 1px 3px 1px rgba(60, 64, 67, 0.15);\n",
       "      fill: #174EA6;\n",
       "    }\n",
       "\n",
       "    [theme=dark] .colab-df-convert {\n",
       "      background-color: #3B4455;\n",
       "      fill: #D2E3FC;\n",
       "    }\n",
       "\n",
       "    [theme=dark] .colab-df-convert:hover {\n",
       "      background-color: #434B5C;\n",
       "      box-shadow: 0px 1px 3px 1px rgba(0, 0, 0, 0.15);\n",
       "      filter: drop-shadow(0px 1px 2px rgba(0, 0, 0, 0.3));\n",
       "      fill: #FFFFFF;\n",
       "    }\n",
       "  </style>\n",
       "\n",
       "      <script>\n",
       "        const buttonEl =\n",
       "          document.querySelector('#df-aedbcd2c-f80c-4cf8-9c39-29d317790493 button.colab-df-convert');\n",
       "        buttonEl.style.display =\n",
       "          google.colab.kernel.accessAllowed ? 'block' : 'none';\n",
       "\n",
       "        async function convertToInteractive(key) {\n",
       "          const element = document.querySelector('#df-aedbcd2c-f80c-4cf8-9c39-29d317790493');\n",
       "          const dataTable =\n",
       "            await google.colab.kernel.invokeFunction('convertToInteractive',\n",
       "                                                     [key], {});\n",
       "          if (!dataTable) return;\n",
       "\n",
       "          const docLinkHtml = 'Like what you see? Visit the ' +\n",
       "            '<a target=\"_blank\" href=https://colab.research.google.com/notebooks/data_table.ipynb>data table notebook</a>'\n",
       "            + ' to learn more about interactive tables.';\n",
       "          element.innerHTML = '';\n",
       "          dataTable['output_type'] = 'display_data';\n",
       "          await google.colab.output.renderOutput(dataTable, element);\n",
       "          const docLink = document.createElement('div');\n",
       "          docLink.innerHTML = docLinkHtml;\n",
       "          element.appendChild(docLink);\n",
       "        }\n",
       "      </script>\n",
       "    </div>\n",
       "  </div>\n",
       "  "
      ],
      "text/plain": [
       "                          model   ROC_AUC  Precision_micro  Precision_macro  \\\n",
       "0                 LGBM_Baseline  0.665440         0.223941         0.206321   \n",
       "1             CatBoost_Baseline  0.678626         0.363721         0.260785   \n",
       "2         RandomForest_Baseline  0.630193         0.345829         0.219442   \n",
       "3      LGBM_Baseline_embeddings  0.764762         0.344662         0.274598   \n",
       "4  CatBoost_Baseline_embeddings  0.789473         0.444547         0.351707   \n",
       "0          LGBM_Baseline_Optuna  0.755059         0.338291         0.311993   \n",
       "\n",
       "   Recall_micro  Recall_macro  F1_micro  F1_macro   Logloss  \n",
       "0      0.223941      0.257902  0.223941  0.186803  1.756957  \n",
       "1      0.363721      0.191032  0.363721  0.182633  1.483299  \n",
       "2      0.345829      0.180165  0.345829  0.170520  1.794659  \n",
       "3      0.344662      0.339979  0.344662  0.275853  1.508385  \n",
       "4      0.444547      0.272629  0.444547  0.282677  1.300392  \n",
       "0      0.338291      0.386388  0.338291  0.307785  1.472128  "
      ]
     },
     "execution_count": 76,
     "metadata": {},
     "output_type": "execute_result"
    }
   ],
   "source": [
    "y_pred = lgbm_age.predict(X_test)\n",
    "y_score = lgbm_age.predict_proba(X_test)\n",
    "metrics_age = metrics_age[:5]\n",
    "\n",
    "metrics_age = metrics_age.append(\n",
    "    get_metrics_multiclass(y_test_bin=y_test_bin,\n",
    "                           y_test=y_test,\n",
    "                           y_pred=y_pred,\n",
    "                           y_prob=y_score,\n",
    "                           name='LGBM_Baseline_Optuna',\n",
    "                           type_multi='ovo'))\n",
    "metrics_age"
   ]
  },
  {
   "cell_type": "markdown",
   "metadata": {
    "id": "JJuJt6IUVQYM"
   },
   "source": [
    "## Catboost"
   ]
  },
  {
   "cell_type": "code",
   "execution_count": null,
   "metadata": {
    "colab": {
     "base_uri": "https://localhost:8080/",
     "height": 279
    },
    "executionInfo": {
     "elapsed": 4851,
     "status": "ok",
     "timestamp": 1679896968930,
     "user": {
      "displayName": "Гоша Сидоркин",
      "userId": "09429149278087224251"
     },
     "user_tz": -240
    },
    "id": "MU__nRDQV4Jz",
    "outputId": "e51dc929-ce96-4601-e170-5cbb20b90ed0"
   },
   "outputs": [
    {
     "data": {
      "image/png": "[encoded data removed]",
      "text/plain": [
       "<Figure size 432x288 with 1 Axes>"
      ]
     },
     "metadata": {},
     "output_type": "display_data"
    }
   ],
   "source": [
    "df_trn = targets.merge(df, how='inner', on=['user_id']) \\\n",
    "    .merge(url_emb, how='inner', on='user_id') \\\n",
    "    .merge(model_emb, how='inner', on=['user_id']) \\\n",
    "    .merge(reg_emb, how='inner', on=['user_id']) \\\n",
    "    .merge(city_emb, how='inner', on=['user_id'])\n",
    "\n",
    "df_trn = df_trn[df_trn['age'] != 'NA']\n",
    "df_trn = df_trn.dropna()\n",
    "df_trn['age'] = df_trn['age'].map(age_bucket)\n",
    "sns.histplot(df_trn['age'], bins=7)"
   ]
  },
  {
   "cell_type": "code",
   "execution_count": null,
   "metadata": {
    "id": "e0mNbOsIV-z1"
   },
   "outputs": [],
   "source": [
    "df_trn = df_trn.query('age > 0')"
   ]
  },
  {
   "cell_type": "code",
   "execution_count": null,
   "metadata": {
    "id": "yg3LNGjUWCu5"
   },
   "outputs": [],
   "source": [
    "# разбивка данных на train и test\n",
    "X = df_trn.drop(['age', 'is_male', 'user_id'], axis=1)\n",
    "y = df_trn['age']\n",
    "\n",
    "X_train, X_test, y_train, y_test = train_test_split(X,\n",
    "                                                    y,\n",
    "                                                    test_size=0.2,\n",
    "                                                    shuffle=True,\n",
    "                                                    stratify=y,\n",
    "                                                    random_state=RAND)\n",
    "\n",
    "X_train_, X_val, y_train_, y_val = train_test_split(X_train,\n",
    "                                                    y_train,\n",
    "                                                    test_size=0.16,\n",
    "                                                    shuffle=True,\n",
    "                                                    stratify=y_train,\n",
    "                                                    random_state=RAND)\n",
    "\n",
    "n_classes = len(set(y))\n",
    "y_train_bin = label_binarize(y_train, classes=list(set(y)))\n",
    "y_test_bin = label_binarize(y_test, classes=list(set(y)))"
   ]
  },
  {
   "cell_type": "code",
   "execution_count": null,
   "metadata": {
    "id": "rt-nWthPWFVe"
   },
   "outputs": [],
   "source": [
    "from catboost import Pool\n",
    "\n",
    "\n",
    "def objective_cat(trial, X, y, N_FOLDS, random_state):\n",
    "\n",
    "    cat_params = {\n",
    "        # \"iterations\": trial.suggest_categorical(\"iterations\", [i for i in range(500, 3101, 100)]),\n",
    "        # \"learning_rate\": trial.suggest_float(\"learning_rate\",\n",
    "        #                                      0.001,\n",
    "        #                                      0.3,\n",
    "        #                                      log=True),\n",
    "        \"iterations\":\n",
    "        trial.suggest_categorical(\"iterations\", [2600]),\n",
    "        \"learning_rate\":\n",
    "        trial.suggest_categorical(\"learning_rate\", [0.04580986967296549]),\n",
    "        \"max_depth\":\n",
    "        trial.suggest_int(\"max_depth\", 4, 10),\n",
    "        \"colsample_bylevel\":\n",
    "        trial.suggest_float(\"colsample_bylevel\", 0.5, 1.0),\n",
    "        \"l2_leaf_reg\":\n",
    "        trial.suggest_uniform(\"l2_leaf_reg\", 1e-5, 1e2),\n",
    "        \"random_strength\":\n",
    "        trial.suggest_uniform('random_strength', 10, 50),\n",
    "        \"bootstrap_type\":\n",
    "        trial.suggest_categorical(\"bootstrap_type\",\n",
    "                                  [\"Bayesian\", \"Bernoulli\", \"MVS\", \"No\"]),\n",
    "        \"border_count\":\n",
    "        trial.suggest_categorical('border_count', [128, 254]),\n",
    "        \"grow_policy\":\n",
    "        trial.suggest_categorical('grow_policy',\n",
    "                                  [\"SymmetricTree\", \"Depthwise\", \"Lossguide\"]),\n",
    "        \"od_wait\":\n",
    "        trial.suggest_int('od_wait', 500, 2000),\n",
    "        \"leaf_estimation_iterations\":\n",
    "        trial.suggest_int('leaf_estimation_iterations', 1, 15),\n",
    "        \"random_state\":\n",
    "        trial.suggest_categorical(\"random_state\", [random_state])\n",
    "    }\n",
    "\n",
    "    if cat_params[\"bootstrap_type\"] == \"Bayesian\":\n",
    "        cat_params[\"bagging_temperature\"] = trial.suggest_float(\n",
    "            \"bagging_temperature\", 0, 100)\n",
    "    elif cat_params[\"bootstrap_type\"] == \"Bernoulli\":\n",
    "        cat_params[\"subsample\"] = trial.suggest_float(\"subsample\",\n",
    "                                                      0.1,\n",
    "                                                      1,\n",
    "                                                      log=True)\n",
    "\n",
    "    cv = StratifiedKFold(n_splits=N_FOLDS,\n",
    "                         shuffle=True,\n",
    "                         random_state=random_state)\n",
    "\n",
    "    cv_predicts = np.empty(N_FOLDS)\n",
    "\n",
    "    for idx, (train_idx, test_idx) in enumerate(cv.split(X, y)):\n",
    "        X_train, X_test = X.iloc[train_idx], X.iloc[test_idx]\n",
    "        y_train, y_test = y.iloc[train_idx], y.iloc[test_idx]\n",
    "\n",
    "        train_data = Pool(data=X_train, label=y_train)\n",
    "        eval_data = Pool(data=X_test, label=y_test)\n",
    "\n",
    "        model = CatBoostClassifier(**cat_params)\n",
    "        model.fit(train_data,\n",
    "                  eval_set=eval_data,\n",
    "                  early_stopping_rounds=100,\n",
    "                  verbose=0)\n",
    "\n",
    "        preds_proba = model.predict_proba(X_test)\n",
    "        cv_predicts[idx] = m.roc_auc_score(y_test,\n",
    "                                           preds_proba,\n",
    "                                           multi_class='ovo')\n",
    "\n",
    "        return np.mean(cv_predicts)"
   ]
  },
  {
   "cell_type": "code",
   "execution_count": null,
   "metadata": {
    "colab": {
     "base_uri": "https://localhost:8080/",
     "height": 290,
     "referenced_widgets": [
      "776c1a27d24a4130ad4a09bdca474552",
      "212fc570cc55460e92a0a8d2de764796",
      "9356fe47ba2c433fa69ab2bdcf9d916e",
      "175cb0f7b6cd4e92806273888fc60dbb",
      "b7a6c995b6644083b4851ca8a439e9f7",
      "998bc029972a4ba4b496c0754c455b26",
      "518676df6429460ba95a5d1cfb489bea",
      "11df036df43e49fa87426a3224c490b4",
      "0f0d33ab0fd548e180418288a1bdb5c4",
      "8e644f5707e74ec6a42c4d1fcdd6e012",
      "76cbac05b3a1404ea83fb041bb764f77"
     ]
    },
    "executionInfo": {
     "elapsed": 20307161,
     "status": "ok",
     "timestamp": 1679920370156,
     "user": {
      "displayName": "Гоша Сидоркин",
      "userId": "09429149278087224251"
     },
     "user_tz": -240
    },
    "id": "B12fhDU0WSBA",
    "outputId": "cbe1dd9a-9c78-4abe-9836-46ff64c1f7fe"
   },
   "outputs": [
    {
     "metadata": {
      "tags": null
     },
     "name": "stderr",
     "output_type": "stream",
     "text": [
      "\u001B[32m[I 2023-03-27 06:52:45,011]\u001B[0m A new study created in memory with name: Cat_01\u001B[0m\n"
     ]
    },
    {
     "data": {
      "application/vnd.jupyter.widget-view+json": {
       "model_id": "776c1a27d24a4130ad4a09bdca474552",
       "version_major": 2,
       "version_minor": 0
      },
      "text/plain": [
       "  0%|          | 0/10 [00:00<?, ?it/s]"
      ]
     },
     "metadata": {},
     "output_type": "display_data"
    },
    {
     "name": "stdout",
     "output_type": "stream",
     "text": [
      "\u001B[32m[I 2023-03-27 07:45:01,762]\u001B[0m Trial 0 finished with value: 0.15248433893291924 and parameters: {'iterations': 2600, 'learning_rate': 0.04580986967296549, 'max_depth': 8, 'colsample_bylevel': 0.9203709920711644, 'l2_leaf_reg': 55.01141456996415, 'random_strength': 30.219239919339135, 'bootstrap_type': 'No', 'border_count': 128, 'grow_policy': 'Depthwise', 'od_wait': 741, 'leaf_estimation_iterations': 11, 'random_state': 42}. Best is trial 0 with value: 0.15248433893291924.\u001B[0m\n",
      "\u001B[32m[I 2023-03-27 07:46:52,364]\u001B[0m Trial 1 finished with value: 0.1 and parameters: {'iterations': 2600, 'learning_rate': 0.04580986967296549, 'max_depth': 6, 'colsample_bylevel': 0.6925156750752623, 'l2_leaf_reg': 83.95289455446628, 'random_strength': 20.004398809770827, 'bootstrap_type': 'Bayesian', 'border_count': 254, 'grow_policy': 'Lossguide', 'od_wait': 551, 'leaf_estimation_iterations': 10, 'random_state': 42, 'bagging_temperature': 96.8113103460146}. Best is trial 0 with value: 0.15248433893291924.\u001B[0m\n",
      "\u001B[32m[I 2023-03-27 09:24:19,065]\u001B[0m Trial 2 finished with value: 4.051943072665513 and parameters: {'iterations': 2600, 'learning_rate': 0.04580986967296549, 'max_depth': 8, 'colsample_bylevel': 0.7750413638015461, 'l2_leaf_reg': 81.92321277996199, 'random_strength': 43.59437915177847, 'bootstrap_type': 'Bayesian', 'border_count': 254, 'grow_policy': 'Depthwise', 'od_wait': 1267, 'leaf_estimation_iterations': 5, 'random_state': 42, 'bagging_temperature': 13.023080087230444}. Best is trial 2 with value: 4.051943072665513.\u001B[0m\n",
      "\u001B[32m[I 2023-03-27 10:04:14,143]\u001B[0m Trial 3 finished with value: 4.053327441431945 and parameters: {'iterations': 2600, 'learning_rate': 0.04580986967296549, 'max_depth': 4, 'colsample_bylevel': 0.7311138162952089, 'l2_leaf_reg': 77.48428326875229, 'random_strength': 15.01031680041331, 'bootstrap_type': 'No', 'border_count': 128, 'grow_policy': 'Lossguide', 'od_wait': 1321, 'leaf_estimation_iterations': 12, 'random_state': 42}. Best is trial 3 with value: 4.053327441431945.\u001B[0m\n",
      "\u001B[32m[I 2023-03-27 10:42:51,773]\u001B[0m Trial 4 finished with value: 4.053177775421734 and parameters: {'iterations': 2600, 'learning_rate': 0.04580986967296549, 'max_depth': 4, 'colsample_bylevel': 0.8725707675575127, 'l2_leaf_reg': 29.387136600960773, 'random_strength': 25.552655481320024, 'bootstrap_type': 'MVS', 'border_count': 128, 'grow_policy': 'Lossguide', 'od_wait': 1839, 'leaf_estimation_iterations': 11, 'random_state': 42}. Best is trial 3 with value: 4.053327441431945.\u001B[0m\n",
      "\u001B[32m[I 2023-03-27 11:09:31,119]\u001B[0m Trial 5 finished with value: 4.053471864763472 and parameters: {'iterations': 2600, 'learning_rate': 0.04580986967296549, 'max_depth': 5, 'colsample_bylevel': 0.6024387630892876, 'l2_leaf_reg': 29.231571953428205, 'random_strength': 39.27590572124013, 'bootstrap_type': 'MVS', 'border_count': 128, 'grow_policy': 'SymmetricTree', 'od_wait': 1092, 'leaf_estimation_iterations': 15, 'random_state': 42}. Best is trial 5 with value: 4.053471864763472.\u001B[0m\n",
      "\u001B[32m[I 2023-03-27 11:11:21,512]\u001B[0m Trial 6 finished with value: 4.0 and parameters: {'iterations': 2600, 'learning_rate': 0.04580986967296549, 'max_depth': 6, 'colsample_bylevel': 0.5912782080398301, 'l2_leaf_reg': 52.92815882907898, 'random_strength': 46.03817222408668, 'bootstrap_type': 'Bayesian', 'border_count': 254, 'grow_policy': 'Lossguide', 'od_wait': 1101, 'leaf_estimation_iterations': 11, 'random_state': 42, 'bagging_temperature': 86.94764855584265}. Best is trial 5 with value: 4.053471864763472.\u001B[0m\n",
      "\u001B[32m[I 2023-03-27 11:31:06,769]\u001B[0m Trial 7 finished with value: 4.053388258573428 and parameters: {'iterations': 2600, 'learning_rate': 0.04580986967296549, 'max_depth': 5, 'colsample_bylevel': 0.5120278248468104, 'l2_leaf_reg': 79.74262019144983, 'random_strength': 22.77837492830036, 'bootstrap_type': 'MVS', 'border_count': 254, 'grow_policy': 'SymmetricTree', 'od_wait': 1544, 'leaf_estimation_iterations': 3, 'random_state': 42}. Best is trial 5 with value: 4.053471864763472.\u001B[0m\n",
      "\u001B[32m[I 2023-03-27 11:51:36,958]\u001B[0m Trial 8 finished with value: 4.05329943878657 and parameters: {'iterations': 2600, 'learning_rate': 0.04580986967296549, 'max_depth': 4, 'colsample_bylevel': 0.5473792196659132, 'l2_leaf_reg': 51.12453708510782, 'random_strength': 10.392118287183427, 'bootstrap_type': 'No', 'border_count': 128, 'grow_policy': 'SymmetricTree', 'od_wait': 1607, 'leaf_estimation_iterations': 10, 'random_state': 42}. Best is trial 5 with value: 4.053471864763472.\u001B[0m\n",
      "\u001B[32m[I 2023-03-27 12:32:49,375]\u001B[0m Trial 9 finished with value: 4.053527910723579 and parameters: {'iterations': 2600, 'learning_rate': 0.04580986967296549, 'max_depth': 7, 'colsample_bylevel': 0.6502841606511838, 'l2_leaf_reg': 93.87518619376878, 'random_strength': 38.67772771530471, 'bootstrap_type': 'Bernoulli', 'border_count': 128, 'grow_policy': 'SymmetricTree', 'od_wait': 846, 'leaf_estimation_iterations': 4, 'random_state': 42, 'subsample': 0.7265555309408829}. Best is trial 9 with value: 4.053527910723579.\u001B[0m\n",
      "CPU times: user 20h 14min 21s, sys: 14min 42s, total: 20h 29min 3s\n",
      "Wall time: 5h 40min 4s\n"
     ]
    }
   ],
   "source": [
    "%%time\n",
    "study_cat = optuna.create_study(\n",
    "    direction=\"maximize\",\n",
    "    pruner=optuna.pruners.SuccessiveHalvingPruner(),\n",
    "    study_name=\"Cat_01\")\n",
    "\n",
    "\n",
    "def func(trial):\n",
    "    return objective_cat(trial,\n",
    "                         X_train,\n",
    "                         y_train,\n",
    "                         N_FOLDS=N_FOLDS,\n",
    "                         random_state=RAND)\n",
    "\n",
    "\n",
    "study_cat.optimize(func, n_trials=10, show_progress_bar=True)"
   ]
  },
  {
   "cell_type": "code",
   "execution_count": null,
   "metadata": {
    "colab": {
     "base_uri": "https://localhost:8080/"
    },
    "executionInfo": {
     "elapsed": 79,
     "status": "ok",
     "timestamp": 1679920370167,
     "user": {
      "displayName": "Гоша Сидоркин",
      "userId": "09429149278087224251"
     },
     "user_tz": -240
    },
    "id": "LA1jaVx0pvDJ",
    "outputId": "61c3eab1-0f18-465a-daf6-eaf7511a31f8"
   },
   "outputs": [
    {
     "data": {
      "text/plain": [
       "{'iterations': 2600,\n",
       " 'learning_rate': 0.04580986967296549,\n",
       " 'max_depth': 7,\n",
       " 'colsample_bylevel': 0.6502841606511838,\n",
       " 'l2_leaf_reg': 93.87518619376878,\n",
       " 'random_strength': 38.67772771530471,\n",
       " 'bootstrap_type': 'Bernoulli',\n",
       " 'border_count': 128,\n",
       " 'grow_policy': 'SymmetricTree',\n",
       " 'od_wait': 846,\n",
       " 'leaf_estimation_iterations': 4,\n",
       " 'random_state': 42,\n",
       " 'subsample': 0.7265555309408829}"
      ]
     },
     "execution_count": 41,
     "metadata": {},
     "output_type": "execute_result"
    }
   ],
   "source": [
    "study_cat.best_params"
   ]
  },
  {
   "cell_type": "code",
   "execution_count": null,
   "metadata": {
    "id": "tB_1-KiMqZN3"
   },
   "outputs": [],
   "source": [
    "cat_params_best = {\n",
    "    'iterations': 2600,\n",
    "    'learning_rate': 0.04580986967296549,\n",
    "    'random_state': 42\n",
    "}"
   ]
  },
  {
   "cell_type": "code",
   "execution_count": null,
   "metadata": {
    "colab": {
     "base_uri": "https://localhost:8080/"
    },
    "executionInfo": {
     "elapsed": 3086848,
     "status": "ok",
     "timestamp": 1679923461811,
     "user": {
      "displayName": "Гоша Сидоркин",
      "userId": "09429149278087224251"
     },
     "user_tz": -240
    },
    "id": "cUvKrAGIVSCg",
    "outputId": "6e4a856a-f503-4dc6-cc9c-9890233a42c9"
   },
   "outputs": [
    {
     "name": "stdout",
     "output_type": "stream",
     "text": [
      "CPU times: user 3h 4min 13s, sys: 35.6 s, total: 3h 4min 49s\n",
      "Wall time: 51min 26s\n"
     ]
    },
    {
     "data": {
      "text/plain": [
       "<catboost.core.CatBoostClassifier at 0x7f04747809d0>"
      ]
     },
     "execution_count": 42,
     "metadata": {},
     "output_type": "execute_result"
    }
   ],
   "source": [
    "%%time\n",
    "cat_age = CatBoostClassifier(**study_cat.best_params)\n",
    "eval_set = [(X_val, y_val)]\n",
    "\n",
    "cat_age.fit(X_train,\n",
    "            y_train,\n",
    "            eval_set=eval_set,\n",
    "            early_stopping_rounds=100,\n",
    "            verbose=False)"
   ]
  },
  {
   "cell_type": "code",
   "execution_count": null,
   "metadata": {
    "colab": {
     "base_uri": "https://localhost:8080/"
    },
    "executionInfo": {
     "elapsed": 4044,
     "status": "ok",
     "timestamp": 1679923465838,
     "user": {
      "displayName": "Гоша Сидоркин",
      "userId": "09429149278087224251"
     },
     "user_tz": -240
    },
    "id": "1RHlwGu5VSnK",
    "outputId": "bc4c33e9-210a-4aa3-ffaa-9f8c5a3bdc43"
   },
   "outputs": [
    {
     "name": "stdout",
     "output_type": "stream",
     "text": [
      "ROC-AUC train = 0.875\n",
      "ROC-AUC test = 0.783\n",
      "delta = 11.66%\n"
     ]
    }
   ],
   "source": [
    "check_overfitting_multiclass(cat_age, X_train, y_train_bin, X_test, y_test_bin)"
   ]
  },
  {
   "cell_type": "code",
   "execution_count": null,
   "metadata": {
    "colab": {
     "base_uri": "https://localhost:8080/"
    },
    "executionInfo": {
     "elapsed": 18,
     "status": "ok",
     "timestamp": 1679923465839,
     "user": {
      "displayName": "Гоша Сидоркин",
      "userId": "09429149278087224251"
     },
     "user_tz": -240
    },
    "id": "04ViWeWxVSpd",
    "outputId": "27b67aaa-8257-4fec-a258-a997849bedc1"
   },
   "outputs": [
    {
     "name": "stdout",
     "output_type": "stream",
     "text": [
      "              precision    recall  f1-score   support\n",
      "\n",
      "       18-25       0.55      0.32      0.41      6528\n",
      "       25-34       0.49      0.63      0.55     17454\n",
      "       35-44       0.41      0.53      0.46     15497\n",
      "       45-54       0.39      0.23      0.29      8489\n",
      "       55-65       0.41      0.20      0.27      4716\n",
      "         65+       0.43      0.02      0.03      1101\n",
      "\n",
      "    accuracy                           0.45     53785\n",
      "   macro avg       0.45      0.32      0.34     53785\n",
      "weighted avg       0.45      0.45      0.43     53785\n",
      "\n"
     ]
    }
   ],
   "source": [
    "print(\n",
    "    m.classification_report(\n",
    "        y_test,\n",
    "        cat_age.predict(X_test),\n",
    "        target_names=['18-25', '25-34', '35-44', '45-54', '55-65', '65+']))"
   ]
  },
  {
   "cell_type": "code",
   "execution_count": null,
   "metadata": {
    "colab": {
     "base_uri": "https://localhost:8080/",
     "height": 299
    },
    "executionInfo": {
     "elapsed": 2036,
     "status": "ok",
     "timestamp": 1679899851590,
     "user": {
      "displayName": "Гоша Сидоркин",
      "userId": "09429149278087224251"
     },
     "user_tz": -240
    },
    "id": "Vz49ssYzVSrj",
    "outputId": "86c2525a-12d5-46ff-ff35-0129839485f3"
   },
   "outputs": [
    {
     "data": {
      "text/html": [
       "\n",
       "  <div id=\"df-faa77b4d-4348-4422-b959-608cd93f481b\">\n",
       "    <div class=\"colab-df-container\">\n",
       "      <div>\n",
       "<style scoped>\n",
       "    .dataframe tbody tr th:only-of-type {\n",
       "        vertical-align: middle;\n",
       "    }\n",
       "\n",
       "    .dataframe tbody tr th {\n",
       "        vertical-align: top;\n",
       "    }\n",
       "\n",
       "    .dataframe thead th {\n",
       "        text-align: right;\n",
       "    }\n",
       "</style>\n",
       "<table border=\"1\" class=\"dataframe\">\n",
       "  <thead>\n",
       "    <tr style=\"text-align: right;\">\n",
       "      <th></th>\n",
       "      <th>model</th>\n",
       "      <th>ROC_AUC</th>\n",
       "      <th>Precision_micro</th>\n",
       "      <th>Precision_macro</th>\n",
       "      <th>Recall_micro</th>\n",
       "      <th>Recall_macro</th>\n",
       "      <th>F1_micro</th>\n",
       "      <th>F1_macro</th>\n",
       "      <th>Logloss</th>\n",
       "    </tr>\n",
       "  </thead>\n",
       "  <tbody>\n",
       "    <tr>\n",
       "      <th>0</th>\n",
       "      <td>LGBM_Baseline</td>\n",
       "      <td>0.665440</td>\n",
       "      <td>0.223941</td>\n",
       "      <td>0.206321</td>\n",
       "      <td>0.223941</td>\n",
       "      <td>0.257902</td>\n",
       "      <td>0.223941</td>\n",
       "      <td>0.186803</td>\n",
       "      <td>1.756957</td>\n",
       "    </tr>\n",
       "    <tr>\n",
       "      <th>1</th>\n",
       "      <td>CatBoost_Baseline</td>\n",
       "      <td>0.678626</td>\n",
       "      <td>0.363721</td>\n",
       "      <td>0.260785</td>\n",
       "      <td>0.363721</td>\n",
       "      <td>0.191032</td>\n",
       "      <td>0.363721</td>\n",
       "      <td>0.182633</td>\n",
       "      <td>1.483299</td>\n",
       "    </tr>\n",
       "    <tr>\n",
       "      <th>2</th>\n",
       "      <td>RandomForest_Baseline</td>\n",
       "      <td>0.630193</td>\n",
       "      <td>0.345829</td>\n",
       "      <td>0.219442</td>\n",
       "      <td>0.345829</td>\n",
       "      <td>0.180165</td>\n",
       "      <td>0.345829</td>\n",
       "      <td>0.170520</td>\n",
       "      <td>1.794659</td>\n",
       "    </tr>\n",
       "    <tr>\n",
       "      <th>3</th>\n",
       "      <td>LGBM_Baseline_embeddings</td>\n",
       "      <td>0.764762</td>\n",
       "      <td>0.344662</td>\n",
       "      <td>0.274598</td>\n",
       "      <td>0.344662</td>\n",
       "      <td>0.339979</td>\n",
       "      <td>0.344662</td>\n",
       "      <td>0.275853</td>\n",
       "      <td>1.508385</td>\n",
       "    </tr>\n",
       "    <tr>\n",
       "      <th>4</th>\n",
       "      <td>CatBoost_Baseline_embeddings</td>\n",
       "      <td>0.789473</td>\n",
       "      <td>0.444547</td>\n",
       "      <td>0.351707</td>\n",
       "      <td>0.444547</td>\n",
       "      <td>0.272629</td>\n",
       "      <td>0.444547</td>\n",
       "      <td>0.282677</td>\n",
       "      <td>1.300392</td>\n",
       "    </tr>\n",
       "    <tr>\n",
       "      <th>0</th>\n",
       "      <td>CatBoost_Optuna</td>\n",
       "      <td>0.783155</td>\n",
       "      <td>0.450497</td>\n",
       "      <td>0.442351</td>\n",
       "      <td>0.450497</td>\n",
       "      <td>0.321268</td>\n",
       "      <td>0.450497</td>\n",
       "      <td>0.335048</td>\n",
       "      <td>1.276210</td>\n",
       "    </tr>\n",
       "  </tbody>\n",
       "</table>\n",
       "</div>\n",
       "      <button class=\"colab-df-convert\" onclick=\"convertToInteractive('df-faa77b4d-4348-4422-b959-608cd93f481b')\"\n",
       "              title=\"Convert this dataframe to an interactive table.\"\n",
       "              style=\"display:none;\">\n",
       "        \n",
       "  <svg xmlns=\"http://www.w3.org/2000/svg\" height=\"24px\"viewBox=\"0 0 24 24\"\n",
       "       width=\"24px\">\n",
       "    <path d=\"M0 0h24v24H0V0z\" fill=\"none\"/>\n",
       "    <path d=\"M18.56 5.44l.94 2.06.94-2.06 2.06-.94-2.06-.94-.94-2.06-.94 2.06-2.06.94zm-11 1L8.5 8.5l.94-2.06 2.06-.94-2.06-.94L8.5 2.5l-.94 2.06-2.06.94zm10 10l.94 2.06.94-2.06 2.06-.94-2.06-.94-.94-2.06-.94 2.06-2.06.94z\"/><path d=\"M17.41 7.96l-1.37-1.37c-.4-.4-.92-.59-1.43-.59-.52 0-1.04.2-1.43.59L10.3 9.45l-7.72 7.72c-.78.78-.78 2.05 0 2.83L4 21.41c.39.39.9.59 1.41.59.51 0 1.02-.2 1.41-.59l7.78-7.78 2.81-2.81c.8-.78.8-2.07 0-2.86zM5.41 20L4 18.59l7.72-7.72 1.47 1.35L5.41 20z\"/>\n",
       "  </svg>\n",
       "      </button>\n",
       "      \n",
       "  <style>\n",
       "    .colab-df-container {\n",
       "      display:flex;\n",
       "      flex-wrap:wrap;\n",
       "      gap: 12px;\n",
       "    }\n",
       "\n",
       "    .colab-df-convert {\n",
       "      background-color: #E8F0FE;\n",
       "      border: none;\n",
       "      border-radius: 50%;\n",
       "      cursor: pointer;\n",
       "      display: none;\n",
       "      fill: #1967D2;\n",
       "      height: 32px;\n",
       "      padding: 0 0 0 0;\n",
       "      width: 32px;\n",
       "    }\n",
       "\n",
       "    .colab-df-convert:hover {\n",
       "      background-color: #E2EBFA;\n",
       "      box-shadow: 0px 1px 2px rgba(60, 64, 67, 0.3), 0px 1px 3px 1px rgba(60, 64, 67, 0.15);\n",
       "      fill: #174EA6;\n",
       "    }\n",
       "\n",
       "    [theme=dark] .colab-df-convert {\n",
       "      background-color: #3B4455;\n",
       "      fill: #D2E3FC;\n",
       "    }\n",
       "\n",
       "    [theme=dark] .colab-df-convert:hover {\n",
       "      background-color: #434B5C;\n",
       "      box-shadow: 0px 1px 3px 1px rgba(0, 0, 0, 0.15);\n",
       "      filter: drop-shadow(0px 1px 2px rgba(0, 0, 0, 0.3));\n",
       "      fill: #FFFFFF;\n",
       "    }\n",
       "  </style>\n",
       "\n",
       "      <script>\n",
       "        const buttonEl =\n",
       "          document.querySelector('#df-faa77b4d-4348-4422-b959-608cd93f481b button.colab-df-convert');\n",
       "        buttonEl.style.display =\n",
       "          google.colab.kernel.accessAllowed ? 'block' : 'none';\n",
       "\n",
       "        async function convertToInteractive(key) {\n",
       "          const element = document.querySelector('#df-faa77b4d-4348-4422-b959-608cd93f481b');\n",
       "          const dataTable =\n",
       "            await google.colab.kernel.invokeFunction('convertToInteractive',\n",
       "                                                     [key], {});\n",
       "          if (!dataTable) return;\n",
       "\n",
       "          const docLinkHtml = 'Like what you see? Visit the ' +\n",
       "            '<a target=\"_blank\" href=https://colab.research.google.com/notebooks/data_table.ipynb>data table notebook</a>'\n",
       "            + ' to learn more about interactive tables.';\n",
       "          element.innerHTML = '';\n",
       "          dataTable['output_type'] = 'display_data';\n",
       "          await google.colab.output.renderOutput(dataTable, element);\n",
       "          const docLink = document.createElement('div');\n",
       "          docLink.innerHTML = docLinkHtml;\n",
       "          element.appendChild(docLink);\n",
       "        }\n",
       "      </script>\n",
       "    </div>\n",
       "  </div>\n",
       "  "
      ],
      "text/plain": [
       "                          model   ROC_AUC  Precision_micro  Precision_macro  \\\n",
       "0                 LGBM_Baseline  0.665440         0.223941         0.206321   \n",
       "1             CatBoost_Baseline  0.678626         0.363721         0.260785   \n",
       "2         RandomForest_Baseline  0.630193         0.345829         0.219442   \n",
       "3      LGBM_Baseline_embeddings  0.764762         0.344662         0.274598   \n",
       "4  CatBoost_Baseline_embeddings  0.789473         0.444547         0.351707   \n",
       "0               CatBoost_Optuna  0.783155         0.450497         0.442351   \n",
       "\n",
       "   Recall_micro  Recall_macro  F1_micro  F1_macro   Logloss  \n",
       "0      0.223941      0.257902  0.223941  0.186803  1.756957  \n",
       "1      0.363721      0.191032  0.363721  0.182633  1.483299  \n",
       "2      0.345829      0.180165  0.345829  0.170520  1.794659  \n",
       "3      0.344662      0.339979  0.344662  0.275853  1.508385  \n",
       "4      0.444547      0.272629  0.444547  0.282677  1.300392  \n",
       "0      0.450497      0.321268  0.450497  0.335048  1.276210  "
      ]
     },
     "execution_count": 38,
     "metadata": {},
     "output_type": "execute_result"
    }
   ],
   "source": [
    "y_pred = cat_age.predict(X_test)\n",
    "y_score = cat_age.predict_proba(X_test)\n",
    "metrics_age = metrics_age[:5]\n",
    "metrics_age = metrics_age.append(\n",
    "    get_metrics_multiclass(y_test_bin=y_test_bin,\n",
    "                           y_test=y_test,\n",
    "                           y_pred=y_pred,\n",
    "                           y_prob=y_score,\n",
    "                           name='CatBoost_Optuna',\n",
    "                           type_multi='ovo'))\n",
    "metrics_age"
   ]
  },
  {
   "cell_type": "markdown",
   "metadata": {
    "id": "DQXHdNflY-7k"
   },
   "source": [
    "Вывод: самые высокие метрики у catboost с эмбеддингами"
   ]
  },
  {
   "cell_type": "code",
   "execution_count": null,
   "metadata": {
    "id": "gFTTR9-FZQQ-"
   },
   "outputs": [],
   "source": [
    "metrics_age.to_csv('metrics/metrics_age_tuned.csv', index=False)"
   ]
  },
  {
   "cell_type": "markdown",
   "metadata": {
    "id": "GPH39WdkZEXM"
   },
   "source": [
    "# Submission"
   ]
  },
  {
   "cell_type": "markdown",
   "metadata": {
    "id": "UDSa-F1mU3YA"
   },
   "source": [
    "## Gender"
   ]
  },
  {
   "cell_type": "code",
   "execution_count": null,
   "metadata": {
    "id": "5wRrsiuS_o-R"
   },
   "outputs": [],
   "source": [
    "cat_gender_best = {\n",
    "    'iterations': 3000,\n",
    "    'learning_rate': 0.051418504137325544,\n",
    "    'max_depth': 4,\n",
    "    'colsample_bylevel': 0.7594434568905333,\n",
    "    'l2_leaf_reg': 57.13098420673366,\n",
    "    'random_strength': 30.89358906898957,\n",
    "    'bootstrap_type': 'No',\n",
    "    'border_count': 128,\n",
    "    'grow_policy': 'Lossguide',\n",
    "    'od_wait': 1886,\n",
    "    'leaf_estimation_iterations': 15,\n",
    "    'eval_metric': 'AUC',\n",
    "    'scale_pos_weight': 0.9531740695036613,\n",
    "    'random_state': 42\n",
    "}"
   ]
  },
  {
   "cell_type": "code",
   "execution_count": null,
   "metadata": {
    "colab": {
     "base_uri": "https://localhost:8080/"
    },
    "executionInfo": {
     "elapsed": 4357,
     "status": "ok",
     "timestamp": 1679984538021,
     "user": {
      "displayName": "Гоша Сидоркин",
      "userId": "09429149278087224251"
     },
     "user_tz": -240
    },
    "id": "b4JLyl8kAGyu",
    "outputId": "d3a201cb-0204-43fc-e764-5a63d2393cef"
   },
   "outputs": [
    {
     "data": {
      "text/plain": [
       "1    135331\n",
       "0    128994\n",
       "Name: is_male, dtype: int64"
      ]
     },
     "execution_count": 30,
     "metadata": {},
     "output_type": "execute_result"
    }
   ],
   "source": [
    "df_train_cat = targets.merge(df, how='inner', on=['user_id']) \\\n",
    "                      .merge(url_emb, how='inner', on='user_id') \\\n",
    "                      .merge(city_emb, how='inner', on=['user_id']) \\\n",
    "                      .merge(reg_emb, how='inner', on=['user_id']) \\\n",
    "                      .merge(model_emb, how='inner', on=['user_id'])\n",
    "\n",
    "df_train_cat = df_train_cat[df_train_cat['is_male'] != 'NA']\n",
    "df_train_cat = df_train_cat.dropna()\n",
    "df_train_cat['is_male'] = df_train_cat['is_male'].map(int)\n",
    "df_train_cat['is_male'].value_counts()"
   ]
  },
  {
   "cell_type": "code",
   "execution_count": null,
   "metadata": {
    "id": "p86CT5WOPSOv"
   },
   "outputs": [],
   "source": [
    "id_to_sub_data = id_to_submit.merge(df, how='inner', on=['user_id']) \\\n",
    "    .merge(url_emb, how='inner', on='user_id') \\\n",
    "    .merge(city_emb, how='inner', on=['user_id']) \\\n",
    "    .merge(reg_emb, how='inner', on=['user_id']) \\\n",
    "    .merge(model_emb, how='inner', on=['user_id']) \\\n",
    "    .drop('user_id', axis=1)"
   ]
  },
  {
   "cell_type": "code",
   "execution_count": null,
   "metadata": {
    "colab": {
     "base_uri": "https://localhost:8080/"
    },
    "executionInfo": {
     "elapsed": 605,
     "status": "ok",
     "timestamp": 1679984541405,
     "user": {
      "displayName": "Гоша Сидоркин",
      "userId": "09429149278087224251"
     },
     "user_tz": -240
    },
    "id": "9DElXAsfAKqD",
    "outputId": "c8617310-00ec-4ec8-fa36-4b02dd408a8a"
   },
   "outputs": [
    {
     "name": "stdout",
     "output_type": "stream",
     "text": [
      "CPU times: user 87.4 ms, sys: 123 ms, total: 210 ms\n",
      "Wall time: 210 ms\n"
     ]
    }
   ],
   "source": [
    "%%time\n",
    "X_train = df_train_cat.drop(['user_id', 'age', 'is_male'], axis=1)\n",
    "y_train = df_train_cat['is_male']\n",
    "\n",
    "X_test = id_to_sub_data\n",
    "\n",
    "# значение для scale_pos_weight\n",
    "ratio = float(np.sum(y_train == 0)) / np.sum(y_train == 1)"
   ]
  },
  {
   "cell_type": "code",
   "execution_count": null,
   "metadata": {
    "colab": {
     "base_uri": "https://localhost:8080/"
    },
    "executionInfo": {
     "elapsed": 7421554,
     "status": "ok",
     "timestamp": 1679991962955,
     "user": {
      "displayName": "Гоша Сидоркин",
      "userId": "09429149278087224251"
     },
     "user_tz": -240
    },
    "id": "bA8tL79l_psZ",
    "outputId": "2356f480-2d4d-40b5-c060-e562035223c7"
   },
   "outputs": [
    {
     "name": "stdout",
     "output_type": "stream",
     "text": [
      "id = 0 0.8473140732028428 \n",
      "\n",
      "id = 1 0.8489847350187312 \n",
      "\n",
      "id = 2 0.8430018692300713 \n",
      "\n",
      "id = 3 0.8493735341517681 \n",
      "\n",
      "id = 4 0.8462049992990305 \n",
      "\n",
      "0.8469758421804888\n"
     ]
    }
   ],
   "source": [
    "finish_test_preds = []\n",
    "finish_test_preds_proba = []\n",
    "\n",
    "cv = StratifiedKFold(n_splits=N_FOLDS, shuffle=True, random_state=RAND)\n",
    "cv_predicts_val = np.empty(N_FOLDS)\n",
    "\n",
    "cat_features = X_train.select_dtypes('category').columns.tolist()\n",
    "\n",
    "for idx, (train_idx, test_idx) in enumerate(cv.split(X_train, y_train)):\n",
    "    X_train_, X_val_ = X_train.iloc[train_idx], X_train.iloc[test_idx]\n",
    "    y_train_, y_val_ = y_train.iloc[train_idx], y_train.iloc[test_idx]\n",
    "\n",
    "    model = CatBoostClassifier(cat_features=cat_features, **cat_gender_best)\n",
    "\n",
    "    model.fit(X_train_, y_train_, verbose=False)\n",
    "\n",
    "    # OOF\n",
    "    preds_val_proba = model.predict_proba(X_val_)[:, 1]\n",
    "    cv_predicts_val[idx] = m.roc_auc_score(y_val_, preds_val_proba)\n",
    "\n",
    "    # holdout\n",
    "    preds_test = model.predict(X_test)\n",
    "    preds_test_proba = model.predict_proba(X_test)\n",
    "\n",
    "    finish_test_preds.append(preds_test)\n",
    "    finish_test_preds_proba.append(preds_test_proba)\n",
    "\n",
    "    print(f\"id = {idx}\", cv_predicts_val[idx], '\\n')\n",
    "\n",
    "print(np.mean(cv_predicts_val))"
   ]
  },
  {
   "cell_type": "code",
   "execution_count": null,
   "metadata": {
    "id": "_WbL5D_f_tUe"
   },
   "outputs": [],
   "source": [
    "# находим среднее по вероятностям\n",
    "test_pred_proba = np.mean(finish_test_preds_proba, axis=0)"
   ]
  },
  {
   "cell_type": "code",
   "execution_count": null,
   "metadata": {
    "colab": {
     "base_uri": "https://localhost:8080/",
     "height": 419
    },
    "collapsed": true,
    "executionInfo": {
     "elapsed": 21,
     "status": "ok",
     "timestamp": 1679991962957,
     "user": {
      "displayName": "Гоша Сидоркин",
      "userId": "09429149278087224251"
     },
     "user_tz": -240
    },
    "id": "8rNPmHGmeCHR",
    "outputId": "59c9c667-3013-4b7f-cd2f-ba3106bb8bce"
   },
   "outputs": [
    {
     "data": {
      "text/html": [
       "\n",
       "  <div id=\"df-eae93f36-1f55-4c07-9af3-4d75794c6672\">\n",
       "    <div class=\"colab-df-container\">\n",
       "      <div>\n",
       "<style scoped>\n",
       "    .dataframe tbody tr th:only-of-type {\n",
       "        vertical-align: middle;\n",
       "    }\n",
       "\n",
       "    .dataframe tbody tr th {\n",
       "        vertical-align: top;\n",
       "    }\n",
       "\n",
       "    .dataframe thead th {\n",
       "        text-align: right;\n",
       "    }\n",
       "</style>\n",
       "<table border=\"1\" class=\"dataframe\">\n",
       "  <thead>\n",
       "    <tr style=\"text-align: right;\">\n",
       "      <th></th>\n",
       "      <th>user_id</th>\n",
       "      <th>is_male</th>\n",
       "    </tr>\n",
       "  </thead>\n",
       "  <tbody>\n",
       "    <tr>\n",
       "      <th>221301</th>\n",
       "      <td>221301</td>\n",
       "      <td>0.969222</td>\n",
       "    </tr>\n",
       "    <tr>\n",
       "      <th>31271</th>\n",
       "      <td>31271</td>\n",
       "      <td>0.531237</td>\n",
       "    </tr>\n",
       "    <tr>\n",
       "      <th>211594</th>\n",
       "      <td>211594</td>\n",
       "      <td>0.564567</td>\n",
       "    </tr>\n",
       "    <tr>\n",
       "      <th>253119</th>\n",
       "      <td>253119</td>\n",
       "      <td>0.516738</td>\n",
       "    </tr>\n",
       "    <tr>\n",
       "      <th>192578</th>\n",
       "      <td>192578</td>\n",
       "      <td>0.802211</td>\n",
       "    </tr>\n",
       "    <tr>\n",
       "      <th>...</th>\n",
       "      <td>...</td>\n",
       "      <td>...</td>\n",
       "    </tr>\n",
       "    <tr>\n",
       "      <th>145307</th>\n",
       "      <td>415284</td>\n",
       "      <td>0.541976</td>\n",
       "    </tr>\n",
       "    <tr>\n",
       "      <th>145308</th>\n",
       "      <td>415285</td>\n",
       "      <td>0.652584</td>\n",
       "    </tr>\n",
       "    <tr>\n",
       "      <th>145309</th>\n",
       "      <td>415286</td>\n",
       "      <td>0.603176</td>\n",
       "    </tr>\n",
       "    <tr>\n",
       "      <th>145312</th>\n",
       "      <td>415306</td>\n",
       "      <td>0.649970</td>\n",
       "    </tr>\n",
       "    <tr>\n",
       "      <th>145315</th>\n",
       "      <td>415315</td>\n",
       "      <td>0.543699</td>\n",
       "    </tr>\n",
       "  </tbody>\n",
       "</table>\n",
       "<p>144724 rows × 2 columns</p>\n",
       "</div>\n",
       "      <button class=\"colab-df-convert\" onclick=\"convertToInteractive('df-eae93f36-1f55-4c07-9af3-4d75794c6672')\"\n",
       "              title=\"Convert this dataframe to an interactive table.\"\n",
       "              style=\"display:none;\">\n",
       "        \n",
       "  <svg xmlns=\"http://www.w3.org/2000/svg\" height=\"24px\"viewBox=\"0 0 24 24\"\n",
       "       width=\"24px\">\n",
       "    <path d=\"M0 0h24v24H0V0z\" fill=\"none\"/>\n",
       "    <path d=\"M18.56 5.44l.94 2.06.94-2.06 2.06-.94-2.06-.94-.94-2.06-.94 2.06-2.06.94zm-11 1L8.5 8.5l.94-2.06 2.06-.94-2.06-.94L8.5 2.5l-.94 2.06-2.06.94zm10 10l.94 2.06.94-2.06 2.06-.94-2.06-.94-.94-2.06-.94 2.06-2.06.94z\"/><path d=\"M17.41 7.96l-1.37-1.37c-.4-.4-.92-.59-1.43-.59-.52 0-1.04.2-1.43.59L10.3 9.45l-7.72 7.72c-.78.78-.78 2.05 0 2.83L4 21.41c.39.39.9.59 1.41.59.51 0 1.02-.2 1.41-.59l7.78-7.78 2.81-2.81c.8-.78.8-2.07 0-2.86zM5.41 20L4 18.59l7.72-7.72 1.47 1.35L5.41 20z\"/>\n",
       "  </svg>\n",
       "      </button>\n",
       "      \n",
       "  <style>\n",
       "    .colab-df-container {\n",
       "      display:flex;\n",
       "      flex-wrap:wrap;\n",
       "      gap: 12px;\n",
       "    }\n",
       "\n",
       "    .colab-df-convert {\n",
       "      background-color: #E8F0FE;\n",
       "      border: none;\n",
       "      border-radius: 50%;\n",
       "      cursor: pointer;\n",
       "      display: none;\n",
       "      fill: #1967D2;\n",
       "      height: 32px;\n",
       "      padding: 0 0 0 0;\n",
       "      width: 32px;\n",
       "    }\n",
       "\n",
       "    .colab-df-convert:hover {\n",
       "      background-color: #E2EBFA;\n",
       "      box-shadow: 0px 1px 2px rgba(60, 64, 67, 0.3), 0px 1px 3px 1px rgba(60, 64, 67, 0.15);\n",
       "      fill: #174EA6;\n",
       "    }\n",
       "\n",
       "    [theme=dark] .colab-df-convert {\n",
       "      background-color: #3B4455;\n",
       "      fill: #D2E3FC;\n",
       "    }\n",
       "\n",
       "    [theme=dark] .colab-df-convert:hover {\n",
       "      background-color: #434B5C;\n",
       "      box-shadow: 0px 1px 3px 1px rgba(0, 0, 0, 0.15);\n",
       "      filter: drop-shadow(0px 1px 2px rgba(0, 0, 0, 0.3));\n",
       "      fill: #FFFFFF;\n",
       "    }\n",
       "  </style>\n",
       "\n",
       "      <script>\n",
       "        const buttonEl =\n",
       "          document.querySelector('#df-eae93f36-1f55-4c07-9af3-4d75794c6672 button.colab-df-convert');\n",
       "        buttonEl.style.display =\n",
       "          google.colab.kernel.accessAllowed ? 'block' : 'none';\n",
       "\n",
       "        async function convertToInteractive(key) {\n",
       "          const element = document.querySelector('#df-eae93f36-1f55-4c07-9af3-4d75794c6672');\n",
       "          const dataTable =\n",
       "            await google.colab.kernel.invokeFunction('convertToInteractive',\n",
       "                                                     [key], {});\n",
       "          if (!dataTable) return;\n",
       "\n",
       "          const docLinkHtml = 'Like what you see? Visit the ' +\n",
       "            '<a target=\"_blank\" href=https://colab.research.google.com/notebooks/data_table.ipynb>data table notebook</a>'\n",
       "            + ' to learn more about interactive tables.';\n",
       "          element.innerHTML = '';\n",
       "          dataTable['output_type'] = 'display_data';\n",
       "          await google.colab.output.renderOutput(dataTable, element);\n",
       "          const docLink = document.createElement('div');\n",
       "          docLink.innerHTML = docLinkHtml;\n",
       "          element.appendChild(docLink);\n",
       "        }\n",
       "      </script>\n",
       "    </div>\n",
       "  </div>\n",
       "  "
      ],
      "text/plain": [
       "        user_id   is_male\n",
       "221301   221301  0.969222\n",
       "31271     31271  0.531237\n",
       "211594   211594  0.564567\n",
       "253119   253119  0.516738\n",
       "192578   192578  0.802211\n",
       "...         ...       ...\n",
       "145307   415284  0.541976\n",
       "145308   415285  0.652584\n",
       "145309   415286  0.603176\n",
       "145312   415306  0.649970\n",
       "145315   415315  0.543699\n",
       "\n",
       "[144724 rows x 2 columns]"
      ]
     },
     "execution_count": 35,
     "metadata": {},
     "output_type": "execute_result"
    }
   ],
   "source": [
    "id_to_submit['is_male'] = test_pred_proba[:, 1]\n",
    "id_to_submit"
   ]
  },
  {
   "cell_type": "markdown",
   "metadata": {
    "id": "aSpkwSHb-E9b"
   },
   "source": [
    "## Age"
   ]
  },
  {
   "cell_type": "code",
   "execution_count": null,
   "metadata": {
    "id": "KV4FTcSxVQDr"
   },
   "outputs": [],
   "source": [
    "def age_bucket(x):\n",
    "    return bisect.bisect_left([18, 25, 35, 45, 55, 65], x)"
   ]
  },
  {
   "cell_type": "code",
   "execution_count": null,
   "metadata": {
    "colab": {
     "base_uri": "https://localhost:8080/",
     "height": 279
    },
    "executionInfo": {
     "elapsed": 6559,
     "status": "ok",
     "timestamp": 1680008882629,
     "user": {
      "displayName": "Гоша Сидоркин",
      "userId": "09429149278087224251"
     },
     "user_tz": -240
    },
    "id": "6aMJXqLY-Gqc",
    "outputId": "7ab5eb08-3779-4316-a21b-25943c7d63a2"
   },
   "outputs": [
    {
     "data": {
      "image/png": "[encoded data removed]",
      "text/plain": [
       "<Figure size 432x288 with 1 Axes>"
      ]
     },
     "metadata": {},
     "output_type": "display_data"
    }
   ],
   "source": [
    "df_trn = targets.merge(df, how='inner', on=['user_id']) \\\n",
    "    .merge(url_emb, how='inner', on='user_id') \\\n",
    "    .merge(model_emb, how='inner', on=['user_id']) \\\n",
    "    .merge(reg_emb, how='inner', on=['user_id']) \\\n",
    "    .merge(city_emb, how='inner', on=['user_id'])\n",
    "\n",
    "df_trn = df_trn[df_trn['age'] != 'NA']\n",
    "df_trn = df_trn.dropna()\n",
    "df_trn['age'] = df_trn['age'].map(age_bucket)\n",
    "sns.histplot(df_trn['age'], bins=7)"
   ]
  },
  {
   "cell_type": "code",
   "execution_count": null,
   "metadata": {
    "id": "XnB9nTn3-GmS"
   },
   "outputs": [],
   "source": [
    "df_trn = df_trn.query('age > 0')"
   ]
  },
  {
   "cell_type": "code",
   "execution_count": null,
   "metadata": {
    "id": "8Y3_o1WdVMYQ"
   },
   "outputs": [],
   "source": [
    "id_to_sub_data = id_to_submit.merge(df, how='inner', on=['user_id']) \\\n",
    "    .merge(url_emb, how='inner', on='user_id') \\\n",
    "    .merge(city_emb, how='inner', on=['user_id']) \\\n",
    "    .merge(reg_emb, how='inner', on=['user_id']) \\\n",
    "    .merge(model_emb, how='inner', on=['user_id']) \\\n",
    "    .drop('user_id', axis=1)"
   ]
  },
  {
   "cell_type": "code",
   "execution_count": null,
   "metadata": {
    "colab": {
     "base_uri": "https://localhost:8080/"
    },
    "executionInfo": {
     "elapsed": 5,
     "status": "ok",
     "timestamp": 1680008943936,
     "user": {
      "displayName": "Гоша Сидоркин",
      "userId": "09429149278087224251"
     },
     "user_tz": -240
    },
    "id": "XWVGxONc_VCO",
    "outputId": "78664f11-b777-4176-89f1-ce5c95d8fd76"
   },
   "outputs": [
    {
     "name": "stdout",
     "output_type": "stream",
     "text": [
      "CPU times: user 134 ms, sys: 129 ms, total: 264 ms\n",
      "Wall time: 265 ms\n"
     ]
    }
   ],
   "source": [
    "%%time\n",
    "X_train = df_trn.drop(['user_id', 'age', 'is_male'], axis=1)\n",
    "y_train = df_trn['age']\n",
    "\n",
    "X_test = id_to_sub_data"
   ]
  },
  {
   "cell_type": "code",
   "execution_count": null,
   "metadata": {
    "id": "te-LDFoB-GiR"
   },
   "outputs": [],
   "source": [
    "cat_age_params = {\n",
    "    'iterations': 2600,\n",
    "    'learning_rate': 0.04580986967296549,\n",
    "    'max_depth': 7,\n",
    "    'colsample_bylevel': 0.6502841606511838,\n",
    "    'l2_leaf_reg': 93.87518619376878,\n",
    "    'random_strength': 38.67772771530471,\n",
    "    'bootstrap_type': 'Bernoulli',\n",
    "    'border_count': 128,\n",
    "    'grow_policy': 'SymmetricTree',\n",
    "    'od_wait': 846,\n",
    "    'leaf_estimation_iterations': 4,\n",
    "    'random_state': 42,\n",
    "    'subsample': 0.7265555309408829\n",
    "}"
   ]
  },
  {
   "cell_type": "code",
   "execution_count": null,
   "metadata": {
    "colab": {
     "base_uri": "https://localhost:8080/"
    },
    "executionInfo": {
     "elapsed": 18409426,
     "status": "ok",
     "timestamp": 1680040677134,
     "user": {
      "displayName": "Гоша Сидоркин",
      "userId": "09429149278087224251"
     },
     "user_tz": -240
    },
    "id": "rasJTyPR-GeY",
    "outputId": "57fe0df5-7243-49e9-f4f2-66323fc913f8"
   },
   "outputs": [
    {
     "name": "stdout",
     "output_type": "stream",
     "text": [
      "id = 0 0.7700369031021982 \n",
      "\n",
      "id = 1 0.7700856722776952 \n",
      "\n",
      "id = 2 0.7695656046299223 \n",
      "\n",
      "id = 3 0.7695729190339798 \n",
      "\n",
      "id = 4 0.7688620634266969 \n",
      "\n",
      "0.7696246324940985\n"
     ]
    }
   ],
   "source": [
    "finish_test_preds = []\n",
    "finish_test_preds_proba = []\n",
    "\n",
    "cv = StratifiedKFold(n_splits=N_FOLDS, shuffle=True, random_state=RAND)\n",
    "cv_predicts_val = np.empty(N_FOLDS)\n",
    "\n",
    "cat_features = X_train.select_dtypes('category').columns.tolist()\n",
    "\n",
    "for idx, (train_idx, test_idx) in enumerate(cv.split(X_train, y_train)):\n",
    "    X_train_, X_val_ = X_train.iloc[train_idx], X_train.iloc[test_idx]\n",
    "    y_train_, y_val_ = y_train.iloc[train_idx], y_train.iloc[test_idx]\n",
    "\n",
    "    model = CatBoostClassifier(cat_features=cat_features, **cat_age_params)\n",
    "\n",
    "    model.fit(X_train_,\n",
    "              y_train_,\n",
    "              eval_set=[(X_val_, y_val_)],\n",
    "              early_stopping_rounds=100,\n",
    "              verbose=0)\n",
    "\n",
    "    # OOF\n",
    "    preds_val_proba = model.predict_proba(X_val_)\n",
    "    cv_predicts_val[idx] = m.roc_auc_score(y_val_,\n",
    "                                           preds_val_proba,\n",
    "                                           multi_class='ovo')\n",
    "\n",
    "    # holdout\n",
    "    preds_test = model.predict(X_test)\n",
    "    preds_test_proba = model.predict_proba(X_test)\n",
    "\n",
    "    finish_test_preds.append(preds_test)\n",
    "    finish_test_preds_proba.append(preds_test_proba)\n",
    "\n",
    "    print(f\"id = {idx}\", cv_predicts_val[idx], '\\n')\n",
    "\n",
    "print(np.mean(cv_predicts_val))"
   ]
  },
  {
   "cell_type": "code",
   "execution_count": null,
   "outputs": [],
   "source": [
    "# находим моду по классам\n",
    "test_pred = stats.mode(np.column_stack(finish_test_preds), axis=1)[0]"
   ],
   "metadata": {
    "collapsed": false,
    "pycharm": {
     "name": "#%%\n"
    }
   }
  },
  {
   "cell_type": "code",
   "execution_count": null,
   "metadata": {
    "id": "0zQGzvbPUXg8"
   },
   "outputs": [],
   "source": [
    "id_to_submit = pd.read_csv('submissions/submission_gender.csv')"
   ]
  },
  {
   "cell_type": "code",
   "execution_count": null,
   "metadata": {
    "colab": {
     "base_uri": "https://localhost:8080/",
     "height": 419
    },
    "executionInfo": {
     "elapsed": 61,
     "status": "ok",
     "timestamp": 1680040682508,
     "user": {
      "displayName": "Гоша Сидоркин",
      "userId": "09429149278087224251"
     },
     "user_tz": -240
    },
    "id": "Is0nILgqPR92",
    "outputId": "c7983492-cec2-4724-a493-1d837359c39e"
   },
   "outputs": [
    {
     "data": {
      "text/html": [
       "\n",
       "  <div id=\"df-06029962-d974-4392-adbf-4a8db3ec1298\">\n",
       "    <div class=\"colab-df-container\">\n",
       "      <div>\n",
       "<style scoped>\n",
       "    .dataframe tbody tr th:only-of-type {\n",
       "        vertical-align: middle;\n",
       "    }\n",
       "\n",
       "    .dataframe tbody tr th {\n",
       "        vertical-align: top;\n",
       "    }\n",
       "\n",
       "    .dataframe thead th {\n",
       "        text-align: right;\n",
       "    }\n",
       "</style>\n",
       "<table border=\"1\" class=\"dataframe\">\n",
       "  <thead>\n",
       "    <tr style=\"text-align: right;\">\n",
       "      <th></th>\n",
       "      <th>user_id</th>\n",
       "      <th>is_male</th>\n",
       "      <th>age</th>\n",
       "    </tr>\n",
       "  </thead>\n",
       "  <tbody>\n",
       "    <tr>\n",
       "      <th>0</th>\n",
       "      <td>221301</td>\n",
       "      <td>0.969222</td>\n",
       "      <td>2</td>\n",
       "    </tr>\n",
       "    <tr>\n",
       "      <th>1</th>\n",
       "      <td>31271</td>\n",
       "      <td>0.531237</td>\n",
       "      <td>3</td>\n",
       "    </tr>\n",
       "    <tr>\n",
       "      <th>2</th>\n",
       "      <td>211594</td>\n",
       "      <td>0.564567</td>\n",
       "      <td>2</td>\n",
       "    </tr>\n",
       "    <tr>\n",
       "      <th>3</th>\n",
       "      <td>253119</td>\n",
       "      <td>0.516738</td>\n",
       "      <td>2</td>\n",
       "    </tr>\n",
       "    <tr>\n",
       "      <th>4</th>\n",
       "      <td>192578</td>\n",
       "      <td>0.802211</td>\n",
       "      <td>2</td>\n",
       "    </tr>\n",
       "    <tr>\n",
       "      <th>...</th>\n",
       "      <td>...</td>\n",
       "      <td>...</td>\n",
       "      <td>...</td>\n",
       "    </tr>\n",
       "    <tr>\n",
       "      <th>144719</th>\n",
       "      <td>415284</td>\n",
       "      <td>0.541976</td>\n",
       "      <td>2</td>\n",
       "    </tr>\n",
       "    <tr>\n",
       "      <th>144720</th>\n",
       "      <td>415285</td>\n",
       "      <td>0.652584</td>\n",
       "      <td>2</td>\n",
       "    </tr>\n",
       "    <tr>\n",
       "      <th>144721</th>\n",
       "      <td>415286</td>\n",
       "      <td>0.603176</td>\n",
       "      <td>3</td>\n",
       "    </tr>\n",
       "    <tr>\n",
       "      <th>144722</th>\n",
       "      <td>415306</td>\n",
       "      <td>0.649970</td>\n",
       "      <td>2</td>\n",
       "    </tr>\n",
       "    <tr>\n",
       "      <th>144723</th>\n",
       "      <td>415315</td>\n",
       "      <td>0.543699</td>\n",
       "      <td>3</td>\n",
       "    </tr>\n",
       "  </tbody>\n",
       "</table>\n",
       "<p>144724 rows × 3 columns</p>\n",
       "</div>\n",
       "      <button class=\"colab-df-convert\" onclick=\"convertToInteractive('df-06029962-d974-4392-adbf-4a8db3ec1298')\"\n",
       "              title=\"Convert this dataframe to an interactive table.\"\n",
       "              style=\"display:none;\">\n",
       "        \n",
       "  <svg xmlns=\"http://www.w3.org/2000/svg\" height=\"24px\"viewBox=\"0 0 24 24\"\n",
       "       width=\"24px\">\n",
       "    <path d=\"M0 0h24v24H0V0z\" fill=\"none\"/>\n",
       "    <path d=\"M18.56 5.44l.94 2.06.94-2.06 2.06-.94-2.06-.94-.94-2.06-.94 2.06-2.06.94zm-11 1L8.5 8.5l.94-2.06 2.06-.94-2.06-.94L8.5 2.5l-.94 2.06-2.06.94zm10 10l.94 2.06.94-2.06 2.06-.94-2.06-.94-.94-2.06-.94 2.06-2.06.94z\"/><path d=\"M17.41 7.96l-1.37-1.37c-.4-.4-.92-.59-1.43-.59-.52 0-1.04.2-1.43.59L10.3 9.45l-7.72 7.72c-.78.78-.78 2.05 0 2.83L4 21.41c.39.39.9.59 1.41.59.51 0 1.02-.2 1.41-.59l7.78-7.78 2.81-2.81c.8-.78.8-2.07 0-2.86zM5.41 20L4 18.59l7.72-7.72 1.47 1.35L5.41 20z\"/>\n",
       "  </svg>\n",
       "      </button>\n",
       "      \n",
       "  <style>\n",
       "    .colab-df-container {\n",
       "      display:flex;\n",
       "      flex-wrap:wrap;\n",
       "      gap: 12px;\n",
       "    }\n",
       "\n",
       "    .colab-df-convert {\n",
       "      background-color: #E8F0FE;\n",
       "      border: none;\n",
       "      border-radius: 50%;\n",
       "      cursor: pointer;\n",
       "      display: none;\n",
       "      fill: #1967D2;\n",
       "      height: 32px;\n",
       "      padding: 0 0 0 0;\n",
       "      width: 32px;\n",
       "    }\n",
       "\n",
       "    .colab-df-convert:hover {\n",
       "      background-color: #E2EBFA;\n",
       "      box-shadow: 0px 1px 2px rgba(60, 64, 67, 0.3), 0px 1px 3px 1px rgba(60, 64, 67, 0.15);\n",
       "      fill: #174EA6;\n",
       "    }\n",
       "\n",
       "    [theme=dark] .colab-df-convert {\n",
       "      background-color: #3B4455;\n",
       "      fill: #D2E3FC;\n",
       "    }\n",
       "\n",
       "    [theme=dark] .colab-df-convert:hover {\n",
       "      background-color: #434B5C;\n",
       "      box-shadow: 0px 1px 3px 1px rgba(0, 0, 0, 0.15);\n",
       "      filter: drop-shadow(0px 1px 2px rgba(0, 0, 0, 0.3));\n",
       "      fill: #FFFFFF;\n",
       "    }\n",
       "  </style>\n",
       "\n",
       "      <script>\n",
       "        const buttonEl =\n",
       "          document.querySelector('#df-06029962-d974-4392-adbf-4a8db3ec1298 button.colab-df-convert');\n",
       "        buttonEl.style.display =\n",
       "          google.colab.kernel.accessAllowed ? 'block' : 'none';\n",
       "\n",
       "        async function convertToInteractive(key) {\n",
       "          const element = document.querySelector('#df-06029962-d974-4392-adbf-4a8db3ec1298');\n",
       "          const dataTable =\n",
       "            await google.colab.kernel.invokeFunction('convertToInteractive',\n",
       "                                                     [key], {});\n",
       "          if (!dataTable) return;\n",
       "\n",
       "          const docLinkHtml = 'Like what you see? Visit the ' +\n",
       "            '<a target=\"_blank\" href=https://colab.research.google.com/notebooks/data_table.ipynb>data table notebook</a>'\n",
       "            + ' to learn more about interactive tables.';\n",
       "          element.innerHTML = '';\n",
       "          dataTable['output_type'] = 'display_data';\n",
       "          await google.colab.output.renderOutput(dataTable, element);\n",
       "          const docLink = document.createElement('div');\n",
       "          docLink.innerHTML = docLinkHtml;\n",
       "          element.appendChild(docLink);\n",
       "        }\n",
       "      </script>\n",
       "    </div>\n",
       "  </div>\n",
       "  "
      ],
      "text/plain": [
       "        user_id   is_male  age\n",
       "0        221301  0.969222    2\n",
       "1         31271  0.531237    3\n",
       "2        211594  0.564567    2\n",
       "3        253119  0.516738    2\n",
       "4        192578  0.802211    2\n",
       "...         ...       ...  ...\n",
       "144719   415284  0.541976    2\n",
       "144720   415285  0.652584    2\n",
       "144721   415286  0.603176    3\n",
       "144722   415306  0.649970    2\n",
       "144723   415315  0.543699    3\n",
       "\n",
       "[144724 rows x 3 columns]"
      ]
     },
     "execution_count": 44,
     "metadata": {},
     "output_type": "execute_result"
    }
   ],
   "source": [
    "id_to_submit['age'] = test_pred\n",
    "id_to_submit"
   ]
  },
  {
   "cell_type": "code",
   "execution_count": null,
   "metadata": {
    "id": "eNSO6xGCpyFO"
   },
   "outputs": [],
   "source": [
    "import datetime\n",
    "\n",
    "cur_time = str(datetime.datetime.now()).replace(' ', '_')[:16]\n",
    "sub_name = 'submissions/submission_' + cur_time + '.csv'\n",
    "id_to_submit.to_csv(sub_name, index=False)"
   ]
  },
  {
   "cell_type": "markdown",
   "metadata": {
    "id": "2QAMwrmAYnlI"
   },
   "source": [
    "Leaderboard score: 1,5629284013"
   ]
  }
 ],
 "metadata": {
  "colab": {
   "authorship_tag": "ABX9TyMU7EEjGeK2azsg06J6j3IE",
   "machine_shape": "hm",
   "mount_file_id": "1tl-Ognw3BL4v7wcL5ciCGBceg5hJybU0",
   "provenance": [],
   "toc_visible": true
  },
  "gpuClass": "standard",
  "kernelspec": {
   "display_name": "Python 3 (ipykernel)",
   "language": "python",
   "name": "python3"
  },
  "language_info": {
   "codemirror_mode": {
    "name": "ipython",
    "version": 3
   },
   "file_extension": ".py",
   "mimetype": "text/x-python",
   "name": "python",
   "nbconvert_exporter": "python",
   "pygments_lexer": "ipython3",
   "version": "3.9.10"
  },
  "toc": {
   "base_numbering": 1,
   "nav_menu": {},
   "number_sections": true,
   "sideBar": true,
   "skip_h1_title": false,
   "title_cell": "Table of Contents",
   "title_sidebar": "Contents",
   "toc_cell": false,
   "toc_position": {
    "height": "calc(100% - 180px)",
    "left": "10px",
    "top": "150px",
    "width": "231px"
   },
   "toc_section_display": true,
   "toc_window_display": true
  },
  "widgets": {
   "application/vnd.jupyter.widget-state+json": {
    "0ca5f1f9840c46d6b5712f1c64834f62": {
     "model_module": "@jupyter-widgets/controls",
     "model_module_version": "1.5.0",
     "model_name": "DescriptionStyleModel",
     "state": {
      "_model_module": "@jupyter-widgets/controls",
      "_model_module_version": "1.5.0",
      "_model_name": "DescriptionStyleModel",
      "_view_count": null,
      "_view_module": "@jupyter-widgets/base",
      "_view_module_version": "1.2.0",
      "_view_name": "StyleView",
      "description_width": ""
     }
    },
    "0f0d33ab0fd548e180418288a1bdb5c4": {
     "model_module": "@jupyter-widgets/controls",
     "model_module_version": "1.5.0",
     "model_name": "ProgressStyleModel",
     "state": {
      "_model_module": "@jupyter-widgets/controls",
      "_model_module_version": "1.5.0",
      "_model_name": "ProgressStyleModel",
      "_view_count": null,
      "_view_module": "@jupyter-widgets/base",
      "_view_module_version": "1.2.0",
      "_view_name": "StyleView",
      "bar_color": null,
      "description_width": ""
     }
    },
    "11df036df43e49fa87426a3224c490b4": {
     "model_module": "@jupyter-widgets/base",
     "model_module_version": "1.2.0",
     "model_name": "LayoutModel",
     "state": {
      "_model_module": "@jupyter-widgets/base",
      "_model_module_version": "1.2.0",
      "_model_name": "LayoutModel",
      "_view_count": null,
      "_view_module": "@jupyter-widgets/base",
      "_view_module_version": "1.2.0",
      "_view_name": "LayoutView",
      "align_content": null,
      "align_items": null,
      "align_self": null,
      "border": null,
      "bottom": null,
      "display": null,
      "flex": null,
      "flex_flow": null,
      "grid_area": null,
      "grid_auto_columns": null,
      "grid_auto_flow": null,
      "grid_auto_rows": null,
      "grid_column": null,
      "grid_gap": null,
      "grid_row": null,
      "grid_template_areas": null,
      "grid_template_columns": null,
      "grid_template_rows": null,
      "height": null,
      "justify_content": null,
      "justify_items": null,
      "left": null,
      "margin": null,
      "max_height": null,
      "max_width": null,
      "min_height": null,
      "min_width": null,
      "object_fit": null,
      "object_position": null,
      "order": null,
      "overflow": null,
      "overflow_x": null,
      "overflow_y": null,
      "padding": null,
      "right": null,
      "top": null,
      "visibility": null,
      "width": null
     }
    },
    "13f43c9a1ed545f39da11609930165d3": {
     "model_module": "@jupyter-widgets/base",
     "model_module_version": "1.2.0",
     "model_name": "LayoutModel",
     "state": {
      "_model_module": "@jupyter-widgets/base",
      "_model_module_version": "1.2.0",
      "_model_name": "LayoutModel",
      "_view_count": null,
      "_view_module": "@jupyter-widgets/base",
      "_view_module_version": "1.2.0",
      "_view_name": "LayoutView",
      "align_content": null,
      "align_items": null,
      "align_self": null,
      "border": null,
      "bottom": null,
      "display": null,
      "flex": null,
      "flex_flow": null,
      "grid_area": null,
      "grid_auto_columns": null,
      "grid_auto_flow": null,
      "grid_auto_rows": null,
      "grid_column": null,
      "grid_gap": null,
      "grid_row": null,
      "grid_template_areas": null,
      "grid_template_columns": null,
      "grid_template_rows": null,
      "height": null,
      "justify_content": null,
      "justify_items": null,
      "left": null,
      "margin": null,
      "max_height": null,
      "max_width": null,
      "min_height": null,
      "min_width": null,
      "object_fit": null,
      "object_position": null,
      "order": null,
      "overflow": null,
      "overflow_x": null,
      "overflow_y": null,
      "padding": null,
      "right": null,
      "top": null,
      "visibility": null,
      "width": null
     }
    },
    "1544fe279cfb4c86a0c6b89148979ea6": {
     "model_module": "@jupyter-widgets/base",
     "model_module_version": "1.2.0",
     "model_name": "LayoutModel",
     "state": {
      "_model_module": "@jupyter-widgets/base",
      "_model_module_version": "1.2.0",
      "_model_name": "LayoutModel",
      "_view_count": null,
      "_view_module": "@jupyter-widgets/base",
      "_view_module_version": "1.2.0",
      "_view_name": "LayoutView",
      "align_content": null,
      "align_items": null,
      "align_self": null,
      "border": null,
      "bottom": null,
      "display": null,
      "flex": null,
      "flex_flow": null,
      "grid_area": null,
      "grid_auto_columns": null,
      "grid_auto_flow": null,
      "grid_auto_rows": null,
      "grid_column": null,
      "grid_gap": null,
      "grid_row": null,
      "grid_template_areas": null,
      "grid_template_columns": null,
      "grid_template_rows": null,
      "height": null,
      "justify_content": null,
      "justify_items": null,
      "left": null,
      "margin": null,
      "max_height": null,
      "max_width": null,
      "min_height": null,
      "min_width": null,
      "object_fit": null,
      "object_position": null,
      "order": null,
      "overflow": null,
      "overflow_x": null,
      "overflow_y": null,
      "padding": null,
      "right": null,
      "top": null,
      "visibility": null,
      "width": null
     }
    },
    "175cb0f7b6cd4e92806273888fc60dbb": {
     "model_module": "@jupyter-widgets/controls",
     "model_module_version": "1.5.0",
     "model_name": "HTMLModel",
     "state": {
      "_dom_classes": [],
      "_model_module": "@jupyter-widgets/controls",
      "_model_module_version": "1.5.0",
      "_model_name": "HTMLModel",
      "_view_count": null,
      "_view_module": "@jupyter-widgets/controls",
      "_view_module_version": "1.5.0",
      "_view_name": "HTMLView",
      "description": "",
      "description_tooltip": null,
      "layout": "IPY_MODEL_8e644f5707e74ec6a42c4d1fcdd6e012",
      "placeholder": "​",
      "style": "IPY_MODEL_76cbac05b3a1404ea83fb041bb764f77",
      "value": " 10/10 [5:40:04&lt;00:00, 1735.61s/it]"
     }
    },
    "212fc570cc55460e92a0a8d2de764796": {
     "model_module": "@jupyter-widgets/controls",
     "model_module_version": "1.5.0",
     "model_name": "HTMLModel",
     "state": {
      "_dom_classes": [],
      "_model_module": "@jupyter-widgets/controls",
      "_model_module_version": "1.5.0",
      "_model_name": "HTMLModel",
      "_view_count": null,
      "_view_module": "@jupyter-widgets/controls",
      "_view_module_version": "1.5.0",
      "_view_name": "HTMLView",
      "description": "",
      "description_tooltip": null,
      "layout": "IPY_MODEL_998bc029972a4ba4b496c0754c455b26",
      "placeholder": "​",
      "style": "IPY_MODEL_518676df6429460ba95a5d1cfb489bea",
      "value": "Best trial: 9. Best value: 4.05353: 100%"
     }
    },
    "21951c6578a548ccaae2e7bf88ed78fc": {
     "model_module": "@jupyter-widgets/base",
     "model_module_version": "1.2.0",
     "model_name": "LayoutModel",
     "state": {
      "_model_module": "@jupyter-widgets/base",
      "_model_module_version": "1.2.0",
      "_model_name": "LayoutModel",
      "_view_count": null,
      "_view_module": "@jupyter-widgets/base",
      "_view_module_version": "1.2.0",
      "_view_name": "LayoutView",
      "align_content": null,
      "align_items": null,
      "align_self": null,
      "border": null,
      "bottom": null,
      "display": null,
      "flex": null,
      "flex_flow": null,
      "grid_area": null,
      "grid_auto_columns": null,
      "grid_auto_flow": null,
      "grid_auto_rows": null,
      "grid_column": null,
      "grid_gap": null,
      "grid_row": null,
      "grid_template_areas": null,
      "grid_template_columns": null,
      "grid_template_rows": null,
      "height": null,
      "justify_content": null,
      "justify_items": null,
      "left": null,
      "margin": null,
      "max_height": null,
      "max_width": null,
      "min_height": null,
      "min_width": null,
      "object_fit": null,
      "object_position": null,
      "order": null,
      "overflow": null,
      "overflow_x": null,
      "overflow_y": null,
      "padding": null,
      "right": null,
      "top": null,
      "visibility": null,
      "width": null
     }
    },
    "25fb6f0360d5431894498f8b210402e8": {
     "model_module": "@jupyter-widgets/controls",
     "model_module_version": "1.5.0",
     "model_name": "HTMLModel",
     "state": {
      "_dom_classes": [],
      "_model_module": "@jupyter-widgets/controls",
      "_model_module_version": "1.5.0",
      "_model_name": "HTMLModel",
      "_view_count": null,
      "_view_module": "@jupyter-widgets/controls",
      "_view_module_version": "1.5.0",
      "_view_name": "HTMLView",
      "description": "",
      "description_tooltip": null,
      "layout": "IPY_MODEL_1544fe279cfb4c86a0c6b89148979ea6",
      "placeholder": "​",
      "style": "IPY_MODEL_f8dd59e9a52d4901932ffc637ad040d3",
      "value": "Best trial: 0. Best value: 0.469208: 100%"
     }
    },
    "3c837085f26849afba2ce0ef3feda3c6": {
     "model_module": "@jupyter-widgets/controls",
     "model_module_version": "1.5.0",
     "model_name": "ProgressStyleModel",
     "state": {
      "_model_module": "@jupyter-widgets/controls",
      "_model_module_version": "1.5.0",
      "_model_name": "ProgressStyleModel",
      "_view_count": null,
      "_view_module": "@jupyter-widgets/base",
      "_view_module_version": "1.2.0",
      "_view_name": "StyleView",
      "bar_color": null,
      "description_width": ""
     }
    },
    "42687c341e424f629c33f9993a646fb7": {
     "model_module": "@jupyter-widgets/controls",
     "model_module_version": "1.5.0",
     "model_name": "HTMLModel",
     "state": {
      "_dom_classes": [],
      "_model_module": "@jupyter-widgets/controls",
      "_model_module_version": "1.5.0",
      "_model_name": "HTMLModel",
      "_view_count": null,
      "_view_module": "@jupyter-widgets/controls",
      "_view_module_version": "1.5.0",
      "_view_name": "HTMLView",
      "description": "",
      "description_tooltip": null,
      "layout": "IPY_MODEL_5c461674897146cea8d8f5f0fcebd9d2",
      "placeholder": "​",
      "style": "IPY_MODEL_0ca5f1f9840c46d6b5712f1c64834f62",
      "value": " 1/1 [01:37&lt;00:00, 97.19s/it]"
     }
    },
    "4f85a514337442e9b3690dec94b7f020": {
     "model_module": "@jupyter-widgets/controls",
     "model_module_version": "1.5.0",
     "model_name": "FloatProgressModel",
     "state": {
      "_dom_classes": [],
      "_model_module": "@jupyter-widgets/controls",
      "_model_module_version": "1.5.0",
      "_model_name": "FloatProgressModel",
      "_view_count": null,
      "_view_module": "@jupyter-widgets/controls",
      "_view_module_version": "1.5.0",
      "_view_name": "ProgressView",
      "bar_style": "",
      "description": "",
      "description_tooltip": null,
      "layout": "IPY_MODEL_b43d0475c8d24deaa1f87a97e34d722e",
      "max": 10,
      "min": 0,
      "orientation": "horizontal",
      "style": "IPY_MODEL_53794050e475472594fdee3bc9981967",
      "value": 3
     }
    },
    "518676df6429460ba95a5d1cfb489bea": {
     "model_module": "@jupyter-widgets/controls",
     "model_module_version": "1.5.0",
     "model_name": "DescriptionStyleModel",
     "state": {
      "_model_module": "@jupyter-widgets/controls",
      "_model_module_version": "1.5.0",
      "_model_name": "DescriptionStyleModel",
      "_view_count": null,
      "_view_module": "@jupyter-widgets/base",
      "_view_module_version": "1.2.0",
      "_view_name": "StyleView",
      "description_width": ""
     }
    },
    "53794050e475472594fdee3bc9981967": {
     "model_module": "@jupyter-widgets/controls",
     "model_module_version": "1.5.0",
     "model_name": "ProgressStyleModel",
     "state": {
      "_model_module": "@jupyter-widgets/controls",
      "_model_module_version": "1.5.0",
      "_model_name": "ProgressStyleModel",
      "_view_count": null,
      "_view_module": "@jupyter-widgets/base",
      "_view_module_version": "1.2.0",
      "_view_name": "StyleView",
      "bar_color": null,
      "description_width": ""
     }
    },
    "5c461674897146cea8d8f5f0fcebd9d2": {
     "model_module": "@jupyter-widgets/base",
     "model_module_version": "1.2.0",
     "model_name": "LayoutModel",
     "state": {
      "_model_module": "@jupyter-widgets/base",
      "_model_module_version": "1.2.0",
      "_model_name": "LayoutModel",
      "_view_count": null,
      "_view_module": "@jupyter-widgets/base",
      "_view_module_version": "1.2.0",
      "_view_name": "LayoutView",
      "align_content": null,
      "align_items": null,
      "align_self": null,
      "border": null,
      "bottom": null,
      "display": null,
      "flex": null,
      "flex_flow": null,
      "grid_area": null,
      "grid_auto_columns": null,
      "grid_auto_flow": null,
      "grid_auto_rows": null,
      "grid_column": null,
      "grid_gap": null,
      "grid_row": null,
      "grid_template_areas": null,
      "grid_template_columns": null,
      "grid_template_rows": null,
      "height": null,
      "justify_content": null,
      "justify_items": null,
      "left": null,
      "margin": null,
      "max_height": null,
      "max_width": null,
      "min_height": null,
      "min_width": null,
      "object_fit": null,
      "object_position": null,
      "order": null,
      "overflow": null,
      "overflow_x": null,
      "overflow_y": null,
      "padding": null,
      "right": null,
      "top": null,
      "visibility": null,
      "width": null
     }
    },
    "63884eb0a34c4d279a613050d8a3fb13": {
     "model_module": "@jupyter-widgets/controls",
     "model_module_version": "1.5.0",
     "model_name": "HBoxModel",
     "state": {
      "_dom_classes": [],
      "_model_module": "@jupyter-widgets/controls",
      "_model_module_version": "1.5.0",
      "_model_name": "HBoxModel",
      "_view_count": null,
      "_view_module": "@jupyter-widgets/controls",
      "_view_module_version": "1.5.0",
      "_view_name": "HBoxView",
      "box_style": "",
      "children": [
       "IPY_MODEL_25fb6f0360d5431894498f8b210402e8",
       "IPY_MODEL_9282ae6b55ec4646a7c62a73c7530577",
       "IPY_MODEL_42687c341e424f629c33f9993a646fb7"
      ],
      "layout": "IPY_MODEL_70431f2fb26a4ec28e1857343459012e"
     }
    },
    "70431f2fb26a4ec28e1857343459012e": {
     "model_module": "@jupyter-widgets/base",
     "model_module_version": "1.2.0",
     "model_name": "LayoutModel",
     "state": {
      "_model_module": "@jupyter-widgets/base",
      "_model_module_version": "1.2.0",
      "_model_name": "LayoutModel",
      "_view_count": null,
      "_view_module": "@jupyter-widgets/base",
      "_view_module_version": "1.2.0",
      "_view_name": "LayoutView",
      "align_content": null,
      "align_items": null,
      "align_self": null,
      "border": null,
      "bottom": null,
      "display": null,
      "flex": null,
      "flex_flow": null,
      "grid_area": null,
      "grid_auto_columns": null,
      "grid_auto_flow": null,
      "grid_auto_rows": null,
      "grid_column": null,
      "grid_gap": null,
      "grid_row": null,
      "grid_template_areas": null,
      "grid_template_columns": null,
      "grid_template_rows": null,
      "height": null,
      "justify_content": null,
      "justify_items": null,
      "left": null,
      "margin": null,
      "max_height": null,
      "max_width": null,
      "min_height": null,
      "min_width": null,
      "object_fit": null,
      "object_position": null,
      "order": null,
      "overflow": null,
      "overflow_x": null,
      "overflow_y": null,
      "padding": null,
      "right": null,
      "top": null,
      "visibility": null,
      "width": null
     }
    },
    "70b38b66bd934c2b8df14edd957ee786": {
     "model_module": "@jupyter-widgets/controls",
     "model_module_version": "1.5.0",
     "model_name": "HTMLModel",
     "state": {
      "_dom_classes": [],
      "_model_module": "@jupyter-widgets/controls",
      "_model_module_version": "1.5.0",
      "_model_name": "HTMLModel",
      "_view_count": null,
      "_view_module": "@jupyter-widgets/controls",
      "_view_module_version": "1.5.0",
      "_view_name": "HTMLView",
      "description": "",
      "description_tooltip": null,
      "layout": "IPY_MODEL_77c224b9b3074b92a347936e23f7ddff",
      "placeholder": "​",
      "style": "IPY_MODEL_8cdcb15c1c304502b1af970f858548b5",
      "value": " 3/10 [16:19&lt;43:10, 370.10s/it]"
     }
    },
    "76cbac05b3a1404ea83fb041bb764f77": {
     "model_module": "@jupyter-widgets/controls",
     "model_module_version": "1.5.0",
     "model_name": "DescriptionStyleModel",
     "state": {
      "_model_module": "@jupyter-widgets/controls",
      "_model_module_version": "1.5.0",
      "_model_name": "DescriptionStyleModel",
      "_view_count": null,
      "_view_module": "@jupyter-widgets/base",
      "_view_module_version": "1.2.0",
      "_view_name": "StyleView",
      "description_width": ""
     }
    },
    "776c1a27d24a4130ad4a09bdca474552": {
     "model_module": "@jupyter-widgets/controls",
     "model_module_version": "1.5.0",
     "model_name": "HBoxModel",
     "state": {
      "_dom_classes": [],
      "_model_module": "@jupyter-widgets/controls",
      "_model_module_version": "1.5.0",
      "_model_name": "HBoxModel",
      "_view_count": null,
      "_view_module": "@jupyter-widgets/controls",
      "_view_module_version": "1.5.0",
      "_view_name": "HBoxView",
      "box_style": "",
      "children": [
       "IPY_MODEL_212fc570cc55460e92a0a8d2de764796",
       "IPY_MODEL_9356fe47ba2c433fa69ab2bdcf9d916e",
       "IPY_MODEL_175cb0f7b6cd4e92806273888fc60dbb"
      ],
      "layout": "IPY_MODEL_b7a6c995b6644083b4851ca8a439e9f7"
     }
    },
    "77c224b9b3074b92a347936e23f7ddff": {
     "model_module": "@jupyter-widgets/base",
     "model_module_version": "1.2.0",
     "model_name": "LayoutModel",
     "state": {
      "_model_module": "@jupyter-widgets/base",
      "_model_module_version": "1.2.0",
      "_model_name": "LayoutModel",
      "_view_count": null,
      "_view_module": "@jupyter-widgets/base",
      "_view_module_version": "1.2.0",
      "_view_name": "LayoutView",
      "align_content": null,
      "align_items": null,
      "align_self": null,
      "border": null,
      "bottom": null,
      "display": null,
      "flex": null,
      "flex_flow": null,
      "grid_area": null,
      "grid_auto_columns": null,
      "grid_auto_flow": null,
      "grid_auto_rows": null,
      "grid_column": null,
      "grid_gap": null,
      "grid_row": null,
      "grid_template_areas": null,
      "grid_template_columns": null,
      "grid_template_rows": null,
      "height": null,
      "justify_content": null,
      "justify_items": null,
      "left": null,
      "margin": null,
      "max_height": null,
      "max_width": null,
      "min_height": null,
      "min_width": null,
      "object_fit": null,
      "object_position": null,
      "order": null,
      "overflow": null,
      "overflow_x": null,
      "overflow_y": null,
      "padding": null,
      "right": null,
      "top": null,
      "visibility": null,
      "width": null
     }
    },
    "8cdcb15c1c304502b1af970f858548b5": {
     "model_module": "@jupyter-widgets/controls",
     "model_module_version": "1.5.0",
     "model_name": "DescriptionStyleModel",
     "state": {
      "_model_module": "@jupyter-widgets/controls",
      "_model_module_version": "1.5.0",
      "_model_name": "DescriptionStyleModel",
      "_view_count": null,
      "_view_module": "@jupyter-widgets/base",
      "_view_module_version": "1.2.0",
      "_view_name": "StyleView",
      "description_width": ""
     }
    },
    "8e644f5707e74ec6a42c4d1fcdd6e012": {
     "model_module": "@jupyter-widgets/base",
     "model_module_version": "1.2.0",
     "model_name": "LayoutModel",
     "state": {
      "_model_module": "@jupyter-widgets/base",
      "_model_module_version": "1.2.0",
      "_model_name": "LayoutModel",
      "_view_count": null,
      "_view_module": "@jupyter-widgets/base",
      "_view_module_version": "1.2.0",
      "_view_name": "LayoutView",
      "align_content": null,
      "align_items": null,
      "align_self": null,
      "border": null,
      "bottom": null,
      "display": null,
      "flex": null,
      "flex_flow": null,
      "grid_area": null,
      "grid_auto_columns": null,
      "grid_auto_flow": null,
      "grid_auto_rows": null,
      "grid_column": null,
      "grid_gap": null,
      "grid_row": null,
      "grid_template_areas": null,
      "grid_template_columns": null,
      "grid_template_rows": null,
      "height": null,
      "justify_content": null,
      "justify_items": null,
      "left": null,
      "margin": null,
      "max_height": null,
      "max_width": null,
      "min_height": null,
      "min_width": null,
      "object_fit": null,
      "object_position": null,
      "order": null,
      "overflow": null,
      "overflow_x": null,
      "overflow_y": null,
      "padding": null,
      "right": null,
      "top": null,
      "visibility": null,
      "width": null
     }
    },
    "9282ae6b55ec4646a7c62a73c7530577": {
     "model_module": "@jupyter-widgets/controls",
     "model_module_version": "1.5.0",
     "model_name": "FloatProgressModel",
     "state": {
      "_dom_classes": [],
      "_model_module": "@jupyter-widgets/controls",
      "_model_module_version": "1.5.0",
      "_model_name": "FloatProgressModel",
      "_view_count": null,
      "_view_module": "@jupyter-widgets/controls",
      "_view_module_version": "1.5.0",
      "_view_name": "ProgressView",
      "bar_style": "success",
      "description": "",
      "description_tooltip": null,
      "layout": "IPY_MODEL_13f43c9a1ed545f39da11609930165d3",
      "max": 1,
      "min": 0,
      "orientation": "horizontal",
      "style": "IPY_MODEL_3c837085f26849afba2ce0ef3feda3c6",
      "value": 1
     }
    },
    "9356fe47ba2c433fa69ab2bdcf9d916e": {
     "model_module": "@jupyter-widgets/controls",
     "model_module_version": "1.5.0",
     "model_name": "FloatProgressModel",
     "state": {
      "_dom_classes": [],
      "_model_module": "@jupyter-widgets/controls",
      "_model_module_version": "1.5.0",
      "_model_name": "FloatProgressModel",
      "_view_count": null,
      "_view_module": "@jupyter-widgets/controls",
      "_view_module_version": "1.5.0",
      "_view_name": "ProgressView",
      "bar_style": "success",
      "description": "",
      "description_tooltip": null,
      "layout": "IPY_MODEL_11df036df43e49fa87426a3224c490b4",
      "max": 10,
      "min": 0,
      "orientation": "horizontal",
      "style": "IPY_MODEL_0f0d33ab0fd548e180418288a1bdb5c4",
      "value": 10
     }
    },
    "998bc029972a4ba4b496c0754c455b26": {
     "model_module": "@jupyter-widgets/base",
     "model_module_version": "1.2.0",
     "model_name": "LayoutModel",
     "state": {
      "_model_module": "@jupyter-widgets/base",
      "_model_module_version": "1.2.0",
      "_model_name": "LayoutModel",
      "_view_count": null,
      "_view_module": "@jupyter-widgets/base",
      "_view_module_version": "1.2.0",
      "_view_name": "LayoutView",
      "align_content": null,
      "align_items": null,
      "align_self": null,
      "border": null,
      "bottom": null,
      "display": null,
      "flex": null,
      "flex_flow": null,
      "grid_area": null,
      "grid_auto_columns": null,
      "grid_auto_flow": null,
      "grid_auto_rows": null,
      "grid_column": null,
      "grid_gap": null,
      "grid_row": null,
      "grid_template_areas": null,
      "grid_template_columns": null,
      "grid_template_rows": null,
      "height": null,
      "justify_content": null,
      "justify_items": null,
      "left": null,
      "margin": null,
      "max_height": null,
      "max_width": null,
      "min_height": null,
      "min_width": null,
      "object_fit": null,
      "object_position": null,
      "order": null,
      "overflow": null,
      "overflow_x": null,
      "overflow_y": null,
      "padding": null,
      "right": null,
      "top": null,
      "visibility": null,
      "width": null
     }
    },
    "a0ffaedc428c4e91a0a9a24ef4ddeadb": {
     "model_module": "@jupyter-widgets/controls",
     "model_module_version": "1.5.0",
     "model_name": "HTMLModel",
     "state": {
      "_dom_classes": [],
      "_model_module": "@jupyter-widgets/controls",
      "_model_module_version": "1.5.0",
      "_model_name": "HTMLModel",
      "_view_count": null,
      "_view_module": "@jupyter-widgets/controls",
      "_view_module_version": "1.5.0",
      "_view_name": "HTMLView",
      "description": "",
      "description_tooltip": null,
      "layout": "IPY_MODEL_21951c6578a548ccaae2e7bf88ed78fc",
      "placeholder": "​",
      "style": "IPY_MODEL_bf6b4055433d43318e4a6e2b6c7f154c",
      "value": "Best trial: 2. Best value: 4.05238:  30%"
     }
    },
    "b43d0475c8d24deaa1f87a97e34d722e": {
     "model_module": "@jupyter-widgets/base",
     "model_module_version": "1.2.0",
     "model_name": "LayoutModel",
     "state": {
      "_model_module": "@jupyter-widgets/base",
      "_model_module_version": "1.2.0",
      "_model_name": "LayoutModel",
      "_view_count": null,
      "_view_module": "@jupyter-widgets/base",
      "_view_module_version": "1.2.0",
      "_view_name": "LayoutView",
      "align_content": null,
      "align_items": null,
      "align_self": null,
      "border": null,
      "bottom": null,
      "display": null,
      "flex": null,
      "flex_flow": null,
      "grid_area": null,
      "grid_auto_columns": null,
      "grid_auto_flow": null,
      "grid_auto_rows": null,
      "grid_column": null,
      "grid_gap": null,
      "grid_row": null,
      "grid_template_areas": null,
      "grid_template_columns": null,
      "grid_template_rows": null,
      "height": null,
      "justify_content": null,
      "justify_items": null,
      "left": null,
      "margin": null,
      "max_height": null,
      "max_width": null,
      "min_height": null,
      "min_width": null,
      "object_fit": null,
      "object_position": null,
      "order": null,
      "overflow": null,
      "overflow_x": null,
      "overflow_y": null,
      "padding": null,
      "right": null,
      "top": null,
      "visibility": null,
      "width": null
     }
    },
    "b7a6c995b6644083b4851ca8a439e9f7": {
     "model_module": "@jupyter-widgets/base",
     "model_module_version": "1.2.0",
     "model_name": "LayoutModel",
     "state": {
      "_model_module": "@jupyter-widgets/base",
      "_model_module_version": "1.2.0",
      "_model_name": "LayoutModel",
      "_view_count": null,
      "_view_module": "@jupyter-widgets/base",
      "_view_module_version": "1.2.0",
      "_view_name": "LayoutView",
      "align_content": null,
      "align_items": null,
      "align_self": null,
      "border": null,
      "bottom": null,
      "display": null,
      "flex": null,
      "flex_flow": null,
      "grid_area": null,
      "grid_auto_columns": null,
      "grid_auto_flow": null,
      "grid_auto_rows": null,
      "grid_column": null,
      "grid_gap": null,
      "grid_row": null,
      "grid_template_areas": null,
      "grid_template_columns": null,
      "grid_template_rows": null,
      "height": null,
      "justify_content": null,
      "justify_items": null,
      "left": null,
      "margin": null,
      "max_height": null,
      "max_width": null,
      "min_height": null,
      "min_width": null,
      "object_fit": null,
      "object_position": null,
      "order": null,
      "overflow": null,
      "overflow_x": null,
      "overflow_y": null,
      "padding": null,
      "right": null,
      "top": null,
      "visibility": null,
      "width": null
     }
    },
    "bf6b4055433d43318e4a6e2b6c7f154c": {
     "model_module": "@jupyter-widgets/controls",
     "model_module_version": "1.5.0",
     "model_name": "DescriptionStyleModel",
     "state": {
      "_model_module": "@jupyter-widgets/controls",
      "_model_module_version": "1.5.0",
      "_model_name": "DescriptionStyleModel",
      "_view_count": null,
      "_view_module": "@jupyter-widgets/base",
      "_view_module_version": "1.2.0",
      "_view_name": "StyleView",
      "description_width": ""
     }
    },
    "e35e41ca0e074a43a721aab87d3ec405": {
     "model_module": "@jupyter-widgets/controls",
     "model_module_version": "1.5.0",
     "model_name": "HBoxModel",
     "state": {
      "_dom_classes": [],
      "_model_module": "@jupyter-widgets/controls",
      "_model_module_version": "1.5.0",
      "_model_name": "HBoxModel",
      "_view_count": null,
      "_view_module": "@jupyter-widgets/controls",
      "_view_module_version": "1.5.0",
      "_view_name": "HBoxView",
      "box_style": "",
      "children": [
       "IPY_MODEL_a0ffaedc428c4e91a0a9a24ef4ddeadb",
       "IPY_MODEL_4f85a514337442e9b3690dec94b7f020",
       "IPY_MODEL_70b38b66bd934c2b8df14edd957ee786"
      ],
      "layout": "IPY_MODEL_ed3a6f1a24d049cdb3f2cada234b5006"
     }
    },
    "ed3a6f1a24d049cdb3f2cada234b5006": {
     "model_module": "@jupyter-widgets/base",
     "model_module_version": "1.2.0",
     "model_name": "LayoutModel",
     "state": {
      "_model_module": "@jupyter-widgets/base",
      "_model_module_version": "1.2.0",
      "_model_name": "LayoutModel",
      "_view_count": null,
      "_view_module": "@jupyter-widgets/base",
      "_view_module_version": "1.2.0",
      "_view_name": "LayoutView",
      "align_content": null,
      "align_items": null,
      "align_self": null,
      "border": null,
      "bottom": null,
      "display": null,
      "flex": null,
      "flex_flow": null,
      "grid_area": null,
      "grid_auto_columns": null,
      "grid_auto_flow": null,
      "grid_auto_rows": null,
      "grid_column": null,
      "grid_gap": null,
      "grid_row": null,
      "grid_template_areas": null,
      "grid_template_columns": null,
      "grid_template_rows": null,
      "height": null,
      "justify_content": null,
      "justify_items": null,
      "left": null,
      "margin": null,
      "max_height": null,
      "max_width": null,
      "min_height": null,
      "min_width": null,
      "object_fit": null,
      "object_position": null,
      "order": null,
      "overflow": null,
      "overflow_x": null,
      "overflow_y": null,
      "padding": null,
      "right": null,
      "top": null,
      "visibility": null,
      "width": null
     }
    },
    "f8dd59e9a52d4901932ffc637ad040d3": {
     "model_module": "@jupyter-widgets/controls",
     "model_module_version": "1.5.0",
     "model_name": "DescriptionStyleModel",
     "state": {
      "_model_module": "@jupyter-widgets/controls",
      "_model_module_version": "1.5.0",
      "_model_name": "DescriptionStyleModel",
      "_view_count": null,
      "_view_module": "@jupyter-widgets/base",
      "_view_module_version": "1.2.0",
      "_view_name": "StyleView",
      "description_width": ""
     }
    }
   }
  }
 },
 "nbformat": 4,
 "nbformat_minor": 1
}