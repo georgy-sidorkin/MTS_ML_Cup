{
 "cells": [
  {
   "cell_type": "markdown",
   "metadata": {
    "id": "D6WRlcEPvll9"
   },
   "source": [
    "# Импорт библиотек"
   ]
  },
  {
   "cell_type": "code",
   "source": [
    "from google.colab import drive\n",
    "drive.mount('/content/drive')"
   ],
   "metadata": {
    "colab": {
     "base_uri": "https://localhost:8080/"
    },
    "id": "VovGunKG6Vel",
    "executionInfo": {
     "status": "ok",
     "timestamp": 1680807155401,
     "user_tz": -240,
     "elapsed": 22608,
     "user": {
      "displayName": "Гоша Сидоркин",
      "userId": "09429149278087224251"
     }
    },
    "outputId": "c04d3a9a-f4ee-4879-e5b0-9e0b06155516"
   },
   "execution_count": 2,
   "outputs": [
    {
     "output_type": "stream",
     "name": "stdout",
     "text": [
      "Mounted at /content/drive\n"
     ]
    }
   ]
  },
  {
   "cell_type": "code",
   "execution_count": 3,
   "outputs": [
    {
     "output_type": "stream",
     "name": "stdout",
     "text": [
      "/content/drive/MyDrive/MTS ML Cup\n"
     ]
    }
   ],
   "source": [
    "%cd /content/drive/MyDrive/MTS ML Cup"
   ],
   "metadata": {
    "pycharm": {
     "name": "#%%\n"
    },
    "colab": {
     "base_uri": "https://localhost:8080/"
    },
    "id": "GsJ6pN0L6DLq",
    "executionInfo": {
     "status": "ok",
     "timestamp": 1680807155762,
     "user_tz": -240,
     "elapsed": 2,
     "user": {
      "displayName": "Гоша Сидоркин",
      "userId": "09429149278087224251"
     }
    },
    "outputId": "f6bdd693-9efb-46a9-aebc-247510c669d9"
   }
  },
  {
   "cell_type": "code",
   "execution_count": 4,
   "metadata": {
    "id": "cB7JubZOIi6y",
    "executionInfo": {
     "status": "ok",
     "timestamp": 1680807160914,
     "user_tz": -240,
     "elapsed": 6,
     "user": {
      "displayName": "Гоша Сидоркин",
      "userId": "09429149278087224251"
     }
    }
   },
   "outputs": [],
   "source": [
    "import os\n",
    "import warnings\n",
    "os.environ['OPENBLAS_NUM_THREADS'] = '1'\n",
    "warnings.filterwarnings('ignore')"
   ]
  },
  {
   "cell_type": "code",
   "execution_count": null,
   "outputs": [],
   "source": [
    "!pip install implicit"
   ],
   "metadata": {
    "pycharm": {
     "name": "#%%\n"
    },
    "id": "bpEMO-bg6DLu"
   }
  },
  {
   "cell_type": "code",
   "execution_count": null,
   "outputs": [],
   "source": [
    "!pip install catboost"
   ],
   "metadata": {
    "pycharm": {
     "name": "#%%\n"
    },
    "id": "jFt-PPC06DLu"
   }
  },
  {
   "cell_type": "code",
   "source": [
    "!pip install polars"
   ],
   "metadata": {
    "id": "_eJ5GHykDsA8"
   },
   "execution_count": null,
   "outputs": []
  },
  {
   "cell_type": "code",
   "execution_count": 13,
   "metadata": {
    "id": "-fzaCg_3X41L",
    "executionInfo": {
     "status": "ok",
     "timestamp": 1680809584948,
     "user_tz": -240,
     "elapsed": 2308,
     "user": {
      "displayName": "Гоша Сидоркин",
      "userId": "09429149278087224251"
     }
    }
   },
   "outputs": [],
   "source": [
    "import pandas as pd\n",
    "import numpy as np\n",
    "import scipy\n",
    "import implicit\n",
    "import polars as pl"
   ]
  },
  {
   "cell_type": "code",
   "execution_count": null,
   "metadata": {
    "id": "4S7DqeSDX5BX"
   },
   "outputs": [],
   "source": [
    "!pip install feather-format >> none"
   ]
  },
  {
   "cell_type": "code",
   "execution_count": 14,
   "metadata": {
    "id": "MdC7ywE2YTHN",
    "executionInfo": {
     "status": "ok",
     "timestamp": 1680809588858,
     "user_tz": -240,
     "elapsed": 497,
     "user": {
      "displayName": "Гоша Сидоркин",
      "userId": "09429149278087224251"
     }
    }
   },
   "outputs": [],
   "source": [
    "RAND = 42"
   ]
  },
  {
   "cell_type": "markdown",
   "source": [
    "# Описание задачи"
   ],
   "metadata": {
    "id": "Z3PrdPTX6gnm"
   }
  },
  {
   "cell_type": "markdown",
   "source": [
    "**В данном jupyter-ноутбуке на основании признаков url_host, region_name, city_name, cpe_model_name мы будем создавать векторные пространства (эмбеддинги), чтобы сравнивать схожесть пользователей по новым полученным признакам и в дальнейшем использовать эти эмбеддинги, как признаки для наших моделей**"
   ],
   "metadata": {
    "collapsed": false
   }
  },
  {
   "cell_type": "markdown",
   "source": [
    "## О соревновании и данных"
   ],
   "metadata": {
    "id": "xaTlnsAb6oGN"
   }
  },
  {
   "cell_type": "markdown",
   "source": [
    "https://ods.ai/competitions/mtsmlcup\n",
    "\n",
    "Задача соревнования\n",
    "- Определение пола и возраста владельца HTTP cookie по истории активности пользователя в интернете на основе синтетических данных.\n",
    "\n",
    "Метрики соревнования:\n",
    "* ROC-AUC – для определения пола, f1 weighted – для определения возраста.\n",
    "* Все решения рассчитываются по формуле -  2 * f1_weighted(по 6 возрастным бакетам) + gini по полу.\n",
    "* Возрастные бакеты (Класс 1 — 19-25, Класс 2 — 26-35, Класс 3 — 36-45, Класс 4 — 46-55, Класс 5 — 56-65, Класс 6 — 66+).\n",
    "\n",
    "**Данные с признаками для этой части скачаны с:**\n",
    "* https://www.kaggle.com/datasets/nfedorov/mts-ml-cookies\n",
    "\n",
    "**Это те же сырые данные, но в формате feather.**\n",
    "\n",
    "Описание колонок файла с данными:\n",
    "* 'region_name' – Регион\n",
    "* 'city_name' – Населенный пункт\n",
    "* 'cpe_manufacturer_name' – Производитель устройства\n",
    "* 'cpe_model_name' – Модель устройства\n",
    "* 'url_host' – Домен, с которого пришел рекламный запрос\n",
    "* 'cpe_type_cd' – Тип устройства (смартфон или что-то другое)\n",
    "* 'Cpe_model_os_type' – Операционка на устройстве\n",
    "* 'price' – Оценка цены устройства\n",
    "* 'date' – Дата\n",
    "* 'part_of_day' – Время дня (утро, вечер, и тд)\n",
    "* 'request_cnt' – Число запросов одного пользователя за время дня (поле part_of_day)\n",
    "* 'user_id' – ID пользователя\n",
    "\n",
    "Описание колонок файла с таргетами:\n",
    "\n",
    "* 'age' – Возраст пользователя\n",
    "* 'is_male' – Признак пользователя : мужчина (1-Да, 0-Нет)\n",
    "* 'user_id' – ID пользователя"
   ],
   "metadata": {
    "id": "Jyil2Hr16rIN"
   }
  },
  {
   "cell_type": "markdown",
   "source": [
    "## Структура проекта"
   ],
   "metadata": {
    "id": "9xo5Agzc6rFM"
   }
  },
  {
   "cell_type": "markdown",
   "source": [
    "Данная работа была разделена на несколько jupyter ноутбуков:\n",
    "\n",
    "0. Data_preparing.ipnb - аггрегация отдельных файлов по user_id и склейка в финальный датасет\n",
    "1. EDA.ipynb - исследовательская часть\n",
    "2. baseline.ipynb - бейзлайн модели\n",
    "3. create_embeddings.ipynb - создание эмбеддингов для дальнейшего их использования в качестве фич\n",
    "4. baseline_embeddings.ipynb - бейзлан модели с эмбеддингами\n",
    "5. model_tuning.ipynb - тюнинг наиболее перспективных моделей\n",
    "6. gender_prediction_stacking.ipynb - стекинг моделей для предсказания пола"
   ],
   "metadata": {
    "id": "TW9j05qa6rCQ"
   }
  },
  {
   "cell_type": "markdown",
   "metadata": {
    "id": "ERA5N51pvrPZ"
   },
   "source": [
    "# Загрузка и обработка данных"
   ]
  },
  {
   "cell_type": "code",
   "execution_count": 8,
   "metadata": {
    "id": "7AiHE6L1YTQw",
    "colab": {
     "base_uri": "https://localhost:8080/",
     "height": 257
    },
    "executionInfo": {
     "status": "ok",
     "timestamp": 1680809438320,
     "user_tz": -240,
     "elapsed": 25056,
     "user": {
      "displayName": "Гоша Сидоркин",
      "userId": "09429149278087224251"
     }
    },
    "outputId": "63ed0576-4a13-488f-a72c-487d3d64aacf"
   },
   "outputs": [
    {
     "output_type": "execute_result",
     "data": {
      "text/plain": [
       "          region_name  city_name cpe_manufacturer_name cpe_model_name  \\\n",
       "0  Краснодарский край  Краснодар                 Apple       iPhone 7   \n",
       "1  Краснодарский край  Краснодар                 Apple       iPhone 7   \n",
       "2  Краснодарский край  Краснодар                 Apple       iPhone 7   \n",
       "\n",
       "                 url_host cpe_type_cd cpe_model_os_type    price       date  \\\n",
       "0           ad.adriver.ru  smartphone               iOS  20368.0 2022-06-15   \n",
       "1               apple.com  smartphone               iOS  20368.0 2022-06-19   \n",
       "2  avatars.mds.yandex.net  smartphone               iOS  20368.0 2022-06-12   \n",
       "\n",
       "  part_of_day  request_cnt  user_id  \n",
       "0     morning            1    45098  \n",
       "1     morning            1    45098  \n",
       "2         day            1    45098  "
      ],
      "text/html": [
       "\n",
       "  <div id=\"df-d2fd85f1-5095-43ff-9995-dbfb9b07c5e0\">\n",
       "    <div class=\"colab-df-container\">\n",
       "      <div>\n",
       "<style scoped>\n",
       "    .dataframe tbody tr th:only-of-type {\n",
       "        vertical-align: middle;\n",
       "    }\n",
       "\n",
       "    .dataframe tbody tr th {\n",
       "        vertical-align: top;\n",
       "    }\n",
       "\n",
       "    .dataframe thead th {\n",
       "        text-align: right;\n",
       "    }\n",
       "</style>\n",
       "<table border=\"1\" class=\"dataframe\">\n",
       "  <thead>\n",
       "    <tr style=\"text-align: right;\">\n",
       "      <th></th>\n",
       "      <th>region_name</th>\n",
       "      <th>city_name</th>\n",
       "      <th>cpe_manufacturer_name</th>\n",
       "      <th>cpe_model_name</th>\n",
       "      <th>url_host</th>\n",
       "      <th>cpe_type_cd</th>\n",
       "      <th>cpe_model_os_type</th>\n",
       "      <th>price</th>\n",
       "      <th>date</th>\n",
       "      <th>part_of_day</th>\n",
       "      <th>request_cnt</th>\n",
       "      <th>user_id</th>\n",
       "    </tr>\n",
       "  </thead>\n",
       "  <tbody>\n",
       "    <tr>\n",
       "      <th>0</th>\n",
       "      <td>Краснодарский край</td>\n",
       "      <td>Краснодар</td>\n",
       "      <td>Apple</td>\n",
       "      <td>iPhone 7</td>\n",
       "      <td>ad.adriver.ru</td>\n",
       "      <td>smartphone</td>\n",
       "      <td>iOS</td>\n",
       "      <td>20368.0</td>\n",
       "      <td>2022-06-15</td>\n",
       "      <td>morning</td>\n",
       "      <td>1</td>\n",
       "      <td>45098</td>\n",
       "    </tr>\n",
       "    <tr>\n",
       "      <th>1</th>\n",
       "      <td>Краснодарский край</td>\n",
       "      <td>Краснодар</td>\n",
       "      <td>Apple</td>\n",
       "      <td>iPhone 7</td>\n",
       "      <td>apple.com</td>\n",
       "      <td>smartphone</td>\n",
       "      <td>iOS</td>\n",
       "      <td>20368.0</td>\n",
       "      <td>2022-06-19</td>\n",
       "      <td>morning</td>\n",
       "      <td>1</td>\n",
       "      <td>45098</td>\n",
       "    </tr>\n",
       "    <tr>\n",
       "      <th>2</th>\n",
       "      <td>Краснодарский край</td>\n",
       "      <td>Краснодар</td>\n",
       "      <td>Apple</td>\n",
       "      <td>iPhone 7</td>\n",
       "      <td>avatars.mds.yandex.net</td>\n",
       "      <td>smartphone</td>\n",
       "      <td>iOS</td>\n",
       "      <td>20368.0</td>\n",
       "      <td>2022-06-12</td>\n",
       "      <td>day</td>\n",
       "      <td>1</td>\n",
       "      <td>45098</td>\n",
       "    </tr>\n",
       "  </tbody>\n",
       "</table>\n",
       "</div>\n",
       "      <button class=\"colab-df-convert\" onclick=\"convertToInteractive('df-d2fd85f1-5095-43ff-9995-dbfb9b07c5e0')\"\n",
       "              title=\"Convert this dataframe to an interactive table.\"\n",
       "              style=\"display:none;\">\n",
       "        \n",
       "  <svg xmlns=\"http://www.w3.org/2000/svg\" height=\"24px\"viewBox=\"0 0 24 24\"\n",
       "       width=\"24px\">\n",
       "    <path d=\"M0 0h24v24H0V0z\" fill=\"none\"/>\n",
       "    <path d=\"M18.56 5.44l.94 2.06.94-2.06 2.06-.94-2.06-.94-.94-2.06-.94 2.06-2.06.94zm-11 1L8.5 8.5l.94-2.06 2.06-.94-2.06-.94L8.5 2.5l-.94 2.06-2.06.94zm10 10l.94 2.06.94-2.06 2.06-.94-2.06-.94-.94-2.06-.94 2.06-2.06.94z\"/><path d=\"M17.41 7.96l-1.37-1.37c-.4-.4-.92-.59-1.43-.59-.52 0-1.04.2-1.43.59L10.3 9.45l-7.72 7.72c-.78.78-.78 2.05 0 2.83L4 21.41c.39.39.9.59 1.41.59.51 0 1.02-.2 1.41-.59l7.78-7.78 2.81-2.81c.8-.78.8-2.07 0-2.86zM5.41 20L4 18.59l7.72-7.72 1.47 1.35L5.41 20z\"/>\n",
       "  </svg>\n",
       "      </button>\n",
       "      \n",
       "  <style>\n",
       "    .colab-df-container {\n",
       "      display:flex;\n",
       "      flex-wrap:wrap;\n",
       "      gap: 12px;\n",
       "    }\n",
       "\n",
       "    .colab-df-convert {\n",
       "      background-color: #E8F0FE;\n",
       "      border: none;\n",
       "      border-radius: 50%;\n",
       "      cursor: pointer;\n",
       "      display: none;\n",
       "      fill: #1967D2;\n",
       "      height: 32px;\n",
       "      padding: 0 0 0 0;\n",
       "      width: 32px;\n",
       "    }\n",
       "\n",
       "    .colab-df-convert:hover {\n",
       "      background-color: #E2EBFA;\n",
       "      box-shadow: 0px 1px 2px rgba(60, 64, 67, 0.3), 0px 1px 3px 1px rgba(60, 64, 67, 0.15);\n",
       "      fill: #174EA6;\n",
       "    }\n",
       "\n",
       "    [theme=dark] .colab-df-convert {\n",
       "      background-color: #3B4455;\n",
       "      fill: #D2E3FC;\n",
       "    }\n",
       "\n",
       "    [theme=dark] .colab-df-convert:hover {\n",
       "      background-color: #434B5C;\n",
       "      box-shadow: 0px 1px 3px 1px rgba(0, 0, 0, 0.15);\n",
       "      filter: drop-shadow(0px 1px 2px rgba(0, 0, 0, 0.3));\n",
       "      fill: #FFFFFF;\n",
       "    }\n",
       "  </style>\n",
       "\n",
       "      <script>\n",
       "        const buttonEl =\n",
       "          document.querySelector('#df-d2fd85f1-5095-43ff-9995-dbfb9b07c5e0 button.colab-df-convert');\n",
       "        buttonEl.style.display =\n",
       "          google.colab.kernel.accessAllowed ? 'block' : 'none';\n",
       "\n",
       "        async function convertToInteractive(key) {\n",
       "          const element = document.querySelector('#df-d2fd85f1-5095-43ff-9995-dbfb9b07c5e0');\n",
       "          const dataTable =\n",
       "            await google.colab.kernel.invokeFunction('convertToInteractive',\n",
       "                                                     [key], {});\n",
       "          if (!dataTable) return;\n",
       "\n",
       "          const docLinkHtml = 'Like what you see? Visit the ' +\n",
       "            '<a target=\"_blank\" href=https://colab.research.google.com/notebooks/data_table.ipynb>data table notebook</a>'\n",
       "            + ' to learn more about interactive tables.';\n",
       "          element.innerHTML = '';\n",
       "          dataTable['output_type'] = 'display_data';\n",
       "          await google.colab.output.renderOutput(dataTable, element);\n",
       "          const docLink = document.createElement('div');\n",
       "          docLink.innerHTML = docLinkHtml;\n",
       "          element.appendChild(docLink);\n",
       "        }\n",
       "      </script>\n",
       "    </div>\n",
       "  </div>\n",
       "  "
      ]
     },
     "metadata": {},
     "execution_count": 8
    }
   ],
   "source": [
    "# сырые данные с признаками\n",
    "data = pd.read_feather('dataset_full.feather')\n",
    "data.head(3)"
   ]
  },
  {
   "cell_type": "code",
   "source": [
    "# мы будем делать эмбеддинги по признакам \n",
    "# url_host, cpe_model_name, region_name, city_name\n",
    "# поэтому оставим только их, чтобы экономить память\n",
    "data = data[['user_id', 'url_host', 'cpe_model_name', \n",
    "             'region_name', 'city_name', 'request_cnt']]"
   ],
   "metadata": {
    "id": "GRBsU3scGuvp",
    "executionInfo": {
     "status": "ok",
     "timestamp": 1680810731612,
     "user_tz": -240,
     "elapsed": 1660,
     "user": {
      "displayName": "Гоша Сидоркин",
      "userId": "09429149278087224251"
     }
    }
   },
   "execution_count": 16,
   "outputs": []
  },
  {
   "cell_type": "code",
   "execution_count": 17,
   "metadata": {
    "colab": {
     "base_uri": "https://localhost:8080/"
    },
    "executionInfo": {
     "elapsed": 494,
     "status": "ok",
     "timestamp": 1680810736527,
     "user": {
      "displayName": "Гоша Сидоркин",
      "userId": "09429149278087224251"
     },
     "user_tz": -240
    },
    "id": "-6RJiHbnX5Dt",
    "outputId": "17a0bd26-4e9e-487d-a61a-0a7a565d3101"
   },
   "outputs": [
    {
     "output_type": "stream",
     "name": "stdout",
     "text": [
      "<class 'pandas.core.frame.DataFrame'>\n",
      "RangeIndex: 322899435 entries, 0 to 322899434\n",
      "Data columns (total 6 columns):\n",
      " #   Column          Dtype   \n",
      "---  ------          -----   \n",
      " 0   user_id         int32   \n",
      " 1   url_host        category\n",
      " 2   cpe_model_name  category\n",
      " 3   region_name     category\n",
      " 4   city_name       category\n",
      " 5   request_cnt     int8    \n",
      "dtypes: category(4), int32(1), int8(1)\n",
      "memory usage: 4.2 GB\n"
     ]
    }
   ],
   "source": [
    "data.info()"
   ]
  },
  {
   "cell_type": "code",
   "execution_count": 18,
   "metadata": {
    "id": "wPTWHnj_X5Fz",
    "executionInfo": {
     "status": "ok",
     "timestamp": 1680810859426,
     "user_tz": -240,
     "elapsed": 4535,
     "user": {
      "displayName": "Гоша Сидоркин",
      "userId": "09429149278087224251"
     }
    }
   },
   "outputs": [],
   "source": [
    "# кодировка категориальных переменных\n",
    "data['region_name'] = data['region_name'].cat.codes\n",
    "data['city_name'] = data['city_name'].cat.codes\n",
    "data['cpe_model_name'] = data['cpe_model_name'].cat.codes\n",
    "data['url_host'] = data['url_host'].cat.codes"
   ]
  },
  {
   "cell_type": "code",
   "execution_count": 19,
   "metadata": {
    "colab": {
     "base_uri": "https://localhost:8080/"
    },
    "executionInfo": {
     "elapsed": 10,
     "status": "ok",
     "timestamp": 1680810862152,
     "user": {
      "displayName": "Гоша Сидоркин",
      "userId": "09429149278087224251"
     },
     "user_tz": -240
    },
    "id": "vWEQ72NrX5IJ",
    "outputId": "f0995d8d-c0d0-412a-e5e5-9946d2e44bb0"
   },
   "outputs": [
    {
     "output_type": "stream",
     "name": "stdout",
     "text": [
      "<class 'pandas.core.frame.DataFrame'>\n",
      "RangeIndex: 322899435 entries, 0 to 322899434\n",
      "Data columns (total 6 columns):\n",
      " #   Column          Dtype\n",
      "---  ------          -----\n",
      " 0   user_id         int32\n",
      " 1   url_host        int32\n",
      " 2   cpe_model_name  int16\n",
      " 3   region_name     int8 \n",
      " 4   city_name       int16\n",
      " 5   request_cnt     int8 \n",
      "dtypes: int16(2), int32(2), int8(2)\n",
      "memory usage: 4.2 GB\n"
     ]
    }
   ],
   "source": [
    "data.info()"
   ]
  },
  {
   "cell_type": "code",
   "execution_count": null,
   "metadata": {
    "id": "8lZeyg2CJmLX"
   },
   "outputs": [],
   "source": [
    "# переведем данные в формат polars dataframe\n",
    "data = pl.from_pandas(data)"
   ]
  },
  {
   "cell_type": "markdown",
   "metadata": {
    "id": "auA1wtLiStN-"
   },
   "source": [
    "## Embeddings по URL\n",
    "Создаем эмбеддинги по url, чтобы в дальнейшем использовать их, как фичи"
   ]
  },
  {
   "cell_type": "code",
   "execution_count": null,
   "metadata": {
    "colab": {
     "base_uri": "https://localhost:8080/"
    },
    "executionInfo": {
     "elapsed": 5676,
     "status": "ok",
     "timestamp": 1678811144130,
     "user": {
      "displayName": "Гоша Сидоркин",
      "userId": "09429149278087224251"
     },
     "user_tz": -240
    },
    "id": "efz-Uu3vcWKS",
    "outputId": "ae6a197b-9da7-4085-b0f7-5175a08e0a53"
   },
   "outputs": [
    {
     "name": "stdout",
     "output_type": "stream",
     "text": [
      "Looking in indexes: https://pypi.org/simple, https://us-python.pkg.dev/colab-wheels/public/simple/\n",
      "Requirement already satisfied: faiss-cpu in /usr/local/lib/python3.9/dist-packages (1.7.3)\n"
     ]
    }
   ],
   "source": [
    "!pip install faiss-cpu --no-cache"
   ]
  },
  {
   "cell_type": "code",
   "execution_count": null,
   "metadata": {
    "id": "GPvmylwdcCx-"
   },
   "outputs": [],
   "source": [
    "# считаем кол-во запросов пользователей по url\n",
    "data_agg = data.groupby(['user_id', 'url_host'],\n",
    "                        maintain_order=True).agg(pl.sum(\"request_cnt\"))"
   ]
  },
  {
   "cell_type": "code",
   "execution_count": null,
   "metadata": {
    "colab": {
     "base_uri": "https://localhost:8080/"
    },
    "executionInfo": {
     "elapsed": 8113,
     "status": "ok",
     "timestamp": 1678810070515,
     "user": {
      "displayName": "Гоша Сидоркин",
      "userId": "09429149278087224251"
     },
     "user_tz": -240
    },
    "id": "GTmbHWu7cSSH",
    "outputId": "491ef608-705a-4aca-e407-185674567e7f"
   },
   "outputs": [
    {
     "name": "stdout",
     "output_type": "stream",
     "text": [
      "199683 urls\n",
      "415317 users\n"
     ]
    }
   ],
   "source": [
    "# кол-во уникальных url\n",
    "url_set = set(data_agg['url_host'].to_pandas())\n",
    "print(f'{len(url_set)} urls')\n",
    "url_dict = {url: idurl for url, idurl in zip(url_set, range(len(url_set)))}\n",
    "\n",
    "# кол-во уникальных пользователей\n",
    "usr_set = set(data_agg['user_id'].to_pandas())\n",
    "print(f'{len(usr_set)} users')\n",
    "usr_dict = {usr: user_id for usr, user_id in zip(usr_set, range(len(usr_set)))}"
   ]
  },
  {
   "cell_type": "code",
   "execution_count": null,
   "metadata": {
    "colab": {
     "base_uri": "https://localhost:8080/"
    },
    "executionInfo": {
     "elapsed": 4097,
     "status": "ok",
     "timestamp": 1678812426732,
     "user": {
      "displayName": "Гоша Сидоркин",
      "userId": "09429149278087224251"
     },
     "user_tz": -240
    },
    "id": "9J1TFLEmcZde",
    "outputId": "8bb6ee10-7475-4efe-ceed-7b9a800f1c2d"
   },
   "outputs": [
    {
     "name": "stdout",
     "output_type": "stream",
     "text": [
      "CPU times: user 2.71 s, sys: 967 ms, total: 3.68 s\n",
      "Wall time: 3.78 s\n"
     ]
    }
   ],
   "source": [
    "# создаем матрицу взаимодействия пользователя с url\n",
    "%%time\n",
    "values = np.array(data_agg['request_cnt'].to_pandas())\n",
    "rows = np.array(data_agg['user_id'].to_pandas().map(usr_dict))\n",
    "cols = np.array(data_agg['url_host'].to_pandas().map(url_dict))\n",
    "mat = scipy.sparse.coo_matrix((values, (rows, cols)),\n",
    "                              shape=(rows.max() + 1, cols.max() + 1))\n",
    "als = implicit.approximate_als.FaissAlternatingLeastSquares(\n",
    "    factors=150,\n",
    "    iterations=50,\n",
    "    use_gpu=False,\n",
    "    calculate_training_loss=True,\n",
    "    regularization=0.1)"
   ]
  },
  {
   "cell_type": "code",
   "execution_count": null,
   "outputs": [],
   "source": [
    "%%time\n",
    "als.fit(mat)"
   ],
   "metadata": {
    "pycharm": {
     "name": "#%%\n"
    },
    "id": "Ht6ms3bc6DL6"
   }
  },
  {
   "cell_type": "code",
   "execution_count": null,
   "metadata": {
    "id": "bp9AB801aHw_"
   },
   "outputs": [],
   "source": [
    "u_factors = als.model.user_factors\n",
    "d_factors = als.model.item_factors"
   ]
  },
  {
   "cell_type": "code",
   "execution_count": null,
   "metadata": {
    "id": "2q7zWsUQaKMw"
   },
   "outputs": [],
   "source": [
    "# соотносим полученные признаки с user_id\n",
    "%%time\n",
    "inv_usr_map = {v: k for k, v in usr_dict.items()}\n",
    "usr_emb = pd.DataFrame(u_factors)\n",
    "usr_emb['user_id'] = usr_emb.index.map(inv_usr_map)"
   ]
  },
  {
   "cell_type": "code",
   "execution_count": null,
   "metadata": {
    "id": "zBysX7gZaRQT"
   },
   "outputs": [],
   "source": [
    "# сохраняем полученные признаки\n",
    "usr_emb.to_csv('embeddings/url_emb.csv', index=False)"
   ]
  },
  {
   "cell_type": "markdown",
   "metadata": {
    "id": "qQ7KZFP3SynS"
   },
   "source": [
    "## Embeddings по region_name\n",
    "Создаем эмбеддинги по региону, чтобы в дальнейшем использовать их, как фичи"
   ]
  },
  {
   "cell_type": "code",
   "execution_count": null,
   "metadata": {
    "id": "e9TDo4vXSsQf"
   },
   "outputs": [],
   "source": [
    "# считаем кол-во запросов пользователей по регионам\n",
    "data_agg_reg = data.groupby(['user_id', 'region_name'], maintain_order=True) \\\n",
    "    .agg(pl.sum(\"request_cnt\"))"
   ]
  },
  {
   "cell_type": "code",
   "execution_count": null,
   "metadata": {
    "colab": {
     "base_uri": "https://localhost:8080/"
    },
    "executionInfo": {
     "elapsed": 343,
     "status": "ok",
     "timestamp": 1678819848093,
     "user": {
      "displayName": "Гоша Сидоркин",
      "userId": "09429149278087224251"
     },
     "user_tz": -240
    },
    "id": "ZrAt_cLZ4YFv",
    "outputId": "22c7cf8e-3449-49e1-d222-91dccec44d63"
   },
   "outputs": [
    {
     "name": "stdout",
     "output_type": "stream",
     "text": [
      "81 regions\n"
     ]
    }
   ],
   "source": [
    "# уникальное кол-во регионов\n",
    "region_set = set(data_agg_reg['region_name'].to_pandas())\n",
    "print(f'{len(region_set)} regions')\n",
    "region_dict = {\n",
    "    reg: reg_id\n",
    "    for reg, reg_id in zip(region_set, range(len(region_set)))\n",
    "}"
   ]
  },
  {
   "cell_type": "code",
   "execution_count": null,
   "metadata": {
    "colab": {
     "base_uri": "https://localhost:8080/"
    },
    "executionInfo": {
     "elapsed": 949,
     "status": "ok",
     "timestamp": 1678820259324,
     "user": {
      "displayName": "Гоша Сидоркин",
      "userId": "09429149278087224251"
     },
     "user_tz": -240
    },
    "id": "sjNYUmrdbZX6",
    "outputId": "8f6c5bd5-327b-408d-fc92-27639aa46217"
   },
   "outputs": [
    {
     "name": "stdout",
     "output_type": "stream",
     "text": [
      "CPU times: user 486 ms, sys: 1.04 ms, total: 487 ms\n",
      "Wall time: 482 ms\n"
     ]
    }
   ],
   "source": [
    "# создаем матрицу взаимодействия пользователя с регионом\n",
    "%%time\n",
    "values = np.array(data_agg_reg['request_cnt'].to_pandas())\n",
    "rows = np.array(data_agg_reg['user_id'].to_pandas().map(usr_dict))\n",
    "cols = np.array(data_agg_reg['region_name'].to_pandas().map(region_dict))\n",
    "mat = scipy.sparse.coo_matrix((values, (rows, cols)),\n",
    "                              shape=(rows.max() + 1, cols.max() + 1))\n",
    "als = implicit.approximate_als.FaissAlternatingLeastSquares(\n",
    "    factors=30,\n",
    "    iterations=20,\n",
    "    use_gpu=False,\n",
    "    calculate_training_loss=True,\n",
    "    regularization=0.1)"
   ]
  },
  {
   "cell_type": "code",
   "execution_count": null,
   "outputs": [],
   "source": [
    "%%time\n",
    "als.fit(mat)"
   ],
   "metadata": {
    "pycharm": {
     "name": "#%%\n"
    },
    "id": "a9KBAwjM6DL-"
   }
  },
  {
   "cell_type": "code",
   "execution_count": null,
   "metadata": {
    "id": "quxLpYXmbZfK"
   },
   "outputs": [],
   "source": [
    "u_factors = als.model.user_factors\n",
    "d_factors = als.model.item_factors"
   ]
  },
  {
   "cell_type": "code",
   "execution_count": null,
   "metadata": {
    "colab": {
     "base_uri": "https://localhost:8080/"
    },
    "executionInfo": {
     "elapsed": 896,
     "status": "ok",
     "timestamp": 1678820334398,
     "user": {
      "displayName": "Гоша Сидоркин",
      "userId": "09429149278087224251"
     },
     "user_tz": -240
    },
    "id": "N_RfSDwqbz1q",
    "outputId": "3301b3b7-971a-4548-e391-a82f166f05e6"
   },
   "outputs": [
    {
     "name": "stdout",
     "output_type": "stream",
     "text": [
      "CPU times: user 558 ms, sys: 11.1 ms, total: 569 ms\n",
      "Wall time: 566 ms\n"
     ]
    }
   ],
   "source": [
    "# соотносим полученные признаки с user_id\n",
    "%%time\n",
    "inv_usr_map = {v: k for k, v in usr_dict.items()}\n",
    "reg_emb = pd.DataFrame(u_factors)\n",
    "reg_emb['user_id'] = reg_emb.index.map(inv_usr_map)"
   ]
  },
  {
   "cell_type": "code",
   "execution_count": null,
   "metadata": {
    "id": "s4OUTX8Ub0O7"
   },
   "outputs": [],
   "source": [
    "# сохраняем полученные признаки\n",
    "reg_emb.to_csv('embeddings/reg_emb.csv', index=False)"
   ]
  },
  {
   "cell_type": "markdown",
   "metadata": {
    "id": "TmsNqUnCTjuz"
   },
   "source": [
    "## Embeddings по city_name\n",
    "Создаем эмбеддинги по городу, чтобы в дальнейшем использовать их, как фичи"
   ]
  },
  {
   "cell_type": "code",
   "execution_count": null,
   "metadata": {
    "id": "VPeBLEhBRRlb"
   },
   "outputs": [],
   "source": [
    "# считаем кол-во запросов пользователей по городам\n",
    "data_agg_city = data.groupby(['user_id', 'city_name'], maintain_order=True) \\\n",
    "    .agg(pl.sum(\"request_cnt\"))"
   ]
  },
  {
   "cell_type": "code",
   "execution_count": null,
   "metadata": {
    "colab": {
     "base_uri": "https://localhost:8080/"
    },
    "executionInfo": {
     "elapsed": 288,
     "status": "ok",
     "timestamp": 1678820464148,
     "user": {
      "displayName": "Гоша Сидоркин",
      "userId": "09429149278087224251"
     },
     "user_tz": -240
    },
    "id": "SqgFppYz4YHa",
    "outputId": "f3563357-ef9a-4102-9ebf-1bd5fd4bb0ed"
   },
   "outputs": [
    {
     "name": "stdout",
     "output_type": "stream",
     "text": [
      "985 cities\n"
     ]
    }
   ],
   "source": [
    "# уникальное кол-во городов\n",
    "city_set = set(data_agg_city['city_name'].to_pandas())\n",
    "print(f'{len(city_set)} cities')\n",
    "city_dict = {\n",
    "    city: city_id\n",
    "    for city, city_id in zip(city_set, range(len(city_set)))\n",
    "}"
   ]
  },
  {
   "cell_type": "code",
   "execution_count": null,
   "metadata": {
    "colab": {
     "base_uri": "https://localhost:8080/"
    },
    "executionInfo": {
     "elapsed": 824,
     "status": "ok",
     "timestamp": 1678820765689,
     "user": {
      "displayName": "Гоша Сидоркин",
      "userId": "09429149278087224251"
     },
     "user_tz": -240
    },
    "id": "0JlxuCpRfkiv",
    "outputId": "2eead391-3374-42fa-f7df-000f3c099627"
   },
   "outputs": [
    {
     "name": "stdout",
     "output_type": "stream",
     "text": [
      "CPU times: user 478 ms, sys: 4 ms, total: 482 ms\n",
      "Wall time: 484 ms\n"
     ]
    }
   ],
   "source": [
    "# создаем матрицу взаимодействия пользователя с городом\n",
    "%%time\n",
    "values = np.array(data_agg_city['request_cnt'].to_pandas())\n",
    "rows = np.array(data_agg_city['user_id'].to_pandas().map(usr_dict))\n",
    "cols = np.array(data_agg_city['city_name'].to_pandas().map(city_dict))\n",
    "mat = scipy.sparse.coo_matrix((values, (rows, cols)),\n",
    "                              shape=(rows.max() + 1, cols.max() + 1))\n",
    "als = implicit.approximate_als.FaissAlternatingLeastSquares(\n",
    "    factors=50,\n",
    "    iterations=30,\n",
    "    use_gpu=False,\n",
    "    calculate_training_loss=True,\n",
    "    regularization=0.1)"
   ]
  },
  {
   "cell_type": "code",
   "execution_count": null,
   "outputs": [],
   "source": [
    "%%time\n",
    "als.fit(mat)"
   ],
   "metadata": {
    "pycharm": {
     "name": "#%%\n"
    },
    "id": "WEMOc6C56DMC"
   }
  },
  {
   "cell_type": "code",
   "execution_count": null,
   "metadata": {
    "id": "XKzGRl0jfkov"
   },
   "outputs": [],
   "source": [
    "u_factors = als.model.user_factors\n",
    "d_factors = als.model.item_factors"
   ]
  },
  {
   "cell_type": "code",
   "execution_count": null,
   "metadata": {
    "colab": {
     "base_uri": "https://localhost:8080/"
    },
    "executionInfo": {
     "elapsed": 808,
     "status": "ok",
     "timestamp": 1678820873026,
     "user": {
      "displayName": "Гоша Сидоркин",
      "userId": "09429149278087224251"
     },
     "user_tz": -240
    },
    "id": "vjYsesQefktF",
    "outputId": "52b4544e-500f-4aa5-c24e-484a611db448"
   },
   "outputs": [
    {
     "name": "stdout",
     "output_type": "stream",
     "text": [
      "CPU times: user 486 ms, sys: 11 ms, total: 497 ms\n",
      "Wall time: 494 ms\n"
     ]
    }
   ],
   "source": [
    "# соотносим полученные признаки с user_id\n",
    "%%time\n",
    "inv_usr_map = {v: k for k, v in usr_dict.items()}\n",
    "city_emb = pd.DataFrame(u_factors)\n",
    "city_emb['user_id'] = city_emb.index.map(inv_usr_map)"
   ]
  },
  {
   "cell_type": "code",
   "execution_count": null,
   "outputs": [],
   "source": [
    "# сохраняем полученные признаки\n",
    "city_emb.to_csv('embeddings/city_emb.csv', index=False)"
   ],
   "metadata": {
    "pycharm": {
     "name": "#%%\n"
    },
    "id": "-Yr97a-Y6DMD"
   }
  },
  {
   "cell_type": "markdown",
   "metadata": {
    "id": "TNpcgAr0T9Fv"
   },
   "source": [
    "## Embeddings по cpe_model_name\n",
    "Создаем эмбеддинги по модели телефона, чтобы в дальнейшем использовать их, как фичи"
   ]
  },
  {
   "cell_type": "code",
   "execution_count": null,
   "metadata": {
    "id": "ZHWOkW_6UAeJ"
   },
   "outputs": [],
   "source": [
    "# считаем кол-во запросов пользователей по модели телефона\n",
    "data_agg_model = data.groupby(['user_id', 'cpe_model_name'], maintain_order=True) \\\n",
    "    .agg(pl.sum(\"request_cnt\"))"
   ]
  },
  {
   "cell_type": "code",
   "execution_count": null,
   "metadata": {
    "colab": {
     "base_uri": "https://localhost:8080/"
    },
    "executionInfo": {
     "elapsed": 302,
     "status": "ok",
     "timestamp": 1678821406049,
     "user": {
      "displayName": "Гоша Сидоркин",
      "userId": "09429149278087224251"
     },
     "user_tz": -240
    },
    "id": "HZU0nNkxikln",
    "outputId": "6749e61b-b5d5-49c9-ab5b-8dc7667246cc"
   },
   "outputs": [
    {
     "name": "stdout",
     "output_type": "stream",
     "text": [
      "599 cities\n"
     ]
    }
   ],
   "source": [
    "# уникальное кол-во телефонов\n",
    "model_set = set(data_agg_model['cpe_model_name'].to_pandas())\n",
    "print(f'{len(model_set)} cities')\n",
    "model_dict = {\n",
    "    model: model_id\n",
    "    for model, model_id in zip(model_set, range(len(model_set)))\n",
    "}"
   ]
  },
  {
   "cell_type": "code",
   "execution_count": null,
   "metadata": {
    "colab": {
     "base_uri": "https://localhost:8080/"
    },
    "executionInfo": {
     "elapsed": 1016,
     "status": "ok",
     "timestamp": 1678821409107,
     "user": {
      "displayName": "Гоша Сидоркин",
      "userId": "09429149278087224251"
     },
     "user_tz": -240
    },
    "id": "WqFlA_5Uikot",
    "outputId": "54fe2a33-edb6-46e0-d6bc-528ed56ac418"
   },
   "outputs": [
    {
     "name": "stdout",
     "output_type": "stream",
     "text": [
      "CPU times: user 400 ms, sys: 5.95 ms, total: 406 ms\n",
      "Wall time: 400 ms\n"
     ]
    }
   ],
   "source": [
    "# создаем матрицу взаимодействия пользователя с разных устройств\n",
    "%%time\n",
    "values = np.array(data_agg_model['request_cnt'].to_pandas())\n",
    "rows = np.array(data_agg_model['user_id'].to_pandas().map(usr_dict))\n",
    "cols = np.array(data_agg_model['cpe_model_name'].to_pandas().map(model_dict))\n",
    "mat = scipy.sparse.coo_matrix((values, (rows, cols)),\n",
    "                              shape=(rows.max() + 1, cols.max() + 1))\n",
    "als = implicit.approximate_als.FaissAlternatingLeastSquares(\n",
    "    factors=50,\n",
    "    iterations=30,\n",
    "    use_gpu=False,\n",
    "    calculate_training_loss=True,\n",
    "    regularization=0.1)"
   ]
  },
  {
   "cell_type": "code",
   "execution_count": null,
   "metadata": {
    "id": "haiikaSWikrl"
   },
   "outputs": [],
   "source": [
    "%%time\n",
    "als.fit(mat)"
   ]
  },
  {
   "cell_type": "code",
   "execution_count": null,
   "metadata": {
    "id": "1G9U5bPbikv0"
   },
   "outputs": [],
   "source": [
    "u_factors = als.model.user_factors\n",
    "d_factors = als.model.item_factors"
   ]
  },
  {
   "cell_type": "code",
   "execution_count": null,
   "metadata": {
    "colab": {
     "base_uri": "https://localhost:8080/"
    },
    "executionInfo": {
     "elapsed": 719,
     "status": "ok",
     "timestamp": 1678821484673,
     "user": {
      "displayName": "Гоша Сидоркин",
      "userId": "09429149278087224251"
     },
     "user_tz": -240
    },
    "id": "NqNjXcexikyp",
    "outputId": "074bc83c-4a26-4d0e-bb1a-8ec98b177ab7"
   },
   "outputs": [
    {
     "name": "stdout",
     "output_type": "stream",
     "text": [
      "CPU times: user 521 ms, sys: 11.1 ms, total: 532 ms\n",
      "Wall time: 512 ms\n"
     ]
    }
   ],
   "source": [
    "# соотносим полученные признаки с user_id\n",
    "%%time\n",
    "inv_usr_map = {v: k for k, v in usr_dict.items()}\n",
    "model_emb = pd.DataFrame(u_factors)\n",
    "model_emb['user_id'] = model_emb.index.map(inv_usr_map)"
   ]
  },
  {
   "cell_type": "code",
   "execution_count": null,
   "metadata": {
    "id": "AE30yrZfUA1I"
   },
   "outputs": [],
   "source": [
    "# сохраняем полученные признаки\n",
    "model_emb.to_csv('embeddings/model_emb.csv', index=False)"
   ]
  }
 ],
 "metadata": {
  "colab": {
   "machine_shape": "hm",
   "provenance": [],
   "toc_visible": true
  },
  "gpuClass": "standard",
  "kernelspec": {
   "display_name": "Python 3 (ipykernel)",
   "language": "python",
   "name": "python3"
  },
  "language_info": {
   "codemirror_mode": {
    "name": "ipython",
    "version": 3
   },
   "file_extension": ".py",
   "mimetype": "text/x-python",
   "name": "python",
   "nbconvert_exporter": "python",
   "pygments_lexer": "ipython3",
   "version": "3.9.10"
  },
  "toc": {
   "base_numbering": 1,
   "nav_menu": {},
   "number_sections": true,
   "sideBar": true,
   "skip_h1_title": false,
   "title_cell": "Table of Contents",
   "title_sidebar": "Contents",
   "toc_cell": false,
   "toc_position": {},
   "toc_section_display": true,
   "toc_window_display": false
  }
 },
 "nbformat": 4,
 "nbformat_minor": 0
}