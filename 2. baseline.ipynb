{
 "cells": [
  {
   "cell_type": "markdown",
   "source": [
    "# Импорт библиотек"
   ],
   "metadata": {
    "collapsed": false,
    "pycharm": {
     "name": "#%% md\n"
    }
   }
  },
  {
   "cell_type": "code",
   "execution_count": null,
   "metadata": {
    "colab": {
     "base_uri": "https://localhost:8080/"
    },
    "executionInfo": {
     "elapsed": 53258,
     "status": "ok",
     "timestamp": 1679734054369,
     "user": {
      "displayName": "Гоша Сидоркин",
      "userId": "09429149278087224251"
     },
     "user_tz": -240
    },
    "id": "joyo8XydlI7G",
    "outputId": "9329a98f-410a-4c53-d073-d1cf4953a988"
   },
   "outputs": [
    {
     "name": "stdout",
     "output_type": "stream",
     "text": [
      "Drive already mounted at /content/drive; to attempt to forcibly remount, call drive.mount(\"/content/drive\", force_remount=True).\n"
     ]
    }
   ],
   "source": [
    "from google.colab import drive\n",
    "drive.mount('/content/drive')"
   ]
  },
  {
   "cell_type": "code",
   "execution_count": null,
   "metadata": {
    "colab": {
     "base_uri": "https://localhost:8080/"
    },
    "executionInfo": {
     "elapsed": 539,
     "status": "ok",
     "timestamp": 1679734057044,
     "user": {
      "displayName": "Гоша Сидоркин",
      "userId": "09429149278087224251"
     },
     "user_tz": -240
    },
    "id": "sDz_Womfg-dq",
    "outputId": "4884e0e5-f993-45ca-b26f-8e4cbd3bf365"
   },
   "outputs": [
    {
     "name": "stdout",
     "output_type": "stream",
     "text": [
      "/content/drive/MyDrive/MTS ML Cup\n"
     ]
    }
   ],
   "source": [
    "%cd /content/drive/MyDrive/MTS ML Cup"
   ]
  },
  {
   "cell_type": "code",
   "execution_count": null,
   "metadata": {
    "id": "O1uVyOOFClUj"
   },
   "outputs": [],
   "source": [
    "import sys\n",
    "sys.path.insert(0, '/content/drive/MyDrive/MTS ML Cup/src')"
   ]
  },
  {
   "cell_type": "code",
   "execution_count": null,
   "metadata": {
    "id": "AQILWh_AhAzX"
   },
   "outputs": [],
   "source": [
    "import os\n",
    "import warnings\n",
    "os.environ['OPENBLAS_NUM_THREADS'] = '1'\n",
    "warnings.filterwarnings('ignore');"
   ]
  },
  {
   "cell_type": "code",
   "execution_count": null,
   "outputs": [],
   "source": [
    "!pip install catboost"
   ],
   "metadata": {
    "collapsed": false,
    "pycharm": {
     "name": "#%%\n"
    }
   }
  },
  {
   "cell_type": "code",
   "execution_count": null,
   "outputs": [],
   "source": [
    "!pip install lightgbm"
   ],
   "metadata": {
    "collapsed": false,
    "pycharm": {
     "name": "#%%\n"
    }
   }
  },
  {
   "cell_type": "code",
   "execution_count": null,
   "outputs": [],
   "source": [
    "!pip install xgboost"
   ],
   "metadata": {
    "collapsed": false,
    "pycharm": {
     "name": "#%%\n"
    }
   }
  },
  {
   "cell_type": "code",
   "execution_count": null,
   "metadata": {
    "id": "eX_QLsxjhc68"
   },
   "outputs": [],
   "source": [
    "import pandas as pd\n",
    "import numpy as np\n",
    "import bisect\n",
    "\n",
    "from catboost import CatBoostClassifier\n",
    "from lightgbm import LGBMClassifier\n",
    "from xgboost import XGBClassifier\n",
    "\n",
    "import sklearn.metrics as m\n",
    "from sklearn.model_selection import train_test_split\n",
    "from sklearn.preprocessing import label_binarize, StandardScaler\n",
    "from sklearn.ensemble import RandomForestClassifier"
   ]
  },
  {
   "cell_type": "code",
   "execution_count": null,
   "metadata": {
    "id": "ardjVsWzAgia"
   },
   "outputs": [],
   "source": [
    "from metric_functions import get_metrics_classification, get_metrics_multiclass, check_overfitting_classification, check_overfitting_multiclass"
   ]
  },
  {
   "cell_type": "code",
   "execution_count": null,
   "metadata": {
    "id": "tNXMvxcyOD9k"
   },
   "outputs": [],
   "source": [
    "import seaborn as sns\n",
    "import matplotlib.pyplot as plt\n",
    "\n",
    "%matplotlib inline\n",
    "sns.set_style('darkgrid')"
   ]
  },
  {
   "cell_type": "code",
   "execution_count": null,
   "metadata": {
    "id": "iq_v6v6Hhc9S"
   },
   "outputs": [],
   "source": [
    "RAND = 42\n",
    "\n",
    "final_types = {\n",
    "    'user_id': 'int32',\n",
    "    'part_of_day_day': 'int16',\n",
    "    'part_of_day_night': 'int16',\n",
    "    'day_pct': 'float32',\n",
    "    'evening_pct': 'float32',\n",
    "    'morning_pct': 'float32',\n",
    "    'night_pct': 'float32',\n",
    "    'act_days': 'int16',\n",
    "    'avg_req_per_day': 'float32',\n",
    "    'requests_std': 'float32',\n",
    "    'act_days_pct': 'float32',\n",
    "    'cpe_type_cd': 'category',\n",
    "    'cpe_model_os_type': 'category',\n",
    "    'cpe_manufacturer_name': 'category',\n",
    "    'price': 'float32',\n",
    "    'region_cnt': 'int8',\n",
    "    'city_cnt': 'int8',\n",
    "    'url_host_cnt': 'int16',\n",
    "}"
   ]
  },
  {
   "cell_type": "markdown",
   "metadata": {
    "id": "tdr8MrX0htFn"
   },
   "source": [
    "# Сбор всех данных"
   ]
  },
  {
   "cell_type": "code",
   "execution_count": null,
   "metadata": {
    "id": "jyw72yiLhc_Z"
   },
   "outputs": [],
   "source": [
    "id_to_submit = pd.read_parquet('submit.pqt')"
   ]
  },
  {
   "cell_type": "code",
   "execution_count": null,
   "metadata": {
    "id": "mkKCa7ZxhdBe"
   },
   "outputs": [],
   "source": [
    "targets = pd.read_parquet('public_train.pqt')"
   ]
  },
  {
   "cell_type": "code",
   "execution_count": null,
   "metadata": {
    "id": "rlK5TkcOjELS"
   },
   "outputs": [],
   "source": [
    "df = pd.read_csv('data_agg/df_final.csv')"
   ]
  },
  {
   "cell_type": "code",
   "execution_count": null,
   "metadata": {
    "id": "8TIrOBjWjKsf"
   },
   "outputs": [],
   "source": [
    "df = df.astype(final_types)"
   ]
  },
  {
   "cell_type": "code",
   "execution_count": null,
   "metadata": {
    "colab": {
     "base_uri": "https://localhost:8080/",
     "height": 268
    },
    "executionInfo": {
     "elapsed": 11,
     "status": "ok",
     "timestamp": 1679734109315,
     "user": {
      "displayName": "Гоша Сидоркин",
      "userId": "09429149278087224251"
     },
     "user_tz": -240
    },
    "id": "GMBlxniqhx1w",
    "outputId": "92437666-7361-4c35-d83e-92373956e595"
   },
   "outputs": [
    {
     "data": {
      "text/html": [
       "\n",
       "  <div id=\"df-951b1cc0-f420-4050-acd0-56611f56cf71\">\n",
       "    <div class=\"colab-df-container\">\n",
       "      <div>\n",
       "<style scoped>\n",
       "    .dataframe tbody tr th:only-of-type {\n",
       "        vertical-align: middle;\n",
       "    }\n",
       "\n",
       "    .dataframe tbody tr th {\n",
       "        vertical-align: top;\n",
       "    }\n",
       "\n",
       "    .dataframe thead th {\n",
       "        text-align: right;\n",
       "    }\n",
       "</style>\n",
       "<table border=\"1\" class=\"dataframe\">\n",
       "  <thead>\n",
       "    <tr style=\"text-align: right;\">\n",
       "      <th></th>\n",
       "      <th>user_id</th>\n",
       "      <th>part_of_day_day</th>\n",
       "      <th>part_of_day_night</th>\n",
       "      <th>day_pct</th>\n",
       "      <th>evening_pct</th>\n",
       "      <th>morning_pct</th>\n",
       "      <th>night_pct</th>\n",
       "      <th>act_days</th>\n",
       "      <th>avg_req_per_day</th>\n",
       "      <th>requests_std</th>\n",
       "      <th>act_days_pct</th>\n",
       "      <th>cpe_type_cd</th>\n",
       "      <th>cpe_model_os_type</th>\n",
       "      <th>cpe_manufacturer_name</th>\n",
       "      <th>price</th>\n",
       "      <th>region_cnt</th>\n",
       "      <th>city_cnt</th>\n",
       "      <th>url_host_cnt</th>\n",
       "    </tr>\n",
       "  </thead>\n",
       "  <tbody>\n",
       "    <tr>\n",
       "      <th>0</th>\n",
       "      <td>4</td>\n",
       "      <td>199</td>\n",
       "      <td>10</td>\n",
       "      <td>0.336717</td>\n",
       "      <td>0.287648</td>\n",
       "      <td>0.358714</td>\n",
       "      <td>0.016920</td>\n",
       "      <td>20</td>\n",
       "      <td>38.849998</td>\n",
       "      <td>0.647632</td>\n",
       "      <td>0.4650</td>\n",
       "      <td>smartphone</td>\n",
       "      <td>Android</td>\n",
       "      <td>Huawei</td>\n",
       "      <td>12990.0</td>\n",
       "      <td>5</td>\n",
       "      <td>9</td>\n",
       "      <td>108</td>\n",
       "    </tr>\n",
       "    <tr>\n",
       "      <th>1</th>\n",
       "      <td>16</td>\n",
       "      <td>443</td>\n",
       "      <td>137</td>\n",
       "      <td>0.359870</td>\n",
       "      <td>0.260764</td>\n",
       "      <td>0.268075</td>\n",
       "      <td>0.111292</td>\n",
       "      <td>64</td>\n",
       "      <td>39.515625</td>\n",
       "      <td>1.397836</td>\n",
       "      <td>0.8647</td>\n",
       "      <td>smartphone</td>\n",
       "      <td>Android</td>\n",
       "      <td>Samsung</td>\n",
       "      <td>9583.0</td>\n",
       "      <td>1</td>\n",
       "      <td>1</td>\n",
       "      <td>50</td>\n",
       "    </tr>\n",
       "    <tr>\n",
       "      <th>2</th>\n",
       "      <td>18</td>\n",
       "      <td>566</td>\n",
       "      <td>34</td>\n",
       "      <td>0.503111</td>\n",
       "      <td>0.101333</td>\n",
       "      <td>0.365333</td>\n",
       "      <td>0.030222</td>\n",
       "      <td>32</td>\n",
       "      <td>60.937500</td>\n",
       "      <td>1.204972</td>\n",
       "      <td>0.8423</td>\n",
       "      <td>smartphone</td>\n",
       "      <td>Android</td>\n",
       "      <td>Samsung</td>\n",
       "      <td>22887.0</td>\n",
       "      <td>1</td>\n",
       "      <td>2</td>\n",
       "      <td>141</td>\n",
       "    </tr>\n",
       "    <tr>\n",
       "      <th>3</th>\n",
       "      <td>26</td>\n",
       "      <td>180</td>\n",
       "      <td>126</td>\n",
       "      <td>0.176817</td>\n",
       "      <td>0.400786</td>\n",
       "      <td>0.298625</td>\n",
       "      <td>0.123772</td>\n",
       "      <td>20</td>\n",
       "      <td>71.800003</td>\n",
       "      <td>0.688696</td>\n",
       "      <td>0.9090</td>\n",
       "      <td>smartphone</td>\n",
       "      <td>Android</td>\n",
       "      <td>Samsung</td>\n",
       "      <td>4990.0</td>\n",
       "      <td>1</td>\n",
       "      <td>1</td>\n",
       "      <td>126</td>\n",
       "    </tr>\n",
       "    <tr>\n",
       "      <th>4</th>\n",
       "      <td>27</td>\n",
       "      <td>808</td>\n",
       "      <td>342</td>\n",
       "      <td>0.302622</td>\n",
       "      <td>0.331461</td>\n",
       "      <td>0.237828</td>\n",
       "      <td>0.128090</td>\n",
       "      <td>67</td>\n",
       "      <td>66.074623</td>\n",
       "      <td>1.088583</td>\n",
       "      <td>0.9307</td>\n",
       "      <td>smartphone</td>\n",
       "      <td>Android</td>\n",
       "      <td>Xiaomi</td>\n",
       "      <td>12990.0</td>\n",
       "      <td>1</td>\n",
       "      <td>2</td>\n",
       "      <td>209</td>\n",
       "    </tr>\n",
       "  </tbody>\n",
       "</table>\n",
       "</div>\n",
       "      <button class=\"colab-df-convert\" onclick=\"convertToInteractive('df-951b1cc0-f420-4050-acd0-56611f56cf71')\"\n",
       "              title=\"Convert this dataframe to an interactive table.\"\n",
       "              style=\"display:none;\">\n",
       "        \n",
       "  <svg xmlns=\"http://www.w3.org/2000/svg\" height=\"24px\"viewBox=\"0 0 24 24\"\n",
       "       width=\"24px\">\n",
       "    <path d=\"M0 0h24v24H0V0z\" fill=\"none\"/>\n",
       "    <path d=\"M18.56 5.44l.94 2.06.94-2.06 2.06-.94-2.06-.94-.94-2.06-.94 2.06-2.06.94zm-11 1L8.5 8.5l.94-2.06 2.06-.94-2.06-.94L8.5 2.5l-.94 2.06-2.06.94zm10 10l.94 2.06.94-2.06 2.06-.94-2.06-.94-.94-2.06-.94 2.06-2.06.94z\"/><path d=\"M17.41 7.96l-1.37-1.37c-.4-.4-.92-.59-1.43-.59-.52 0-1.04.2-1.43.59L10.3 9.45l-7.72 7.72c-.78.78-.78 2.05 0 2.83L4 21.41c.39.39.9.59 1.41.59.51 0 1.02-.2 1.41-.59l7.78-7.78 2.81-2.81c.8-.78.8-2.07 0-2.86zM5.41 20L4 18.59l7.72-7.72 1.47 1.35L5.41 20z\"/>\n",
       "  </svg>\n",
       "      </button>\n",
       "      \n",
       "  <style>\n",
       "    .colab-df-container {\n",
       "      display:flex;\n",
       "      flex-wrap:wrap;\n",
       "      gap: 12px;\n",
       "    }\n",
       "\n",
       "    .colab-df-convert {\n",
       "      background-color: #E8F0FE;\n",
       "      border: none;\n",
       "      border-radius: 50%;\n",
       "      cursor: pointer;\n",
       "      display: none;\n",
       "      fill: #1967D2;\n",
       "      height: 32px;\n",
       "      padding: 0 0 0 0;\n",
       "      width: 32px;\n",
       "    }\n",
       "\n",
       "    .colab-df-convert:hover {\n",
       "      background-color: #E2EBFA;\n",
       "      box-shadow: 0px 1px 2px rgba(60, 64, 67, 0.3), 0px 1px 3px 1px rgba(60, 64, 67, 0.15);\n",
       "      fill: #174EA6;\n",
       "    }\n",
       "\n",
       "    [theme=dark] .colab-df-convert {\n",
       "      background-color: #3B4455;\n",
       "      fill: #D2E3FC;\n",
       "    }\n",
       "\n",
       "    [theme=dark] .colab-df-convert:hover {\n",
       "      background-color: #434B5C;\n",
       "      box-shadow: 0px 1px 3px 1px rgba(0, 0, 0, 0.15);\n",
       "      filter: drop-shadow(0px 1px 2px rgba(0, 0, 0, 0.3));\n",
       "      fill: #FFFFFF;\n",
       "    }\n",
       "  </style>\n",
       "\n",
       "      <script>\n",
       "        const buttonEl =\n",
       "          document.querySelector('#df-951b1cc0-f420-4050-acd0-56611f56cf71 button.colab-df-convert');\n",
       "        buttonEl.style.display =\n",
       "          google.colab.kernel.accessAllowed ? 'block' : 'none';\n",
       "\n",
       "        async function convertToInteractive(key) {\n",
       "          const element = document.querySelector('#df-951b1cc0-f420-4050-acd0-56611f56cf71');\n",
       "          const dataTable =\n",
       "            await google.colab.kernel.invokeFunction('convertToInteractive',\n",
       "                                                     [key], {});\n",
       "          if (!dataTable) return;\n",
       "\n",
       "          const docLinkHtml = 'Like what you see? Visit the ' +\n",
       "            '<a target=\"_blank\" href=https://colab.research.google.com/notebooks/data_table.ipynb>data table notebook</a>'\n",
       "            + ' to learn more about interactive tables.';\n",
       "          element.innerHTML = '';\n",
       "          dataTable['output_type'] = 'display_data';\n",
       "          await google.colab.output.renderOutput(dataTable, element);\n",
       "          const docLink = document.createElement('div');\n",
       "          docLink.innerHTML = docLinkHtml;\n",
       "          element.appendChild(docLink);\n",
       "        }\n",
       "      </script>\n",
       "    </div>\n",
       "  </div>\n",
       "  "
      ],
      "text/plain": [
       "   user_id  part_of_day_day  part_of_day_night   day_pct  evening_pct  \\\n",
       "0        4              199                 10  0.336717     0.287648   \n",
       "1       16              443                137  0.359870     0.260764   \n",
       "2       18              566                 34  0.503111     0.101333   \n",
       "3       26              180                126  0.176817     0.400786   \n",
       "4       27              808                342  0.302622     0.331461   \n",
       "\n",
       "   morning_pct  night_pct  act_days  avg_req_per_day  requests_std  \\\n",
       "0     0.358714   0.016920        20        38.849998      0.647632   \n",
       "1     0.268075   0.111292        64        39.515625      1.397836   \n",
       "2     0.365333   0.030222        32        60.937500      1.204972   \n",
       "3     0.298625   0.123772        20        71.800003      0.688696   \n",
       "4     0.237828   0.128090        67        66.074623      1.088583   \n",
       "\n",
       "   act_days_pct cpe_type_cd cpe_model_os_type cpe_manufacturer_name    price  \\\n",
       "0        0.4650  smartphone           Android                Huawei  12990.0   \n",
       "1        0.8647  smartphone           Android               Samsung   9583.0   \n",
       "2        0.8423  smartphone           Android               Samsung  22887.0   \n",
       "3        0.9090  smartphone           Android               Samsung   4990.0   \n",
       "4        0.9307  smartphone           Android                Xiaomi  12990.0   \n",
       "\n",
       "   region_cnt  city_cnt  url_host_cnt  \n",
       "0           5         9           108  \n",
       "1           1         1            50  \n",
       "2           1         2           141  \n",
       "3           1         1           126  \n",
       "4           1         2           209  "
      ]
     },
     "execution_count": 20,
     "metadata": {},
     "output_type": "execute_result"
    }
   ],
   "source": [
    "df.head()"
   ]
  },
  {
   "cell_type": "code",
   "execution_count": null,
   "metadata": {
    "colab": {
     "base_uri": "https://localhost:8080/",
     "height": 483
    },
    "executionInfo": {
     "elapsed": 5,
     "status": "ok",
     "timestamp": 1679734138988,
     "user": {
      "displayName": "Гоша Сидоркин",
      "userId": "09429149278087224251"
     },
     "user_tz": -240
    },
    "id": "CtDFy_uikf6Y",
    "outputId": "844d4f4a-842d-498a-f305-e76a4a7677b0"
   },
   "outputs": [
    {
     "data": {
      "text/html": [
       "\n",
       "  <div id=\"df-a4003a8d-093c-49aa-9ad8-1c9e2cd2816f\">\n",
       "    <div class=\"colab-df-container\">\n",
       "      <div>\n",
       "<style scoped>\n",
       "    .dataframe tbody tr th:only-of-type {\n",
       "        vertical-align: middle;\n",
       "    }\n",
       "\n",
       "    .dataframe tbody tr th {\n",
       "        vertical-align: top;\n",
       "    }\n",
       "\n",
       "    .dataframe thead th {\n",
       "        text-align: right;\n",
       "    }\n",
       "</style>\n",
       "<table border=\"1\" class=\"dataframe\">\n",
       "  <thead>\n",
       "    <tr style=\"text-align: right;\">\n",
       "      <th></th>\n",
       "      <th>age</th>\n",
       "      <th>is_male</th>\n",
       "      <th>user_id</th>\n",
       "      <th>part_of_day_day</th>\n",
       "      <th>part_of_day_night</th>\n",
       "      <th>day_pct</th>\n",
       "      <th>evening_pct</th>\n",
       "      <th>morning_pct</th>\n",
       "      <th>night_pct</th>\n",
       "      <th>act_days</th>\n",
       "      <th>avg_req_per_day</th>\n",
       "      <th>requests_std</th>\n",
       "      <th>act_days_pct</th>\n",
       "      <th>cpe_type_cd</th>\n",
       "      <th>cpe_model_os_type</th>\n",
       "      <th>cpe_manufacturer_name</th>\n",
       "      <th>price</th>\n",
       "      <th>region_cnt</th>\n",
       "      <th>city_cnt</th>\n",
       "      <th>url_host_cnt</th>\n",
       "    </tr>\n",
       "  </thead>\n",
       "  <tbody>\n",
       "    <tr>\n",
       "      <th>0</th>\n",
       "      <td>31.0</td>\n",
       "      <td>1</td>\n",
       "      <td>350459</td>\n",
       "      <td>84</td>\n",
       "      <td>0</td>\n",
       "      <td>0.471910</td>\n",
       "      <td>0.151685</td>\n",
       "      <td>0.376404</td>\n",
       "      <td>0.000000</td>\n",
       "      <td>28</td>\n",
       "      <td>8.571428</td>\n",
       "      <td>0.745626</td>\n",
       "      <td>0.8750</td>\n",
       "      <td>smartphone</td>\n",
       "      <td>Android</td>\n",
       "      <td>Xiaomi</td>\n",
       "      <td>14948.0</td>\n",
       "      <td>1</td>\n",
       "      <td>1</td>\n",
       "      <td>36</td>\n",
       "    </tr>\n",
       "    <tr>\n",
       "      <th>1</th>\n",
       "      <td>35.0</td>\n",
       "      <td>1</td>\n",
       "      <td>188276</td>\n",
       "      <td>33</td>\n",
       "      <td>10</td>\n",
       "      <td>0.297297</td>\n",
       "      <td>0.369369</td>\n",
       "      <td>0.243243</td>\n",
       "      <td>0.090090</td>\n",
       "      <td>14</td>\n",
       "      <td>11.214286</td>\n",
       "      <td>0.719450</td>\n",
       "      <td>0.8237</td>\n",
       "      <td>smartphone</td>\n",
       "      <td>Android</td>\n",
       "      <td>Samsung</td>\n",
       "      <td>11434.0</td>\n",
       "      <td>1</td>\n",
       "      <td>1</td>\n",
       "      <td>21</td>\n",
       "    </tr>\n",
       "    <tr>\n",
       "      <th>2</th>\n",
       "      <td>41.0</td>\n",
       "      <td>0</td>\n",
       "      <td>99002</td>\n",
       "      <td>310</td>\n",
       "      <td>15</td>\n",
       "      <td>0.485133</td>\n",
       "      <td>0.309859</td>\n",
       "      <td>0.181534</td>\n",
       "      <td>0.023474</td>\n",
       "      <td>48</td>\n",
       "      <td>17.833334</td>\n",
       "      <td>0.729268</td>\n",
       "      <td>0.9060</td>\n",
       "      <td>smartphone</td>\n",
       "      <td>Android</td>\n",
       "      <td>Huawei</td>\n",
       "      <td>18288.0</td>\n",
       "      <td>1</td>\n",
       "      <td>3</td>\n",
       "      <td>121</td>\n",
       "    </tr>\n",
       "    <tr>\n",
       "      <th>3</th>\n",
       "      <td>33.0</td>\n",
       "      <td>0</td>\n",
       "      <td>155506</td>\n",
       "      <td>6</td>\n",
       "      <td>0</td>\n",
       "      <td>0.272727</td>\n",
       "      <td>0.000000</td>\n",
       "      <td>0.727273</td>\n",
       "      <td>0.000000</td>\n",
       "      <td>2</td>\n",
       "      <td>19.000000</td>\n",
       "      <td>1.162174</td>\n",
       "      <td>1.0000</td>\n",
       "      <td>smartphone</td>\n",
       "      <td>iOS</td>\n",
       "      <td>Apple</td>\n",
       "      <td>37090.0</td>\n",
       "      <td>1</td>\n",
       "      <td>1</td>\n",
       "      <td>19</td>\n",
       "    </tr>\n",
       "    <tr>\n",
       "      <th>4</th>\n",
       "      <td>54.0</td>\n",
       "      <td>0</td>\n",
       "      <td>213873</td>\n",
       "      <td>0</td>\n",
       "      <td>0</td>\n",
       "      <td>0.000000</td>\n",
       "      <td>0.000000</td>\n",
       "      <td>1.000000</td>\n",
       "      <td>0.000000</td>\n",
       "      <td>1</td>\n",
       "      <td>4.000000</td>\n",
       "      <td>0.000000</td>\n",
       "      <td>1.0000</td>\n",
       "      <td>smartphone</td>\n",
       "      <td>Android</td>\n",
       "      <td>Huawei</td>\n",
       "      <td>8987.0</td>\n",
       "      <td>1</td>\n",
       "      <td>1</td>\n",
       "      <td>4</td>\n",
       "    </tr>\n",
       "    <tr>\n",
       "      <th>...</th>\n",
       "      <td>...</td>\n",
       "      <td>...</td>\n",
       "      <td>...</td>\n",
       "      <td>...</td>\n",
       "      <td>...</td>\n",
       "      <td>...</td>\n",
       "      <td>...</td>\n",
       "      <td>...</td>\n",
       "      <td>...</td>\n",
       "      <td>...</td>\n",
       "      <td>...</td>\n",
       "      <td>...</td>\n",
       "      <td>...</td>\n",
       "      <td>...</td>\n",
       "      <td>...</td>\n",
       "      <td>...</td>\n",
       "      <td>...</td>\n",
       "      <td>...</td>\n",
       "      <td>...</td>\n",
       "      <td>...</td>\n",
       "    </tr>\n",
       "    <tr>\n",
       "      <th>269995</th>\n",
       "      <td>49.0</td>\n",
       "      <td>1</td>\n",
       "      <td>225374</td>\n",
       "      <td>554</td>\n",
       "      <td>66</td>\n",
       "      <td>0.335148</td>\n",
       "      <td>0.300665</td>\n",
       "      <td>0.324259</td>\n",
       "      <td>0.039927</td>\n",
       "      <td>37</td>\n",
       "      <td>71.540543</td>\n",
       "      <td>1.157740</td>\n",
       "      <td>0.9250</td>\n",
       "      <td>smartphone</td>\n",
       "      <td>Android</td>\n",
       "      <td>Samsung</td>\n",
       "      <td>12990.0</td>\n",
       "      <td>4</td>\n",
       "      <td>6</td>\n",
       "      <td>209</td>\n",
       "    </tr>\n",
       "    <tr>\n",
       "      <th>269996</th>\n",
       "      <td>22.0</td>\n",
       "      <td>1</td>\n",
       "      <td>25776</td>\n",
       "      <td>26</td>\n",
       "      <td>36</td>\n",
       "      <td>0.216667</td>\n",
       "      <td>0.425000</td>\n",
       "      <td>0.058333</td>\n",
       "      <td>0.300000</td>\n",
       "      <td>21</td>\n",
       "      <td>7.238095</td>\n",
       "      <td>0.530314</td>\n",
       "      <td>0.8076</td>\n",
       "      <td>smartphone</td>\n",
       "      <td>Android</td>\n",
       "      <td>Xiaomi</td>\n",
       "      <td>-999.0</td>\n",
       "      <td>1</td>\n",
       "      <td>1</td>\n",
       "      <td>32</td>\n",
       "    </tr>\n",
       "    <tr>\n",
       "      <th>269997</th>\n",
       "      <td>28.0</td>\n",
       "      <td>0</td>\n",
       "      <td>148131</td>\n",
       "      <td>71</td>\n",
       "      <td>34</td>\n",
       "      <td>0.349754</td>\n",
       "      <td>0.275862</td>\n",
       "      <td>0.206897</td>\n",
       "      <td>0.167488</td>\n",
       "      <td>19</td>\n",
       "      <td>15.473684</td>\n",
       "      <td>0.796673</td>\n",
       "      <td>1.0000</td>\n",
       "      <td>smartphone</td>\n",
       "      <td>iOS</td>\n",
       "      <td>Apple</td>\n",
       "      <td>57202.0</td>\n",
       "      <td>2</td>\n",
       "      <td>4</td>\n",
       "      <td>31</td>\n",
       "    </tr>\n",
       "    <tr>\n",
       "      <th>269998</th>\n",
       "      <td>28.0</td>\n",
       "      <td>1</td>\n",
       "      <td>205570</td>\n",
       "      <td>215</td>\n",
       "      <td>51</td>\n",
       "      <td>0.429142</td>\n",
       "      <td>0.231537</td>\n",
       "      <td>0.237525</td>\n",
       "      <td>0.101796</td>\n",
       "      <td>32</td>\n",
       "      <td>26.593750</td>\n",
       "      <td>1.107690</td>\n",
       "      <td>0.4775</td>\n",
       "      <td>smartphone</td>\n",
       "      <td>Android</td>\n",
       "      <td>Huawei</td>\n",
       "      <td>14154.0</td>\n",
       "      <td>9</td>\n",
       "      <td>15</td>\n",
       "      <td>60</td>\n",
       "    </tr>\n",
       "    <tr>\n",
       "      <th>269999</th>\n",
       "      <td>68.0</td>\n",
       "      <td>1</td>\n",
       "      <td>103148</td>\n",
       "      <td>384</td>\n",
       "      <td>33</td>\n",
       "      <td>0.447552</td>\n",
       "      <td>0.057110</td>\n",
       "      <td>0.456876</td>\n",
       "      <td>0.038462</td>\n",
       "      <td>55</td>\n",
       "      <td>23.654545</td>\n",
       "      <td>0.901361</td>\n",
       "      <td>0.7534</td>\n",
       "      <td>smartphone</td>\n",
       "      <td>Android</td>\n",
       "      <td>Samsung</td>\n",
       "      <td>14990.0</td>\n",
       "      <td>2</td>\n",
       "      <td>3</td>\n",
       "      <td>123</td>\n",
       "    </tr>\n",
       "  </tbody>\n",
       "</table>\n",
       "<p>270000 rows × 20 columns</p>\n",
       "</div>\n",
       "      <button class=\"colab-df-convert\" onclick=\"convertToInteractive('df-a4003a8d-093c-49aa-9ad8-1c9e2cd2816f')\"\n",
       "              title=\"Convert this dataframe to an interactive table.\"\n",
       "              style=\"display:none;\">\n",
       "        \n",
       "  <svg xmlns=\"http://www.w3.org/2000/svg\" height=\"24px\"viewBox=\"0 0 24 24\"\n",
       "       width=\"24px\">\n",
       "    <path d=\"M0 0h24v24H0V0z\" fill=\"none\"/>\n",
       "    <path d=\"M18.56 5.44l.94 2.06.94-2.06 2.06-.94-2.06-.94-.94-2.06-.94 2.06-2.06.94zm-11 1L8.5 8.5l.94-2.06 2.06-.94-2.06-.94L8.5 2.5l-.94 2.06-2.06.94zm10 10l.94 2.06.94-2.06 2.06-.94-2.06-.94-.94-2.06-.94 2.06-2.06.94z\"/><path d=\"M17.41 7.96l-1.37-1.37c-.4-.4-.92-.59-1.43-.59-.52 0-1.04.2-1.43.59L10.3 9.45l-7.72 7.72c-.78.78-.78 2.05 0 2.83L4 21.41c.39.39.9.59 1.41.59.51 0 1.02-.2 1.41-.59l7.78-7.78 2.81-2.81c.8-.78.8-2.07 0-2.86zM5.41 20L4 18.59l7.72-7.72 1.47 1.35L5.41 20z\"/>\n",
       "  </svg>\n",
       "      </button>\n",
       "      \n",
       "  <style>\n",
       "    .colab-df-container {\n",
       "      display:flex;\n",
       "      flex-wrap:wrap;\n",
       "      gap: 12px;\n",
       "    }\n",
       "\n",
       "    .colab-df-convert {\n",
       "      background-color: #E8F0FE;\n",
       "      border: none;\n",
       "      border-radius: 50%;\n",
       "      cursor: pointer;\n",
       "      display: none;\n",
       "      fill: #1967D2;\n",
       "      height: 32px;\n",
       "      padding: 0 0 0 0;\n",
       "      width: 32px;\n",
       "    }\n",
       "\n",
       "    .colab-df-convert:hover {\n",
       "      background-color: #E2EBFA;\n",
       "      box-shadow: 0px 1px 2px rgba(60, 64, 67, 0.3), 0px 1px 3px 1px rgba(60, 64, 67, 0.15);\n",
       "      fill: #174EA6;\n",
       "    }\n",
       "\n",
       "    [theme=dark] .colab-df-convert {\n",
       "      background-color: #3B4455;\n",
       "      fill: #D2E3FC;\n",
       "    }\n",
       "\n",
       "    [theme=dark] .colab-df-convert:hover {\n",
       "      background-color: #434B5C;\n",
       "      box-shadow: 0px 1px 3px 1px rgba(0, 0, 0, 0.15);\n",
       "      filter: drop-shadow(0px 1px 2px rgba(0, 0, 0, 0.3));\n",
       "      fill: #FFFFFF;\n",
       "    }\n",
       "  </style>\n",
       "\n",
       "      <script>\n",
       "        const buttonEl =\n",
       "          document.querySelector('#df-a4003a8d-093c-49aa-9ad8-1c9e2cd2816f button.colab-df-convert');\n",
       "        buttonEl.style.display =\n",
       "          google.colab.kernel.accessAllowed ? 'block' : 'none';\n",
       "\n",
       "        async function convertToInteractive(key) {\n",
       "          const element = document.querySelector('#df-a4003a8d-093c-49aa-9ad8-1c9e2cd2816f');\n",
       "          const dataTable =\n",
       "            await google.colab.kernel.invokeFunction('convertToInteractive',\n",
       "                                                     [key], {});\n",
       "          if (!dataTable) return;\n",
       "\n",
       "          const docLinkHtml = 'Like what you see? Visit the ' +\n",
       "            '<a target=\"_blank\" href=https://colab.research.google.com/notebooks/data_table.ipynb>data table notebook</a>'\n",
       "            + ' to learn more about interactive tables.';\n",
       "          element.innerHTML = '';\n",
       "          dataTable['output_type'] = 'display_data';\n",
       "          await google.colab.output.renderOutput(dataTable, element);\n",
       "          const docLink = document.createElement('div');\n",
       "          docLink.innerHTML = docLinkHtml;\n",
       "          element.appendChild(docLink);\n",
       "        }\n",
       "      </script>\n",
       "    </div>\n",
       "  </div>\n",
       "  "
      ],
      "text/plain": [
       "         age is_male  user_id  part_of_day_day  part_of_day_night   day_pct  \\\n",
       "0       31.0       1   350459               84                  0  0.471910   \n",
       "1       35.0       1   188276               33                 10  0.297297   \n",
       "2       41.0       0    99002              310                 15  0.485133   \n",
       "3       33.0       0   155506                6                  0  0.272727   \n",
       "4       54.0       0   213873                0                  0  0.000000   \n",
       "...      ...     ...      ...              ...                ...       ...   \n",
       "269995  49.0       1   225374              554                 66  0.335148   \n",
       "269996  22.0       1    25776               26                 36  0.216667   \n",
       "269997  28.0       0   148131               71                 34  0.349754   \n",
       "269998  28.0       1   205570              215                 51  0.429142   \n",
       "269999  68.0       1   103148              384                 33  0.447552   \n",
       "\n",
       "        evening_pct  morning_pct  night_pct  act_days  avg_req_per_day  \\\n",
       "0          0.151685     0.376404   0.000000        28         8.571428   \n",
       "1          0.369369     0.243243   0.090090        14        11.214286   \n",
       "2          0.309859     0.181534   0.023474        48        17.833334   \n",
       "3          0.000000     0.727273   0.000000         2        19.000000   \n",
       "4          0.000000     1.000000   0.000000         1         4.000000   \n",
       "...             ...          ...        ...       ...              ...   \n",
       "269995     0.300665     0.324259   0.039927        37        71.540543   \n",
       "269996     0.425000     0.058333   0.300000        21         7.238095   \n",
       "269997     0.275862     0.206897   0.167488        19        15.473684   \n",
       "269998     0.231537     0.237525   0.101796        32        26.593750   \n",
       "269999     0.057110     0.456876   0.038462        55        23.654545   \n",
       "\n",
       "        requests_std  act_days_pct cpe_type_cd cpe_model_os_type  \\\n",
       "0           0.745626        0.8750  smartphone           Android   \n",
       "1           0.719450        0.8237  smartphone           Android   \n",
       "2           0.729268        0.9060  smartphone           Android   \n",
       "3           1.162174        1.0000  smartphone               iOS   \n",
       "4           0.000000        1.0000  smartphone           Android   \n",
       "...              ...           ...         ...               ...   \n",
       "269995      1.157740        0.9250  smartphone           Android   \n",
       "269996      0.530314        0.8076  smartphone           Android   \n",
       "269997      0.796673        1.0000  smartphone               iOS   \n",
       "269998      1.107690        0.4775  smartphone           Android   \n",
       "269999      0.901361        0.7534  smartphone           Android   \n",
       "\n",
       "       cpe_manufacturer_name    price  region_cnt  city_cnt  url_host_cnt  \n",
       "0                     Xiaomi  14948.0           1         1            36  \n",
       "1                    Samsung  11434.0           1         1            21  \n",
       "2                     Huawei  18288.0           1         3           121  \n",
       "3                      Apple  37090.0           1         1            19  \n",
       "4                     Huawei   8987.0           1         1             4  \n",
       "...                      ...      ...         ...       ...           ...  \n",
       "269995               Samsung  12990.0           4         6           209  \n",
       "269996                Xiaomi   -999.0           1         1            32  \n",
       "269997                 Apple  57202.0           2         4            31  \n",
       "269998                Huawei  14154.0           9        15            60  \n",
       "269999               Samsung  14990.0           2         3           123  \n",
       "\n",
       "[270000 rows x 20 columns]"
      ]
     },
     "execution_count": 23,
     "metadata": {},
     "output_type": "execute_result"
    }
   ],
   "source": [
    "df_train = targets.merge(df, how='inner', on=['user_id'])\n",
    "\n",
    "df_train"
   ]
  },
  {
   "cell_type": "markdown",
   "metadata": {
    "id": "7HcNCawoku_3"
   },
   "source": [
    "# Baseline gender prediction"
   ]
  },
  {
   "cell_type": "code",
   "execution_count": null,
   "metadata": {
    "colab": {
     "base_uri": "https://localhost:8080/"
    },
    "executionInfo": {
     "elapsed": 544,
     "status": "ok",
     "timestamp": 1679734150309,
     "user": {
      "displayName": "Гоша Сидоркин",
      "userId": "09429149278087224251"
     },
     "user_tz": -240
    },
    "id": "PCa5J7SLkm-l",
    "outputId": "9f475c26-c4d5-49db-b45e-a58e12d7d3b3"
   },
   "outputs": [
    {
     "data": {
      "text/plain": [
       "1    135331\n",
       "0    128994\n",
       "Name: is_male, dtype: int64"
      ]
     },
     "execution_count": 24,
     "metadata": {},
     "output_type": "execute_result"
    }
   ],
   "source": [
    "df_train = targets.merge(df, how='inner', on=['user_id'])\n",
    "\n",
    "df_train = df_train[df_train['is_male'] != 'NA']\n",
    "df_train = df_train.dropna()\n",
    "df_train['is_male'] = df_train['is_male'].map(int)\n",
    "df_train['is_male'].value_counts()"
   ]
  },
  {
   "cell_type": "code",
   "execution_count": null,
   "metadata": {
    "colab": {
     "base_uri": "https://localhost:8080/"
    },
    "executionInfo": {
     "elapsed": 4,
     "status": "ok",
     "timestamp": 1679734153055,
     "user": {
      "displayName": "Гоша Сидоркин",
      "userId": "09429149278087224251"
     },
     "user_tz": -240
    },
    "id": "VrPeCYI2n9vh",
    "outputId": "19bdb448-d494-4a52-b46b-319d207c52e0"
   },
   "outputs": [
    {
     "name": "stdout",
     "output_type": "stream",
     "text": [
      "CPU times: user 126 ms, sys: 5.52 ms, total: 131 ms\n",
      "Wall time: 130 ms\n"
     ]
    }
   ],
   "source": [
    "%%time\n",
    "X = df_train.drop(['user_id', 'age', 'is_male'], axis=1)\n",
    "y = df_train['is_male']\n",
    "\n",
    "X_train, X_test, y_train, y_test = train_test_split(X,\n",
    "                                                    y,\n",
    "                                                    test_size=0.2,\n",
    "                                                    shuffle=True,\n",
    "                                                    stratify=y,\n",
    "                                                    random_state=RAND)\n",
    "\n",
    "X_train_, X_val, y_train_, y_val = train_test_split(X_train,\n",
    "                                                    y_train,\n",
    "                                                    test_size=0.16,\n",
    "                                                    shuffle=True,\n",
    "                                                    stratify=y_train,\n",
    "                                                    random_state=RAND)\n",
    "\n",
    "# значение для scale_pos_weight\n",
    "ratio = float(np.sum(y == 0)) / np.sum(y == 1)"
   ]
  },
  {
   "cell_type": "markdown",
   "metadata": {
    "id": "4Mp7q1t-qejH"
   },
   "source": [
    "## LGBM"
   ]
  },
  {
   "cell_type": "code",
   "execution_count": null,
   "metadata": {
    "colab": {
     "base_uri": "https://localhost:8080/",
     "height": 108
    },
    "executionInfo": {
     "elapsed": 2327,
     "status": "ok",
     "timestamp": 1679734165566,
     "user": {
      "displayName": "Гоша Сидоркин",
      "userId": "09429149278087224251"
     },
     "user_tz": -240
    },
    "id": "7h8rKN-FoOm8",
    "outputId": "828b2d99-23a0-4b9f-c457-330eeb34d380"
   },
   "outputs": [
    {
     "name": "stdout",
     "output_type": "stream",
     "text": [
      "CPU times: user 5.01 s, sys: 7.67 ms, total: 5.02 s\n",
      "Wall time: 1.35 s\n"
     ]
    },
    {
     "data": {
      "text/html": [
       "<style>#sk-container-id-1 {color: black;background-color: white;}#sk-container-id-1 pre{padding: 0;}#sk-container-id-1 div.sk-toggleable {background-color: white;}#sk-container-id-1 label.sk-toggleable__label {cursor: pointer;display: block;width: 100%;margin-bottom: 0;padding: 0.3em;box-sizing: border-box;text-align: center;}#sk-container-id-1 label.sk-toggleable__label-arrow:before {content: \"▸\";float: left;margin-right: 0.25em;color: #696969;}#sk-container-id-1 label.sk-toggleable__label-arrow:hover:before {color: black;}#sk-container-id-1 div.sk-estimator:hover label.sk-toggleable__label-arrow:before {color: black;}#sk-container-id-1 div.sk-toggleable__content {max-height: 0;max-width: 0;overflow: hidden;text-align: left;background-color: #f0f8ff;}#sk-container-id-1 div.sk-toggleable__content pre {margin: 0.2em;color: black;border-radius: 0.25em;background-color: #f0f8ff;}#sk-container-id-1 input.sk-toggleable__control:checked~div.sk-toggleable__content {max-height: 200px;max-width: 100%;overflow: auto;}#sk-container-id-1 input.sk-toggleable__control:checked~label.sk-toggleable__label-arrow:before {content: \"▾\";}#sk-container-id-1 div.sk-estimator input.sk-toggleable__control:checked~label.sk-toggleable__label {background-color: #d4ebff;}#sk-container-id-1 div.sk-label input.sk-toggleable__control:checked~label.sk-toggleable__label {background-color: #d4ebff;}#sk-container-id-1 input.sk-hidden--visually {border: 0;clip: rect(1px 1px 1px 1px);clip: rect(1px, 1px, 1px, 1px);height: 1px;margin: -1px;overflow: hidden;padding: 0;position: absolute;width: 1px;}#sk-container-id-1 div.sk-estimator {font-family: monospace;background-color: #f0f8ff;border: 1px dotted black;border-radius: 0.25em;box-sizing: border-box;margin-bottom: 0.5em;}#sk-container-id-1 div.sk-estimator:hover {background-color: #d4ebff;}#sk-container-id-1 div.sk-parallel-item::after {content: \"\";width: 100%;border-bottom: 1px solid gray;flex-grow: 1;}#sk-container-id-1 div.sk-label:hover label.sk-toggleable__label {background-color: #d4ebff;}#sk-container-id-1 div.sk-serial::before {content: \"\";position: absolute;border-left: 1px solid gray;box-sizing: border-box;top: 0;bottom: 0;left: 50%;z-index: 0;}#sk-container-id-1 div.sk-serial {display: flex;flex-direction: column;align-items: center;background-color: white;padding-right: 0.2em;padding-left: 0.2em;position: relative;}#sk-container-id-1 div.sk-item {position: relative;z-index: 1;}#sk-container-id-1 div.sk-parallel {display: flex;align-items: stretch;justify-content: center;background-color: white;position: relative;}#sk-container-id-1 div.sk-item::before, #sk-container-id-1 div.sk-parallel-item::before {content: \"\";position: absolute;border-left: 1px solid gray;box-sizing: border-box;top: 0;bottom: 0;left: 50%;z-index: -1;}#sk-container-id-1 div.sk-parallel-item {display: flex;flex-direction: column;z-index: 1;position: relative;background-color: white;}#sk-container-id-1 div.sk-parallel-item:first-child::after {align-self: flex-end;width: 50%;}#sk-container-id-1 div.sk-parallel-item:last-child::after {align-self: flex-start;width: 50%;}#sk-container-id-1 div.sk-parallel-item:only-child::after {width: 0;}#sk-container-id-1 div.sk-dashed-wrapped {border: 1px dashed gray;margin: 0 0.4em 0.5em 0.4em;box-sizing: border-box;padding-bottom: 0.4em;background-color: white;}#sk-container-id-1 div.sk-label label {font-family: monospace;font-weight: bold;display: inline-block;line-height: 1.2em;}#sk-container-id-1 div.sk-label-container {text-align: center;}#sk-container-id-1 div.sk-container {/* jupyter's `normalize.less` sets `[hidden] { display: none; }` but bootstrap.min.css set `[hidden] { display: none !important; }` so we also need the `!important` here to be able to override the default hidden behavior on the sphinx rendered scikit-learn.org. See: https://github.com/scikit-learn/scikit-learn/issues/21755 */display: inline-block !important;position: relative;}#sk-container-id-1 div.sk-text-repr-fallback {display: none;}</style><div id=\"sk-container-id-1\" class=\"sk-top-container\"><div class=\"sk-text-repr-fallback\"><pre>LGBMClassifier(random_state=42, scale_pos_weight=0.9531740695036613)</pre><b>In a Jupyter environment, please rerun this cell to show the HTML representation or trust the notebook. <br />On GitHub, the HTML representation is unable to render, please try loading this page with nbviewer.org.</b></div><div class=\"sk-container\" hidden><div class=\"sk-item\"><div class=\"sk-estimator sk-toggleable\"><input class=\"sk-toggleable__control sk-hidden--visually\" id=\"sk-estimator-id-1\" type=\"checkbox\" checked><label for=\"sk-estimator-id-1\" class=\"sk-toggleable__label sk-toggleable__label-arrow\">LGBMClassifier</label><div class=\"sk-toggleable__content\"><pre>LGBMClassifier(random_state=42, scale_pos_weight=0.9531740695036613)</pre></div></div></div></div></div>"
      ],
      "text/plain": [
       "LGBMClassifier(random_state=42, scale_pos_weight=0.9531740695036613)"
      ]
     },
     "execution_count": 26,
     "metadata": {},
     "output_type": "execute_result"
    }
   ],
   "source": [
    "%%time\n",
    "lgbm_gender = LGBMClassifier(random_state=RAND, scale_pos_weight=ratio)\n",
    "eval_set = [(X_val, y_val)]\n",
    "\n",
    "lgbm_gender.fit(X_train_,\n",
    "                y_train_,\n",
    "                eval_metric='auc',\n",
    "                eval_set=eval_set,\n",
    "                early_stopping_rounds=100,\n",
    "                verbose=False)"
   ]
  },
  {
   "cell_type": "code",
   "execution_count": null,
   "metadata": {
    "colab": {
     "base_uri": "https://localhost:8080/"
    },
    "executionInfo": {
     "elapsed": 494,
     "status": "ok",
     "timestamp": 1679734168000,
     "user": {
      "displayName": "Гоша Сидоркин",
      "userId": "09429149278087224251"
     },
     "user_tz": -240
    },
    "id": "iTqNfRmjow9r",
    "outputId": "1583a29b-0ab6-41ee-ab3d-2bf18c5910c0"
   },
   "outputs": [
    {
     "name": "stdout",
     "output_type": "stream",
     "text": [
      "GINI по полу 0.257\n"
     ]
    }
   ],
   "source": [
    "print(\n",
    "    f'GINI по полу {2 * m.roc_auc_score(y_test, lgbm_gender.predict_proba(X_test)[:,1]) - 1:2.3f}'\n",
    ")"
   ]
  },
  {
   "cell_type": "code",
   "execution_count": null,
   "metadata": {
    "colab": {
     "base_uri": "https://localhost:8080/"
    },
    "executionInfo": {
     "elapsed": 1013,
     "status": "ok",
     "timestamp": 1679734174141,
     "user": {
      "displayName": "Гоша Сидоркин",
      "userId": "09429149278087224251"
     },
     "user_tz": -240
    },
    "id": "nVAg9BECokJ4",
    "outputId": "8d4a98f5-510c-4565-ff87-683f260e7b88"
   },
   "outputs": [
    {
     "name": "stdout",
     "output_type": "stream",
     "text": [
      "ROC-AUC train = 0.652\n",
      "ROC-AUC test = 0.629\n",
      "delta = 3.67%\n"
     ]
    }
   ],
   "source": [
    "check_overfitting_classification(lgbm_gender, X_train, y_train, X_test, y_test)"
   ]
  },
  {
   "cell_type": "code",
   "execution_count": null,
   "metadata": {
    "colab": {
     "base_uri": "https://localhost:8080/",
     "height": 80
    },
    "executionInfo": {
     "elapsed": 565,
     "status": "ok",
     "timestamp": 1679734179241,
     "user": {
      "displayName": "Гоша Сидоркин",
      "userId": "09429149278087224251"
     },
     "user_tz": -240
    },
    "id": "epzaR9pgrWyA",
    "outputId": "222fbdcf-19c2-4cfa-85a3-ce24e06dd655"
   },
   "outputs": [
    {
     "data": {
      "text/html": [
       "\n",
       "  <div id=\"df-530a2143-7e4d-4339-90fb-450a6785c528\">\n",
       "    <div class=\"colab-df-container\">\n",
       "      <div>\n",
       "<style scoped>\n",
       "    .dataframe tbody tr th:only-of-type {\n",
       "        vertical-align: middle;\n",
       "    }\n",
       "\n",
       "    .dataframe tbody tr th {\n",
       "        vertical-align: top;\n",
       "    }\n",
       "\n",
       "    .dataframe thead th {\n",
       "        text-align: right;\n",
       "    }\n",
       "</style>\n",
       "<table border=\"1\" class=\"dataframe\">\n",
       "  <thead>\n",
       "    <tr style=\"text-align: right;\">\n",
       "      <th></th>\n",
       "      <th>model</th>\n",
       "      <th>Precision</th>\n",
       "      <th>Recall</th>\n",
       "      <th>f1</th>\n",
       "      <th>ROC_AUC</th>\n",
       "      <th>GINI</th>\n",
       "    </tr>\n",
       "  </thead>\n",
       "  <tbody>\n",
       "    <tr>\n",
       "      <th>0</th>\n",
       "      <td>LGBMBaseline</td>\n",
       "      <td>0.607814</td>\n",
       "      <td>0.564989</td>\n",
       "      <td>0.58562</td>\n",
       "      <td>0.628592</td>\n",
       "      <td>0.257185</td>\n",
       "    </tr>\n",
       "  </tbody>\n",
       "</table>\n",
       "</div>\n",
       "      <button class=\"colab-df-convert\" onclick=\"convertToInteractive('df-530a2143-7e4d-4339-90fb-450a6785c528')\"\n",
       "              title=\"Convert this dataframe to an interactive table.\"\n",
       "              style=\"display:none;\">\n",
       "        \n",
       "  <svg xmlns=\"http://www.w3.org/2000/svg\" height=\"24px\"viewBox=\"0 0 24 24\"\n",
       "       width=\"24px\">\n",
       "    <path d=\"M0 0h24v24H0V0z\" fill=\"none\"/>\n",
       "    <path d=\"M18.56 5.44l.94 2.06.94-2.06 2.06-.94-2.06-.94-.94-2.06-.94 2.06-2.06.94zm-11 1L8.5 8.5l.94-2.06 2.06-.94-2.06-.94L8.5 2.5l-.94 2.06-2.06.94zm10 10l.94 2.06.94-2.06 2.06-.94-2.06-.94-.94-2.06-.94 2.06-2.06.94z\"/><path d=\"M17.41 7.96l-1.37-1.37c-.4-.4-.92-.59-1.43-.59-.52 0-1.04.2-1.43.59L10.3 9.45l-7.72 7.72c-.78.78-.78 2.05 0 2.83L4 21.41c.39.39.9.59 1.41.59.51 0 1.02-.2 1.41-.59l7.78-7.78 2.81-2.81c.8-.78.8-2.07 0-2.86zM5.41 20L4 18.59l7.72-7.72 1.47 1.35L5.41 20z\"/>\n",
       "  </svg>\n",
       "      </button>\n",
       "      \n",
       "  <style>\n",
       "    .colab-df-container {\n",
       "      display:flex;\n",
       "      flex-wrap:wrap;\n",
       "      gap: 12px;\n",
       "    }\n",
       "\n",
       "    .colab-df-convert {\n",
       "      background-color: #E8F0FE;\n",
       "      border: none;\n",
       "      border-radius: 50%;\n",
       "      cursor: pointer;\n",
       "      display: none;\n",
       "      fill: #1967D2;\n",
       "      height: 32px;\n",
       "      padding: 0 0 0 0;\n",
       "      width: 32px;\n",
       "    }\n",
       "\n",
       "    .colab-df-convert:hover {\n",
       "      background-color: #E2EBFA;\n",
       "      box-shadow: 0px 1px 2px rgba(60, 64, 67, 0.3), 0px 1px 3px 1px rgba(60, 64, 67, 0.15);\n",
       "      fill: #174EA6;\n",
       "    }\n",
       "\n",
       "    [theme=dark] .colab-df-convert {\n",
       "      background-color: #3B4455;\n",
       "      fill: #D2E3FC;\n",
       "    }\n",
       "\n",
       "    [theme=dark] .colab-df-convert:hover {\n",
       "      background-color: #434B5C;\n",
       "      box-shadow: 0px 1px 3px 1px rgba(0, 0, 0, 0.15);\n",
       "      filter: drop-shadow(0px 1px 2px rgba(0, 0, 0, 0.3));\n",
       "      fill: #FFFFFF;\n",
       "    }\n",
       "  </style>\n",
       "\n",
       "      <script>\n",
       "        const buttonEl =\n",
       "          document.querySelector('#df-530a2143-7e4d-4339-90fb-450a6785c528 button.colab-df-convert');\n",
       "        buttonEl.style.display =\n",
       "          google.colab.kernel.accessAllowed ? 'block' : 'none';\n",
       "\n",
       "        async function convertToInteractive(key) {\n",
       "          const element = document.querySelector('#df-530a2143-7e4d-4339-90fb-450a6785c528');\n",
       "          const dataTable =\n",
       "            await google.colab.kernel.invokeFunction('convertToInteractive',\n",
       "                                                     [key], {});\n",
       "          if (!dataTable) return;\n",
       "\n",
       "          const docLinkHtml = 'Like what you see? Visit the ' +\n",
       "            '<a target=\"_blank\" href=https://colab.research.google.com/notebooks/data_table.ipynb>data table notebook</a>'\n",
       "            + ' to learn more about interactive tables.';\n",
       "          element.innerHTML = '';\n",
       "          dataTable['output_type'] = 'display_data';\n",
       "          await google.colab.output.renderOutput(dataTable, element);\n",
       "          const docLink = document.createElement('div');\n",
       "          docLink.innerHTML = docLinkHtml;\n",
       "          element.appendChild(docLink);\n",
       "        }\n",
       "      </script>\n",
       "    </div>\n",
       "  </div>\n",
       "  "
      ],
      "text/plain": [
       "          model  Precision    Recall       f1   ROC_AUC      GINI\n",
       "0  LGBMBaseline   0.607814  0.564989  0.58562  0.628592  0.257185"
      ]
     },
     "execution_count": 29,
     "metadata": {},
     "output_type": "execute_result"
    }
   ],
   "source": [
    "y_pred_test = lgbm_gender.predict(X_test)\n",
    "y_score_test = lgbm_gender.predict_proba(X_test)\n",
    "\n",
    "metrics_gender = get_metrics_classification(y_test,\n",
    "                                            y_pred_test,\n",
    "                                            y_score_test,\n",
    "                                            name='LGBMBaseline')\n",
    "metrics_gender"
   ]
  },
  {
   "cell_type": "markdown",
   "metadata": {
    "id": "U_wKEQ_ctxbg"
   },
   "source": [
    "## CatBoost"
   ]
  },
  {
   "cell_type": "code",
   "execution_count": null,
   "metadata": {
    "colab": {
     "base_uri": "https://localhost:8080/"
    },
    "executionInfo": {
     "elapsed": 28583,
     "status": "ok",
     "timestamp": 1679734215742,
     "user": {
      "displayName": "Гоша Сидоркин",
      "userId": "09429149278087224251"
     },
     "user_tz": -240
    },
    "id": "CvWjS6ZHlVG4",
    "outputId": "0fc35611-a131-4be8-e09c-10abb0fd67b8"
   },
   "outputs": [
    {
     "name": "stdout",
     "output_type": "stream",
     "text": [
      "CPU times: user 1min 31s, sys: 2.78 s, total: 1min 34s\n",
      "Wall time: 28.1 s\n"
     ]
    },
    {
     "data": {
      "text/plain": [
       "<catboost.core.CatBoostClassifier at 0x7f56303db250>"
      ]
     },
     "execution_count": 30,
     "metadata": {},
     "output_type": "execute_result"
    }
   ],
   "source": [
    "%%time\n",
    "cat_features = X.select_dtypes('category').columns.tolist()\n",
    "cat_gender = CatBoostClassifier(allow_writing_files=False,\n",
    "                                random_state=RAND,\n",
    "                                eval_metric=\"AUC\",\n",
    "                                cat_features=cat_features,\n",
    "                                scale_pos_weight=ratio)\n",
    "eval_set = [(X_val, y_val)]\n",
    "\n",
    "cat_gender.fit(X_train_,\n",
    "               y_train_,\n",
    "               eval_set=eval_set,\n",
    "               verbose=False,\n",
    "               early_stopping_rounds=100)"
   ]
  },
  {
   "cell_type": "code",
   "execution_count": null,
   "metadata": {
    "colab": {
     "base_uri": "https://localhost:8080/"
    },
    "executionInfo": {
     "elapsed": 571,
     "status": "ok",
     "timestamp": 1679734218209,
     "user": {
      "displayName": "Гоша Сидоркин",
      "userId": "09429149278087224251"
     },
     "user_tz": -240
    },
    "id": "cpj_I4aOlktX",
    "outputId": "c6b45a15-8360-46cd-8b56-f98734d3edd1"
   },
   "outputs": [
    {
     "name": "stdout",
     "output_type": "stream",
     "text": [
      "GINI по полу 0.260\n"
     ]
    }
   ],
   "source": [
    "print(\n",
    "    f'GINI по полу {2 * m.roc_auc_score(y_test, cat_gender.predict_proba(X_test)[:,1]) - 1:2.3f}'\n",
    ")"
   ]
  },
  {
   "cell_type": "code",
   "execution_count": null,
   "metadata": {
    "colab": {
     "base_uri": "https://localhost:8080/"
    },
    "executionInfo": {
     "elapsed": 524,
     "status": "ok",
     "timestamp": 1679734221143,
     "user": {
      "displayName": "Гоша Сидоркин",
      "userId": "09429149278087224251"
     },
     "user_tz": -240
    },
    "id": "35N4Ks_IuLd-",
    "outputId": "158d8ed6-ecbb-49f5-a09c-39e4652cda79"
   },
   "outputs": [
    {
     "name": "stdout",
     "output_type": "stream",
     "text": [
      "ROC-AUC train = 0.653\n",
      "ROC-AUC test = 0.630\n",
      "delta = 3.57%\n"
     ]
    }
   ],
   "source": [
    "check_overfitting_classification(cat_gender, X_train, y_train, X_test, y_test)"
   ]
  },
  {
   "cell_type": "code",
   "execution_count": null,
   "metadata": {
    "colab": {
     "base_uri": "https://localhost:8080/",
     "height": 111
    },
    "executionInfo": {
     "elapsed": 3,
     "status": "ok",
     "timestamp": 1679734223973,
     "user": {
      "displayName": "Гоша Сидоркин",
      "userId": "09429149278087224251"
     },
     "user_tz": -240
    },
    "id": "Rb7uihUXuLf-",
    "outputId": "37a7e3e6-7c26-4eda-83f8-e117ff5f8eb1"
   },
   "outputs": [
    {
     "data": {
      "text/html": [
       "\n",
       "  <div id=\"df-fc7ec851-c91c-4bdc-9884-cf53e3a811bf\">\n",
       "    <div class=\"colab-df-container\">\n",
       "      <div>\n",
       "<style scoped>\n",
       "    .dataframe tbody tr th:only-of-type {\n",
       "        vertical-align: middle;\n",
       "    }\n",
       "\n",
       "    .dataframe tbody tr th {\n",
       "        vertical-align: top;\n",
       "    }\n",
       "\n",
       "    .dataframe thead th {\n",
       "        text-align: right;\n",
       "    }\n",
       "</style>\n",
       "<table border=\"1\" class=\"dataframe\">\n",
       "  <thead>\n",
       "    <tr style=\"text-align: right;\">\n",
       "      <th></th>\n",
       "      <th>model</th>\n",
       "      <th>Precision</th>\n",
       "      <th>Recall</th>\n",
       "      <th>f1</th>\n",
       "      <th>ROC_AUC</th>\n",
       "      <th>GINI</th>\n",
       "    </tr>\n",
       "  </thead>\n",
       "  <tbody>\n",
       "    <tr>\n",
       "      <th>0</th>\n",
       "      <td>LGBMBaseline</td>\n",
       "      <td>0.607814</td>\n",
       "      <td>0.564989</td>\n",
       "      <td>0.585620</td>\n",
       "      <td>0.628592</td>\n",
       "      <td>0.257185</td>\n",
       "    </tr>\n",
       "    <tr>\n",
       "      <th>0</th>\n",
       "      <td>CatBoostBaseline</td>\n",
       "      <td>0.611604</td>\n",
       "      <td>0.565913</td>\n",
       "      <td>0.587872</td>\n",
       "      <td>0.630034</td>\n",
       "      <td>0.260068</td>\n",
       "    </tr>\n",
       "  </tbody>\n",
       "</table>\n",
       "</div>\n",
       "      <button class=\"colab-df-convert\" onclick=\"convertToInteractive('df-fc7ec851-c91c-4bdc-9884-cf53e3a811bf')\"\n",
       "              title=\"Convert this dataframe to an interactive table.\"\n",
       "              style=\"display:none;\">\n",
       "        \n",
       "  <svg xmlns=\"http://www.w3.org/2000/svg\" height=\"24px\"viewBox=\"0 0 24 24\"\n",
       "       width=\"24px\">\n",
       "    <path d=\"M0 0h24v24H0V0z\" fill=\"none\"/>\n",
       "    <path d=\"M18.56 5.44l.94 2.06.94-2.06 2.06-.94-2.06-.94-.94-2.06-.94 2.06-2.06.94zm-11 1L8.5 8.5l.94-2.06 2.06-.94-2.06-.94L8.5 2.5l-.94 2.06-2.06.94zm10 10l.94 2.06.94-2.06 2.06-.94-2.06-.94-.94-2.06-.94 2.06-2.06.94z\"/><path d=\"M17.41 7.96l-1.37-1.37c-.4-.4-.92-.59-1.43-.59-.52 0-1.04.2-1.43.59L10.3 9.45l-7.72 7.72c-.78.78-.78 2.05 0 2.83L4 21.41c.39.39.9.59 1.41.59.51 0 1.02-.2 1.41-.59l7.78-7.78 2.81-2.81c.8-.78.8-2.07 0-2.86zM5.41 20L4 18.59l7.72-7.72 1.47 1.35L5.41 20z\"/>\n",
       "  </svg>\n",
       "      </button>\n",
       "      \n",
       "  <style>\n",
       "    .colab-df-container {\n",
       "      display:flex;\n",
       "      flex-wrap:wrap;\n",
       "      gap: 12px;\n",
       "    }\n",
       "\n",
       "    .colab-df-convert {\n",
       "      background-color: #E8F0FE;\n",
       "      border: none;\n",
       "      border-radius: 50%;\n",
       "      cursor: pointer;\n",
       "      display: none;\n",
       "      fill: #1967D2;\n",
       "      height: 32px;\n",
       "      padding: 0 0 0 0;\n",
       "      width: 32px;\n",
       "    }\n",
       "\n",
       "    .colab-df-convert:hover {\n",
       "      background-color: #E2EBFA;\n",
       "      box-shadow: 0px 1px 2px rgba(60, 64, 67, 0.3), 0px 1px 3px 1px rgba(60, 64, 67, 0.15);\n",
       "      fill: #174EA6;\n",
       "    }\n",
       "\n",
       "    [theme=dark] .colab-df-convert {\n",
       "      background-color: #3B4455;\n",
       "      fill: #D2E3FC;\n",
       "    }\n",
       "\n",
       "    [theme=dark] .colab-df-convert:hover {\n",
       "      background-color: #434B5C;\n",
       "      box-shadow: 0px 1px 3px 1px rgba(0, 0, 0, 0.15);\n",
       "      filter: drop-shadow(0px 1px 2px rgba(0, 0, 0, 0.3));\n",
       "      fill: #FFFFFF;\n",
       "    }\n",
       "  </style>\n",
       "\n",
       "      <script>\n",
       "        const buttonEl =\n",
       "          document.querySelector('#df-fc7ec851-c91c-4bdc-9884-cf53e3a811bf button.colab-df-convert');\n",
       "        buttonEl.style.display =\n",
       "          google.colab.kernel.accessAllowed ? 'block' : 'none';\n",
       "\n",
       "        async function convertToInteractive(key) {\n",
       "          const element = document.querySelector('#df-fc7ec851-c91c-4bdc-9884-cf53e3a811bf');\n",
       "          const dataTable =\n",
       "            await google.colab.kernel.invokeFunction('convertToInteractive',\n",
       "                                                     [key], {});\n",
       "          if (!dataTable) return;\n",
       "\n",
       "          const docLinkHtml = 'Like what you see? Visit the ' +\n",
       "            '<a target=\"_blank\" href=https://colab.research.google.com/notebooks/data_table.ipynb>data table notebook</a>'\n",
       "            + ' to learn more about interactive tables.';\n",
       "          element.innerHTML = '';\n",
       "          dataTable['output_type'] = 'display_data';\n",
       "          await google.colab.output.renderOutput(dataTable, element);\n",
       "          const docLink = document.createElement('div');\n",
       "          docLink.innerHTML = docLinkHtml;\n",
       "          element.appendChild(docLink);\n",
       "        }\n",
       "      </script>\n",
       "    </div>\n",
       "  </div>\n",
       "  "
      ],
      "text/plain": [
       "              model  Precision    Recall        f1   ROC_AUC      GINI\n",
       "0      LGBMBaseline   0.607814  0.564989  0.585620  0.628592  0.257185\n",
       "0  CatBoostBaseline   0.611604  0.565913  0.587872  0.630034  0.260068"
      ]
     },
     "execution_count": 33,
     "metadata": {},
     "output_type": "execute_result"
    }
   ],
   "source": [
    "y_pred_test = cat_gender.predict(X_test)\n",
    "y_score_test = cat_gender.predict_proba(X_test)\n",
    "\n",
    "metrics_gender = metrics_gender.append(\n",
    "    get_metrics_classification(y_test,\n",
    "                               y_pred_test,\n",
    "                               y_score_test,\n",
    "                               name='CatBoostBaseline'))\n",
    "metrics_gender"
   ]
  },
  {
   "cell_type": "markdown",
   "metadata": {
    "id": "YCozoZGKyo3U"
   },
   "source": [
    "## XGBoost"
   ]
  },
  {
   "cell_type": "code",
   "execution_count": null,
   "metadata": {
    "colab": {
     "base_uri": "https://localhost:8080/"
    },
    "executionInfo": {
     "elapsed": 643,
     "status": "ok",
     "timestamp": 1679734248408,
     "user": {
      "displayName": "Гоша Сидоркин",
      "userId": "09429149278087224251"
     },
     "user_tz": -240
    },
    "id": "DMP93MK3yMe8",
    "outputId": "b805d340-778d-422f-eb2d-c37cf01986e6"
   },
   "outputs": [
    {
     "name": "stdout",
     "output_type": "stream",
     "text": [
      "CPU times: user 264 ms, sys: 3.89 ms, total: 268 ms\n",
      "Wall time: 267 ms\n"
     ]
    }
   ],
   "source": [
    "%%time\n",
    "X = pd.get_dummies(df_train.drop(['user_id', 'age', 'is_male'], axis=1))\n",
    "y = df_train['is_male']\n",
    "\n",
    "X_train, X_test, y_train, y_test = train_test_split(X,\n",
    "                                                    y,\n",
    "                                                    test_size=0.2,\n",
    "                                                    shuffle=True,\n",
    "                                                    stratify=y,\n",
    "                                                    random_state=RAND)\n",
    "\n",
    "X_train_, X_val, y_train_, y_val = train_test_split(X_train,\n",
    "                                                    y_train,\n",
    "                                                    test_size=0.16,\n",
    "                                                    shuffle=True,\n",
    "                                                    stratify=y_train,\n",
    "                                                    random_state=RAND)\n",
    "\n",
    "# значение для scale_pos_weight\n",
    "ratio = float(np.sum(y == 0)) / np.sum(y == 1)"
   ]
  },
  {
   "cell_type": "code",
   "execution_count": null,
   "metadata": {
    "colab": {
     "base_uri": "https://localhost:8080/",
     "height": 278
    },
    "executionInfo": {
     "elapsed": 22439,
     "status": "ok",
     "timestamp": 1679734275040,
     "user": {
      "displayName": "Гоша Сидоркин",
      "userId": "09429149278087224251"
     },
     "user_tz": -240
    },
    "id": "n9ZYW-LyuLme",
    "outputId": "0abb0dde-8a53-4deb-ae32-8c5604359f45"
   },
   "outputs": [
    {
     "name": "stdout",
     "output_type": "stream",
     "text": [
      "CPU times: user 1min 21s, sys: 84.5 ms, total: 1min 21s\n",
      "Wall time: 21.9 s\n"
     ]
    },
    {
     "data": {
      "text/html": [
       "<style>#sk-container-id-2 {color: black;background-color: white;}#sk-container-id-2 pre{padding: 0;}#sk-container-id-2 div.sk-toggleable {background-color: white;}#sk-container-id-2 label.sk-toggleable__label {cursor: pointer;display: block;width: 100%;margin-bottom: 0;padding: 0.3em;box-sizing: border-box;text-align: center;}#sk-container-id-2 label.sk-toggleable__label-arrow:before {content: \"▸\";float: left;margin-right: 0.25em;color: #696969;}#sk-container-id-2 label.sk-toggleable__label-arrow:hover:before {color: black;}#sk-container-id-2 div.sk-estimator:hover label.sk-toggleable__label-arrow:before {color: black;}#sk-container-id-2 div.sk-toggleable__content {max-height: 0;max-width: 0;overflow: hidden;text-align: left;background-color: #f0f8ff;}#sk-container-id-2 div.sk-toggleable__content pre {margin: 0.2em;color: black;border-radius: 0.25em;background-color: #f0f8ff;}#sk-container-id-2 input.sk-toggleable__control:checked~div.sk-toggleable__content {max-height: 200px;max-width: 100%;overflow: auto;}#sk-container-id-2 input.sk-toggleable__control:checked~label.sk-toggleable__label-arrow:before {content: \"▾\";}#sk-container-id-2 div.sk-estimator input.sk-toggleable__control:checked~label.sk-toggleable__label {background-color: #d4ebff;}#sk-container-id-2 div.sk-label input.sk-toggleable__control:checked~label.sk-toggleable__label {background-color: #d4ebff;}#sk-container-id-2 input.sk-hidden--visually {border: 0;clip: rect(1px 1px 1px 1px);clip: rect(1px, 1px, 1px, 1px);height: 1px;margin: -1px;overflow: hidden;padding: 0;position: absolute;width: 1px;}#sk-container-id-2 div.sk-estimator {font-family: monospace;background-color: #f0f8ff;border: 1px dotted black;border-radius: 0.25em;box-sizing: border-box;margin-bottom: 0.5em;}#sk-container-id-2 div.sk-estimator:hover {background-color: #d4ebff;}#sk-container-id-2 div.sk-parallel-item::after {content: \"\";width: 100%;border-bottom: 1px solid gray;flex-grow: 1;}#sk-container-id-2 div.sk-label:hover label.sk-toggleable__label {background-color: #d4ebff;}#sk-container-id-2 div.sk-serial::before {content: \"\";position: absolute;border-left: 1px solid gray;box-sizing: border-box;top: 0;bottom: 0;left: 50%;z-index: 0;}#sk-container-id-2 div.sk-serial {display: flex;flex-direction: column;align-items: center;background-color: white;padding-right: 0.2em;padding-left: 0.2em;position: relative;}#sk-container-id-2 div.sk-item {position: relative;z-index: 1;}#sk-container-id-2 div.sk-parallel {display: flex;align-items: stretch;justify-content: center;background-color: white;position: relative;}#sk-container-id-2 div.sk-item::before, #sk-container-id-2 div.sk-parallel-item::before {content: \"\";position: absolute;border-left: 1px solid gray;box-sizing: border-box;top: 0;bottom: 0;left: 50%;z-index: -1;}#sk-container-id-2 div.sk-parallel-item {display: flex;flex-direction: column;z-index: 1;position: relative;background-color: white;}#sk-container-id-2 div.sk-parallel-item:first-child::after {align-self: flex-end;width: 50%;}#sk-container-id-2 div.sk-parallel-item:last-child::after {align-self: flex-start;width: 50%;}#sk-container-id-2 div.sk-parallel-item:only-child::after {width: 0;}#sk-container-id-2 div.sk-dashed-wrapped {border: 1px dashed gray;margin: 0 0.4em 0.5em 0.4em;box-sizing: border-box;padding-bottom: 0.4em;background-color: white;}#sk-container-id-2 div.sk-label label {font-family: monospace;font-weight: bold;display: inline-block;line-height: 1.2em;}#sk-container-id-2 div.sk-label-container {text-align: center;}#sk-container-id-2 div.sk-container {/* jupyter's `normalize.less` sets `[hidden] { display: none; }` but bootstrap.min.css set `[hidden] { display: none !important; }` so we also need the `!important` here to be able to override the default hidden behavior on the sphinx rendered scikit-learn.org. See: https://github.com/scikit-learn/scikit-learn/issues/21755 */display: inline-block !important;position: relative;}#sk-container-id-2 div.sk-text-repr-fallback {display: none;}</style><div id=\"sk-container-id-2\" class=\"sk-top-container\"><div class=\"sk-text-repr-fallback\"><pre>XGBClassifier(base_score=None, booster=None, callbacks=None,\n",
       "              colsample_bylevel=None, colsample_bynode=None,\n",
       "              colsample_bytree=None, early_stopping_rounds=None,\n",
       "              enable_categorical=False, eval_metric=None, feature_types=None,\n",
       "              gamma=None, gpu_id=None, grow_policy=None, importance_type=None,\n",
       "              interaction_constraints=None, learning_rate=None, max_bin=None,\n",
       "              max_cat_threshold=None, max_cat_to_onehot=None,\n",
       "              max_delta_step=None, max_depth=None, max_leaves=None,\n",
       "              min_child_weight=None, missing=nan, monotone_constraints=None,\n",
       "              n_estimators=100, n_jobs=None, num_parallel_tree=None,\n",
       "              predictor=None, random_state=42, ...)</pre><b>In a Jupyter environment, please rerun this cell to show the HTML representation or trust the notebook. <br />On GitHub, the HTML representation is unable to render, please try loading this page with nbviewer.org.</b></div><div class=\"sk-container\" hidden><div class=\"sk-item\"><div class=\"sk-estimator sk-toggleable\"><input class=\"sk-toggleable__control sk-hidden--visually\" id=\"sk-estimator-id-2\" type=\"checkbox\" checked><label for=\"sk-estimator-id-2\" class=\"sk-toggleable__label sk-toggleable__label-arrow\">XGBClassifier</label><div class=\"sk-toggleable__content\"><pre>XGBClassifier(base_score=None, booster=None, callbacks=None,\n",
       "              colsample_bylevel=None, colsample_bynode=None,\n",
       "              colsample_bytree=None, early_stopping_rounds=None,\n",
       "              enable_categorical=False, eval_metric=None, feature_types=None,\n",
       "              gamma=None, gpu_id=None, grow_policy=None, importance_type=None,\n",
       "              interaction_constraints=None, learning_rate=None, max_bin=None,\n",
       "              max_cat_threshold=None, max_cat_to_onehot=None,\n",
       "              max_delta_step=None, max_depth=None, max_leaves=None,\n",
       "              min_child_weight=None, missing=nan, monotone_constraints=None,\n",
       "              n_estimators=100, n_jobs=None, num_parallel_tree=None,\n",
       "              predictor=None, random_state=42, ...)</pre></div></div></div></div></div>"
      ],
      "text/plain": [
       "XGBClassifier(base_score=None, booster=None, callbacks=None,\n",
       "              colsample_bylevel=None, colsample_bynode=None,\n",
       "              colsample_bytree=None, early_stopping_rounds=None,\n",
       "              enable_categorical=False, eval_metric=None, feature_types=None,\n",
       "              gamma=None, gpu_id=None, grow_policy=None, importance_type=None,\n",
       "              interaction_constraints=None, learning_rate=None, max_bin=None,\n",
       "              max_cat_threshold=None, max_cat_to_onehot=None,\n",
       "              max_delta_step=None, max_depth=None, max_leaves=None,\n",
       "              min_child_weight=None, missing=nan, monotone_constraints=None,\n",
       "              n_estimators=100, n_jobs=None, num_parallel_tree=None,\n",
       "              predictor=None, random_state=42, ...)"
      ]
     },
     "execution_count": 35,
     "metadata": {},
     "output_type": "execute_result"
    }
   ],
   "source": [
    "%%time\n",
    "xgb_gender = XGBClassifier(random_state=RAND, scale_pos_weight=ratio)\n",
    "eval_set = [(X_val, y_val)]\n",
    "\n",
    "xgb_gender.fit(X_train_,\n",
    "               y_train_,\n",
    "               eval_metric='auc',\n",
    "               eval_set=eval_set,\n",
    "               early_stopping_rounds=100,\n",
    "               verbose=0)"
   ]
  },
  {
   "cell_type": "code",
   "execution_count": null,
   "metadata": {
    "colab": {
     "base_uri": "https://localhost:8080/"
    },
    "executionInfo": {
     "elapsed": 383,
     "status": "ok",
     "timestamp": 1679734281781,
     "user": {
      "displayName": "Гоша Сидоркин",
      "userId": "09429149278087224251"
     },
     "user_tz": -240
    },
    "id": "xZot8K8uzEGi",
    "outputId": "24f4ea2b-2996-4ab9-c0f2-c58ace0660bb"
   },
   "outputs": [
    {
     "name": "stdout",
     "output_type": "stream",
     "text": [
      "GINI по полу 0.247\n"
     ]
    }
   ],
   "source": [
    "print(\n",
    "    f'GINI по полу {2 * m.roc_auc_score(y_test, xgb_gender.predict_proba(X_test)[:,1]) - 1:2.3f}'\n",
    ")"
   ]
  },
  {
   "cell_type": "code",
   "execution_count": null,
   "metadata": {
    "colab": {
     "base_uri": "https://localhost:8080/"
    },
    "executionInfo": {
     "elapsed": 485,
     "status": "ok",
     "timestamp": 1679734284114,
     "user": {
      "displayName": "Гоша Сидоркин",
      "userId": "09429149278087224251"
     },
     "user_tz": -240
    },
    "id": "-T2h2D-LzMic",
    "outputId": "c1bccbb7-f46a-430d-e551-4fd63a09838c"
   },
   "outputs": [
    {
     "name": "stdout",
     "output_type": "stream",
     "text": [
      "ROC-AUC train = 0.678\n",
      "ROC-AUC test = 0.623\n",
      "delta = 8.81%\n"
     ]
    }
   ],
   "source": [
    "check_overfitting_classification(xgb_gender, X_train, y_train, X_test, y_test)"
   ]
  },
  {
   "cell_type": "code",
   "execution_count": null,
   "metadata": {
    "colab": {
     "base_uri": "https://localhost:8080/",
     "height": 142
    },
    "executionInfo": {
     "elapsed": 620,
     "status": "ok",
     "timestamp": 1679734287780,
     "user": {
      "displayName": "Гоша Сидоркин",
      "userId": "09429149278087224251"
     },
     "user_tz": -240
    },
    "id": "zn1FTHuozMkt",
    "outputId": "5c636093-8f2b-47b7-cddf-cd3d8c90fdfe"
   },
   "outputs": [
    {
     "data": {
      "text/html": [
       "\n",
       "  <div id=\"df-c55a2653-a375-4659-87e2-8932fc75d965\">\n",
       "    <div class=\"colab-df-container\">\n",
       "      <div>\n",
       "<style scoped>\n",
       "    .dataframe tbody tr th:only-of-type {\n",
       "        vertical-align: middle;\n",
       "    }\n",
       "\n",
       "    .dataframe tbody tr th {\n",
       "        vertical-align: top;\n",
       "    }\n",
       "\n",
       "    .dataframe thead th {\n",
       "        text-align: right;\n",
       "    }\n",
       "</style>\n",
       "<table border=\"1\" class=\"dataframe\">\n",
       "  <thead>\n",
       "    <tr style=\"text-align: right;\">\n",
       "      <th></th>\n",
       "      <th>model</th>\n",
       "      <th>Precision</th>\n",
       "      <th>Recall</th>\n",
       "      <th>f1</th>\n",
       "      <th>ROC_AUC</th>\n",
       "      <th>GINI</th>\n",
       "    </tr>\n",
       "  </thead>\n",
       "  <tbody>\n",
       "    <tr>\n",
       "      <th>0</th>\n",
       "      <td>LGBMBaseline</td>\n",
       "      <td>0.607814</td>\n",
       "      <td>0.564989</td>\n",
       "      <td>0.585620</td>\n",
       "      <td>0.628592</td>\n",
       "      <td>0.257185</td>\n",
       "    </tr>\n",
       "    <tr>\n",
       "      <th>0</th>\n",
       "      <td>CatBoostBaseline</td>\n",
       "      <td>0.611604</td>\n",
       "      <td>0.565913</td>\n",
       "      <td>0.587872</td>\n",
       "      <td>0.630034</td>\n",
       "      <td>0.260068</td>\n",
       "    </tr>\n",
       "    <tr>\n",
       "      <th>0</th>\n",
       "      <td>XGBoostBaseline</td>\n",
       "      <td>0.606800</td>\n",
       "      <td>0.555863</td>\n",
       "      <td>0.580216</td>\n",
       "      <td>0.623342</td>\n",
       "      <td>0.246683</td>\n",
       "    </tr>\n",
       "  </tbody>\n",
       "</table>\n",
       "</div>\n",
       "      <button class=\"colab-df-convert\" onclick=\"convertToInteractive('df-c55a2653-a375-4659-87e2-8932fc75d965')\"\n",
       "              title=\"Convert this dataframe to an interactive table.\"\n",
       "              style=\"display:none;\">\n",
       "        \n",
       "  <svg xmlns=\"http://www.w3.org/2000/svg\" height=\"24px\"viewBox=\"0 0 24 24\"\n",
       "       width=\"24px\">\n",
       "    <path d=\"M0 0h24v24H0V0z\" fill=\"none\"/>\n",
       "    <path d=\"M18.56 5.44l.94 2.06.94-2.06 2.06-.94-2.06-.94-.94-2.06-.94 2.06-2.06.94zm-11 1L8.5 8.5l.94-2.06 2.06-.94-2.06-.94L8.5 2.5l-.94 2.06-2.06.94zm10 10l.94 2.06.94-2.06 2.06-.94-2.06-.94-.94-2.06-.94 2.06-2.06.94z\"/><path d=\"M17.41 7.96l-1.37-1.37c-.4-.4-.92-.59-1.43-.59-.52 0-1.04.2-1.43.59L10.3 9.45l-7.72 7.72c-.78.78-.78 2.05 0 2.83L4 21.41c.39.39.9.59 1.41.59.51 0 1.02-.2 1.41-.59l7.78-7.78 2.81-2.81c.8-.78.8-2.07 0-2.86zM5.41 20L4 18.59l7.72-7.72 1.47 1.35L5.41 20z\"/>\n",
       "  </svg>\n",
       "      </button>\n",
       "      \n",
       "  <style>\n",
       "    .colab-df-container {\n",
       "      display:flex;\n",
       "      flex-wrap:wrap;\n",
       "      gap: 12px;\n",
       "    }\n",
       "\n",
       "    .colab-df-convert {\n",
       "      background-color: #E8F0FE;\n",
       "      border: none;\n",
       "      border-radius: 50%;\n",
       "      cursor: pointer;\n",
       "      display: none;\n",
       "      fill: #1967D2;\n",
       "      height: 32px;\n",
       "      padding: 0 0 0 0;\n",
       "      width: 32px;\n",
       "    }\n",
       "\n",
       "    .colab-df-convert:hover {\n",
       "      background-color: #E2EBFA;\n",
       "      box-shadow: 0px 1px 2px rgba(60, 64, 67, 0.3), 0px 1px 3px 1px rgba(60, 64, 67, 0.15);\n",
       "      fill: #174EA6;\n",
       "    }\n",
       "\n",
       "    [theme=dark] .colab-df-convert {\n",
       "      background-color: #3B4455;\n",
       "      fill: #D2E3FC;\n",
       "    }\n",
       "\n",
       "    [theme=dark] .colab-df-convert:hover {\n",
       "      background-color: #434B5C;\n",
       "      box-shadow: 0px 1px 3px 1px rgba(0, 0, 0, 0.15);\n",
       "      filter: drop-shadow(0px 1px 2px rgba(0, 0, 0, 0.3));\n",
       "      fill: #FFFFFF;\n",
       "    }\n",
       "  </style>\n",
       "\n",
       "      <script>\n",
       "        const buttonEl =\n",
       "          document.querySelector('#df-c55a2653-a375-4659-87e2-8932fc75d965 button.colab-df-convert');\n",
       "        buttonEl.style.display =\n",
       "          google.colab.kernel.accessAllowed ? 'block' : 'none';\n",
       "\n",
       "        async function convertToInteractive(key) {\n",
       "          const element = document.querySelector('#df-c55a2653-a375-4659-87e2-8932fc75d965');\n",
       "          const dataTable =\n",
       "            await google.colab.kernel.invokeFunction('convertToInteractive',\n",
       "                                                     [key], {});\n",
       "          if (!dataTable) return;\n",
       "\n",
       "          const docLinkHtml = 'Like what you see? Visit the ' +\n",
       "            '<a target=\"_blank\" href=https://colab.research.google.com/notebooks/data_table.ipynb>data table notebook</a>'\n",
       "            + ' to learn more about interactive tables.';\n",
       "          element.innerHTML = '';\n",
       "          dataTable['output_type'] = 'display_data';\n",
       "          await google.colab.output.renderOutput(dataTable, element);\n",
       "          const docLink = document.createElement('div');\n",
       "          docLink.innerHTML = docLinkHtml;\n",
       "          element.appendChild(docLink);\n",
       "        }\n",
       "      </script>\n",
       "    </div>\n",
       "  </div>\n",
       "  "
      ],
      "text/plain": [
       "              model  Precision    Recall        f1   ROC_AUC      GINI\n",
       "0      LGBMBaseline   0.607814  0.564989  0.585620  0.628592  0.257185\n",
       "0  CatBoostBaseline   0.611604  0.565913  0.587872  0.630034  0.260068\n",
       "0   XGBoostBaseline   0.606800  0.555863  0.580216  0.623342  0.246683"
      ]
     },
     "execution_count": 38,
     "metadata": {},
     "output_type": "execute_result"
    }
   ],
   "source": [
    "y_pred_test = xgb_gender.predict(X_test)\n",
    "y_score_test = xgb_gender.predict_proba(X_test)\n",
    "\n",
    "metrics_gender = metrics_gender.append(\n",
    "    get_metrics_classification(y_test,\n",
    "                               y_pred_test,\n",
    "                               y_score_test,\n",
    "                               name='XGBoostBaseline'))\n",
    "metrics_gender"
   ]
  },
  {
   "cell_type": "markdown",
   "metadata": {
    "id": "stFfIMnwnjvV"
   },
   "source": [
    "## RandomForest"
   ]
  },
  {
   "cell_type": "code",
   "execution_count": null,
   "metadata": {
    "colab": {
     "base_uri": "https://localhost:8080/"
    },
    "executionInfo": {
     "elapsed": 502,
     "status": "ok",
     "timestamp": 1679734315494,
     "user": {
      "displayName": "Гоша Сидоркин",
      "userId": "09429149278087224251"
     },
     "user_tz": -240
    },
    "id": "lOVdhtzVmQWJ",
    "outputId": "1bab6e1d-61bb-4ae3-f9e2-555745262cf6"
   },
   "outputs": [
    {
     "name": "stdout",
     "output_type": "stream",
     "text": [
      "CPU times: user 250 ms, sys: 26.2 ms, total: 276 ms\n",
      "Wall time: 275 ms\n"
     ]
    }
   ],
   "source": [
    "%%time\n",
    "X = pd.get_dummies(df_train.drop(['user_id', 'age', 'is_male'], axis=1))\n",
    "y = df_train['is_male']\n",
    "\n",
    "X_train, X_test, y_train, y_test = train_test_split(X,\n",
    "                                                    y,\n",
    "                                                    test_size=0.2,\n",
    "                                                    shuffle=True,\n",
    "                                                    stratify=y,\n",
    "                                                    random_state=RAND)\n",
    "\n",
    "scaler = StandardScaler()\n",
    "X_train = scaler.fit_transform(X_train)\n",
    "X_test = scaler.transform(X_test)"
   ]
  },
  {
   "cell_type": "code",
   "execution_count": null,
   "metadata": {
    "colab": {
     "base_uri": "https://localhost:8080/",
     "height": 74
    },
    "executionInfo": {
     "elapsed": 60620,
     "status": "ok",
     "timestamp": 1679734377848,
     "user": {
      "displayName": "Гоша Сидоркин",
      "userId": "09429149278087224251"
     },
     "user_tz": -240
    },
    "id": "VGVgGpAmiiMy",
    "outputId": "8f82eccd-6d8f-4a3f-cf1f-c3c837898445"
   },
   "outputs": [
    {
     "data": {
      "text/html": [
       "<style>#sk-container-id-3 {color: black;background-color: white;}#sk-container-id-3 pre{padding: 0;}#sk-container-id-3 div.sk-toggleable {background-color: white;}#sk-container-id-3 label.sk-toggleable__label {cursor: pointer;display: block;width: 100%;margin-bottom: 0;padding: 0.3em;box-sizing: border-box;text-align: center;}#sk-container-id-3 label.sk-toggleable__label-arrow:before {content: \"▸\";float: left;margin-right: 0.25em;color: #696969;}#sk-container-id-3 label.sk-toggleable__label-arrow:hover:before {color: black;}#sk-container-id-3 div.sk-estimator:hover label.sk-toggleable__label-arrow:before {color: black;}#sk-container-id-3 div.sk-toggleable__content {max-height: 0;max-width: 0;overflow: hidden;text-align: left;background-color: #f0f8ff;}#sk-container-id-3 div.sk-toggleable__content pre {margin: 0.2em;color: black;border-radius: 0.25em;background-color: #f0f8ff;}#sk-container-id-3 input.sk-toggleable__control:checked~div.sk-toggleable__content {max-height: 200px;max-width: 100%;overflow: auto;}#sk-container-id-3 input.sk-toggleable__control:checked~label.sk-toggleable__label-arrow:before {content: \"▾\";}#sk-container-id-3 div.sk-estimator input.sk-toggleable__control:checked~label.sk-toggleable__label {background-color: #d4ebff;}#sk-container-id-3 div.sk-label input.sk-toggleable__control:checked~label.sk-toggleable__label {background-color: #d4ebff;}#sk-container-id-3 input.sk-hidden--visually {border: 0;clip: rect(1px 1px 1px 1px);clip: rect(1px, 1px, 1px, 1px);height: 1px;margin: -1px;overflow: hidden;padding: 0;position: absolute;width: 1px;}#sk-container-id-3 div.sk-estimator {font-family: monospace;background-color: #f0f8ff;border: 1px dotted black;border-radius: 0.25em;box-sizing: border-box;margin-bottom: 0.5em;}#sk-container-id-3 div.sk-estimator:hover {background-color: #d4ebff;}#sk-container-id-3 div.sk-parallel-item::after {content: \"\";width: 100%;border-bottom: 1px solid gray;flex-grow: 1;}#sk-container-id-3 div.sk-label:hover label.sk-toggleable__label {background-color: #d4ebff;}#sk-container-id-3 div.sk-serial::before {content: \"\";position: absolute;border-left: 1px solid gray;box-sizing: border-box;top: 0;bottom: 0;left: 50%;z-index: 0;}#sk-container-id-3 div.sk-serial {display: flex;flex-direction: column;align-items: center;background-color: white;padding-right: 0.2em;padding-left: 0.2em;position: relative;}#sk-container-id-3 div.sk-item {position: relative;z-index: 1;}#sk-container-id-3 div.sk-parallel {display: flex;align-items: stretch;justify-content: center;background-color: white;position: relative;}#sk-container-id-3 div.sk-item::before, #sk-container-id-3 div.sk-parallel-item::before {content: \"\";position: absolute;border-left: 1px solid gray;box-sizing: border-box;top: 0;bottom: 0;left: 50%;z-index: -1;}#sk-container-id-3 div.sk-parallel-item {display: flex;flex-direction: column;z-index: 1;position: relative;background-color: white;}#sk-container-id-3 div.sk-parallel-item:first-child::after {align-self: flex-end;width: 50%;}#sk-container-id-3 div.sk-parallel-item:last-child::after {align-self: flex-start;width: 50%;}#sk-container-id-3 div.sk-parallel-item:only-child::after {width: 0;}#sk-container-id-3 div.sk-dashed-wrapped {border: 1px dashed gray;margin: 0 0.4em 0.5em 0.4em;box-sizing: border-box;padding-bottom: 0.4em;background-color: white;}#sk-container-id-3 div.sk-label label {font-family: monospace;font-weight: bold;display: inline-block;line-height: 1.2em;}#sk-container-id-3 div.sk-label-container {text-align: center;}#sk-container-id-3 div.sk-container {/* jupyter's `normalize.less` sets `[hidden] { display: none; }` but bootstrap.min.css set `[hidden] { display: none !important; }` so we also need the `!important` here to be able to override the default hidden behavior on the sphinx rendered scikit-learn.org. See: https://github.com/scikit-learn/scikit-learn/issues/21755 */display: inline-block !important;position: relative;}#sk-container-id-3 div.sk-text-repr-fallback {display: none;}</style><div id=\"sk-container-id-3\" class=\"sk-top-container\"><div class=\"sk-text-repr-fallback\"><pre>RandomForestClassifier(class_weight=&#x27;balanced&#x27;, random_state=42)</pre><b>In a Jupyter environment, please rerun this cell to show the HTML representation or trust the notebook. <br />On GitHub, the HTML representation is unable to render, please try loading this page with nbviewer.org.</b></div><div class=\"sk-container\" hidden><div class=\"sk-item\"><div class=\"sk-estimator sk-toggleable\"><input class=\"sk-toggleable__control sk-hidden--visually\" id=\"sk-estimator-id-3\" type=\"checkbox\" checked><label for=\"sk-estimator-id-3\" class=\"sk-toggleable__label sk-toggleable__label-arrow\">RandomForestClassifier</label><div class=\"sk-toggleable__content\"><pre>RandomForestClassifier(class_weight=&#x27;balanced&#x27;, random_state=42)</pre></div></div></div></div></div>"
      ],
      "text/plain": [
       "RandomForestClassifier(class_weight='balanced', random_state=42)"
      ]
     },
     "execution_count": 40,
     "metadata": {},
     "output_type": "execute_result"
    }
   ],
   "source": [
    "clf_rf = RandomForestClassifier(class_weight='balanced', random_state=RAND)\n",
    "\n",
    "clf_rf.fit(X_train, y_train)"
   ]
  },
  {
   "cell_type": "code",
   "execution_count": null,
   "metadata": {
    "colab": {
     "base_uri": "https://localhost:8080/",
     "height": 173
    },
    "executionInfo": {
     "elapsed": 4093,
     "status": "ok",
     "timestamp": 1679734381932,
     "user": {
      "displayName": "Гоша Сидоркин",
      "userId": "09429149278087224251"
     },
     "user_tz": -240
    },
    "id": "Y7zuWpHfii80",
    "outputId": "ff36f666-3896-4866-ddce-831ea2053a94"
   },
   "outputs": [
    {
     "data": {
      "text/html": [
       "\n",
       "  <div id=\"df-79b6016e-9953-4336-8999-d7feaeb5621b\">\n",
       "    <div class=\"colab-df-container\">\n",
       "      <div>\n",
       "<style scoped>\n",
       "    .dataframe tbody tr th:only-of-type {\n",
       "        vertical-align: middle;\n",
       "    }\n",
       "\n",
       "    .dataframe tbody tr th {\n",
       "        vertical-align: top;\n",
       "    }\n",
       "\n",
       "    .dataframe thead th {\n",
       "        text-align: right;\n",
       "    }\n",
       "</style>\n",
       "<table border=\"1\" class=\"dataframe\">\n",
       "  <thead>\n",
       "    <tr style=\"text-align: right;\">\n",
       "      <th></th>\n",
       "      <th>model</th>\n",
       "      <th>Precision</th>\n",
       "      <th>Recall</th>\n",
       "      <th>f1</th>\n",
       "      <th>ROC_AUC</th>\n",
       "      <th>GINI</th>\n",
       "    </tr>\n",
       "  </thead>\n",
       "  <tbody>\n",
       "    <tr>\n",
       "      <th>0</th>\n",
       "      <td>LGBMBaseline</td>\n",
       "      <td>0.607814</td>\n",
       "      <td>0.564989</td>\n",
       "      <td>0.585620</td>\n",
       "      <td>0.628592</td>\n",
       "      <td>0.257185</td>\n",
       "    </tr>\n",
       "    <tr>\n",
       "      <th>0</th>\n",
       "      <td>CatBoostBaseline</td>\n",
       "      <td>0.611604</td>\n",
       "      <td>0.565913</td>\n",
       "      <td>0.587872</td>\n",
       "      <td>0.630034</td>\n",
       "      <td>0.260068</td>\n",
       "    </tr>\n",
       "    <tr>\n",
       "      <th>0</th>\n",
       "      <td>XGBoostBaseline</td>\n",
       "      <td>0.606800</td>\n",
       "      <td>0.555863</td>\n",
       "      <td>0.580216</td>\n",
       "      <td>0.623342</td>\n",
       "      <td>0.246683</td>\n",
       "    </tr>\n",
       "    <tr>\n",
       "      <th>0</th>\n",
       "      <td>RandomForestBaseline</td>\n",
       "      <td>0.584381</td>\n",
       "      <td>0.585569</td>\n",
       "      <td>0.584974</td>\n",
       "      <td>0.600485</td>\n",
       "      <td>0.200970</td>\n",
       "    </tr>\n",
       "  </tbody>\n",
       "</table>\n",
       "</div>\n",
       "      <button class=\"colab-df-convert\" onclick=\"convertToInteractive('df-79b6016e-9953-4336-8999-d7feaeb5621b')\"\n",
       "              title=\"Convert this dataframe to an interactive table.\"\n",
       "              style=\"display:none;\">\n",
       "        \n",
       "  <svg xmlns=\"http://www.w3.org/2000/svg\" height=\"24px\"viewBox=\"0 0 24 24\"\n",
       "       width=\"24px\">\n",
       "    <path d=\"M0 0h24v24H0V0z\" fill=\"none\"/>\n",
       "    <path d=\"M18.56 5.44l.94 2.06.94-2.06 2.06-.94-2.06-.94-.94-2.06-.94 2.06-2.06.94zm-11 1L8.5 8.5l.94-2.06 2.06-.94-2.06-.94L8.5 2.5l-.94 2.06-2.06.94zm10 10l.94 2.06.94-2.06 2.06-.94-2.06-.94-.94-2.06-.94 2.06-2.06.94z\"/><path d=\"M17.41 7.96l-1.37-1.37c-.4-.4-.92-.59-1.43-.59-.52 0-1.04.2-1.43.59L10.3 9.45l-7.72 7.72c-.78.78-.78 2.05 0 2.83L4 21.41c.39.39.9.59 1.41.59.51 0 1.02-.2 1.41-.59l7.78-7.78 2.81-2.81c.8-.78.8-2.07 0-2.86zM5.41 20L4 18.59l7.72-7.72 1.47 1.35L5.41 20z\"/>\n",
       "  </svg>\n",
       "      </button>\n",
       "      \n",
       "  <style>\n",
       "    .colab-df-container {\n",
       "      display:flex;\n",
       "      flex-wrap:wrap;\n",
       "      gap: 12px;\n",
       "    }\n",
       "\n",
       "    .colab-df-convert {\n",
       "      background-color: #E8F0FE;\n",
       "      border: none;\n",
       "      border-radius: 50%;\n",
       "      cursor: pointer;\n",
       "      display: none;\n",
       "      fill: #1967D2;\n",
       "      height: 32px;\n",
       "      padding: 0 0 0 0;\n",
       "      width: 32px;\n",
       "    }\n",
       "\n",
       "    .colab-df-convert:hover {\n",
       "      background-color: #E2EBFA;\n",
       "      box-shadow: 0px 1px 2px rgba(60, 64, 67, 0.3), 0px 1px 3px 1px rgba(60, 64, 67, 0.15);\n",
       "      fill: #174EA6;\n",
       "    }\n",
       "\n",
       "    [theme=dark] .colab-df-convert {\n",
       "      background-color: #3B4455;\n",
       "      fill: #D2E3FC;\n",
       "    }\n",
       "\n",
       "    [theme=dark] .colab-df-convert:hover {\n",
       "      background-color: #434B5C;\n",
       "      box-shadow: 0px 1px 3px 1px rgba(0, 0, 0, 0.15);\n",
       "      filter: drop-shadow(0px 1px 2px rgba(0, 0, 0, 0.3));\n",
       "      fill: #FFFFFF;\n",
       "    }\n",
       "  </style>\n",
       "\n",
       "      <script>\n",
       "        const buttonEl =\n",
       "          document.querySelector('#df-79b6016e-9953-4336-8999-d7feaeb5621b button.colab-df-convert');\n",
       "        buttonEl.style.display =\n",
       "          google.colab.kernel.accessAllowed ? 'block' : 'none';\n",
       "\n",
       "        async function convertToInteractive(key) {\n",
       "          const element = document.querySelector('#df-79b6016e-9953-4336-8999-d7feaeb5621b');\n",
       "          const dataTable =\n",
       "            await google.colab.kernel.invokeFunction('convertToInteractive',\n",
       "                                                     [key], {});\n",
       "          if (!dataTable) return;\n",
       "\n",
       "          const docLinkHtml = 'Like what you see? Visit the ' +\n",
       "            '<a target=\"_blank\" href=https://colab.research.google.com/notebooks/data_table.ipynb>data table notebook</a>'\n",
       "            + ' to learn more about interactive tables.';\n",
       "          element.innerHTML = '';\n",
       "          dataTable['output_type'] = 'display_data';\n",
       "          await google.colab.output.renderOutput(dataTable, element);\n",
       "          const docLink = document.createElement('div');\n",
       "          docLink.innerHTML = docLinkHtml;\n",
       "          element.appendChild(docLink);\n",
       "        }\n",
       "      </script>\n",
       "    </div>\n",
       "  </div>\n",
       "  "
      ],
      "text/plain": [
       "                  model  Precision    Recall        f1   ROC_AUC      GINI\n",
       "0          LGBMBaseline   0.607814  0.564989  0.585620  0.628592  0.257185\n",
       "0      CatBoostBaseline   0.611604  0.565913  0.587872  0.630034  0.260068\n",
       "0       XGBoostBaseline   0.606800  0.555863  0.580216  0.623342  0.246683\n",
       "0  RandomForestBaseline   0.584381  0.585569  0.584974  0.600485  0.200970"
      ]
     },
     "execution_count": 41,
     "metadata": {},
     "output_type": "execute_result"
    }
   ],
   "source": [
    "y_pred_test = clf_rf.predict(X_test)\n",
    "y_score_test = clf_rf.predict_proba(X_test)\n",
    "\n",
    "metrics_gender = metrics_gender.append(\n",
    "    get_metrics_classification(y_test,\n",
    "                               y_pred_test,\n",
    "                               y_score_test,\n",
    "                               name='RandomForestBaseline'))\n",
    "metrics_gender"
   ]
  },
  {
   "cell_type": "markdown",
   "metadata": {
    "id": "sm7ZWDjDNh41"
   },
   "source": [
    "Вывод: лучше всего себя показал бейзлайн catboost"
   ]
  },
  {
   "cell_type": "code",
   "execution_count": null,
   "metadata": {
    "id": "carUvXFD4sCv"
   },
   "outputs": [],
   "source": [
    "metrics_gender.to_csv('./metrics/metrics_gender_baseline.csv', index=False)"
   ]
  },
  {
   "cell_type": "markdown",
   "metadata": {
    "id": "9EyfqMjJN66o"
   },
   "source": [
    "# Baseline age prediction"
   ]
  },
  {
   "cell_type": "code",
   "execution_count": null,
   "metadata": {
    "id": "AmMaax-0Oaha"
   },
   "outputs": [],
   "source": [
    "def age_bucket(x):\n",
    "    return bisect.bisect_left([18, 25, 35, 45, 55, 65], x)"
   ]
  },
  {
   "cell_type": "code",
   "execution_count": null,
   "metadata": {
    "colab": {
     "base_uri": "https://localhost:8080/",
     "height": 279
    },
    "executionInfo": {
     "elapsed": 489,
     "status": "ok",
     "timestamp": 1679734402463,
     "user": {
      "displayName": "Гоша Сидоркин",
      "userId": "09429149278087224251"
     },
     "user_tz": -240
    },
    "id": "6khH6xszOiDU",
    "outputId": "a5b51aa9-89ea-41dc-889b-e472775e7aab"
   },
   "outputs": [
    {
     "data": {
      "image/png": "[encoded data removed]",
      "text/plain": [
       "<Figure size 432x288 with 1 Axes>"
      ]
     },
     "metadata": {},
     "output_type": "display_data"
    }
   ],
   "source": [
    "df_trn = targets.merge(df, how='inner', on=['user_id'])\n",
    "\n",
    "df_trn = df_trn[df_trn['age'] != 'NA']\n",
    "df_trn = df_trn.dropna()\n",
    "df_trn['age'] = df_trn['age'].map(age_bucket)\n",
    "sns.histplot(df_trn['age'], bins=7)"
   ]
  },
  {
   "cell_type": "code",
   "execution_count": null,
   "metadata": {
    "id": "8e98kO2GPmbm"
   },
   "outputs": [],
   "source": [
    "# разбивка данных на train и test\n",
    "X = df_trn.drop(['age', 'is_male', 'user_id'], axis=1)\n",
    "y = df_trn['age']\n",
    "\n",
    "X_train, X_test, y_train, y_test = train_test_split(X,\n",
    "                                                    y,\n",
    "                                                    test_size=0.2,\n",
    "                                                    shuffle=True,\n",
    "                                                    stratify=y,\n",
    "                                                    random_state=RAND)\n",
    "\n",
    "X_train_, X_val, y_train_, y_val = train_test_split(X_train,\n",
    "                                                    y_train,\n",
    "                                                    test_size=0.16,\n",
    "                                                    shuffle=True,\n",
    "                                                    stratify=y_train,\n",
    "                                                    random_state=RAND)\n",
    "\n",
    "n_classes = len(set(y))\n",
    "y_train_bin = label_binarize(y_train, classes=list(set(y)))\n",
    "y_test_bin = label_binarize(y_test, classes=list(set(y)))"
   ]
  },
  {
   "cell_type": "markdown",
   "metadata": {
    "id": "s5_LU2MTSAdf"
   },
   "source": [
    "## LGBM"
   ]
  },
  {
   "cell_type": "code",
   "execution_count": null,
   "metadata": {
    "colab": {
     "base_uri": "https://localhost:8080/",
     "height": 108
    },
    "executionInfo": {
     "elapsed": 7087,
     "status": "ok",
     "timestamp": 1679734464845,
     "user": {
      "displayName": "Гоша Сидоркин",
      "userId": "09429149278087224251"
     },
     "user_tz": -240
    },
    "id": "ukmjLewnRZtV",
    "outputId": "2056bf3b-52e5-4f55-c27f-cc6e1ebfdfe9"
   },
   "outputs": [
    {
     "name": "stdout",
     "output_type": "stream",
     "text": [
      "CPU times: user 25.1 s, sys: 148 ms, total: 25.2 s\n",
      "Wall time: 6.6 s\n"
     ]
    },
    {
     "data": {
      "text/html": [
       "<style>#sk-container-id-4 {color: black;background-color: white;}#sk-container-id-4 pre{padding: 0;}#sk-container-id-4 div.sk-toggleable {background-color: white;}#sk-container-id-4 label.sk-toggleable__label {cursor: pointer;display: block;width: 100%;margin-bottom: 0;padding: 0.3em;box-sizing: border-box;text-align: center;}#sk-container-id-4 label.sk-toggleable__label-arrow:before {content: \"▸\";float: left;margin-right: 0.25em;color: #696969;}#sk-container-id-4 label.sk-toggleable__label-arrow:hover:before {color: black;}#sk-container-id-4 div.sk-estimator:hover label.sk-toggleable__label-arrow:before {color: black;}#sk-container-id-4 div.sk-toggleable__content {max-height: 0;max-width: 0;overflow: hidden;text-align: left;background-color: #f0f8ff;}#sk-container-id-4 div.sk-toggleable__content pre {margin: 0.2em;color: black;border-radius: 0.25em;background-color: #f0f8ff;}#sk-container-id-4 input.sk-toggleable__control:checked~div.sk-toggleable__content {max-height: 200px;max-width: 100%;overflow: auto;}#sk-container-id-4 input.sk-toggleable__control:checked~label.sk-toggleable__label-arrow:before {content: \"▾\";}#sk-container-id-4 div.sk-estimator input.sk-toggleable__control:checked~label.sk-toggleable__label {background-color: #d4ebff;}#sk-container-id-4 div.sk-label input.sk-toggleable__control:checked~label.sk-toggleable__label {background-color: #d4ebff;}#sk-container-id-4 input.sk-hidden--visually {border: 0;clip: rect(1px 1px 1px 1px);clip: rect(1px, 1px, 1px, 1px);height: 1px;margin: -1px;overflow: hidden;padding: 0;position: absolute;width: 1px;}#sk-container-id-4 div.sk-estimator {font-family: monospace;background-color: #f0f8ff;border: 1px dotted black;border-radius: 0.25em;box-sizing: border-box;margin-bottom: 0.5em;}#sk-container-id-4 div.sk-estimator:hover {background-color: #d4ebff;}#sk-container-id-4 div.sk-parallel-item::after {content: \"\";width: 100%;border-bottom: 1px solid gray;flex-grow: 1;}#sk-container-id-4 div.sk-label:hover label.sk-toggleable__label {background-color: #d4ebff;}#sk-container-id-4 div.sk-serial::before {content: \"\";position: absolute;border-left: 1px solid gray;box-sizing: border-box;top: 0;bottom: 0;left: 50%;z-index: 0;}#sk-container-id-4 div.sk-serial {display: flex;flex-direction: column;align-items: center;background-color: white;padding-right: 0.2em;padding-left: 0.2em;position: relative;}#sk-container-id-4 div.sk-item {position: relative;z-index: 1;}#sk-container-id-4 div.sk-parallel {display: flex;align-items: stretch;justify-content: center;background-color: white;position: relative;}#sk-container-id-4 div.sk-item::before, #sk-container-id-4 div.sk-parallel-item::before {content: \"\";position: absolute;border-left: 1px solid gray;box-sizing: border-box;top: 0;bottom: 0;left: 50%;z-index: -1;}#sk-container-id-4 div.sk-parallel-item {display: flex;flex-direction: column;z-index: 1;position: relative;background-color: white;}#sk-container-id-4 div.sk-parallel-item:first-child::after {align-self: flex-end;width: 50%;}#sk-container-id-4 div.sk-parallel-item:last-child::after {align-self: flex-start;width: 50%;}#sk-container-id-4 div.sk-parallel-item:only-child::after {width: 0;}#sk-container-id-4 div.sk-dashed-wrapped {border: 1px dashed gray;margin: 0 0.4em 0.5em 0.4em;box-sizing: border-box;padding-bottom: 0.4em;background-color: white;}#sk-container-id-4 div.sk-label label {font-family: monospace;font-weight: bold;display: inline-block;line-height: 1.2em;}#sk-container-id-4 div.sk-label-container {text-align: center;}#sk-container-id-4 div.sk-container {/* jupyter's `normalize.less` sets `[hidden] { display: none; }` but bootstrap.min.css set `[hidden] { display: none !important; }` so we also need the `!important` here to be able to override the default hidden behavior on the sphinx rendered scikit-learn.org. See: https://github.com/scikit-learn/scikit-learn/issues/21755 */display: inline-block !important;position: relative;}#sk-container-id-4 div.sk-text-repr-fallback {display: none;}</style><div id=\"sk-container-id-4\" class=\"sk-top-container\"><div class=\"sk-text-repr-fallback\"><pre>LGBMClassifier(class_weight=&#x27;balanced&#x27;, objective=&#x27;multiclass&#x27;, random_state=42)</pre><b>In a Jupyter environment, please rerun this cell to show the HTML representation or trust the notebook. <br />On GitHub, the HTML representation is unable to render, please try loading this page with nbviewer.org.</b></div><div class=\"sk-container\" hidden><div class=\"sk-item\"><div class=\"sk-estimator sk-toggleable\"><input class=\"sk-toggleable__control sk-hidden--visually\" id=\"sk-estimator-id-4\" type=\"checkbox\" checked><label for=\"sk-estimator-id-4\" class=\"sk-toggleable__label sk-toggleable__label-arrow\">LGBMClassifier</label><div class=\"sk-toggleable__content\"><pre>LGBMClassifier(class_weight=&#x27;balanced&#x27;, objective=&#x27;multiclass&#x27;, random_state=42)</pre></div></div></div></div></div>"
      ],
      "text/plain": [
       "LGBMClassifier(class_weight='balanced', objective='multiclass', random_state=42)"
      ]
     },
     "execution_count": 46,
     "metadata": {},
     "output_type": "execute_result"
    }
   ],
   "source": [
    "%%time\n",
    "lgbm_age = LGBMClassifier(random_state=RAND,\n",
    "                          class_weight='balanced',\n",
    "                          objective='multiclass')\n",
    "eval_set = [(X_val, y_val)]\n",
    "\n",
    "lgbm_age.fit(X_train_,\n",
    "             y_train_,\n",
    "             eval_set=eval_set,\n",
    "             early_stopping_rounds=100,\n",
    "             verbose=False)"
   ]
  },
  {
   "cell_type": "code",
   "execution_count": null,
   "metadata": {
    "colab": {
     "base_uri": "https://localhost:8080/"
    },
    "executionInfo": {
     "elapsed": 4795,
     "status": "ok",
     "timestamp": 1679734472038,
     "user": {
      "displayName": "Гоша Сидоркин",
      "userId": "09429149278087224251"
     },
     "user_tz": -240
    },
    "id": "mHLblBKWRZwf",
    "outputId": "159e0021-430e-4c57-be19-b4f892727b09"
   },
   "outputs": [
    {
     "name": "stdout",
     "output_type": "stream",
     "text": [
      "ROC-AUC train = 0.749\n",
      "ROC-AUC test = 0.665\n",
      "delta = 12.49%\n"
     ]
    }
   ],
   "source": [
    "check_overfitting_multiclass(lgbm_age, X_train, y_train_bin, X_test,\n",
    "                             y_test_bin)"
   ]
  },
  {
   "cell_type": "code",
   "execution_count": null,
   "metadata": {
    "colab": {
     "base_uri": "https://localhost:8080/"
    },
    "executionInfo": {
     "elapsed": 902,
     "status": "ok",
     "timestamp": 1679734476114,
     "user": {
      "displayName": "Гоша Сидоркин",
      "userId": "09429149278087224251"
     },
     "user_tz": -240
    },
    "id": "4dOnqoBgRZ13",
    "outputId": "68abbf98-0d68-482a-90e2-b48293551394"
   },
   "outputs": [
    {
     "name": "stdout",
     "output_type": "stream",
     "text": [
      "              precision    recall  f1-score   support\n",
      "\n",
      "         <18       0.01      0.18      0.02       207\n",
      "       18-25       0.26      0.45      0.33      6528\n",
      "       25-34       0.41      0.20      0.26     17454\n",
      "       35-44       0.35      0.17      0.23     15497\n",
      "       45-54       0.22      0.17      0.19      8489\n",
      "       55-65       0.15      0.23      0.19      4716\n",
      "         65+       0.05      0.40      0.09      1101\n",
      "\n",
      "    accuracy                           0.22     53992\n",
      "   macro avg       0.21      0.26      0.19     53992\n",
      "weighted avg       0.31      0.22      0.24     53992\n",
      "\n"
     ]
    }
   ],
   "source": [
    "print(\n",
    "    m.classification_report(y_test,\n",
    "                            lgbm_age.predict(X_test),\n",
    "                            target_names=[\n",
    "                                '<18', '18-25', '25-34', '35-44', '45-54',\n",
    "                                '55-65', '65+'\n",
    "                            ]))"
   ]
  },
  {
   "cell_type": "code",
   "execution_count": null,
   "metadata": {
    "colab": {
     "base_uri": "https://localhost:8080/",
     "height": 80
    },
    "executionInfo": {
     "elapsed": 2434,
     "status": "ok",
     "timestamp": 1679734483355,
     "user": {
      "displayName": "Гоша Сидоркин",
      "userId": "09429149278087224251"
     },
     "user_tz": -240
    },
    "id": "Qc8g6KVDRZx-",
    "outputId": "f766578b-f693-4861-c8a7-4665a82db7c3"
   },
   "outputs": [
    {
     "data": {
      "text/html": [
       "\n",
       "  <div id=\"df-d90bf082-5168-4062-ac30-02549f4b9684\">\n",
       "    <div class=\"colab-df-container\">\n",
       "      <div>\n",
       "<style scoped>\n",
       "    .dataframe tbody tr th:only-of-type {\n",
       "        vertical-align: middle;\n",
       "    }\n",
       "\n",
       "    .dataframe tbody tr th {\n",
       "        vertical-align: top;\n",
       "    }\n",
       "\n",
       "    .dataframe thead th {\n",
       "        text-align: right;\n",
       "    }\n",
       "</style>\n",
       "<table border=\"1\" class=\"dataframe\">\n",
       "  <thead>\n",
       "    <tr style=\"text-align: right;\">\n",
       "      <th></th>\n",
       "      <th>model</th>\n",
       "      <th>ROC_AUC</th>\n",
       "      <th>Precision_micro</th>\n",
       "      <th>Precision_macro</th>\n",
       "      <th>Recall_micro</th>\n",
       "      <th>Recall_macro</th>\n",
       "      <th>F1_micro</th>\n",
       "      <th>F1_macro</th>\n",
       "      <th>Logloss</th>\n",
       "    </tr>\n",
       "  </thead>\n",
       "  <tbody>\n",
       "    <tr>\n",
       "      <th>0</th>\n",
       "      <td>LGBM_Baseline</td>\n",
       "      <td>0.66544</td>\n",
       "      <td>0.223941</td>\n",
       "      <td>0.206321</td>\n",
       "      <td>0.223941</td>\n",
       "      <td>0.257902</td>\n",
       "      <td>0.223941</td>\n",
       "      <td>0.186803</td>\n",
       "      <td>1.756957</td>\n",
       "    </tr>\n",
       "  </tbody>\n",
       "</table>\n",
       "</div>\n",
       "      <button class=\"colab-df-convert\" onclick=\"convertToInteractive('df-d90bf082-5168-4062-ac30-02549f4b9684')\"\n",
       "              title=\"Convert this dataframe to an interactive table.\"\n",
       "              style=\"display:none;\">\n",
       "        \n",
       "  <svg xmlns=\"http://www.w3.org/2000/svg\" height=\"24px\"viewBox=\"0 0 24 24\"\n",
       "       width=\"24px\">\n",
       "    <path d=\"M0 0h24v24H0V0z\" fill=\"none\"/>\n",
       "    <path d=\"M18.56 5.44l.94 2.06.94-2.06 2.06-.94-2.06-.94-.94-2.06-.94 2.06-2.06.94zm-11 1L8.5 8.5l.94-2.06 2.06-.94-2.06-.94L8.5 2.5l-.94 2.06-2.06.94zm10 10l.94 2.06.94-2.06 2.06-.94-2.06-.94-.94-2.06-.94 2.06-2.06.94z\"/><path d=\"M17.41 7.96l-1.37-1.37c-.4-.4-.92-.59-1.43-.59-.52 0-1.04.2-1.43.59L10.3 9.45l-7.72 7.72c-.78.78-.78 2.05 0 2.83L4 21.41c.39.39.9.59 1.41.59.51 0 1.02-.2 1.41-.59l7.78-7.78 2.81-2.81c.8-.78.8-2.07 0-2.86zM5.41 20L4 18.59l7.72-7.72 1.47 1.35L5.41 20z\"/>\n",
       "  </svg>\n",
       "      </button>\n",
       "      \n",
       "  <style>\n",
       "    .colab-df-container {\n",
       "      display:flex;\n",
       "      flex-wrap:wrap;\n",
       "      gap: 12px;\n",
       "    }\n",
       "\n",
       "    .colab-df-convert {\n",
       "      background-color: #E8F0FE;\n",
       "      border: none;\n",
       "      border-radius: 50%;\n",
       "      cursor: pointer;\n",
       "      display: none;\n",
       "      fill: #1967D2;\n",
       "      height: 32px;\n",
       "      padding: 0 0 0 0;\n",
       "      width: 32px;\n",
       "    }\n",
       "\n",
       "    .colab-df-convert:hover {\n",
       "      background-color: #E2EBFA;\n",
       "      box-shadow: 0px 1px 2px rgba(60, 64, 67, 0.3), 0px 1px 3px 1px rgba(60, 64, 67, 0.15);\n",
       "      fill: #174EA6;\n",
       "    }\n",
       "\n",
       "    [theme=dark] .colab-df-convert {\n",
       "      background-color: #3B4455;\n",
       "      fill: #D2E3FC;\n",
       "    }\n",
       "\n",
       "    [theme=dark] .colab-df-convert:hover {\n",
       "      background-color: #434B5C;\n",
       "      box-shadow: 0px 1px 3px 1px rgba(0, 0, 0, 0.15);\n",
       "      filter: drop-shadow(0px 1px 2px rgba(0, 0, 0, 0.3));\n",
       "      fill: #FFFFFF;\n",
       "    }\n",
       "  </style>\n",
       "\n",
       "      <script>\n",
       "        const buttonEl =\n",
       "          document.querySelector('#df-d90bf082-5168-4062-ac30-02549f4b9684 button.colab-df-convert');\n",
       "        buttonEl.style.display =\n",
       "          google.colab.kernel.accessAllowed ? 'block' : 'none';\n",
       "\n",
       "        async function convertToInteractive(key) {\n",
       "          const element = document.querySelector('#df-d90bf082-5168-4062-ac30-02549f4b9684');\n",
       "          const dataTable =\n",
       "            await google.colab.kernel.invokeFunction('convertToInteractive',\n",
       "                                                     [key], {});\n",
       "          if (!dataTable) return;\n",
       "\n",
       "          const docLinkHtml = 'Like what you see? Visit the ' +\n",
       "            '<a target=\"_blank\" href=https://colab.research.google.com/notebooks/data_table.ipynb>data table notebook</a>'\n",
       "            + ' to learn more about interactive tables.';\n",
       "          element.innerHTML = '';\n",
       "          dataTable['output_type'] = 'display_data';\n",
       "          await google.colab.output.renderOutput(dataTable, element);\n",
       "          const docLink = document.createElement('div');\n",
       "          docLink.innerHTML = docLinkHtml;\n",
       "          element.appendChild(docLink);\n",
       "        }\n",
       "      </script>\n",
       "    </div>\n",
       "  </div>\n",
       "  "
      ],
      "text/plain": [
       "           model  ROC_AUC  Precision_micro  Precision_macro  Recall_micro  \\\n",
       "0  LGBM_Baseline  0.66544         0.223941         0.206321      0.223941   \n",
       "\n",
       "   Recall_macro  F1_micro  F1_macro   Logloss  \n",
       "0      0.257902  0.223941  0.186803  1.756957  "
      ]
     },
     "execution_count": 49,
     "metadata": {},
     "output_type": "execute_result"
    }
   ],
   "source": [
    "y_pred = lgbm_age.predict(X_test)\n",
    "y_score = lgbm_age.predict_proba(X_test)\n",
    "\n",
    "metrics_age = get_metrics_multiclass(y_test_bin=y_test_bin,\n",
    "                                     y_test=y_test,\n",
    "                                     y_pred=y_pred,\n",
    "                                     y_prob=y_score,\n",
    "                                     name='LGBM_Baseline',\n",
    "                                     type_multi='ovo')\n",
    "metrics_age"
   ]
  },
  {
   "cell_type": "markdown",
   "metadata": {
    "id": "JJuJt6IUVQYM"
   },
   "source": [
    "## Catboost"
   ]
  },
  {
   "cell_type": "code",
   "execution_count": null,
   "metadata": {
    "colab": {
     "base_uri": "https://localhost:8080/"
    },
    "executionInfo": {
     "elapsed": 627832,
     "status": "ok",
     "timestamp": 1679735116859,
     "user": {
      "displayName": "Гоша Сидоркин",
      "userId": "09429149278087224251"
     },
     "user_tz": -240
    },
    "id": "cUvKrAGIVSCg",
    "outputId": "f39e4c26-97f0-4e89-9e65-defdff04344a"
   },
   "outputs": [
    {
     "name": "stdout",
     "output_type": "stream",
     "text": [
      "CPU times: user 37min 21s, sys: 32 s, total: 37min 53s\n",
      "Wall time: 10min 27s\n"
     ]
    },
    {
     "data": {
      "text/plain": [
       "<catboost.core.CatBoostClassifier at 0x7f56d058a7c0>"
      ]
     },
     "execution_count": 50,
     "metadata": {},
     "output_type": "execute_result"
    }
   ],
   "source": [
    "%%time\n",
    "cat_features = X.select_dtypes('category').columns.tolist()\n",
    "cat_age = CatBoostClassifier(allow_writing_files=False,\n",
    "                             cat_features=cat_features,\n",
    "                             random_state=RAND)\n",
    "eval_set = [(X_val, y_val)]\n",
    "\n",
    "cat_age.fit(X_train,\n",
    "            y_train,\n",
    "            eval_set=eval_set,\n",
    "            early_stopping_rounds=100,\n",
    "            verbose=False)"
   ]
  },
  {
   "cell_type": "code",
   "execution_count": null,
   "metadata": {
    "colab": {
     "base_uri": "https://localhost:8080/"
    },
    "executionInfo": {
     "elapsed": 1429,
     "status": "ok",
     "timestamp": 1679735230609,
     "user": {
      "displayName": "Гоша Сидоркин",
      "userId": "09429149278087224251"
     },
     "user_tz": -240
    },
    "id": "1RHlwGu5VSnK",
    "outputId": "a892c6d6-6561-4c9e-a197-36b71d3bdf51"
   },
   "outputs": [
    {
     "name": "stdout",
     "output_type": "stream",
     "text": [
      "ROC-AUC train = 0.766\n",
      "ROC-AUC test = 0.679\n",
      "delta = 12.88%\n"
     ]
    }
   ],
   "source": [
    "check_overfitting_multiclass(cat_age, X_train, y_train_bin, X_test, y_test_bin)"
   ]
  },
  {
   "cell_type": "code",
   "execution_count": null,
   "metadata": {
    "colab": {
     "base_uri": "https://localhost:8080/"
    },
    "executionInfo": {
     "elapsed": 402,
     "status": "ok",
     "timestamp": 1679735237278,
     "user": {
      "displayName": "Гоша Сидоркин",
      "userId": "09429149278087224251"
     },
     "user_tz": -240
    },
    "id": "04ViWeWxVSpd",
    "outputId": "16a6c235-1979-4ad6-bc16-9144e0816caa"
   },
   "outputs": [
    {
     "name": "stdout",
     "output_type": "stream",
     "text": [
      "              precision    recall  f1-score   support\n",
      "\n",
      "         <18       0.00      0.00      0.00       207\n",
      "       18-25       0.41      0.12      0.19      6528\n",
      "       25-34       0.39      0.60      0.48     17454\n",
      "       35-44       0.33      0.48      0.39     15497\n",
      "       45-54       0.30      0.09      0.13      8489\n",
      "       55-65       0.29      0.05      0.09      4716\n",
      "         65+       0.10      0.00      0.00      1101\n",
      "\n",
      "    accuracy                           0.36     53992\n",
      "   macro avg       0.26      0.19      0.18     53992\n",
      "weighted avg       0.35      0.36      0.32     53992\n",
      "\n"
     ]
    }
   ],
   "source": [
    "print(\n",
    "    m.classification_report(y_test,\n",
    "                            cat_age.predict(X_test),\n",
    "                            target_names=[\n",
    "                                '<18', '18-25', '25-34', '35-44', '45-54',\n",
    "                                '55-65', '65+'\n",
    "                            ]))"
   ]
  },
  {
   "cell_type": "code",
   "execution_count": null,
   "metadata": {
    "colab": {
     "base_uri": "https://localhost:8080/",
     "height": 111
    },
    "executionInfo": {
     "elapsed": 862,
     "status": "ok",
     "timestamp": 1679735241786,
     "user": {
      "displayName": "Гоша Сидоркин",
      "userId": "09429149278087224251"
     },
     "user_tz": -240
    },
    "id": "Vz49ssYzVSrj",
    "outputId": "fff4c7a4-dc54-47a3-c689-012fe4608f94"
   },
   "outputs": [
    {
     "data": {
      "text/html": [
       "\n",
       "  <div id=\"df-a3aafa3b-2b49-4c52-a32f-56a9f8791660\">\n",
       "    <div class=\"colab-df-container\">\n",
       "      <div>\n",
       "<style scoped>\n",
       "    .dataframe tbody tr th:only-of-type {\n",
       "        vertical-align: middle;\n",
       "    }\n",
       "\n",
       "    .dataframe tbody tr th {\n",
       "        vertical-align: top;\n",
       "    }\n",
       "\n",
       "    .dataframe thead th {\n",
       "        text-align: right;\n",
       "    }\n",
       "</style>\n",
       "<table border=\"1\" class=\"dataframe\">\n",
       "  <thead>\n",
       "    <tr style=\"text-align: right;\">\n",
       "      <th></th>\n",
       "      <th>model</th>\n",
       "      <th>ROC_AUC</th>\n",
       "      <th>Precision_micro</th>\n",
       "      <th>Precision_macro</th>\n",
       "      <th>Recall_micro</th>\n",
       "      <th>Recall_macro</th>\n",
       "      <th>F1_micro</th>\n",
       "      <th>F1_macro</th>\n",
       "      <th>Logloss</th>\n",
       "    </tr>\n",
       "  </thead>\n",
       "  <tbody>\n",
       "    <tr>\n",
       "      <th>0</th>\n",
       "      <td>LGBM_Baseline</td>\n",
       "      <td>0.665440</td>\n",
       "      <td>0.223941</td>\n",
       "      <td>0.206321</td>\n",
       "      <td>0.223941</td>\n",
       "      <td>0.257902</td>\n",
       "      <td>0.223941</td>\n",
       "      <td>0.186803</td>\n",
       "      <td>1.756957</td>\n",
       "    </tr>\n",
       "    <tr>\n",
       "      <th>0</th>\n",
       "      <td>CatBoost_Baseline</td>\n",
       "      <td>0.678626</td>\n",
       "      <td>0.363721</td>\n",
       "      <td>0.260785</td>\n",
       "      <td>0.363721</td>\n",
       "      <td>0.191032</td>\n",
       "      <td>0.363721</td>\n",
       "      <td>0.182633</td>\n",
       "      <td>1.483299</td>\n",
       "    </tr>\n",
       "  </tbody>\n",
       "</table>\n",
       "</div>\n",
       "      <button class=\"colab-df-convert\" onclick=\"convertToInteractive('df-a3aafa3b-2b49-4c52-a32f-56a9f8791660')\"\n",
       "              title=\"Convert this dataframe to an interactive table.\"\n",
       "              style=\"display:none;\">\n",
       "        \n",
       "  <svg xmlns=\"http://www.w3.org/2000/svg\" height=\"24px\"viewBox=\"0 0 24 24\"\n",
       "       width=\"24px\">\n",
       "    <path d=\"M0 0h24v24H0V0z\" fill=\"none\"/>\n",
       "    <path d=\"M18.56 5.44l.94 2.06.94-2.06 2.06-.94-2.06-.94-.94-2.06-.94 2.06-2.06.94zm-11 1L8.5 8.5l.94-2.06 2.06-.94-2.06-.94L8.5 2.5l-.94 2.06-2.06.94zm10 10l.94 2.06.94-2.06 2.06-.94-2.06-.94-.94-2.06-.94 2.06-2.06.94z\"/><path d=\"M17.41 7.96l-1.37-1.37c-.4-.4-.92-.59-1.43-.59-.52 0-1.04.2-1.43.59L10.3 9.45l-7.72 7.72c-.78.78-.78 2.05 0 2.83L4 21.41c.39.39.9.59 1.41.59.51 0 1.02-.2 1.41-.59l7.78-7.78 2.81-2.81c.8-.78.8-2.07 0-2.86zM5.41 20L4 18.59l7.72-7.72 1.47 1.35L5.41 20z\"/>\n",
       "  </svg>\n",
       "      </button>\n",
       "      \n",
       "  <style>\n",
       "    .colab-df-container {\n",
       "      display:flex;\n",
       "      flex-wrap:wrap;\n",
       "      gap: 12px;\n",
       "    }\n",
       "\n",
       "    .colab-df-convert {\n",
       "      background-color: #E8F0FE;\n",
       "      border: none;\n",
       "      border-radius: 50%;\n",
       "      cursor: pointer;\n",
       "      display: none;\n",
       "      fill: #1967D2;\n",
       "      height: 32px;\n",
       "      padding: 0 0 0 0;\n",
       "      width: 32px;\n",
       "    }\n",
       "\n",
       "    .colab-df-convert:hover {\n",
       "      background-color: #E2EBFA;\n",
       "      box-shadow: 0px 1px 2px rgba(60, 64, 67, 0.3), 0px 1px 3px 1px rgba(60, 64, 67, 0.15);\n",
       "      fill: #174EA6;\n",
       "    }\n",
       "\n",
       "    [theme=dark] .colab-df-convert {\n",
       "      background-color: #3B4455;\n",
       "      fill: #D2E3FC;\n",
       "    }\n",
       "\n",
       "    [theme=dark] .colab-df-convert:hover {\n",
       "      background-color: #434B5C;\n",
       "      box-shadow: 0px 1px 3px 1px rgba(0, 0, 0, 0.15);\n",
       "      filter: drop-shadow(0px 1px 2px rgba(0, 0, 0, 0.3));\n",
       "      fill: #FFFFFF;\n",
       "    }\n",
       "  </style>\n",
       "\n",
       "      <script>\n",
       "        const buttonEl =\n",
       "          document.querySelector('#df-a3aafa3b-2b49-4c52-a32f-56a9f8791660 button.colab-df-convert');\n",
       "        buttonEl.style.display =\n",
       "          google.colab.kernel.accessAllowed ? 'block' : 'none';\n",
       "\n",
       "        async function convertToInteractive(key) {\n",
       "          const element = document.querySelector('#df-a3aafa3b-2b49-4c52-a32f-56a9f8791660');\n",
       "          const dataTable =\n",
       "            await google.colab.kernel.invokeFunction('convertToInteractive',\n",
       "                                                     [key], {});\n",
       "          if (!dataTable) return;\n",
       "\n",
       "          const docLinkHtml = 'Like what you see? Visit the ' +\n",
       "            '<a target=\"_blank\" href=https://colab.research.google.com/notebooks/data_table.ipynb>data table notebook</a>'\n",
       "            + ' to learn more about interactive tables.';\n",
       "          element.innerHTML = '';\n",
       "          dataTable['output_type'] = 'display_data';\n",
       "          await google.colab.output.renderOutput(dataTable, element);\n",
       "          const docLink = document.createElement('div');\n",
       "          docLink.innerHTML = docLinkHtml;\n",
       "          element.appendChild(docLink);\n",
       "        }\n",
       "      </script>\n",
       "    </div>\n",
       "  </div>\n",
       "  "
      ],
      "text/plain": [
       "               model   ROC_AUC  Precision_micro  Precision_macro  \\\n",
       "0      LGBM_Baseline  0.665440         0.223941         0.206321   \n",
       "0  CatBoost_Baseline  0.678626         0.363721         0.260785   \n",
       "\n",
       "   Recall_micro  Recall_macro  F1_micro  F1_macro   Logloss  \n",
       "0      0.223941      0.257902  0.223941  0.186803  1.756957  \n",
       "0      0.363721      0.191032  0.363721  0.182633  1.483299  "
      ]
     },
     "execution_count": 53,
     "metadata": {},
     "output_type": "execute_result"
    }
   ],
   "source": [
    "y_pred = cat_age.predict(X_test)\n",
    "y_score = cat_age.predict_proba(X_test)\n",
    "\n",
    "metrics_age = metrics_age.append(\n",
    "    get_metrics_multiclass(y_test_bin=y_test_bin,\n",
    "                           y_test=y_test,\n",
    "                           y_pred=y_pred,\n",
    "                           y_prob=y_score,\n",
    "                           name='CatBoost_Baseline',\n",
    "                           type_multi='ovo'))\n",
    "metrics_age"
   ]
  },
  {
   "cell_type": "markdown",
   "metadata": {
    "id": "alEbrm96naCt"
   },
   "source": [
    "## RandomForest"
   ]
  },
  {
   "cell_type": "code",
   "execution_count": null,
   "metadata": {
    "colab": {
     "base_uri": "https://localhost:8080/"
    },
    "executionInfo": {
     "elapsed": 378,
     "status": "ok",
     "timestamp": 1679735340601,
     "user": {
      "displayName": "Гоша Сидоркин",
      "userId": "09429149278087224251"
     },
     "user_tz": -240
    },
    "id": "YPDksuVqnYtF",
    "outputId": "ef66fc49-aa82-4e00-eddb-60c1387a7878"
   },
   "outputs": [
    {
     "name": "stdout",
     "output_type": "stream",
     "text": [
      "CPU times: user 251 ms, sys: 24 ms, total: 275 ms\n",
      "Wall time: 275 ms\n"
     ]
    }
   ],
   "source": [
    "%%time\n",
    "X = pd.get_dummies(df_trn.drop(['age', 'is_male', 'user_id'], axis=1))\n",
    "y = df_trn['age']\n",
    "\n",
    "X_train, X_test, y_train, y_test = train_test_split(X,\n",
    "                                                    y,\n",
    "                                                    test_size=0.2,\n",
    "                                                    shuffle=True,\n",
    "                                                    stratify=y,\n",
    "                                                    random_state=RAND)\n",
    "\n",
    "scaler = StandardScaler()\n",
    "X_train = scaler.fit_transform(X_train)\n",
    "X_test = scaler.transform(X_test)"
   ]
  },
  {
   "cell_type": "code",
   "execution_count": null,
   "metadata": {
    "colab": {
     "base_uri": "https://localhost:8080/",
     "height": 74
    },
    "executionInfo": {
     "elapsed": 61775,
     "status": "ok",
     "timestamp": 1679735407528,
     "user": {
      "displayName": "Гоша Сидоркин",
      "userId": "09429149278087224251"
     },
     "user_tz": -240
    },
    "id": "3x9est2HnZXl",
    "outputId": "d94f0ff5-d82c-4250-f122-60e15b0a4bf7"
   },
   "outputs": [
    {
     "data": {
      "text/html": [
       "<style>#sk-container-id-5 {color: black;background-color: white;}#sk-container-id-5 pre{padding: 0;}#sk-container-id-5 div.sk-toggleable {background-color: white;}#sk-container-id-5 label.sk-toggleable__label {cursor: pointer;display: block;width: 100%;margin-bottom: 0;padding: 0.3em;box-sizing: border-box;text-align: center;}#sk-container-id-5 label.sk-toggleable__label-arrow:before {content: \"▸\";float: left;margin-right: 0.25em;color: #696969;}#sk-container-id-5 label.sk-toggleable__label-arrow:hover:before {color: black;}#sk-container-id-5 div.sk-estimator:hover label.sk-toggleable__label-arrow:before {color: black;}#sk-container-id-5 div.sk-toggleable__content {max-height: 0;max-width: 0;overflow: hidden;text-align: left;background-color: #f0f8ff;}#sk-container-id-5 div.sk-toggleable__content pre {margin: 0.2em;color: black;border-radius: 0.25em;background-color: #f0f8ff;}#sk-container-id-5 input.sk-toggleable__control:checked~div.sk-toggleable__content {max-height: 200px;max-width: 100%;overflow: auto;}#sk-container-id-5 input.sk-toggleable__control:checked~label.sk-toggleable__label-arrow:before {content: \"▾\";}#sk-container-id-5 div.sk-estimator input.sk-toggleable__control:checked~label.sk-toggleable__label {background-color: #d4ebff;}#sk-container-id-5 div.sk-label input.sk-toggleable__control:checked~label.sk-toggleable__label {background-color: #d4ebff;}#sk-container-id-5 input.sk-hidden--visually {border: 0;clip: rect(1px 1px 1px 1px);clip: rect(1px, 1px, 1px, 1px);height: 1px;margin: -1px;overflow: hidden;padding: 0;position: absolute;width: 1px;}#sk-container-id-5 div.sk-estimator {font-family: monospace;background-color: #f0f8ff;border: 1px dotted black;border-radius: 0.25em;box-sizing: border-box;margin-bottom: 0.5em;}#sk-container-id-5 div.sk-estimator:hover {background-color: #d4ebff;}#sk-container-id-5 div.sk-parallel-item::after {content: \"\";width: 100%;border-bottom: 1px solid gray;flex-grow: 1;}#sk-container-id-5 div.sk-label:hover label.sk-toggleable__label {background-color: #d4ebff;}#sk-container-id-5 div.sk-serial::before {content: \"\";position: absolute;border-left: 1px solid gray;box-sizing: border-box;top: 0;bottom: 0;left: 50%;z-index: 0;}#sk-container-id-5 div.sk-serial {display: flex;flex-direction: column;align-items: center;background-color: white;padding-right: 0.2em;padding-left: 0.2em;position: relative;}#sk-container-id-5 div.sk-item {position: relative;z-index: 1;}#sk-container-id-5 div.sk-parallel {display: flex;align-items: stretch;justify-content: center;background-color: white;position: relative;}#sk-container-id-5 div.sk-item::before, #sk-container-id-5 div.sk-parallel-item::before {content: \"\";position: absolute;border-left: 1px solid gray;box-sizing: border-box;top: 0;bottom: 0;left: 50%;z-index: -1;}#sk-container-id-5 div.sk-parallel-item {display: flex;flex-direction: column;z-index: 1;position: relative;background-color: white;}#sk-container-id-5 div.sk-parallel-item:first-child::after {align-self: flex-end;width: 50%;}#sk-container-id-5 div.sk-parallel-item:last-child::after {align-self: flex-start;width: 50%;}#sk-container-id-5 div.sk-parallel-item:only-child::after {width: 0;}#sk-container-id-5 div.sk-dashed-wrapped {border: 1px dashed gray;margin: 0 0.4em 0.5em 0.4em;box-sizing: border-box;padding-bottom: 0.4em;background-color: white;}#sk-container-id-5 div.sk-label label {font-family: monospace;font-weight: bold;display: inline-block;line-height: 1.2em;}#sk-container-id-5 div.sk-label-container {text-align: center;}#sk-container-id-5 div.sk-container {/* jupyter's `normalize.less` sets `[hidden] { display: none; }` but bootstrap.min.css set `[hidden] { display: none !important; }` so we also need the `!important` here to be able to override the default hidden behavior on the sphinx rendered scikit-learn.org. See: https://github.com/scikit-learn/scikit-learn/issues/21755 */display: inline-block !important;position: relative;}#sk-container-id-5 div.sk-text-repr-fallback {display: none;}</style><div id=\"sk-container-id-5\" class=\"sk-top-container\"><div class=\"sk-text-repr-fallback\"><pre>RandomForestClassifier(class_weight=&#x27;balanced&#x27;, random_state=42)</pre><b>In a Jupyter environment, please rerun this cell to show the HTML representation or trust the notebook. <br />On GitHub, the HTML representation is unable to render, please try loading this page with nbviewer.org.</b></div><div class=\"sk-container\" hidden><div class=\"sk-item\"><div class=\"sk-estimator sk-toggleable\"><input class=\"sk-toggleable__control sk-hidden--visually\" id=\"sk-estimator-id-5\" type=\"checkbox\" checked><label for=\"sk-estimator-id-5\" class=\"sk-toggleable__label sk-toggleable__label-arrow\">RandomForestClassifier</label><div class=\"sk-toggleable__content\"><pre>RandomForestClassifier(class_weight=&#x27;balanced&#x27;, random_state=42)</pre></div></div></div></div></div>"
      ],
      "text/plain": [
       "RandomForestClassifier(class_weight='balanced', random_state=42)"
      ]
     },
     "execution_count": 55,
     "metadata": {},
     "output_type": "execute_result"
    }
   ],
   "source": [
    "clf_rf = RandomForestClassifier(class_weight='balanced', random_state=RAND)\n",
    "\n",
    "clf_rf.fit(X_train, y_train)"
   ]
  },
  {
   "cell_type": "code",
   "execution_count": null,
   "metadata": {
    "colab": {
     "base_uri": "https://localhost:8080/"
    },
    "executionInfo": {
     "elapsed": 2213,
     "status": "ok",
     "timestamp": 1679735413667,
     "user": {
      "displayName": "Гоша Сидоркин",
      "userId": "09429149278087224251"
     },
     "user_tz": -240
    },
    "id": "UkE_6qypnZbe",
    "outputId": "29bfe6ad-d381-47d7-a8c8-cec8876a1099"
   },
   "outputs": [
    {
     "name": "stdout",
     "output_type": "stream",
     "text": [
      "              precision    recall  f1-score   support\n",
      "\n",
      "         <18       0.00      0.00      0.00       207\n",
      "       18-25       0.37      0.12      0.18      6528\n",
      "       25-34       0.37      0.60      0.46     17454\n",
      "       35-44       0.33      0.43      0.37     15497\n",
      "       45-54       0.24      0.08      0.12      8489\n",
      "       55-65       0.22      0.04      0.06      4716\n",
      "         65+       0.00      0.00      0.00      1101\n",
      "\n",
      "    accuracy                           0.35     53992\n",
      "   macro avg       0.22      0.18      0.17     53992\n",
      "weighted avg       0.32      0.35      0.30     53992\n",
      "\n"
     ]
    }
   ],
   "source": [
    "print(\n",
    "    m.classification_report(y_test,\n",
    "                            clf_rf.predict(X_test),\n",
    "                            target_names=[\n",
    "                                '<18', '18-25', '25-34', '35-44', '45-54',\n",
    "                                '55-65', '65+'\n",
    "                            ]))"
   ]
  },
  {
   "cell_type": "code",
   "execution_count": null,
   "metadata": {
    "colab": {
     "base_uri": "https://localhost:8080/",
     "height": 186
    },
    "executionInfo": {
     "elapsed": 5327,
     "status": "ok",
     "timestamp": 1679735514994,
     "user": {
      "displayName": "Гоша Сидоркин",
      "userId": "09429149278087224251"
     },
     "user_tz": -240
    },
    "id": "Z6eTA4cxnZd0",
    "outputId": "66b9593a-8846-429d-f6e0-60af4db10c4a"
   },
   "outputs": [
    {
     "data": {
      "text/html": [
       "\n",
       "  <div id=\"df-6ba0bb4f-a741-4ad3-a248-4aa508b56c69\">\n",
       "    <div class=\"colab-df-container\">\n",
       "      <div>\n",
       "<style scoped>\n",
       "    .dataframe tbody tr th:only-of-type {\n",
       "        vertical-align: middle;\n",
       "    }\n",
       "\n",
       "    .dataframe tbody tr th {\n",
       "        vertical-align: top;\n",
       "    }\n",
       "\n",
       "    .dataframe thead th {\n",
       "        text-align: right;\n",
       "    }\n",
       "</style>\n",
       "<table border=\"1\" class=\"dataframe\">\n",
       "  <thead>\n",
       "    <tr style=\"text-align: right;\">\n",
       "      <th></th>\n",
       "      <th>model</th>\n",
       "      <th>ROC_AUC</th>\n",
       "      <th>Precision_micro</th>\n",
       "      <th>Precision_macro</th>\n",
       "      <th>Recall_micro</th>\n",
       "      <th>Recall_macro</th>\n",
       "      <th>F1_micro</th>\n",
       "      <th>F1_macro</th>\n",
       "      <th>Logloss</th>\n",
       "    </tr>\n",
       "  </thead>\n",
       "  <tbody>\n",
       "    <tr>\n",
       "      <th>0</th>\n",
       "      <td>LGBM_Baseline</td>\n",
       "      <td>0.665440</td>\n",
       "      <td>0.223941</td>\n",
       "      <td>0.206321</td>\n",
       "      <td>0.223941</td>\n",
       "      <td>0.257902</td>\n",
       "      <td>0.223941</td>\n",
       "      <td>0.186803</td>\n",
       "      <td>1.756957</td>\n",
       "    </tr>\n",
       "    <tr>\n",
       "      <th>0</th>\n",
       "      <td>CatBoost_Baseline</td>\n",
       "      <td>0.678626</td>\n",
       "      <td>0.363721</td>\n",
       "      <td>0.260785</td>\n",
       "      <td>0.363721</td>\n",
       "      <td>0.191032</td>\n",
       "      <td>0.363721</td>\n",
       "      <td>0.182633</td>\n",
       "      <td>1.483299</td>\n",
       "    </tr>\n",
       "    <tr>\n",
       "      <th>0</th>\n",
       "      <td>RandomForest_Baseline</td>\n",
       "      <td>0.630193</td>\n",
       "      <td>0.345829</td>\n",
       "      <td>0.219442</td>\n",
       "      <td>0.345829</td>\n",
       "      <td>0.180165</td>\n",
       "      <td>0.345829</td>\n",
       "      <td>0.170520</td>\n",
       "      <td>1.794659</td>\n",
       "    </tr>\n",
       "  </tbody>\n",
       "</table>\n",
       "</div>\n",
       "      <button class=\"colab-df-convert\" onclick=\"convertToInteractive('df-6ba0bb4f-a741-4ad3-a248-4aa508b56c69')\"\n",
       "              title=\"Convert this dataframe to an interactive table.\"\n",
       "              style=\"display:none;\">\n",
       "        \n",
       "  <svg xmlns=\"http://www.w3.org/2000/svg\" height=\"24px\"viewBox=\"0 0 24 24\"\n",
       "       width=\"24px\">\n",
       "    <path d=\"M0 0h24v24H0V0z\" fill=\"none\"/>\n",
       "    <path d=\"M18.56 5.44l.94 2.06.94-2.06 2.06-.94-2.06-.94-.94-2.06-.94 2.06-2.06.94zm-11 1L8.5 8.5l.94-2.06 2.06-.94-2.06-.94L8.5 2.5l-.94 2.06-2.06.94zm10 10l.94 2.06.94-2.06 2.06-.94-2.06-.94-.94-2.06-.94 2.06-2.06.94z\"/><path d=\"M17.41 7.96l-1.37-1.37c-.4-.4-.92-.59-1.43-.59-.52 0-1.04.2-1.43.59L10.3 9.45l-7.72 7.72c-.78.78-.78 2.05 0 2.83L4 21.41c.39.39.9.59 1.41.59.51 0 1.02-.2 1.41-.59l7.78-7.78 2.81-2.81c.8-.78.8-2.07 0-2.86zM5.41 20L4 18.59l7.72-7.72 1.47 1.35L5.41 20z\"/>\n",
       "  </svg>\n",
       "      </button>\n",
       "      \n",
       "  <style>\n",
       "    .colab-df-container {\n",
       "      display:flex;\n",
       "      flex-wrap:wrap;\n",
       "      gap: 12px;\n",
       "    }\n",
       "\n",
       "    .colab-df-convert {\n",
       "      background-color: #E8F0FE;\n",
       "      border: none;\n",
       "      border-radius: 50%;\n",
       "      cursor: pointer;\n",
       "      display: none;\n",
       "      fill: #1967D2;\n",
       "      height: 32px;\n",
       "      padding: 0 0 0 0;\n",
       "      width: 32px;\n",
       "    }\n",
       "\n",
       "    .colab-df-convert:hover {\n",
       "      background-color: #E2EBFA;\n",
       "      box-shadow: 0px 1px 2px rgba(60, 64, 67, 0.3), 0px 1px 3px 1px rgba(60, 64, 67, 0.15);\n",
       "      fill: #174EA6;\n",
       "    }\n",
       "\n",
       "    [theme=dark] .colab-df-convert {\n",
       "      background-color: #3B4455;\n",
       "      fill: #D2E3FC;\n",
       "    }\n",
       "\n",
       "    [theme=dark] .colab-df-convert:hover {\n",
       "      background-color: #434B5C;\n",
       "      box-shadow: 0px 1px 3px 1px rgba(0, 0, 0, 0.15);\n",
       "      filter: drop-shadow(0px 1px 2px rgba(0, 0, 0, 0.3));\n",
       "      fill: #FFFFFF;\n",
       "    }\n",
       "  </style>\n",
       "\n",
       "      <script>\n",
       "        const buttonEl =\n",
       "          document.querySelector('#df-6ba0bb4f-a741-4ad3-a248-4aa508b56c69 button.colab-df-convert');\n",
       "        buttonEl.style.display =\n",
       "          google.colab.kernel.accessAllowed ? 'block' : 'none';\n",
       "\n",
       "        async function convertToInteractive(key) {\n",
       "          const element = document.querySelector('#df-6ba0bb4f-a741-4ad3-a248-4aa508b56c69');\n",
       "          const dataTable =\n",
       "            await google.colab.kernel.invokeFunction('convertToInteractive',\n",
       "                                                     [key], {});\n",
       "          if (!dataTable) return;\n",
       "\n",
       "          const docLinkHtml = 'Like what you see? Visit the ' +\n",
       "            '<a target=\"_blank\" href=https://colab.research.google.com/notebooks/data_table.ipynb>data table notebook</a>'\n",
       "            + ' to learn more about interactive tables.';\n",
       "          element.innerHTML = '';\n",
       "          dataTable['output_type'] = 'display_data';\n",
       "          await google.colab.output.renderOutput(dataTable, element);\n",
       "          const docLink = document.createElement('div');\n",
       "          docLink.innerHTML = docLinkHtml;\n",
       "          element.appendChild(docLink);\n",
       "        }\n",
       "      </script>\n",
       "    </div>\n",
       "  </div>\n",
       "  "
      ],
      "text/plain": [
       "                   model   ROC_AUC  Precision_micro  Precision_macro  \\\n",
       "0          LGBM_Baseline  0.665440         0.223941         0.206321   \n",
       "0      CatBoost_Baseline  0.678626         0.363721         0.260785   \n",
       "0  RandomForest_Baseline  0.630193         0.345829         0.219442   \n",
       "\n",
       "   Recall_micro  Recall_macro  F1_micro  F1_macro   Logloss  \n",
       "0      0.223941      0.257902  0.223941  0.186803  1.756957  \n",
       "0      0.363721      0.191032  0.363721  0.182633  1.483299  \n",
       "0      0.345829      0.180165  0.345829  0.170520  1.794659  "
      ]
     },
     "execution_count": 58,
     "metadata": {},
     "output_type": "execute_result"
    }
   ],
   "source": [
    "y_pred = clf_rf.predict(X_test)\n",
    "y_score = clf_rf.predict_proba(X_test)\n",
    "\n",
    "metrics_age = metrics_age.append(\n",
    "    get_metrics_multiclass(y_test_bin=y_test_bin,\n",
    "                           y_test=y_test,\n",
    "                           y_pred=y_pred,\n",
    "                           y_prob=y_score,\n",
    "                           name='RandomForest_Baseline',\n",
    "                           type_multi='ovo'))\n",
    "metrics_age"
   ]
  },
  {
   "cell_type": "markdown",
   "metadata": {
    "id": "RoHXMh1v4HXE"
   },
   "source": [
    "Вывод: в предсказнии возраста Catboost немного переобучился, но показал лучшие результаты"
   ]
  },
  {
   "cell_type": "code",
   "execution_count": null,
   "metadata": {
    "id": "sI6yLzQFwcoz"
   },
   "outputs": [],
   "source": [
    "metrics_age.to_csv('./metrics/metrics_age_baseline.csv', index=False)"
   ]
  }
 ],
 "metadata": {
  "colab": {
   "authorship_tag": "ABX9TyN4umvcLAX6xIeat75UQFbe",
   "machine_shape": "hm",
   "mount_file_id": "1V2-XGAG4rXtKptWGsNmmlcfaoY5UWjwR",
   "provenance": [
    {
     "file_id": "1tl-Ognw3BL4v7wcL5ciCGBceg5hJybU0",
     "timestamp": 1678997193036
    }
   ],
   "toc_visible": true
  },
  "gpuClass": "standard",
  "kernelspec": {
   "display_name": "Python 3 (ipykernel)",
   "language": "python",
   "name": "python3"
  },
  "language_info": {
   "codemirror_mode": {
    "name": "ipython",
    "version": 3
   },
   "file_extension": ".py",
   "mimetype": "text/x-python",
   "name": "python",
   "nbconvert_exporter": "python",
   "pygments_lexer": "ipython3",
   "version": "3.9.10"
  },
  "toc": {
   "base_numbering": 1,
   "nav_menu": {},
   "number_sections": true,
   "sideBar": true,
   "skip_h1_title": false,
   "title_cell": "Table of Contents",
   "title_sidebar": "Contents",
   "toc_cell": false,
   "toc_position": {},
   "toc_section_display": true,
   "toc_window_display": false
  }
 },
 "nbformat": 4,
 "nbformat_minor": 1
}