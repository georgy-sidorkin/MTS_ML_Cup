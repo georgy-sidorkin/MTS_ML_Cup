{
 "cells": [
  {
   "cell_type": "code",
   "execution_count": 2,
   "metadata": {
    "colab": {
     "base_uri": "https://localhost:8080/"
    },
    "executionInfo": {
     "elapsed": 3202,
     "status": "ok",
     "timestamp": 1680296084881,
     "user": {
      "displayName": "Гоша Сидоркин",
      "userId": "09429149278087224251"
     },
     "user_tz": -240
    },
    "id": "PWAUwg5yILXX",
    "outputId": "06e801c3-87eb-45e6-b32d-44ea9dba588e"
   },
   "outputs": [
    {
     "name": "stdout",
     "output_type": "stream",
     "text": [
      "Drive already mounted at /content/drive; to attempt to forcibly remount, call drive.mount(\"/content/drive\", force_remount=True).\n"
     ]
    }
   ],
   "source": [
    "from google.colab import drive\n",
    "drive.mount('/content/drive')"
   ]
  },
  {
   "cell_type": "code",
   "execution_count": 3,
   "metadata": {
    "colab": {
     "base_uri": "https://localhost:8080/"
    },
    "executionInfo": {
     "elapsed": 399,
     "status": "ok",
     "timestamp": 1680296092110,
     "user": {
      "displayName": "Гоша Сидоркин",
      "userId": "09429149278087224251"
     },
     "user_tz": -240
    },
    "id": "sDz_Womfg-dq",
    "outputId": "8f0c59d1-80fc-460f-e402-2ade7ccd4087"
   },
   "outputs": [
    {
     "name": "stdout",
     "output_type": "stream",
     "text": [
      "/content/drive/MyDrive/MTS ML Cup\n"
     ]
    }
   ],
   "source": [
    "%cd /content/drive/MyDrive/MTS ML Cup"
   ]
  },
  {
   "cell_type": "code",
   "execution_count": 4,
   "metadata": {
    "executionInfo": {
     "elapsed": 3,
     "status": "ok",
     "timestamp": 1680296093757,
     "user": {
      "displayName": "Гоша Сидоркин",
      "userId": "09429149278087224251"
     },
     "user_tz": -240
    },
    "id": "AQILWh_AhAzX"
   },
   "outputs": [],
   "source": [
    "import warnings\n",
    "import os\n",
    "import sys\n",
    "\n",
    "sys.path.insert(0, '/content/drive/MyDrive/MTS ML Cup/src')\n",
    "\n",
    "os.environ['OPENBLAS_NUM_THREADS'] = '1'\n",
    "warnings.filterwarnings('ignore')"
   ]
  },
  {
   "cell_type": "code",
   "execution_count": null,
   "metadata": {
    "pycharm": {
     "name": "#%%\n"
    }
   },
   "outputs": [],
   "source": [
    "!pip install catboost"
   ]
  },
  {
   "cell_type": "code",
   "execution_count": null,
   "metadata": {
    "pycharm": {
     "name": "#%%\n"
    }
   },
   "outputs": [],
   "source": [
    "!pip install lightgbm"
   ]
  },
  {
   "cell_type": "code",
   "execution_count": 7,
   "metadata": {
    "executionInfo": {
     "elapsed": 2392,
     "status": "ok",
     "timestamp": 1680296108725,
     "user": {
      "displayName": "Гоша Сидоркин",
      "userId": "09429149278087224251"
     },
     "user_tz": -240
    },
    "id": "eX_QLsxjhc68"
   },
   "outputs": [],
   "source": [
    "import pandas as pd\n",
    "import numpy as np\n",
    "\n",
    "from catboost import CatBoostClassifier\n",
    "from lightgbm import LGBMClassifier\n",
    "\n",
    "import sklearn.metrics as m\n",
    "from sklearn.model_selection import train_test_split, StratifiedKFold\n",
    "from sklearn.linear_model import LogisticRegression"
   ]
  },
  {
   "cell_type": "code",
   "execution_count": 9,
   "metadata": {
    "executionInfo": {
     "elapsed": 526,
     "status": "ok",
     "timestamp": 1680296130866,
     "user": {
      "displayName": "Гоша Сидоркин",
      "userId": "09429149278087224251"
     },
     "user_tz": -240
    },
    "id": "BYpOJuA6JIhO"
   },
   "outputs": [],
   "source": [
    "from metric_functions import get_metrics_classification, check_overfitting_classification"
   ]
  },
  {
   "cell_type": "code",
   "execution_count": 10,
   "metadata": {
    "executionInfo": {
     "elapsed": 702,
     "status": "ok",
     "timestamp": 1680296132274,
     "user": {
      "displayName": "Гоша Сидоркин",
      "userId": "09429149278087224251"
     },
     "user_tz": -240
    },
    "id": "5RRycQYBJQQ-"
   },
   "outputs": [],
   "source": [
    "import seaborn as sns\n",
    "import matplotlib.pyplot as plt\n",
    "\n",
    "%matplotlib inline\n",
    "sns.set_style('darkgrid')"
   ]
  },
  {
   "cell_type": "code",
   "execution_count": 11,
   "metadata": {
    "executionInfo": {
     "elapsed": 531,
     "status": "ok",
     "timestamp": 1680296137400,
     "user": {
      "displayName": "Гоша Сидоркин",
      "userId": "09429149278087224251"
     },
     "user_tz": -240
    },
    "id": "iq_v6v6Hhc9S"
   },
   "outputs": [],
   "source": [
    "RAND = 42\n",
    "N_FOLDS = 5\n",
    "\n",
    "final_types = {\n",
    "    'user_id': 'int32',\n",
    "    'part_of_day_day': 'int16',\n",
    "    'part_of_day_night': 'int16',\n",
    "    'day_pct': 'float32',\n",
    "    'evening_pct': 'float32',\n",
    "    'morning_pct': 'float32',\n",
    "    'night_pct': 'float32',\n",
    "    'act_days': 'int16',\n",
    "    'avg_req_per_day': 'float32',\n",
    "    'requests_std': 'float32',\n",
    "    'act_days_pct': 'float32',\n",
    "    'cpe_type_cd': 'category',\n",
    "    'cpe_model_os_type': 'category',\n",
    "    'cpe_manufacturer_name': 'category',\n",
    "    'price': 'float32',\n",
    "    'region_cnt': 'int8',\n",
    "    'city_cnt': 'int8',\n",
    "    'url_host_cnt': 'int16',\n",
    "}"
   ]
  },
  {
   "cell_type": "markdown",
   "metadata": {
    "id": "tdr8MrX0htFn"
   },
   "source": [
    "# Сбор всех данных"
   ]
  },
  {
   "cell_type": "code",
   "execution_count": 12,
   "metadata": {
    "executionInfo": {
     "elapsed": 571,
     "status": "ok",
     "timestamp": 1680296142761,
     "user": {
      "displayName": "Гоша Сидоркин",
      "userId": "09429149278087224251"
     },
     "user_tz": -240
    },
    "id": "jyw72yiLhc_Z"
   },
   "outputs": [],
   "source": [
    "id_to_submit = pd.read_parquet('submit.pqt')"
   ]
  },
  {
   "cell_type": "code",
   "execution_count": 13,
   "metadata": {
    "executionInfo": {
     "elapsed": 3,
     "status": "ok",
     "timestamp": 1680296143351,
     "user": {
      "displayName": "Гоша Сидоркин",
      "userId": "09429149278087224251"
     },
     "user_tz": -240
    },
    "id": "mkKCa7ZxhdBe"
   },
   "outputs": [],
   "source": [
    "targets = pd.read_parquet('public_train.pqt')"
   ]
  },
  {
   "cell_type": "code",
   "execution_count": 15,
   "metadata": {
    "executionInfo": {
     "elapsed": 1863,
     "status": "ok",
     "timestamp": 1680296145212,
     "user": {
      "displayName": "Гоша Сидоркин",
      "userId": "09429149278087224251"
     },
     "user_tz": -240
    },
    "id": "kiGApfnsTEnB"
   },
   "outputs": [],
   "source": [
    "df = pd.read_csv('data_agg/df_final.csv')"
   ]
  },
  {
   "cell_type": "code",
   "execution_count": 16,
   "metadata": {
    "colab": {
     "base_uri": "https://localhost:8080/",
     "height": 268
    },
    "executionInfo": {
     "elapsed": 16,
     "status": "ok",
     "timestamp": 1680296145213,
     "user": {
      "displayName": "Гоша Сидоркин",
      "userId": "09429149278087224251"
     },
     "user_tz": -240
    },
    "id": "GMBlxniqhx1w",
    "outputId": "c5060776-c81b-4fc6-c658-35a80a9d091b"
   },
   "outputs": [
    {
     "data": {
      "text/html": [
       "\n",
       "  <div id=\"df-9c573906-f850-4a2f-bf2b-9c57686332cb\">\n",
       "    <div class=\"colab-df-container\">\n",
       "      <div>\n",
       "<style scoped>\n",
       "    .dataframe tbody tr th:only-of-type {\n",
       "        vertical-align: middle;\n",
       "    }\n",
       "\n",
       "    .dataframe tbody tr th {\n",
       "        vertical-align: top;\n",
       "    }\n",
       "\n",
       "    .dataframe thead th {\n",
       "        text-align: right;\n",
       "    }\n",
       "</style>\n",
       "<table border=\"1\" class=\"dataframe\">\n",
       "  <thead>\n",
       "    <tr style=\"text-align: right;\">\n",
       "      <th></th>\n",
       "      <th>user_id</th>\n",
       "      <th>part_of_day_day</th>\n",
       "      <th>part_of_day_night</th>\n",
       "      <th>day_pct</th>\n",
       "      <th>evening_pct</th>\n",
       "      <th>morning_pct</th>\n",
       "      <th>night_pct</th>\n",
       "      <th>act_days</th>\n",
       "      <th>avg_req_per_day</th>\n",
       "      <th>requests_std</th>\n",
       "      <th>act_days_pct</th>\n",
       "      <th>cpe_type_cd</th>\n",
       "      <th>cpe_model_os_type</th>\n",
       "      <th>cpe_manufacturer_name</th>\n",
       "      <th>price</th>\n",
       "      <th>region_cnt</th>\n",
       "      <th>city_cnt</th>\n",
       "      <th>url_host_cnt</th>\n",
       "    </tr>\n",
       "  </thead>\n",
       "  <tbody>\n",
       "    <tr>\n",
       "      <th>0</th>\n",
       "      <td>4</td>\n",
       "      <td>199</td>\n",
       "      <td>10</td>\n",
       "      <td>0.336717</td>\n",
       "      <td>0.287648</td>\n",
       "      <td>0.358714</td>\n",
       "      <td>0.016920</td>\n",
       "      <td>20</td>\n",
       "      <td>38.850000</td>\n",
       "      <td>0.647632</td>\n",
       "      <td>0.4650</td>\n",
       "      <td>smartphone</td>\n",
       "      <td>Android</td>\n",
       "      <td>Huawei</td>\n",
       "      <td>12990.0</td>\n",
       "      <td>5</td>\n",
       "      <td>9</td>\n",
       "      <td>108</td>\n",
       "    </tr>\n",
       "    <tr>\n",
       "      <th>1</th>\n",
       "      <td>16</td>\n",
       "      <td>443</td>\n",
       "      <td>137</td>\n",
       "      <td>0.359870</td>\n",
       "      <td>0.260764</td>\n",
       "      <td>0.268075</td>\n",
       "      <td>0.111292</td>\n",
       "      <td>64</td>\n",
       "      <td>39.515625</td>\n",
       "      <td>1.397836</td>\n",
       "      <td>0.8647</td>\n",
       "      <td>smartphone</td>\n",
       "      <td>Android</td>\n",
       "      <td>Samsung</td>\n",
       "      <td>9583.0</td>\n",
       "      <td>1</td>\n",
       "      <td>1</td>\n",
       "      <td>50</td>\n",
       "    </tr>\n",
       "    <tr>\n",
       "      <th>2</th>\n",
       "      <td>18</td>\n",
       "      <td>566</td>\n",
       "      <td>34</td>\n",
       "      <td>0.503111</td>\n",
       "      <td>0.101333</td>\n",
       "      <td>0.365333</td>\n",
       "      <td>0.030222</td>\n",
       "      <td>32</td>\n",
       "      <td>60.937500</td>\n",
       "      <td>1.204972</td>\n",
       "      <td>0.8423</td>\n",
       "      <td>smartphone</td>\n",
       "      <td>Android</td>\n",
       "      <td>Samsung</td>\n",
       "      <td>22887.0</td>\n",
       "      <td>1</td>\n",
       "      <td>2</td>\n",
       "      <td>141</td>\n",
       "    </tr>\n",
       "    <tr>\n",
       "      <th>3</th>\n",
       "      <td>26</td>\n",
       "      <td>180</td>\n",
       "      <td>126</td>\n",
       "      <td>0.176817</td>\n",
       "      <td>0.400786</td>\n",
       "      <td>0.298625</td>\n",
       "      <td>0.123772</td>\n",
       "      <td>20</td>\n",
       "      <td>71.800000</td>\n",
       "      <td>0.688696</td>\n",
       "      <td>0.9090</td>\n",
       "      <td>smartphone</td>\n",
       "      <td>Android</td>\n",
       "      <td>Samsung</td>\n",
       "      <td>4990.0</td>\n",
       "      <td>1</td>\n",
       "      <td>1</td>\n",
       "      <td>126</td>\n",
       "    </tr>\n",
       "    <tr>\n",
       "      <th>4</th>\n",
       "      <td>27</td>\n",
       "      <td>808</td>\n",
       "      <td>342</td>\n",
       "      <td>0.302622</td>\n",
       "      <td>0.331461</td>\n",
       "      <td>0.237828</td>\n",
       "      <td>0.128090</td>\n",
       "      <td>67</td>\n",
       "      <td>66.074620</td>\n",
       "      <td>1.088583</td>\n",
       "      <td>0.9307</td>\n",
       "      <td>smartphone</td>\n",
       "      <td>Android</td>\n",
       "      <td>Xiaomi</td>\n",
       "      <td>12990.0</td>\n",
       "      <td>1</td>\n",
       "      <td>2</td>\n",
       "      <td>209</td>\n",
       "    </tr>\n",
       "  </tbody>\n",
       "</table>\n",
       "</div>\n",
       "      <button class=\"colab-df-convert\" onclick=\"convertToInteractive('df-9c573906-f850-4a2f-bf2b-9c57686332cb')\"\n",
       "              title=\"Convert this dataframe to an interactive table.\"\n",
       "              style=\"display:none;\">\n",
       "        \n",
       "  <svg xmlns=\"http://www.w3.org/2000/svg\" height=\"24px\"viewBox=\"0 0 24 24\"\n",
       "       width=\"24px\">\n",
       "    <path d=\"M0 0h24v24H0V0z\" fill=\"none\"/>\n",
       "    <path d=\"M18.56 5.44l.94 2.06.94-2.06 2.06-.94-2.06-.94-.94-2.06-.94 2.06-2.06.94zm-11 1L8.5 8.5l.94-2.06 2.06-.94-2.06-.94L8.5 2.5l-.94 2.06-2.06.94zm10 10l.94 2.06.94-2.06 2.06-.94-2.06-.94-.94-2.06-.94 2.06-2.06.94z\"/><path d=\"M17.41 7.96l-1.37-1.37c-.4-.4-.92-.59-1.43-.59-.52 0-1.04.2-1.43.59L10.3 9.45l-7.72 7.72c-.78.78-.78 2.05 0 2.83L4 21.41c.39.39.9.59 1.41.59.51 0 1.02-.2 1.41-.59l7.78-7.78 2.81-2.81c.8-.78.8-2.07 0-2.86zM5.41 20L4 18.59l7.72-7.72 1.47 1.35L5.41 20z\"/>\n",
       "  </svg>\n",
       "      </button>\n",
       "      \n",
       "  <style>\n",
       "    .colab-df-container {\n",
       "      display:flex;\n",
       "      flex-wrap:wrap;\n",
       "      gap: 12px;\n",
       "    }\n",
       "\n",
       "    .colab-df-convert {\n",
       "      background-color: #E8F0FE;\n",
       "      border: none;\n",
       "      border-radius: 50%;\n",
       "      cursor: pointer;\n",
       "      display: none;\n",
       "      fill: #1967D2;\n",
       "      height: 32px;\n",
       "      padding: 0 0 0 0;\n",
       "      width: 32px;\n",
       "    }\n",
       "\n",
       "    .colab-df-convert:hover {\n",
       "      background-color: #E2EBFA;\n",
       "      box-shadow: 0px 1px 2px rgba(60, 64, 67, 0.3), 0px 1px 3px 1px rgba(60, 64, 67, 0.15);\n",
       "      fill: #174EA6;\n",
       "    }\n",
       "\n",
       "    [theme=dark] .colab-df-convert {\n",
       "      background-color: #3B4455;\n",
       "      fill: #D2E3FC;\n",
       "    }\n",
       "\n",
       "    [theme=dark] .colab-df-convert:hover {\n",
       "      background-color: #434B5C;\n",
       "      box-shadow: 0px 1px 3px 1px rgba(0, 0, 0, 0.15);\n",
       "      filter: drop-shadow(0px 1px 2px rgba(0, 0, 0, 0.3));\n",
       "      fill: #FFFFFF;\n",
       "    }\n",
       "  </style>\n",
       "\n",
       "      <script>\n",
       "        const buttonEl =\n",
       "          document.querySelector('#df-9c573906-f850-4a2f-bf2b-9c57686332cb button.colab-df-convert');\n",
       "        buttonEl.style.display =\n",
       "          google.colab.kernel.accessAllowed ? 'block' : 'none';\n",
       "\n",
       "        async function convertToInteractive(key) {\n",
       "          const element = document.querySelector('#df-9c573906-f850-4a2f-bf2b-9c57686332cb');\n",
       "          const dataTable =\n",
       "            await google.colab.kernel.invokeFunction('convertToInteractive',\n",
       "                                                     [key], {});\n",
       "          if (!dataTable) return;\n",
       "\n",
       "          const docLinkHtml = 'Like what you see? Visit the ' +\n",
       "            '<a target=\"_blank\" href=https://colab.research.google.com/notebooks/data_table.ipynb>data table notebook</a>'\n",
       "            + ' to learn more about interactive tables.';\n",
       "          element.innerHTML = '';\n",
       "          dataTable['output_type'] = 'display_data';\n",
       "          await google.colab.output.renderOutput(dataTable, element);\n",
       "          const docLink = document.createElement('div');\n",
       "          docLink.innerHTML = docLinkHtml;\n",
       "          element.appendChild(docLink);\n",
       "        }\n",
       "      </script>\n",
       "    </div>\n",
       "  </div>\n",
       "  "
      ],
      "text/plain": [
       "   user_id  part_of_day_day  part_of_day_night   day_pct  evening_pct  \\\n",
       "0        4              199                 10  0.336717     0.287648   \n",
       "1       16              443                137  0.359870     0.260764   \n",
       "2       18              566                 34  0.503111     0.101333   \n",
       "3       26              180                126  0.176817     0.400786   \n",
       "4       27              808                342  0.302622     0.331461   \n",
       "\n",
       "   morning_pct  night_pct  act_days  avg_req_per_day  requests_std  \\\n",
       "0     0.358714   0.016920        20        38.850000      0.647632   \n",
       "1     0.268075   0.111292        64        39.515625      1.397836   \n",
       "2     0.365333   0.030222        32        60.937500      1.204972   \n",
       "3     0.298625   0.123772        20        71.800000      0.688696   \n",
       "4     0.237828   0.128090        67        66.074620      1.088583   \n",
       "\n",
       "   act_days_pct cpe_type_cd cpe_model_os_type cpe_manufacturer_name    price  \\\n",
       "0        0.4650  smartphone           Android                Huawei  12990.0   \n",
       "1        0.8647  smartphone           Android               Samsung   9583.0   \n",
       "2        0.8423  smartphone           Android               Samsung  22887.0   \n",
       "3        0.9090  smartphone           Android               Samsung   4990.0   \n",
       "4        0.9307  smartphone           Android                Xiaomi  12990.0   \n",
       "\n",
       "   region_cnt  city_cnt  url_host_cnt  \n",
       "0           5         9           108  \n",
       "1           1         1            50  \n",
       "2           1         2           141  \n",
       "3           1         1           126  \n",
       "4           1         2           209  "
      ]
     },
     "execution_count": 16,
     "metadata": {},
     "output_type": "execute_result"
    }
   ],
   "source": [
    "df.head()"
   ]
  },
  {
   "cell_type": "code",
   "execution_count": 17,
   "metadata": {
    "colab": {
     "base_uri": "https://localhost:8080/"
    },
    "executionInfo": {
     "elapsed": 13,
     "status": "ok",
     "timestamp": 1680296145213,
     "user": {
      "displayName": "Гоша Сидоркин",
      "userId": "09429149278087224251"
     },
     "user_tz": -240
    },
    "id": "haYGs5aLhx32",
    "outputId": "094d5c0c-2b77-48b6-dad1-b200cb170486"
   },
   "outputs": [
    {
     "data": {
      "text/plain": [
       "user_id                     int32\n",
       "part_of_day_day             int16\n",
       "part_of_day_night           int16\n",
       "day_pct                   float32\n",
       "evening_pct               float32\n",
       "morning_pct               float32\n",
       "night_pct                 float32\n",
       "act_days                    int16\n",
       "avg_req_per_day           float32\n",
       "requests_std              float32\n",
       "act_days_pct              float32\n",
       "cpe_type_cd              category\n",
       "cpe_model_os_type        category\n",
       "cpe_manufacturer_name    category\n",
       "price                     float32\n",
       "region_cnt                   int8\n",
       "city_cnt                     int8\n",
       "url_host_cnt                int16\n",
       "dtype: object"
      ]
     },
     "execution_count": 17,
     "metadata": {},
     "output_type": "execute_result"
    }
   ],
   "source": [
    "df = df.astype(final_types)\n",
    "df.dtypes"
   ]
  },
  {
   "cell_type": "code",
   "execution_count": 18,
   "metadata": {
    "colab": {
     "base_uri": "https://localhost:8080/"
    },
    "executionInfo": {
     "elapsed": 8,
     "status": "ok",
     "timestamp": 1680296145213,
     "user": {
      "displayName": "Гоша Сидоркин",
      "userId": "09429149278087224251"
     },
     "user_tz": -240
    },
    "id": "vjMfws8gimqm",
    "outputId": "fc8a54fd-9d9e-4438-b1b2-c221d8f4b5e7"
   },
   "outputs": [
    {
     "data": {
      "text/plain": [
       "(415317, 18)"
      ]
     },
     "execution_count": 18,
     "metadata": {},
     "output_type": "execute_result"
    }
   ],
   "source": [
    "df.shape"
   ]
  },
  {
   "cell_type": "code",
   "execution_count": 20,
   "metadata": {
    "executionInfo": {
     "elapsed": 18867,
     "status": "ok",
     "timestamp": 1680296164076,
     "user": {
      "displayName": "Гоша Сидоркин",
      "userId": "09429149278087224251"
     },
     "user_tz": -240
    },
    "id": "_hrOKD-xiz6A"
   },
   "outputs": [],
   "source": [
    "url_emb = pd.read_csv('embeddings/url_emb.csv')\n",
    "url_emb = url_emb.add_suffix('_url').rename(columns={'user_id_url': 'user_id'})"
   ]
  },
  {
   "cell_type": "code",
   "execution_count": 21,
   "metadata": {
    "executionInfo": {
     "elapsed": 2928,
     "status": "ok",
     "timestamp": 1680296167002,
     "user": {
      "displayName": "Гоша Сидоркин",
      "userId": "09429149278087224251"
     },
     "user_tz": -240
    },
    "id": "RuYYxThDjMun"
   },
   "outputs": [],
   "source": [
    "reg_emb = pd.read_csv('embeddings/reg_emb.csv')\n",
    "reg_emb = reg_emb.add_suffix('_reg').rename(columns={'user_id_reg': 'user_id'})"
   ]
  },
  {
   "cell_type": "code",
   "execution_count": 22,
   "metadata": {
    "executionInfo": {
     "elapsed": 4774,
     "status": "ok",
     "timestamp": 1680296171773,
     "user": {
      "displayName": "Гоша Сидоркин",
      "userId": "09429149278087224251"
     },
     "user_tz": -240
    },
    "id": "sigoNRMMjV93"
   },
   "outputs": [],
   "source": [
    "city_emb = pd.read_csv('embeddings/city_emb.csv')\n",
    "city_emb = city_emb.add_suffix('_city').rename(\n",
    "    columns={'user_id_city': 'user_id'})"
   ]
  },
  {
   "cell_type": "code",
   "execution_count": 23,
   "metadata": {
    "executionInfo": {
     "elapsed": 6793,
     "status": "ok",
     "timestamp": 1680296178560,
     "user": {
      "displayName": "Гоша Сидоркин",
      "userId": "09429149278087224251"
     },
     "user_tz": -240
    },
    "id": "Y0RikZKOjn1v"
   },
   "outputs": [],
   "source": [
    "model_emb = pd.read_csv('embeddings/model_emb.csv')\n",
    "model_emb = model_emb.add_suffix('_model').rename(\n",
    "    columns={'user_id_model': 'user_id'})"
   ]
  },
  {
   "cell_type": "markdown",
   "metadata": {
    "id": "y15wAXku-ct4"
   },
   "source": [
    "# Split data"
   ]
  },
  {
   "cell_type": "code",
   "execution_count": 24,
   "metadata": {
    "colab": {
     "base_uri": "https://localhost:8080/"
    },
    "executionInfo": {
     "elapsed": 4272,
     "status": "ok",
     "timestamp": 1680296182826,
     "user": {
      "displayName": "Гоша Сидоркин",
      "userId": "09429149278087224251"
     },
     "user_tz": -240
    },
    "id": "OTWoJ6FeuUmQ",
    "outputId": "fd24bf19-0b07-4219-9762-ce6ab4202a50"
   },
   "outputs": [
    {
     "data": {
      "text/plain": [
       "1    135331\n",
       "0    128994\n",
       "Name: is_male, dtype: int64"
      ]
     },
     "execution_count": 24,
     "metadata": {},
     "output_type": "execute_result"
    }
   ],
   "source": [
    "df_train_cat = targets.merge(df, how='inner', on=['user_id']) \\\n",
    "                      .merge(url_emb, how='inner', on='user_id') \\\n",
    "                      .merge(city_emb, how='inner', on=['user_id']) \\\n",
    "                      .merge(reg_emb, how='inner', on=['user_id']) \\\n",
    "                      .merge(model_emb, how='inner', on=['user_id'])\n",
    "\n",
    "df_train_cat = df_train_cat[df_train_cat['is_male'] != 'NA']\n",
    "df_train_cat = df_train_cat.dropna()\n",
    "df_train_cat['is_male'] = df_train_cat['is_male'].map(int)\n",
    "df_train_cat['is_male'].value_counts()"
   ]
  },
  {
   "cell_type": "code",
   "execution_count": 25,
   "metadata": {
    "colab": {
     "base_uri": "https://localhost:8080/"
    },
    "executionInfo": {
     "elapsed": 1354,
     "status": "ok",
     "timestamp": 1680296184173,
     "user": {
      "displayName": "Гоша Сидоркин",
      "userId": "09429149278087224251"
     },
     "user_tz": -240
    },
    "id": "VrPeCYI2n9vh",
    "outputId": "5657ee88-fdf3-41ce-92ac-b5407d27d317"
   },
   "outputs": [
    {
     "name": "stdout",
     "output_type": "stream",
     "text": [
      "CPU times: user 645 ms, sys: 472 ms, total: 1.12 s\n",
      "Wall time: 1.11 s\n"
     ]
    }
   ],
   "source": [
    "%%time\n",
    "X = df_train_cat.drop(['user_id', 'age', 'is_male'], axis=1)\n",
    "y = df_train_cat['is_male']\n",
    "\n",
    "X_train, X_test, y_train, y_test = train_test_split(X,\n",
    "                                                    y,\n",
    "                                                    test_size=0.2,\n",
    "                                                    shuffle=True,\n",
    "                                                    stratify=y,\n",
    "                                                    random_state=RAND)\n",
    "\n",
    "cat_features = X.select_dtypes('category').columns.tolist()\n",
    "# значение для scale_pos_weight\n",
    "ratio = float(np.sum(y == 0)) / np.sum(y == 1)"
   ]
  },
  {
   "cell_type": "markdown",
   "metadata": {
    "id": "6fDEY1xIzGbR"
   },
   "source": [
    "# Metrics"
   ]
  },
  {
   "cell_type": "code",
   "execution_count": 76,
   "metadata": {
    "executionInfo": {
     "elapsed": 422,
     "status": "ok",
     "timestamp": 1680350930670,
     "user": {
      "displayName": "Гоша Сидоркин",
      "userId": "09429149278087224251"
     },
     "user_tz": -240
    },
    "id": "lzsek-zyYLYC"
   },
   "outputs": [],
   "source": [
    "# параметры для моделей были подобраны в model_tuning.ipnb с помощью Optuna\n",
    "lgbm_gender_best1 = {\n",
    "    'n_estimators': 1600,\n",
    "    'learning_rate': 0.04323025519185361,\n",
    "    'num_leaves': 900,\n",
    "    'max_depth': 7,\n",
    "    'min_child_samples': 1200,\n",
    "    'reg_alpha': 0,\n",
    "    'reg_lambda': 9,\n",
    "    'min_split_gain': 3,\n",
    "    'subsample': 0.6909275901887844,\n",
    "    'subsample_freq': 1,\n",
    "    'colsample_bytree': 0.34716278523119637,\n",
    "    'scale_pos_weight': 0.9531740695036613,\n",
    "    'random_state': 42\n",
    "}\n",
    "\n",
    "lgbm_gender_params_2 = {\n",
    "    'n_estimators': 2200,\n",
    "    'learning_rate': 0.04667738692602193,\n",
    "    'scale_pos_weight': 0.9531740695036613,\n",
    "    'random_state': 42\n",
    "}\n",
    "\n",
    "lgbm_gender_params_3 = {\n",
    "    'n_estimators': 2600,\n",
    "    'learning_rate': 0.03825929958722602,\n",
    "    'scale_pos_weight': 0.9531740695036613,\n",
    "    'random_state': 42\n",
    "}\n",
    "\n",
    "cat_gender_best = {\n",
    "    'iterations': 3000,\n",
    "    'learning_rate': 0.051418504137325544,\n",
    "    'max_depth': 4,\n",
    "    'colsample_bylevel': 0.7594434568905333,\n",
    "    'l2_leaf_reg': 57.13098420673366,\n",
    "    'random_strength': 30.89358906898957,\n",
    "    'bootstrap_type': 'No',\n",
    "    'border_count': 128,\n",
    "    'grow_policy': 'Lossguide',\n",
    "    'od_wait': 1886,\n",
    "    'leaf_estimation_iterations': 15,\n",
    "    'eval_metric': 'AUC',\n",
    "    'scale_pos_weight': 0.9531740695036613,\n",
    "    'random_state': 42\n",
    "}"
   ]
  },
  {
   "cell_type": "code",
   "execution_count": 77,
   "metadata": {
    "executionInfo": {
     "elapsed": 3385044,
     "status": "ok",
     "timestamp": 1680354390397,
     "user": {
      "displayName": "Гоша Сидоркин",
      "userId": "09429149278087224251"
     },
     "user_tz": -240
    },
    "id": "yZtHhvFLzFoh"
   },
   "outputs": [],
   "source": [
    "clf1 = LGBMClassifier(**lgbm_gender_best1)\n",
    "clf1.fit(X_train, y_train)\n",
    "\n",
    "clf2 = LGBMClassifier(**lgbm_gender_params_2)\n",
    "clf2.fit(X_train, y_train)\n",
    "\n",
    "clf3 = LGBMClassifier(**lgbm_gender_params_3).fit(X_train, y_train)\n",
    "clf3.fit(X_train, y_train)\n",
    "\n",
    "clf4 = CatBoostClassifier(**cat_gender_best, cat_features=cat_features)\n",
    "clf4.fit(X_train, y_train, verbose=False)\n",
    "\n",
    "models_check = [clf1, clf2, clf3, clf4]\n",
    "\n",
    "metrics = pd.DataFrame()\n",
    "for model in models_check:\n",
    "    y_pred = model.predict(X_test)\n",
    "    y_score = model.predict_proba(X_test)\n",
    "\n",
    "    metrics = metrics.append(\n",
    "        get_metrics_classification(y_test,\n",
    "                                   y_pred,\n",
    "                                   y_score,\n",
    "                                   name=f'{model.__class__.__name__}'))"
   ]
  },
  {
   "cell_type": "code",
   "execution_count": 81,
   "metadata": {
    "executionInfo": {
     "elapsed": 538,
     "status": "ok",
     "timestamp": 1680354510110,
     "user": {
      "displayName": "Гоша Сидоркин",
      "userId": "09429149278087224251"
     },
     "user_tz": -240
    },
    "id": "wMORDaEo42ef"
   },
   "outputs": [],
   "source": [
    "metrics.reset_index(drop=True, inplace=True)"
   ]
  },
  {
   "cell_type": "code",
   "execution_count": 116,
   "metadata": {
    "colab": {
     "base_uri": "https://localhost:8080/",
     "height": 173
    },
    "executionInfo": {
     "elapsed": 1508,
     "status": "ok",
     "timestamp": 1680360847809,
     "user": {
      "displayName": "Гоша Сидоркин",
      "userId": "09429149278087224251"
     },
     "user_tz": -240
    },
    "id": "sI0PCQQe7x1b",
    "outputId": "013888cf-9eca-49c7-f7b7-d71f830857ea"
   },
   "outputs": [
    {
     "data": {
      "text/html": [
       "\n",
       "  <div id=\"df-8e7e79ee-ae00-46a8-b304-d3921abaed55\">\n",
       "    <div class=\"colab-df-container\">\n",
       "      <div>\n",
       "<style scoped>\n",
       "    .dataframe tbody tr th:only-of-type {\n",
       "        vertical-align: middle;\n",
       "    }\n",
       "\n",
       "    .dataframe tbody tr th {\n",
       "        vertical-align: top;\n",
       "    }\n",
       "\n",
       "    .dataframe thead th {\n",
       "        text-align: right;\n",
       "    }\n",
       "</style>\n",
       "<table border=\"1\" class=\"dataframe\">\n",
       "  <thead>\n",
       "    <tr style=\"text-align: right;\">\n",
       "      <th></th>\n",
       "      <th>model</th>\n",
       "      <th>Precision</th>\n",
       "      <th>Recall</th>\n",
       "      <th>f1</th>\n",
       "      <th>ROC_AUC</th>\n",
       "      <th>GINI</th>\n",
       "    </tr>\n",
       "  </thead>\n",
       "  <tbody>\n",
       "    <tr>\n",
       "      <th>0</th>\n",
       "      <td>LGBMClassifier</td>\n",
       "      <td>0.773767</td>\n",
       "      <td>0.751496</td>\n",
       "      <td>0.762469</td>\n",
       "      <td>0.848864</td>\n",
       "      <td>0.697729</td>\n",
       "    </tr>\n",
       "    <tr>\n",
       "      <th>1</th>\n",
       "      <td>LGBMClassifier</td>\n",
       "      <td>0.769840</td>\n",
       "      <td>0.753713</td>\n",
       "      <td>0.761691</td>\n",
       "      <td>0.846432</td>\n",
       "      <td>0.692865</td>\n",
       "    </tr>\n",
       "    <tr>\n",
       "      <th>2</th>\n",
       "      <td>LGBMClassifier</td>\n",
       "      <td>0.769871</td>\n",
       "      <td>0.751866</td>\n",
       "      <td>0.760762</td>\n",
       "      <td>0.847162</td>\n",
       "      <td>0.694323</td>\n",
       "    </tr>\n",
       "    <tr>\n",
       "      <th>3</th>\n",
       "      <td>CatBoostClassifier</td>\n",
       "      <td>0.774820</td>\n",
       "      <td>0.753750</td>\n",
       "      <td>0.764140</td>\n",
       "      <td>0.848991</td>\n",
       "      <td>0.697983</td>\n",
       "    </tr>\n",
       "  </tbody>\n",
       "</table>\n",
       "</div>\n",
       "      <button class=\"colab-df-convert\" onclick=\"convertToInteractive('df-8e7e79ee-ae00-46a8-b304-d3921abaed55')\"\n",
       "              title=\"Convert this dataframe to an interactive table.\"\n",
       "              style=\"display:none;\">\n",
       "        \n",
       "  <svg xmlns=\"http://www.w3.org/2000/svg\" height=\"24px\"viewBox=\"0 0 24 24\"\n",
       "       width=\"24px\">\n",
       "    <path d=\"M0 0h24v24H0V0z\" fill=\"none\"/>\n",
       "    <path d=\"M18.56 5.44l.94 2.06.94-2.06 2.06-.94-2.06-.94-.94-2.06-.94 2.06-2.06.94zm-11 1L8.5 8.5l.94-2.06 2.06-.94-2.06-.94L8.5 2.5l-.94 2.06-2.06.94zm10 10l.94 2.06.94-2.06 2.06-.94-2.06-.94-.94-2.06-.94 2.06-2.06.94z\"/><path d=\"M17.41 7.96l-1.37-1.37c-.4-.4-.92-.59-1.43-.59-.52 0-1.04.2-1.43.59L10.3 9.45l-7.72 7.72c-.78.78-.78 2.05 0 2.83L4 21.41c.39.39.9.59 1.41.59.51 0 1.02-.2 1.41-.59l7.78-7.78 2.81-2.81c.8-.78.8-2.07 0-2.86zM5.41 20L4 18.59l7.72-7.72 1.47 1.35L5.41 20z\"/>\n",
       "  </svg>\n",
       "      </button>\n",
       "      \n",
       "  <style>\n",
       "    .colab-df-container {\n",
       "      display:flex;\n",
       "      flex-wrap:wrap;\n",
       "      gap: 12px;\n",
       "    }\n",
       "\n",
       "    .colab-df-convert {\n",
       "      background-color: #E8F0FE;\n",
       "      border: none;\n",
       "      border-radius: 50%;\n",
       "      cursor: pointer;\n",
       "      display: none;\n",
       "      fill: #1967D2;\n",
       "      height: 32px;\n",
       "      padding: 0 0 0 0;\n",
       "      width: 32px;\n",
       "    }\n",
       "\n",
       "    .colab-df-convert:hover {\n",
       "      background-color: #E2EBFA;\n",
       "      box-shadow: 0px 1px 2px rgba(60, 64, 67, 0.3), 0px 1px 3px 1px rgba(60, 64, 67, 0.15);\n",
       "      fill: #174EA6;\n",
       "    }\n",
       "\n",
       "    [theme=dark] .colab-df-convert {\n",
       "      background-color: #3B4455;\n",
       "      fill: #D2E3FC;\n",
       "    }\n",
       "\n",
       "    [theme=dark] .colab-df-convert:hover {\n",
       "      background-color: #434B5C;\n",
       "      box-shadow: 0px 1px 3px 1px rgba(0, 0, 0, 0.15);\n",
       "      filter: drop-shadow(0px 1px 2px rgba(0, 0, 0, 0.3));\n",
       "      fill: #FFFFFF;\n",
       "    }\n",
       "  </style>\n",
       "\n",
       "      <script>\n",
       "        const buttonEl =\n",
       "          document.querySelector('#df-8e7e79ee-ae00-46a8-b304-d3921abaed55 button.colab-df-convert');\n",
       "        buttonEl.style.display =\n",
       "          google.colab.kernel.accessAllowed ? 'block' : 'none';\n",
       "\n",
       "        async function convertToInteractive(key) {\n",
       "          const element = document.querySelector('#df-8e7e79ee-ae00-46a8-b304-d3921abaed55');\n",
       "          const dataTable =\n",
       "            await google.colab.kernel.invokeFunction('convertToInteractive',\n",
       "                                                     [key], {});\n",
       "          if (!dataTable) return;\n",
       "\n",
       "          const docLinkHtml = 'Like what you see? Visit the ' +\n",
       "            '<a target=\"_blank\" href=https://colab.research.google.com/notebooks/data_table.ipynb>data table notebook</a>'\n",
       "            + ' to learn more about interactive tables.';\n",
       "          element.innerHTML = '';\n",
       "          dataTable['output_type'] = 'display_data';\n",
       "          await google.colab.output.renderOutput(dataTable, element);\n",
       "          const docLink = document.createElement('div');\n",
       "          docLink.innerHTML = docLinkHtml;\n",
       "          element.appendChild(docLink);\n",
       "        }\n",
       "      </script>\n",
       "    </div>\n",
       "  </div>\n",
       "  "
      ],
      "text/plain": [
       "                model  Precision    Recall        f1   ROC_AUC      GINI\n",
       "0      LGBMClassifier   0.773767  0.751496  0.762469  0.848864  0.697729\n",
       "1      LGBMClassifier   0.769840  0.753713  0.761691  0.846432  0.692865\n",
       "2      LGBMClassifier   0.769871  0.751866  0.760762  0.847162  0.694323\n",
       "3  CatBoostClassifier   0.774820  0.753750  0.764140  0.848991  0.697983"
      ]
     },
     "execution_count": 116,
     "metadata": {},
     "output_type": "execute_result"
    }
   ],
   "source": [
    "metrics"
   ]
  },
  {
   "cell_type": "markdown",
   "metadata": {
    "id": "UPqFfzqY8K4Z"
   },
   "source": [
    "# LGBM Optuna 1"
   ]
  },
  {
   "cell_type": "code",
   "execution_count": 27,
   "metadata": {
    "colab": {
     "base_uri": "https://localhost:8080/"
    },
    "executionInfo": {
     "elapsed": 598760,
     "status": "ok",
     "timestamp": 1680296782931,
     "user": {
      "displayName": "Гоша Сидоркин",
      "userId": "09429149278087224251"
     },
     "user_tz": -240
    },
    "id": "wLg7-ZKJOYdx",
    "outputId": "29d52266-ec8e-4067-b19f-2003607e73bb"
   },
   "outputs": [
    {
     "name": "stdout",
     "output_type": "stream",
     "text": [
      "Fold: 1 ROC-AUC SCORE 0.846\n",
      "---\n",
      "Fold: 2 ROC-AUC SCORE 0.845\n",
      "---\n",
      "Fold: 3 ROC-AUC SCORE 0.846\n",
      "---\n",
      "Fold: 4 ROC-AUC SCORE 0.846\n",
      "---\n",
      "Fold: 5 ROC-AUC SCORE 0.847\n",
      "---\n"
     ]
    }
   ],
   "source": [
    "meta_X = pd.DataFrame()\n",
    "meta_X_test = pd.DataFrame()\n",
    "\n",
    "pred_val = []\n",
    "pred_score_val = []\n",
    "\n",
    "cv = StratifiedKFold(n_splits=N_FOLDS)\n",
    "\n",
    "for fold, (train_idx, test_idx) in enumerate(cv.split(X_train, y_train)):\n",
    "    X_train_, X_val = X_train.iloc[train_idx], X_train.iloc[test_idx]\n",
    "    y_train_, y_val = y_train.iloc[train_idx], y_train.iloc[test_idx]\n",
    "\n",
    "    lgbm_1 = LGBMClassifier(**lgbm_gender_best1)\n",
    "    lgbm_1.fit(X_train_,\n",
    "               y_train_,\n",
    "               eval_set=[(X_val, y_val)],\n",
    "               eval_metric=\"auc\",\n",
    "               early_stopping_rounds=100,\n",
    "               verbose=0)\n",
    "\n",
    "    y_pred_val = lgbm_1.predict(X_val)\n",
    "    y_score_val = lgbm_1.predict_proba(X_val)\n",
    "\n",
    "    print(\"Fold:\", fold + 1,\n",
    "          \"ROC-AUC SCORE %.3f\" % m.roc_auc_score(y_val, y_score_val[:, 1]))\n",
    "    print(\"---\")\n",
    "\n",
    "    # holdout list\n",
    "    pred_val.append(y_pred_val)\n",
    "    pred_score_val.append(y_score_val)\n",
    "\n",
    "# обучаем модель для предсказания на test\n",
    "lgbm_1.fit(X_train, y_train)\n",
    "\n",
    "meta_X['lgbm_01'] = np.concatenate(pred_score_val)[:, 1]\n",
    "meta_X_test['lgbm_01'] = lgbm_1.predict_proba(X_test)[:, 1]"
   ]
  },
  {
   "cell_type": "code",
   "execution_count": 30,
   "metadata": {
    "colab": {
     "base_uri": "https://localhost:8080/"
    },
    "executionInfo": {
     "elapsed": 27415,
     "status": "ok",
     "timestamp": 1680296810339,
     "user": {
      "displayName": "Гоша Сидоркин",
      "userId": "09429149278087224251"
     },
     "user_tz": -240
    },
    "id": "izdR93CpyVXI",
    "outputId": "710d7b8e-eac1-437f-b146-0745133d46dd"
   },
   "outputs": [
    {
     "name": "stdout",
     "output_type": "stream",
     "text": [
      "ROC-AUC train = 0.906\n",
      "ROC-AUC test = 0.849\n",
      "delta = 6.71%\n"
     ]
    }
   ],
   "source": [
    "check_overfitting_classification(lgbm_1, X_train, y_train, X_test, y_test)"
   ]
  },
  {
   "cell_type": "markdown",
   "metadata": {
    "id": "l6MEptHBir51"
   },
   "source": [
    "# LGBM Optuna 2"
   ]
  },
  {
   "cell_type": "code",
   "execution_count": 31,
   "metadata": {
    "colab": {
     "base_uri": "https://localhost:8080/"
    },
    "executionInfo": {
     "elapsed": 1958940,
     "status": "ok",
     "timestamp": 1680301272401,
     "user": {
      "displayName": "Гоша Сидоркин",
      "userId": "09429149278087224251"
     },
     "user_tz": -240
    },
    "id": "vGbuLiIWOYPT",
    "outputId": "dfdbe35c-da33-47a6-981b-9ecb2e0d0daf"
   },
   "outputs": [
    {
     "name": "stdout",
     "output_type": "stream",
     "text": [
      "Fold: 1 ROC-AUC SCORE 0.842\n",
      "---\n",
      "Fold: 2 ROC-AUC SCORE 0.841\n",
      "---\n",
      "Fold: 3 ROC-AUC SCORE 0.842\n",
      "---\n",
      "Fold: 4 ROC-AUC SCORE 0.841\n",
      "---\n",
      "Fold: 5 ROC-AUC SCORE 0.843\n",
      "---\n"
     ]
    }
   ],
   "source": [
    "pred_val = []\n",
    "pred_score_val = []\n",
    "\n",
    "cv = StratifiedKFold(n_splits=N_FOLDS)\n",
    "\n",
    "for fold, (train_idx, test_idx) in enumerate(cv.split(X_train, y_train)):\n",
    "    X_train_, X_val = X_train.iloc[train_idx], X_train.iloc[test_idx]\n",
    "    y_train_, y_val = y_train.iloc[train_idx], y_train.iloc[test_idx]\n",
    "\n",
    "    lgbm_2 = LGBMClassifier(**lgbm_gender_params_2)\n",
    "    lgbm_2.fit(X_train_,\n",
    "               y_train_,\n",
    "               eval_set=[(X_val, y_val)],\n",
    "               eval_metric=\"auc\",\n",
    "               early_stopping_rounds=100,\n",
    "               verbose=0)\n",
    "\n",
    "    y_pred_val = lgbm_2.predict(X_val)\n",
    "    y_score_val = lgbm_2.predict_proba(X_val)\n",
    "\n",
    "    print(\"Fold:\", fold + 1,\n",
    "          \"ROC-AUC SCORE %.3f\" % m.roc_auc_score(y_val, y_score_val[:, 1]))\n",
    "    print(\"---\")\n",
    "\n",
    "    # holdout list\n",
    "    pred_val.append(y_pred_val)\n",
    "    pred_score_val.append(y_score_val)\n",
    "\n",
    "# обучаем модель для предсказания на test\n",
    "lgbm_2.fit(X_train, y_train)\n",
    "\n",
    "meta_X['lgbm_02'] = np.concatenate(pred_score_val)[:, 1]\n",
    "meta_X_test['lgbm_02'] = lgbm_2.predict_proba(X_test)[:, 1]"
   ]
  },
  {
   "cell_type": "code",
   "execution_count": 34,
   "metadata": {
    "colab": {
     "base_uri": "https://localhost:8080/"
    },
    "executionInfo": {
     "elapsed": 26034,
     "status": "ok",
     "timestamp": 1680301299786,
     "user": {
      "displayName": "Гоша Сидоркин",
      "userId": "09429149278087224251"
     },
     "user_tz": -240
    },
    "id": "w_sOS0-gOibL",
    "outputId": "fbea03fc-01b1-400e-fac8-04f10d4b8453"
   },
   "outputs": [
    {
     "name": "stdout",
     "output_type": "stream",
     "text": [
      "ROC-AUC train = 0.952\n",
      "ROC-AUC test = 0.846\n",
      "delta = 12.53%\n"
     ]
    }
   ],
   "source": [
    "check_overfitting_classification(lgbm_2, X_train, y_train, X_test, y_test)"
   ]
  },
  {
   "cell_type": "markdown",
   "metadata": {
    "id": "rRLWPWkS3IW-"
   },
   "source": [
    "# LGBM Optuna 3"
   ]
  },
  {
   "cell_type": "code",
   "execution_count": 83,
   "metadata": {
    "colab": {
     "base_uri": "https://localhost:8080/"
    },
    "executionInfo": {
     "elapsed": 2723041,
     "status": "ok",
     "timestamp": 1680357256849,
     "user": {
      "displayName": "Гоша Сидоркин",
      "userId": "09429149278087224251"
     },
     "user_tz": -240
    },
    "id": "qahJZjJgbuUx",
    "outputId": "ad80efca-ca52-4dd3-b332-c45d66aec310"
   },
   "outputs": [
    {
     "name": "stdout",
     "output_type": "stream",
     "text": [
      "Fold: 1 ROC-AUC SCORE 0.843\n",
      "---\n",
      "Fold: 2 ROC-AUC SCORE 0.841\n",
      "---\n",
      "Fold: 3 ROC-AUC SCORE 0.843\n",
      "---\n",
      "Fold: 4 ROC-AUC SCORE 0.842\n",
      "---\n",
      "Fold: 5 ROC-AUC SCORE 0.844\n",
      "---\n"
     ]
    }
   ],
   "source": [
    "pred_val = []\n",
    "pred_score_val = []\n",
    "\n",
    "cv = StratifiedKFold(n_splits=N_FOLDS)\n",
    "\n",
    "for fold, (train_idx, test_idx) in enumerate(cv.split(X_train, y_train)):\n",
    "    X_train_, X_val = X_train.iloc[train_idx], X_train.iloc[test_idx]\n",
    "    y_train_, y_val = y_train.iloc[train_idx], y_train.iloc[test_idx]\n",
    "\n",
    "    lgbm_3 = LGBMClassifier(**lgbm_gender_params_3)\n",
    "    lgbm_3.fit(X_train_,\n",
    "               y_train_,\n",
    "               eval_set=[(X_val, y_val)],\n",
    "               eval_metric=\"auc\",\n",
    "               early_stopping_rounds=100,\n",
    "               verbose=0)\n",
    "\n",
    "    y_pred_val = lgbm_3.predict(X_val)\n",
    "    y_score_val = lgbm_3.predict_proba(X_val)\n",
    "\n",
    "    print(\"Fold:\", fold + 1,\n",
    "          \"ROC-AUC SCORE %.3f\" % m.roc_auc_score(y_val, y_score_val[:, 1]))\n",
    "    print(\"---\")\n",
    "\n",
    "    # holdout list\n",
    "    pred_val.append(y_pred_val)\n",
    "    pred_score_val.append(y_score_val)\n",
    "\n",
    "# обучаем модель для предсказания на test\n",
    "lgbm_3.fit(X_train, y_train)\n",
    "\n",
    "meta_X['lgbm_03'] = np.concatenate(pred_score_val)[:, 1]\n",
    "meta_X_test['lgbm_03'] = lgbm_3.predict_proba(X_test)[:, 1]"
   ]
  },
  {
   "cell_type": "code",
   "execution_count": 89,
   "metadata": {
    "colab": {
     "base_uri": "https://localhost:8080/"
    },
    "executionInfo": {
     "elapsed": 29523,
     "status": "ok",
     "timestamp": 1680358316631,
     "user": {
      "displayName": "Гоша Сидоркин",
      "userId": "09429149278087224251"
     },
     "user_tz": -240
    },
    "id": "dyPqYNvXR7QW",
    "outputId": "4c9686e6-14da-438d-d139-4753893f2f57"
   },
   "outputs": [
    {
     "name": "stdout",
     "output_type": "stream",
     "text": [
      "ROC-AUC train = 0.951\n",
      "ROC-AUC test = 0.847\n",
      "delta = 12.2%\n"
     ]
    }
   ],
   "source": [
    "check_overfitting_classification(lgbm_3, X_train, y_train, X_test, y_test)"
   ]
  },
  {
   "cell_type": "markdown",
   "metadata": {
    "id": "lSAepJ-Sff6-"
   },
   "source": [
    "# Catboost Optuna"
   ]
  },
  {
   "cell_type": "code",
   "execution_count": 41,
   "metadata": {
    "colab": {
     "base_uri": "https://localhost:8080/"
    },
    "executionInfo": {
     "elapsed": 7352648,
     "status": "ok",
     "timestamp": 1680309915809,
     "user": {
      "displayName": "Гоша Сидоркин",
      "userId": "09429149278087224251"
     },
     "user_tz": -240
    },
    "id": "xH5-DGCCOYCu",
    "outputId": "f8f7c010-fdbd-4757-cf92-e1baa13edcf0"
   },
   "outputs": [
    {
     "name": "stdout",
     "output_type": "stream",
     "text": [
      "Fold: 1 ROC-AUC SCORE 0.845\n",
      "---\n",
      "Fold: 2 ROC-AUC SCORE 0.844\n",
      "---\n",
      "Fold: 3 ROC-AUC SCORE 0.845\n",
      "---\n",
      "Fold: 4 ROC-AUC SCORE 0.845\n",
      "---\n",
      "Fold: 5 ROC-AUC SCORE 0.846\n",
      "---\n"
     ]
    }
   ],
   "source": [
    "pred_val = []\n",
    "pred_score_val = []\n",
    "\n",
    "cv = StratifiedKFold(n_splits=N_FOLDS)\n",
    "\n",
    "for fold, (train_idx, test_idx) in enumerate(cv.split(X_train, y_train)):\n",
    "    X_train_, X_val = X_train.iloc[train_idx], X_train.iloc[test_idx]\n",
    "    y_train_, y_val = y_train.iloc[train_idx], y_train.iloc[test_idx]\n",
    "\n",
    "    cat_1 = CatBoostClassifier(cat_features=cat_features, **cat_gender_best)\n",
    "    cat_1.fit(X_train_,\n",
    "              y_train_,\n",
    "              eval_set=[(X_val, y_val)],\n",
    "              early_stopping_rounds=100,\n",
    "              verbose=False)\n",
    "\n",
    "    y_pred_val = cat_1.predict(X_val)\n",
    "    y_score_val = cat_1.predict_proba(X_val)\n",
    "\n",
    "    print(\"Fold:\", fold + 1,\n",
    "          \"ROC-AUC SCORE %.3f\" % m.roc_auc_score(y_val, y_score_val[:, 1]))\n",
    "    print(\"---\")\n",
    "\n",
    "    # holdout list\n",
    "    pred_val.append(y_pred_val)\n",
    "    pred_score_val.append(y_score_val)\n",
    "\n",
    "# обучаем модель для предсказания на test\n",
    "cat_1.fit(X_train, y_train, verbose=False)\n",
    "\n",
    "meta_X['cat_01'] = np.concatenate(pred_score_val)[:, 1]\n",
    "meta_X_test['cat_01'] = cat_1.predict_proba(X_test)[:, 1]"
   ]
  },
  {
   "cell_type": "code",
   "execution_count": 44,
   "metadata": {
    "colab": {
     "base_uri": "https://localhost:8080/"
    },
    "executionInfo": {
     "elapsed": 7307,
     "status": "ok",
     "timestamp": 1680309923100,
     "user": {
      "displayName": "Гоша Сидоркин",
      "userId": "09429149278087224251"
     },
     "user_tz": -240
    },
    "id": "l0igremcWayV",
    "outputId": "dad03b6a-4f1f-46f4-d8ad-cb57408c669b"
   },
   "outputs": [
    {
     "name": "stdout",
     "output_type": "stream",
     "text": [
      "ROC-AUC train = 0.912\n",
      "ROC-AUC test = 0.849\n",
      "delta = 7.42%\n"
     ]
    }
   ],
   "source": [
    "check_overfitting_classification(cat_1, X_train, y_train, X_test, y_test)"
   ]
  },
  {
   "cell_type": "code",
   "execution_count": 45,
   "metadata": {
    "executionInfo": {
     "elapsed": 2016,
     "status": "ok",
     "timestamp": 1680309925104,
     "user": {
      "displayName": "Гоша Сидоркин",
      "userId": "09429149278087224251"
     },
     "user_tz": -240
    },
    "id": "hD8TTQoP1tyy"
   },
   "outputs": [],
   "source": [
    "meta_X.to_csv('submissions/meta_X.csv', index=False)\n",
    "meta_X_test.to_csv('submissions/meta_X_test.csv', index=False)"
   ]
  },
  {
   "cell_type": "markdown",
   "metadata": {
    "id": "yNfCYi6IQniC"
   },
   "source": [
    "# Final meta model"
   ]
  },
  {
   "cell_type": "markdown",
   "metadata": {
    "id": "Q1ayl2JY98IW"
   },
   "source": [
    "## All"
   ]
  },
  {
   "cell_type": "code",
   "execution_count": 109,
   "metadata": {
    "executionInfo": {
     "elapsed": 524,
     "status": "ok",
     "timestamp": 1680360733029,
     "user": {
      "displayName": "Гоша Сидоркин",
      "userId": "09429149278087224251"
     },
     "user_tz": -240
    },
    "id": "m8pX6jTTTSvj"
   },
   "outputs": [],
   "source": [
    "meta_X.drop('catboost_02', axis=1, inplace=True)\n",
    "meta_X_test.drop('catboost_02', axis=1, inplace=True)"
   ]
  },
  {
   "cell_type": "code",
   "execution_count": 110,
   "metadata": {
    "colab": {
     "base_uri": "https://localhost:8080/",
     "height": 74
    },
    "executionInfo": {
     "elapsed": 531,
     "status": "ok",
     "timestamp": 1680360751937,
     "user": {
      "displayName": "Гоша Сидоркин",
      "userId": "09429149278087224251"
     },
     "user_tz": -240
    },
    "id": "9HVPCUyW97MA",
    "outputId": "cd710aed-e100-4f28-f259-cfb701350f58"
   },
   "outputs": [
    {
     "data": {
      "text/html": [
       "<style>#sk-container-id-5 {color: black;background-color: white;}#sk-container-id-5 pre{padding: 0;}#sk-container-id-5 div.sk-toggleable {background-color: white;}#sk-container-id-5 label.sk-toggleable__label {cursor: pointer;display: block;width: 100%;margin-bottom: 0;padding: 0.3em;box-sizing: border-box;text-align: center;}#sk-container-id-5 label.sk-toggleable__label-arrow:before {content: \"▸\";float: left;margin-right: 0.25em;color: #696969;}#sk-container-id-5 label.sk-toggleable__label-arrow:hover:before {color: black;}#sk-container-id-5 div.sk-estimator:hover label.sk-toggleable__label-arrow:before {color: black;}#sk-container-id-5 div.sk-toggleable__content {max-height: 0;max-width: 0;overflow: hidden;text-align: left;background-color: #f0f8ff;}#sk-container-id-5 div.sk-toggleable__content pre {margin: 0.2em;color: black;border-radius: 0.25em;background-color: #f0f8ff;}#sk-container-id-5 input.sk-toggleable__control:checked~div.sk-toggleable__content {max-height: 200px;max-width: 100%;overflow: auto;}#sk-container-id-5 input.sk-toggleable__control:checked~label.sk-toggleable__label-arrow:before {content: \"▾\";}#sk-container-id-5 div.sk-estimator input.sk-toggleable__control:checked~label.sk-toggleable__label {background-color: #d4ebff;}#sk-container-id-5 div.sk-label input.sk-toggleable__control:checked~label.sk-toggleable__label {background-color: #d4ebff;}#sk-container-id-5 input.sk-hidden--visually {border: 0;clip: rect(1px 1px 1px 1px);clip: rect(1px, 1px, 1px, 1px);height: 1px;margin: -1px;overflow: hidden;padding: 0;position: absolute;width: 1px;}#sk-container-id-5 div.sk-estimator {font-family: monospace;background-color: #f0f8ff;border: 1px dotted black;border-radius: 0.25em;box-sizing: border-box;margin-bottom: 0.5em;}#sk-container-id-5 div.sk-estimator:hover {background-color: #d4ebff;}#sk-container-id-5 div.sk-parallel-item::after {content: \"\";width: 100%;border-bottom: 1px solid gray;flex-grow: 1;}#sk-container-id-5 div.sk-label:hover label.sk-toggleable__label {background-color: #d4ebff;}#sk-container-id-5 div.sk-serial::before {content: \"\";position: absolute;border-left: 1px solid gray;box-sizing: border-box;top: 0;bottom: 0;left: 50%;z-index: 0;}#sk-container-id-5 div.sk-serial {display: flex;flex-direction: column;align-items: center;background-color: white;padding-right: 0.2em;padding-left: 0.2em;position: relative;}#sk-container-id-5 div.sk-item {position: relative;z-index: 1;}#sk-container-id-5 div.sk-parallel {display: flex;align-items: stretch;justify-content: center;background-color: white;position: relative;}#sk-container-id-5 div.sk-item::before, #sk-container-id-5 div.sk-parallel-item::before {content: \"\";position: absolute;border-left: 1px solid gray;box-sizing: border-box;top: 0;bottom: 0;left: 50%;z-index: -1;}#sk-container-id-5 div.sk-parallel-item {display: flex;flex-direction: column;z-index: 1;position: relative;background-color: white;}#sk-container-id-5 div.sk-parallel-item:first-child::after {align-self: flex-end;width: 50%;}#sk-container-id-5 div.sk-parallel-item:last-child::after {align-self: flex-start;width: 50%;}#sk-container-id-5 div.sk-parallel-item:only-child::after {width: 0;}#sk-container-id-5 div.sk-dashed-wrapped {border: 1px dashed gray;margin: 0 0.4em 0.5em 0.4em;box-sizing: border-box;padding-bottom: 0.4em;background-color: white;}#sk-container-id-5 div.sk-label label {font-family: monospace;font-weight: bold;display: inline-block;line-height: 1.2em;}#sk-container-id-5 div.sk-label-container {text-align: center;}#sk-container-id-5 div.sk-container {/* jupyter's `normalize.less` sets `[hidden] { display: none; }` but bootstrap.min.css set `[hidden] { display: none !important; }` so we also need the `!important` here to be able to override the default hidden behavior on the sphinx rendered scikit-learn.org. See: https://github.com/scikit-learn/scikit-learn/issues/21755 */display: inline-block !important;position: relative;}#sk-container-id-5 div.sk-text-repr-fallback {display: none;}</style><div id=\"sk-container-id-5\" class=\"sk-top-container\"><div class=\"sk-text-repr-fallback\"><pre>LogisticRegression(random_state=42)</pre><b>In a Jupyter environment, please rerun this cell to show the HTML representation or trust the notebook. <br />On GitHub, the HTML representation is unable to render, please try loading this page with nbviewer.org.</b></div><div class=\"sk-container\" hidden><div class=\"sk-item\"><div class=\"sk-estimator sk-toggleable\"><input class=\"sk-toggleable__control sk-hidden--visually\" id=\"sk-estimator-id-5\" type=\"checkbox\" checked><label for=\"sk-estimator-id-5\" class=\"sk-toggleable__label sk-toggleable__label-arrow\">LogisticRegression</label><div class=\"sk-toggleable__content\"><pre>LogisticRegression(random_state=42)</pre></div></div></div></div></div>"
      ],
      "text/plain": [
       "LogisticRegression(random_state=42)"
      ]
     },
     "execution_count": 110,
     "metadata": {},
     "output_type": "execute_result"
    }
   ],
   "source": [
    "meta_model = LogisticRegression(random_state=RAND)\n",
    "meta_model.fit(meta_X, y_train)"
   ]
  },
  {
   "cell_type": "code",
   "execution_count": 111,
   "metadata": {
    "colab": {
     "base_uri": "https://localhost:8080/"
    },
    "executionInfo": {
     "elapsed": 435,
     "status": "ok",
     "timestamp": 1680360754644,
     "user": {
      "displayName": "Гоша Сидоркин",
      "userId": "09429149278087224251"
     },
     "user_tz": -240
    },
    "id": "8QQVbOAX97JQ",
    "outputId": "53e4e6ac-7d8e-4e10-e516-d3776bcd424c"
   },
   "outputs": [
    {
     "name": "stdout",
     "output_type": "stream",
     "text": [
      "ROC-AUC train = 0.845\n",
      "ROC-AUC test = 0.851\n",
      "delta = -0.73%\n"
     ]
    }
   ],
   "source": [
    "check_overfitting_classification(meta_model, meta_X, y_train, meta_X_test,\n",
    "                                 y_test)"
   ]
  },
  {
   "cell_type": "code",
   "execution_count": 117,
   "metadata": {
    "colab": {
     "base_uri": "https://localhost:8080/",
     "height": 204
    },
    "executionInfo": {
     "elapsed": 429,
     "status": "ok",
     "timestamp": 1680360879788,
     "user": {
      "displayName": "Гоша Сидоркин",
      "userId": "09429149278087224251"
     },
     "user_tz": -240
    },
    "id": "SEESBuZT97G-",
    "outputId": "141c4e8f-e0dd-4364-b1a8-125ddccb6925"
   },
   "outputs": [
    {
     "data": {
      "text/html": [
       "\n",
       "  <div id=\"df-e6e89c57-fa7e-4cd4-af19-7e6f1f4734b8\">\n",
       "    <div class=\"colab-df-container\">\n",
       "      <div>\n",
       "<style scoped>\n",
       "    .dataframe tbody tr th:only-of-type {\n",
       "        vertical-align: middle;\n",
       "    }\n",
       "\n",
       "    .dataframe tbody tr th {\n",
       "        vertical-align: top;\n",
       "    }\n",
       "\n",
       "    .dataframe thead th {\n",
       "        text-align: right;\n",
       "    }\n",
       "</style>\n",
       "<table border=\"1\" class=\"dataframe\">\n",
       "  <thead>\n",
       "    <tr style=\"text-align: right;\">\n",
       "      <th></th>\n",
       "      <th>model</th>\n",
       "      <th>Precision</th>\n",
       "      <th>Recall</th>\n",
       "      <th>f1</th>\n",
       "      <th>ROC_AUC</th>\n",
       "      <th>GINI</th>\n",
       "    </tr>\n",
       "  </thead>\n",
       "  <tbody>\n",
       "    <tr>\n",
       "      <th>0</th>\n",
       "      <td>LGBMClassifier</td>\n",
       "      <td>0.773767</td>\n",
       "      <td>0.751496</td>\n",
       "      <td>0.762469</td>\n",
       "      <td>0.848864</td>\n",
       "      <td>0.697729</td>\n",
       "    </tr>\n",
       "    <tr>\n",
       "      <th>1</th>\n",
       "      <td>LGBMClassifier</td>\n",
       "      <td>0.769840</td>\n",
       "      <td>0.753713</td>\n",
       "      <td>0.761691</td>\n",
       "      <td>0.846432</td>\n",
       "      <td>0.692865</td>\n",
       "    </tr>\n",
       "    <tr>\n",
       "      <th>2</th>\n",
       "      <td>LGBMClassifier</td>\n",
       "      <td>0.769871</td>\n",
       "      <td>0.751866</td>\n",
       "      <td>0.760762</td>\n",
       "      <td>0.847162</td>\n",
       "      <td>0.694323</td>\n",
       "    </tr>\n",
       "    <tr>\n",
       "      <th>3</th>\n",
       "      <td>CatBoostClassifier</td>\n",
       "      <td>0.774820</td>\n",
       "      <td>0.753750</td>\n",
       "      <td>0.764140</td>\n",
       "      <td>0.848991</td>\n",
       "      <td>0.697983</td>\n",
       "    </tr>\n",
       "    <tr>\n",
       "      <th>0</th>\n",
       "      <td>Stacking_hand</td>\n",
       "      <td>0.769450</td>\n",
       "      <td>0.768455</td>\n",
       "      <td>0.768952</td>\n",
       "      <td>0.850829</td>\n",
       "      <td>0.701658</td>\n",
       "    </tr>\n",
       "  </tbody>\n",
       "</table>\n",
       "</div>\n",
       "      <button class=\"colab-df-convert\" onclick=\"convertToInteractive('df-e6e89c57-fa7e-4cd4-af19-7e6f1f4734b8')\"\n",
       "              title=\"Convert this dataframe to an interactive table.\"\n",
       "              style=\"display:none;\">\n",
       "        \n",
       "  <svg xmlns=\"http://www.w3.org/2000/svg\" height=\"24px\"viewBox=\"0 0 24 24\"\n",
       "       width=\"24px\">\n",
       "    <path d=\"M0 0h24v24H0V0z\" fill=\"none\"/>\n",
       "    <path d=\"M18.56 5.44l.94 2.06.94-2.06 2.06-.94-2.06-.94-.94-2.06-.94 2.06-2.06.94zm-11 1L8.5 8.5l.94-2.06 2.06-.94-2.06-.94L8.5 2.5l-.94 2.06-2.06.94zm10 10l.94 2.06.94-2.06 2.06-.94-2.06-.94-.94-2.06-.94 2.06-2.06.94z\"/><path d=\"M17.41 7.96l-1.37-1.37c-.4-.4-.92-.59-1.43-.59-.52 0-1.04.2-1.43.59L10.3 9.45l-7.72 7.72c-.78.78-.78 2.05 0 2.83L4 21.41c.39.39.9.59 1.41.59.51 0 1.02-.2 1.41-.59l7.78-7.78 2.81-2.81c.8-.78.8-2.07 0-2.86zM5.41 20L4 18.59l7.72-7.72 1.47 1.35L5.41 20z\"/>\n",
       "  </svg>\n",
       "      </button>\n",
       "      \n",
       "  <style>\n",
       "    .colab-df-container {\n",
       "      display:flex;\n",
       "      flex-wrap:wrap;\n",
       "      gap: 12px;\n",
       "    }\n",
       "\n",
       "    .colab-df-convert {\n",
       "      background-color: #E8F0FE;\n",
       "      border: none;\n",
       "      border-radius: 50%;\n",
       "      cursor: pointer;\n",
       "      display: none;\n",
       "      fill: #1967D2;\n",
       "      height: 32px;\n",
       "      padding: 0 0 0 0;\n",
       "      width: 32px;\n",
       "    }\n",
       "\n",
       "    .colab-df-convert:hover {\n",
       "      background-color: #E2EBFA;\n",
       "      box-shadow: 0px 1px 2px rgba(60, 64, 67, 0.3), 0px 1px 3px 1px rgba(60, 64, 67, 0.15);\n",
       "      fill: #174EA6;\n",
       "    }\n",
       "\n",
       "    [theme=dark] .colab-df-convert {\n",
       "      background-color: #3B4455;\n",
       "      fill: #D2E3FC;\n",
       "    }\n",
       "\n",
       "    [theme=dark] .colab-df-convert:hover {\n",
       "      background-color: #434B5C;\n",
       "      box-shadow: 0px 1px 3px 1px rgba(0, 0, 0, 0.15);\n",
       "      filter: drop-shadow(0px 1px 2px rgba(0, 0, 0, 0.3));\n",
       "      fill: #FFFFFF;\n",
       "    }\n",
       "  </style>\n",
       "\n",
       "      <script>\n",
       "        const buttonEl =\n",
       "          document.querySelector('#df-e6e89c57-fa7e-4cd4-af19-7e6f1f4734b8 button.colab-df-convert');\n",
       "        buttonEl.style.display =\n",
       "          google.colab.kernel.accessAllowed ? 'block' : 'none';\n",
       "\n",
       "        async function convertToInteractive(key) {\n",
       "          const element = document.querySelector('#df-e6e89c57-fa7e-4cd4-af19-7e6f1f4734b8');\n",
       "          const dataTable =\n",
       "            await google.colab.kernel.invokeFunction('convertToInteractive',\n",
       "                                                     [key], {});\n",
       "          if (!dataTable) return;\n",
       "\n",
       "          const docLinkHtml = 'Like what you see? Visit the ' +\n",
       "            '<a target=\"_blank\" href=https://colab.research.google.com/notebooks/data_table.ipynb>data table notebook</a>'\n",
       "            + ' to learn more about interactive tables.';\n",
       "          element.innerHTML = '';\n",
       "          dataTable['output_type'] = 'display_data';\n",
       "          await google.colab.output.renderOutput(dataTable, element);\n",
       "          const docLink = document.createElement('div');\n",
       "          docLink.innerHTML = docLinkHtml;\n",
       "          element.appendChild(docLink);\n",
       "        }\n",
       "      </script>\n",
       "    </div>\n",
       "  </div>\n",
       "  "
      ],
      "text/plain": [
       "                model  Precision    Recall        f1   ROC_AUC      GINI\n",
       "0      LGBMClassifier   0.773767  0.751496  0.762469  0.848864  0.697729\n",
       "1      LGBMClassifier   0.769840  0.753713  0.761691  0.846432  0.692865\n",
       "2      LGBMClassifier   0.769871  0.751866  0.760762  0.847162  0.694323\n",
       "3  CatBoostClassifier   0.774820  0.753750  0.764140  0.848991  0.697983\n",
       "0       Stacking_hand   0.769450  0.768455  0.768952  0.850829  0.701658"
      ]
     },
     "execution_count": 117,
     "metadata": {},
     "output_type": "execute_result"
    }
   ],
   "source": [
    "y_pred_test = meta_model.predict(meta_X_test)\n",
    "y_score_test = meta_model.predict_proba(meta_X_test)\n",
    "\n",
    "y_pred_train = meta_model.predict_proba(meta_X)\n",
    "\n",
    "metrics = metrics.append(\n",
    "    get_metrics_classification(y_test,\n",
    "                               y_pred_test,\n",
    "                               y_score_test,\n",
    "                               name='Stacking_hand'))\n",
    "metrics"
   ]
  },
  {
   "cell_type": "markdown",
   "metadata": {
    "id": "93OCdz12UGHo"
   },
   "source": [
    "С помощью стекинга удалось улучшить метрики и снизить переобучение"
   ]
  }
 ],
 "metadata": {
  "colab": {
   "authorship_tag": "ABX9TyPZBMUJitOlxTwUgDbO5WO0",
   "machine_shape": "hm",
   "mount_file_id": "1tl-Ognw3BL4v7wcL5ciCGBceg5hJybU0",
   "provenance": [],
   "toc_visible": true
  },
  "gpuClass": "standard",
  "kernelspec": {
   "display_name": "Python 3 (ipykernel)",
   "language": "python",
   "name": "python3"
  },
  "language_info": {
   "codemirror_mode": {
    "name": "ipython",
    "version": 3
   },
   "file_extension": ".py",
   "mimetype": "text/x-python",
   "name": "python",
   "nbconvert_exporter": "python",
   "pygments_lexer": "ipython3",
   "version": "3.9.10"
  },
  "toc": {
   "base_numbering": 1,
   "nav_menu": {},
   "number_sections": true,
   "sideBar": true,
   "skip_h1_title": false,
   "title_cell": "Table of Contents",
   "title_sidebar": "Contents",
   "toc_cell": false,
   "toc_position": {},
   "toc_section_display": true,
   "toc_window_display": false
  }
 },
 "nbformat": 4,
 "nbformat_minor": 1
}