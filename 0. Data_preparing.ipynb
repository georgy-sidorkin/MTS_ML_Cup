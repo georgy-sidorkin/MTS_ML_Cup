{
 "cells": [
  {
   "cell_type": "code",
   "execution_count": 34,
   "id": "175af98d",
   "metadata": {
    "pycharm": {
     "name": "#%%\n"
    }
   },
   "outputs": [],
   "source": [
    "import warnings\n",
    "import os\n",
    "import pandas as pd\n",
    "import numpy as np\n",
    "import tqdm\n",
    "\n",
    "import sys\n",
    "\n",
    "sys.path.insert(1, '/Users/gosha/Desktop/DS Competitions/MTS Cup/src')\n",
    "\n",
    "warnings.filterwarnings('ignore')"
   ]
  },
  {
   "cell_type": "code",
   "execution_count": 2,
   "id": "ac7af359",
   "metadata": {
    "pycharm": {
     "name": "#%%\n"
    }
   },
   "outputs": [],
   "source": [
    "# импортируем свои функции для обработки данных\n",
    "from src.preprocessing import get_data_part_day, get_data_days, \n",
    "    get_user_model_price, get_user_url_cnt, get_user_city_cnt"
   ]
  },
  {
   "cell_type": "markdown",
   "id": "443db361",
   "metadata": {},
   "source": [
    "# Описание задачи"
   ]
  },
  {
   "cell_type": "markdown",
   "id": "ea19b058",
   "metadata": {},
   "source": [
    "## О соревновании"
   ]
  },
  {
   "cell_type": "markdown",
   "id": "b1e00581",
   "metadata": {},
   "source": [
    "https://ods.ai/competitions/mtsmlcup\n",
    "\n",
    "Задача соревнования\n",
    "- Определение пола и возраста владельца HTTP cookie по истории активности пользователя в интернете на основе синтетических данных.\n",
    "\n",
    "Метрики соревнования:\n",
    "* ROC-AUC – для определения пола, f1 weighted – для определения возраста.\n",
    "* Все решения рассчитываются по формуле -  2 * f1_weighted(по 6 возрастным бакетам) + gini по полу.\n",
    "* Возрастные бакеты (Класс 1 — 19-25, Класс 2 — 26-35, Класс 3 — 36-45, Класс 4 — 46-55, Класс 5 — 56-65, Класс 6 — 66+).\n",
    "\n",
    "Описание колонок файла с данными:\n",
    "* 'region_name' – Регион\n",
    "* 'city_name' – Населенный пункт\n",
    "* 'cpe_manufacturer_name' – Производитель устройства\n",
    "* 'cpe_model_name' – Модель устройства\n",
    "* 'url_host' – Домен, с которого пришел рекламный запрос\n",
    "* 'cpe_type_cd' – Тип устройства (смартфон или что-то другое)\n",
    "* 'Cpe_model_os_type' – Операционка на устройстве\n",
    "* 'price' – Оценка цены устройства\n",
    "* 'date' – Дата\n",
    "* 'part_of_day' – Время дня (утро, вечер, и тд)\n",
    "* 'request_cnt' – Число запросов одного пользователя за время дня (поле part_of_day)\n",
    "* 'user_id' – ID пользователя\n",
    "\n",
    "Описание колонок файла с таргетами:\n",
    "\n",
    "* 'age' – Возраст пользователя\n",
    "* 'is_male' – Признак пользователя : мужчина (1-Да, 0-Нет)\n",
    "* 'user_id' – ID пользователя"
   ]
  },
  {
   "cell_type": "markdown",
   "id": "eb4088a8",
   "metadata": {},
   "source": [
    "## Структура проекта"
   ]
  },
  {
   "cell_type": "markdown",
   "id": "726b2d33",
   "metadata": {},
   "source": [
    "Данная работа была разделена на несколько jupyter ноутбуков:\n",
    "\n",
    "0. Data_preparing.ipnb - аггрегация отдельных файлов по user_id и склейка в финальный датасет\n",
    "1. EDA.ipynb - исследовательская часть\n",
    "2. baseline.ipynb - бейзлайн модели\n",
    "3. create_embeddings.ipynb - создание эмбеддингов для дальнейшего их использования в качестве фич\n",
    "4. baseline_embeddings.ipynb - бейзлан модели с эмбеддингами\n",
    "5. model_tuning.ipynb - тюнинг наиболее перспективных моделей\n",
    "6. gender_prediction_stacking.ipynb - стекинг моделей для предсказания пола"
   ]
  },
  {
   "cell_type": "markdown",
   "id": "d625670d",
   "metadata": {},
   "source": [
    "# Data preparing"
   ]
  },
  {
   "cell_type": "markdown",
   "id": "467e196a",
   "metadata": {},
   "source": [
    "В данном jupyter-ноутбуке мы рассмотрим и предобработаем 1 из 10 файлов с данными. После чего аггрегируем отдельно каждый файл в цикле и соединим в 1 датафрейм"
   ]
  },
  {
   "cell_type": "code",
   "execution_count": 3,
   "id": "b5a8fffa",
   "metadata": {
    "pycharm": {
     "name": "#%%\n"
    }
   },
   "outputs": [],
   "source": [
    "df = pd.read_parquet(\n",
    "    '../competition_data_final_pqt/part-00000-aba60f69-2b63-4cc1-95ca-542598094698-c000.snappy.parquet',\n",
    "    engine='fastparquet')"
   ]
  },
  {
   "cell_type": "code",
   "execution_count": 4,
   "id": "8638b869",
   "metadata": {
    "pycharm": {
     "name": "#%%\n"
    }
   },
   "outputs": [
    {
     "data": {
      "text/plain": [
       "(32638709, 12)"
      ]
     },
     "execution_count": 4,
     "metadata": {},
     "output_type": "execute_result"
    }
   ],
   "source": [
    "df.shape"
   ]
  },
  {
   "cell_type": "code",
   "execution_count": 21,
   "id": "b7584f95",
   "metadata": {
    "pycharm": {
     "name": "#%%\n"
    }
   },
   "outputs": [
    {
     "data": {
      "text/html": [
       "<div>\n",
       "<style scoped>\n",
       "    .dataframe tbody tr th:only-of-type {\n",
       "        vertical-align: middle;\n",
       "    }\n",
       "\n",
       "    .dataframe tbody tr th {\n",
       "        vertical-align: top;\n",
       "    }\n",
       "\n",
       "    .dataframe thead th {\n",
       "        text-align: right;\n",
       "    }\n",
       "</style>\n",
       "<table border=\"1\" class=\"dataframe\">\n",
       "  <thead>\n",
       "    <tr style=\"text-align: right;\">\n",
       "      <th></th>\n",
       "      <th>region_name</th>\n",
       "      <th>city_name</th>\n",
       "      <th>cpe_manufacturer_name</th>\n",
       "      <th>cpe_model_name</th>\n",
       "      <th>url_host</th>\n",
       "      <th>cpe_type_cd</th>\n",
       "      <th>cpe_model_os_type</th>\n",
       "      <th>price</th>\n",
       "      <th>date</th>\n",
       "      <th>part_of_day</th>\n",
       "      <th>request_cnt</th>\n",
       "      <th>user_id</th>\n",
       "    </tr>\n",
       "  </thead>\n",
       "  <tbody>\n",
       "    <tr>\n",
       "      <th>0</th>\n",
       "      <td>Краснодарский край</td>\n",
       "      <td>Краснодар</td>\n",
       "      <td>Apple</td>\n",
       "      <td>iPhone 7</td>\n",
       "      <td>ad.adriver.ru</td>\n",
       "      <td>smartphone</td>\n",
       "      <td>iOS</td>\n",
       "      <td>20368.0</td>\n",
       "      <td>2022-06-15</td>\n",
       "      <td>morning</td>\n",
       "      <td>1</td>\n",
       "      <td>45098</td>\n",
       "    </tr>\n",
       "    <tr>\n",
       "      <th>1</th>\n",
       "      <td>Краснодарский край</td>\n",
       "      <td>Краснодар</td>\n",
       "      <td>Apple</td>\n",
       "      <td>iPhone 7</td>\n",
       "      <td>apple.com</td>\n",
       "      <td>smartphone</td>\n",
       "      <td>iOS</td>\n",
       "      <td>20368.0</td>\n",
       "      <td>2022-06-19</td>\n",
       "      <td>morning</td>\n",
       "      <td>1</td>\n",
       "      <td>45098</td>\n",
       "    </tr>\n",
       "    <tr>\n",
       "      <th>2</th>\n",
       "      <td>Краснодарский край</td>\n",
       "      <td>Краснодар</td>\n",
       "      <td>Apple</td>\n",
       "      <td>iPhone 7</td>\n",
       "      <td>avatars.mds.yandex.net</td>\n",
       "      <td>smartphone</td>\n",
       "      <td>iOS</td>\n",
       "      <td>20368.0</td>\n",
       "      <td>2022-06-12</td>\n",
       "      <td>day</td>\n",
       "      <td>1</td>\n",
       "      <td>45098</td>\n",
       "    </tr>\n",
       "  </tbody>\n",
       "</table>\n",
       "</div>"
      ],
      "text/plain": [
       "          region_name  city_name cpe_manufacturer_name cpe_model_name   \n",
       "0  Краснодарский край  Краснодар                 Apple       iPhone 7  \\\n",
       "1  Краснодарский край  Краснодар                 Apple       iPhone 7   \n",
       "2  Краснодарский край  Краснодар                 Apple       iPhone 7   \n",
       "\n",
       "                 url_host cpe_type_cd cpe_model_os_type    price       date   \n",
       "0           ad.adriver.ru  smartphone               iOS  20368.0 2022-06-15  \\\n",
       "1               apple.com  smartphone               iOS  20368.0 2022-06-19   \n",
       "2  avatars.mds.yandex.net  smartphone               iOS  20368.0 2022-06-12   \n",
       "\n",
       "  part_of_day  request_cnt  user_id  \n",
       "0     morning            1    45098  \n",
       "1     morning            1    45098  \n",
       "2         day            1    45098  "
      ]
     },
     "execution_count": 21,
     "metadata": {},
     "output_type": "execute_result"
    }
   ],
   "source": [
    "df.head(3)"
   ]
  },
  {
   "cell_type": "code",
   "execution_count": 5,
   "id": "cda12466",
   "metadata": {
    "pycharm": {
     "name": "#%%\n"
    }
   },
   "outputs": [],
   "source": [
    "# поменяем тип числовых признаков, чтобы сэкономить память\n",
    "df = df.astype({'request_cnt': 'int8', 'price': 'float32', 'user_id': 'int32'})"
   ]
  },
  {
   "cell_type": "code",
   "execution_count": 23,
   "id": "12917655",
   "metadata": {
    "pycharm": {
     "name": "#%%\n"
    }
   },
   "outputs": [
    {
     "name": "stdout",
     "output_type": "stream",
     "text": [
      "<class 'pandas.core.frame.DataFrame'>\n",
      "RangeIndex: 32638709 entries, 0 to 32638708\n",
      "Data columns (total 12 columns):\n",
      " #   Column                 Dtype         \n",
      "---  ------                 -----         \n",
      " 0   region_name            object        \n",
      " 1   city_name              object        \n",
      " 2   cpe_manufacturer_name  object        \n",
      " 3   cpe_model_name         object        \n",
      " 4   url_host               object        \n",
      " 5   cpe_type_cd            object        \n",
      " 6   cpe_model_os_type      object        \n",
      " 7   price                  float32       \n",
      " 8   date                   datetime64[ns]\n",
      " 9   part_of_day            object        \n",
      " 10  request_cnt            int8          \n",
      " 11  user_id                int32         \n",
      "dtypes: datetime64[ns](1), float32(1), int32(1), int8(1), object(8)\n",
      "memory usage: 2.5+ GB\n"
     ]
    }
   ],
   "source": [
    "df.info()"
   ]
  },
  {
   "cell_type": "code",
   "execution_count": 24,
   "id": "d3b6bf18",
   "metadata": {
    "pycharm": {
     "name": "#%%\n"
    }
   },
   "outputs": [
    {
     "data": {
      "text/plain": [
       "region_name                   0\n",
       "city_name                     0\n",
       "cpe_manufacturer_name         0\n",
       "cpe_model_name                0\n",
       "url_host                      0\n",
       "cpe_type_cd                   0\n",
       "cpe_model_os_type             0\n",
       "price                    674264\n",
       "date                          0\n",
       "part_of_day                   0\n",
       "request_cnt                   0\n",
       "user_id                       0\n",
       "dtype: int64"
      ]
     },
     "execution_count": 24,
     "metadata": {},
     "output_type": "execute_result"
    }
   ],
   "source": [
    "df.isna().sum()"
   ]
  },
  {
   "cell_type": "code",
   "execution_count": 6,
   "id": "43a1788e",
   "metadata": {
    "pycharm": {
     "name": "#%%\n"
    }
   },
   "outputs": [],
   "source": [
    "def replace_model_mistakes(data: pd.DataFrame) -> pd.DataFrame:\n",
    "    \"\"\"\n",
    "    Функция исправляет неточности в данных, заменяет\n",
    "    :param data: датафрейм с данными\n",
    "    :return: датафрейм с исправленными неточностями\n",
    "    \"\"\"\n",
    "    # заменим значения, которые являются одинаковыми, но записаны по-разному\n",
    "    data.cpe_model_os_type.replace('Apple iOS', 'iOS', inplace=True)\n",
    "    data.cpe_manufacturer_name.replace('Huawei Device Company Limited',\n",
    "                                       'Huawei',\n",
    "                                       inplace=True)\n",
    "    data.cpe_manufacturer_name.replace(\n",
    "        'Motorola Mobility LLC, a Lenovo Company', 'Motorola', inplace=True)\n",
    "    data.cpe_manufacturer_name.replace('Sony Mobile Communications Inc.',\n",
    "                                       'Sony',\n",
    "                                       inplace=True)\n",
    "\n",
    "    # в таблицах для Nokia 3 Dual попадаются разные типы устройства, оставим только один тип\n",
    "    data['cpe_type_cd'] = np.where((data['cpe_manufacturer_name'] == 'Nokia') &\n",
    "                                   (data['cpe_model_name'] == '3 Dual'),\n",
    "                                   'plain', data['cpe_type_cd'])\n",
    "\n",
    "    # заполним пропуски цены несуществующим значением\n",
    "    data.price.fillna(-999, inplace=True)\n",
    "\n",
    "    return data"
   ]
  },
  {
   "cell_type": "code",
   "execution_count": 7,
   "id": "fa9eac26",
   "metadata": {
    "pycharm": {
     "name": "#%%\n"
    }
   },
   "outputs": [],
   "source": [
    "df = replace_model_mistakes(df)"
   ]
  },
  {
   "cell_type": "markdown",
   "id": "85ada3dc",
   "metadata": {},
   "source": [
    "# Feature Generation"
   ]
  },
  {
   "cell_type": "markdown",
   "id": "3dfbcfe3",
   "metadata": {},
   "source": [
    "## Количество запросов в разные части дня"
   ]
  },
  {
   "cell_type": "code",
   "execution_count": 10,
   "id": "ba8b770d",
   "metadata": {
    "pycharm": {
     "name": "#%%\n"
    }
   },
   "outputs": [
    {
     "data": {
      "text/html": [
       "<div>\n",
       "<style scoped>\n",
       "    .dataframe tbody tr th:only-of-type {\n",
       "        vertical-align: middle;\n",
       "    }\n",
       "\n",
       "    .dataframe tbody tr th {\n",
       "        vertical-align: top;\n",
       "    }\n",
       "\n",
       "    .dataframe thead th {\n",
       "        text-align: right;\n",
       "    }\n",
       "</style>\n",
       "<table border=\"1\" class=\"dataframe\">\n",
       "  <thead>\n",
       "    <tr style=\"text-align: right;\">\n",
       "      <th></th>\n",
       "      <th>user_id</th>\n",
       "      <th>part_of_day_day</th>\n",
       "      <th>part_of_day_evening</th>\n",
       "      <th>part_of_day_morning</th>\n",
       "      <th>part_of_day_night</th>\n",
       "      <th>sum_visits</th>\n",
       "      <th>day_pct</th>\n",
       "      <th>evening_pct</th>\n",
       "      <th>morning_pct</th>\n",
       "      <th>night_pct</th>\n",
       "    </tr>\n",
       "  </thead>\n",
       "  <tbody>\n",
       "    <tr>\n",
       "      <th>0</th>\n",
       "      <td>4</td>\n",
       "      <td>199</td>\n",
       "      <td>170</td>\n",
       "      <td>212</td>\n",
       "      <td>10</td>\n",
       "      <td>591</td>\n",
       "      <td>0.336717</td>\n",
       "      <td>0.287648</td>\n",
       "      <td>0.358714</td>\n",
       "      <td>0.016920</td>\n",
       "    </tr>\n",
       "    <tr>\n",
       "      <th>1</th>\n",
       "      <td>16</td>\n",
       "      <td>443</td>\n",
       "      <td>321</td>\n",
       "      <td>330</td>\n",
       "      <td>137</td>\n",
       "      <td>1231</td>\n",
       "      <td>0.359870</td>\n",
       "      <td>0.260764</td>\n",
       "      <td>0.268075</td>\n",
       "      <td>0.111292</td>\n",
       "    </tr>\n",
       "    <tr>\n",
       "      <th>2</th>\n",
       "      <td>18</td>\n",
       "      <td>566</td>\n",
       "      <td>114</td>\n",
       "      <td>411</td>\n",
       "      <td>34</td>\n",
       "      <td>1125</td>\n",
       "      <td>0.503111</td>\n",
       "      <td>0.101333</td>\n",
       "      <td>0.365333</td>\n",
       "      <td>0.030222</td>\n",
       "    </tr>\n",
       "  </tbody>\n",
       "</table>\n",
       "</div>"
      ],
      "text/plain": [
       "   user_id  part_of_day_day  part_of_day_evening  part_of_day_morning   \n",
       "0        4              199                  170                  212  \\\n",
       "1       16              443                  321                  330   \n",
       "2       18              566                  114                  411   \n",
       "\n",
       "   part_of_day_night  sum_visits   day_pct  evening_pct  morning_pct   \n",
       "0                 10         591  0.336717     0.287648     0.358714  \\\n",
       "1                137        1231  0.359870     0.260764     0.268075   \n",
       "2                 34        1125  0.503111     0.101333     0.365333   \n",
       "\n",
       "   night_pct  \n",
       "0   0.016920  \n",
       "1   0.111292  \n",
       "2   0.030222  "
      ]
     },
     "execution_count": 10,
     "metadata": {},
     "output_type": "execute_result"
    }
   ],
   "source": [
    "\"\"\"\n",
    "Аггрегируем датафрейм по user_id и генерируем новые признаки. Итоговый датафрейм содержит признаки:\n",
    "- part_of_day_day - кол-во визитов в часть дня day\n",
    "- part_of_day_evening - кол-во визитов в часть дня evening\n",
    "- part_of_day_morning - кол-во визитов в часть дня morning\n",
    "- part_of_day_night - кол-во визитов в часть дня night\n",
    "- sum_visits - общее кол-во визитов\n",
    "- day_pct - доля визитов в часть дня day\n",
    "- evening_pct - доля визитов в часть дня evening\n",
    "- morning_pct - доля визитов в часть дня morning\n",
    "- night_pct - доля визитов в часть дня night\n",
    "\"\"\"\n",
    "df_part_day = get_data_part_day(df)\n",
    "df_part_day.head(3)"
   ]
  },
  {
   "cell_type": "markdown",
   "id": "558e313e",
   "metadata": {},
   "source": [
    "## Количество дней активности, среднее кол-во запросов в сутки"
   ]
  },
  {
   "cell_type": "code",
   "execution_count": 11,
   "id": "23a20ff3",
   "metadata": {
    "pycharm": {
     "name": "#%%\n"
    }
   },
   "outputs": [
    {
     "data": {
      "text/html": [
       "<div>\n",
       "<style scoped>\n",
       "    .dataframe tbody tr th:only-of-type {\n",
       "        vertical-align: middle;\n",
       "    }\n",
       "\n",
       "    .dataframe tbody tr th {\n",
       "        vertical-align: top;\n",
       "    }\n",
       "\n",
       "    .dataframe thead th {\n",
       "        text-align: right;\n",
       "    }\n",
       "</style>\n",
       "<table border=\"1\" class=\"dataframe\">\n",
       "  <thead>\n",
       "    <tr style=\"text-align: right;\">\n",
       "      <th></th>\n",
       "      <th>user_id</th>\n",
       "      <th>act_days</th>\n",
       "      <th>request_cnt</th>\n",
       "      <th>avg_req_per_day</th>\n",
       "      <th>period_days</th>\n",
       "      <th>requests_std</th>\n",
       "      <th>act_days_pct</th>\n",
       "    </tr>\n",
       "  </thead>\n",
       "  <tbody>\n",
       "    <tr>\n",
       "      <th>0</th>\n",
       "      <td>4</td>\n",
       "      <td>20</td>\n",
       "      <td>777</td>\n",
       "      <td>38.850000</td>\n",
       "      <td>43</td>\n",
       "      <td>0.647632</td>\n",
       "      <td>0.465116</td>\n",
       "    </tr>\n",
       "    <tr>\n",
       "      <th>1</th>\n",
       "      <td>16</td>\n",
       "      <td>64</td>\n",
       "      <td>2529</td>\n",
       "      <td>39.515625</td>\n",
       "      <td>74</td>\n",
       "      <td>1.397836</td>\n",
       "      <td>0.864865</td>\n",
       "    </tr>\n",
       "    <tr>\n",
       "      <th>2</th>\n",
       "      <td>18</td>\n",
       "      <td>32</td>\n",
       "      <td>1950</td>\n",
       "      <td>60.937500</td>\n",
       "      <td>38</td>\n",
       "      <td>1.204972</td>\n",
       "      <td>0.842105</td>\n",
       "    </tr>\n",
       "  </tbody>\n",
       "</table>\n",
       "</div>"
      ],
      "text/plain": [
       "   user_id  act_days  request_cnt  avg_req_per_day  period_days  requests_std   \n",
       "0        4        20          777        38.850000           43      0.647632  \\\n",
       "1       16        64         2529        39.515625           74      1.397836   \n",
       "2       18        32         1950        60.937500           38      1.204972   \n",
       "\n",
       "   act_days_pct  \n",
       "0      0.465116  \n",
       "1      0.864865  \n",
       "2      0.842105  "
      ]
     },
     "execution_count": 11,
     "metadata": {},
     "output_type": "execute_result"
    }
   ],
   "source": [
    "\"\"\"\n",
    "Аггрегируем датафрейм по user_id и генерируем новые признаки. Итоговый датафрейм содержит признаки:\n",
    "- act_days - кол-во дат активности пользователя\n",
    "- request_cnt - кол-во запросов пользователя\n",
    "- avg_req_per_day - среднее кол-во запросов пользователя\n",
    "- period_days - кол-во дней между первым и последним визитом пользователя\n",
    "- request_std - стандартное отклонение по количеству запросов\n",
    "- act_days_pct - доля дней, когда пользователь совершал визит\n",
    "\"\"\"\n",
    "df_days = get_data_days(df)\n",
    "df_days.head(3)"
   ]
  },
  {
   "cell_type": "markdown",
   "id": "9c6e1606",
   "metadata": {},
   "source": [
    "## Цена устройства"
   ]
  },
  {
   "cell_type": "code",
   "execution_count": 12,
   "id": "a456753b",
   "metadata": {
    "pycharm": {
     "name": "#%%\n"
    }
   },
   "outputs": [
    {
     "data": {
      "text/html": [
       "<div>\n",
       "<style scoped>\n",
       "    .dataframe tbody tr th:only-of-type {\n",
       "        vertical-align: middle;\n",
       "    }\n",
       "\n",
       "    .dataframe tbody tr th {\n",
       "        vertical-align: top;\n",
       "    }\n",
       "\n",
       "    .dataframe thead th {\n",
       "        text-align: right;\n",
       "    }\n",
       "</style>\n",
       "<table border=\"1\" class=\"dataframe\">\n",
       "  <thead>\n",
       "    <tr style=\"text-align: right;\">\n",
       "      <th></th>\n",
       "      <th>user_id</th>\n",
       "      <th>cpe_type_cd</th>\n",
       "      <th>cpe_model_os_type</th>\n",
       "      <th>cpe_manufacturer_name</th>\n",
       "      <th>price</th>\n",
       "    </tr>\n",
       "  </thead>\n",
       "  <tbody>\n",
       "    <tr>\n",
       "      <th>0</th>\n",
       "      <td>4</td>\n",
       "      <td>smartphone</td>\n",
       "      <td>Android</td>\n",
       "      <td>Huawei</td>\n",
       "      <td>12990.0</td>\n",
       "    </tr>\n",
       "    <tr>\n",
       "      <th>1</th>\n",
       "      <td>16</td>\n",
       "      <td>smartphone</td>\n",
       "      <td>Android</td>\n",
       "      <td>Samsung</td>\n",
       "      <td>9583.0</td>\n",
       "    </tr>\n",
       "    <tr>\n",
       "      <th>2</th>\n",
       "      <td>18</td>\n",
       "      <td>smartphone</td>\n",
       "      <td>Android</td>\n",
       "      <td>Samsung</td>\n",
       "      <td>22887.0</td>\n",
       "    </tr>\n",
       "  </tbody>\n",
       "</table>\n",
       "</div>"
      ],
      "text/plain": [
       "   user_id cpe_type_cd cpe_model_os_type cpe_manufacturer_name    price\n",
       "0        4  smartphone           Android                Huawei  12990.0\n",
       "1       16  smartphone           Android               Samsung   9583.0\n",
       "2       18  smartphone           Android               Samsung  22887.0"
      ]
     },
     "execution_count": 12,
     "metadata": {},
     "output_type": "execute_result"
    }
   ],
   "source": [
    "\"\"\"\n",
    "Аггрегируем датафрейм по user_id и генерируем новые признаки. Итоговый датафрейм содержит признаки:\n",
    "- cpe_type_cd - тип устройства\n",
    "- cpe_model_os_type - операционная система устройства\n",
    "- cpe_manufacturer_name - производитель устройства\n",
    "- price - цена устройства пользователя\n",
    "\"\"\"\n",
    "df_model = get_user_model_price(df)\n",
    "df_model.head(3)"
   ]
  },
  {
   "cell_type": "markdown",
   "id": "c3a6c53b",
   "metadata": {},
   "source": [
    "## Регион и город"
   ]
  },
  {
   "cell_type": "code",
   "execution_count": 13,
   "id": "4bbe8886",
   "metadata": {
    "pycharm": {
     "name": "#%%\n"
    }
   },
   "outputs": [
    {
     "data": {
      "text/html": [
       "<div>\n",
       "<style scoped>\n",
       "    .dataframe tbody tr th:only-of-type {\n",
       "        vertical-align: middle;\n",
       "    }\n",
       "\n",
       "    .dataframe tbody tr th {\n",
       "        vertical-align: top;\n",
       "    }\n",
       "\n",
       "    .dataframe thead th {\n",
       "        text-align: right;\n",
       "    }\n",
       "</style>\n",
       "<table border=\"1\" class=\"dataframe\">\n",
       "  <thead>\n",
       "    <tr style=\"text-align: right;\">\n",
       "      <th></th>\n",
       "      <th>user_id</th>\n",
       "      <th>region_cnt</th>\n",
       "      <th>city_cnt</th>\n",
       "    </tr>\n",
       "  </thead>\n",
       "  <tbody>\n",
       "    <tr>\n",
       "      <th>0</th>\n",
       "      <td>4</td>\n",
       "      <td>5</td>\n",
       "      <td>9</td>\n",
       "    </tr>\n",
       "    <tr>\n",
       "      <th>1</th>\n",
       "      <td>16</td>\n",
       "      <td>1</td>\n",
       "      <td>1</td>\n",
       "    </tr>\n",
       "    <tr>\n",
       "      <th>2</th>\n",
       "      <td>18</td>\n",
       "      <td>1</td>\n",
       "      <td>2</td>\n",
       "    </tr>\n",
       "  </tbody>\n",
       "</table>\n",
       "</div>"
      ],
      "text/plain": [
       "   user_id  region_cnt  city_cnt\n",
       "0        4           5         9\n",
       "1       16           1         1\n",
       "2       18           1         2"
      ]
     },
     "execution_count": 13,
     "metadata": {},
     "output_type": "execute_result"
    }
   ],
   "source": [
    "\"\"\"\n",
    "Аггрегируем датафрейм по user_id и генерируем новые признаки. Итоговый датафрейм содержит признаки:\n",
    "- region_cnt - кол-во уникальных регионов, из которых был совершен визит\n",
    "- city_cnt - кол-во уникальных городов, из которых был совершен визит\n",
    "\"\"\"\n",
    "df_city_cnt = get_user_city_cnt(df)\n",
    "df_city_cnt.head(3)"
   ]
  },
  {
   "cell_type": "markdown",
   "id": "63413766",
   "metadata": {},
   "source": [
    "## URLs"
   ]
  },
  {
   "cell_type": "code",
   "execution_count": 14,
   "id": "5c2543aa",
   "metadata": {
    "pycharm": {
     "name": "#%%\n"
    }
   },
   "outputs": [
    {
     "data": {
      "text/html": [
       "<div>\n",
       "<style scoped>\n",
       "    .dataframe tbody tr th:only-of-type {\n",
       "        vertical-align: middle;\n",
       "    }\n",
       "\n",
       "    .dataframe tbody tr th {\n",
       "        vertical-align: top;\n",
       "    }\n",
       "\n",
       "    .dataframe thead th {\n",
       "        text-align: right;\n",
       "    }\n",
       "</style>\n",
       "<table border=\"1\" class=\"dataframe\">\n",
       "  <thead>\n",
       "    <tr style=\"text-align: right;\">\n",
       "      <th></th>\n",
       "      <th>user_id</th>\n",
       "      <th>url_host_cnt</th>\n",
       "    </tr>\n",
       "  </thead>\n",
       "  <tbody>\n",
       "    <tr>\n",
       "      <th>0</th>\n",
       "      <td>4</td>\n",
       "      <td>108</td>\n",
       "    </tr>\n",
       "    <tr>\n",
       "      <th>1</th>\n",
       "      <td>16</td>\n",
       "      <td>50</td>\n",
       "    </tr>\n",
       "    <tr>\n",
       "      <th>2</th>\n",
       "      <td>18</td>\n",
       "      <td>141</td>\n",
       "    </tr>\n",
       "  </tbody>\n",
       "</table>\n",
       "</div>"
      ],
      "text/plain": [
       "   user_id  url_host_cnt\n",
       "0        4           108\n",
       "1       16            50\n",
       "2       18           141"
      ]
     },
     "execution_count": 14,
     "metadata": {},
     "output_type": "execute_result"
    }
   ],
   "source": [
    "\"\"\"\n",
    "Аггрегируем датафрейм по user_id и генерируем новые признаки. Итоговый датафрейм содержит признаки:\n",
    "- url_host_cnt - кол-во уникальных регионов, из которых был совершен визит\n",
    "\"\"\"\n",
    "df_url = get_user_url_cnt(df)\n",
    "df_url.head(3)"
   ]
  },
  {
   "cell_type": "markdown",
   "id": "bfb5df08",
   "metadata": {},
   "source": [
    "# Итоговый датафрейм"
   ]
  },
  {
   "cell_type": "markdown",
   "id": "dfd59db4",
   "metadata": {},
   "source": [
    "Теперь проделаем те же действия для каждого файла с данными и объединим все в общий датафрейм"
   ]
  },
  {
   "cell_type": "code",
   "execution_count": 28,
   "id": "8658f9cb",
   "metadata": {
    "pycharm": {
     "name": "#%%\n"
    }
   },
   "outputs": [
    {
     "data": {
      "application/vnd.jupyter.widget-view+json": {
       "model_id": "1c29eb53635f43069ce107a3cc6b9653",
       "version_major": 2,
       "version_minor": 0
      },
      "text/plain": [
       "  0%|          | 0/11 [00:00<?, ?it/s]"
      ]
     },
     "metadata": {},
     "output_type": "display_data"
    }
   ],
   "source": [
    "# название папки с файлами\n",
    "DATA_FOLD = '../competition_data_final_pqt'\n",
    "\n",
    "df_final = pd.DataFrame()\n",
    "for file in tqdm.tqdm_notebook(os.listdir(DATA_FOLD)):\n",
    "    if file.endswith('.parquet'):\n",
    "        temp_df = pd.read_parquet(f'{DATA_FOLD}/{file}', engine='fastparquet')\n",
    "        temp_df = replace_model_mistakes(temp_df)\n",
    "\n",
    "        # получаем аггрегированные данные\n",
    "        data_part_day = get_data_part_day(temp_df)\n",
    "        data_days = get_data_days(temp_df)\n",
    "        data_user_model = get_user_model_price(temp_df)\n",
    "        data_city_cnt = get_user_city_cnt(temp_df)\n",
    "        data_url_cnt = get_user_url_cnt(temp_df)\n",
    "\n",
    "        # объединяем все в один датафрейм\n",
    "        temp_df_agg = (data_part_day\n",
    "                       .merge(data_days, how='left', on='user_id')\n",
    "                       .merge(data_user_model, how='left', on='user_id')\n",
    "                       .merge(data_city_cnt, how='left', on='user_id')\n",
    "                       .merge(data_url_cnt, how='left', on='user_id'))\n",
    "\n",
    "        # добавляем аггрегированные данные в итоговый датафрейм\n",
    "        df_final = pd.concat([df_final, temp_df_agg])"
   ]
  },
  {
   "cell_type": "code",
   "execution_count": 29,
   "id": "560d8057",
   "metadata": {
    "pycharm": {
     "name": "#%%\n"
    }
   },
   "outputs": [
    {
     "data": {
      "text/html": [
       "<div>\n",
       "<style scoped>\n",
       "    .dataframe tbody tr th:only-of-type {\n",
       "        vertical-align: middle;\n",
       "    }\n",
       "\n",
       "    .dataframe tbody tr th {\n",
       "        vertical-align: top;\n",
       "    }\n",
       "\n",
       "    .dataframe thead th {\n",
       "        text-align: right;\n",
       "    }\n",
       "</style>\n",
       "<table border=\"1\" class=\"dataframe\">\n",
       "  <thead>\n",
       "    <tr style=\"text-align: right;\">\n",
       "      <th></th>\n",
       "      <th>user_id</th>\n",
       "      <th>part_of_day_day</th>\n",
       "      <th>part_of_day_evening</th>\n",
       "      <th>part_of_day_morning</th>\n",
       "      <th>part_of_day_night</th>\n",
       "      <th>sum_visits</th>\n",
       "      <th>day_pct</th>\n",
       "      <th>evening_pct</th>\n",
       "      <th>morning_pct</th>\n",
       "      <th>night_pct</th>\n",
       "      <th>...</th>\n",
       "      <th>period_days</th>\n",
       "      <th>requests_std</th>\n",
       "      <th>act_days_pct</th>\n",
       "      <th>cpe_type_cd</th>\n",
       "      <th>cpe_model_os_type</th>\n",
       "      <th>cpe_manufacturer_name</th>\n",
       "      <th>price</th>\n",
       "      <th>region_cnt</th>\n",
       "      <th>city_cnt</th>\n",
       "      <th>url_host_cnt</th>\n",
       "    </tr>\n",
       "  </thead>\n",
       "  <tbody>\n",
       "    <tr>\n",
       "      <th>0</th>\n",
       "      <td>13</td>\n",
       "      <td>467</td>\n",
       "      <td>447</td>\n",
       "      <td>411</td>\n",
       "      <td>226</td>\n",
       "      <td>1551</td>\n",
       "      <td>0.301096</td>\n",
       "      <td>0.288201</td>\n",
       "      <td>0.264990</td>\n",
       "      <td>0.145712</td>\n",
       "      <td>...</td>\n",
       "      <td>116</td>\n",
       "      <td>1.618662</td>\n",
       "      <td>0.974138</td>\n",
       "      <td>smartphone</td>\n",
       "      <td>Android</td>\n",
       "      <td>BQ Devices Limited</td>\n",
       "      <td>-999.0</td>\n",
       "      <td>1</td>\n",
       "      <td>1</td>\n",
       "      <td>83</td>\n",
       "    </tr>\n",
       "    <tr>\n",
       "      <th>1</th>\n",
       "      <td>41</td>\n",
       "      <td>7</td>\n",
       "      <td>13</td>\n",
       "      <td>9</td>\n",
       "      <td>9</td>\n",
       "      <td>38</td>\n",
       "      <td>0.184211</td>\n",
       "      <td>0.342105</td>\n",
       "      <td>0.236842</td>\n",
       "      <td>0.236842</td>\n",
       "      <td>...</td>\n",
       "      <td>4</td>\n",
       "      <td>1.562360</td>\n",
       "      <td>1.000000</td>\n",
       "      <td>smartphone</td>\n",
       "      <td>Android</td>\n",
       "      <td>Xiaomi</td>\n",
       "      <td>12343.0</td>\n",
       "      <td>1</td>\n",
       "      <td>3</td>\n",
       "      <td>15</td>\n",
       "    </tr>\n",
       "    <tr>\n",
       "      <th>2</th>\n",
       "      <td>69</td>\n",
       "      <td>457</td>\n",
       "      <td>346</td>\n",
       "      <td>314</td>\n",
       "      <td>30</td>\n",
       "      <td>1147</td>\n",
       "      <td>0.398431</td>\n",
       "      <td>0.301656</td>\n",
       "      <td>0.273758</td>\n",
       "      <td>0.026155</td>\n",
       "      <td>...</td>\n",
       "      <td>60</td>\n",
       "      <td>1.331956</td>\n",
       "      <td>0.933333</td>\n",
       "      <td>smartphone</td>\n",
       "      <td>iOS</td>\n",
       "      <td>Apple</td>\n",
       "      <td>16657.0</td>\n",
       "      <td>1</td>\n",
       "      <td>1</td>\n",
       "      <td>91</td>\n",
       "    </tr>\n",
       "    <tr>\n",
       "      <th>3</th>\n",
       "      <td>71</td>\n",
       "      <td>49</td>\n",
       "      <td>57</td>\n",
       "      <td>12</td>\n",
       "      <td>7</td>\n",
       "      <td>125</td>\n",
       "      <td>0.392000</td>\n",
       "      <td>0.456000</td>\n",
       "      <td>0.096000</td>\n",
       "      <td>0.056000</td>\n",
       "      <td>...</td>\n",
       "      <td>8</td>\n",
       "      <td>0.865094</td>\n",
       "      <td>1.000000</td>\n",
       "      <td>smartphone</td>\n",
       "      <td>iOS</td>\n",
       "      <td>Apple</td>\n",
       "      <td>38037.0</td>\n",
       "      <td>2</td>\n",
       "      <td>2</td>\n",
       "      <td>35</td>\n",
       "    </tr>\n",
       "    <tr>\n",
       "      <th>4</th>\n",
       "      <td>85</td>\n",
       "      <td>838</td>\n",
       "      <td>1067</td>\n",
       "      <td>602</td>\n",
       "      <td>333</td>\n",
       "      <td>2840</td>\n",
       "      <td>0.295070</td>\n",
       "      <td>0.375704</td>\n",
       "      <td>0.211972</td>\n",
       "      <td>0.117254</td>\n",
       "      <td>...</td>\n",
       "      <td>41</td>\n",
       "      <td>1.144101</td>\n",
       "      <td>0.926829</td>\n",
       "      <td>smartphone</td>\n",
       "      <td>iOS</td>\n",
       "      <td>Apple</td>\n",
       "      <td>55809.0</td>\n",
       "      <td>2</td>\n",
       "      <td>6</td>\n",
       "      <td>174</td>\n",
       "    </tr>\n",
       "  </tbody>\n",
       "</table>\n",
       "<p>5 rows × 23 columns</p>\n",
       "</div>"
      ],
      "text/plain": [
       "   user_id  part_of_day_day  part_of_day_evening  part_of_day_morning   \n",
       "0       13              467                  447                  411  \\\n",
       "1       41                7                   13                    9   \n",
       "2       69              457                  346                  314   \n",
       "3       71               49                   57                   12   \n",
       "4       85              838                 1067                  602   \n",
       "\n",
       "   part_of_day_night  sum_visits   day_pct  evening_pct  morning_pct   \n",
       "0                226        1551  0.301096     0.288201     0.264990  \\\n",
       "1                  9          38  0.184211     0.342105     0.236842   \n",
       "2                 30        1147  0.398431     0.301656     0.273758   \n",
       "3                  7         125  0.392000     0.456000     0.096000   \n",
       "4                333        2840  0.295070     0.375704     0.211972   \n",
       "\n",
       "   night_pct  ...  period_days  requests_std  act_days_pct  cpe_type_cd   \n",
       "0   0.145712  ...          116      1.618662      0.974138   smartphone  \\\n",
       "1   0.236842  ...            4      1.562360      1.000000   smartphone   \n",
       "2   0.026155  ...           60      1.331956      0.933333   smartphone   \n",
       "3   0.056000  ...            8      0.865094      1.000000   smartphone   \n",
       "4   0.117254  ...           41      1.144101      0.926829   smartphone   \n",
       "\n",
       "   cpe_model_os_type  cpe_manufacturer_name    price region_cnt city_cnt   \n",
       "0            Android     BQ Devices Limited   -999.0          1        1  \\\n",
       "1            Android                 Xiaomi  12343.0          1        3   \n",
       "2                iOS                  Apple  16657.0          1        1   \n",
       "3                iOS                  Apple  38037.0          2        2   \n",
       "4                iOS                  Apple  55809.0          2        6   \n",
       "\n",
       "   url_host_cnt  \n",
       "0            83  \n",
       "1            15  \n",
       "2            91  \n",
       "3            35  \n",
       "4           174  \n",
       "\n",
       "[5 rows x 23 columns]"
      ]
     },
     "execution_count": 29,
     "metadata": {},
     "output_type": "execute_result"
    }
   ],
   "source": [
    "df_final.head()"
   ]
  },
  {
   "cell_type": "code",
   "execution_count": 30,
   "id": "388c8136",
   "metadata": {
    "pycharm": {
     "name": "#%%\n"
    }
   },
   "outputs": [
    {
     "data": {
      "text/plain": [
       "(415317, 23)"
      ]
     },
     "execution_count": 30,
     "metadata": {},
     "output_type": "execute_result"
    }
   ],
   "source": [
    "df_final.shape"
   ]
  },
  {
   "cell_type": "code",
   "execution_count": 32,
   "id": "07df3f09",
   "metadata": {
    "pycharm": {
     "name": "#%%\n"
    }
   },
   "outputs": [
    {
     "data": {
      "text/html": [
       "<div>\n",
       "<style scoped>\n",
       "    .dataframe tbody tr th:only-of-type {\n",
       "        vertical-align: middle;\n",
       "    }\n",
       "\n",
       "    .dataframe tbody tr th {\n",
       "        vertical-align: top;\n",
       "    }\n",
       "\n",
       "    .dataframe thead th {\n",
       "        text-align: right;\n",
       "    }\n",
       "</style>\n",
       "<table border=\"1\" class=\"dataframe\">\n",
       "  <thead>\n",
       "    <tr style=\"text-align: right;\">\n",
       "      <th></th>\n",
       "      <th>user_id</th>\n",
       "      <th>city_cnt</th>\n",
       "    </tr>\n",
       "  </thead>\n",
       "  <tbody>\n",
       "  </tbody>\n",
       "</table>\n",
       "</div>"
      ],
      "text/plain": [
       "Empty DataFrame\n",
       "Columns: [user_id, city_cnt]\n",
       "Index: []"
      ]
     },
     "execution_count": 32,
     "metadata": {},
     "output_type": "execute_result"
    }
   ],
   "source": [
    "# проверим, что файлы не пересекались по user_id\n",
    "(df_final.groupby('user_id', as_index=False)\n",
    "         .agg({'city_cnt': 'count'})\n",
    "         .query('city_cnt > 1'))"
   ]
  },
  {
   "cell_type": "code",
   "execution_count": 33,
   "id": "9773116e",
   "metadata": {
    "pycharm": {
     "name": "#%%\n"
    }
   },
   "outputs": [],
   "source": [
    "df_final.to_csv('../data_agg/df_final.csv', index=False)"
   ]
  }
 ],
 "metadata": {
  "kernelspec": {
   "display_name": "Python 3 (ipykernel)",
   "language": "python",
   "name": "python3"
  },
  "language_info": {
   "codemirror_mode": {
    "name": "ipython",
    "version": 3
   },
   "file_extension": ".py",
   "mimetype": "text/x-python",
   "name": "python",
   "nbconvert_exporter": "python",
   "pygments_lexer": "ipython3",
   "version": "3.9.10"
  },
  "toc": {
   "base_numbering": 1,
   "nav_menu": {},
   "number_sections": true,
   "sideBar": true,
   "skip_h1_title": false,
   "title_cell": "Table of Contents",
   "title_sidebar": "Contents",
   "toc_cell": false,
   "toc_position": {
    "height": "calc(100% - 180px)",
    "left": "10px",
    "top": "150px",
    "width": "261px"
   },
   "toc_section_display": true,
   "toc_window_display": true
  }
 },
 "nbformat": 4,
 "nbformat_minor": 5
}