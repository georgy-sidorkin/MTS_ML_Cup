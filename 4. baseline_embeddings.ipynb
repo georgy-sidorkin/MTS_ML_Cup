{
 "cells": [
  {
   "cell_type": "markdown",
   "metadata": {
    "id": "SWb6FukSPp7v",
    "pycharm": {
     "name": "#%% md\n"
    }
   },
   "source": [
    "# Импорт библиотек"
   ]
  },
  {
   "cell_type": "code",
   "execution_count": 1,
   "metadata": {
    "colab": {
     "base_uri": "https://localhost:8080/"
    },
    "executionInfo": {
     "elapsed": 18529,
     "status": "ok",
     "timestamp": 1680948508067,
     "user": {
      "displayName": "Гоша Сидоркин",
      "userId": "09429149278087224251"
     },
     "user_tz": -240
    },
    "id": "PWAUwg5yILXX",
    "outputId": "9c8a39bd-bf3c-48b4-8012-9e81227a9ab1"
   },
   "outputs": [
    {
     "name": "stdout",
     "output_type": "stream",
     "text": [
      "Mounted at /content/drive\n"
     ]
    }
   ],
   "source": [
    "from google.colab import drive\n",
    "drive.mount('/content/drive')"
   ]
  },
  {
   "cell_type": "code",
   "execution_count": 2,
   "metadata": {
    "colab": {
     "base_uri": "https://localhost:8080/"
    },
    "executionInfo": {
     "elapsed": 289,
     "status": "ok",
     "timestamp": 1680948510289,
     "user": {
      "displayName": "Гоша Сидоркин",
      "userId": "09429149278087224251"
     },
     "user_tz": -240
    },
    "id": "sDz_Womfg-dq",
    "outputId": "0cdcd279-ceed-4189-bb62-e24c1c521aec"
   },
   "outputs": [
    {
     "name": "stdout",
     "output_type": "stream",
     "text": [
      "/content/drive/MyDrive/MTS ML Cup\n"
     ]
    }
   ],
   "source": [
    "%cd /content/drive/MyDrive/MTS ML Cup"
   ]
  },
  {
   "cell_type": "code",
   "execution_count": 3,
   "metadata": {
    "executionInfo": {
     "elapsed": 293,
     "status": "ok",
     "timestamp": 1680948512687,
     "user": {
      "displayName": "Гоша Сидоркин",
      "userId": "09429149278087224251"
     },
     "user_tz": -240
    },
    "id": "AQILWh_AhAzX"
   },
   "outputs": [],
   "source": [
    "import sys\n",
    "sys.path.insert(0, '/content/drive/MyDrive/MTS ML Cup/src')\n",
    "\n",
    "import os\n",
    "import warnings\n",
    "os.environ['OPENBLAS_NUM_THREADS'] = '1'\n",
    "warnings.filterwarnings('ignore');"
   ]
  },
  {
   "cell_type": "code",
   "execution_count": null,
   "metadata": {
    "id": "QjsvH9XsVuV6"
   },
   "outputs": [],
   "source": [
    "!pip install catboost"
   ]
  },
  {
   "cell_type": "code",
   "execution_count": null,
   "metadata": {
    "id": "Y2fL0Hc4VuQ9"
   },
   "outputs": [],
   "source": [
    "!pip install lightgbm"
   ]
  },
  {
   "cell_type": "code",
   "execution_count": null,
   "metadata": {
    "id": "dwvOU6e0VuNY"
   },
   "outputs": [],
   "source": [
    "!pip install xgboost"
   ]
  },
  {
   "cell_type": "code",
   "execution_count": 7,
   "metadata": {
    "executionInfo": {
     "elapsed": 3040,
     "status": "ok",
     "timestamp": 1680948567948,
     "user": {
      "displayName": "Гоша Сидоркин",
      "userId": "09429149278087224251"
     },
     "user_tz": -240
    },
    "id": "eX_QLsxjhc68"
   },
   "outputs": [],
   "source": [
    "import pandas as pd\n",
    "import numpy as np\n",
    "import bisect\n",
    "\n",
    "from catboost import CatBoostClassifier\n",
    "from lightgbm import LGBMClassifier\n",
    "from xgboost import XGBClassifier\n",
    "\n",
    "import sklearn.metrics as m\n",
    "from sklearn.model_selection import train_test_split\n",
    "from sklearn.preprocessing import label_binarize"
   ]
  },
  {
   "cell_type": "code",
   "execution_count": 8,
   "metadata": {
    "executionInfo": {
     "elapsed": 391,
     "status": "ok",
     "timestamp": 1680948568337,
     "user": {
      "displayName": "Гоша Сидоркин",
      "userId": "09429149278087224251"
     },
     "user_tz": -240
    },
    "id": "BYpOJuA6JIhO"
   },
   "outputs": [],
   "source": [
    "from src.metric_functions import get_metrics_classification, get_metrics_multiclass, check_overfitting_classification, check_overfitting_multiclass"
   ]
  },
  {
   "cell_type": "code",
   "execution_count": 9,
   "metadata": {
    "executionInfo": {
     "elapsed": 7,
     "status": "ok",
     "timestamp": 1680948570521,
     "user": {
      "displayName": "Гоша Сидоркин",
      "userId": "09429149278087224251"
     },
     "user_tz": -240
    },
    "id": "5RRycQYBJQQ-"
   },
   "outputs": [],
   "source": [
    "import seaborn as sns\n",
    "\n",
    "%matplotlib inline\n",
    "sns.set_style('darkgrid')"
   ]
  },
  {
   "cell_type": "code",
   "execution_count": 10,
   "metadata": {
    "executionInfo": {
     "elapsed": 9,
     "status": "ok",
     "timestamp": 1680948571751,
     "user": {
      "displayName": "Гоша Сидоркин",
      "userId": "09429149278087224251"
     },
     "user_tz": -240
    },
    "id": "iq_v6v6Hhc9S"
   },
   "outputs": [],
   "source": [
    "RAND = 42\n",
    "\n",
    "final_types = {\n",
    "    'user_id': 'int32',\n",
    "    'part_of_day_day': 'int16',\n",
    "    'part_of_day_night': 'int16',\n",
    "    'day_pct': 'float32',\n",
    "    'evening_pct': 'float32',\n",
    "    'morning_pct': 'float32',\n",
    "    'night_pct': 'float32',\n",
    "    'act_days': 'int16',\n",
    "    'avg_req_per_day': 'float32',\n",
    "    'requests_std': 'float32',\n",
    "    'act_days_pct': 'float32',\n",
    "    'cpe_type_cd': 'category',\n",
    "    'cpe_model_os_type': 'category',\n",
    "    'cpe_manufacturer_name': 'category',\n",
    "    'price': 'float32',\n",
    "    'region_cnt': 'int8',\n",
    "    'city_cnt': 'int8',\n",
    "    'url_host_cnt': 'int16',\n",
    "}"
   ]
  },
  {
   "cell_type": "markdown",
   "metadata": {
    "id": "VMHeOe_TQZvf"
   },
   "source": [
    "# Описание задачи"
   ]
  },
  {
   "cell_type": "markdown",
   "metadata": {
    "id": "4DCQ24C4R9jU"
   },
   "source": [
    "**В данном jupyter-ноутбуке мы обучим бейзлайн модели на данных, которые мы аггрегировали в Data_preprocession.ipnb и созданных на основании url, региона, города и модели телефона эмбеддингах, которые мы создали в create_embeddings.ipnb. Сравним модели, обученные без эмбеддингов и с ними**"
   ]
  },
  {
   "cell_type": "markdown",
   "metadata": {
    "id": "uVXmu12JQZbx"
   },
   "source": [
    "## О соревновании и данных"
   ]
  },
  {
   "cell_type": "markdown",
   "metadata": {
    "id": "hTdYk75ZQhxG"
   },
   "source": [
    "https://ods.ai/competitions/mtsmlcup\n",
    "\n",
    "Задача соревнования\n",
    "- Определение пола и возраста владельца HTTP cookie по истории активности пользователя в интернете на основе синтетических данных.\n",
    "\n",
    "Метрики соревнования:\n",
    "* ROC-AUC – для определения пола, f1 weighted – для определения возраста.\n",
    "* Все решения рассчитываются по формуле -  2 * f1_weighted(по 6 возрастным бакетам) + gini по полу.\n",
    "* Возрастные бакеты (Класс 1 — 19-25, Класс 2 — 26-35, Класс 3 — 36-45, Класс 4 — 46-55, Класс 5 — 56-65, Класс 6 — 66+).\n",
    "\n",
    "Предобработка, аггрегация и создание новых фич произведена в 0.Data_preparing.ipng.\n",
    "Описание колонок аггрегированного файла с данными:\n",
    "* 'part_of_day_day' – кол-во визитов пользователя днем\n",
    "* 'part_of_day_evening' – кол-во визитов пользователя вечером\n",
    "* 'part_of_day_morning' – кол-во визитов пользователя утром\n",
    "* 'part_of_day_night' – кол-во визитов пользователя ночью\n",
    "* 'sum_visits' – кол-во визитов пользователя\n",
    "* 'day_pct' – доля визитов пользователя днем\n",
    "* 'evening_pct' – доля визитов пользователя вечером\n",
    "* 'morning_pct' – доля визитов пользователя утром\n",
    "* 'night_pct' – доля визитов пользователя ночью\n",
    "* 'act_days' – кол-во дней, в которые пользователь совершил визит пользователя\n",
    "* 'request_cnt' - кол-во запросов пользователя\n",
    "* 'avg_req_per_day' - среднее кол-во запросов пользователя\n",
    "* 'period_days' - кол-во дней между первым и последним визитом пользователя\n",
    "* 'request_std' - стандартное отклонение по количеству запросов\n",
    "* 'act_days_pct' - доля дней, когда пользователь совершал визит\n",
    "* 'cpe_type_cd - тип устройства\n",
    "* 'cpe_model_os_type' - операционная система устройства\n",
    "* 'cpe_manufacturer_name' -производитель устройства\n",
    "* 'price' - цена устройства пользователя\n",
    "* 'region_cnt' - кол-во уникальных регионов, из которых был совершен визит\n",
    "* 'city_cnt' - кол-во уникальных городов, из которых был совершен визит\n",
    "* 'url_host_cnt' - кол-во уникальных ссылок, с которых был совершен визит\n",
    "* 'user_id' – ID пользователя\n",
    "\n",
    "* также сгенерированы 300 признаков - эмбеддингов на основании региона, города, url и модели телефона\n",
    "\n",
    "Описание колонок файла с таргетами:\n",
    "\n",
    "* 'age' – Возраст пользователя\n",
    "* 'is_male' – Признак пользователя : мужчина (1-Да, 0-Нет)\n",
    "* 'user_id' – ID пользователя"
   ]
  },
  {
   "cell_type": "markdown",
   "metadata": {
    "id": "FD-iHiMnQ2yG"
   },
   "source": [
    "## Структура проекта"
   ]
  },
  {
   "cell_type": "markdown",
   "metadata": {
    "id": "XNRNG3CWQ2o_"
   },
   "source": [
    "Данная работа была разделена на несколько jupyter ноутбуков:\n",
    "\n",
    "0. Data_preparing.ipnb - аггрегация отдельных файлов по user_id и склейка в финальный датасет\n",
    "1. EDA.ipynb - исследовательская часть\n",
    "2. baseline.ipynb - бейзлайн модели\n",
    "3. create_embeddings.ipynb - создание эмбеддингов для дальнейшего их использования в качестве фич\n",
    "4. baseline_embeddings.ipynb - бейзлан модели с эмбеддингами\n",
    "5. model_tuning.ipynb - тюнинг наиболее перспективных моделей\n",
    "6. gender_prediction_stacking.ipynb - стекинг моделей для предсказания пола\n"
   ]
  },
  {
   "cell_type": "markdown",
   "metadata": {
    "id": "tdr8MrX0htFn"
   },
   "source": [
    "# Сбор всех данных"
   ]
  },
  {
   "cell_type": "code",
   "execution_count": 11,
   "metadata": {
    "executionInfo": {
     "elapsed": 3730,
     "status": "ok",
     "timestamp": 1680948579975,
     "user": {
      "displayName": "Гоша Сидоркин",
      "userId": "09429149278087224251"
     },
     "user_tz": -240
    },
    "id": "jyw72yiLhc_Z"
   },
   "outputs": [],
   "source": [
    "# id пользователей, которым нужно предсказать пол и возраст\n",
    "id_to_submit = pd.read_parquet('submit.pqt')\n",
    "\n",
    "# таргеты для обучения моделей\n",
    "targets = pd.read_parquet('public_train.pqt')\n",
    "\n",
    "# предобработанные нами данные\n",
    "df = pd.read_csv('data_agg/df_final.csv')"
   ]
  },
  {
   "cell_type": "code",
   "execution_count": 16,
   "metadata": {
    "colab": {
     "base_uri": "https://localhost:8080/",
     "height": 206
    },
    "executionInfo": {
     "elapsed": 494,
     "status": "ok",
     "timestamp": 1680813725704,
     "user": {
      "displayName": "Гоша Сидоркин",
      "userId": "09429149278087224251"
     },
     "user_tz": -240
    },
    "id": "GMBlxniqhx1w",
    "outputId": "ce80ba28-d540-4abf-de16-26fa2e960a8a"
   },
   "outputs": [
    {
     "data": {
      "text/html": [
       "\n",
       "  <div id=\"df-28191a94-bc86-417b-9e34-2b151bdecaf0\">\n",
       "    <div class=\"colab-df-container\">\n",
       "      <div>\n",
       "<style scoped>\n",
       "    .dataframe tbody tr th:only-of-type {\n",
       "        vertical-align: middle;\n",
       "    }\n",
       "\n",
       "    .dataframe tbody tr th {\n",
       "        vertical-align: top;\n",
       "    }\n",
       "\n",
       "    .dataframe thead th {\n",
       "        text-align: right;\n",
       "    }\n",
       "</style>\n",
       "<table border=\"1\" class=\"dataframe\">\n",
       "  <thead>\n",
       "    <tr style=\"text-align: right;\">\n",
       "      <th></th>\n",
       "      <th>user_id</th>\n",
       "      <th>part_of_day_day</th>\n",
       "      <th>part_of_day_night</th>\n",
       "      <th>day_pct</th>\n",
       "      <th>evening_pct</th>\n",
       "      <th>morning_pct</th>\n",
       "      <th>night_pct</th>\n",
       "      <th>act_days</th>\n",
       "      <th>avg_req_per_day</th>\n",
       "      <th>requests_std</th>\n",
       "      <th>act_days_pct</th>\n",
       "      <th>cpe_type_cd</th>\n",
       "      <th>cpe_model_os_type</th>\n",
       "      <th>cpe_manufacturer_name</th>\n",
       "      <th>price</th>\n",
       "      <th>region_cnt</th>\n",
       "      <th>city_cnt</th>\n",
       "      <th>url_host_cnt</th>\n",
       "    </tr>\n",
       "  </thead>\n",
       "  <tbody>\n",
       "    <tr>\n",
       "      <th>0</th>\n",
       "      <td>4</td>\n",
       "      <td>199</td>\n",
       "      <td>10</td>\n",
       "      <td>0.336717</td>\n",
       "      <td>0.287648</td>\n",
       "      <td>0.358714</td>\n",
       "      <td>0.016920</td>\n",
       "      <td>20</td>\n",
       "      <td>38.850000</td>\n",
       "      <td>0.647632</td>\n",
       "      <td>0.4650</td>\n",
       "      <td>smartphone</td>\n",
       "      <td>Android</td>\n",
       "      <td>Huawei</td>\n",
       "      <td>12990.0</td>\n",
       "      <td>5</td>\n",
       "      <td>9</td>\n",
       "      <td>108</td>\n",
       "    </tr>\n",
       "    <tr>\n",
       "      <th>1</th>\n",
       "      <td>16</td>\n",
       "      <td>443</td>\n",
       "      <td>137</td>\n",
       "      <td>0.359870</td>\n",
       "      <td>0.260764</td>\n",
       "      <td>0.268075</td>\n",
       "      <td>0.111292</td>\n",
       "      <td>64</td>\n",
       "      <td>39.515625</td>\n",
       "      <td>1.397836</td>\n",
       "      <td>0.8647</td>\n",
       "      <td>smartphone</td>\n",
       "      <td>Android</td>\n",
       "      <td>Samsung</td>\n",
       "      <td>9583.0</td>\n",
       "      <td>1</td>\n",
       "      <td>1</td>\n",
       "      <td>50</td>\n",
       "    </tr>\n",
       "    <tr>\n",
       "      <th>2</th>\n",
       "      <td>18</td>\n",
       "      <td>566</td>\n",
       "      <td>34</td>\n",
       "      <td>0.503111</td>\n",
       "      <td>0.101333</td>\n",
       "      <td>0.365333</td>\n",
       "      <td>0.030222</td>\n",
       "      <td>32</td>\n",
       "      <td>60.937500</td>\n",
       "      <td>1.204972</td>\n",
       "      <td>0.8423</td>\n",
       "      <td>smartphone</td>\n",
       "      <td>Android</td>\n",
       "      <td>Samsung</td>\n",
       "      <td>22887.0</td>\n",
       "      <td>1</td>\n",
       "      <td>2</td>\n",
       "      <td>141</td>\n",
       "    </tr>\n",
       "  </tbody>\n",
       "</table>\n",
       "</div>\n",
       "      <button class=\"colab-df-convert\" onclick=\"convertToInteractive('df-28191a94-bc86-417b-9e34-2b151bdecaf0')\"\n",
       "              title=\"Convert this dataframe to an interactive table.\"\n",
       "              style=\"display:none;\">\n",
       "        \n",
       "  <svg xmlns=\"http://www.w3.org/2000/svg\" height=\"24px\"viewBox=\"0 0 24 24\"\n",
       "       width=\"24px\">\n",
       "    <path d=\"M0 0h24v24H0V0z\" fill=\"none\"/>\n",
       "    <path d=\"M18.56 5.44l.94 2.06.94-2.06 2.06-.94-2.06-.94-.94-2.06-.94 2.06-2.06.94zm-11 1L8.5 8.5l.94-2.06 2.06-.94-2.06-.94L8.5 2.5l-.94 2.06-2.06.94zm10 10l.94 2.06.94-2.06 2.06-.94-2.06-.94-.94-2.06-.94 2.06-2.06.94z\"/><path d=\"M17.41 7.96l-1.37-1.37c-.4-.4-.92-.59-1.43-.59-.52 0-1.04.2-1.43.59L10.3 9.45l-7.72 7.72c-.78.78-.78 2.05 0 2.83L4 21.41c.39.39.9.59 1.41.59.51 0 1.02-.2 1.41-.59l7.78-7.78 2.81-2.81c.8-.78.8-2.07 0-2.86zM5.41 20L4 18.59l7.72-7.72 1.47 1.35L5.41 20z\"/>\n",
       "  </svg>\n",
       "      </button>\n",
       "      \n",
       "  <style>\n",
       "    .colab-df-container {\n",
       "      display:flex;\n",
       "      flex-wrap:wrap;\n",
       "      gap: 12px;\n",
       "    }\n",
       "\n",
       "    .colab-df-convert {\n",
       "      background-color: #E8F0FE;\n",
       "      border: none;\n",
       "      border-radius: 50%;\n",
       "      cursor: pointer;\n",
       "      display: none;\n",
       "      fill: #1967D2;\n",
       "      height: 32px;\n",
       "      padding: 0 0 0 0;\n",
       "      width: 32px;\n",
       "    }\n",
       "\n",
       "    .colab-df-convert:hover {\n",
       "      background-color: #E2EBFA;\n",
       "      box-shadow: 0px 1px 2px rgba(60, 64, 67, 0.3), 0px 1px 3px 1px rgba(60, 64, 67, 0.15);\n",
       "      fill: #174EA6;\n",
       "    }\n",
       "\n",
       "    [theme=dark] .colab-df-convert {\n",
       "      background-color: #3B4455;\n",
       "      fill: #D2E3FC;\n",
       "    }\n",
       "\n",
       "    [theme=dark] .colab-df-convert:hover {\n",
       "      background-color: #434B5C;\n",
       "      box-shadow: 0px 1px 3px 1px rgba(0, 0, 0, 0.15);\n",
       "      filter: drop-shadow(0px 1px 2px rgba(0, 0, 0, 0.3));\n",
       "      fill: #FFFFFF;\n",
       "    }\n",
       "  </style>\n",
       "\n",
       "      <script>\n",
       "        const buttonEl =\n",
       "          document.querySelector('#df-28191a94-bc86-417b-9e34-2b151bdecaf0 button.colab-df-convert');\n",
       "        buttonEl.style.display =\n",
       "          google.colab.kernel.accessAllowed ? 'block' : 'none';\n",
       "\n",
       "        async function convertToInteractive(key) {\n",
       "          const element = document.querySelector('#df-28191a94-bc86-417b-9e34-2b151bdecaf0');\n",
       "          const dataTable =\n",
       "            await google.colab.kernel.invokeFunction('convertToInteractive',\n",
       "                                                     [key], {});\n",
       "          if (!dataTable) return;\n",
       "\n",
       "          const docLinkHtml = 'Like what you see? Visit the ' +\n",
       "            '<a target=\"_blank\" href=https://colab.research.google.com/notebooks/data_table.ipynb>data table notebook</a>'\n",
       "            + ' to learn more about interactive tables.';\n",
       "          element.innerHTML = '';\n",
       "          dataTable['output_type'] = 'display_data';\n",
       "          await google.colab.output.renderOutput(dataTable, element);\n",
       "          const docLink = document.createElement('div');\n",
       "          docLink.innerHTML = docLinkHtml;\n",
       "          element.appendChild(docLink);\n",
       "        }\n",
       "      </script>\n",
       "    </div>\n",
       "  </div>\n",
       "  "
      ],
      "text/plain": [
       "   user_id  part_of_day_day  part_of_day_night   day_pct  evening_pct  \\\n",
       "0        4              199                 10  0.336717     0.287648   \n",
       "1       16              443                137  0.359870     0.260764   \n",
       "2       18              566                 34  0.503111     0.101333   \n",
       "\n",
       "   morning_pct  night_pct  act_days  avg_req_per_day  requests_std  \\\n",
       "0     0.358714   0.016920        20        38.850000      0.647632   \n",
       "1     0.268075   0.111292        64        39.515625      1.397836   \n",
       "2     0.365333   0.030222        32        60.937500      1.204972   \n",
       "\n",
       "   act_days_pct cpe_type_cd cpe_model_os_type cpe_manufacturer_name    price  \\\n",
       "0        0.4650  smartphone           Android                Huawei  12990.0   \n",
       "1        0.8647  smartphone           Android               Samsung   9583.0   \n",
       "2        0.8423  smartphone           Android               Samsung  22887.0   \n",
       "\n",
       "   region_cnt  city_cnt  url_host_cnt  \n",
       "0           5         9           108  \n",
       "1           1         1            50  \n",
       "2           1         2           141  "
      ]
     },
     "execution_count": 16,
     "metadata": {},
     "output_type": "execute_result"
    }
   ],
   "source": [
    "df.head(3)"
   ]
  },
  {
   "cell_type": "code",
   "execution_count": 12,
   "metadata": {
    "colab": {
     "base_uri": "https://localhost:8080/"
    },
    "collapsed": true,
    "executionInfo": {
     "elapsed": 4,
     "status": "ok",
     "timestamp": 1680948581541,
     "user": {
      "displayName": "Гоша Сидоркин",
      "userId": "09429149278087224251"
     },
     "user_tz": -240
    },
    "id": "haYGs5aLhx32",
    "outputId": "91abf233-0c5d-49de-ffa8-daad183c0104"
   },
   "outputs": [
    {
     "data": {
      "text/plain": [
       "user_id                     int32\n",
       "part_of_day_day             int16\n",
       "part_of_day_night           int16\n",
       "day_pct                   float32\n",
       "evening_pct               float32\n",
       "morning_pct               float32\n",
       "night_pct                 float32\n",
       "act_days                    int16\n",
       "avg_req_per_day           float32\n",
       "requests_std              float32\n",
       "act_days_pct              float32\n",
       "cpe_type_cd              category\n",
       "cpe_model_os_type        category\n",
       "cpe_manufacturer_name    category\n",
       "price                     float32\n",
       "region_cnt                   int8\n",
       "city_cnt                     int8\n",
       "url_host_cnt                int16\n",
       "dtype: object"
      ]
     },
     "execution_count": 12,
     "metadata": {},
     "output_type": "execute_result"
    }
   ],
   "source": [
    "df = df.astype(final_types)\n",
    "df.dtypes"
   ]
  },
  {
   "cell_type": "code",
   "execution_count": 18,
   "metadata": {
    "colab": {
     "base_uri": "https://localhost:8080/"
    },
    "executionInfo": {
     "elapsed": 2,
     "status": "ok",
     "timestamp": 1680813732266,
     "user": {
      "displayName": "Гоша Сидоркин",
      "userId": "09429149278087224251"
     },
     "user_tz": -240
    },
    "id": "vjMfws8gimqm",
    "outputId": "a14f1908-789e-4b61-a8db-2a70b7dc514b"
   },
   "outputs": [
    {
     "data": {
      "text/plain": [
       "(415317, 18)"
      ]
     },
     "execution_count": 18,
     "metadata": {},
     "output_type": "execute_result"
    }
   ],
   "source": [
    "df.shape"
   ]
  },
  {
   "cell_type": "code",
   "execution_count": 13,
   "metadata": {
    "executionInfo": {
     "elapsed": 16238,
     "status": "ok",
     "timestamp": 1680948600687,
     "user": {
      "displayName": "Гоша Сидоркин",
      "userId": "09429149278087224251"
     },
     "user_tz": -240
    },
    "id": "_hrOKD-xiz6A"
   },
   "outputs": [],
   "source": [
    "# загружаем созданные по url эмбеддинги\n",
    "url_emb = pd.read_csv('embeddings/url_emb.csv')\n",
    "url_emb = url_emb.add_suffix('_url').rename(columns={'user_id_url': 'user_id'})"
   ]
  },
  {
   "cell_type": "code",
   "execution_count": 14,
   "metadata": {
    "executionInfo": {
     "elapsed": 2573,
     "status": "ok",
     "timestamp": 1680948603251,
     "user": {
      "displayName": "Гоша Сидоркин",
      "userId": "09429149278087224251"
     },
     "user_tz": -240
    },
    "id": "RuYYxThDjMun"
   },
   "outputs": [],
   "source": [
    "# загружаем созданные по регионам эмбеддинги\n",
    "reg_emb = pd.read_csv('embeddings/reg_emb.csv')\n",
    "reg_emb = reg_emb.add_suffix('_reg').rename(columns={'user_id_reg': 'user_id'})"
   ]
  },
  {
   "cell_type": "code",
   "execution_count": 15,
   "metadata": {
    "executionInfo": {
     "elapsed": 4575,
     "status": "ok",
     "timestamp": 1680948607823,
     "user": {
      "displayName": "Гоша Сидоркин",
      "userId": "09429149278087224251"
     },
     "user_tz": -240
    },
    "id": "sigoNRMMjV93"
   },
   "outputs": [],
   "source": [
    "# загружаем созданные по городам эмбеддинги\n",
    "city_emb = pd.read_csv('embeddings/city_emb.csv')\n",
    "city_emb = city_emb.add_suffix('_city').rename(columns={'user_id_city': 'user_id'})"
   ]
  },
  {
   "cell_type": "code",
   "execution_count": 16,
   "metadata": {
    "executionInfo": {
     "elapsed": 4754,
     "status": "ok",
     "timestamp": 1680948612572,
     "user": {
      "displayName": "Гоша Сидоркин",
      "userId": "09429149278087224251"
     },
     "user_tz": -240
    },
    "id": "Y0RikZKOjn1v"
   },
   "outputs": [],
   "source": [
    "# загружаем созданные по девайсам эмбеддинги\n",
    "model_emb = pd.read_csv('embeddings/model_emb.csv')\n",
    "model_emb = model_emb.add_suffix('_model').rename(\n",
    "    columns={'user_id_model': 'user_id'})"
   ]
  },
  {
   "cell_type": "code",
   "execution_count": 17,
   "metadata": {
    "executionInfo": {
     "elapsed": 970,
     "status": "ok",
     "timestamp": 1680948642068,
     "user": {
      "displayName": "Гоша Сидоркин",
      "userId": "09429149278087224251"
     },
     "user_tz": -240
    },
    "id": "_waT1Dk6Lqna"
   },
   "outputs": [],
   "source": [
    "# загружаем метрики бейзлайном без эмбеддингов\n",
    "metrics_gender_baseline = pd.read_csv('metrics/metrics_gender_baseline.csv')\n",
    "metrics_age_baseline = pd.read_csv('metrics/metrics_age_baseline.csv')"
   ]
  },
  {
   "cell_type": "markdown",
   "metadata": {
    "id": "7HcNCawoku_3"
   },
   "source": [
    "# Baseline gender prediction with embeddings"
   ]
  },
  {
   "cell_type": "code",
   "execution_count": 19,
   "metadata": {
    "colab": {
     "base_uri": "https://localhost:8080/"
    },
    "executionInfo": {
     "elapsed": 3534,
     "status": "ok",
     "timestamp": 1680948661332,
     "user": {
      "displayName": "Гоша Сидоркин",
      "userId": "09429149278087224251"
     },
     "user_tz": -240
    },
    "id": "PCa5J7SLkm-l",
    "outputId": "fcfab132-3cdd-4d2c-fd0a-374a18e8a4f5"
   },
   "outputs": [
    {
     "data": {
      "text/plain": [
       "1    135331\n",
       "0    128994\n",
       "Name: is_male, dtype: int64"
      ]
     },
     "execution_count": 19,
     "metadata": {},
     "output_type": "execute_result"
    }
   ],
   "source": [
    "# создаем датасет для обучения модели\n",
    "df_train = targets.merge(df, how='inner', on=['user_id']) \\\n",
    "                  .merge(url_emb, how='inner', on='user_id') \\\n",
    "                  .merge(city_emb, how='inner', on=['user_id']) \\\n",
    "                  .merge(reg_emb, how='inner', on=['user_id']) \\\n",
    "                  .merge(model_emb, how='inner', on=['user_id'])\n",
    "\n",
    "# удаляем пропуски\n",
    "df_train = df_train[df_train['is_male'] != 'NA']\n",
    "df_train = df_train.dropna()\n",
    "\n",
    "df_train['is_male'] = df_train['is_male'].map(int)\n",
    "df_train['is_male'].value_counts()"
   ]
  },
  {
   "cell_type": "code",
   "execution_count": 25,
   "metadata": {
    "colab": {
     "base_uri": "https://localhost:8080/"
    },
    "executionInfo": {
     "elapsed": 1537,
     "status": "ok",
     "timestamp": 1680813919109,
     "user": {
      "displayName": "Гоша Сидоркин",
      "userId": "09429149278087224251"
     },
     "user_tz": -240
    },
    "id": "VrPeCYI2n9vh",
    "outputId": "a694d0e5-3cf8-449d-a71f-141127224b18"
   },
   "outputs": [
    {
     "name": "stdout",
     "output_type": "stream",
     "text": [
      "CPU times: user 1.06 s, sys: 390 ms, total: 1.45 s\n",
      "Wall time: 1.44 s\n"
     ]
    }
   ],
   "source": [
    "# сплит данных на train/validation/test\n",
    "%%time\n",
    "X = df_train.drop(['user_id', 'age', 'is_male'], axis=1)\n",
    "y = df_train['is_male']\n",
    "\n",
    "X_train, X_test, y_train, y_test = train_test_split(X,\n",
    "                                                    y,\n",
    "                                                    test_size=0.2,\n",
    "                                                    shuffle=True,\n",
    "                                                    stratify=y,\n",
    "                                                    random_state=RAND)\n",
    "\n",
    "X_train_, X_val, y_train_, y_val = train_test_split(X_train,\n",
    "                                                    y_train,\n",
    "                                                    test_size=0.16,\n",
    "                                                    shuffle=True,\n",
    "                                                    stratify=y_train,\n",
    "                                                    random_state=RAND)\n",
    "\n",
    "# значение для scale_pos_weight\n",
    "ratio = float(np.sum(y == 0)) / np.sum(y == 1)"
   ]
  },
  {
   "cell_type": "markdown",
   "metadata": {
    "id": "4Mp7q1t-qejH"
   },
   "source": [
    "## LGBM"
   ]
  },
  {
   "cell_type": "code",
   "execution_count": 26,
   "metadata": {
    "colab": {
     "base_uri": "https://localhost:8080/",
     "height": 108
    },
    "executionInfo": {
     "elapsed": 34607,
     "status": "ok",
     "timestamp": 1680814008878,
     "user": {
      "displayName": "Гоша Сидоркин",
      "userId": "09429149278087224251"
     },
     "user_tz": -240
    },
    "id": "7h8rKN-FoOm8",
    "outputId": "0568fc03-4747-49a1-b421-792131bd675a"
   },
   "outputs": [
    {
     "name": "stdout",
     "output_type": "stream",
     "text": [
      "CPU times: user 1min 55s, sys: 1.16 s, total: 1min 56s\n",
      "Wall time: 34.3 s\n"
     ]
    },
    {
     "data": {
      "text/html": [
       "<style>#sk-container-id-1 {color: black;background-color: white;}#sk-container-id-1 pre{padding: 0;}#sk-container-id-1 div.sk-toggleable {background-color: white;}#sk-container-id-1 label.sk-toggleable__label {cursor: pointer;display: block;width: 100%;margin-bottom: 0;padding: 0.3em;box-sizing: border-box;text-align: center;}#sk-container-id-1 label.sk-toggleable__label-arrow:before {content: \"▸\";float: left;margin-right: 0.25em;color: #696969;}#sk-container-id-1 label.sk-toggleable__label-arrow:hover:before {color: black;}#sk-container-id-1 div.sk-estimator:hover label.sk-toggleable__label-arrow:before {color: black;}#sk-container-id-1 div.sk-toggleable__content {max-height: 0;max-width: 0;overflow: hidden;text-align: left;background-color: #f0f8ff;}#sk-container-id-1 div.sk-toggleable__content pre {margin: 0.2em;color: black;border-radius: 0.25em;background-color: #f0f8ff;}#sk-container-id-1 input.sk-toggleable__control:checked~div.sk-toggleable__content {max-height: 200px;max-width: 100%;overflow: auto;}#sk-container-id-1 input.sk-toggleable__control:checked~label.sk-toggleable__label-arrow:before {content: \"▾\";}#sk-container-id-1 div.sk-estimator input.sk-toggleable__control:checked~label.sk-toggleable__label {background-color: #d4ebff;}#sk-container-id-1 div.sk-label input.sk-toggleable__control:checked~label.sk-toggleable__label {background-color: #d4ebff;}#sk-container-id-1 input.sk-hidden--visually {border: 0;clip: rect(1px 1px 1px 1px);clip: rect(1px, 1px, 1px, 1px);height: 1px;margin: -1px;overflow: hidden;padding: 0;position: absolute;width: 1px;}#sk-container-id-1 div.sk-estimator {font-family: monospace;background-color: #f0f8ff;border: 1px dotted black;border-radius: 0.25em;box-sizing: border-box;margin-bottom: 0.5em;}#sk-container-id-1 div.sk-estimator:hover {background-color: #d4ebff;}#sk-container-id-1 div.sk-parallel-item::after {content: \"\";width: 100%;border-bottom: 1px solid gray;flex-grow: 1;}#sk-container-id-1 div.sk-label:hover label.sk-toggleable__label {background-color: #d4ebff;}#sk-container-id-1 div.sk-serial::before {content: \"\";position: absolute;border-left: 1px solid gray;box-sizing: border-box;top: 0;bottom: 0;left: 50%;z-index: 0;}#sk-container-id-1 div.sk-serial {display: flex;flex-direction: column;align-items: center;background-color: white;padding-right: 0.2em;padding-left: 0.2em;position: relative;}#sk-container-id-1 div.sk-item {position: relative;z-index: 1;}#sk-container-id-1 div.sk-parallel {display: flex;align-items: stretch;justify-content: center;background-color: white;position: relative;}#sk-container-id-1 div.sk-item::before, #sk-container-id-1 div.sk-parallel-item::before {content: \"\";position: absolute;border-left: 1px solid gray;box-sizing: border-box;top: 0;bottom: 0;left: 50%;z-index: -1;}#sk-container-id-1 div.sk-parallel-item {display: flex;flex-direction: column;z-index: 1;position: relative;background-color: white;}#sk-container-id-1 div.sk-parallel-item:first-child::after {align-self: flex-end;width: 50%;}#sk-container-id-1 div.sk-parallel-item:last-child::after {align-self: flex-start;width: 50%;}#sk-container-id-1 div.sk-parallel-item:only-child::after {width: 0;}#sk-container-id-1 div.sk-dashed-wrapped {border: 1px dashed gray;margin: 0 0.4em 0.5em 0.4em;box-sizing: border-box;padding-bottom: 0.4em;background-color: white;}#sk-container-id-1 div.sk-label label {font-family: monospace;font-weight: bold;display: inline-block;line-height: 1.2em;}#sk-container-id-1 div.sk-label-container {text-align: center;}#sk-container-id-1 div.sk-container {/* jupyter's `normalize.less` sets `[hidden] { display: none; }` but bootstrap.min.css set `[hidden] { display: none !important; }` so we also need the `!important` here to be able to override the default hidden behavior on the sphinx rendered scikit-learn.org. See: https://github.com/scikit-learn/scikit-learn/issues/21755 */display: inline-block !important;position: relative;}#sk-container-id-1 div.sk-text-repr-fallback {display: none;}</style><div id=\"sk-container-id-1\" class=\"sk-top-container\"><div class=\"sk-text-repr-fallback\"><pre>LGBMClassifier(random_state=42, scale_pos_weight=0.9531740695036613)</pre><b>In a Jupyter environment, please rerun this cell to show the HTML representation or trust the notebook. <br />On GitHub, the HTML representation is unable to render, please try loading this page with nbviewer.org.</b></div><div class=\"sk-container\" hidden><div class=\"sk-item\"><div class=\"sk-estimator sk-toggleable\"><input class=\"sk-toggleable__control sk-hidden--visually\" id=\"sk-estimator-id-1\" type=\"checkbox\" checked><label for=\"sk-estimator-id-1\" class=\"sk-toggleable__label sk-toggleable__label-arrow\">LGBMClassifier</label><div class=\"sk-toggleable__content\"><pre>LGBMClassifier(random_state=42, scale_pos_weight=0.9531740695036613)</pre></div></div></div></div></div>"
      ],
      "text/plain": [
       "LGBMClassifier(random_state=42, scale_pos_weight=0.9531740695036613)"
      ]
     },
     "execution_count": 26,
     "metadata": {},
     "output_type": "execute_result"
    }
   ],
   "source": [
    "# обучение бейзлайна LightGBM\n",
    "%%time\n",
    "lgbm_gender = LGBMClassifier(random_state=RAND, scale_pos_weight=ratio)\n",
    "eval_set = [(X_val, y_val)]\n",
    "\n",
    "lgbm_gender.fit(X_train,\n",
    "                y_train,\n",
    "                eval_metric='auc',\n",
    "                eval_set=eval_set,\n",
    "                early_stopping_rounds=100,\n",
    "                verbose=False)"
   ]
  },
  {
   "cell_type": "code",
   "execution_count": 27,
   "metadata": {
    "colab": {
     "base_uri": "https://localhost:8080/"
    },
    "executionInfo": {
     "elapsed": 780,
     "status": "ok",
     "timestamp": 1680814049203,
     "user": {
      "displayName": "Гоша Сидоркин",
      "userId": "09429149278087224251"
     },
     "user_tz": -240
    },
    "id": "iTqNfRmjow9r",
    "outputId": "706490d4-6177-4e3f-c39e-ff15b6c783aa"
   },
   "outputs": [
    {
     "name": "stdout",
     "output_type": "stream",
     "text": [
      "GINI по полу 0.623\n"
     ]
    }
   ],
   "source": [
    "# итоговый балл соревнования считается по GINI по полу\n",
    "# проверим какой GINI мы получили\n",
    "print(\n",
    "    f'GINI по полу {2 * m.roc_auc_score(y_test, lgbm_gender.predict_proba(X_test)[:,1]) - 1:2.3f}'\n",
    ")"
   ]
  },
  {
   "cell_type": "code",
   "execution_count": 28,
   "metadata": {
    "colab": {
     "base_uri": "https://localhost:8080/"
    },
    "executionInfo": {
     "elapsed": 3454,
     "status": "ok",
     "timestamp": 1680814056046,
     "user": {
      "displayName": "Гоша Сидоркин",
      "userId": "09429149278087224251"
     },
     "user_tz": -240
    },
    "id": "nVAg9BECokJ4",
    "outputId": "03b0900a-d862-4324-8600-43780383dec8"
   },
   "outputs": [
    {
     "name": "stdout",
     "output_type": "stream",
     "text": [
      "ROC-AUC train = 0.835\n",
      "ROC-AUC test = 0.812\n",
      "delta = 2.85%\n"
     ]
    }
   ],
   "source": [
    "# проверим не переобучилась ли наша модель\n",
    "check_overfitting_classification(lgbm_gender, X_train, y_train, X_test, y_test)"
   ]
  },
  {
   "cell_type": "code",
   "execution_count": 29,
   "metadata": {
    "colab": {
     "base_uri": "https://localhost:8080/",
     "height": 204
    },
    "executionInfo": {
     "elapsed": 1789,
     "status": "ok",
     "timestamp": 1680814060100,
     "user": {
      "displayName": "Гоша Сидоркин",
      "userId": "09429149278087224251"
     },
     "user_tz": -240
    },
    "id": "epzaR9pgrWyA",
    "outputId": "3819d8c5-a2c5-4541-b878-a79498ba70d4"
   },
   "outputs": [
    {
     "data": {
      "text/html": [
       "\n",
       "  <div id=\"df-7e95ab2b-ef1e-494d-b44a-bb13d689700d\">\n",
       "    <div class=\"colab-df-container\">\n",
       "      <div>\n",
       "<style scoped>\n",
       "    .dataframe tbody tr th:only-of-type {\n",
       "        vertical-align: middle;\n",
       "    }\n",
       "\n",
       "    .dataframe tbody tr th {\n",
       "        vertical-align: top;\n",
       "    }\n",
       "\n",
       "    .dataframe thead th {\n",
       "        text-align: right;\n",
       "    }\n",
       "</style>\n",
       "<table border=\"1\" class=\"dataframe\">\n",
       "  <thead>\n",
       "    <tr style=\"text-align: right;\">\n",
       "      <th></th>\n",
       "      <th>model</th>\n",
       "      <th>Precision</th>\n",
       "      <th>Recall</th>\n",
       "      <th>f1</th>\n",
       "      <th>ROC_AUC</th>\n",
       "      <th>GINI</th>\n",
       "    </tr>\n",
       "  </thead>\n",
       "  <tbody>\n",
       "    <tr>\n",
       "      <th>0</th>\n",
       "      <td>LGBMBaseline</td>\n",
       "      <td>0.607814</td>\n",
       "      <td>0.564989</td>\n",
       "      <td>0.585620</td>\n",
       "      <td>0.628592</td>\n",
       "      <td>0.257185</td>\n",
       "    </tr>\n",
       "    <tr>\n",
       "      <th>1</th>\n",
       "      <td>CatBoostBaseline</td>\n",
       "      <td>0.611604</td>\n",
       "      <td>0.565913</td>\n",
       "      <td>0.587872</td>\n",
       "      <td>0.630034</td>\n",
       "      <td>0.260068</td>\n",
       "    </tr>\n",
       "    <tr>\n",
       "      <th>2</th>\n",
       "      <td>XGBoostBaseline</td>\n",
       "      <td>0.606800</td>\n",
       "      <td>0.555863</td>\n",
       "      <td>0.580216</td>\n",
       "      <td>0.623342</td>\n",
       "      <td>0.246683</td>\n",
       "    </tr>\n",
       "    <tr>\n",
       "      <th>3</th>\n",
       "      <td>RandomForestBaseline</td>\n",
       "      <td>0.584381</td>\n",
       "      <td>0.585569</td>\n",
       "      <td>0.584974</td>\n",
       "      <td>0.600485</td>\n",
       "      <td>0.200970</td>\n",
       "    </tr>\n",
       "    <tr>\n",
       "      <th>0</th>\n",
       "      <td>LGBMBaseline_embeddings</td>\n",
       "      <td>0.740106</td>\n",
       "      <td>0.719981</td>\n",
       "      <td>0.729905</td>\n",
       "      <td>0.811624</td>\n",
       "      <td>0.623249</td>\n",
       "    </tr>\n",
       "  </tbody>\n",
       "</table>\n",
       "</div>\n",
       "      <button class=\"colab-df-convert\" onclick=\"convertToInteractive('df-7e95ab2b-ef1e-494d-b44a-bb13d689700d')\"\n",
       "              title=\"Convert this dataframe to an interactive table.\"\n",
       "              style=\"display:none;\">\n",
       "        \n",
       "  <svg xmlns=\"http://www.w3.org/2000/svg\" height=\"24px\"viewBox=\"0 0 24 24\"\n",
       "       width=\"24px\">\n",
       "    <path d=\"M0 0h24v24H0V0z\" fill=\"none\"/>\n",
       "    <path d=\"M18.56 5.44l.94 2.06.94-2.06 2.06-.94-2.06-.94-.94-2.06-.94 2.06-2.06.94zm-11 1L8.5 8.5l.94-2.06 2.06-.94-2.06-.94L8.5 2.5l-.94 2.06-2.06.94zm10 10l.94 2.06.94-2.06 2.06-.94-2.06-.94-.94-2.06-.94 2.06-2.06.94z\"/><path d=\"M17.41 7.96l-1.37-1.37c-.4-.4-.92-.59-1.43-.59-.52 0-1.04.2-1.43.59L10.3 9.45l-7.72 7.72c-.78.78-.78 2.05 0 2.83L4 21.41c.39.39.9.59 1.41.59.51 0 1.02-.2 1.41-.59l7.78-7.78 2.81-2.81c.8-.78.8-2.07 0-2.86zM5.41 20L4 18.59l7.72-7.72 1.47 1.35L5.41 20z\"/>\n",
       "  </svg>\n",
       "      </button>\n",
       "      \n",
       "  <style>\n",
       "    .colab-df-container {\n",
       "      display:flex;\n",
       "      flex-wrap:wrap;\n",
       "      gap: 12px;\n",
       "    }\n",
       "\n",
       "    .colab-df-convert {\n",
       "      background-color: #E8F0FE;\n",
       "      border: none;\n",
       "      border-radius: 50%;\n",
       "      cursor: pointer;\n",
       "      display: none;\n",
       "      fill: #1967D2;\n",
       "      height: 32px;\n",
       "      padding: 0 0 0 0;\n",
       "      width: 32px;\n",
       "    }\n",
       "\n",
       "    .colab-df-convert:hover {\n",
       "      background-color: #E2EBFA;\n",
       "      box-shadow: 0px 1px 2px rgba(60, 64, 67, 0.3), 0px 1px 3px 1px rgba(60, 64, 67, 0.15);\n",
       "      fill: #174EA6;\n",
       "    }\n",
       "\n",
       "    [theme=dark] .colab-df-convert {\n",
       "      background-color: #3B4455;\n",
       "      fill: #D2E3FC;\n",
       "    }\n",
       "\n",
       "    [theme=dark] .colab-df-convert:hover {\n",
       "      background-color: #434B5C;\n",
       "      box-shadow: 0px 1px 3px 1px rgba(0, 0, 0, 0.15);\n",
       "      filter: drop-shadow(0px 1px 2px rgba(0, 0, 0, 0.3));\n",
       "      fill: #FFFFFF;\n",
       "    }\n",
       "  </style>\n",
       "\n",
       "      <script>\n",
       "        const buttonEl =\n",
       "          document.querySelector('#df-7e95ab2b-ef1e-494d-b44a-bb13d689700d button.colab-df-convert');\n",
       "        buttonEl.style.display =\n",
       "          google.colab.kernel.accessAllowed ? 'block' : 'none';\n",
       "\n",
       "        async function convertToInteractive(key) {\n",
       "          const element = document.querySelector('#df-7e95ab2b-ef1e-494d-b44a-bb13d689700d');\n",
       "          const dataTable =\n",
       "            await google.colab.kernel.invokeFunction('convertToInteractive',\n",
       "                                                     [key], {});\n",
       "          if (!dataTable) return;\n",
       "\n",
       "          const docLinkHtml = 'Like what you see? Visit the ' +\n",
       "            '<a target=\"_blank\" href=https://colab.research.google.com/notebooks/data_table.ipynb>data table notebook</a>'\n",
       "            + ' to learn more about interactive tables.';\n",
       "          element.innerHTML = '';\n",
       "          dataTable['output_type'] = 'display_data';\n",
       "          await google.colab.output.renderOutput(dataTable, element);\n",
       "          const docLink = document.createElement('div');\n",
       "          docLink.innerHTML = docLinkHtml;\n",
       "          element.appendChild(docLink);\n",
       "        }\n",
       "      </script>\n",
       "    </div>\n",
       "  </div>\n",
       "  "
      ],
      "text/plain": [
       "                     model  Precision    Recall        f1   ROC_AUC      GINI\n",
       "0             LGBMBaseline   0.607814  0.564989  0.585620  0.628592  0.257185\n",
       "1         CatBoostBaseline   0.611604  0.565913  0.587872  0.630034  0.260068\n",
       "2          XGBoostBaseline   0.606800  0.555863  0.580216  0.623342  0.246683\n",
       "3     RandomForestBaseline   0.584381  0.585569  0.584974  0.600485  0.200970\n",
       "0  LGBMBaseline_embeddings   0.740106  0.719981  0.729905  0.811624  0.623249"
      ]
     },
     "execution_count": 29,
     "metadata": {},
     "output_type": "execute_result"
    }
   ],
   "source": [
    "# получим итоговые метрики на тестовых данных\n",
    "y_pred_test = lgbm_gender.predict(X_test)\n",
    "y_score_test = lgbm_gender.predict_proba(X_test)\n",
    "\n",
    "metrics_gender = metrics_gender_baseline.append(\n",
    "    get_metrics_classification(y_test,\n",
    "                               y_pred_test,\n",
    "                               y_score_test,\n",
    "                               name='LGBMBaseline_embeddings'))\n",
    "metrics_gender"
   ]
  },
  {
   "cell_type": "markdown",
   "metadata": {
    "id": "U_wKEQ_ctxbg"
   },
   "source": [
    "## CatBoost"
   ]
  },
  {
   "cell_type": "code",
   "execution_count": 30,
   "metadata": {
    "colab": {
     "base_uri": "https://localhost:8080/"
    },
    "executionInfo": {
     "elapsed": 263621,
     "status": "ok",
     "timestamp": 1680814407146,
     "user": {
      "displayName": "Гоша Сидоркин",
      "userId": "09429149278087224251"
     },
     "user_tz": -240
    },
    "id": "CvWjS6ZHlVG4",
    "outputId": "f75af975-750a-47a2-d7f3-67b633f6be9d"
   },
   "outputs": [
    {
     "name": "stdout",
     "output_type": "stream",
     "text": [
      "CPU times: user 14min 4s, sys: 16.1 s, total: 14min 20s\n",
      "Wall time: 4min 23s\n"
     ]
    },
    {
     "data": {
      "text/plain": [
       "<catboost.core.CatBoostClassifier at 0x7f488232fd00>"
      ]
     },
     "execution_count": 30,
     "metadata": {},
     "output_type": "execute_result"
    }
   ],
   "source": [
    "# обучение бейзлайна CatBoost\n",
    "%%time\n",
    "cat_features = X.select_dtypes('category').columns.tolist()\n",
    "cat_gender = CatBoostClassifier(allow_writing_files=False,\n",
    "                                random_state=RAND,\n",
    "                                eval_metric=\"AUC\",\n",
    "                                cat_features=cat_features,\n",
    "                                scale_pos_weight=ratio)\n",
    "eval_set = [(X_val, y_val)]\n",
    "\n",
    "cat_gender.fit(X_train_,\n",
    "               y_train_,\n",
    "               eval_set=eval_set,\n",
    "               verbose=False,\n",
    "               early_stopping_rounds=100)"
   ]
  },
  {
   "cell_type": "code",
   "execution_count": 31,
   "metadata": {
    "colab": {
     "base_uri": "https://localhost:8080/"
    },
    "executionInfo": {
     "elapsed": 727,
     "status": "ok",
     "timestamp": 1680814415957,
     "user": {
      "displayName": "Гоша Сидоркин",
      "userId": "09429149278087224251"
     },
     "user_tz": -240
    },
    "id": "cpj_I4aOlktX",
    "outputId": "aa093700-0979-4ea4-be8b-75f3de29381d"
   },
   "outputs": [
    {
     "name": "stdout",
     "output_type": "stream",
     "text": [
      "GINI по полу 0.688\n"
     ]
    }
   ],
   "source": [
    "# получим оценку GINI\n",
    "print(\n",
    "    f'GINI по полу {2 * m.roc_auc_score(y_test, cat_gender.predict_proba(X_test)[:,1]) - 1:2.3f}'\n",
    ")"
   ]
  },
  {
   "cell_type": "code",
   "execution_count": 32,
   "metadata": {
    "colab": {
     "base_uri": "https://localhost:8080/"
    },
    "executionInfo": {
     "elapsed": 1012,
     "status": "ok",
     "timestamp": 1680814419309,
     "user": {
      "displayName": "Гоша Сидоркин",
      "userId": "09429149278087224251"
     },
     "user_tz": -240
    },
    "id": "35N4Ks_IuLd-",
    "outputId": "dd92dda2-a624-4068-968f-fab01df75a7c"
   },
   "outputs": [
    {
     "name": "stdout",
     "output_type": "stream",
     "text": [
      "ROC-AUC train = 0.893\n",
      "ROC-AUC test = 0.844\n",
      "delta = 5.79%\n"
     ]
    }
   ],
   "source": [
    "# проверим не переобучилась ли наша модель\n",
    "check_overfitting_classification(cat_gender, X_train, y_train, X_test, y_test)"
   ]
  },
  {
   "cell_type": "code",
   "execution_count": 33,
   "metadata": {
    "colab": {
     "base_uri": "https://localhost:8080/",
     "height": 235
    },
    "executionInfo": {
     "elapsed": 838,
     "status": "ok",
     "timestamp": 1680814421605,
     "user": {
      "displayName": "Гоша Сидоркин",
      "userId": "09429149278087224251"
     },
     "user_tz": -240
    },
    "id": "Rb7uihUXuLf-",
    "outputId": "08df35f2-37a5-4397-dc1d-73bd07c9f67d"
   },
   "outputs": [
    {
     "data": {
      "text/html": [
       "\n",
       "  <div id=\"df-0b0c13e3-c94b-490e-981e-5a231bfa2740\">\n",
       "    <div class=\"colab-df-container\">\n",
       "      <div>\n",
       "<style scoped>\n",
       "    .dataframe tbody tr th:only-of-type {\n",
       "        vertical-align: middle;\n",
       "    }\n",
       "\n",
       "    .dataframe tbody tr th {\n",
       "        vertical-align: top;\n",
       "    }\n",
       "\n",
       "    .dataframe thead th {\n",
       "        text-align: right;\n",
       "    }\n",
       "</style>\n",
       "<table border=\"1\" class=\"dataframe\">\n",
       "  <thead>\n",
       "    <tr style=\"text-align: right;\">\n",
       "      <th></th>\n",
       "      <th>model</th>\n",
       "      <th>Precision</th>\n",
       "      <th>Recall</th>\n",
       "      <th>f1</th>\n",
       "      <th>ROC_AUC</th>\n",
       "      <th>GINI</th>\n",
       "    </tr>\n",
       "  </thead>\n",
       "  <tbody>\n",
       "    <tr>\n",
       "      <th>0</th>\n",
       "      <td>LGBMBaseline</td>\n",
       "      <td>0.607814</td>\n",
       "      <td>0.564989</td>\n",
       "      <td>0.585620</td>\n",
       "      <td>0.628592</td>\n",
       "      <td>0.257185</td>\n",
       "    </tr>\n",
       "    <tr>\n",
       "      <th>1</th>\n",
       "      <td>CatBoostBaseline</td>\n",
       "      <td>0.611604</td>\n",
       "      <td>0.565913</td>\n",
       "      <td>0.587872</td>\n",
       "      <td>0.630034</td>\n",
       "      <td>0.260068</td>\n",
       "    </tr>\n",
       "    <tr>\n",
       "      <th>2</th>\n",
       "      <td>XGBoostBaseline</td>\n",
       "      <td>0.606800</td>\n",
       "      <td>0.555863</td>\n",
       "      <td>0.580216</td>\n",
       "      <td>0.623342</td>\n",
       "      <td>0.246683</td>\n",
       "    </tr>\n",
       "    <tr>\n",
       "      <th>3</th>\n",
       "      <td>RandomForestBaseline</td>\n",
       "      <td>0.584381</td>\n",
       "      <td>0.585569</td>\n",
       "      <td>0.584974</td>\n",
       "      <td>0.600485</td>\n",
       "      <td>0.200970</td>\n",
       "    </tr>\n",
       "    <tr>\n",
       "      <th>0</th>\n",
       "      <td>LGBMBaseline_embeddings</td>\n",
       "      <td>0.740106</td>\n",
       "      <td>0.719981</td>\n",
       "      <td>0.729905</td>\n",
       "      <td>0.811624</td>\n",
       "      <td>0.623249</td>\n",
       "    </tr>\n",
       "    <tr>\n",
       "      <th>0</th>\n",
       "      <td>CatBoostBaseline_embeddings</td>\n",
       "      <td>0.770574</td>\n",
       "      <td>0.748282</td>\n",
       "      <td>0.759264</td>\n",
       "      <td>0.843999</td>\n",
       "      <td>0.687998</td>\n",
       "    </tr>\n",
       "  </tbody>\n",
       "</table>\n",
       "</div>\n",
       "      <button class=\"colab-df-convert\" onclick=\"convertToInteractive('df-0b0c13e3-c94b-490e-981e-5a231bfa2740')\"\n",
       "              title=\"Convert this dataframe to an interactive table.\"\n",
       "              style=\"display:none;\">\n",
       "        \n",
       "  <svg xmlns=\"http://www.w3.org/2000/svg\" height=\"24px\"viewBox=\"0 0 24 24\"\n",
       "       width=\"24px\">\n",
       "    <path d=\"M0 0h24v24H0V0z\" fill=\"none\"/>\n",
       "    <path d=\"M18.56 5.44l.94 2.06.94-2.06 2.06-.94-2.06-.94-.94-2.06-.94 2.06-2.06.94zm-11 1L8.5 8.5l.94-2.06 2.06-.94-2.06-.94L8.5 2.5l-.94 2.06-2.06.94zm10 10l.94 2.06.94-2.06 2.06-.94-2.06-.94-.94-2.06-.94 2.06-2.06.94z\"/><path d=\"M17.41 7.96l-1.37-1.37c-.4-.4-.92-.59-1.43-.59-.52 0-1.04.2-1.43.59L10.3 9.45l-7.72 7.72c-.78.78-.78 2.05 0 2.83L4 21.41c.39.39.9.59 1.41.59.51 0 1.02-.2 1.41-.59l7.78-7.78 2.81-2.81c.8-.78.8-2.07 0-2.86zM5.41 20L4 18.59l7.72-7.72 1.47 1.35L5.41 20z\"/>\n",
       "  </svg>\n",
       "      </button>\n",
       "      \n",
       "  <style>\n",
       "    .colab-df-container {\n",
       "      display:flex;\n",
       "      flex-wrap:wrap;\n",
       "      gap: 12px;\n",
       "    }\n",
       "\n",
       "    .colab-df-convert {\n",
       "      background-color: #E8F0FE;\n",
       "      border: none;\n",
       "      border-radius: 50%;\n",
       "      cursor: pointer;\n",
       "      display: none;\n",
       "      fill: #1967D2;\n",
       "      height: 32px;\n",
       "      padding: 0 0 0 0;\n",
       "      width: 32px;\n",
       "    }\n",
       "\n",
       "    .colab-df-convert:hover {\n",
       "      background-color: #E2EBFA;\n",
       "      box-shadow: 0px 1px 2px rgba(60, 64, 67, 0.3), 0px 1px 3px 1px rgba(60, 64, 67, 0.15);\n",
       "      fill: #174EA6;\n",
       "    }\n",
       "\n",
       "    [theme=dark] .colab-df-convert {\n",
       "      background-color: #3B4455;\n",
       "      fill: #D2E3FC;\n",
       "    }\n",
       "\n",
       "    [theme=dark] .colab-df-convert:hover {\n",
       "      background-color: #434B5C;\n",
       "      box-shadow: 0px 1px 3px 1px rgba(0, 0, 0, 0.15);\n",
       "      filter: drop-shadow(0px 1px 2px rgba(0, 0, 0, 0.3));\n",
       "      fill: #FFFFFF;\n",
       "    }\n",
       "  </style>\n",
       "\n",
       "      <script>\n",
       "        const buttonEl =\n",
       "          document.querySelector('#df-0b0c13e3-c94b-490e-981e-5a231bfa2740 button.colab-df-convert');\n",
       "        buttonEl.style.display =\n",
       "          google.colab.kernel.accessAllowed ? 'block' : 'none';\n",
       "\n",
       "        async function convertToInteractive(key) {\n",
       "          const element = document.querySelector('#df-0b0c13e3-c94b-490e-981e-5a231bfa2740');\n",
       "          const dataTable =\n",
       "            await google.colab.kernel.invokeFunction('convertToInteractive',\n",
       "                                                     [key], {});\n",
       "          if (!dataTable) return;\n",
       "\n",
       "          const docLinkHtml = 'Like what you see? Visit the ' +\n",
       "            '<a target=\"_blank\" href=https://colab.research.google.com/notebooks/data_table.ipynb>data table notebook</a>'\n",
       "            + ' to learn more about interactive tables.';\n",
       "          element.innerHTML = '';\n",
       "          dataTable['output_type'] = 'display_data';\n",
       "          await google.colab.output.renderOutput(dataTable, element);\n",
       "          const docLink = document.createElement('div');\n",
       "          docLink.innerHTML = docLinkHtml;\n",
       "          element.appendChild(docLink);\n",
       "        }\n",
       "      </script>\n",
       "    </div>\n",
       "  </div>\n",
       "  "
      ],
      "text/plain": [
       "                         model  Precision    Recall        f1   ROC_AUC  \\\n",
       "0                 LGBMBaseline   0.607814  0.564989  0.585620  0.628592   \n",
       "1             CatBoostBaseline   0.611604  0.565913  0.587872  0.630034   \n",
       "2              XGBoostBaseline   0.606800  0.555863  0.580216  0.623342   \n",
       "3         RandomForestBaseline   0.584381  0.585569  0.584974  0.600485   \n",
       "0      LGBMBaseline_embeddings   0.740106  0.719981  0.729905  0.811624   \n",
       "0  CatBoostBaseline_embeddings   0.770574  0.748282  0.759264  0.843999   \n",
       "\n",
       "       GINI  \n",
       "0  0.257185  \n",
       "1  0.260068  \n",
       "2  0.246683  \n",
       "3  0.200970  \n",
       "0  0.623249  \n",
       "0  0.687998  "
      ]
     },
     "execution_count": 33,
     "metadata": {},
     "output_type": "execute_result"
    }
   ],
   "source": [
    "# получим итоговые метрики на тестовых данных\n",
    "y_pred_test = cat_gender.predict(X_test)\n",
    "y_score_test = cat_gender.predict_proba(X_test)\n",
    "\n",
    "metrics_gender = metrics_gender.append(\n",
    "    get_metrics_classification(y_test,\n",
    "                               y_pred_test,\n",
    "                               y_score_test,\n",
    "                               name='CatBoostBaseline_embeddings'))\n",
    "metrics_gender"
   ]
  },
  {
   "cell_type": "markdown",
   "metadata": {
    "id": "YCozoZGKyo3U"
   },
   "source": [
    "## XGBoost"
   ]
  },
  {
   "cell_type": "code",
   "execution_count": 34,
   "metadata": {
    "colab": {
     "base_uri": "https://localhost:8080/"
    },
    "executionInfo": {
     "elapsed": 2151,
     "status": "ok",
     "timestamp": 1680814430274,
     "user": {
      "displayName": "Гоша Сидоркин",
      "userId": "09429149278087224251"
     },
     "user_tz": -240
    },
    "id": "MG9HprLFIKkX",
    "outputId": "bd2bf994-0c90-41d8-c824-a4bdca0f1d82"
   },
   "outputs": [
    {
     "name": "stdout",
     "output_type": "stream",
     "text": [
      "CPU times: user 1.65 s, sys: 351 ms, total: 2 s\n",
      "Wall time: 1.99 s\n"
     ]
    }
   ],
   "source": [
    "# сплит данных на train/validation/test с one hot encoding\n",
    "%%time\n",
    "X = pd.get_dummies(df_train.drop(['user_id', 'age', 'is_male'], axis=1))\n",
    "y = df_train['is_male']\n",
    "\n",
    "X_train, X_test, y_train, y_test = train_test_split(X,\n",
    "                                                    y,\n",
    "                                                    test_size=0.2,\n",
    "                                                    shuffle=True,\n",
    "                                                    stratify=y,\n",
    "                                                    random_state=RAND)\n",
    "\n",
    "X_train_, X_val, y_train_, y_val = train_test_split(X_train,\n",
    "                                                    y_train,\n",
    "                                                    test_size=0.16,\n",
    "                                                    shuffle=True,\n",
    "                                                    stratify=y_train,\n",
    "                                                    random_state=RAND)\n",
    "\n",
    "# значение для scale_pos_weight\n",
    "ratio = float(np.sum(y == 0)) / np.sum(y == 1)"
   ]
  },
  {
   "cell_type": "code",
   "execution_count": 35,
   "metadata": {
    "colab": {
     "base_uri": "https://localhost:8080/",
     "height": 278
    },
    "executionInfo": {
     "elapsed": 751637,
     "status": "ok",
     "timestamp": 1680815186863,
     "user": {
      "displayName": "Гоша Сидоркин",
      "userId": "09429149278087224251"
     },
     "user_tz": -240
    },
    "id": "n9ZYW-LyuLme",
    "outputId": "61844ec3-aebe-4ba4-c5ae-cad99b060b27"
   },
   "outputs": [
    {
     "name": "stdout",
     "output_type": "stream",
     "text": [
      "CPU times: user 44min 14s, sys: 3.33 s, total: 44min 17s\n",
      "Wall time: 12min 31s\n"
     ]
    },
    {
     "data": {
      "text/html": [
       "<style>#sk-container-id-2 {color: black;background-color: white;}#sk-container-id-2 pre{padding: 0;}#sk-container-id-2 div.sk-toggleable {background-color: white;}#sk-container-id-2 label.sk-toggleable__label {cursor: pointer;display: block;width: 100%;margin-bottom: 0;padding: 0.3em;box-sizing: border-box;text-align: center;}#sk-container-id-2 label.sk-toggleable__label-arrow:before {content: \"▸\";float: left;margin-right: 0.25em;color: #696969;}#sk-container-id-2 label.sk-toggleable__label-arrow:hover:before {color: black;}#sk-container-id-2 div.sk-estimator:hover label.sk-toggleable__label-arrow:before {color: black;}#sk-container-id-2 div.sk-toggleable__content {max-height: 0;max-width: 0;overflow: hidden;text-align: left;background-color: #f0f8ff;}#sk-container-id-2 div.sk-toggleable__content pre {margin: 0.2em;color: black;border-radius: 0.25em;background-color: #f0f8ff;}#sk-container-id-2 input.sk-toggleable__control:checked~div.sk-toggleable__content {max-height: 200px;max-width: 100%;overflow: auto;}#sk-container-id-2 input.sk-toggleable__control:checked~label.sk-toggleable__label-arrow:before {content: \"▾\";}#sk-container-id-2 div.sk-estimator input.sk-toggleable__control:checked~label.sk-toggleable__label {background-color: #d4ebff;}#sk-container-id-2 div.sk-label input.sk-toggleable__control:checked~label.sk-toggleable__label {background-color: #d4ebff;}#sk-container-id-2 input.sk-hidden--visually {border: 0;clip: rect(1px 1px 1px 1px);clip: rect(1px, 1px, 1px, 1px);height: 1px;margin: -1px;overflow: hidden;padding: 0;position: absolute;width: 1px;}#sk-container-id-2 div.sk-estimator {font-family: monospace;background-color: #f0f8ff;border: 1px dotted black;border-radius: 0.25em;box-sizing: border-box;margin-bottom: 0.5em;}#sk-container-id-2 div.sk-estimator:hover {background-color: #d4ebff;}#sk-container-id-2 div.sk-parallel-item::after {content: \"\";width: 100%;border-bottom: 1px solid gray;flex-grow: 1;}#sk-container-id-2 div.sk-label:hover label.sk-toggleable__label {background-color: #d4ebff;}#sk-container-id-2 div.sk-serial::before {content: \"\";position: absolute;border-left: 1px solid gray;box-sizing: border-box;top: 0;bottom: 0;left: 50%;z-index: 0;}#sk-container-id-2 div.sk-serial {display: flex;flex-direction: column;align-items: center;background-color: white;padding-right: 0.2em;padding-left: 0.2em;position: relative;}#sk-container-id-2 div.sk-item {position: relative;z-index: 1;}#sk-container-id-2 div.sk-parallel {display: flex;align-items: stretch;justify-content: center;background-color: white;position: relative;}#sk-container-id-2 div.sk-item::before, #sk-container-id-2 div.sk-parallel-item::before {content: \"\";position: absolute;border-left: 1px solid gray;box-sizing: border-box;top: 0;bottom: 0;left: 50%;z-index: -1;}#sk-container-id-2 div.sk-parallel-item {display: flex;flex-direction: column;z-index: 1;position: relative;background-color: white;}#sk-container-id-2 div.sk-parallel-item:first-child::after {align-self: flex-end;width: 50%;}#sk-container-id-2 div.sk-parallel-item:last-child::after {align-self: flex-start;width: 50%;}#sk-container-id-2 div.sk-parallel-item:only-child::after {width: 0;}#sk-container-id-2 div.sk-dashed-wrapped {border: 1px dashed gray;margin: 0 0.4em 0.5em 0.4em;box-sizing: border-box;padding-bottom: 0.4em;background-color: white;}#sk-container-id-2 div.sk-label label {font-family: monospace;font-weight: bold;display: inline-block;line-height: 1.2em;}#sk-container-id-2 div.sk-label-container {text-align: center;}#sk-container-id-2 div.sk-container {/* jupyter's `normalize.less` sets `[hidden] { display: none; }` but bootstrap.min.css set `[hidden] { display: none !important; }` so we also need the `!important` here to be able to override the default hidden behavior on the sphinx rendered scikit-learn.org. See: https://github.com/scikit-learn/scikit-learn/issues/21755 */display: inline-block !important;position: relative;}#sk-container-id-2 div.sk-text-repr-fallback {display: none;}</style><div id=\"sk-container-id-2\" class=\"sk-top-container\"><div class=\"sk-text-repr-fallback\"><pre>XGBClassifier(base_score=None, booster=None, callbacks=None,\n",
       "              colsample_bylevel=None, colsample_bynode=None,\n",
       "              colsample_bytree=None, early_stopping_rounds=None,\n",
       "              enable_categorical=False, eval_metric=None, feature_types=None,\n",
       "              gamma=None, gpu_id=None, grow_policy=None, importance_type=None,\n",
       "              interaction_constraints=None, learning_rate=None, max_bin=None,\n",
       "              max_cat_threshold=None, max_cat_to_onehot=None,\n",
       "              max_delta_step=None, max_depth=None, max_leaves=None,\n",
       "              min_child_weight=None, missing=nan, monotone_constraints=None,\n",
       "              n_estimators=100, n_jobs=None, num_parallel_tree=None,\n",
       "              predictor=None, random_state=42, ...)</pre><b>In a Jupyter environment, please rerun this cell to show the HTML representation or trust the notebook. <br />On GitHub, the HTML representation is unable to render, please try loading this page with nbviewer.org.</b></div><div class=\"sk-container\" hidden><div class=\"sk-item\"><div class=\"sk-estimator sk-toggleable\"><input class=\"sk-toggleable__control sk-hidden--visually\" id=\"sk-estimator-id-2\" type=\"checkbox\" checked><label for=\"sk-estimator-id-2\" class=\"sk-toggleable__label sk-toggleable__label-arrow\">XGBClassifier</label><div class=\"sk-toggleable__content\"><pre>XGBClassifier(base_score=None, booster=None, callbacks=None,\n",
       "              colsample_bylevel=None, colsample_bynode=None,\n",
       "              colsample_bytree=None, early_stopping_rounds=None,\n",
       "              enable_categorical=False, eval_metric=None, feature_types=None,\n",
       "              gamma=None, gpu_id=None, grow_policy=None, importance_type=None,\n",
       "              interaction_constraints=None, learning_rate=None, max_bin=None,\n",
       "              max_cat_threshold=None, max_cat_to_onehot=None,\n",
       "              max_delta_step=None, max_depth=None, max_leaves=None,\n",
       "              min_child_weight=None, missing=nan, monotone_constraints=None,\n",
       "              n_estimators=100, n_jobs=None, num_parallel_tree=None,\n",
       "              predictor=None, random_state=42, ...)</pre></div></div></div></div></div>"
      ],
      "text/plain": [
       "XGBClassifier(base_score=None, booster=None, callbacks=None,\n",
       "              colsample_bylevel=None, colsample_bynode=None,\n",
       "              colsample_bytree=None, early_stopping_rounds=None,\n",
       "              enable_categorical=False, eval_metric=None, feature_types=None,\n",
       "              gamma=None, gpu_id=None, grow_policy=None, importance_type=None,\n",
       "              interaction_constraints=None, learning_rate=None, max_bin=None,\n",
       "              max_cat_threshold=None, max_cat_to_onehot=None,\n",
       "              max_delta_step=None, max_depth=None, max_leaves=None,\n",
       "              min_child_weight=None, missing=nan, monotone_constraints=None,\n",
       "              n_estimators=100, n_jobs=None, num_parallel_tree=None,\n",
       "              predictor=None, random_state=42, ...)"
      ]
     },
     "execution_count": 35,
     "metadata": {},
     "output_type": "execute_result"
    }
   ],
   "source": [
    "# обучение бейзлайна XGBoost\n",
    "%%time\n",
    "xgb_gender = XGBClassifier(random_state=RAND, scale_pos_weight=ratio)\n",
    "eval_set = [(X_val, y_val)]\n",
    "\n",
    "xgb_gender.fit(X_train,\n",
    "               y_train,\n",
    "               eval_metric='auc',\n",
    "               eval_set=eval_set,\n",
    "               early_stopping_rounds=100,\n",
    "               verbose=0)"
   ]
  },
  {
   "cell_type": "code",
   "execution_count": 36,
   "metadata": {
    "colab": {
     "base_uri": "https://localhost:8080/"
    },
    "executionInfo": {
     "elapsed": 949,
     "status": "ok",
     "timestamp": 1680815187802,
     "user": {
      "displayName": "Гоша Сидоркин",
      "userId": "09429149278087224251"
     },
     "user_tz": -240
    },
    "id": "xZot8K8uzEGi",
    "outputId": "188deb15-a649-4364-a5e1-d421f3df731c"
   },
   "outputs": [
    {
     "name": "stdout",
     "output_type": "stream",
     "text": [
      "GINI по полу 0.641\n"
     ]
    }
   ],
   "source": [
    "# получим оценку GINI\n",
    "print(\n",
    "    f'GINI по полу {2 * m.roc_auc_score(y_test, xgb_gender.predict_proba(X_test)[:,1]) - 1:2.3f}'\n",
    ")"
   ]
  },
  {
   "cell_type": "code",
   "execution_count": 37,
   "metadata": {
    "colab": {
     "base_uri": "https://localhost:8080/"
    },
    "executionInfo": {
     "elapsed": 621,
     "status": "ok",
     "timestamp": 1680815188418,
     "user": {
      "displayName": "Гоша Сидоркин",
      "userId": "09429149278087224251"
     },
     "user_tz": -240
    },
    "id": "-T2h2D-LzMic",
    "outputId": "56634efd-53a8-4abb-d296-f4a4fcdb6467"
   },
   "outputs": [
    {
     "name": "stdout",
     "output_type": "stream",
     "text": [
      "ROC-AUC train = 0.895\n",
      "ROC-AUC test = 0.821\n",
      "delta = 9.09%\n"
     ]
    }
   ],
   "source": [
    "# проверим не переобучилась ли наша модель\n",
    "check_overfitting_classification(xgb_gender, X_train, y_train, X_test, y_test)"
   ]
  },
  {
   "cell_type": "code",
   "execution_count": 38,
   "metadata": {
    "colab": {
     "base_uri": "https://localhost:8080/",
     "height": 266
    },
    "executionInfo": {
     "elapsed": 549,
     "status": "ok",
     "timestamp": 1680815188960,
     "user": {
      "displayName": "Гоша Сидоркин",
      "userId": "09429149278087224251"
     },
     "user_tz": -240
    },
    "id": "zn1FTHuozMkt",
    "outputId": "a97b5e13-26c7-42bd-8c05-c52f0cef41b8"
   },
   "outputs": [
    {
     "data": {
      "text/html": [
       "\n",
       "  <div id=\"df-95746187-c1ae-4dc7-b384-c0ec236c0595\">\n",
       "    <div class=\"colab-df-container\">\n",
       "      <div>\n",
       "<style scoped>\n",
       "    .dataframe tbody tr th:only-of-type {\n",
       "        vertical-align: middle;\n",
       "    }\n",
       "\n",
       "    .dataframe tbody tr th {\n",
       "        vertical-align: top;\n",
       "    }\n",
       "\n",
       "    .dataframe thead th {\n",
       "        text-align: right;\n",
       "    }\n",
       "</style>\n",
       "<table border=\"1\" class=\"dataframe\">\n",
       "  <thead>\n",
       "    <tr style=\"text-align: right;\">\n",
       "      <th></th>\n",
       "      <th>model</th>\n",
       "      <th>Precision</th>\n",
       "      <th>Recall</th>\n",
       "      <th>f1</th>\n",
       "      <th>ROC_AUC</th>\n",
       "      <th>GINI</th>\n",
       "    </tr>\n",
       "  </thead>\n",
       "  <tbody>\n",
       "    <tr>\n",
       "      <th>0</th>\n",
       "      <td>LGBMBaseline</td>\n",
       "      <td>0.607814</td>\n",
       "      <td>0.564989</td>\n",
       "      <td>0.585620</td>\n",
       "      <td>0.628592</td>\n",
       "      <td>0.257185</td>\n",
       "    </tr>\n",
       "    <tr>\n",
       "      <th>1</th>\n",
       "      <td>CatBoostBaseline</td>\n",
       "      <td>0.611604</td>\n",
       "      <td>0.565913</td>\n",
       "      <td>0.587872</td>\n",
       "      <td>0.630034</td>\n",
       "      <td>0.260068</td>\n",
       "    </tr>\n",
       "    <tr>\n",
       "      <th>2</th>\n",
       "      <td>XGBoostBaseline</td>\n",
       "      <td>0.606800</td>\n",
       "      <td>0.555863</td>\n",
       "      <td>0.580216</td>\n",
       "      <td>0.623342</td>\n",
       "      <td>0.246683</td>\n",
       "    </tr>\n",
       "    <tr>\n",
       "      <th>3</th>\n",
       "      <td>RandomForestBaseline</td>\n",
       "      <td>0.584381</td>\n",
       "      <td>0.585569</td>\n",
       "      <td>0.584974</td>\n",
       "      <td>0.600485</td>\n",
       "      <td>0.200970</td>\n",
       "    </tr>\n",
       "    <tr>\n",
       "      <th>0</th>\n",
       "      <td>LGBMBaseline_embeddings</td>\n",
       "      <td>0.740106</td>\n",
       "      <td>0.719981</td>\n",
       "      <td>0.729905</td>\n",
       "      <td>0.811624</td>\n",
       "      <td>0.623249</td>\n",
       "    </tr>\n",
       "    <tr>\n",
       "      <th>0</th>\n",
       "      <td>CatBoostBaseline_embeddings</td>\n",
       "      <td>0.770574</td>\n",
       "      <td>0.748282</td>\n",
       "      <td>0.759264</td>\n",
       "      <td>0.843999</td>\n",
       "      <td>0.687998</td>\n",
       "    </tr>\n",
       "    <tr>\n",
       "      <th>0</th>\n",
       "      <td>XGBoostBaseline_embeddings</td>\n",
       "      <td>0.745593</td>\n",
       "      <td>0.728294</td>\n",
       "      <td>0.736842</td>\n",
       "      <td>0.820728</td>\n",
       "      <td>0.641457</td>\n",
       "    </tr>\n",
       "  </tbody>\n",
       "</table>\n",
       "</div>\n",
       "      <button class=\"colab-df-convert\" onclick=\"convertToInteractive('df-95746187-c1ae-4dc7-b384-c0ec236c0595')\"\n",
       "              title=\"Convert this dataframe to an interactive table.\"\n",
       "              style=\"display:none;\">\n",
       "        \n",
       "  <svg xmlns=\"http://www.w3.org/2000/svg\" height=\"24px\"viewBox=\"0 0 24 24\"\n",
       "       width=\"24px\">\n",
       "    <path d=\"M0 0h24v24H0V0z\" fill=\"none\"/>\n",
       "    <path d=\"M18.56 5.44l.94 2.06.94-2.06 2.06-.94-2.06-.94-.94-2.06-.94 2.06-2.06.94zm-11 1L8.5 8.5l.94-2.06 2.06-.94-2.06-.94L8.5 2.5l-.94 2.06-2.06.94zm10 10l.94 2.06.94-2.06 2.06-.94-2.06-.94-.94-2.06-.94 2.06-2.06.94z\"/><path d=\"M17.41 7.96l-1.37-1.37c-.4-.4-.92-.59-1.43-.59-.52 0-1.04.2-1.43.59L10.3 9.45l-7.72 7.72c-.78.78-.78 2.05 0 2.83L4 21.41c.39.39.9.59 1.41.59.51 0 1.02-.2 1.41-.59l7.78-7.78 2.81-2.81c.8-.78.8-2.07 0-2.86zM5.41 20L4 18.59l7.72-7.72 1.47 1.35L5.41 20z\"/>\n",
       "  </svg>\n",
       "      </button>\n",
       "      \n",
       "  <style>\n",
       "    .colab-df-container {\n",
       "      display:flex;\n",
       "      flex-wrap:wrap;\n",
       "      gap: 12px;\n",
       "    }\n",
       "\n",
       "    .colab-df-convert {\n",
       "      background-color: #E8F0FE;\n",
       "      border: none;\n",
       "      border-radius: 50%;\n",
       "      cursor: pointer;\n",
       "      display: none;\n",
       "      fill: #1967D2;\n",
       "      height: 32px;\n",
       "      padding: 0 0 0 0;\n",
       "      width: 32px;\n",
       "    }\n",
       "\n",
       "    .colab-df-convert:hover {\n",
       "      background-color: #E2EBFA;\n",
       "      box-shadow: 0px 1px 2px rgba(60, 64, 67, 0.3), 0px 1px 3px 1px rgba(60, 64, 67, 0.15);\n",
       "      fill: #174EA6;\n",
       "    }\n",
       "\n",
       "    [theme=dark] .colab-df-convert {\n",
       "      background-color: #3B4455;\n",
       "      fill: #D2E3FC;\n",
       "    }\n",
       "\n",
       "    [theme=dark] .colab-df-convert:hover {\n",
       "      background-color: #434B5C;\n",
       "      box-shadow: 0px 1px 3px 1px rgba(0, 0, 0, 0.15);\n",
       "      filter: drop-shadow(0px 1px 2px rgba(0, 0, 0, 0.3));\n",
       "      fill: #FFFFFF;\n",
       "    }\n",
       "  </style>\n",
       "\n",
       "      <script>\n",
       "        const buttonEl =\n",
       "          document.querySelector('#df-95746187-c1ae-4dc7-b384-c0ec236c0595 button.colab-df-convert');\n",
       "        buttonEl.style.display =\n",
       "          google.colab.kernel.accessAllowed ? 'block' : 'none';\n",
       "\n",
       "        async function convertToInteractive(key) {\n",
       "          const element = document.querySelector('#df-95746187-c1ae-4dc7-b384-c0ec236c0595');\n",
       "          const dataTable =\n",
       "            await google.colab.kernel.invokeFunction('convertToInteractive',\n",
       "                                                     [key], {});\n",
       "          if (!dataTable) return;\n",
       "\n",
       "          const docLinkHtml = 'Like what you see? Visit the ' +\n",
       "            '<a target=\"_blank\" href=https://colab.research.google.com/notebooks/data_table.ipynb>data table notebook</a>'\n",
       "            + ' to learn more about interactive tables.';\n",
       "          element.innerHTML = '';\n",
       "          dataTable['output_type'] = 'display_data';\n",
       "          await google.colab.output.renderOutput(dataTable, element);\n",
       "          const docLink = document.createElement('div');\n",
       "          docLink.innerHTML = docLinkHtml;\n",
       "          element.appendChild(docLink);\n",
       "        }\n",
       "      </script>\n",
       "    </div>\n",
       "  </div>\n",
       "  "
      ],
      "text/plain": [
       "                         model  Precision    Recall        f1   ROC_AUC  \\\n",
       "0                 LGBMBaseline   0.607814  0.564989  0.585620  0.628592   \n",
       "1             CatBoostBaseline   0.611604  0.565913  0.587872  0.630034   \n",
       "2              XGBoostBaseline   0.606800  0.555863  0.580216  0.623342   \n",
       "3         RandomForestBaseline   0.584381  0.585569  0.584974  0.600485   \n",
       "0      LGBMBaseline_embeddings   0.740106  0.719981  0.729905  0.811624   \n",
       "0  CatBoostBaseline_embeddings   0.770574  0.748282  0.759264  0.843999   \n",
       "0   XGBoostBaseline_embeddings   0.745593  0.728294  0.736842  0.820728   \n",
       "\n",
       "       GINI  \n",
       "0  0.257185  \n",
       "1  0.260068  \n",
       "2  0.246683  \n",
       "3  0.200970  \n",
       "0  0.623249  \n",
       "0  0.687998  \n",
       "0  0.641457  "
      ]
     },
     "execution_count": 38,
     "metadata": {},
     "output_type": "execute_result"
    }
   ],
   "source": [
    "# получим итоговые метрики на тестовых данных\n",
    "y_pred_test = xgb_gender.predict(X_test)\n",
    "y_score_test = xgb_gender.predict_proba(X_test)\n",
    "\n",
    "metrics_gender = metrics_gender.append(\n",
    "    get_metrics_classification(y_test,\n",
    "                               y_pred_test,\n",
    "                               y_score_test,\n",
    "                               name='XGBoostBaseline_embeddings'))\n",
    "metrics_gender"
   ]
  },
  {
   "cell_type": "markdown",
   "metadata": {
    "id": "sm7ZWDjDNh41"
   },
   "source": [
    "Вывод: самые высокие метрики у catboost с эмбеддингами"
   ]
  },
  {
   "cell_type": "code",
   "execution_count": 39,
   "metadata": {
    "executionInfo": {
     "elapsed": 734,
     "status": "ok",
     "timestamp": 1680816005129,
     "user": {
      "displayName": "Гоша Сидоркин",
      "userId": "09429149278087224251"
     },
     "user_tz": -240
    },
    "id": "bhMlcqbTZfhR"
   },
   "outputs": [],
   "source": [
    "# сохраним метрики, чтобы в дальнейшем сравнивать их с моделями на тюнинге\n",
    "metrics_gender.to_csv('metrics/metrics_gender_embeddings.csv', index=False)"
   ]
  },
  {
   "cell_type": "markdown",
   "metadata": {
    "id": "9EyfqMjJN66o"
   },
   "source": [
    "# Baseline age prediction with embeddings"
   ]
  },
  {
   "cell_type": "code",
   "execution_count": 20,
   "metadata": {
    "executionInfo": {
     "elapsed": 3,
     "status": "ok",
     "timestamp": 1680948664019,
     "user": {
      "displayName": "Гоша Сидоркин",
      "userId": "09429149278087224251"
     },
     "user_tz": -240
    },
    "id": "AmMaax-0Oaha"
   },
   "outputs": [],
   "source": [
    "def age_bucket(x):\n",
    "    \"\"\"Функция для создания бакетов по возрасту\"\"\"\n",
    "    return bisect.bisect_left([18, 25, 35, 45, 55, 65], x)"
   ]
  },
  {
   "cell_type": "markdown",
   "metadata": {
    "id": "s5_LU2MTSAdf"
   },
   "source": [
    "## LGBM"
   ]
  },
  {
   "cell_type": "code",
   "execution_count": 21,
   "metadata": {
    "colab": {
     "base_uri": "https://localhost:8080/",
     "height": 449
    },
    "executionInfo": {
     "elapsed": 5457,
     "status": "ok",
     "timestamp": 1680948672034,
     "user": {
      "displayName": "Гоша Сидоркин",
      "userId": "09429149278087224251"
     },
     "user_tz": -240
    },
    "id": "6khH6xszOiDU",
    "outputId": "8f371df0-a87b-4bc5-85f8-f8fc614ab273"
   },
   "outputs": [
    {
     "data": {
      "image/png": "[encoded data removed]",
      "text/plain": [
       "<Figure size 640x480 with 1 Axes>"
      ]
     },
     "metadata": {},
     "output_type": "display_data"
    }
   ],
   "source": [
    "df_trn = targets.merge(df, how='inner', on=['user_id']) \\\n",
    "    .merge(url_emb, how='inner', on='user_id') \\\n",
    "    .merge(model_emb, how='inner', on=['user_id']) \\\n",
    "    .merge(reg_emb, how='inner', on=['user_id']) \\\n",
    "    .merge(city_emb, how='inner', on=['user_id'])\n",
    "\n",
    "# удаляем пропущенные значения\n",
    "df_trn = df_trn[df_trn['age'] != 'NA']\n",
    "df_trn = df_trn.dropna()\n",
    "\n",
    "# создаем бакеты по возрасту\n",
    "df_trn['age'] = df_trn['age'].map(age_bucket)\n",
    "sns.histplot(df_trn['age'], bins=7);"
   ]
  },
  {
   "cell_type": "code",
   "execution_count": 22,
   "metadata": {
    "executionInfo": {
     "elapsed": 702,
     "status": "ok",
     "timestamp": 1680948674648,
     "user": {
      "displayName": "Гоша Сидоркин",
      "userId": "09429149278087224251"
     },
     "user_tz": -240
    },
    "id": "522vj_ZAWXN7"
   },
   "outputs": [],
   "source": [
    "# по условиям соревнования в тестовых данных нет людей младше 19 лет\n",
    "# поэтому можем удалить бакет 0\n",
    "df_trn = df_trn.query('age > 0')"
   ]
  },
  {
   "cell_type": "code",
   "execution_count": 23,
   "metadata": {
    "executionInfo": {
     "elapsed": 1624,
     "status": "ok",
     "timestamp": 1680948682170,
     "user": {
      "displayName": "Гоша Сидоркин",
      "userId": "09429149278087224251"
     },
     "user_tz": -240
    },
    "id": "8e98kO2GPmbm"
   },
   "outputs": [],
   "source": [
    "# разбивка данных на train/validation/test\n",
    "X = df_trn.drop(['age', 'is_male', 'user_id'], axis=1)\n",
    "y = df_trn['age']\n",
    "\n",
    "X_train, X_test, y_train, y_test = train_test_split(X,\n",
    "                                                    y,\n",
    "                                                    test_size=0.2,\n",
    "                                                    shuffle=True,\n",
    "                                                    stratify=y,\n",
    "                                                    random_state=RAND)\n",
    "\n",
    "X_train_, X_val, y_train_, y_val = train_test_split(X_train,\n",
    "                                                    y_train,\n",
    "                                                    test_size=0.16,\n",
    "                                                    shuffle=True,\n",
    "                                                    stratify=y_train,\n",
    "                                                    random_state=RAND)\n",
    "\n",
    "n_classes = len(set(y))\n",
    "y_train_bin = label_binarize(y_train, classes=list(set(y)))\n",
    "y_test_bin = label_binarize(y_test, classes=list(set(y)))"
   ]
  },
  {
   "cell_type": "code",
   "execution_count": 24,
   "metadata": {
    "colab": {
     "base_uri": "https://localhost:8080/",
     "height": 108
    },
    "executionInfo": {
     "elapsed": 123643,
     "status": "ok",
     "timestamp": 1680948808296,
     "user": {
      "displayName": "Гоша Сидоркин",
      "userId": "09429149278087224251"
     },
     "user_tz": -240
    },
    "id": "ukmjLewnRZtV",
    "outputId": "6c4e851b-29e9-4adf-fda9-ebccfe8be0e5"
   },
   "outputs": [
    {
     "name": "stdout",
     "output_type": "stream",
     "text": [
      "CPU times: user 7min 23s, sys: 1.48 s, total: 7min 25s\n",
      "Wall time: 2min 3s\n"
     ]
    },
    {
     "data": {
      "text/html": [
       "<style>#sk-container-id-1 {color: black;background-color: white;}#sk-container-id-1 pre{padding: 0;}#sk-container-id-1 div.sk-toggleable {background-color: white;}#sk-container-id-1 label.sk-toggleable__label {cursor: pointer;display: block;width: 100%;margin-bottom: 0;padding: 0.3em;box-sizing: border-box;text-align: center;}#sk-container-id-1 label.sk-toggleable__label-arrow:before {content: \"▸\";float: left;margin-right: 0.25em;color: #696969;}#sk-container-id-1 label.sk-toggleable__label-arrow:hover:before {color: black;}#sk-container-id-1 div.sk-estimator:hover label.sk-toggleable__label-arrow:before {color: black;}#sk-container-id-1 div.sk-toggleable__content {max-height: 0;max-width: 0;overflow: hidden;text-align: left;background-color: #f0f8ff;}#sk-container-id-1 div.sk-toggleable__content pre {margin: 0.2em;color: black;border-radius: 0.25em;background-color: #f0f8ff;}#sk-container-id-1 input.sk-toggleable__control:checked~div.sk-toggleable__content {max-height: 200px;max-width: 100%;overflow: auto;}#sk-container-id-1 input.sk-toggleable__control:checked~label.sk-toggleable__label-arrow:before {content: \"▾\";}#sk-container-id-1 div.sk-estimator input.sk-toggleable__control:checked~label.sk-toggleable__label {background-color: #d4ebff;}#sk-container-id-1 div.sk-label input.sk-toggleable__control:checked~label.sk-toggleable__label {background-color: #d4ebff;}#sk-container-id-1 input.sk-hidden--visually {border: 0;clip: rect(1px 1px 1px 1px);clip: rect(1px, 1px, 1px, 1px);height: 1px;margin: -1px;overflow: hidden;padding: 0;position: absolute;width: 1px;}#sk-container-id-1 div.sk-estimator {font-family: monospace;background-color: #f0f8ff;border: 1px dotted black;border-radius: 0.25em;box-sizing: border-box;margin-bottom: 0.5em;}#sk-container-id-1 div.sk-estimator:hover {background-color: #d4ebff;}#sk-container-id-1 div.sk-parallel-item::after {content: \"\";width: 100%;border-bottom: 1px solid gray;flex-grow: 1;}#sk-container-id-1 div.sk-label:hover label.sk-toggleable__label {background-color: #d4ebff;}#sk-container-id-1 div.sk-serial::before {content: \"\";position: absolute;border-left: 1px solid gray;box-sizing: border-box;top: 0;bottom: 0;left: 50%;z-index: 0;}#sk-container-id-1 div.sk-serial {display: flex;flex-direction: column;align-items: center;background-color: white;padding-right: 0.2em;padding-left: 0.2em;position: relative;}#sk-container-id-1 div.sk-item {position: relative;z-index: 1;}#sk-container-id-1 div.sk-parallel {display: flex;align-items: stretch;justify-content: center;background-color: white;position: relative;}#sk-container-id-1 div.sk-item::before, #sk-container-id-1 div.sk-parallel-item::before {content: \"\";position: absolute;border-left: 1px solid gray;box-sizing: border-box;top: 0;bottom: 0;left: 50%;z-index: -1;}#sk-container-id-1 div.sk-parallel-item {display: flex;flex-direction: column;z-index: 1;position: relative;background-color: white;}#sk-container-id-1 div.sk-parallel-item:first-child::after {align-self: flex-end;width: 50%;}#sk-container-id-1 div.sk-parallel-item:last-child::after {align-self: flex-start;width: 50%;}#sk-container-id-1 div.sk-parallel-item:only-child::after {width: 0;}#sk-container-id-1 div.sk-dashed-wrapped {border: 1px dashed gray;margin: 0 0.4em 0.5em 0.4em;box-sizing: border-box;padding-bottom: 0.4em;background-color: white;}#sk-container-id-1 div.sk-label label {font-family: monospace;font-weight: bold;display: inline-block;line-height: 1.2em;}#sk-container-id-1 div.sk-label-container {text-align: center;}#sk-container-id-1 div.sk-container {/* jupyter's `normalize.less` sets `[hidden] { display: none; }` but bootstrap.min.css set `[hidden] { display: none !important; }` so we also need the `!important` here to be able to override the default hidden behavior on the sphinx rendered scikit-learn.org. See: https://github.com/scikit-learn/scikit-learn/issues/21755 */display: inline-block !important;position: relative;}#sk-container-id-1 div.sk-text-repr-fallback {display: none;}</style><div id=\"sk-container-id-1\" class=\"sk-top-container\"><div class=\"sk-text-repr-fallback\"><pre>LGBMClassifier(class_weight=&#x27;balanced&#x27;, objective=&#x27;multiclass&#x27;, random_state=42)</pre><b>In a Jupyter environment, please rerun this cell to show the HTML representation or trust the notebook. <br />On GitHub, the HTML representation is unable to render, please try loading this page with nbviewer.org.</b></div><div class=\"sk-container\" hidden><div class=\"sk-item\"><div class=\"sk-estimator sk-toggleable\"><input class=\"sk-toggleable__control sk-hidden--visually\" id=\"sk-estimator-id-1\" type=\"checkbox\" checked><label for=\"sk-estimator-id-1\" class=\"sk-toggleable__label sk-toggleable__label-arrow\">LGBMClassifier</label><div class=\"sk-toggleable__content\"><pre>LGBMClassifier(class_weight=&#x27;balanced&#x27;, objective=&#x27;multiclass&#x27;, random_state=42)</pre></div></div></div></div></div>"
      ],
      "text/plain": [
       "LGBMClassifier(class_weight='balanced', objective='multiclass', random_state=42)"
      ]
     },
     "execution_count": 24,
     "metadata": {},
     "output_type": "execute_result"
    }
   ],
   "source": [
    "# обучение бейзлайна LightGBM\n",
    "%%time\n",
    "lgbm_age = LGBMClassifier(random_state=RAND,\n",
    "                          class_weight='balanced',\n",
    "                          objective='multiclass')\n",
    "eval_set = [(X_val, y_val)]\n",
    "\n",
    "lgbm_age.fit(X_train_,\n",
    "             y_train_,\n",
    "             eval_set=eval_set,\n",
    "             early_stopping_rounds=100,\n",
    "             verbose=False)"
   ]
  },
  {
   "cell_type": "code",
   "execution_count": 25,
   "metadata": {
    "colab": {
     "base_uri": "https://localhost:8080/"
    },
    "executionInfo": {
     "elapsed": 6163,
     "status": "ok",
     "timestamp": 1680949028803,
     "user": {
      "displayName": "Гоша Сидоркин",
      "userId": "09429149278087224251"
     },
     "user_tz": -240
    },
    "id": "mHLblBKWRZwf",
    "outputId": "93903d81-325b-4124-ceca-6606f9210f02"
   },
   "outputs": [
    {
     "name": "stdout",
     "output_type": "stream",
     "text": [
      "f1-weighted train = 0.443\n",
      "f1-weighted test = 0.356\n",
      "delta = 24.63%\n"
     ]
    }
   ],
   "source": [
    "# проверим модель на переобучение\n",
    "check_overfitting_multiclass(lgbm_age, X_train, y_train, X_test, y_test)"
   ]
  },
  {
   "cell_type": "code",
   "execution_count": 26,
   "metadata": {
    "colab": {
     "base_uri": "https://localhost:8080/"
    },
    "executionInfo": {
     "elapsed": 1456,
     "status": "ok",
     "timestamp": 1680949035609,
     "user": {
      "displayName": "Гоша Сидоркин",
      "userId": "09429149278087224251"
     },
     "user_tz": -240
    },
    "id": "4dOnqoBgRZ13",
    "outputId": "f8ef6764-84fe-4704-b5b9-d67f667dfbae"
   },
   "outputs": [
    {
     "name": "stdout",
     "output_type": "stream",
     "text": [
      "              precision    recall  f1-score   support\n",
      "\n",
      "       19-25       0.35      0.66      0.46      6528\n",
      "       26-35       0.50      0.35      0.41     17454\n",
      "       36-45       0.43      0.28      0.34     15497\n",
      "       46-55       0.30      0.23      0.26      8489\n",
      "       56-65       0.22      0.36      0.28      4716\n",
      "         66+       0.08      0.39      0.13      1101\n",
      "\n",
      "    accuracy                           0.35     53785\n",
      "   macro avg       0.32      0.38      0.31     53785\n",
      "weighted avg       0.40      0.35      0.36     53785\n",
      "\n"
     ]
    }
   ],
   "source": [
    "print(\n",
    "    m.classification_report(\n",
    "        y_test,\n",
    "        lgbm_age.predict(X_test),\n",
    "        target_names=['19-25', '26-35', '36-45', '46-55', '56-65', '66+']))"
   ]
  },
  {
   "cell_type": "code",
   "execution_count": 27,
   "metadata": {
    "colab": {
     "base_uri": "https://localhost:8080/",
     "height": 237
    },
    "executionInfo": {
     "elapsed": 2853,
     "status": "ok",
     "timestamp": 1680949040820,
     "user": {
      "displayName": "Гоша Сидоркин",
      "userId": "09429149278087224251"
     },
     "user_tz": -240
    },
    "id": "Qc8g6KVDRZx-",
    "outputId": "365175d3-6853-413b-e00e-368d2abf82bc"
   },
   "outputs": [
    {
     "data": {
      "text/html": [
       "\n",
       "  <div id=\"df-edb84823-903b-4944-b10d-8b43934ede81\">\n",
       "    <div class=\"colab-df-container\">\n",
       "      <div>\n",
       "<style scoped>\n",
       "    .dataframe tbody tr th:only-of-type {\n",
       "        vertical-align: middle;\n",
       "    }\n",
       "\n",
       "    .dataframe tbody tr th {\n",
       "        vertical-align: top;\n",
       "    }\n",
       "\n",
       "    .dataframe thead th {\n",
       "        text-align: right;\n",
       "    }\n",
       "</style>\n",
       "<table border=\"1\" class=\"dataframe\">\n",
       "  <thead>\n",
       "    <tr style=\"text-align: right;\">\n",
       "      <th></th>\n",
       "      <th>model</th>\n",
       "      <th>ROC_AUC</th>\n",
       "      <th>Precision_micro</th>\n",
       "      <th>Precision_macro</th>\n",
       "      <th>Recall_micro</th>\n",
       "      <th>Recall_macro</th>\n",
       "      <th>F1_micro</th>\n",
       "      <th>F1_macro</th>\n",
       "      <th>F1_weighted</th>\n",
       "      <th>Logloss</th>\n",
       "    </tr>\n",
       "  </thead>\n",
       "  <tbody>\n",
       "    <tr>\n",
       "      <th>0</th>\n",
       "      <td>LGBM_Baseline</td>\n",
       "      <td>0.663449</td>\n",
       "      <td>0.239119</td>\n",
       "      <td>0.237250</td>\n",
       "      <td>0.239119</td>\n",
       "      <td>0.292757</td>\n",
       "      <td>0.239119</td>\n",
       "      <td>0.218909</td>\n",
       "      <td>0.246096</td>\n",
       "      <td>1.660580</td>\n",
       "    </tr>\n",
       "    <tr>\n",
       "      <th>1</th>\n",
       "      <td>CatBoost_Baseline</td>\n",
       "      <td>0.675669</td>\n",
       "      <td>0.365381</td>\n",
       "      <td>0.320267</td>\n",
       "      <td>0.365381</td>\n",
       "      <td>0.224303</td>\n",
       "      <td>0.365381</td>\n",
       "      <td>0.216226</td>\n",
       "      <td>0.321252</td>\n",
       "      <td>1.463261</td>\n",
       "    </tr>\n",
       "    <tr>\n",
       "      <th>2</th>\n",
       "      <td>RandomForest_Baseline</td>\n",
       "      <td>0.634683</td>\n",
       "      <td>0.347439</td>\n",
       "      <td>0.262835</td>\n",
       "      <td>0.347439</td>\n",
       "      <td>0.211312</td>\n",
       "      <td>0.347439</td>\n",
       "      <td>0.201186</td>\n",
       "      <td>0.303809</td>\n",
       "      <td>1.712283</td>\n",
       "    </tr>\n",
       "    <tr>\n",
       "      <th>0</th>\n",
       "      <td>LGBM_Baseline_embeddings</td>\n",
       "      <td>0.754989</td>\n",
       "      <td>0.350395</td>\n",
       "      <td>0.315773</td>\n",
       "      <td>0.350395</td>\n",
       "      <td>0.379041</td>\n",
       "      <td>0.350395</td>\n",
       "      <td>0.314327</td>\n",
       "      <td>0.355704</td>\n",
       "      <td>1.466697</td>\n",
       "    </tr>\n",
       "  </tbody>\n",
       "</table>\n",
       "</div>\n",
       "      <button class=\"colab-df-convert\" onclick=\"convertToInteractive('df-edb84823-903b-4944-b10d-8b43934ede81')\"\n",
       "              title=\"Convert this dataframe to an interactive table.\"\n",
       "              style=\"display:none;\">\n",
       "        \n",
       "  <svg xmlns=\"http://www.w3.org/2000/svg\" height=\"24px\"viewBox=\"0 0 24 24\"\n",
       "       width=\"24px\">\n",
       "    <path d=\"M0 0h24v24H0V0z\" fill=\"none\"/>\n",
       "    <path d=\"M18.56 5.44l.94 2.06.94-2.06 2.06-.94-2.06-.94-.94-2.06-.94 2.06-2.06.94zm-11 1L8.5 8.5l.94-2.06 2.06-.94-2.06-.94L8.5 2.5l-.94 2.06-2.06.94zm10 10l.94 2.06.94-2.06 2.06-.94-2.06-.94-.94-2.06-.94 2.06-2.06.94z\"/><path d=\"M17.41 7.96l-1.37-1.37c-.4-.4-.92-.59-1.43-.59-.52 0-1.04.2-1.43.59L10.3 9.45l-7.72 7.72c-.78.78-.78 2.05 0 2.83L4 21.41c.39.39.9.59 1.41.59.51 0 1.02-.2 1.41-.59l7.78-7.78 2.81-2.81c.8-.78.8-2.07 0-2.86zM5.41 20L4 18.59l7.72-7.72 1.47 1.35L5.41 20z\"/>\n",
       "  </svg>\n",
       "      </button>\n",
       "      \n",
       "  <style>\n",
       "    .colab-df-container {\n",
       "      display:flex;\n",
       "      flex-wrap:wrap;\n",
       "      gap: 12px;\n",
       "    }\n",
       "\n",
       "    .colab-df-convert {\n",
       "      background-color: #E8F0FE;\n",
       "      border: none;\n",
       "      border-radius: 50%;\n",
       "      cursor: pointer;\n",
       "      display: none;\n",
       "      fill: #1967D2;\n",
       "      height: 32px;\n",
       "      padding: 0 0 0 0;\n",
       "      width: 32px;\n",
       "    }\n",
       "\n",
       "    .colab-df-convert:hover {\n",
       "      background-color: #E2EBFA;\n",
       "      box-shadow: 0px 1px 2px rgba(60, 64, 67, 0.3), 0px 1px 3px 1px rgba(60, 64, 67, 0.15);\n",
       "      fill: #174EA6;\n",
       "    }\n",
       "\n",
       "    [theme=dark] .colab-df-convert {\n",
       "      background-color: #3B4455;\n",
       "      fill: #D2E3FC;\n",
       "    }\n",
       "\n",
       "    [theme=dark] .colab-df-convert:hover {\n",
       "      background-color: #434B5C;\n",
       "      box-shadow: 0px 1px 3px 1px rgba(0, 0, 0, 0.15);\n",
       "      filter: drop-shadow(0px 1px 2px rgba(0, 0, 0, 0.3));\n",
       "      fill: #FFFFFF;\n",
       "    }\n",
       "  </style>\n",
       "\n",
       "      <script>\n",
       "        const buttonEl =\n",
       "          document.querySelector('#df-edb84823-903b-4944-b10d-8b43934ede81 button.colab-df-convert');\n",
       "        buttonEl.style.display =\n",
       "          google.colab.kernel.accessAllowed ? 'block' : 'none';\n",
       "\n",
       "        async function convertToInteractive(key) {\n",
       "          const element = document.querySelector('#df-edb84823-903b-4944-b10d-8b43934ede81');\n",
       "          const dataTable =\n",
       "            await google.colab.kernel.invokeFunction('convertToInteractive',\n",
       "                                                     [key], {});\n",
       "          if (!dataTable) return;\n",
       "\n",
       "          const docLinkHtml = 'Like what you see? Visit the ' +\n",
       "            '<a target=\"_blank\" href=https://colab.research.google.com/notebooks/data_table.ipynb>data table notebook</a>'\n",
       "            + ' to learn more about interactive tables.';\n",
       "          element.innerHTML = '';\n",
       "          dataTable['output_type'] = 'display_data';\n",
       "          await google.colab.output.renderOutput(dataTable, element);\n",
       "          const docLink = document.createElement('div');\n",
       "          docLink.innerHTML = docLinkHtml;\n",
       "          element.appendChild(docLink);\n",
       "        }\n",
       "      </script>\n",
       "    </div>\n",
       "  </div>\n",
       "  "
      ],
      "text/plain": [
       "                      model   ROC_AUC  Precision_micro  Precision_macro  \\\n",
       "0             LGBM_Baseline  0.663449         0.239119         0.237250   \n",
       "1         CatBoost_Baseline  0.675669         0.365381         0.320267   \n",
       "2     RandomForest_Baseline  0.634683         0.347439         0.262835   \n",
       "0  LGBM_Baseline_embeddings  0.754989         0.350395         0.315773   \n",
       "\n",
       "   Recall_micro  Recall_macro  F1_micro  F1_macro  F1_weighted   Logloss  \n",
       "0      0.239119      0.292757  0.239119  0.218909     0.246096  1.660580  \n",
       "1      0.365381      0.224303  0.365381  0.216226     0.321252  1.463261  \n",
       "2      0.347439      0.211312  0.347439  0.201186     0.303809  1.712283  \n",
       "0      0.350395      0.379041  0.350395  0.314327     0.355704  1.466697  "
      ]
     },
     "execution_count": 27,
     "metadata": {},
     "output_type": "execute_result"
    }
   ],
   "source": [
    "# получим итоговые метрики на тестовых данных\n",
    "y_pred = lgbm_age.predict(X_test)\n",
    "y_score = lgbm_age.predict_proba(X_test)\n",
    "\n",
    "metrics_age = metrics_age_baseline.append(\n",
    "    get_metrics_multiclass(y_test_bin=y_test_bin,\n",
    "                           y_test=y_test,\n",
    "                           y_pred=y_pred,\n",
    "                           y_prob=y_score,\n",
    "                           name='LGBM_Baseline_embeddings',\n",
    "                           type_multi='ovo'))\n",
    "metrics_age"
   ]
  },
  {
   "cell_type": "markdown",
   "metadata": {
    "id": "JJuJt6IUVQYM"
   },
   "source": [
    "## Catboost"
   ]
  },
  {
   "cell_type": "code",
   "execution_count": 28,
   "metadata": {
    "colab": {
     "base_uri": "https://localhost:8080/"
    },
    "executionInfo": {
     "elapsed": 1654433,
     "status": "ok",
     "timestamp": 1680950709206,
     "user": {
      "displayName": "Гоша Сидоркин",
      "userId": "09429149278087224251"
     },
     "user_tz": -240
    },
    "id": "cUvKrAGIVSCg",
    "outputId": "6ac20c46-6912-4026-c1fc-e47e6af8d65e"
   },
   "outputs": [
    {
     "name": "stdout",
     "output_type": "stream",
     "text": [
      "CPU times: user 1h 36min 23s, sys: 2min 33s, total: 1h 38min 57s\n",
      "Wall time: 27min 33s\n"
     ]
    },
    {
     "data": {
      "text/plain": [
       "<catboost.core.CatBoostClassifier at 0x7ff0fab44dc0>"
      ]
     },
     "execution_count": 28,
     "metadata": {},
     "output_type": "execute_result"
    }
   ],
   "source": [
    "# обучение бейзлайна CatBoost\n",
    "%%time\n",
    "cat_features = X.select_dtypes('category').columns.tolist()\n",
    "cat_age = CatBoostClassifier(allow_writing_files=False,\n",
    "                             cat_features=cat_features,\n",
    "                             random_state=RAND)\n",
    "eval_set = [(X_val, y_val)]\n",
    "\n",
    "cat_age.fit(X_train,\n",
    "            y_train,\n",
    "            eval_set=eval_set,\n",
    "            early_stopping_rounds=100,\n",
    "            verbose=False)"
   ]
  },
  {
   "cell_type": "code",
   "execution_count": 29,
   "metadata": {
    "colab": {
     "base_uri": "https://localhost:8080/"
    },
    "executionInfo": {
     "elapsed": 1634,
     "status": "ok",
     "timestamp": 1680950755951,
     "user": {
      "displayName": "Гоша Сидоркин",
      "userId": "09429149278087224251"
     },
     "user_tz": -240
    },
    "id": "1RHlwGu5VSnK",
    "outputId": "24a6f2b4-7cb1-4463-e492-783dd7fe4de2"
   },
   "outputs": [
    {
     "name": "stdout",
     "output_type": "stream",
     "text": [
      "f1-weighted train = 0.526\n",
      "f1-weighted test = 0.426\n",
      "delta = 23.61%\n"
     ]
    }
   ],
   "source": [
    "# проверим модель на переобучение\n",
    "check_overfitting_multiclass(cat_age, X_train, y_train, X_test, y_test)"
   ]
  },
  {
   "cell_type": "code",
   "execution_count": 30,
   "metadata": {
    "colab": {
     "base_uri": "https://localhost:8080/"
    },
    "executionInfo": {
     "elapsed": 708,
     "status": "ok",
     "timestamp": 1680950761335,
     "user": {
      "displayName": "Гоша Сидоркин",
      "userId": "09429149278087224251"
     },
     "user_tz": -240
    },
    "id": "04ViWeWxVSpd",
    "outputId": "88013347-eff7-4fca-a599-2e54e46f845d"
   },
   "outputs": [
    {
     "name": "stdout",
     "output_type": "stream",
     "text": [
      "              precision    recall  f1-score   support\n",
      "\n",
      "       19-25       0.53      0.32      0.40      6528\n",
      "       26-35       0.49      0.63      0.55     17454\n",
      "       36-45       0.40      0.52      0.45     15497\n",
      "       46-55       0.39      0.23      0.28      8489\n",
      "       56-65       0.40      0.20      0.27      4716\n",
      "         66+       0.42      0.02      0.04      1101\n",
      "\n",
      "    accuracy                           0.45     53785\n",
      "   macro avg       0.44      0.32      0.33     53785\n",
      "weighted avg       0.44      0.45      0.43     53785\n",
      "\n"
     ]
    }
   ],
   "source": [
    "print(\n",
    "    m.classification_report(\n",
    "        y_test,\n",
    "        cat_age.predict(X_test),\n",
    "        target_names=['19-25', '26-35', '36-45', '46-55', '56-65', '66+']))"
   ]
  },
  {
   "cell_type": "code",
   "execution_count": 31,
   "metadata": {
    "colab": {
     "base_uri": "https://localhost:8080/",
     "height": 268
    },
    "executionInfo": {
     "elapsed": 1342,
     "status": "ok",
     "timestamp": 1680950898504,
     "user": {
      "displayName": "Гоша Сидоркин",
      "userId": "09429149278087224251"
     },
     "user_tz": -240
    },
    "id": "Vz49ssYzVSrj",
    "outputId": "7c89ef4e-77b1-4218-bd3b-8907eb336b70"
   },
   "outputs": [
    {
     "data": {
      "text/html": [
       "\n",
       "  <div id=\"df-dfbfad92-932f-4367-9ef6-90c5a80fafeb\">\n",
       "    <div class=\"colab-df-container\">\n",
       "      <div>\n",
       "<style scoped>\n",
       "    .dataframe tbody tr th:only-of-type {\n",
       "        vertical-align: middle;\n",
       "    }\n",
       "\n",
       "    .dataframe tbody tr th {\n",
       "        vertical-align: top;\n",
       "    }\n",
       "\n",
       "    .dataframe thead th {\n",
       "        text-align: right;\n",
       "    }\n",
       "</style>\n",
       "<table border=\"1\" class=\"dataframe\">\n",
       "  <thead>\n",
       "    <tr style=\"text-align: right;\">\n",
       "      <th></th>\n",
       "      <th>model</th>\n",
       "      <th>ROC_AUC</th>\n",
       "      <th>Precision_micro</th>\n",
       "      <th>Precision_macro</th>\n",
       "      <th>Recall_micro</th>\n",
       "      <th>Recall_macro</th>\n",
       "      <th>F1_micro</th>\n",
       "      <th>F1_macro</th>\n",
       "      <th>F1_weighted</th>\n",
       "      <th>Logloss</th>\n",
       "    </tr>\n",
       "  </thead>\n",
       "  <tbody>\n",
       "    <tr>\n",
       "      <th>0</th>\n",
       "      <td>LGBM_Baseline</td>\n",
       "      <td>0.663449</td>\n",
       "      <td>0.239119</td>\n",
       "      <td>0.237250</td>\n",
       "      <td>0.239119</td>\n",
       "      <td>0.292757</td>\n",
       "      <td>0.239119</td>\n",
       "      <td>0.218909</td>\n",
       "      <td>0.246096</td>\n",
       "      <td>1.660580</td>\n",
       "    </tr>\n",
       "    <tr>\n",
       "      <th>1</th>\n",
       "      <td>CatBoost_Baseline</td>\n",
       "      <td>0.675669</td>\n",
       "      <td>0.365381</td>\n",
       "      <td>0.320267</td>\n",
       "      <td>0.365381</td>\n",
       "      <td>0.224303</td>\n",
       "      <td>0.365381</td>\n",
       "      <td>0.216226</td>\n",
       "      <td>0.321252</td>\n",
       "      <td>1.463261</td>\n",
       "    </tr>\n",
       "    <tr>\n",
       "      <th>2</th>\n",
       "      <td>RandomForest_Baseline</td>\n",
       "      <td>0.634683</td>\n",
       "      <td>0.347439</td>\n",
       "      <td>0.262835</td>\n",
       "      <td>0.347439</td>\n",
       "      <td>0.211312</td>\n",
       "      <td>0.347439</td>\n",
       "      <td>0.201186</td>\n",
       "      <td>0.303809</td>\n",
       "      <td>1.712283</td>\n",
       "    </tr>\n",
       "    <tr>\n",
       "      <th>0</th>\n",
       "      <td>LGBM_Baseline_embeddings</td>\n",
       "      <td>0.754989</td>\n",
       "      <td>0.350395</td>\n",
       "      <td>0.315773</td>\n",
       "      <td>0.350395</td>\n",
       "      <td>0.379041</td>\n",
       "      <td>0.350395</td>\n",
       "      <td>0.314327</td>\n",
       "      <td>0.355704</td>\n",
       "      <td>1.466697</td>\n",
       "    </tr>\n",
       "    <tr>\n",
       "      <th>0</th>\n",
       "      <td>CatBoost_Baseline_embeddings</td>\n",
       "      <td>0.779631</td>\n",
       "      <td>0.445366</td>\n",
       "      <td>0.437807</td>\n",
       "      <td>0.445366</td>\n",
       "      <td>0.318597</td>\n",
       "      <td>0.445366</td>\n",
       "      <td>0.332238</td>\n",
       "      <td>0.425856</td>\n",
       "      <td>1.282605</td>\n",
       "    </tr>\n",
       "  </tbody>\n",
       "</table>\n",
       "</div>\n",
       "      <button class=\"colab-df-convert\" onclick=\"convertToInteractive('df-dfbfad92-932f-4367-9ef6-90c5a80fafeb')\"\n",
       "              title=\"Convert this dataframe to an interactive table.\"\n",
       "              style=\"display:none;\">\n",
       "        \n",
       "  <svg xmlns=\"http://www.w3.org/2000/svg\" height=\"24px\"viewBox=\"0 0 24 24\"\n",
       "       width=\"24px\">\n",
       "    <path d=\"M0 0h24v24H0V0z\" fill=\"none\"/>\n",
       "    <path d=\"M18.56 5.44l.94 2.06.94-2.06 2.06-.94-2.06-.94-.94-2.06-.94 2.06-2.06.94zm-11 1L8.5 8.5l.94-2.06 2.06-.94-2.06-.94L8.5 2.5l-.94 2.06-2.06.94zm10 10l.94 2.06.94-2.06 2.06-.94-2.06-.94-.94-2.06-.94 2.06-2.06.94z\"/><path d=\"M17.41 7.96l-1.37-1.37c-.4-.4-.92-.59-1.43-.59-.52 0-1.04.2-1.43.59L10.3 9.45l-7.72 7.72c-.78.78-.78 2.05 0 2.83L4 21.41c.39.39.9.59 1.41.59.51 0 1.02-.2 1.41-.59l7.78-7.78 2.81-2.81c.8-.78.8-2.07 0-2.86zM5.41 20L4 18.59l7.72-7.72 1.47 1.35L5.41 20z\"/>\n",
       "  </svg>\n",
       "      </button>\n",
       "      \n",
       "  <style>\n",
       "    .colab-df-container {\n",
       "      display:flex;\n",
       "      flex-wrap:wrap;\n",
       "      gap: 12px;\n",
       "    }\n",
       "\n",
       "    .colab-df-convert {\n",
       "      background-color: #E8F0FE;\n",
       "      border: none;\n",
       "      border-radius: 50%;\n",
       "      cursor: pointer;\n",
       "      display: none;\n",
       "      fill: #1967D2;\n",
       "      height: 32px;\n",
       "      padding: 0 0 0 0;\n",
       "      width: 32px;\n",
       "    }\n",
       "\n",
       "    .colab-df-convert:hover {\n",
       "      background-color: #E2EBFA;\n",
       "      box-shadow: 0px 1px 2px rgba(60, 64, 67, 0.3), 0px 1px 3px 1px rgba(60, 64, 67, 0.15);\n",
       "      fill: #174EA6;\n",
       "    }\n",
       "\n",
       "    [theme=dark] .colab-df-convert {\n",
       "      background-color: #3B4455;\n",
       "      fill: #D2E3FC;\n",
       "    }\n",
       "\n",
       "    [theme=dark] .colab-df-convert:hover {\n",
       "      background-color: #434B5C;\n",
       "      box-shadow: 0px 1px 3px 1px rgba(0, 0, 0, 0.15);\n",
       "      filter: drop-shadow(0px 1px 2px rgba(0, 0, 0, 0.3));\n",
       "      fill: #FFFFFF;\n",
       "    }\n",
       "  </style>\n",
       "\n",
       "      <script>\n",
       "        const buttonEl =\n",
       "          document.querySelector('#df-dfbfad92-932f-4367-9ef6-90c5a80fafeb button.colab-df-convert');\n",
       "        buttonEl.style.display =\n",
       "          google.colab.kernel.accessAllowed ? 'block' : 'none';\n",
       "\n",
       "        async function convertToInteractive(key) {\n",
       "          const element = document.querySelector('#df-dfbfad92-932f-4367-9ef6-90c5a80fafeb');\n",
       "          const dataTable =\n",
       "            await google.colab.kernel.invokeFunction('convertToInteractive',\n",
       "                                                     [key], {});\n",
       "          if (!dataTable) return;\n",
       "\n",
       "          const docLinkHtml = 'Like what you see? Visit the ' +\n",
       "            '<a target=\"_blank\" href=https://colab.research.google.com/notebooks/data_table.ipynb>data table notebook</a>'\n",
       "            + ' to learn more about interactive tables.';\n",
       "          element.innerHTML = '';\n",
       "          dataTable['output_type'] = 'display_data';\n",
       "          await google.colab.output.renderOutput(dataTable, element);\n",
       "          const docLink = document.createElement('div');\n",
       "          docLink.innerHTML = docLinkHtml;\n",
       "          element.appendChild(docLink);\n",
       "        }\n",
       "      </script>\n",
       "    </div>\n",
       "  </div>\n",
       "  "
      ],
      "text/plain": [
       "                          model   ROC_AUC  Precision_micro  Precision_macro  \\\n",
       "0                 LGBM_Baseline  0.663449         0.239119         0.237250   \n",
       "1             CatBoost_Baseline  0.675669         0.365381         0.320267   \n",
       "2         RandomForest_Baseline  0.634683         0.347439         0.262835   \n",
       "0      LGBM_Baseline_embeddings  0.754989         0.350395         0.315773   \n",
       "0  CatBoost_Baseline_embeddings  0.779631         0.445366         0.437807   \n",
       "\n",
       "   Recall_micro  Recall_macro  F1_micro  F1_macro  F1_weighted   Logloss  \n",
       "0      0.239119      0.292757  0.239119  0.218909     0.246096  1.660580  \n",
       "1      0.365381      0.224303  0.365381  0.216226     0.321252  1.463261  \n",
       "2      0.347439      0.211312  0.347439  0.201186     0.303809  1.712283  \n",
       "0      0.350395      0.379041  0.350395  0.314327     0.355704  1.466697  \n",
       "0      0.445366      0.318597  0.445366  0.332238     0.425856  1.282605  "
      ]
     },
     "execution_count": 31,
     "metadata": {},
     "output_type": "execute_result"
    }
   ],
   "source": [
    "# получим итоговые метрики на тестовых данных\n",
    "y_pred = cat_age.predict(X_test)\n",
    "y_score = cat_age.predict_proba(X_test)\n",
    "\n",
    "metrics_age = metrics_age.append(\n",
    "    get_metrics_multiclass(y_test_bin=y_test_bin,\n",
    "                           y_test=y_test,\n",
    "                           y_pred=y_pred,\n",
    "                           y_prob=y_score,\n",
    "                           name='CatBoost_Baseline_embeddings',\n",
    "                           type_multi='ovo'))\n",
    "metrics_age"
   ]
  },
  {
   "cell_type": "markdown",
   "metadata": {
    "id": "DQXHdNflY-7k"
   },
   "source": [
    "Вывод: самые высокие метрики у catboost с эмбеддингами"
   ]
  },
  {
   "cell_type": "code",
   "execution_count": 32,
   "metadata": {
    "executionInfo": {
     "elapsed": 823,
     "status": "ok",
     "timestamp": 1680950911048,
     "user": {
      "displayName": "Гоша Сидоркин",
      "userId": "09429149278087224251"
     },
     "user_tz": -240
    },
    "id": "gFTTR9-FZQQ-"
   },
   "outputs": [],
   "source": [
    "# сохраним метрики, чтобы в дальнейшем сравнивать их с моделями на тюнинге\n",
    "metrics_age.to_csv('metrics/metrics_age_embeddings.csv', index=False)"
   ]
  }
 ],
 "metadata": {
  "colab": {
   "machine_shape": "hm",
   "provenance": [],
   "toc_visible": true
  },
  "gpuClass": "standard",
  "kernelspec": {
   "display_name": "Python 3 (ipykernel)",
   "language": "python",
   "name": "python3"
  },
  "language_info": {
   "codemirror_mode": {
    "name": "ipython",
    "version": 3
   },
   "file_extension": ".py",
   "mimetype": "text/x-python",
   "name": "python",
   "nbconvert_exporter": "python",
   "pygments_lexer": "ipython3",
   "version": "3.9.10"
  },
  "toc": {
   "base_numbering": 1,
   "nav_menu": {},
   "number_sections": true,
   "sideBar": true,
   "skip_h1_title": false,
   "title_cell": "Table of Contents",
   "title_sidebar": "Contents",
   "toc_cell": false,
   "toc_position": {},
   "toc_section_display": true,
   "toc_window_display": false
  }
 },
 "nbformat": 4,
 "nbformat_minor": 1
}
