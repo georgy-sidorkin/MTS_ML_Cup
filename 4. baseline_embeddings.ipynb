{
 "cells": [
  {
   "cell_type": "markdown",
   "source": [
    "# Импорт библиотек"
   ],
   "metadata": {
    "collapsed": false,
    "pycharm": {
     "name": "#%% md\n"
    }
   }
  },
  {
   "cell_type": "code",
   "execution_count": 1,
   "metadata": {
    "colab": {
     "base_uri": "https://localhost:8080/"
    },
    "executionInfo": {
     "elapsed": 11398,
     "status": "ok",
     "timestamp": 1679752633831,
     "user": {
      "displayName": "Гоша Сидоркин",
      "userId": "09429149278087224251"
     },
     "user_tz": -240
    },
    "id": "PWAUwg5yILXX",
    "outputId": "e840614e-c02a-463b-80b9-c240277bd9a3"
   },
   "outputs": [
    {
     "name": "stdout",
     "output_type": "stream",
     "text": [
      "Drive already mounted at /content/drive; to attempt to forcibly remount, call drive.mount(\"/content/drive\", force_remount=True).\n"
     ]
    }
   ],
   "source": [
    "from google.colab import drive\n",
    "drive.mount('/content/drive')"
   ]
  },
  {
   "cell_type": "code",
   "execution_count": 2,
   "metadata": {
    "colab": {
     "base_uri": "https://localhost:8080/"
    },
    "executionInfo": {
     "elapsed": 403,
     "status": "ok",
     "timestamp": 1679752636167,
     "user": {
      "displayName": "Гоша Сидоркин",
      "userId": "09429149278087224251"
     },
     "user_tz": -240
    },
    "id": "sDz_Womfg-dq",
    "outputId": "3b8956b4-fd81-4b33-87a7-ac014949d9eb"
   },
   "outputs": [
    {
     "name": "stdout",
     "output_type": "stream",
     "text": [
      "/content/drive/MyDrive/MTS ML Cup\n"
     ]
    }
   ],
   "source": [
    "%cd /content/drive/MyDrive/MTS ML Cup"
   ]
  },
  {
   "cell_type": "code",
   "execution_count": 3,
   "metadata": {
    "executionInfo": {
     "elapsed": 838,
     "status": "ok",
     "timestamp": 1679752641381,
     "user": {
      "displayName": "Гоша Сидоркин",
      "userId": "09429149278087224251"
     },
     "user_tz": -240
    },
    "id": "AQILWh_AhAzX"
   },
   "outputs": [],
   "source": [
    "import sys\n",
    "sys.path.insert(0, '/content/drive/MyDrive/MTS ML Cup/src')\n",
    "\n",
    "import os\n",
    "import warnings\n",
    "os.environ['OPENBLAS_NUM_THREADS'] = '1'\n",
    "warnings.filterwarnings('ignore');"
   ]
  },
  {
   "cell_type": "code",
   "execution_count": null,
   "outputs": [],
   "source": [
    "!pip install catboost"
   ],
   "metadata": {
    "collapsed": false,
    "pycharm": {
     "name": "#%%\n"
    }
   }
  },
  {
   "cell_type": "code",
   "execution_count": null,
   "outputs": [],
   "source": [
    "!pip install lightgbm"
   ],
   "metadata": {
    "collapsed": false,
    "pycharm": {
     "name": "#%%\n"
    }
   }
  },
  {
   "cell_type": "code",
   "execution_count": null,
   "outputs": [],
   "source": [
    "!pip install xgboost"
   ],
   "metadata": {
    "collapsed": false,
    "pycharm": {
     "name": "#%%\n"
    }
   }
  },
  {
   "cell_type": "code",
   "execution_count": 8,
   "metadata": {
    "executionInfo": {
     "elapsed": 2972,
     "status": "ok",
     "timestamp": 1679752667824,
     "user": {
      "displayName": "Гоша Сидоркин",
      "userId": "09429149278087224251"
     },
     "user_tz": -240
    },
    "id": "eX_QLsxjhc68"
   },
   "outputs": [],
   "source": [
    "import pandas as pd\n",
    "import numpy as np\n",
    "import bisect\n",
    "\n",
    "from catboost import CatBoostClassifier\n",
    "from lightgbm import LGBMClassifier\n",
    "from xgboost import XGBClassifier\n",
    "\n",
    "import sklearn.metrics as m\n",
    "from sklearn.model_selection import train_test_split\n",
    "from sklearn.preprocessing import label_binarize"
   ]
  },
  {
   "cell_type": "code",
   "execution_count": 9,
   "metadata": {
    "executionInfo": {
     "elapsed": 754,
     "status": "ok",
     "timestamp": 1679752668570,
     "user": {
      "displayName": "Гоша Сидоркин",
      "userId": "09429149278087224251"
     },
     "user_tz": -240
    },
    "id": "BYpOJuA6JIhO"
   },
   "outputs": [],
   "source": [
    "from metric_functions import get_metrics_classification, get_metrics_multiclass, \n",
    "check_overfitting_classification, check_overfitting_multiclass"
   ]
  },
  {
   "cell_type": "code",
   "execution_count": 10,
   "metadata": {
    "executionInfo": {
     "elapsed": 416,
     "status": "ok",
     "timestamp": 1679752668982,
     "user": {
      "displayName": "Гоша Сидоркин",
      "userId": "09429149278087224251"
     },
     "user_tz": -240
    },
    "id": "5RRycQYBJQQ-"
   },
   "outputs": [],
   "source": [
    "import seaborn as sns\n",
    "\n",
    "%matplotlib inline\n",
    "sns.set_style('darkgrid')"
   ]
  },
  {
   "cell_type": "code",
   "execution_count": 11,
   "metadata": {
    "executionInfo": {
     "elapsed": 3,
     "status": "ok",
     "timestamp": 1679752668982,
     "user": {
      "displayName": "Гоша Сидоркин",
      "userId": "09429149278087224251"
     },
     "user_tz": -240
    },
    "id": "iq_v6v6Hhc9S"
   },
   "outputs": [],
   "source": [
    "RAND = 42\n",
    "\n",
    "final_types = {\n",
    "    'user_id': 'int32',\n",
    "    'part_of_day_day': 'int16',\n",
    "    'part_of_day_night': 'int16',\n",
    "    'day_pct': 'float32',\n",
    "    'evening_pct': 'float32',\n",
    "    'morning_pct': 'float32',\n",
    "    'night_pct': 'float32',\n",
    "    'act_days': 'int16',\n",
    "    'avg_req_per_day': 'float32',\n",
    "    'requests_std': 'float32',\n",
    "    'act_days_pct': 'float32',\n",
    "    'cpe_type_cd': 'category',\n",
    "    'cpe_model_os_type': 'category',\n",
    "    'cpe_manufacturer_name': 'category',\n",
    "    'price': 'float32',\n",
    "    'region_cnt': 'int8',\n",
    "    'city_cnt': 'int8',\n",
    "    'url_host_cnt': 'int16',\n",
    "}"
   ]
  },
  {
   "cell_type": "markdown",
   "metadata": {
    "id": "tdr8MrX0htFn"
   },
   "source": [
    "# Сбор всех данных"
   ]
  },
  {
   "cell_type": "code",
   "execution_count": 12,
   "metadata": {
    "executionInfo": {
     "elapsed": 830,
     "status": "ok",
     "timestamp": 1679752669810,
     "user": {
      "displayName": "Гоша Сидоркин",
      "userId": "09429149278087224251"
     },
     "user_tz": -240
    },
    "id": "jyw72yiLhc_Z"
   },
   "outputs": [],
   "source": [
    "id_to_submit = pd.read_parquet('submit.pqt')"
   ]
  },
  {
   "cell_type": "code",
   "execution_count": 13,
   "metadata": {
    "executionInfo": {
     "elapsed": 1411,
     "status": "ok",
     "timestamp": 1679752671218,
     "user": {
      "displayName": "Гоша Сидоркин",
      "userId": "09429149278087224251"
     },
     "user_tz": -240
    },
    "id": "mkKCa7ZxhdBe"
   },
   "outputs": [],
   "source": [
    "targets = pd.read_parquet('public_train.pqt')"
   ]
  },
  {
   "cell_type": "code",
   "execution_count": 14,
   "metadata": {
    "executionInfo": {
     "elapsed": 1069,
     "status": "ok",
     "timestamp": 1679752672281,
     "user": {
      "displayName": "Гоша Сидоркин",
      "userId": "09429149278087224251"
     },
     "user_tz": -240
    },
    "id": "AUIMc33eDj3_"
   },
   "outputs": [],
   "source": [
    "df = pd.read_csv('data_agg/df_final.csv')"
   ]
  },
  {
   "cell_type": "code",
   "execution_count": 16,
   "metadata": {
    "colab": {
     "base_uri": "https://localhost:8080/",
     "height": 268
    },
    "executionInfo": {
     "elapsed": 27,
     "status": "ok",
     "timestamp": 1679752672282,
     "user": {
      "displayName": "Гоша Сидоркин",
      "userId": "09429149278087224251"
     },
     "user_tz": -240
    },
    "id": "GMBlxniqhx1w",
    "outputId": "85dc441f-a5be-437e-b8c6-70b61350c32b"
   },
   "outputs": [
    {
     "data": {
      "text/html": [
       "\n",
       "  <div id=\"df-fd33a4ef-e8ac-4f66-b4dd-a81499ba09a0\">\n",
       "    <div class=\"colab-df-container\">\n",
       "      <div>\n",
       "<style scoped>\n",
       "    .dataframe tbody tr th:only-of-type {\n",
       "        vertical-align: middle;\n",
       "    }\n",
       "\n",
       "    .dataframe tbody tr th {\n",
       "        vertical-align: top;\n",
       "    }\n",
       "\n",
       "    .dataframe thead th {\n",
       "        text-align: right;\n",
       "    }\n",
       "</style>\n",
       "<table border=\"1\" class=\"dataframe\">\n",
       "  <thead>\n",
       "    <tr style=\"text-align: right;\">\n",
       "      <th></th>\n",
       "      <th>user_id</th>\n",
       "      <th>part_of_day_day</th>\n",
       "      <th>part_of_day_night</th>\n",
       "      <th>day_pct</th>\n",
       "      <th>evening_pct</th>\n",
       "      <th>morning_pct</th>\n",
       "      <th>night_pct</th>\n",
       "      <th>act_days</th>\n",
       "      <th>avg_req_per_day</th>\n",
       "      <th>requests_std</th>\n",
       "      <th>act_days_pct</th>\n",
       "      <th>cpe_type_cd</th>\n",
       "      <th>cpe_model_os_type</th>\n",
       "      <th>cpe_manufacturer_name</th>\n",
       "      <th>price</th>\n",
       "      <th>region_cnt</th>\n",
       "      <th>city_cnt</th>\n",
       "      <th>url_host_cnt</th>\n",
       "    </tr>\n",
       "  </thead>\n",
       "  <tbody>\n",
       "    <tr>\n",
       "      <th>0</th>\n",
       "      <td>4</td>\n",
       "      <td>199</td>\n",
       "      <td>10</td>\n",
       "      <td>0.336717</td>\n",
       "      <td>0.287648</td>\n",
       "      <td>0.358714</td>\n",
       "      <td>0.016920</td>\n",
       "      <td>20</td>\n",
       "      <td>38.850000</td>\n",
       "      <td>0.647632</td>\n",
       "      <td>0.4650</td>\n",
       "      <td>smartphone</td>\n",
       "      <td>Android</td>\n",
       "      <td>Huawei</td>\n",
       "      <td>12990.0</td>\n",
       "      <td>5</td>\n",
       "      <td>9</td>\n",
       "      <td>108</td>\n",
       "    </tr>\n",
       "    <tr>\n",
       "      <th>1</th>\n",
       "      <td>16</td>\n",
       "      <td>443</td>\n",
       "      <td>137</td>\n",
       "      <td>0.359870</td>\n",
       "      <td>0.260764</td>\n",
       "      <td>0.268075</td>\n",
       "      <td>0.111292</td>\n",
       "      <td>64</td>\n",
       "      <td>39.515625</td>\n",
       "      <td>1.397836</td>\n",
       "      <td>0.8647</td>\n",
       "      <td>smartphone</td>\n",
       "      <td>Android</td>\n",
       "      <td>Samsung</td>\n",
       "      <td>9583.0</td>\n",
       "      <td>1</td>\n",
       "      <td>1</td>\n",
       "      <td>50</td>\n",
       "    </tr>\n",
       "    <tr>\n",
       "      <th>2</th>\n",
       "      <td>18</td>\n",
       "      <td>566</td>\n",
       "      <td>34</td>\n",
       "      <td>0.503111</td>\n",
       "      <td>0.101333</td>\n",
       "      <td>0.365333</td>\n",
       "      <td>0.030222</td>\n",
       "      <td>32</td>\n",
       "      <td>60.937500</td>\n",
       "      <td>1.204972</td>\n",
       "      <td>0.8423</td>\n",
       "      <td>smartphone</td>\n",
       "      <td>Android</td>\n",
       "      <td>Samsung</td>\n",
       "      <td>22887.0</td>\n",
       "      <td>1</td>\n",
       "      <td>2</td>\n",
       "      <td>141</td>\n",
       "    </tr>\n",
       "    <tr>\n",
       "      <th>3</th>\n",
       "      <td>26</td>\n",
       "      <td>180</td>\n",
       "      <td>126</td>\n",
       "      <td>0.176817</td>\n",
       "      <td>0.400786</td>\n",
       "      <td>0.298625</td>\n",
       "      <td>0.123772</td>\n",
       "      <td>20</td>\n",
       "      <td>71.800000</td>\n",
       "      <td>0.688696</td>\n",
       "      <td>0.9090</td>\n",
       "      <td>smartphone</td>\n",
       "      <td>Android</td>\n",
       "      <td>Samsung</td>\n",
       "      <td>4990.0</td>\n",
       "      <td>1</td>\n",
       "      <td>1</td>\n",
       "      <td>126</td>\n",
       "    </tr>\n",
       "    <tr>\n",
       "      <th>4</th>\n",
       "      <td>27</td>\n",
       "      <td>808</td>\n",
       "      <td>342</td>\n",
       "      <td>0.302622</td>\n",
       "      <td>0.331461</td>\n",
       "      <td>0.237828</td>\n",
       "      <td>0.128090</td>\n",
       "      <td>67</td>\n",
       "      <td>66.074620</td>\n",
       "      <td>1.088583</td>\n",
       "      <td>0.9307</td>\n",
       "      <td>smartphone</td>\n",
       "      <td>Android</td>\n",
       "      <td>Xiaomi</td>\n",
       "      <td>12990.0</td>\n",
       "      <td>1</td>\n",
       "      <td>2</td>\n",
       "      <td>209</td>\n",
       "    </tr>\n",
       "  </tbody>\n",
       "</table>\n",
       "</div>\n",
       "      <button class=\"colab-df-convert\" onclick=\"convertToInteractive('df-fd33a4ef-e8ac-4f66-b4dd-a81499ba09a0')\"\n",
       "              title=\"Convert this dataframe to an interactive table.\"\n",
       "              style=\"display:none;\">\n",
       "        \n",
       "  <svg xmlns=\"http://www.w3.org/2000/svg\" height=\"24px\"viewBox=\"0 0 24 24\"\n",
       "       width=\"24px\">\n",
       "    <path d=\"M0 0h24v24H0V0z\" fill=\"none\"/>\n",
       "    <path d=\"M18.56 5.44l.94 2.06.94-2.06 2.06-.94-2.06-.94-.94-2.06-.94 2.06-2.06.94zm-11 1L8.5 8.5l.94-2.06 2.06-.94-2.06-.94L8.5 2.5l-.94 2.06-2.06.94zm10 10l.94 2.06.94-2.06 2.06-.94-2.06-.94-.94-2.06-.94 2.06-2.06.94z\"/><path d=\"M17.41 7.96l-1.37-1.37c-.4-.4-.92-.59-1.43-.59-.52 0-1.04.2-1.43.59L10.3 9.45l-7.72 7.72c-.78.78-.78 2.05 0 2.83L4 21.41c.39.39.9.59 1.41.59.51 0 1.02-.2 1.41-.59l7.78-7.78 2.81-2.81c.8-.78.8-2.07 0-2.86zM5.41 20L4 18.59l7.72-7.72 1.47 1.35L5.41 20z\"/>\n",
       "  </svg>\n",
       "      </button>\n",
       "      \n",
       "  <style>\n",
       "    .colab-df-container {\n",
       "      display:flex;\n",
       "      flex-wrap:wrap;\n",
       "      gap: 12px;\n",
       "    }\n",
       "\n",
       "    .colab-df-convert {\n",
       "      background-color: #E8F0FE;\n",
       "      border: none;\n",
       "      border-radius: 50%;\n",
       "      cursor: pointer;\n",
       "      display: none;\n",
       "      fill: #1967D2;\n",
       "      height: 32px;\n",
       "      padding: 0 0 0 0;\n",
       "      width: 32px;\n",
       "    }\n",
       "\n",
       "    .colab-df-convert:hover {\n",
       "      background-color: #E2EBFA;\n",
       "      box-shadow: 0px 1px 2px rgba(60, 64, 67, 0.3), 0px 1px 3px 1px rgba(60, 64, 67, 0.15);\n",
       "      fill: #174EA6;\n",
       "    }\n",
       "\n",
       "    [theme=dark] .colab-df-convert {\n",
       "      background-color: #3B4455;\n",
       "      fill: #D2E3FC;\n",
       "    }\n",
       "\n",
       "    [theme=dark] .colab-df-convert:hover {\n",
       "      background-color: #434B5C;\n",
       "      box-shadow: 0px 1px 3px 1px rgba(0, 0, 0, 0.15);\n",
       "      filter: drop-shadow(0px 1px 2px rgba(0, 0, 0, 0.3));\n",
       "      fill: #FFFFFF;\n",
       "    }\n",
       "  </style>\n",
       "\n",
       "      <script>\n",
       "        const buttonEl =\n",
       "          document.querySelector('#df-fd33a4ef-e8ac-4f66-b4dd-a81499ba09a0 button.colab-df-convert');\n",
       "        buttonEl.style.display =\n",
       "          google.colab.kernel.accessAllowed ? 'block' : 'none';\n",
       "\n",
       "        async function convertToInteractive(key) {\n",
       "          const element = document.querySelector('#df-fd33a4ef-e8ac-4f66-b4dd-a81499ba09a0');\n",
       "          const dataTable =\n",
       "            await google.colab.kernel.invokeFunction('convertToInteractive',\n",
       "                                                     [key], {});\n",
       "          if (!dataTable) return;\n",
       "\n",
       "          const docLinkHtml = 'Like what you see? Visit the ' +\n",
       "            '<a target=\"_blank\" href=https://colab.research.google.com/notebooks/data_table.ipynb>data table notebook</a>'\n",
       "            + ' to learn more about interactive tables.';\n",
       "          element.innerHTML = '';\n",
       "          dataTable['output_type'] = 'display_data';\n",
       "          await google.colab.output.renderOutput(dataTable, element);\n",
       "          const docLink = document.createElement('div');\n",
       "          docLink.innerHTML = docLinkHtml;\n",
       "          element.appendChild(docLink);\n",
       "        }\n",
       "      </script>\n",
       "    </div>\n",
       "  </div>\n",
       "  "
      ],
      "text/plain": [
       "   user_id  part_of_day_day  part_of_day_night   day_pct  evening_pct  \\\n",
       "0        4              199                 10  0.336717     0.287648   \n",
       "1       16              443                137  0.359870     0.260764   \n",
       "2       18              566                 34  0.503111     0.101333   \n",
       "3       26              180                126  0.176817     0.400786   \n",
       "4       27              808                342  0.302622     0.331461   \n",
       "\n",
       "   morning_pct  night_pct  act_days  avg_req_per_day  requests_std  \\\n",
       "0     0.358714   0.016920        20        38.850000      0.647632   \n",
       "1     0.268075   0.111292        64        39.515625      1.397836   \n",
       "2     0.365333   0.030222        32        60.937500      1.204972   \n",
       "3     0.298625   0.123772        20        71.800000      0.688696   \n",
       "4     0.237828   0.128090        67        66.074620      1.088583   \n",
       "\n",
       "   act_days_pct cpe_type_cd cpe_model_os_type cpe_manufacturer_name    price  \\\n",
       "0        0.4650  smartphone           Android                Huawei  12990.0   \n",
       "1        0.8647  smartphone           Android               Samsung   9583.0   \n",
       "2        0.8423  smartphone           Android               Samsung  22887.0   \n",
       "3        0.9090  smartphone           Android               Samsung   4990.0   \n",
       "4        0.9307  smartphone           Android                Xiaomi  12990.0   \n",
       "\n",
       "   region_cnt  city_cnt  url_host_cnt  \n",
       "0           5         9           108  \n",
       "1           1         1            50  \n",
       "2           1         2           141  \n",
       "3           1         1           126  \n",
       "4           1         2           209  "
      ]
     },
     "execution_count": 16,
     "metadata": {},
     "output_type": "execute_result"
    }
   ],
   "source": [
    "df.head()"
   ]
  },
  {
   "cell_type": "code",
   "execution_count": 17,
   "metadata": {
    "colab": {
     "base_uri": "https://localhost:8080/"
    },
    "collapsed": true,
    "executionInfo": {
     "elapsed": 25,
     "status": "ok",
     "timestamp": 1679752672282,
     "user": {
      "displayName": "Гоша Сидоркин",
      "userId": "09429149278087224251"
     },
     "user_tz": -240
    },
    "id": "haYGs5aLhx32",
    "outputId": "3dcbc8ba-628e-4828-f303-7547b0e80fe6"
   },
   "outputs": [
    {
     "data": {
      "text/plain": [
       "user_id                     int32\n",
       "part_of_day_day             int16\n",
       "part_of_day_night           int16\n",
       "day_pct                   float32\n",
       "evening_pct               float32\n",
       "morning_pct               float32\n",
       "night_pct                 float32\n",
       "act_days                    int16\n",
       "avg_req_per_day           float32\n",
       "requests_std              float32\n",
       "act_days_pct              float32\n",
       "cpe_type_cd              category\n",
       "cpe_model_os_type        category\n",
       "cpe_manufacturer_name    category\n",
       "price                     float32\n",
       "region_cnt                   int8\n",
       "city_cnt                     int8\n",
       "url_host_cnt                int16\n",
       "dtype: object"
      ]
     },
     "execution_count": 17,
     "metadata": {},
     "output_type": "execute_result"
    }
   ],
   "source": [
    "df = df.astype(final_types)\n",
    "df.dtypes"
   ]
  },
  {
   "cell_type": "code",
   "execution_count": 18,
   "metadata": {
    "colab": {
     "base_uri": "https://localhost:8080/"
    },
    "executionInfo": {
     "elapsed": 15,
     "status": "ok",
     "timestamp": 1679752672283,
     "user": {
      "displayName": "Гоша Сидоркин",
      "userId": "09429149278087224251"
     },
     "user_tz": -240
    },
    "id": "vjMfws8gimqm",
    "outputId": "4d1bbd1b-837d-4053-e723-fa897ed53b91"
   },
   "outputs": [
    {
     "data": {
      "text/plain": [
       "(415317, 18)"
      ]
     },
     "execution_count": 18,
     "metadata": {},
     "output_type": "execute_result"
    }
   ],
   "source": [
    "df.shape"
   ]
  },
  {
   "cell_type": "code",
   "execution_count": 20,
   "metadata": {
    "executionInfo": {
     "elapsed": 23061,
     "status": "ok",
     "timestamp": 1679752695338,
     "user": {
      "displayName": "Гоша Сидоркин",
      "userId": "09429149278087224251"
     },
     "user_tz": -240
    },
    "id": "_hrOKD-xiz6A"
   },
   "outputs": [],
   "source": [
    "url_emb = pd.read_csv('embeddings/url_emb.csv')\n",
    "url_emb = url_emb.add_suffix('_url').rename(columns={'user_id_url': 'user_id'})"
   ]
  },
  {
   "cell_type": "code",
   "execution_count": 21,
   "metadata": {
    "executionInfo": {
     "elapsed": 3728,
     "status": "ok",
     "timestamp": 1679752699056,
     "user": {
      "displayName": "Гоша Сидоркин",
      "userId": "09429149278087224251"
     },
     "user_tz": -240
    },
    "id": "RuYYxThDjMun"
   },
   "outputs": [],
   "source": [
    "reg_emb = pd.read_csv('embeddings/reg_emb.csv')\n",
    "reg_emb = reg_emb.add_suffix('_reg').rename(columns={'user_id_reg': 'user_id'})"
   ]
  },
  {
   "cell_type": "code",
   "execution_count": 22,
   "metadata": {
    "executionInfo": {
     "elapsed": 5935,
     "status": "ok",
     "timestamp": 1679752704983,
     "user": {
      "displayName": "Гоша Сидоркин",
      "userId": "09429149278087224251"
     },
     "user_tz": -240
    },
    "id": "sigoNRMMjV93"
   },
   "outputs": [],
   "source": [
    "city_emb = pd.read_csv('embeddings/city_emb.csv')\n",
    "city_emb = city_emb.add_suffix('_city').rename(columns={'user_id_city': 'user_id'})"
   ]
  },
  {
   "cell_type": "code",
   "execution_count": 23,
   "metadata": {
    "executionInfo": {
     "elapsed": 6557,
     "status": "ok",
     "timestamp": 1679752711534,
     "user": {
      "displayName": "Гоша Сидоркин",
      "userId": "09429149278087224251"
     },
     "user_tz": -240
    },
    "id": "Y0RikZKOjn1v"
   },
   "outputs": [],
   "source": [
    "model_emb = pd.read_csv('embeddings/model_emb.csv')\n",
    "model_emb = model_emb.add_suffix('_model').rename(\n",
    "    columns={'user_id_model': 'user_id'})"
   ]
  },
  {
   "cell_type": "code",
   "execution_count": 24,
   "metadata": {
    "executionInfo": {
     "elapsed": 492,
     "status": "ok",
     "timestamp": 1679752712022,
     "user": {
      "displayName": "Гоша Сидоркин",
      "userId": "09429149278087224251"
     },
     "user_tz": -240
    },
    "id": "_waT1Dk6Lqna"
   },
   "outputs": [],
   "source": [
    "metrics_gender_baseline = pd.read_csv('metrics/metrics_gender_baseline.csv')\n",
    "metrics_age_baseline = pd.read_csv('metrics/metrics_age_baseline.csv')"
   ]
  },
  {
   "cell_type": "markdown",
   "metadata": {
    "id": "7HcNCawoku_3"
   },
   "source": [
    "# Baseline gender prediction"
   ]
  },
  {
   "cell_type": "code",
   "execution_count": 51,
   "metadata": {
    "colab": {
     "base_uri": "https://localhost:8080/"
    },
    "executionInfo": {
     "elapsed": 4061,
     "status": "ok",
     "timestamp": 1679736756298,
     "user": {
      "displayName": "Гоша Сидоркин",
      "userId": "09429149278087224251"
     },
     "user_tz": -240
    },
    "id": "PCa5J7SLkm-l",
    "outputId": "bf98577d-d962-4923-8dd4-028ea32b2f90"
   },
   "outputs": [
    {
     "data": {
      "text/plain": [
       "1    135331\n",
       "0    128994\n",
       "Name: is_male, dtype: int64"
      ]
     },
     "execution_count": 51,
     "metadata": {},
     "output_type": "execute_result"
    }
   ],
   "source": [
    "df_train = targets.merge(df, how='inner', on=['user_id']) \\\n",
    "                  .merge(url_emb, how='inner', on='user_id') \\\n",
    "                  .merge(city_emb, how='inner', on=['user_id']) \\\n",
    "                  .merge(reg_emb, how='inner', on=['user_id']) \\\n",
    "                  .merge(model_emb, how='inner', on=['user_id'])\n",
    "\n",
    "df_train = df_train[df_train['is_male'] != 'NA']\n",
    "df_train = df_train.dropna()\n",
    "df_train['is_male'] = df_train['is_male'].map(int)\n",
    "df_train['is_male'].value_counts()"
   ]
  },
  {
   "cell_type": "code",
   "execution_count": 52,
   "metadata": {
    "colab": {
     "base_uri": "https://localhost:8080/"
    },
    "executionInfo": {
     "elapsed": 1621,
     "status": "ok",
     "timestamp": 1679736759090,
     "user": {
      "displayName": "Гоша Сидоркин",
      "userId": "09429149278087224251"
     },
     "user_tz": -240
    },
    "id": "VrPeCYI2n9vh",
    "outputId": "3dd97556-cdc8-4ead-b66c-cc621f3f3da7"
   },
   "outputs": [
    {
     "name": "stdout",
     "output_type": "stream",
     "text": [
      "CPU times: user 1.09 s, sys: 300 ms, total: 1.39 s\n",
      "Wall time: 1.38 s\n"
     ]
    }
   ],
   "source": [
    "%%time\n",
    "X = df_train.drop(['user_id', 'age', 'is_male'], axis=1)\n",
    "y = df_train['is_male']\n",
    "\n",
    "X_train, X_test, y_train, y_test = train_test_split(X,\n",
    "                                                    y,\n",
    "                                                    test_size=0.2,\n",
    "                                                    shuffle=True,\n",
    "                                                    stratify=y,\n",
    "                                                    random_state=RAND)\n",
    "\n",
    "X_train_, X_val, y_train_, y_val = train_test_split(X_train,\n",
    "                                                    y_train,\n",
    "                                                    test_size=0.16,\n",
    "                                                    shuffle=True,\n",
    "                                                    stratify=y_train,\n",
    "                                                    random_state=RAND)\n",
    "\n",
    "# значение для scale_pos_weight\n",
    "ratio = float(np.sum(y == 0)) / np.sum(y == 1)"
   ]
  },
  {
   "cell_type": "markdown",
   "metadata": {
    "id": "4Mp7q1t-qejH"
   },
   "source": [
    "## LGBM"
   ]
  },
  {
   "cell_type": "code",
   "execution_count": 38,
   "metadata": {
    "colab": {
     "base_uri": "https://localhost:8080/",
     "height": 108
    },
    "executionInfo": {
     "elapsed": 28878,
     "status": "ok",
     "timestamp": 1679736381317,
     "user": {
      "displayName": "Гоша Сидоркин",
      "userId": "09429149278087224251"
     },
     "user_tz": -240
    },
    "id": "7h8rKN-FoOm8",
    "outputId": "2020c6f2-a495-432b-fd1a-a1dd3428692a"
   },
   "outputs": [
    {
     "name": "stdout",
     "output_type": "stream",
     "text": [
      "CPU times: user 1min 38s, sys: 1.05 s, total: 1min 39s\n",
      "Wall time: 28.6 s\n"
     ]
    },
    {
     "data": {
      "text/html": [
       "<style>#sk-container-id-2 {color: black;background-color: white;}#sk-container-id-2 pre{padding: 0;}#sk-container-id-2 div.sk-toggleable {background-color: white;}#sk-container-id-2 label.sk-toggleable__label {cursor: pointer;display: block;width: 100%;margin-bottom: 0;padding: 0.3em;box-sizing: border-box;text-align: center;}#sk-container-id-2 label.sk-toggleable__label-arrow:before {content: \"▸\";float: left;margin-right: 0.25em;color: #696969;}#sk-container-id-2 label.sk-toggleable__label-arrow:hover:before {color: black;}#sk-container-id-2 div.sk-estimator:hover label.sk-toggleable__label-arrow:before {color: black;}#sk-container-id-2 div.sk-toggleable__content {max-height: 0;max-width: 0;overflow: hidden;text-align: left;background-color: #f0f8ff;}#sk-container-id-2 div.sk-toggleable__content pre {margin: 0.2em;color: black;border-radius: 0.25em;background-color: #f0f8ff;}#sk-container-id-2 input.sk-toggleable__control:checked~div.sk-toggleable__content {max-height: 200px;max-width: 100%;overflow: auto;}#sk-container-id-2 input.sk-toggleable__control:checked~label.sk-toggleable__label-arrow:before {content: \"▾\";}#sk-container-id-2 div.sk-estimator input.sk-toggleable__control:checked~label.sk-toggleable__label {background-color: #d4ebff;}#sk-container-id-2 div.sk-label input.sk-toggleable__control:checked~label.sk-toggleable__label {background-color: #d4ebff;}#sk-container-id-2 input.sk-hidden--visually {border: 0;clip: rect(1px 1px 1px 1px);clip: rect(1px, 1px, 1px, 1px);height: 1px;margin: -1px;overflow: hidden;padding: 0;position: absolute;width: 1px;}#sk-container-id-2 div.sk-estimator {font-family: monospace;background-color: #f0f8ff;border: 1px dotted black;border-radius: 0.25em;box-sizing: border-box;margin-bottom: 0.5em;}#sk-container-id-2 div.sk-estimator:hover {background-color: #d4ebff;}#sk-container-id-2 div.sk-parallel-item::after {content: \"\";width: 100%;border-bottom: 1px solid gray;flex-grow: 1;}#sk-container-id-2 div.sk-label:hover label.sk-toggleable__label {background-color: #d4ebff;}#sk-container-id-2 div.sk-serial::before {content: \"\";position: absolute;border-left: 1px solid gray;box-sizing: border-box;top: 0;bottom: 0;left: 50%;z-index: 0;}#sk-container-id-2 div.sk-serial {display: flex;flex-direction: column;align-items: center;background-color: white;padding-right: 0.2em;padding-left: 0.2em;position: relative;}#sk-container-id-2 div.sk-item {position: relative;z-index: 1;}#sk-container-id-2 div.sk-parallel {display: flex;align-items: stretch;justify-content: center;background-color: white;position: relative;}#sk-container-id-2 div.sk-item::before, #sk-container-id-2 div.sk-parallel-item::before {content: \"\";position: absolute;border-left: 1px solid gray;box-sizing: border-box;top: 0;bottom: 0;left: 50%;z-index: -1;}#sk-container-id-2 div.sk-parallel-item {display: flex;flex-direction: column;z-index: 1;position: relative;background-color: white;}#sk-container-id-2 div.sk-parallel-item:first-child::after {align-self: flex-end;width: 50%;}#sk-container-id-2 div.sk-parallel-item:last-child::after {align-self: flex-start;width: 50%;}#sk-container-id-2 div.sk-parallel-item:only-child::after {width: 0;}#sk-container-id-2 div.sk-dashed-wrapped {border: 1px dashed gray;margin: 0 0.4em 0.5em 0.4em;box-sizing: border-box;padding-bottom: 0.4em;background-color: white;}#sk-container-id-2 div.sk-label label {font-family: monospace;font-weight: bold;display: inline-block;line-height: 1.2em;}#sk-container-id-2 div.sk-label-container {text-align: center;}#sk-container-id-2 div.sk-container {/* jupyter's `normalize.less` sets `[hidden] { display: none; }` but bootstrap.min.css set `[hidden] { display: none !important; }` so we also need the `!important` here to be able to override the default hidden behavior on the sphinx rendered scikit-learn.org. See: https://github.com/scikit-learn/scikit-learn/issues/21755 */display: inline-block !important;position: relative;}#sk-container-id-2 div.sk-text-repr-fallback {display: none;}</style><div id=\"sk-container-id-2\" class=\"sk-top-container\"><div class=\"sk-text-repr-fallback\"><pre>LGBMClassifier(random_state=42, scale_pos_weight=0.9531740695036613)</pre><b>In a Jupyter environment, please rerun this cell to show the HTML representation or trust the notebook. <br />On GitHub, the HTML representation is unable to render, please try loading this page with nbviewer.org.</b></div><div class=\"sk-container\" hidden><div class=\"sk-item\"><div class=\"sk-estimator sk-toggleable\"><input class=\"sk-toggleable__control sk-hidden--visually\" id=\"sk-estimator-id-2\" type=\"checkbox\" checked><label for=\"sk-estimator-id-2\" class=\"sk-toggleable__label sk-toggleable__label-arrow\">LGBMClassifier</label><div class=\"sk-toggleable__content\"><pre>LGBMClassifier(random_state=42, scale_pos_weight=0.9531740695036613)</pre></div></div></div></div></div>"
      ],
      "text/plain": [
       "LGBMClassifier(random_state=42, scale_pos_weight=0.9531740695036613)"
      ]
     },
     "execution_count": 38,
     "metadata": {},
     "output_type": "execute_result"
    }
   ],
   "source": [
    "%%time\n",
    "lgbm_gender = LGBMClassifier(random_state=RAND, scale_pos_weight=ratio)\n",
    "eval_set = [(X_val, y_val)]\n",
    "\n",
    "lgbm_gender.fit(X_train,\n",
    "                y_train,\n",
    "                eval_metric='auc',\n",
    "                eval_set=eval_set,\n",
    "                early_stopping_rounds=100,\n",
    "                verbose=False)"
   ]
  },
  {
   "cell_type": "code",
   "execution_count": 39,
   "metadata": {
    "colab": {
     "base_uri": "https://localhost:8080/"
    },
    "executionInfo": {
     "elapsed": 1065,
     "status": "ok",
     "timestamp": 1679736388213,
     "user": {
      "displayName": "Гоша Сидоркин",
      "userId": "09429149278087224251"
     },
     "user_tz": -240
    },
    "id": "iTqNfRmjow9r",
    "outputId": "eba5b605-dbaa-4fa2-d3e1-0865f34a3498"
   },
   "outputs": [
    {
     "name": "stdout",
     "output_type": "stream",
     "text": [
      "GINI по полу 0.625\n"
     ]
    }
   ],
   "source": [
    "print(\n",
    "    f'GINI по полу {2 * m.roc_auc_score(y_test, lgbm_gender.predict_proba(X_test)[:,1]) - 1:2.3f}'\n",
    ")"
   ]
  },
  {
   "cell_type": "code",
   "execution_count": 40,
   "metadata": {
    "colab": {
     "base_uri": "https://localhost:8080/"
    },
    "executionInfo": {
     "elapsed": 2157,
     "status": "ok",
     "timestamp": 1679736393543,
     "user": {
      "displayName": "Гоша Сидоркин",
      "userId": "09429149278087224251"
     },
     "user_tz": -240
    },
    "id": "nVAg9BECokJ4",
    "outputId": "a74c38a9-b24b-4f31-db1f-896551b9a2b8"
   },
   "outputs": [
    {
     "name": "stdout",
     "output_type": "stream",
     "text": [
      "ROC-AUC train = 0.834\n",
      "ROC-AUC test = 0.813\n",
      "delta = 2.6%\n"
     ]
    }
   ],
   "source": [
    "check_overfitting_classification(lgbm_gender, X_train, y_train, X_test, y_test)"
   ]
  },
  {
   "cell_type": "code",
   "execution_count": 41,
   "metadata": {
    "colab": {
     "base_uri": "https://localhost:8080/",
     "height": 248
    },
    "executionInfo": {
     "elapsed": 935,
     "status": "ok",
     "timestamp": 1679736399161,
     "user": {
      "displayName": "Гоша Сидоркин",
      "userId": "09429149278087224251"
     },
     "user_tz": -240
    },
    "id": "epzaR9pgrWyA",
    "outputId": "39965160-bec6-489a-d4b3-8b5da523600e"
   },
   "outputs": [
    {
     "data": {
      "text/html": [
       "\n",
       "  <div id=\"df-88c8c8fe-4a48-4e77-b85d-629a81b76567\">\n",
       "    <div class=\"colab-df-container\">\n",
       "      <div>\n",
       "<style scoped>\n",
       "    .dataframe tbody tr th:only-of-type {\n",
       "        vertical-align: middle;\n",
       "    }\n",
       "\n",
       "    .dataframe tbody tr th {\n",
       "        vertical-align: top;\n",
       "    }\n",
       "\n",
       "    .dataframe thead th {\n",
       "        text-align: right;\n",
       "    }\n",
       "</style>\n",
       "<table border=\"1\" class=\"dataframe\">\n",
       "  <thead>\n",
       "    <tr style=\"text-align: right;\">\n",
       "      <th></th>\n",
       "      <th>model</th>\n",
       "      <th>Precision</th>\n",
       "      <th>Recall</th>\n",
       "      <th>f1</th>\n",
       "      <th>ROC_AUC</th>\n",
       "      <th>GINI</th>\n",
       "    </tr>\n",
       "  </thead>\n",
       "  <tbody>\n",
       "    <tr>\n",
       "      <th>0</th>\n",
       "      <td>LGBMBaseline</td>\n",
       "      <td>0.607814</td>\n",
       "      <td>0.564989</td>\n",
       "      <td>0.585620</td>\n",
       "      <td>0.628592</td>\n",
       "      <td>0.257185</td>\n",
       "    </tr>\n",
       "    <tr>\n",
       "      <th>1</th>\n",
       "      <td>CatBoostBaseline</td>\n",
       "      <td>0.611604</td>\n",
       "      <td>0.565913</td>\n",
       "      <td>0.587872</td>\n",
       "      <td>0.630034</td>\n",
       "      <td>0.260068</td>\n",
       "    </tr>\n",
       "    <tr>\n",
       "      <th>2</th>\n",
       "      <td>XGBoostBaseline</td>\n",
       "      <td>0.606800</td>\n",
       "      <td>0.555863</td>\n",
       "      <td>0.580216</td>\n",
       "      <td>0.623342</td>\n",
       "      <td>0.246683</td>\n",
       "    </tr>\n",
       "    <tr>\n",
       "      <th>3</th>\n",
       "      <td>RandomForestBaseline</td>\n",
       "      <td>0.584381</td>\n",
       "      <td>0.585569</td>\n",
       "      <td>0.584974</td>\n",
       "      <td>0.600485</td>\n",
       "      <td>0.200970</td>\n",
       "    </tr>\n",
       "    <tr>\n",
       "      <th>0</th>\n",
       "      <td>LGBMBaseline_embeddings</td>\n",
       "      <td>0.742578</td>\n",
       "      <td>0.720794</td>\n",
       "      <td>0.731523</td>\n",
       "      <td>0.812632</td>\n",
       "      <td>0.625265</td>\n",
       "    </tr>\n",
       "  </tbody>\n",
       "</table>\n",
       "</div>\n",
       "      <button class=\"colab-df-convert\" onclick=\"convertToInteractive('df-88c8c8fe-4a48-4e77-b85d-629a81b76567')\"\n",
       "              title=\"Convert this dataframe to an interactive table.\"\n",
       "              style=\"display:none;\">\n",
       "        \n",
       "  <svg xmlns=\"http://www.w3.org/2000/svg\" height=\"24px\"viewBox=\"0 0 24 24\"\n",
       "       width=\"24px\">\n",
       "    <path d=\"M0 0h24v24H0V0z\" fill=\"none\"/>\n",
       "    <path d=\"M18.56 5.44l.94 2.06.94-2.06 2.06-.94-2.06-.94-.94-2.06-.94 2.06-2.06.94zm-11 1L8.5 8.5l.94-2.06 2.06-.94-2.06-.94L8.5 2.5l-.94 2.06-2.06.94zm10 10l.94 2.06.94-2.06 2.06-.94-2.06-.94-.94-2.06-.94 2.06-2.06.94z\"/><path d=\"M17.41 7.96l-1.37-1.37c-.4-.4-.92-.59-1.43-.59-.52 0-1.04.2-1.43.59L10.3 9.45l-7.72 7.72c-.78.78-.78 2.05 0 2.83L4 21.41c.39.39.9.59 1.41.59.51 0 1.02-.2 1.41-.59l7.78-7.78 2.81-2.81c.8-.78.8-2.07 0-2.86zM5.41 20L4 18.59l7.72-7.72 1.47 1.35L5.41 20z\"/>\n",
       "  </svg>\n",
       "      </button>\n",
       "      \n",
       "  <style>\n",
       "    .colab-df-container {\n",
       "      display:flex;\n",
       "      flex-wrap:wrap;\n",
       "      gap: 12px;\n",
       "    }\n",
       "\n",
       "    .colab-df-convert {\n",
       "      background-color: #E8F0FE;\n",
       "      border: none;\n",
       "      border-radius: 50%;\n",
       "      cursor: pointer;\n",
       "      display: none;\n",
       "      fill: #1967D2;\n",
       "      height: 32px;\n",
       "      padding: 0 0 0 0;\n",
       "      width: 32px;\n",
       "    }\n",
       "\n",
       "    .colab-df-convert:hover {\n",
       "      background-color: #E2EBFA;\n",
       "      box-shadow: 0px 1px 2px rgba(60, 64, 67, 0.3), 0px 1px 3px 1px rgba(60, 64, 67, 0.15);\n",
       "      fill: #174EA6;\n",
       "    }\n",
       "\n",
       "    [theme=dark] .colab-df-convert {\n",
       "      background-color: #3B4455;\n",
       "      fill: #D2E3FC;\n",
       "    }\n",
       "\n",
       "    [theme=dark] .colab-df-convert:hover {\n",
       "      background-color: #434B5C;\n",
       "      box-shadow: 0px 1px 3px 1px rgba(0, 0, 0, 0.15);\n",
       "      filter: drop-shadow(0px 1px 2px rgba(0, 0, 0, 0.3));\n",
       "      fill: #FFFFFF;\n",
       "    }\n",
       "  </style>\n",
       "\n",
       "      <script>\n",
       "        const buttonEl =\n",
       "          document.querySelector('#df-88c8c8fe-4a48-4e77-b85d-629a81b76567 button.colab-df-convert');\n",
       "        buttonEl.style.display =\n",
       "          google.colab.kernel.accessAllowed ? 'block' : 'none';\n",
       "\n",
       "        async function convertToInteractive(key) {\n",
       "          const element = document.querySelector('#df-88c8c8fe-4a48-4e77-b85d-629a81b76567');\n",
       "          const dataTable =\n",
       "            await google.colab.kernel.invokeFunction('convertToInteractive',\n",
       "                                                     [key], {});\n",
       "          if (!dataTable) return;\n",
       "\n",
       "          const docLinkHtml = 'Like what you see? Visit the ' +\n",
       "            '<a target=\"_blank\" href=https://colab.research.google.com/notebooks/data_table.ipynb>data table notebook</a>'\n",
       "            + ' to learn more about interactive tables.';\n",
       "          element.innerHTML = '';\n",
       "          dataTable['output_type'] = 'display_data';\n",
       "          await google.colab.output.renderOutput(dataTable, element);\n",
       "          const docLink = document.createElement('div');\n",
       "          docLink.innerHTML = docLinkHtml;\n",
       "          element.appendChild(docLink);\n",
       "        }\n",
       "      </script>\n",
       "    </div>\n",
       "  </div>\n",
       "  "
      ],
      "text/plain": [
       "                     model  Precision    Recall        f1   ROC_AUC      GINI\n",
       "0             LGBMBaseline   0.607814  0.564989  0.585620  0.628592  0.257185\n",
       "1         CatBoostBaseline   0.611604  0.565913  0.587872  0.630034  0.260068\n",
       "2          XGBoostBaseline   0.606800  0.555863  0.580216  0.623342  0.246683\n",
       "3     RandomForestBaseline   0.584381  0.585569  0.584974  0.600485  0.200970\n",
       "0  LGBMBaseline_embeddings   0.742578  0.720794  0.731523  0.812632  0.625265"
      ]
     },
     "execution_count": 41,
     "metadata": {},
     "output_type": "execute_result"
    }
   ],
   "source": [
    "y_pred_test = lgbm_gender.predict(X_test)\n",
    "y_score_test = lgbm_gender.predict_proba(X_test)\n",
    "\n",
    "metrics_gender = metrics_gender_baseline.append(\n",
    "    get_metrics_classification(y_test,\n",
    "                               y_pred_test,\n",
    "                               y_score_test,\n",
    "                               name='LGBMBaseline_embeddings'))\n",
    "metrics_gender"
   ]
  },
  {
   "cell_type": "markdown",
   "metadata": {
    "id": "U_wKEQ_ctxbg"
   },
   "source": [
    "## CatBoost"
   ]
  },
  {
   "cell_type": "code",
   "execution_count": 55,
   "metadata": {
    "colab": {
     "base_uri": "https://localhost:8080/"
    },
    "executionInfo": {
     "elapsed": 253104,
     "status": "ok",
     "timestamp": 1679737113757,
     "user": {
      "displayName": "Гоша Сидоркин",
      "userId": "09429149278087224251"
     },
     "user_tz": -240
    },
    "id": "CvWjS6ZHlVG4",
    "outputId": "fe1ddb7c-4fed-4ab2-b47c-bdb5484ebe1b"
   },
   "outputs": [
    {
     "name": "stdout",
     "output_type": "stream",
     "text": [
      "CPU times: user 13min 59s, sys: 14.5 s, total: 14min 13s\n",
      "Wall time: 4min 12s\n"
     ]
    },
    {
     "data": {
      "text/plain": [
       "<catboost.core.CatBoostClassifier at 0x7fa72d38fa90>"
      ]
     },
     "execution_count": 55,
     "metadata": {},
     "output_type": "execute_result"
    }
   ],
   "source": [
    "%%time\n",
    "cat_features = X.select_dtypes('category').columns.tolist()\n",
    "cat_gender = CatBoostClassifier(allow_writing_files=False,\n",
    "                                random_state=RAND,\n",
    "                                eval_metric=\"AUC\",\n",
    "                                cat_features=cat_features,\n",
    "                                scale_pos_weight=ratio)\n",
    "eval_set = [(X_val, y_val)]\n",
    "\n",
    "cat_gender.fit(X_train_,\n",
    "               y_train_,\n",
    "               eval_set=eval_set,\n",
    "               verbose=False,\n",
    "               early_stopping_rounds=100)"
   ]
  },
  {
   "cell_type": "code",
   "execution_count": 56,
   "metadata": {
    "colab": {
     "base_uri": "https://localhost:8080/"
    },
    "executionInfo": {
     "elapsed": 18,
     "status": "ok",
     "timestamp": 1679737113757,
     "user": {
      "displayName": "Гоша Сидоркин",
      "userId": "09429149278087224251"
     },
     "user_tz": -240
    },
    "id": "cpj_I4aOlktX",
    "outputId": "c5be63d4-53bf-4db8-efb6-86b49e368526"
   },
   "outputs": [
    {
     "name": "stdout",
     "output_type": "stream",
     "text": [
      "GINI по полу 0.688\n"
     ]
    }
   ],
   "source": [
    "print(\n",
    "    f'GINI по полу {2 * m.roc_auc_score(y_test, cat_gender.predict_proba(X_test)[:,1]) - 1:2.3f}'\n",
    ")"
   ]
  },
  {
   "cell_type": "code",
   "execution_count": 57,
   "metadata": {
    "colab": {
     "base_uri": "https://localhost:8080/"
    },
    "executionInfo": {
     "elapsed": 1002,
     "status": "ok",
     "timestamp": 1679737114755,
     "user": {
      "displayName": "Гоша Сидоркин",
      "userId": "09429149278087224251"
     },
     "user_tz": -240
    },
    "id": "35N4Ks_IuLd-",
    "outputId": "3852e7d4-2382-4fce-a847-fa03694f51d0"
   },
   "outputs": [
    {
     "name": "stdout",
     "output_type": "stream",
     "text": [
      "ROC-AUC train = 0.893\n",
      "ROC-AUC test = 0.844\n",
      "delta = 5.79%\n"
     ]
    }
   ],
   "source": [
    "check_overfitting_classification(cat_gender, X_train, y_train, X_test, y_test)"
   ]
  },
  {
   "cell_type": "code",
   "execution_count": 58,
   "metadata": {
    "colab": {
     "base_uri": "https://localhost:8080/",
     "height": 279
    },
    "executionInfo": {
     "elapsed": 547,
     "status": "ok",
     "timestamp": 1679737115298,
     "user": {
      "displayName": "Гоша Сидоркин",
      "userId": "09429149278087224251"
     },
     "user_tz": -240
    },
    "id": "Rb7uihUXuLf-",
    "outputId": "ea830010-2e5e-4e6f-d580-934ad53af523"
   },
   "outputs": [
    {
     "data": {
      "text/html": [
       "\n",
       "  <div id=\"df-b8616343-5418-444e-8502-f48c6736dd41\">\n",
       "    <div class=\"colab-df-container\">\n",
       "      <div>\n",
       "<style scoped>\n",
       "    .dataframe tbody tr th:only-of-type {\n",
       "        vertical-align: middle;\n",
       "    }\n",
       "\n",
       "    .dataframe tbody tr th {\n",
       "        vertical-align: top;\n",
       "    }\n",
       "\n",
       "    .dataframe thead th {\n",
       "        text-align: right;\n",
       "    }\n",
       "</style>\n",
       "<table border=\"1\" class=\"dataframe\">\n",
       "  <thead>\n",
       "    <tr style=\"text-align: right;\">\n",
       "      <th></th>\n",
       "      <th>model</th>\n",
       "      <th>Precision</th>\n",
       "      <th>Recall</th>\n",
       "      <th>f1</th>\n",
       "      <th>ROC_AUC</th>\n",
       "      <th>GINI</th>\n",
       "    </tr>\n",
       "  </thead>\n",
       "  <tbody>\n",
       "    <tr>\n",
       "      <th>0</th>\n",
       "      <td>LGBMBaseline</td>\n",
       "      <td>0.607814</td>\n",
       "      <td>0.564989</td>\n",
       "      <td>0.585620</td>\n",
       "      <td>0.628592</td>\n",
       "      <td>0.257185</td>\n",
       "    </tr>\n",
       "    <tr>\n",
       "      <th>1</th>\n",
       "      <td>CatBoostBaseline</td>\n",
       "      <td>0.611604</td>\n",
       "      <td>0.565913</td>\n",
       "      <td>0.587872</td>\n",
       "      <td>0.630034</td>\n",
       "      <td>0.260068</td>\n",
       "    </tr>\n",
       "    <tr>\n",
       "      <th>2</th>\n",
       "      <td>XGBoostBaseline</td>\n",
       "      <td>0.606800</td>\n",
       "      <td>0.555863</td>\n",
       "      <td>0.580216</td>\n",
       "      <td>0.623342</td>\n",
       "      <td>0.246683</td>\n",
       "    </tr>\n",
       "    <tr>\n",
       "      <th>3</th>\n",
       "      <td>RandomForestBaseline</td>\n",
       "      <td>0.584381</td>\n",
       "      <td>0.585569</td>\n",
       "      <td>0.584974</td>\n",
       "      <td>0.600485</td>\n",
       "      <td>0.200970</td>\n",
       "    </tr>\n",
       "    <tr>\n",
       "      <th>0</th>\n",
       "      <td>LGBMBaseline_embeddings</td>\n",
       "      <td>0.742578</td>\n",
       "      <td>0.720794</td>\n",
       "      <td>0.731523</td>\n",
       "      <td>0.812632</td>\n",
       "      <td>0.625265</td>\n",
       "    </tr>\n",
       "    <tr>\n",
       "      <th>0</th>\n",
       "      <td>CatBoostBaseline_embeddings</td>\n",
       "      <td>0.770574</td>\n",
       "      <td>0.748282</td>\n",
       "      <td>0.759264</td>\n",
       "      <td>0.843999</td>\n",
       "      <td>0.687998</td>\n",
       "    </tr>\n",
       "  </tbody>\n",
       "</table>\n",
       "</div>\n",
       "      <button class=\"colab-df-convert\" onclick=\"convertToInteractive('df-b8616343-5418-444e-8502-f48c6736dd41')\"\n",
       "              title=\"Convert this dataframe to an interactive table.\"\n",
       "              style=\"display:none;\">\n",
       "        \n",
       "  <svg xmlns=\"http://www.w3.org/2000/svg\" height=\"24px\"viewBox=\"0 0 24 24\"\n",
       "       width=\"24px\">\n",
       "    <path d=\"M0 0h24v24H0V0z\" fill=\"none\"/>\n",
       "    <path d=\"M18.56 5.44l.94 2.06.94-2.06 2.06-.94-2.06-.94-.94-2.06-.94 2.06-2.06.94zm-11 1L8.5 8.5l.94-2.06 2.06-.94-2.06-.94L8.5 2.5l-.94 2.06-2.06.94zm10 10l.94 2.06.94-2.06 2.06-.94-2.06-.94-.94-2.06-.94 2.06-2.06.94z\"/><path d=\"M17.41 7.96l-1.37-1.37c-.4-.4-.92-.59-1.43-.59-.52 0-1.04.2-1.43.59L10.3 9.45l-7.72 7.72c-.78.78-.78 2.05 0 2.83L4 21.41c.39.39.9.59 1.41.59.51 0 1.02-.2 1.41-.59l7.78-7.78 2.81-2.81c.8-.78.8-2.07 0-2.86zM5.41 20L4 18.59l7.72-7.72 1.47 1.35L5.41 20z\"/>\n",
       "  </svg>\n",
       "      </button>\n",
       "      \n",
       "  <style>\n",
       "    .colab-df-container {\n",
       "      display:flex;\n",
       "      flex-wrap:wrap;\n",
       "      gap: 12px;\n",
       "    }\n",
       "\n",
       "    .colab-df-convert {\n",
       "      background-color: #E8F0FE;\n",
       "      border: none;\n",
       "      border-radius: 50%;\n",
       "      cursor: pointer;\n",
       "      display: none;\n",
       "      fill: #1967D2;\n",
       "      height: 32px;\n",
       "      padding: 0 0 0 0;\n",
       "      width: 32px;\n",
       "    }\n",
       "\n",
       "    .colab-df-convert:hover {\n",
       "      background-color: #E2EBFA;\n",
       "      box-shadow: 0px 1px 2px rgba(60, 64, 67, 0.3), 0px 1px 3px 1px rgba(60, 64, 67, 0.15);\n",
       "      fill: #174EA6;\n",
       "    }\n",
       "\n",
       "    [theme=dark] .colab-df-convert {\n",
       "      background-color: #3B4455;\n",
       "      fill: #D2E3FC;\n",
       "    }\n",
       "\n",
       "    [theme=dark] .colab-df-convert:hover {\n",
       "      background-color: #434B5C;\n",
       "      box-shadow: 0px 1px 3px 1px rgba(0, 0, 0, 0.15);\n",
       "      filter: drop-shadow(0px 1px 2px rgba(0, 0, 0, 0.3));\n",
       "      fill: #FFFFFF;\n",
       "    }\n",
       "  </style>\n",
       "\n",
       "      <script>\n",
       "        const buttonEl =\n",
       "          document.querySelector('#df-b8616343-5418-444e-8502-f48c6736dd41 button.colab-df-convert');\n",
       "        buttonEl.style.display =\n",
       "          google.colab.kernel.accessAllowed ? 'block' : 'none';\n",
       "\n",
       "        async function convertToInteractive(key) {\n",
       "          const element = document.querySelector('#df-b8616343-5418-444e-8502-f48c6736dd41');\n",
       "          const dataTable =\n",
       "            await google.colab.kernel.invokeFunction('convertToInteractive',\n",
       "                                                     [key], {});\n",
       "          if (!dataTable) return;\n",
       "\n",
       "          const docLinkHtml = 'Like what you see? Visit the ' +\n",
       "            '<a target=\"_blank\" href=https://colab.research.google.com/notebooks/data_table.ipynb>data table notebook</a>'\n",
       "            + ' to learn more about interactive tables.';\n",
       "          element.innerHTML = '';\n",
       "          dataTable['output_type'] = 'display_data';\n",
       "          await google.colab.output.renderOutput(dataTable, element);\n",
       "          const docLink = document.createElement('div');\n",
       "          docLink.innerHTML = docLinkHtml;\n",
       "          element.appendChild(docLink);\n",
       "        }\n",
       "      </script>\n",
       "    </div>\n",
       "  </div>\n",
       "  "
      ],
      "text/plain": [
       "                         model  Precision    Recall        f1   ROC_AUC  \\\n",
       "0                 LGBMBaseline   0.607814  0.564989  0.585620  0.628592   \n",
       "1             CatBoostBaseline   0.611604  0.565913  0.587872  0.630034   \n",
       "2              XGBoostBaseline   0.606800  0.555863  0.580216  0.623342   \n",
       "3         RandomForestBaseline   0.584381  0.585569  0.584974  0.600485   \n",
       "0      LGBMBaseline_embeddings   0.742578  0.720794  0.731523  0.812632   \n",
       "0  CatBoostBaseline_embeddings   0.770574  0.748282  0.759264  0.843999   \n",
       "\n",
       "       GINI  \n",
       "0  0.257185  \n",
       "1  0.260068  \n",
       "2  0.246683  \n",
       "3  0.200970  \n",
       "0  0.625265  \n",
       "0  0.687998  "
      ]
     },
     "execution_count": 58,
     "metadata": {},
     "output_type": "execute_result"
    }
   ],
   "source": [
    "y_pred_test = cat_gender.predict(X_test)\n",
    "y_score_test = cat_gender.predict_proba(X_test)\n",
    "metrics_gender = metrics_gender[:5]\n",
    "metrics_gender = metrics_gender.append(\n",
    "    get_metrics_classification(y_test,\n",
    "                               y_pred_test,\n",
    "                               y_score_test,\n",
    "                               name='CatBoostBaseline_embeddings'))\n",
    "metrics_gender"
   ]
  },
  {
   "cell_type": "markdown",
   "metadata": {
    "id": "YCozoZGKyo3U"
   },
   "source": [
    "## XGBoost"
   ]
  },
  {
   "cell_type": "code",
   "execution_count": 59,
   "metadata": {
    "colab": {
     "base_uri": "https://localhost:8080/"
    },
    "executionInfo": {
     "elapsed": 1728,
     "status": "ok",
     "timestamp": 1679737117018,
     "user": {
      "displayName": "Гоша Сидоркин",
      "userId": "09429149278087224251"
     },
     "user_tz": -240
    },
    "id": "MG9HprLFIKkX",
    "outputId": "2f2c6b76-7aa9-4eb6-8e05-827bb1eb7642"
   },
   "outputs": [
    {
     "name": "stdout",
     "output_type": "stream",
     "text": [
      "CPU times: user 1.5 s, sys: 660 ms, total: 2.16 s\n",
      "Wall time: 2.15 s\n"
     ]
    }
   ],
   "source": [
    "%%time\n",
    "X = pd.get_dummies(df_train.drop(['user_id', 'age', 'is_male'], axis=1))\n",
    "y = df_train['is_male']\n",
    "\n",
    "X_train, X_test, y_train, y_test = train_test_split(X,\n",
    "                                                    y,\n",
    "                                                    test_size=0.2,\n",
    "                                                    shuffle=True,\n",
    "                                                    stratify=y,\n",
    "                                                    random_state=RAND)\n",
    "\n",
    "X_train_, X_val, y_train_, y_val = train_test_split(X_train,\n",
    "                                                    y_train,\n",
    "                                                    test_size=0.16,\n",
    "                                                    shuffle=True,\n",
    "                                                    stratify=y_train,\n",
    "                                                    random_state=RAND)\n",
    "\n",
    "# значение для scale_pos_weight\n",
    "ratio = float(np.sum(y == 0)) / np.sum(y == 1)"
   ]
  },
  {
   "cell_type": "code",
   "execution_count": 60,
   "metadata": {
    "colab": {
     "base_uri": "https://localhost:8080/",
     "height": 298
    },
    "executionInfo": {
     "elapsed": 714565,
     "status": "ok",
     "timestamp": 1679737831576,
     "user": {
      "displayName": "Гоша Сидоркин",
      "userId": "09429149278087224251"
     },
     "user_tz": -240
    },
    "id": "n9ZYW-LyuLme",
    "outputId": "b3358fef-d1b9-4521-c1d1-d69e1e52b791"
   },
   "outputs": [
    {
     "name": "stdout",
     "output_type": "stream",
     "text": [
      "CPU times: user 43min 11s, sys: 3.2 s, total: 43min 14s\n",
      "Wall time: 11min 54s\n"
     ]
    },
    {
     "data": {
      "text/html": [
       "<style>#sk-container-id-3 {color: black;background-color: white;}#sk-container-id-3 pre{padding: 0;}#sk-container-id-3 div.sk-toggleable {background-color: white;}#sk-container-id-3 label.sk-toggleable__label {cursor: pointer;display: block;width: 100%;margin-bottom: 0;padding: 0.3em;box-sizing: border-box;text-align: center;}#sk-container-id-3 label.sk-toggleable__label-arrow:before {content: \"▸\";float: left;margin-right: 0.25em;color: #696969;}#sk-container-id-3 label.sk-toggleable__label-arrow:hover:before {color: black;}#sk-container-id-3 div.sk-estimator:hover label.sk-toggleable__label-arrow:before {color: black;}#sk-container-id-3 div.sk-toggleable__content {max-height: 0;max-width: 0;overflow: hidden;text-align: left;background-color: #f0f8ff;}#sk-container-id-3 div.sk-toggleable__content pre {margin: 0.2em;color: black;border-radius: 0.25em;background-color: #f0f8ff;}#sk-container-id-3 input.sk-toggleable__control:checked~div.sk-toggleable__content {max-height: 200px;max-width: 100%;overflow: auto;}#sk-container-id-3 input.sk-toggleable__control:checked~label.sk-toggleable__label-arrow:before {content: \"▾\";}#sk-container-id-3 div.sk-estimator input.sk-toggleable__control:checked~label.sk-toggleable__label {background-color: #d4ebff;}#sk-container-id-3 div.sk-label input.sk-toggleable__control:checked~label.sk-toggleable__label {background-color: #d4ebff;}#sk-container-id-3 input.sk-hidden--visually {border: 0;clip: rect(1px 1px 1px 1px);clip: rect(1px, 1px, 1px, 1px);height: 1px;margin: -1px;overflow: hidden;padding: 0;position: absolute;width: 1px;}#sk-container-id-3 div.sk-estimator {font-family: monospace;background-color: #f0f8ff;border: 1px dotted black;border-radius: 0.25em;box-sizing: border-box;margin-bottom: 0.5em;}#sk-container-id-3 div.sk-estimator:hover {background-color: #d4ebff;}#sk-container-id-3 div.sk-parallel-item::after {content: \"\";width: 100%;border-bottom: 1px solid gray;flex-grow: 1;}#sk-container-id-3 div.sk-label:hover label.sk-toggleable__label {background-color: #d4ebff;}#sk-container-id-3 div.sk-serial::before {content: \"\";position: absolute;border-left: 1px solid gray;box-sizing: border-box;top: 0;bottom: 0;left: 50%;z-index: 0;}#sk-container-id-3 div.sk-serial {display: flex;flex-direction: column;align-items: center;background-color: white;padding-right: 0.2em;padding-left: 0.2em;position: relative;}#sk-container-id-3 div.sk-item {position: relative;z-index: 1;}#sk-container-id-3 div.sk-parallel {display: flex;align-items: stretch;justify-content: center;background-color: white;position: relative;}#sk-container-id-3 div.sk-item::before, #sk-container-id-3 div.sk-parallel-item::before {content: \"\";position: absolute;border-left: 1px solid gray;box-sizing: border-box;top: 0;bottom: 0;left: 50%;z-index: -1;}#sk-container-id-3 div.sk-parallel-item {display: flex;flex-direction: column;z-index: 1;position: relative;background-color: white;}#sk-container-id-3 div.sk-parallel-item:first-child::after {align-self: flex-end;width: 50%;}#sk-container-id-3 div.sk-parallel-item:last-child::after {align-self: flex-start;width: 50%;}#sk-container-id-3 div.sk-parallel-item:only-child::after {width: 0;}#sk-container-id-3 div.sk-dashed-wrapped {border: 1px dashed gray;margin: 0 0.4em 0.5em 0.4em;box-sizing: border-box;padding-bottom: 0.4em;background-color: white;}#sk-container-id-3 div.sk-label label {font-family: monospace;font-weight: bold;display: inline-block;line-height: 1.2em;}#sk-container-id-3 div.sk-label-container {text-align: center;}#sk-container-id-3 div.sk-container {/* jupyter's `normalize.less` sets `[hidden] { display: none; }` but bootstrap.min.css set `[hidden] { display: none !important; }` so we also need the `!important` here to be able to override the default hidden behavior on the sphinx rendered scikit-learn.org. See: https://github.com/scikit-learn/scikit-learn/issues/21755 */display: inline-block !important;position: relative;}#sk-container-id-3 div.sk-text-repr-fallback {display: none;}</style><div id=\"sk-container-id-3\" class=\"sk-top-container\"><div class=\"sk-text-repr-fallback\"><pre>XGBClassifier(base_score=None, booster=None, callbacks=None,\n",
       "              colsample_bylevel=None, colsample_bynode=None,\n",
       "              colsample_bytree=None, early_stopping_rounds=None,\n",
       "              enable_categorical=False, eval_metric=None, feature_types=None,\n",
       "              gamma=None, gpu_id=None, grow_policy=None, importance_type=None,\n",
       "              interaction_constraints=None, learning_rate=None, max_bin=None,\n",
       "              max_cat_threshold=None, max_cat_to_onehot=None,\n",
       "              max_delta_step=None, max_depth=None, max_leaves=None,\n",
       "              min_child_weight=None, missing=nan, monotone_constraints=None,\n",
       "              n_estimators=100, n_jobs=None, num_parallel_tree=None,\n",
       "              predictor=None, random_state=42, ...)</pre><b>In a Jupyter environment, please rerun this cell to show the HTML representation or trust the notebook. <br />On GitHub, the HTML representation is unable to render, please try loading this page with nbviewer.org.</b></div><div class=\"sk-container\" hidden><div class=\"sk-item\"><div class=\"sk-estimator sk-toggleable\"><input class=\"sk-toggleable__control sk-hidden--visually\" id=\"sk-estimator-id-3\" type=\"checkbox\" checked><label for=\"sk-estimator-id-3\" class=\"sk-toggleable__label sk-toggleable__label-arrow\">XGBClassifier</label><div class=\"sk-toggleable__content\"><pre>XGBClassifier(base_score=None, booster=None, callbacks=None,\n",
       "              colsample_bylevel=None, colsample_bynode=None,\n",
       "              colsample_bytree=None, early_stopping_rounds=None,\n",
       "              enable_categorical=False, eval_metric=None, feature_types=None,\n",
       "              gamma=None, gpu_id=None, grow_policy=None, importance_type=None,\n",
       "              interaction_constraints=None, learning_rate=None, max_bin=None,\n",
       "              max_cat_threshold=None, max_cat_to_onehot=None,\n",
       "              max_delta_step=None, max_depth=None, max_leaves=None,\n",
       "              min_child_weight=None, missing=nan, monotone_constraints=None,\n",
       "              n_estimators=100, n_jobs=None, num_parallel_tree=None,\n",
       "              predictor=None, random_state=42, ...)</pre></div></div></div></div></div>"
      ],
      "text/plain": [
       "XGBClassifier(base_score=None, booster=None, callbacks=None,\n",
       "              colsample_bylevel=None, colsample_bynode=None,\n",
       "              colsample_bytree=None, early_stopping_rounds=None,\n",
       "              enable_categorical=False, eval_metric=None, feature_types=None,\n",
       "              gamma=None, gpu_id=None, grow_policy=None, importance_type=None,\n",
       "              interaction_constraints=None, learning_rate=None, max_bin=None,\n",
       "              max_cat_threshold=None, max_cat_to_onehot=None,\n",
       "              max_delta_step=None, max_depth=None, max_leaves=None,\n",
       "              min_child_weight=None, missing=nan, monotone_constraints=None,\n",
       "              n_estimators=100, n_jobs=None, num_parallel_tree=None,\n",
       "              predictor=None, random_state=42, ...)"
      ]
     },
     "execution_count": 60,
     "metadata": {},
     "output_type": "execute_result"
    }
   ],
   "source": [
    "%%time\n",
    "xgb_gender = XGBClassifier(random_state=RAND, scale_pos_weight=ratio)\n",
    "eval_set = [(X_val, y_val)]\n",
    "\n",
    "xgb_gender.fit(X_train,\n",
    "               y_train,\n",
    "               eval_metric='auc',\n",
    "               eval_set=eval_set,\n",
    "               early_stopping_rounds=100,\n",
    "               verbose=0)"
   ]
  },
  {
   "cell_type": "code",
   "execution_count": 61,
   "metadata": {
    "colab": {
     "base_uri": "https://localhost:8080/"
    },
    "executionInfo": {
     "elapsed": 17,
     "status": "ok",
     "timestamp": 1679737831576,
     "user": {
      "displayName": "Гоша Сидоркин",
      "userId": "09429149278087224251"
     },
     "user_tz": -240
    },
    "id": "xZot8K8uzEGi",
    "outputId": "b82e0f3a-aea3-4e7e-c657-2b150869d054"
   },
   "outputs": [
    {
     "name": "stdout",
     "output_type": "stream",
     "text": [
      "GINI по полу 0.641\n"
     ]
    }
   ],
   "source": [
    "print(\n",
    "    f'GINI по полу {2 * m.roc_auc_score(y_test, xgb_gender.predict_proba(X_test)[:,1]) - 1:2.3f}'\n",
    ")"
   ]
  },
  {
   "cell_type": "code",
   "execution_count": 62,
   "metadata": {
    "colab": {
     "base_uri": "https://localhost:8080/"
    },
    "executionInfo": {
     "elapsed": 1218,
     "status": "ok",
     "timestamp": 1679737832789,
     "user": {
      "displayName": "Гоша Сидоркин",
      "userId": "09429149278087224251"
     },
     "user_tz": -240
    },
    "id": "-T2h2D-LzMic",
    "outputId": "d5f12ce5-140c-4070-d40f-470a23d21f1b"
   },
   "outputs": [
    {
     "name": "stdout",
     "output_type": "stream",
     "text": [
      "ROC-AUC train = 0.895\n",
      "ROC-AUC test = 0.821\n",
      "delta = 9.09%\n"
     ]
    }
   ],
   "source": [
    "check_overfitting_classification(xgb_gender, X_train, y_train, X_test, y_test)"
   ]
  },
  {
   "cell_type": "code",
   "execution_count": 63,
   "metadata": {
    "colab": {
     "base_uri": "https://localhost:8080/",
     "height": 310
    },
    "executionInfo": {
     "elapsed": 907,
     "status": "ok",
     "timestamp": 1679737833694,
     "user": {
      "displayName": "Гоша Сидоркин",
      "userId": "09429149278087224251"
     },
     "user_tz": -240
    },
    "id": "zn1FTHuozMkt",
    "outputId": "287acea3-4c72-44be-d2f5-8e063de2dde8"
   },
   "outputs": [
    {
     "data": {
      "text/html": [
       "\n",
       "  <div id=\"df-2f5277de-2744-456e-8212-cce9ba4df5aa\">\n",
       "    <div class=\"colab-df-container\">\n",
       "      <div>\n",
       "<style scoped>\n",
       "    .dataframe tbody tr th:only-of-type {\n",
       "        vertical-align: middle;\n",
       "    }\n",
       "\n",
       "    .dataframe tbody tr th {\n",
       "        vertical-align: top;\n",
       "    }\n",
       "\n",
       "    .dataframe thead th {\n",
       "        text-align: right;\n",
       "    }\n",
       "</style>\n",
       "<table border=\"1\" class=\"dataframe\">\n",
       "  <thead>\n",
       "    <tr style=\"text-align: right;\">\n",
       "      <th></th>\n",
       "      <th>model</th>\n",
       "      <th>Precision</th>\n",
       "      <th>Recall</th>\n",
       "      <th>f1</th>\n",
       "      <th>ROC_AUC</th>\n",
       "      <th>GINI</th>\n",
       "    </tr>\n",
       "  </thead>\n",
       "  <tbody>\n",
       "    <tr>\n",
       "      <th>0</th>\n",
       "      <td>LGBMBaseline</td>\n",
       "      <td>0.607814</td>\n",
       "      <td>0.564989</td>\n",
       "      <td>0.585620</td>\n",
       "      <td>0.628592</td>\n",
       "      <td>0.257185</td>\n",
       "    </tr>\n",
       "    <tr>\n",
       "      <th>1</th>\n",
       "      <td>CatBoostBaseline</td>\n",
       "      <td>0.611604</td>\n",
       "      <td>0.565913</td>\n",
       "      <td>0.587872</td>\n",
       "      <td>0.630034</td>\n",
       "      <td>0.260068</td>\n",
       "    </tr>\n",
       "    <tr>\n",
       "      <th>2</th>\n",
       "      <td>XGBoostBaseline</td>\n",
       "      <td>0.606800</td>\n",
       "      <td>0.555863</td>\n",
       "      <td>0.580216</td>\n",
       "      <td>0.623342</td>\n",
       "      <td>0.246683</td>\n",
       "    </tr>\n",
       "    <tr>\n",
       "      <th>3</th>\n",
       "      <td>RandomForestBaseline</td>\n",
       "      <td>0.584381</td>\n",
       "      <td>0.585569</td>\n",
       "      <td>0.584974</td>\n",
       "      <td>0.600485</td>\n",
       "      <td>0.200970</td>\n",
       "    </tr>\n",
       "    <tr>\n",
       "      <th>0</th>\n",
       "      <td>LGBMBaseline_embeddings</td>\n",
       "      <td>0.742578</td>\n",
       "      <td>0.720794</td>\n",
       "      <td>0.731523</td>\n",
       "      <td>0.812632</td>\n",
       "      <td>0.625265</td>\n",
       "    </tr>\n",
       "    <tr>\n",
       "      <th>0</th>\n",
       "      <td>CatBoostBaseline_embeddings</td>\n",
       "      <td>0.770574</td>\n",
       "      <td>0.748282</td>\n",
       "      <td>0.759264</td>\n",
       "      <td>0.843999</td>\n",
       "      <td>0.687998</td>\n",
       "    </tr>\n",
       "    <tr>\n",
       "      <th>0</th>\n",
       "      <td>XGBoostBaseline_embeddings</td>\n",
       "      <td>0.745593</td>\n",
       "      <td>0.728294</td>\n",
       "      <td>0.736842</td>\n",
       "      <td>0.820728</td>\n",
       "      <td>0.641457</td>\n",
       "    </tr>\n",
       "  </tbody>\n",
       "</table>\n",
       "</div>\n",
       "      <button class=\"colab-df-convert\" onclick=\"convertToInteractive('df-2f5277de-2744-456e-8212-cce9ba4df5aa')\"\n",
       "              title=\"Convert this dataframe to an interactive table.\"\n",
       "              style=\"display:none;\">\n",
       "        \n",
       "  <svg xmlns=\"http://www.w3.org/2000/svg\" height=\"24px\"viewBox=\"0 0 24 24\"\n",
       "       width=\"24px\">\n",
       "    <path d=\"M0 0h24v24H0V0z\" fill=\"none\"/>\n",
       "    <path d=\"M18.56 5.44l.94 2.06.94-2.06 2.06-.94-2.06-.94-.94-2.06-.94 2.06-2.06.94zm-11 1L8.5 8.5l.94-2.06 2.06-.94-2.06-.94L8.5 2.5l-.94 2.06-2.06.94zm10 10l.94 2.06.94-2.06 2.06-.94-2.06-.94-.94-2.06-.94 2.06-2.06.94z\"/><path d=\"M17.41 7.96l-1.37-1.37c-.4-.4-.92-.59-1.43-.59-.52 0-1.04.2-1.43.59L10.3 9.45l-7.72 7.72c-.78.78-.78 2.05 0 2.83L4 21.41c.39.39.9.59 1.41.59.51 0 1.02-.2 1.41-.59l7.78-7.78 2.81-2.81c.8-.78.8-2.07 0-2.86zM5.41 20L4 18.59l7.72-7.72 1.47 1.35L5.41 20z\"/>\n",
       "  </svg>\n",
       "      </button>\n",
       "      \n",
       "  <style>\n",
       "    .colab-df-container {\n",
       "      display:flex;\n",
       "      flex-wrap:wrap;\n",
       "      gap: 12px;\n",
       "    }\n",
       "\n",
       "    .colab-df-convert {\n",
       "      background-color: #E8F0FE;\n",
       "      border: none;\n",
       "      border-radius: 50%;\n",
       "      cursor: pointer;\n",
       "      display: none;\n",
       "      fill: #1967D2;\n",
       "      height: 32px;\n",
       "      padding: 0 0 0 0;\n",
       "      width: 32px;\n",
       "    }\n",
       "\n",
       "    .colab-df-convert:hover {\n",
       "      background-color: #E2EBFA;\n",
       "      box-shadow: 0px 1px 2px rgba(60, 64, 67, 0.3), 0px 1px 3px 1px rgba(60, 64, 67, 0.15);\n",
       "      fill: #174EA6;\n",
       "    }\n",
       "\n",
       "    [theme=dark] .colab-df-convert {\n",
       "      background-color: #3B4455;\n",
       "      fill: #D2E3FC;\n",
       "    }\n",
       "\n",
       "    [theme=dark] .colab-df-convert:hover {\n",
       "      background-color: #434B5C;\n",
       "      box-shadow: 0px 1px 3px 1px rgba(0, 0, 0, 0.15);\n",
       "      filter: drop-shadow(0px 1px 2px rgba(0, 0, 0, 0.3));\n",
       "      fill: #FFFFFF;\n",
       "    }\n",
       "  </style>\n",
       "\n",
       "      <script>\n",
       "        const buttonEl =\n",
       "          document.querySelector('#df-2f5277de-2744-456e-8212-cce9ba4df5aa button.colab-df-convert');\n",
       "        buttonEl.style.display =\n",
       "          google.colab.kernel.accessAllowed ? 'block' : 'none';\n",
       "\n",
       "        async function convertToInteractive(key) {\n",
       "          const element = document.querySelector('#df-2f5277de-2744-456e-8212-cce9ba4df5aa');\n",
       "          const dataTable =\n",
       "            await google.colab.kernel.invokeFunction('convertToInteractive',\n",
       "                                                     [key], {});\n",
       "          if (!dataTable) return;\n",
       "\n",
       "          const docLinkHtml = 'Like what you see? Visit the ' +\n",
       "            '<a target=\"_blank\" href=https://colab.research.google.com/notebooks/data_table.ipynb>data table notebook</a>'\n",
       "            + ' to learn more about interactive tables.';\n",
       "          element.innerHTML = '';\n",
       "          dataTable['output_type'] = 'display_data';\n",
       "          await google.colab.output.renderOutput(dataTable, element);\n",
       "          const docLink = document.createElement('div');\n",
       "          docLink.innerHTML = docLinkHtml;\n",
       "          element.appendChild(docLink);\n",
       "        }\n",
       "      </script>\n",
       "    </div>\n",
       "  </div>\n",
       "  "
      ],
      "text/plain": [
       "                         model  Precision    Recall        f1   ROC_AUC  \\\n",
       "0                 LGBMBaseline   0.607814  0.564989  0.585620  0.628592   \n",
       "1             CatBoostBaseline   0.611604  0.565913  0.587872  0.630034   \n",
       "2              XGBoostBaseline   0.606800  0.555863  0.580216  0.623342   \n",
       "3         RandomForestBaseline   0.584381  0.585569  0.584974  0.600485   \n",
       "0      LGBMBaseline_embeddings   0.742578  0.720794  0.731523  0.812632   \n",
       "0  CatBoostBaseline_embeddings   0.770574  0.748282  0.759264  0.843999   \n",
       "0   XGBoostBaseline_embeddings   0.745593  0.728294  0.736842  0.820728   \n",
       "\n",
       "       GINI  \n",
       "0  0.257185  \n",
       "1  0.260068  \n",
       "2  0.246683  \n",
       "3  0.200970  \n",
       "0  0.625265  \n",
       "0  0.687998  \n",
       "0  0.641457  "
      ]
     },
     "execution_count": 63,
     "metadata": {},
     "output_type": "execute_result"
    }
   ],
   "source": [
    "y_pred_test = xgb_gender.predict(X_test)\n",
    "y_score_test = xgb_gender.predict_proba(X_test)\n",
    "\n",
    "metrics_gender = metrics_gender.append(\n",
    "    get_metrics_classification(y_test,\n",
    "                               y_pred_test,\n",
    "                               y_score_test,\n",
    "                               name='XGBoostBaseline_embeddings'))\n",
    "metrics_gender"
   ]
  },
  {
   "cell_type": "markdown",
   "metadata": {
    "id": "sm7ZWDjDNh41"
   },
   "source": [
    "Вывод: самые высокие метрики у catboost с эмбеддингами"
   ]
  },
  {
   "cell_type": "code",
   "execution_count": 66,
   "metadata": {
    "executionInfo": {
     "elapsed": 10,
     "status": "ok",
     "timestamp": 1679737837813,
     "user": {
      "displayName": "Гоша Сидоркин",
      "userId": "09429149278087224251"
     },
     "user_tz": -240
    },
    "id": "bhMlcqbTZfhR"
   },
   "outputs": [],
   "source": [
    "metrics_gender.to_csv('metrics/metrics_gender_embeddings.csv', index=False)"
   ]
  },
  {
   "cell_type": "markdown",
   "metadata": {
    "id": "9EyfqMjJN66o"
   },
   "source": [
    "# Baseline age prediction"
   ]
  },
  {
   "cell_type": "code",
   "execution_count": 25,
   "metadata": {
    "executionInfo": {
     "elapsed": 9,
     "status": "ok",
     "timestamp": 1679752713579,
     "user": {
      "displayName": "Гоша Сидоркин",
      "userId": "09429149278087224251"
     },
     "user_tz": -240
    },
    "id": "AmMaax-0Oaha"
   },
   "outputs": [],
   "source": [
    "def age_bucket(x):\n",
    "    return bisect.bisect_left([18, 25, 35, 45, 55, 65], x)"
   ]
  },
  {
   "cell_type": "markdown",
   "metadata": {
    "id": "s5_LU2MTSAdf"
   },
   "source": [
    "## LGBM"
   ]
  },
  {
   "cell_type": "code",
   "execution_count": 26,
   "metadata": {
    "colab": {
     "base_uri": "https://localhost:8080/",
     "height": 279
    },
    "executionInfo": {
     "elapsed": 4823,
     "status": "ok",
     "timestamp": 1679752718398,
     "user": {
      "displayName": "Гоша Сидоркин",
      "userId": "09429149278087224251"
     },
     "user_tz": -240
    },
    "id": "6khH6xszOiDU",
    "outputId": "0aacb1fc-d810-4a18-8b97-3d3a33ac6662"
   },
   "outputs": [
    {
     "data": {
      "image/png": "[encoded data removed]",
      "text/plain": [
       "<Figure size 432x288 with 1 Axes>"
      ]
     },
     "metadata": {},
     "output_type": "display_data"
    }
   ],
   "source": [
    "df_trn = targets.merge(df, how='inner', on=['user_id']) \\\n",
    "    .merge(url_emb, how='inner', on='user_id') \\\n",
    "    .merge(model_emb, how='inner', on=['user_id']) \\\n",
    "    .merge(reg_emb, how='inner', on=['user_id']) \\\n",
    "    .merge(city_emb, how='inner', on=['user_id'])\n",
    "\n",
    "df_trn = df_trn[df_trn['age'] != 'NA']\n",
    "df_trn = df_trn.dropna()\n",
    "df_trn['age'] = df_trn['age'].map(age_bucket)\n",
    "sns.histplot(df_trn['age'], bins=7)"
   ]
  },
  {
   "cell_type": "code",
   "execution_count": 27,
   "metadata": {
    "executionInfo": {
     "elapsed": 1746,
     "status": "ok",
     "timestamp": 1679752720138,
     "user": {
      "displayName": "Гоша Сидоркин",
      "userId": "09429149278087224251"
     },
     "user_tz": -240
    },
    "id": "8e98kO2GPmbm"
   },
   "outputs": [],
   "source": [
    "# разбивка данных на train и test\n",
    "X = df_trn.drop(['age', 'is_male', 'user_id'], axis=1)\n",
    "y = df_trn['age']\n",
    "\n",
    "X_train, X_test, y_train, y_test = train_test_split(X,\n",
    "                                                    y,\n",
    "                                                    test_size=0.2,\n",
    "                                                    shuffle=True,\n",
    "                                                    stratify=y,\n",
    "                                                    random_state=RAND)\n",
    "\n",
    "X_train_, X_val, y_train_, y_val = train_test_split(X_train,\n",
    "                                                    y_train,\n",
    "                                                    test_size=0.16,\n",
    "                                                    shuffle=True,\n",
    "                                                    stratify=y_train,\n",
    "                                                    random_state=RAND)\n",
    "\n",
    "n_classes = len(set(y))\n",
    "y_train_bin = label_binarize(y_train, classes=list(set(y)))\n",
    "y_test_bin = label_binarize(y_test, classes=list(set(y)))"
   ]
  },
  {
   "cell_type": "code",
   "execution_count": 28,
   "metadata": {
    "colab": {
     "base_uri": "https://localhost:8080/",
     "height": 128
    },
    "executionInfo": {
     "elapsed": 150892,
     "status": "ok",
     "timestamp": 1679752871024,
     "user": {
      "displayName": "Гоша Сидоркин",
      "userId": "09429149278087224251"
     },
     "user_tz": -240
    },
    "id": "ukmjLewnRZtV",
    "outputId": "49c76a9c-4a4f-4a8d-ee06-cac3482099ac"
   },
   "outputs": [
    {
     "name": "stdout",
     "output_type": "stream",
     "text": [
      "CPU times: user 9min 1s, sys: 1.43 s, total: 9min 2s\n",
      "Wall time: 2min 30s\n"
     ]
    },
    {
     "data": {
      "text/html": [
       "<style>#sk-container-id-1 {color: black;background-color: white;}#sk-container-id-1 pre{padding: 0;}#sk-container-id-1 div.sk-toggleable {background-color: white;}#sk-container-id-1 label.sk-toggleable__label {cursor: pointer;display: block;width: 100%;margin-bottom: 0;padding: 0.3em;box-sizing: border-box;text-align: center;}#sk-container-id-1 label.sk-toggleable__label-arrow:before {content: \"▸\";float: left;margin-right: 0.25em;color: #696969;}#sk-container-id-1 label.sk-toggleable__label-arrow:hover:before {color: black;}#sk-container-id-1 div.sk-estimator:hover label.sk-toggleable__label-arrow:before {color: black;}#sk-container-id-1 div.sk-toggleable__content {max-height: 0;max-width: 0;overflow: hidden;text-align: left;background-color: #f0f8ff;}#sk-container-id-1 div.sk-toggleable__content pre {margin: 0.2em;color: black;border-radius: 0.25em;background-color: #f0f8ff;}#sk-container-id-1 input.sk-toggleable__control:checked~div.sk-toggleable__content {max-height: 200px;max-width: 100%;overflow: auto;}#sk-container-id-1 input.sk-toggleable__control:checked~label.sk-toggleable__label-arrow:before {content: \"▾\";}#sk-container-id-1 div.sk-estimator input.sk-toggleable__control:checked~label.sk-toggleable__label {background-color: #d4ebff;}#sk-container-id-1 div.sk-label input.sk-toggleable__control:checked~label.sk-toggleable__label {background-color: #d4ebff;}#sk-container-id-1 input.sk-hidden--visually {border: 0;clip: rect(1px 1px 1px 1px);clip: rect(1px, 1px, 1px, 1px);height: 1px;margin: -1px;overflow: hidden;padding: 0;position: absolute;width: 1px;}#sk-container-id-1 div.sk-estimator {font-family: monospace;background-color: #f0f8ff;border: 1px dotted black;border-radius: 0.25em;box-sizing: border-box;margin-bottom: 0.5em;}#sk-container-id-1 div.sk-estimator:hover {background-color: #d4ebff;}#sk-container-id-1 div.sk-parallel-item::after {content: \"\";width: 100%;border-bottom: 1px solid gray;flex-grow: 1;}#sk-container-id-1 div.sk-label:hover label.sk-toggleable__label {background-color: #d4ebff;}#sk-container-id-1 div.sk-serial::before {content: \"\";position: absolute;border-left: 1px solid gray;box-sizing: border-box;top: 0;bottom: 0;left: 50%;z-index: 0;}#sk-container-id-1 div.sk-serial {display: flex;flex-direction: column;align-items: center;background-color: white;padding-right: 0.2em;padding-left: 0.2em;position: relative;}#sk-container-id-1 div.sk-item {position: relative;z-index: 1;}#sk-container-id-1 div.sk-parallel {display: flex;align-items: stretch;justify-content: center;background-color: white;position: relative;}#sk-container-id-1 div.sk-item::before, #sk-container-id-1 div.sk-parallel-item::before {content: \"\";position: absolute;border-left: 1px solid gray;box-sizing: border-box;top: 0;bottom: 0;left: 50%;z-index: -1;}#sk-container-id-1 div.sk-parallel-item {display: flex;flex-direction: column;z-index: 1;position: relative;background-color: white;}#sk-container-id-1 div.sk-parallel-item:first-child::after {align-self: flex-end;width: 50%;}#sk-container-id-1 div.sk-parallel-item:last-child::after {align-self: flex-start;width: 50%;}#sk-container-id-1 div.sk-parallel-item:only-child::after {width: 0;}#sk-container-id-1 div.sk-dashed-wrapped {border: 1px dashed gray;margin: 0 0.4em 0.5em 0.4em;box-sizing: border-box;padding-bottom: 0.4em;background-color: white;}#sk-container-id-1 div.sk-label label {font-family: monospace;font-weight: bold;display: inline-block;line-height: 1.2em;}#sk-container-id-1 div.sk-label-container {text-align: center;}#sk-container-id-1 div.sk-container {/* jupyter's `normalize.less` sets `[hidden] { display: none; }` but bootstrap.min.css set `[hidden] { display: none !important; }` so we also need the `!important` here to be able to override the default hidden behavior on the sphinx rendered scikit-learn.org. See: https://github.com/scikit-learn/scikit-learn/issues/21755 */display: inline-block !important;position: relative;}#sk-container-id-1 div.sk-text-repr-fallback {display: none;}</style><div id=\"sk-container-id-1\" class=\"sk-top-container\"><div class=\"sk-text-repr-fallback\"><pre>LGBMClassifier(class_weight=&#x27;balanced&#x27;, objective=&#x27;multiclass&#x27;, random_state=42)</pre><b>In a Jupyter environment, please rerun this cell to show the HTML representation or trust the notebook. <br />On GitHub, the HTML representation is unable to render, please try loading this page with nbviewer.org.</b></div><div class=\"sk-container\" hidden><div class=\"sk-item\"><div class=\"sk-estimator sk-toggleable\"><input class=\"sk-toggleable__control sk-hidden--visually\" id=\"sk-estimator-id-1\" type=\"checkbox\" checked><label for=\"sk-estimator-id-1\" class=\"sk-toggleable__label sk-toggleable__label-arrow\">LGBMClassifier</label><div class=\"sk-toggleable__content\"><pre>LGBMClassifier(class_weight=&#x27;balanced&#x27;, objective=&#x27;multiclass&#x27;, random_state=42)</pre></div></div></div></div></div>"
      ],
      "text/plain": [
       "LGBMClassifier(class_weight='balanced', objective='multiclass', random_state=42)"
      ]
     },
     "execution_count": 28,
     "metadata": {},
     "output_type": "execute_result"
    }
   ],
   "source": [
    "%%time\n",
    "lgbm_age = LGBMClassifier(random_state=RAND,\n",
    "                          class_weight='balanced',\n",
    "                          objective='multiclass')\n",
    "eval_set = [(X_val, y_val)]\n",
    "\n",
    "lgbm_age.fit(X_train_,\n",
    "             y_train_,\n",
    "             eval_set=eval_set,\n",
    "             early_stopping_rounds=100,\n",
    "             verbose=False)"
   ]
  },
  {
   "cell_type": "code",
   "execution_count": 29,
   "metadata": {
    "colab": {
     "base_uri": "https://localhost:8080/"
    },
    "executionInfo": {
     "elapsed": 6902,
     "status": "ok",
     "timestamp": 1679752877916,
     "user": {
      "displayName": "Гоша Сидоркин",
      "userId": "09429149278087224251"
     },
     "user_tz": -240
    },
    "id": "mHLblBKWRZwf",
    "outputId": "a2da068b-4cd0-4345-83bd-ac1714fb31a5"
   },
   "outputs": [
    {
     "name": "stdout",
     "output_type": "stream",
     "text": [
      "ROC-AUC train = 0.840\n",
      "ROC-AUC test = 0.765\n",
      "delta = 9.79%\n"
     ]
    }
   ],
   "source": [
    "check_overfitting_multiclass(lgbm_age, X_train, y_train_bin, X_test, y_test_bin)"
   ]
  },
  {
   "cell_type": "code",
   "execution_count": 30,
   "metadata": {
    "colab": {
     "base_uri": "https://localhost:8080/"
    },
    "executionInfo": {
     "elapsed": 1838,
     "status": "ok",
     "timestamp": 1679752879747,
     "user": {
      "displayName": "Гоша Сидоркин",
      "userId": "09429149278087224251"
     },
     "user_tz": -240
    },
    "id": "4dOnqoBgRZ13",
    "outputId": "e727b5b5-1ce0-4fe1-bb25-ec08bdd5fec0"
   },
   "outputs": [
    {
     "name": "stdout",
     "output_type": "stream",
     "text": [
      "              precision    recall  f1-score   support\n",
      "\n",
      "         <18       0.03      0.11      0.05       207\n",
      "       18-25       0.36      0.63      0.46      6528\n",
      "       25-34       0.51      0.34      0.41     17454\n",
      "       35-44       0.43      0.27      0.33     15497\n",
      "       45-54       0.29      0.25      0.27      8489\n",
      "       55-65       0.22      0.35      0.27      4716\n",
      "         65+       0.09      0.42      0.15      1101\n",
      "\n",
      "    accuracy                           0.34     53992\n",
      "   macro avg       0.27      0.34      0.28     53992\n",
      "weighted avg       0.40      0.34      0.35     53992\n",
      "\n"
     ]
    }
   ],
   "source": [
    "print(\n",
    "    m.classification_report(y_test,\n",
    "                            lgbm_age.predict(X_test),\n",
    "                            target_names=[\n",
    "                                '<18', '18-25', '25-34', '35-44', '45-54',\n",
    "                                '55-65', '65+'\n",
    "                            ]))"
   ]
  },
  {
   "cell_type": "code",
   "execution_count": 31,
   "metadata": {
    "colab": {
     "base_uri": "https://localhost:8080/",
     "height": 237
    },
    "executionInfo": {
     "elapsed": 3777,
     "status": "ok",
     "timestamp": 1679752883520,
     "user": {
      "displayName": "Гоша Сидоркин",
      "userId": "09429149278087224251"
     },
     "user_tz": -240
    },
    "id": "Qc8g6KVDRZx-",
    "outputId": "21a68ce4-3342-4126-e18b-3d3c0104b8a5"
   },
   "outputs": [
    {
     "data": {
      "text/html": [
       "\n",
       "  <div id=\"df-109409a5-3b14-48a1-b279-329000ef6d8d\">\n",
       "    <div class=\"colab-df-container\">\n",
       "      <div>\n",
       "<style scoped>\n",
       "    .dataframe tbody tr th:only-of-type {\n",
       "        vertical-align: middle;\n",
       "    }\n",
       "\n",
       "    .dataframe tbody tr th {\n",
       "        vertical-align: top;\n",
       "    }\n",
       "\n",
       "    .dataframe thead th {\n",
       "        text-align: right;\n",
       "    }\n",
       "</style>\n",
       "<table border=\"1\" class=\"dataframe\">\n",
       "  <thead>\n",
       "    <tr style=\"text-align: right;\">\n",
       "      <th></th>\n",
       "      <th>model</th>\n",
       "      <th>ROC_AUC</th>\n",
       "      <th>Precision_micro</th>\n",
       "      <th>Precision_macro</th>\n",
       "      <th>Recall_micro</th>\n",
       "      <th>Recall_macro</th>\n",
       "      <th>F1_micro</th>\n",
       "      <th>F1_macro</th>\n",
       "      <th>Logloss</th>\n",
       "    </tr>\n",
       "  </thead>\n",
       "  <tbody>\n",
       "    <tr>\n",
       "      <th>0</th>\n",
       "      <td>LGBM_Baseline</td>\n",
       "      <td>0.665440</td>\n",
       "      <td>0.223941</td>\n",
       "      <td>0.206321</td>\n",
       "      <td>0.223941</td>\n",
       "      <td>0.257902</td>\n",
       "      <td>0.223941</td>\n",
       "      <td>0.186803</td>\n",
       "      <td>1.756957</td>\n",
       "    </tr>\n",
       "    <tr>\n",
       "      <th>1</th>\n",
       "      <td>CatBoost_Baseline</td>\n",
       "      <td>0.678626</td>\n",
       "      <td>0.363721</td>\n",
       "      <td>0.260785</td>\n",
       "      <td>0.363721</td>\n",
       "      <td>0.191032</td>\n",
       "      <td>0.363721</td>\n",
       "      <td>0.182633</td>\n",
       "      <td>1.483299</td>\n",
       "    </tr>\n",
       "    <tr>\n",
       "      <th>2</th>\n",
       "      <td>RandomForest_Baseline</td>\n",
       "      <td>0.630193</td>\n",
       "      <td>0.345829</td>\n",
       "      <td>0.219442</td>\n",
       "      <td>0.345829</td>\n",
       "      <td>0.180165</td>\n",
       "      <td>0.345829</td>\n",
       "      <td>0.170520</td>\n",
       "      <td>1.794659</td>\n",
       "    </tr>\n",
       "    <tr>\n",
       "      <th>0</th>\n",
       "      <td>LGBM_Baseline_embeddings</td>\n",
       "      <td>0.764762</td>\n",
       "      <td>0.344662</td>\n",
       "      <td>0.274598</td>\n",
       "      <td>0.344662</td>\n",
       "      <td>0.339979</td>\n",
       "      <td>0.344662</td>\n",
       "      <td>0.275853</td>\n",
       "      <td>1.508385</td>\n",
       "    </tr>\n",
       "  </tbody>\n",
       "</table>\n",
       "</div>\n",
       "      <button class=\"colab-df-convert\" onclick=\"convertToInteractive('df-109409a5-3b14-48a1-b279-329000ef6d8d')\"\n",
       "              title=\"Convert this dataframe to an interactive table.\"\n",
       "              style=\"display:none;\">\n",
       "        \n",
       "  <svg xmlns=\"http://www.w3.org/2000/svg\" height=\"24px\"viewBox=\"0 0 24 24\"\n",
       "       width=\"24px\">\n",
       "    <path d=\"M0 0h24v24H0V0z\" fill=\"none\"/>\n",
       "    <path d=\"M18.56 5.44l.94 2.06.94-2.06 2.06-.94-2.06-.94-.94-2.06-.94 2.06-2.06.94zm-11 1L8.5 8.5l.94-2.06 2.06-.94-2.06-.94L8.5 2.5l-.94 2.06-2.06.94zm10 10l.94 2.06.94-2.06 2.06-.94-2.06-.94-.94-2.06-.94 2.06-2.06.94z\"/><path d=\"M17.41 7.96l-1.37-1.37c-.4-.4-.92-.59-1.43-.59-.52 0-1.04.2-1.43.59L10.3 9.45l-7.72 7.72c-.78.78-.78 2.05 0 2.83L4 21.41c.39.39.9.59 1.41.59.51 0 1.02-.2 1.41-.59l7.78-7.78 2.81-2.81c.8-.78.8-2.07 0-2.86zM5.41 20L4 18.59l7.72-7.72 1.47 1.35L5.41 20z\"/>\n",
       "  </svg>\n",
       "      </button>\n",
       "      \n",
       "  <style>\n",
       "    .colab-df-container {\n",
       "      display:flex;\n",
       "      flex-wrap:wrap;\n",
       "      gap: 12px;\n",
       "    }\n",
       "\n",
       "    .colab-df-convert {\n",
       "      background-color: #E8F0FE;\n",
       "      border: none;\n",
       "      border-radius: 50%;\n",
       "      cursor: pointer;\n",
       "      display: none;\n",
       "      fill: #1967D2;\n",
       "      height: 32px;\n",
       "      padding: 0 0 0 0;\n",
       "      width: 32px;\n",
       "    }\n",
       "\n",
       "    .colab-df-convert:hover {\n",
       "      background-color: #E2EBFA;\n",
       "      box-shadow: 0px 1px 2px rgba(60, 64, 67, 0.3), 0px 1px 3px 1px rgba(60, 64, 67, 0.15);\n",
       "      fill: #174EA6;\n",
       "    }\n",
       "\n",
       "    [theme=dark] .colab-df-convert {\n",
       "      background-color: #3B4455;\n",
       "      fill: #D2E3FC;\n",
       "    }\n",
       "\n",
       "    [theme=dark] .colab-df-convert:hover {\n",
       "      background-color: #434B5C;\n",
       "      box-shadow: 0px 1px 3px 1px rgba(0, 0, 0, 0.15);\n",
       "      filter: drop-shadow(0px 1px 2px rgba(0, 0, 0, 0.3));\n",
       "      fill: #FFFFFF;\n",
       "    }\n",
       "  </style>\n",
       "\n",
       "      <script>\n",
       "        const buttonEl =\n",
       "          document.querySelector('#df-109409a5-3b14-48a1-b279-329000ef6d8d button.colab-df-convert');\n",
       "        buttonEl.style.display =\n",
       "          google.colab.kernel.accessAllowed ? 'block' : 'none';\n",
       "\n",
       "        async function convertToInteractive(key) {\n",
       "          const element = document.querySelector('#df-109409a5-3b14-48a1-b279-329000ef6d8d');\n",
       "          const dataTable =\n",
       "            await google.colab.kernel.invokeFunction('convertToInteractive',\n",
       "                                                     [key], {});\n",
       "          if (!dataTable) return;\n",
       "\n",
       "          const docLinkHtml = 'Like what you see? Visit the ' +\n",
       "            '<a target=\"_blank\" href=https://colab.research.google.com/notebooks/data_table.ipynb>data table notebook</a>'\n",
       "            + ' to learn more about interactive tables.';\n",
       "          element.innerHTML = '';\n",
       "          dataTable['output_type'] = 'display_data';\n",
       "          await google.colab.output.renderOutput(dataTable, element);\n",
       "          const docLink = document.createElement('div');\n",
       "          docLink.innerHTML = docLinkHtml;\n",
       "          element.appendChild(docLink);\n",
       "        }\n",
       "      </script>\n",
       "    </div>\n",
       "  </div>\n",
       "  "
      ],
      "text/plain": [
       "                      model   ROC_AUC  Precision_micro  Precision_macro  \\\n",
       "0             LGBM_Baseline  0.665440         0.223941         0.206321   \n",
       "1         CatBoost_Baseline  0.678626         0.363721         0.260785   \n",
       "2     RandomForest_Baseline  0.630193         0.345829         0.219442   \n",
       "0  LGBM_Baseline_embeddings  0.764762         0.344662         0.274598   \n",
       "\n",
       "   Recall_micro  Recall_macro  F1_micro  F1_macro   Logloss  \n",
       "0      0.223941      0.257902  0.223941  0.186803  1.756957  \n",
       "1      0.363721      0.191032  0.363721  0.182633  1.483299  \n",
       "2      0.345829      0.180165  0.345829  0.170520  1.794659  \n",
       "0      0.344662      0.339979  0.344662  0.275853  1.508385  "
      ]
     },
     "execution_count": 31,
     "metadata": {},
     "output_type": "execute_result"
    }
   ],
   "source": [
    "y_pred = lgbm_age.predict(X_test)\n",
    "y_score = lgbm_age.predict_proba(X_test)\n",
    "\n",
    "metrics_age = metrics_age_baseline.append(\n",
    "    get_metrics_multiclass(y_test_bin=y_test_bin,\n",
    "                           y_test=y_test,\n",
    "                           y_pred=y_pred,\n",
    "                           y_prob=y_score,\n",
    "                           name='LGBM_Baseline_embeddings',\n",
    "                           type_multi='ovo'))\n",
    "metrics_age"
   ]
  },
  {
   "cell_type": "markdown",
   "metadata": {
    "id": "JJuJt6IUVQYM"
   },
   "source": [
    "## Catboost"
   ]
  },
  {
   "cell_type": "code",
   "execution_count": 32,
   "metadata": {
    "colab": {
     "base_uri": "https://localhost:8080/",
     "height": 279
    },
    "executionInfo": {
     "elapsed": 3917,
     "status": "ok",
     "timestamp": 1679752887429,
     "user": {
      "displayName": "Гоша Сидоркин",
      "userId": "09429149278087224251"
     },
     "user_tz": -240
    },
    "id": "0DMcMP6X23zW",
    "outputId": "70ded922-c37d-41c5-f815-f8a084f4e659"
   },
   "outputs": [
    {
     "data": {
      "image/png": "[encoded data removed]",
      "text/plain": [
       "<Figure size 432x288 with 1 Axes>"
      ]
     },
     "metadata": {},
     "output_type": "display_data"
    }
   ],
   "source": [
    "df_trn_cat = targets.merge(df, how='inner', on=['user_id']) \\\n",
    "                    .merge(url_emb, how='inner', on='user_id') \\\n",
    "                    .merge(model_emb, how='inner', on=['user_id']) \\\n",
    "                    .merge(reg_emb, how='inner', on=['user_id']) \\\n",
    "                    .merge(city_emb, how='inner', on=['user_id'])\n",
    "\n",
    "df_trn_cat = df_trn_cat[df_trn_cat['age'] != 'NA']\n",
    "df_trn_cat = df_trn_cat.dropna()\n",
    "df_trn_cat['age'] = df_trn_cat['age'].map(age_bucket)\n",
    "sns.histplot(df_trn_cat['age'], bins=7)"
   ]
  },
  {
   "cell_type": "code",
   "execution_count": 33,
   "metadata": {
    "executionInfo": {
     "elapsed": 1859,
     "status": "ok",
     "timestamp": 1679752889279,
     "user": {
      "displayName": "Гоша Сидоркин",
      "userId": "09429149278087224251"
     },
     "user_tz": -240
    },
    "id": "qlR5OSkP2_OU"
   },
   "outputs": [],
   "source": [
    "# разбивка данных на train и test\n",
    "X = df_trn_cat.drop(['age', 'is_male', 'user_id'], axis=1)\n",
    "y = df_trn_cat['age']\n",
    "\n",
    "X_train, X_test, y_train, y_test = train_test_split(X,\n",
    "                                                    y,\n",
    "                                                    test_size=0.2,\n",
    "                                                    shuffle=True,\n",
    "                                                    stratify=y,\n",
    "                                                    random_state=RAND)\n",
    "\n",
    "X_train_, X_val, y_train_, y_val = train_test_split(X_train,\n",
    "                                                    y_train,\n",
    "                                                    test_size=0.16,\n",
    "                                                    shuffle=True,\n",
    "                                                    stratify=y_train,\n",
    "                                                    random_state=RAND)\n",
    "\n",
    "n_classes = len(set(y))\n",
    "y_train_bin = label_binarize(y_train, classes=list(set(y)))\n",
    "y_test_bin = label_binarize(y_test, classes=list(set(y)))"
   ]
  },
  {
   "cell_type": "code",
   "execution_count": 34,
   "metadata": {
    "colab": {
     "base_uri": "https://localhost:8080/"
    },
    "executionInfo": {
     "elapsed": 204170,
     "status": "ok",
     "timestamp": 1679755062703,
     "user": {
      "displayName": "Гоша Сидоркин",
      "userId": "09429149278087224251"
     },
     "user_tz": -240
    },
    "id": "cUvKrAGIVSCg",
    "outputId": "0de6c528-d011-4102-f0c5-6e9a56bdab61"
   },
   "outputs": [
    {
     "name": "stdout",
     "output_type": "stream",
     "text": [
      "CPU times: user 2h 2min, sys: 7min 32s, total: 2h 9min 33s\n",
      "Wall time: 36min 13s\n"
     ]
    },
    {
     "data": {
      "text/plain": [
       "<catboost.core.CatBoostClassifier at 0x7fe5c00cf4f0>"
      ]
     },
     "execution_count": 34,
     "metadata": {},
     "output_type": "execute_result"
    }
   ],
   "source": [
    "%%time\n",
    "cat_features = X.select_dtypes('category').columns.tolist()\n",
    "cat_age = CatBoostClassifier(allow_writing_files=False,\n",
    "                             cat_features=cat_features,\n",
    "                             random_state=RAND)\n",
    "eval_set = [(X_val, y_val)]\n",
    "\n",
    "cat_age.fit(X_train,\n",
    "            y_train,\n",
    "            eval_set=eval_set,\n",
    "            early_stopping_rounds=100,\n",
    "            verbose=False)"
   ]
  },
  {
   "cell_type": "code",
   "execution_count": 35,
   "metadata": {
    "colab": {
     "base_uri": "https://localhost:8080/"
    },
    "executionInfo": {
     "elapsed": 2250,
     "status": "ok",
     "timestamp": 1679755064952,
     "user": {
      "displayName": "Гоша Сидоркин",
      "userId": "09429149278087224251"
     },
     "user_tz": -240
    },
    "id": "1RHlwGu5VSnK",
    "outputId": "6e11ffc9-cdca-4737-ef50-81674f986d31"
   },
   "outputs": [
    {
     "name": "stdout",
     "output_type": "stream",
     "text": [
      "ROC-AUC train = 0.867\n",
      "ROC-AUC test = 0.789\n",
      "delta = 9.86%\n"
     ]
    }
   ],
   "source": [
    "check_overfitting_multiclass(cat_age, X_train, y_train_bin, X_test, y_test_bin)"
   ]
  },
  {
   "cell_type": "code",
   "execution_count": 36,
   "metadata": {
    "colab": {
     "base_uri": "https://localhost:8080/"
    },
    "executionInfo": {
     "elapsed": 14,
     "status": "ok",
     "timestamp": 1679755064953,
     "user": {
      "displayName": "Гоша Сидоркин",
      "userId": "09429149278087224251"
     },
     "user_tz": -240
    },
    "id": "04ViWeWxVSpd",
    "outputId": "d7c12dc1-f1e1-4036-df09-251937c5ec8d"
   },
   "outputs": [
    {
     "name": "stdout",
     "output_type": "stream",
     "text": [
      "              precision    recall  f1-score   support\n",
      "\n",
      "         <18       0.00      0.00      0.00       207\n",
      "       18-25       0.53      0.32      0.40      6528\n",
      "       25-34       0.49      0.63      0.55     17454\n",
      "       35-44       0.40      0.52      0.46     15497\n",
      "       45-54       0.38      0.22      0.28      8489\n",
      "       55-65       0.41      0.20      0.27      4716\n",
      "         65+       0.26      0.02      0.03      1101\n",
      "\n",
      "    accuracy                           0.44     53992\n",
      "   macro avg       0.35      0.27      0.28     53992\n",
      "weighted avg       0.44      0.44      0.42     53992\n",
      "\n"
     ]
    }
   ],
   "source": [
    "print(\n",
    "    m.classification_report(y_test,\n",
    "                            cat_age.predict(X_test),\n",
    "                            target_names=[\n",
    "                                '<18', '18-25', '25-34', '35-44', '45-54',\n",
    "                                '55-65', '65+'\n",
    "                            ]))"
   ]
  },
  {
   "cell_type": "code",
   "execution_count": 37,
   "metadata": {
    "colab": {
     "base_uri": "https://localhost:8080/",
     "height": 268
    },
    "executionInfo": {
     "elapsed": 758,
     "status": "ok",
     "timestamp": 1679755066156,
     "user": {
      "displayName": "Гоша Сидоркин",
      "userId": "09429149278087224251"
     },
     "user_tz": -240
    },
    "id": "Vz49ssYzVSrj",
    "outputId": "5bed5124-f62c-4646-8ba9-2dbd387541f3"
   },
   "outputs": [
    {
     "data": {
      "text/html": [
       "\n",
       "  <div id=\"df-78714ddf-8289-4e8c-8530-0530477d2b81\">\n",
       "    <div class=\"colab-df-container\">\n",
       "      <div>\n",
       "<style scoped>\n",
       "    .dataframe tbody tr th:only-of-type {\n",
       "        vertical-align: middle;\n",
       "    }\n",
       "\n",
       "    .dataframe tbody tr th {\n",
       "        vertical-align: top;\n",
       "    }\n",
       "\n",
       "    .dataframe thead th {\n",
       "        text-align: right;\n",
       "    }\n",
       "</style>\n",
       "<table border=\"1\" class=\"dataframe\">\n",
       "  <thead>\n",
       "    <tr style=\"text-align: right;\">\n",
       "      <th></th>\n",
       "      <th>model</th>\n",
       "      <th>ROC_AUC</th>\n",
       "      <th>Precision_micro</th>\n",
       "      <th>Precision_macro</th>\n",
       "      <th>Recall_micro</th>\n",
       "      <th>Recall_macro</th>\n",
       "      <th>F1_micro</th>\n",
       "      <th>F1_macro</th>\n",
       "      <th>Logloss</th>\n",
       "    </tr>\n",
       "  </thead>\n",
       "  <tbody>\n",
       "    <tr>\n",
       "      <th>0</th>\n",
       "      <td>LGBM_Baseline</td>\n",
       "      <td>0.665440</td>\n",
       "      <td>0.223941</td>\n",
       "      <td>0.206321</td>\n",
       "      <td>0.223941</td>\n",
       "      <td>0.257902</td>\n",
       "      <td>0.223941</td>\n",
       "      <td>0.186803</td>\n",
       "      <td>1.756957</td>\n",
       "    </tr>\n",
       "    <tr>\n",
       "      <th>1</th>\n",
       "      <td>CatBoost_Baseline</td>\n",
       "      <td>0.678626</td>\n",
       "      <td>0.363721</td>\n",
       "      <td>0.260785</td>\n",
       "      <td>0.363721</td>\n",
       "      <td>0.191032</td>\n",
       "      <td>0.363721</td>\n",
       "      <td>0.182633</td>\n",
       "      <td>1.483299</td>\n",
       "    </tr>\n",
       "    <tr>\n",
       "      <th>2</th>\n",
       "      <td>RandomForest_Baseline</td>\n",
       "      <td>0.630193</td>\n",
       "      <td>0.345829</td>\n",
       "      <td>0.219442</td>\n",
       "      <td>0.345829</td>\n",
       "      <td>0.180165</td>\n",
       "      <td>0.345829</td>\n",
       "      <td>0.170520</td>\n",
       "      <td>1.794659</td>\n",
       "    </tr>\n",
       "    <tr>\n",
       "      <th>0</th>\n",
       "      <td>LGBM_Baseline_embeddings</td>\n",
       "      <td>0.764762</td>\n",
       "      <td>0.344662</td>\n",
       "      <td>0.274598</td>\n",
       "      <td>0.344662</td>\n",
       "      <td>0.339979</td>\n",
       "      <td>0.344662</td>\n",
       "      <td>0.275853</td>\n",
       "      <td>1.508385</td>\n",
       "    </tr>\n",
       "    <tr>\n",
       "      <th>0</th>\n",
       "      <td>CatBoost_Baseline_embeddings</td>\n",
       "      <td>0.789473</td>\n",
       "      <td>0.444547</td>\n",
       "      <td>0.351707</td>\n",
       "      <td>0.444547</td>\n",
       "      <td>0.272629</td>\n",
       "      <td>0.444547</td>\n",
       "      <td>0.282677</td>\n",
       "      <td>1.300392</td>\n",
       "    </tr>\n",
       "  </tbody>\n",
       "</table>\n",
       "</div>\n",
       "      <button class=\"colab-df-convert\" onclick=\"convertToInteractive('df-78714ddf-8289-4e8c-8530-0530477d2b81')\"\n",
       "              title=\"Convert this dataframe to an interactive table.\"\n",
       "              style=\"display:none;\">\n",
       "        \n",
       "  <svg xmlns=\"http://www.w3.org/2000/svg\" height=\"24px\"viewBox=\"0 0 24 24\"\n",
       "       width=\"24px\">\n",
       "    <path d=\"M0 0h24v24H0V0z\" fill=\"none\"/>\n",
       "    <path d=\"M18.56 5.44l.94 2.06.94-2.06 2.06-.94-2.06-.94-.94-2.06-.94 2.06-2.06.94zm-11 1L8.5 8.5l.94-2.06 2.06-.94-2.06-.94L8.5 2.5l-.94 2.06-2.06.94zm10 10l.94 2.06.94-2.06 2.06-.94-2.06-.94-.94-2.06-.94 2.06-2.06.94z\"/><path d=\"M17.41 7.96l-1.37-1.37c-.4-.4-.92-.59-1.43-.59-.52 0-1.04.2-1.43.59L10.3 9.45l-7.72 7.72c-.78.78-.78 2.05 0 2.83L4 21.41c.39.39.9.59 1.41.59.51 0 1.02-.2 1.41-.59l7.78-7.78 2.81-2.81c.8-.78.8-2.07 0-2.86zM5.41 20L4 18.59l7.72-7.72 1.47 1.35L5.41 20z\"/>\n",
       "  </svg>\n",
       "      </button>\n",
       "      \n",
       "  <style>\n",
       "    .colab-df-container {\n",
       "      display:flex;\n",
       "      flex-wrap:wrap;\n",
       "      gap: 12px;\n",
       "    }\n",
       "\n",
       "    .colab-df-convert {\n",
       "      background-color: #E8F0FE;\n",
       "      border: none;\n",
       "      border-radius: 50%;\n",
       "      cursor: pointer;\n",
       "      display: none;\n",
       "      fill: #1967D2;\n",
       "      height: 32px;\n",
       "      padding: 0 0 0 0;\n",
       "      width: 32px;\n",
       "    }\n",
       "\n",
       "    .colab-df-convert:hover {\n",
       "      background-color: #E2EBFA;\n",
       "      box-shadow: 0px 1px 2px rgba(60, 64, 67, 0.3), 0px 1px 3px 1px rgba(60, 64, 67, 0.15);\n",
       "      fill: #174EA6;\n",
       "    }\n",
       "\n",
       "    [theme=dark] .colab-df-convert {\n",
       "      background-color: #3B4455;\n",
       "      fill: #D2E3FC;\n",
       "    }\n",
       "\n",
       "    [theme=dark] .colab-df-convert:hover {\n",
       "      background-color: #434B5C;\n",
       "      box-shadow: 0px 1px 3px 1px rgba(0, 0, 0, 0.15);\n",
       "      filter: drop-shadow(0px 1px 2px rgba(0, 0, 0, 0.3));\n",
       "      fill: #FFFFFF;\n",
       "    }\n",
       "  </style>\n",
       "\n",
       "      <script>\n",
       "        const buttonEl =\n",
       "          document.querySelector('#df-78714ddf-8289-4e8c-8530-0530477d2b81 button.colab-df-convert');\n",
       "        buttonEl.style.display =\n",
       "          google.colab.kernel.accessAllowed ? 'block' : 'none';\n",
       "\n",
       "        async function convertToInteractive(key) {\n",
       "          const element = document.querySelector('#df-78714ddf-8289-4e8c-8530-0530477d2b81');\n",
       "          const dataTable =\n",
       "            await google.colab.kernel.invokeFunction('convertToInteractive',\n",
       "                                                     [key], {});\n",
       "          if (!dataTable) return;\n",
       "\n",
       "          const docLinkHtml = 'Like what you see? Visit the ' +\n",
       "            '<a target=\"_blank\" href=https://colab.research.google.com/notebooks/data_table.ipynb>data table notebook</a>'\n",
       "            + ' to learn more about interactive tables.';\n",
       "          element.innerHTML = '';\n",
       "          dataTable['output_type'] = 'display_data';\n",
       "          await google.colab.output.renderOutput(dataTable, element);\n",
       "          const docLink = document.createElement('div');\n",
       "          docLink.innerHTML = docLinkHtml;\n",
       "          element.appendChild(docLink);\n",
       "        }\n",
       "      </script>\n",
       "    </div>\n",
       "  </div>\n",
       "  "
      ],
      "text/plain": [
       "                          model   ROC_AUC  Precision_micro  Precision_macro  \\\n",
       "0                 LGBM_Baseline  0.665440         0.223941         0.206321   \n",
       "1             CatBoost_Baseline  0.678626         0.363721         0.260785   \n",
       "2         RandomForest_Baseline  0.630193         0.345829         0.219442   \n",
       "0      LGBM_Baseline_embeddings  0.764762         0.344662         0.274598   \n",
       "0  CatBoost_Baseline_embeddings  0.789473         0.444547         0.351707   \n",
       "\n",
       "   Recall_micro  Recall_macro  F1_micro  F1_macro   Logloss  \n",
       "0      0.223941      0.257902  0.223941  0.186803  1.756957  \n",
       "1      0.363721      0.191032  0.363721  0.182633  1.483299  \n",
       "2      0.345829      0.180165  0.345829  0.170520  1.794659  \n",
       "0      0.344662      0.339979  0.344662  0.275853  1.508385  \n",
       "0      0.444547      0.272629  0.444547  0.282677  1.300392  "
      ]
     },
     "execution_count": 37,
     "metadata": {},
     "output_type": "execute_result"
    }
   ],
   "source": [
    "y_pred = cat_age.predict(X_test)\n",
    "y_score = cat_age.predict_proba(X_test)\n",
    "\n",
    "metrics_age = metrics_age.append(\n",
    "    get_metrics_multiclass(y_test_bin=y_test_bin,\n",
    "                           y_test=y_test,\n",
    "                           y_pred=y_pred,\n",
    "                           y_prob=y_score,\n",
    "                           name='CatBoost_Baseline_embeddings',\n",
    "                           type_multi='ovo'))\n",
    "metrics_age"
   ]
  },
  {
   "cell_type": "markdown",
   "metadata": {
    "id": "DQXHdNflY-7k"
   },
   "source": [
    "Вывод: самые высокие метрики у catboost с эмбеддингами"
   ]
  },
  {
   "cell_type": "code",
   "execution_count": 38,
   "metadata": {
    "executionInfo": {
     "elapsed": 518,
     "status": "ok",
     "timestamp": 1679755066672,
     "user": {
      "displayName": "Гоша Сидоркин",
      "userId": "09429149278087224251"
     },
     "user_tz": -240
    },
    "id": "gFTTR9-FZQQ-"
   },
   "outputs": [],
   "source": [
    "metrics_age.to_csv('metrics/metrics_age_embeddings.csv', index=False)"
   ]
  },
  {
   "cell_type": "markdown",
   "metadata": {
    "id": "GPH39WdkZEXM"
   },
   "source": [
    "# Submission"
   ]
  },
  {
   "cell_type": "code",
   "execution_count": null,
   "metadata": {
    "colab": {
     "base_uri": "https://localhost:8080/"
    },
    "executionInfo": {
     "elapsed": 199643,
     "status": "ok",
     "timestamp": 1678910698456,
     "user": {
      "displayName": "Гоша Сидоркин",
      "userId": "09429149278087224251"
     },
     "user_tz": -240
    },
    "id": "jh9hTGlIexcT",
    "outputId": "19215bf5-e439-474e-a865-08dc9157571b"
   },
   "outputs": [
    {
     "data": {
      "text/plain": [
       "<catboost.core.CatBoostClassifier at 0x7fa2fa809af0>"
      ]
     },
     "execution_count": 48,
     "metadata": {},
     "output_type": "execute_result"
    }
   ],
   "source": [
    "cat_gender.fit(df_train.drop(['user_id', 'age', 'is_male'], axis=1),\n",
    "               df_train['is_male'],\n",
    "               verbose=False)"
   ]
  },
  {
   "cell_type": "code",
   "execution_count": null,
   "metadata": {
    "id": "D1TcSvh4VVau"
   },
   "outputs": [],
   "source": [
    "id_to_sub_data = id_to_submit.merge(df, how='inner', on=['user_id']) \\\n",
    "    .merge(url_emb, how='inner', on='user_id') \\\n",
    "    .merge(city_emb, how='inner', on=['user_id']) \\\n",
    "    .merge(reg_emb, how='inner', on=['user_id']) \\\n",
    "    .merge(model_emb, how='inner', on=['user_id']) \\\n",
    "    .drop('user_id', axis=1)\n",
    "\n",
    "id_to_submit['is_male'] = cat_gender.predict_proba(id_to_sub_data)[:, 1]"
   ]
  },
  {
   "cell_type": "code",
   "execution_count": null,
   "metadata": {
    "colab": {
     "base_uri": "https://localhost:8080/"
    },
    "executionInfo": {
     "elapsed": 1380888,
     "status": "ok",
     "timestamp": 1678912081084,
     "user": {
      "displayName": "Гоша Сидоркин",
      "userId": "09429149278087224251"
     },
     "user_tz": -240
    },
    "id": "Jp7ux6q2gif6",
    "outputId": "9b19e29b-19ad-4b7c-ae61-c9f038dfaf80"
   },
   "outputs": [
    {
     "data": {
      "text/plain": [
       "<catboost.core.CatBoostClassifier at 0x7fa2fa795400>"
      ]
     },
     "execution_count": 51,
     "metadata": {},
     "output_type": "execute_result"
    }
   ],
   "source": [
    "cat_age.fit(df_trn.drop(['age', 'is_male', 'user_id'], axis=1),\n",
    "            df_trn['age'],\n",
    "            verbose=False)"
   ]
  },
  {
   "cell_type": "code",
   "execution_count": null,
   "metadata": {
    "id": "0F-ZQ6bZpyBL"
   },
   "outputs": [],
   "source": [
    "id_to_submit['age'] = cat_age.predict(id_to_sub_data)"
   ]
  },
  {
   "cell_type": "code",
   "execution_count": null,
   "metadata": {
    "id": "eNSO6xGCpyFO"
   },
   "outputs": [],
   "source": [
    "import datetime\n",
    "\n",
    "cur_time = str(datetime.datetime.now()).replace(' ', '_')[:16]\n",
    "sub_name = 'submissions/submission_' + cur_time + '.csv'\n",
    "id_to_submit.to_csv(sub_name, index=False)"
   ]
  }
 ],
 "metadata": {
  "colab": {
   "authorship_tag": "ABX9TyNmtzDWcVrkThTc4GyoQ3S9",
   "machine_shape": "hm",
   "mount_file_id": "1tl-Ognw3BL4v7wcL5ciCGBceg5hJybU0",
   "provenance": [],
   "toc_visible": true
  },
  "gpuClass": "standard",
  "kernelspec": {
   "display_name": "Python 3 (ipykernel)",
   "language": "python",
   "name": "python3"
  },
  "language_info": {
   "codemirror_mode": {
    "name": "ipython",
    "version": 3
   },
   "file_extension": ".py",
   "mimetype": "text/x-python",
   "name": "python",
   "nbconvert_exporter": "python",
   "pygments_lexer": "ipython3",
   "version": "3.9.10"
  },
  "toc": {
   "base_numbering": 1,
   "nav_menu": {},
   "number_sections": true,
   "sideBar": true,
   "skip_h1_title": false,
   "title_cell": "Table of Contents",
   "title_sidebar": "Contents",
   "toc_cell": false,
   "toc_position": {},
   "toc_section_display": true,
   "toc_window_display": false
  }
 },
 "nbformat": 4,
 "nbformat_minor": 1
}